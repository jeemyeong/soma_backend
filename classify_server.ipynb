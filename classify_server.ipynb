{
 "cells": [
  {
   "cell_type": "markdown",
   "metadata": {},
   "source": []
  },
  {
   "cell_type": "code",
   "execution_count": 1,
   "metadata": {
    "collapsed": true
   },
   "outputs": [],
   "source": [
    "from sklearn.externals import joblib"
   ]
  },
  {
   "cell_type": "code",
   "execution_count": 2,
   "metadata": {
    "collapsed": true
   },
   "outputs": [],
   "source": [
    "\n",
    "clf = joblib.load('classify.model')\n",
    "cate_dict = joblib.load('cate_dict.dat')\n",
    "vectorizer = joblib.load('vectorizer.dat')\n"
   ]
  },
  {
   "cell_type": "code",
   "execution_count": 3,
   "metadata": {
    "collapsed": false
   },
   "outputs": [
    {
     "data": {
      "text/plain": [
       "['n_classify.model',\n",
       " 'n_classify.model_01.npy',\n",
       " 'n_classify.model_02.npy',\n",
       " 'n_classify.model_03.npy']"
      ]
     },
     "execution_count": 3,
     "metadata": {},
     "output_type": "execute_result"
    }
   ],
   "source": [
    "joblib.dump(clf,'n_classify.model')"
   ]
  },
  {
   "cell_type": "code",
   "execution_count": 4,
   "metadata": {
    "collapsed": false
   },
   "outputs": [
    {
     "data": {
      "text/plain": [
       "['n_vectorizer.dat']"
      ]
     },
     "execution_count": 4,
     "metadata": {},
     "output_type": "execute_result"
    }
   ],
   "source": [
    "joblib.dump(cate_dict,'n_cate_dict.dat')\n",
    "joblib.dump(vectorizer,'n_vectorizer.dat')"
   ]
  },
  {
   "cell_type": "code",
   "execution_count": 5,
   "metadata": {
    "collapsed": false
   },
   "outputs": [],
   "source": [
    "cate_id_name_dict = dict(map(lambda (k,v):(v,k),cate_dict.items()))"
   ]
  },
  {
   "cell_type": "code",
   "execution_count": null,
   "metadata": {
    "collapsed": false
   },
   "outputs": [
    {
     "name": "stdout",
     "output_type": "stream",
     "text": [
      "패션의류;아동의류;한복\n"
     ]
    }
   ],
   "source": [
    "pred = clf.predict(vectorizer.transform(['[신한카드5%할인][서우한복] 아동한복 여자아동 금나래 (분홍)']))[0]\n",
    "print cate_id_name_dict[pred]"
   ]
  },
  {
   "cell_type": "code",
   "execution_count": null,
   "metadata": {
    "collapsed": false
   },
   "outputs": [
    {
     "name": "stderr",
     "output_type": "stream",
     "text": [
      "Bottle v0.12.9 server starting up (using WSGIRefServer())...\n",
      "Listening on http://0.0.0.0:8887/\n",
      "Hit Ctrl-C to quit.\n",
      "\n",
      "10.0.2.2 - - [21/Aug/2016 18:27:12] \"GET / HTTP/1.1\" 404 724\n",
      "10.0.2.2 - - [21/Aug/2016 18:27:13] \"GET /favicon.ico HTTP/1.1\" 404 746\n",
      "10.0.2.2 - - [21/Aug/2016 18:27:16] \"GET / HTTP/1.1\" 404 724\n",
      "10.0.2.2 - - [21/Aug/2016 18:27:21] \"GET / HTTP/1.1\" 404 724\n"
     ]
    },
    {
     "name": "stdout",
     "output_type": "stream",
     "text": [
      "classify called\n",
      "classify called\n",
      "classify called\n",
      "classify called\n",
      "classify called\n",
      "classify called\n",
      "classify called\n",
      "classify called\n",
      "classify called\n",
      "classify called\n",
      "classify called\n",
      "classify called\n",
      "classify called\n",
      "classify called\n",
      "classify called\n",
      "classify called\n"
     ]
    },
    {
     "name": "stderr",
     "output_type": "stream",
     "text": [
      "10.0.2.2 - - [21/Aug/2016 18:27:35] \"GET /classify?name=%EC%9D%B8%ED%85%94CPU%EC%BD%94%EC%96%B4%20i3-4%EC%84%B8%EB%8C%80%20%ED%95%98%EC%8A%A4%EC%9B%B0%20%EB%A6%AC%ED%94%84%EB%A0%88%EC%8B%9C%204160(3.6GHz/INTEL)&img=http://shopping.phinf.naver.net/main_7975500/7975500771.jpg HTTP/1.1\" 200 62\n",
      "10.0.2.2 - - [21/Aug/2016 18:27:35] \"GET /classify?name=[4%%EC%A6%89%EC%8B%9C%ED%95%A0%EC%9D%B8%EC%BF%A0%ED%8F%B0]%EC%9D%B8%ED%85%94%20intel%20%EC%BD%94%EC%96%B44%EC%84%B8%EB%8C%80%20%ED%95%98%EC%8A%A4%EC%9B%B0%20i3-4160&img=http://shopping.phinf.naver.net/main_8350292/8350292853.jpg HTTP/1.1\" 200 62\n",
      "10.0.2.2 - - [21/Aug/2016 18:27:35] \"GET /classify?name=%EC%9D%B8%ED%85%94%20%EC%BD%94%EC%96%B4i3-4%EC%84%B8%EB%8C%80%204160%20(%ED%95%98%EC%8A%A4%EC%9B%B0%20%EB%A6%AC%ED%94%84%EB%A0%88%EC%8B%9C)%20(%EB%B2%8C%ED%81%AC)&img=http://shopping.phinf.naver.net/main_7939938/7939938154.jpg HTTP/1.1\" 200 62\n",
      "10.0.2.2 - - [21/Aug/2016 18:27:35] \"GET /classify?name=ICODA%20[%EB%8C%80%EB%A6%AC%EC%A0%90%EC%A0%95%ED%92%88]%EC%9D%B8%ED%85%94%20%EC%A0%9C%EC%98%A8%20E5-2640V3%20%ED%95%98%EC%8A%A4%EC%9B%B0-EP%20(2.6GHz/8C/20MB/LGA2011-V3)%20[%EC%BF%A8%EB%9F%AC%EB%AF%B8%ED%8F%AC%ED%95%A8]&img=http://shopping.phinf.naver.net/main_8359760/8359760466.jpg HTTP/1.1\" 200 62\n",
      "10.0.2.2 - - [21/Aug/2016 18:27:35] \"GET /classify?name=%EB%8D%B8Dell%20%EC%97%90%EC%9D%BC%EB%A6%AC%EC%96%B8%EC%9B%A8%EC%96%B4%2013%20X54E501AKR%20[i5-4210U/8G/1TB/13.3%ED%98%95FHD/GTX860%202G]&img=http://shopping.phinf.naver.net/main_8367575/8367575310.jpg HTTP/1.1\" 200 62\n",
      "10.0.2.2 - - [21/Aug/2016 18:27:35] \"GET /classify?name=%EC%95%A0%ED%94%8C%20%EB%A7%A5%EB%B6%81%EC%97%90%EC%96%B4%2013%ED%98%95%20MacBook%20Air%2013.3/1.6/4/128FLASH%20MJVE2KH/A%20(%EA%B8%B0%EC%A1%B4%EA%B0%80:1250000%EC%9B%90)&img=http://shopping.phinf.naver.net/main_8393059/8393059454.jpg HTTP/1.1\" 200 62\n",
      "10.0.2.2 - - [21/Aug/2016 18:27:35] \"GET /classify?name=%EC%9D%B8%ED%85%94%20%ED%8E%9C%ED%8B%B0%EC%97%84%20%ED%95%98%EC%8A%A4%EC%9B%B0%20G3258&img=http://shopping.phinf.naver.net/main_7808758/7808758563.20140714102303.jpg HTTP/1.1\" 200 62\n",
      "10.0.2.2 - - [21/Aug/2016 18:27:35] \"GET /classify?name=%EC%9D%B8%ED%85%94%20%ED%95%98%EC%8A%A4%EC%9B%B0%20%EB%A6%AC%ED%94%84%EB%A0%88%EC%8B%9C%204460&img=http://shopping.phinf.naver.net/main_7680589/7680589707.20140513153341.jpg HTTP/1.1\" 200 62\n",
      "10.0.2.2 - - [21/Aug/2016 18:27:35] \"GET /classify?name=%EC%9D%B8%ED%85%94%20%EC%BD%94%EC%96%B4%20i3%20%EC%95%84%EC%9D%B4%EB%B9%84%EB%B8%8C%EB%A6%BF%EC%A7%80%203240&img=http://shopping.phinf.naver.net/main_6571999/6571999387.20120917145814.jpg HTTP/1.1\" 200 62\n",
      "10.0.2.2 - - [21/Aug/2016 18:27:35] \"GET /classify?name=AMD%20%EC%B9%B4%EB%B2%A0%EB%A6%AC%207850K&img=http://shopping.phinf.naver.net/main_7417523/7417523561.20140116102830.jpg HTTP/1.1\" 200 62\n",
      "10.0.2.2 - - [21/Aug/2016 18:27:35] \"GET /classify?name=%EC%9D%B8%ED%85%94%20%EC%85%80%EB%9F%AC%EB%A1%A0%20%EC%95%84%EC%9D%B4%EB%B9%84%EB%B8%8C%EB%A6%BF%EC%A7%80%20G1610&img=http://shopping.phinf.naver.net/main_6736638/6736638537.20130129155750.jpg HTTP/1.1\" 200 62\n",
      "10.0.2.2 - - [21/Aug/2016 18:27:35] \"GET /classify?name=%EC%9D%B8%ED%85%94%20%EC%BD%94%EC%96%B42%20%EC%BF%BC%EB%93%9C%20%EC%BC%84%EC%B8%A0%ED%95%84%EB%93%9C%20Q6600&img=http://shopping.phinf.naver.net/main_4038912/4038912044.20120211213604.jpg HTTP/1.1\" 200 62\n",
      "10.0.2.2 - - [21/Aug/2016 18:27:35] \"GET /classify?name=AMD%20%EC%95%A0%EC%8A%AC%EB%A1%A0%20%EC%B9%B4%EB%B9%84%EB%8B%88%205150&img=http://shopping.phinf.naver.net/main_7656791/7656791348.20140429113148.jpg HTTP/1.1\" 200 62\n",
      "10.0.2.2 - - [21/Aug/2016 18:27:35] \"GET /classify?name=%EC%9D%B8%ED%85%94%20%EC%A0%9C%EC%98%A8%20%ED%95%98%EC%8A%A4%EC%9B%B0-EP%20E5-2697V3&img=http://shopping.phinf.naver.net/main_8219836/8219836165.20150119172749.jpg HTTP/1.1\" 200 62\n",
      "10.0.2.2 - - [21/Aug/2016 18:27:35] \"GET /classify?name=AMD%20%EB%8D%B0%EB%84%A4%EB%B8%8C%20955&img=http://shopping.phinf.naver.net/main_5707410/5707410293.20120211194246.jpg HTTP/1.1\" 200 62\n",
      "10.0.2.2 - - [21/Aug/2016 18:27:35] \"GET /classify?name=%E6%AD%A3%E5%93%81%20%EC%9D%B8%ED%85%94%20%EC%BD%94%EC%96%B44%EC%84%B8%EB%8C%80%20i3-4150%20%EB%B2%8C%ED%81%AC(%ED%95%98%EC%8A%A4%EC%9B%B0%20%EB%A6%AC%ED%94%8C%EB%A0%88%EC%8B%9C/3.5GHz/3MB/%EC%BF%A8%EB%9F%AC%EB%AF%B8%ED%8F%AC%ED%95%A8)[1%EB%B0%952%EC%9D%BC%20%EB%8B%B9%EC%9D%BC%EB%B0%9C%EC%86%A1]&img=http://shopping.phinf.naver.net/main_8260631/8260631110.jpg HTTP/1.1\" 200 62\n",
      "10.0.2.2 - - [21/Aug/2016 18:27:35] \"GET /classify?name=AMD%20%EB%A6%AC%EC%B9%98%EB%9E%9C%EB%93%9C%206300&img=http://shopping.phinf.naver.net/main_7389855/7389855215.20140113160538.jpg HTTP/1.1\" 200 62\n",
      "10.0.2.2 - - [21/Aug/2016 18:27:35] \"GET /classify?name=%EC%9D%B8%ED%85%94%20%EC%A0%9C%EC%98%A8%20%EC%95%84%EC%9D%B4%EB%B9%84%EB%B8%8C%EB%A6%BF%EC%A7%80%20E5-2690V2&img=http://shopping.phinf.naver.net/main_7534573/7534573561.20140304164213.jpg HTTP/1.1\" 200 62\n",
      "10.0.2.2 - - [21/Aug/2016 18:27:35] \"GET /classify?name=[4%%EC%A6%89%EC%8B%9C%ED%95%A0%EC%9D%B8%EC%BF%A0%ED%8F%B0]%EC%9D%B8%ED%85%94%20%EC%BD%94%EC%96%B4%20i5%204%EC%84%B8%EB%8C%80%204690%20%ED%95%98%EC%8A%A4%EC%9B%B0%20%EB%A6%AC%ED%94%84%EB%A0%88%EC%8B%9C%203.5GHz&img=http://shopping.phinf.naver.net/main_8265481/8265481156.jpg HTTP/1.1\" 200 62\n",
      "10.0.2.2 - - [21/Aug/2016 18:27:35] \"GET /classify?name=YBH%20%EC%9D%B8%ED%85%94%20%EC%BD%94%EC%96%B4i3-4%EC%84%B8%EB%8C%80%204160%20(%ED%95%98%EC%8A%A4%EC%9B%B0%20%EB%A6%AC%ED%94%84%EB%A0%88%EC%8B%9C)%20(%EC%A0%95%ED%92%88)&img=http://shopping.phinf.naver.net/main_8258571/8258571328.jpg HTTP/1.1\" 200 62\n",
      "10.0.2.2 - - [21/Aug/2016 18:27:35] \"GET /classify?name=[4%%EC%A6%89%EC%8B%9C%ED%95%A0%EC%9D%B8%EC%BF%A0%ED%8F%B0][AMD%20%EC%A0%95%ED%92%88]%20%ED%8A%B8%EB%A6%AC%EB%8B%88%ED%8B%B0%20A6%205400k%20(3.6GHz)%20/(%EC%A3%BC)%EB%B9%84%EC%97%98%EB%B9%84%EC%A6%88%2002-711-3540&img=http://shopping.phinf.naver.net/main_8276739/8276739296.jpg HTTP/1.1\" 200 62\n",
      "10.0.2.2 - - [21/Aug/2016 18:27:35] \"GET /classify?name=%7BBLBiz%7D%20AMD%20%EC%95%A0%EC%8A%AC%EB%A1%A0%20APU%205350%20(%EC%B9%B4%EB%B9%84%EB%8B%88)%20(%EC%A0%95%ED%92%88)&img=http://shopping.phinf.naver.net/main_8281705/8281705849.jpg HTTP/1.1\" 200 62\n",
      "10.0.2.2 - - [21/Aug/2016 18:27:35] \"GET /classify?name=%EC%9D%B8%ED%85%94%20%ED%8E%9C%ED%8B%B0%EC%97%84%20G3460%20(%ED%95%98%EC%8A%A4%EC%9B%B0%20%EB%A6%AC%ED%94%84%EB%A0%88%EC%8B%9C)%20(%EB%B2%8C%ED%81%AC/%EC%BF%A8%EB%9F%ACX)[%20%20%EB%8B%A8%EA%B3%A8%EC%B6%94%EA%B0%80%ED%95%A0%EC%9D%B8/%EB%B0%A9%EB%AC%B8%EC%88%98%EB%A0%B9/%EB%8B%B9%EC%9D%BC%EC%B6%9C%EA%B3%A0%20%20]&img=http://shopping.phinf.naver.net/main_8281671/8281671805.jpg HTTP/1.1\" 200 62\n",
      "10.0.2.2 - - [21/Aug/2016 18:27:35] \"GET /classify?name=%EC%9D%B8%ED%85%94%20%EC%A0%9C%EC%98%A8%20%EC%95%84%EC%9D%B4%EB%B9%84%EB%B8%8C%EB%A6%BF%EC%A7%80%20E5-2680V2&img=http://shopping.phinf.naver.net/main_7534606/7534606762.20140304172305.jpg HTTP/1.1\" 200 62\n",
      "10.0.2.2 - - [21/Aug/2016 18:27:35] \"GET /classify?name=[4%%EC%A6%89%EC%8B%9C%ED%95%A0%EC%9D%B8%EC%BF%A0%ED%8F%B0]%20%EC%9D%B8%ED%85%94%20G3440%20(%EC%A0%95%ED%92%88)&img=http://shopping.phinf.naver.net/main_8276155/8276155769.jpg HTTP/1.1\" 200 62\n",
      "10.0.2.2 - - [21/Aug/2016 18:27:35] \"GET /classify?name=%EC%9D%B8%ED%85%94%20%ED%95%98%EC%8A%A4%EC%9B%B0%20%EB%A6%AC%ED%94%84%EB%A0%88%EC%8B%9C%204690&img=http://shopping.phinf.naver.net/main_7680476/7680476649.20140513142455.jpg HTTP/1.1\" 200 62\n",
      "10.0.2.2 - - [21/Aug/2016 18:27:35] \"GET /classify?name=[4%%EC%A6%89%EC%8B%9C%ED%95%A0%EC%9D%B8%EC%BF%A0%ED%8F%B0]xeon%20E5440%EC%BF%BC%EB%93%9C%EC%BD%94%EC%96%B4%202.83G%20%EC%A0%9C%EC%98%A8E5440&img=http://shopping.phinf.naver.net/main_8276237/8276237505.jpg HTTP/1.1\" 200 62\n",
      "10.0.2.2 - - [21/Aug/2016 18:27:35] \"GET /classify?name=%EC%9D%B8%ED%85%94%20%EC%A0%9C%EC%98%A8%20%EC%95%84%EC%9D%B4%EB%B8%8C%EB%A6%BF%EC%A7%80%20E3-1240V2&img=http://shopping.phinf.naver.net/main_6573389/6573389955.20120917142627.jpg HTTP/1.1\" 200 62\n",
      "10.0.2.2 - - [21/Aug/2016 18:27:35] \"GET /classify?name=[4%%EC%A6%89%EC%8B%9C%ED%95%A0%EC%9D%B8%EC%BF%A0%ED%8F%B0]%EC%9D%B8%ED%85%94%20intel%20%EC%BD%94%EC%96%B44%EC%84%B8%EB%8C%80%20%ED%95%98%EC%8A%A4%EC%9B%B0%20i5-4690&img=http://shopping.phinf.naver.net/main_8351196/8351196291.jpg HTTP/1.1\" 200 62\n"
     ]
    },
    {
     "name": "stdout",
     "output_type": "stream",
     "text": [
      "classify called\n",
      "classify called\n",
      "classify called\n",
      "classify called\n",
      "classify called\n",
      "classify called\n",
      "classify called\n",
      "classify called\n",
      "classify called\n",
      "classify called\n",
      "classify called\n",
      "classify called\n",
      "classify called\n",
      "classify called\n",
      "classify called\n",
      "classify called\n",
      "classify called\n",
      "classify called\n",
      "classify called\n",
      "classify called\n",
      "classify called\n",
      "classify called\n",
      "classify called\n",
      "classify called\n",
      "classify called\n",
      "classify called\n",
      "classify called\n",
      "classify called\n",
      "classify called\n"
     ]
    },
    {
     "name": "stderr",
     "output_type": "stream",
     "text": [
      "10.0.2.2 - - [21/Aug/2016 18:27:35] \"GET /classify?name=[%ED%94%BC%EC%94%A8%EC%82%AC%EC%9E%90]%20%EC%9D%B8%ED%85%94%20%EC%BD%94%EC%96%B4i5-4%EC%84%B8%EB%8C%80%204690%20(%ED%95%98%EC%8A%A4%EC%9B%B0%20%EB%A6%AC%ED%94%84%EB%A0%88%EC%8B%9C)%20(%EB%B2%8C%ED%81%AC)&img=http://shopping.phinf.naver.net/main_8097113/8097113683.jpg HTTP/1.1\" 200 62\n",
      "10.0.2.2 - - [21/Aug/2016 18:27:35] \"GET /classify?name=%EC%9D%B8%ED%85%94%20%EC%BD%94%EC%96%B4%20i5%204%EC%84%B8%EB%8C%80%204690K%20%EB%8D%B0%EB%B9%8C%EC%8A%A4%EC%BA%90%EB%85%84%20_%EC%BB%B4%ED%93%A8%ED%84%B0/%EB%B6%80%ED%92%88/CPU&img=http://shopping.phinf.naver.net/main_8352308/8352308550.jpg HTTP/1.1\" 200 62\n",
      "10.0.2.2 - - [21/Aug/2016 18:27:35] \"GET /classify?name=[%EB%A7%88%EC%9D%B4%ED%94%BC%EC%94%A8%EC%83%B5]%20%EC%9D%B8%ED%85%94%20%EC%BD%94%EC%96%B4i5-4%EC%84%B8%EB%8C%80%204690%20(%ED%95%98%EC%8A%A4%EC%9B%B0%20%EB%A6%AC%ED%94%84%EB%A0%88%EC%8B%9C)%20(%EC%A0%95%ED%92%88)&img=http://shopping.phinf.naver.net/main_7802929/7802929194.jpg HTTP/1.1\" 200 62\n",
      "10.0.2.2 - - [21/Aug/2016 18:27:35] \"GET /classify?name=[%ED%95%B4%EC%99%B8]IntelIntel%20MOBILE%20PENTIUM%204%20SL6FK:%202%20GHz%20400%20MHz%20512KB%20478%20Pin&img=http://shopping.phinf.naver.net/main_8275919/8275919989.jpg HTTP/1.1\" 200 62\n",
      "10.0.2.2 - - [21/Aug/2016 18:27:35] \"GET /classify?name=[%ED%95%B4%EC%99%B8]AMDAMD%20A6-5400K%20APU%203.6Ghz%20Dual-Core%20Processor%20AD540KOKHJBOX&img=http://shopping.phinf.naver.net/main_8275987/8275987253.jpg HTTP/1.1\" 200 62\n",
      "10.0.2.2 - - [21/Aug/2016 18:27:35] \"GET /classify?name=[4%%EC%A6%89%EC%8B%9C%ED%95%A0%EC%9D%B8%EC%BF%A0%ED%8F%B0]%EC%98%AC%ED%85%8C%ED%81%AC%20%ED%8E%80%EC%BF%A8%EB%9F%AC%20FC-8015-2P-BALL&img=http://shopping.phinf.naver.net/main_8268069/8268069269.jpg HTTP/1.1\" 200 109\n",
      "10.0.2.2 - - [21/Aug/2016 18:27:35] \"GET /classify?name=[4%%EC%A6%89%EC%8B%9C%ED%95%A0%EC%9D%B8%EC%BF%A0%ED%8F%B0]%EC%9D%B8%ED%85%94%20%EC%BD%94%EC%96%B4i3-4%EC%84%B8%EB%8C%80%204330%20(%ED%95%98%EC%8A%A4%EC%9B%B0)%20(%EC%A0%95%ED%92%88)&img=http://shopping.phinf.naver.net/main_8278218/8278218985.jpg HTTP/1.1\" 200 62\n",
      "10.0.2.2 - - [21/Aug/2016 18:27:35] \"GET /classify?name=[4%%EC%A6%89%EC%8B%9C%ED%95%A0%EC%9D%B8%EC%BF%A0%ED%8F%B0]SAFE-1000H&img=http://shopping.phinf.naver.net/main_8277623/8277623877.jpg HTTP/1.1\" 200 79\n",
      "10.0.2.2 - - [21/Aug/2016 18:27:35] \"GET /classify?name=%EC%9D%B8%ED%85%94%20%EC%BD%94%EC%96%B4i3-4%EC%84%B8%EB%8C%80%204370%20%ED%95%98%EC%8A%A4%EC%9B%B0%20%EB%A6%AC%ED%94%84%EB%A0%88%EC%8B%9C%20(%EB%B2%8C%ED%81%AC/%EC%BF%A8%EB%9F%ACX&img=http://shopping.phinf.naver.net/main_8276685/8276685129.jpg HTTP/1.1\" 200 62\n",
      "10.0.2.2 - - [21/Aug/2016 18:27:35] \"GET /classify?name=[%ED%95%B4%EC%99%B8]IntelIntel%20Core%20i3-4130%203.4%203%20FCLGA%201150%20Processor%20BX80646I34130&img=http://shopping.phinf.naver.net/main_8275987/8275987264.jpg HTTP/1.1\" 200 62\n",
      "10.0.2.2 - - [21/Aug/2016 18:27:35] \"GET /classify?name=[%ED%95%B4%EC%99%B8]IntelIntel%20i7-4820K%20FCLGA2011%203.70%20GHz%2064%20bit%20Processor%2010MB%20Cache&img=http://shopping.phinf.naver.net/main_8275920/8275920068.jpg HTTP/1.1\" 200 62\n",
      "10.0.2.2 - - [21/Aug/2016 18:27:35] \"GET /classify?name=[%ED%95%B4%EC%99%B8]HPHP%20Xeon%205140%202.33GHZ%20Dc%20Processor%20for%20BL460C&img=http://shopping.phinf.naver.net/main_8275919/8275919876.jpg HTTP/1.1\" 200 62\n",
      "10.0.2.2 - - [21/Aug/2016 18:27:35] \"GET /classify?name=[%ED%95%B4%EC%99%B8]IBMIBM%20Xeon%20E5-2650V2%202.6%20GHz%208%20LGA%202011%20Processor%2046W4365&img=http://shopping.phinf.naver.net/main_8275919/8275919908.jpg HTTP/1.1\" 200 62\n",
      "10.0.2.2 - - [21/Aug/2016 18:27:35] \"GET /classify?name=[%ED%95%B4%EC%99%B8]IntelIntel%20I5-4440%20Processor%20BX80646I54440&img=http://shopping.phinf.naver.net/main_8275920/8275920103.jpg HTTP/1.1\" 200 62\n",
      "10.0.2.2 - - [21/Aug/2016 18:27:35] \"GET /classify?name=[%ED%95%B4%EC%99%B8]IntelIntel%20Core%20i7-5960X%20Haswell-E%208-Core%203.0GHz%20LGA%202011-v3%20140W%20Desktop%20Processor%20BX80648I7596&img=http://shopping.phinf.naver.net/main_8275920/8275920074.jpg HTTP/1.1\" 200 62\n",
      "10.0.2.2 - - [21/Aug/2016 18:27:35] \"GET /classify?name=[%ED%95%B4%EC%99%B8]IntelIntel%20Xeon%20E5-2403%201.8%20GHz%20Processor%20BX80621E52403&img=http://shopping.phinf.naver.net/main_8275919/8275919886.jpg HTTP/1.1\" 200 62\n"
     ]
    },
    {
     "name": "stdout",
     "output_type": "stream",
     "text": [
      "classify called\n",
      "classify called\n",
      "classify called\n",
      "classify called\n",
      "classify called\n",
      "classify called\n",
      "classify called\n",
      "classify called\n",
      "classify called\n",
      "classify called\n",
      "classify called\n",
      "classify called\n",
      "classify called\n",
      "classify called\n",
      "classify called\n",
      "classify called\n"
     ]
    },
    {
     "name": "stderr",
     "output_type": "stream",
     "text": [
      "10.0.2.2 - - [21/Aug/2016 18:27:35] \"GET /classify?name=[%ED%95%B4%EC%99%B8]IntelIntel%20Xeon%20E3-1245V3%20Haswell%203.4GHz%208MB%20L3%20Cache%20LGA%201150%2084W%20Quad-Core%20Server%20Processor%20BX&img=http://shopping.phinf.naver.net/main_8275919/8275919954.jpg HTTP/1.1\" 200 62\n",
      "10.0.2.2 - - [21/Aug/2016 18:27:35] \"GET /classify?name=[%ED%95%B4%EC%99%B8]IntelIntel%20Xeon%206C%20E5%202620%202.0%20GHz%206%20LGA%202011%20Processor%20BX80621E52620&img=http://shopping.phinf.naver.net/main_8275919/8275919956.jpg HTTP/1.1\" 200 62\n",
      "10.0.2.2 - - [21/Aug/2016 18:27:35] \"GET /classify?name=[%ED%95%B4%EC%99%B8]HPHP%20Xeon%20E5-2620%202%20GHz%206%20LGA%202011%20Processor%20660598-B21&img=http://shopping.phinf.naver.net/main_8275919/8275919893.jpg HTTP/1.1\" 200 62\n",
      "10.0.2.2 - - [21/Aug/2016 18:27:35] \"GET /classify?name=[%ED%95%B4%EC%99%B8]IntelIntel%20Core%20i7-3820%20Quad-Core%20Processor%203.6%20GHz%2010%20MB%20Cache%20LGA%202011%20-%20BX80619I73820&img=http://shopping.phinf.naver.net/main_8275920/8275920058.jpg HTTP/1.1\" 200 62\n",
      "10.0.2.2 - - [21/Aug/2016 18:27:35] \"GET /classify?name=[%ED%95%B4%EC%99%B8][%EA%B5%AC%EB%A7%A4%EB%8C%80%ED%96%89][B00MMVIFZM]%20Voltage%20References%203.3V%20Prec%20Micropwr%20LDO%20Low%20VRef%20(5%20pieces)&img=http://shopping.phinf.naver.net/main_8266191/8266191804.jpg HTTP/1.1\" 200 72\n",
      "10.0.2.2 - - [21/Aug/2016 18:27:35] \"GET /classify?name=[%ED%95%B4%EC%99%B8][%EA%B5%AC%EB%A7%A4%EB%8C%80%ED%96%89][B00AZVJIEI]%20AD7524LNZ&img=http://shopping.phinf.naver.net/main_8266272/8266272594.jpg HTTP/1.1\" 200 72\n",
      "10.0.2.2 - - [21/Aug/2016 18:27:35] \"GET /classify?name=[%ED%95%B4%EC%99%B8][%EA%B5%AC%EB%A7%A4%EB%8C%80%ED%96%89][B00MMUWSNS]%20LVDS%20Interface%20IC%20200Mbps%20Half-Duplex%203.3V%20Hi%20Spd%20(5%20pieces)&img=http://shopping.phinf.naver.net/main_8266191/8266191047.jpg HTTP/1.1\" 200 72\n",
      "10.0.2.2 - - [21/Aug/2016 18:27:35] \"GET /classify?name=[%ED%95%B4%EC%99%B8][%EA%B5%AC%EB%A7%A4%EB%8C%80%ED%96%89][B00AZVFQG2]%20AD629BNZ&img=http://shopping.phinf.naver.net/main_8266270/8266270987.jpg HTTP/1.1\" 200 72\n",
      "10.0.2.2 - - [21/Aug/2016 18:27:35] \"GET /classify?name=[%ED%95%B4%EC%99%B8][%EA%B5%AC%EB%A7%A4%EB%8C%80%ED%96%89][B00AZVMJO4]%20AD713JRZ-16-REEL7&img=http://shopping.phinf.naver.net/main_8266272/8266272191.jpg HTTP/1.1\" 200 72\n",
      "10.0.2.2 - - [21/Aug/2016 18:27:35] \"GET /classify?name=[%ED%95%B4%EC%99%B8]HRTHRT%20-%20Istreamer%20-%20Outboard%20DAC%20for%20Idevices%2012v%20Version&img=http://shopping.phinf.naver.net/main_8275989/8275989792.jpg HTTP/1.1\" 200 72\n",
      "10.0.2.2 - - [21/Aug/2016 18:27:35] \"GET /classify?name=[5%%20%EC%A6%89%EC%8B%9C%ED%95%A0%EC%9D%B8][%ED%95%B4%EC%99%B8%EC%A7%81%EB%B0%B0%EC%86%A1]Panlong%20Digital%20to%20Analog%20Audio%20Converter%20-%20Optical%20SPDIF%20Toslink%20Coaxial%20to%20RCA%20L/R&img=http://shopping.phinf.naver.net/main_8280548/8280548735.jpg HTTP/1.1\" 200 72\n",
      "10.0.2.2 - - [21/Aug/2016 18:27:35] \"GET /classify?name=[4%%EC%A6%89%EC%8B%9C%ED%95%A0%EC%9D%B8%EC%BF%A0%ED%8F%B0][%ED%95%B4%EC%99%B8]%20Semlos%203-In%201-Out%20Spdif%20/%20Toslink%20Digital%20Optical%20%20%EC%B5%9C%EC%A0%80%EA%B0%80%20%ED%95%B4%EC%99%B8%EA%B5%AC%EB%A7%A4%EB%8C%80%ED%96%89%20%EC%A0%84%EB%AC%B8%EC%84%9C%EB%B9%84%EC%8A%A4&img=http://shopping.phinf.naver.net/main_8261585/8261585711.jpg HTTP/1.1\" 200 95\n",
      "10.0.2.2 - - [21/Aug/2016 18:27:35] \"GET /classify?name=[%ED%95%B4%EC%99%B8][%EA%B5%AC%EB%A7%A4%EB%8C%80%ED%96%89][B00AZVIVWS]%20ADA4841-2YRZ&img=http://shopping.phinf.naver.net/main_8266271/8266271561.jpg HTTP/1.1\" 200 72\n",
      "10.0.2.2 - - [21/Aug/2016 18:27:35] \"GET /classify?name=[%ED%95%B4%EC%99%B8][%EA%B5%AC%EB%A7%A4%EB%8C%80%ED%96%89][B00AZVMOH6]%20ADR445ARZ&img=http://shopping.phinf.naver.net/main_8266272/8266272177.jpg HTTP/1.1\" 200 72\n",
      "10.0.2.2 - - [21/Aug/2016 18:27:35] \"GET /classify?name=[%ED%95%B4%EC%99%B8][%EA%B5%AC%EB%A7%A4%EB%8C%80%ED%96%89][B00MN4REVE]%20Interface%20-%20CODECs%202%20ADC%20%20frasl;%208%20DAC%20w%20%20frasl;%20%20PLL%20192kHz%2024B&img=http://shopping.phinf.naver.net/main_8266217/8266217901.jpg HTTP/1.1\" 200 72\n",
      "10.0.2.2 - - [21/Aug/2016 18:27:35] \"GET /classify?name=[%ED%95%B4%EC%99%B8][%EA%B5%AC%EB%A7%A4%EB%8C%80%ED%96%89][B00AZVJL0Y]%20ADA4092-4ARUZ&img=http://shopping.phinf.naver.net/main_8266271/8266271811.jpg HTTP/1.1\" 200 72\n",
      "10.0.2.2 - - [21/Aug/2016 18:27:35] \"GET /classify?name=[%ED%95%B4%EC%99%B8][%EA%B5%AC%EB%A7%A4%EB%8C%80%ED%96%89][B00AZVGFEE]%20INA114AU&img=http://shopping.phinf.naver.net/main_8266274/8266274112.jpg HTTP/1.1\" 200 72\n",
      "10.0.2.2 - - [21/Aug/2016 18:27:35] \"GET /classify?name=[%ED%95%B4%EC%99%B8][%EA%B5%AC%EB%A7%A4%EB%8C%80%ED%96%89][B00AZVCBRY]%20OP747ARZ&img=http://shopping.phinf.naver.net/main_8266268/8266268940.jpg HTTP/1.1\" 200 72\n",
      "10.0.2.2 - - [21/Aug/2016 18:27:36] \"GET /classify?name=[%ED%95%B4%EC%99%B8][%EA%B5%AC%EB%A7%A4%EB%8C%80%ED%96%89][B005TAG118]%20UC3825BDW&img=http://shopping.phinf.naver.net/main_8266273/8266273845.jpg HTTP/1.1\" 200 72\n",
      "10.0.2.2 - - [21/Aug/2016 18:27:36] \"GET /classify?name=[%ED%95%B4%EC%99%B8][%EA%B5%AC%EB%A7%A4%EB%8C%80%ED%96%89][B005TAR8VA]%20INA114BU&img=http://shopping.phinf.naver.net/main_8266272/8266272533.jpg HTTP/1.1\" 200 72\n",
      "10.0.2.2 - - [21/Aug/2016 18:27:36] \"GET /classify?name=[%ED%95%B4%EC%99%B8][%EA%B5%AC%EB%A7%A4%EB%8C%80%ED%96%89][B00AZVE2BC]%20MAX218CPP+&img=http://shopping.phinf.naver.net/main_8266270/8266270413.jpg HTTP/1.1\" 200 72\n",
      "10.0.2.2 - - [21/Aug/2016 18:27:36] \"GET /classify?name=[%ED%95%B4%EC%99%B8][%EA%B5%AC%EB%A7%A4%EB%8C%80%ED%96%89][B00MMV8J58]%20RS-232%20Interface%20IC%20Hi-Spd%205V%20CMOS%20Driver%20%20frasl;%20Receiver%20(5%20pieces)&img=http://shopping.phinf.naver.net/main_8266191/8266191339.jpg HTTP/1.1\" 200 72\n",
      "10.0.2.2 - - [21/Aug/2016 18:27:36] \"GET /classify?name=[%ED%95%B4%EC%99%B8][%EA%B5%AC%EB%A7%A4%EB%8C%80%ED%96%89][B00MN4PUS8]%20RS-232%20Interface%20IC%205V%20MultiCh%20RS-232%20Driver%20%20frasl;%20Receiver&img=http://shopping.phinf.naver.net/main_8266217/8266217360.jpg HTTP/1.1\" 200 72\n",
      "10.0.2.2 - - [21/Aug/2016 18:27:36] \"GET /classify?name=[%ED%95%B4%EC%99%B8][%EA%B5%AC%EB%A7%A4%EB%8C%80%ED%96%89][B00MMV2AYE]%20Voltage%20References%20Ultracompact%20Prec%205V%20(5%20pieces)&img=http://shopping.phinf.naver.net/main_8266191/8266191253.jpg HTTP/1.1\" 200 72\n",
      "10.0.2.2 - - [21/Aug/2016 18:27:36] \"GET /classify?name=[%ED%95%B4%EC%99%B8][%EA%B5%AC%EB%A7%A4%EB%8C%80%ED%96%89][B00AZV40ZA]%20REF43GPZ&img=http://shopping.phinf.naver.net/main_8266267/8266267605.jpg HTTP/1.1\" 200 72\n",
      "10.0.2.2 - - [21/Aug/2016 18:27:36] \"GET /classify?name=[%ED%95%B4%EC%99%B8][%EA%B5%AC%EB%A7%A4%EB%8C%80%ED%96%89][B00AZVFGIA]%20AD7780BRZ&img=http://shopping.phinf.naver.net/main_8266270/8266270845.jpg HTTP/1.1\" 200 72\n",
      "10.0.2.2 - - [21/Aug/2016 18:27:36] \"GET /classify?name=[%ED%95%B4%EC%99%B8]Gustard%20ES9018%20DAC%20x12%20DAC%20Decoder%20Xmos%20USB%20Support%20DSD%20XLR%20Balanced%20Output&img=http://shopping.phinf.naver.net/main_8260193/8260193943.jpg HTTP/1.1\" 200 72\n",
      "10.0.2.2 - - [21/Aug/2016 18:27:36] \"GET /classify?name=[%ED%95%B4%EC%99%B8]HI-FI%20Mini%20DAC%20TDA1543%20DIR9001%20NOS%20DAC%20Incl%20power%20ADP&img=http://shopping.phinf.naver.net/main_8269188/8269188506.jpg HTTP/1.1\" 200 72\n"
     ]
    },
    {
     "name": "stdout",
     "output_type": "stream",
     "text": [
      "classify called\n",
      "classify called\n",
      "classify called\n",
      "classify called\n",
      "classify called\n",
      "classify called\n",
      "classify called\n",
      "classify called\n",
      "classify called\n",
      "classify called\n",
      "classify called\n",
      "classify called\n",
      "classify called\n"
     ]
    },
    {
     "name": "stderr",
     "output_type": "stream",
     "text": [
      "10.0.2.2 - - [21/Aug/2016 18:27:36] \"GET /classify?name=[%ED%95%B4%EC%99%B8]Muse%20AT-HA20%20Stereo%20Headphone%20Amplifier%2012V%20500mA%20Black%20Silver&img=http://shopping.phinf.naver.net/main_8275539/8275539052.jpg HTTP/1.1\" 200 72\n",
      "10.0.2.2 - - [21/Aug/2016 18:27:36] \"GET /classify?name=[%ED%95%B4%EC%99%B8]TPA3123%20Class%20D%20Mini%20Digital%20Amplifier%20Board%2020W+20W&img=http://shopping.phinf.naver.net/main_8269186/8269186136.jpg HTTP/1.1\" 200 72\n",
      "10.0.2.2 - - [21/Aug/2016 18:27:36] \"GET /classify?name=[%ED%95%B4%EC%99%B8]Free%20Shipping%20Assembled%20TDA7492%2025W+25W%20Class%20D%20power%20amplifier%20board%20DC12V&img=http://shopping.phinf.naver.net/main_8269184/8269184914.jpg HTTP/1.1\" 200 72\n",
      "10.0.2.2 - - [21/Aug/2016 18:27:36] \"GET /classify?name=[%ED%95%B4%EC%99%B8]A1%20headphone%20amplifier%20preamplifier%20with%20BD139%20BD140%20NE5532&img=http://shopping.phinf.naver.net/main_8269177/8269177140.jpg HTTP/1.1\" 200 72\n",
      "10.0.2.2 - - [21/Aug/2016 18:27:36] \"GET /classify?name=[%ED%95%B4%EC%99%B8]TAS5630%20300W+300W%20Class%20D%20stereo%20amplifier%20Assembled%20Board%20Highly%20Recommend&img=http://shopping.phinf.naver.net/main_8269185/8269185923.jpg HTTP/1.1\" 200 72\n",
      "10.0.2.2 - - [21/Aug/2016 18:27:36] \"GET /classify?name=[%ED%95%B4%EC%99%B8]SMSL%20S2%20TA2024%20Class-T%20Amp%20HI-FI%20Amplifier%202*15W%20+%20Built-in%20Headphone%20Amplifier&img=http://shopping.phinf.naver.net/main_8269181/8269181305.jpg HTTP/1.1\" 200 72\n",
      "10.0.2.2 - - [21/Aug/2016 18:27:36] \"GET /classify?name=[%ED%95%B4%EC%99%B8]+/-20-28VAC%20LM3886%20+%20NE5532%20mixer%20amplifier%20finished%20board%202*68W&img=http://shopping.phinf.naver.net/main_8269177/8269177147.jpg HTTP/1.1\" 200 72\n",
      "10.0.2.2 - - [21/Aug/2016 18:27:36] \"GET /classify?name=[%ED%95%B4%EC%99%B8]YJ%2024VDC%202.0%20channel%20class%20D%20Digital%20bluetooth%204.0%20version%20TPA3116%20power%20amplifier%202*50W&img=http://shopping.phinf.naver.net/main_8260194/8260194902.jpg HTTP/1.1\" 200 72\n",
      "10.0.2.2 - - [21/Aug/2016 18:27:36] \"GET /classify?name=[%ED%95%B4%EC%99%B8]TOPPING%20TP31%20TP-31%20STEREO%20AMP%20%20%20Head%20AMP%20%20%2024/192%20DAC%20N&img=http://shopping.phinf.naver.net/main_8269188/8269188537.jpg HTTP/1.1\" 200 72\n",
      "10.0.2.2 - - [21/Aug/2016 18:27:36] \"GET /classify?name=%E2%97%80CHORD%EA%B3%B5%EC%8B%9D%EB%8C%80%EB%A6%AC%EC%A0%90:%EB%A7%A4%EC%9E%A5%EB%B0%A9%EB%AC%B8%EC%B6%94%EA%B0%80%ED%95%A0%EC%9D%B8%E2%96%B6CHORD(%EC%BD%94%EB%93%9C)%20HUGO%20%EC%B5%9C%EC%83%81%EC%9C%84%20%ED%94%84%EB%A6%AC%EB%AF%B8%EC%97%84%20%ED%9C%B4%EB%8C%80%EC%9A%A9%20DAC/%ED%97%A4%EB%93%9C%ED%8F%B0%EC%95%B0%ED%94%84+SENNHEISER(%EC%A0%A0%ED%95%98%EC%9D%B4%EC%A0%80)%20IE800%20%ED%94%84%EB%A6%AC%EB%AF%B8%EC%97%84%20%EC%B5%9C%EC%83%81%EC%9C%84%20%EC%9D%B4%EC%96%B4%ED%8F%B0&img=http://shopping.phinf.naver.net/main_7736112/7736112734.jpg HTTP/1.1\" 200 72\n",
      "10.0.2.2 - - [21/Aug/2016 18:27:36] \"GET /classify?name=[%ED%95%B4%EC%99%B8][%EA%B5%AC%EB%A7%A4%EB%8C%80%ED%96%89][B002DAO94S]%20OYAIDE%20audio%20cable%20HPC-35/R2.5%20Headphone%20Amp%20Speaker%203.5%20Stereo%20MIni%20-&img=http://shopping.phinf.naver.net/main_8141385/8141385363.jpg HTTP/1.1\" 200 72\n",
      "10.0.2.2 - - [21/Aug/2016 18:27:36] \"GET /classify?name=UFO-DSD&img=http://shopping.phinf.naver.net/main_8166598/8166598997.20141219135536.jpg HTTP/1.1\" 200 72\n",
      "10.0.2.2 - - [21/Aug/2016 18:27:36] \"GET /classify?name=[4%%EC%A6%89%EC%8B%9C%ED%95%A0%EC%9D%B8%EC%BF%A0%ED%8F%B0][%ED%95%B4%EC%99%B8]%20Topping%20VX1%20Class-T%20AMP%20Stereo%20Hi-Fi%20Power%20Subwoof%20%EC%B5%9C%EC%A0%80%EA%B0%80%20%ED%95%B4%EC%99%B8%EA%B5%AC%EB%A7%A4%EB%8C%80%ED%96%89%20%EC%A0%84%EB%AC%B8%EC%84%9C%EB%B9%84%EC%8A%A4&img=http://shopping.phinf.naver.net/main_8249354/8249354279.jpg HTTP/1.1\" 200 72\n",
      "10.0.2.2 - - [21/Aug/2016 18:27:36] \"GET /classify?name=[%ED%95%B4%EC%99%B8][%EA%B5%AC%EB%A7%A4%EB%8C%80%ED%96%89][B00AZVJV9A]%20AD8626ARZ&img=http://shopping.phinf.naver.net/main_8266271/8266271712.jpg HTTP/1.1\" 200 72\n",
      "10.0.2.2 - - [21/Aug/2016 18:27:36] \"GET /classify?name=[%ED%95%B4%EC%99%B8][%EA%B5%AC%EB%A7%A4%EB%8C%80%ED%96%89][B00AZVKDA6]%20AD5620BRJZ-2500RL7&img=http://shopping.phinf.naver.net/main_8266271/8266271975.jpg HTTP/1.1\" 200 72\n"
     ]
    },
    {
     "name": "stdout",
     "output_type": "stream",
     "text": [
      "classify called\n",
      "classify called\n",
      "classify called\n",
      "classify called\n",
      "classify called\n",
      "classify called\n",
      "classify called\n",
      "classify called\n",
      "classify called\n",
      "classify called\n",
      "classify called\n",
      "classify called\n",
      "classify called\n",
      "classify called\n",
      "classify called\n"
     ]
    },
    {
     "name": "stderr",
     "output_type": "stream",
     "text": [
      "10.0.2.2 - - [21/Aug/2016 18:27:36] \"GET /classify?name=[%ED%95%B4%EC%99%B8][%EA%B5%AC%EB%A7%A4%EB%8C%80%ED%96%89][B00AZVF5V8]%20OP213FSZ&img=http://shopping.phinf.naver.net/main_8266270/8266270864.jpg HTTP/1.1\" 200 72\n",
      "10.0.2.2 - - [21/Aug/2016 18:27:36] \"GET /classify?name=[%ED%95%B4%EC%99%B8][%EA%B5%AC%EB%A7%A4%EB%8C%80%ED%96%89][B00AZV4104]%20ST7FLITE29F2B6&img=http://shopping.phinf.naver.net/main_8266267/8266267739.jpg HTTP/1.1\" 200 72\n",
      "10.0.2.2 - - [21/Aug/2016 18:27:36] \"GET /classify?name=[%ED%95%B4%EC%99%B8][%EA%B5%AC%EB%A7%A4%EB%8C%80%ED%96%89][B00AZVJO06]%20AD8630ARUZ&img=http://shopping.phinf.naver.net/main_8266271/8266271456.jpg HTTP/1.1\" 200 72\n",
      "10.0.2.2 - - [21/Aug/2016 18:27:36] \"GET /classify?name=[%ED%95%B4%EC%99%B8][%EA%B5%AC%EB%A7%A4%EB%8C%80%ED%96%89][B00AZVEZYQ]%20MAX3225EEPP+&img=http://shopping.phinf.naver.net/main_8266270/8266270649.jpg HTTP/1.1\" 200 72\n",
      "10.0.2.2 - - [21/Aug/2016 18:27:36] \"GET /classify?name=[%ED%95%B4%EC%99%B8][%EA%B5%AC%EB%A7%A4%EB%8C%80%ED%96%89][B00AZVGDOG]%20INA115AU&img=http://shopping.phinf.naver.net/main_8266273/8266273597.jpg HTTP/1.1\" 200 72\n",
      "10.0.2.2 - - [21/Aug/2016 18:27:36] \"GET /classify?name=[%ED%95%B4%EC%99%B8][%EA%B5%AC%EB%A7%A4%EB%8C%80%ED%96%89][B00AZV3J3O]%20TLV1543CN&img=http://shopping.phinf.naver.net/main_8266267/8266267828.jpg HTTP/1.1\" 200 72\n",
      "10.0.2.2 - - [21/Aug/2016 18:27:36] \"GET /classify?name=[%ED%95%B4%EC%99%B8][%EA%B5%AC%EB%A7%A4%EB%8C%80%ED%96%89][B00MMUZ6AA]%20Supervisory%20Circuits%205V%20CMOS%20MPU%20IC%20(5%20pieces)&img=http://shopping.phinf.naver.net/main_8266191/8266191065.jpg HTTP/1.1\" 200 72\n",
      "10.0.2.2 - - [21/Aug/2016 18:27:36] \"GET /classify?name=[4%%EC%A6%89%EC%8B%9C%ED%95%A0%EC%9D%B8%EC%BF%A0%ED%8F%B0][%ED%95%B4%EC%99%B8]%20iView%201000STB%20ATSC%20Digital%20to%20Analog%20TV%20Converter%20%20%EC%B5%9C%EC%A0%80%EA%B0%80%20%ED%95%B4%EC%99%B8%EA%B5%AC%EB%A7%A4%EB%8C%80%ED%96%89%20%EC%A0%84%EB%AC%B8%EC%84%9C%EB%B9%84%EC%8A%A4&img=http://shopping.phinf.naver.net/main_8269460/8269460529.jpg HTTP/1.1\" 200 95\n",
      "10.0.2.2 - - [21/Aug/2016 18:27:36] \"GET /classify?name=[%ED%95%B4%EC%99%B8][%EA%B5%AC%EB%A7%A4%EB%8C%80%ED%96%89][B00AZVG9NQ]%20AD5307BRUZ&img=http://shopping.phinf.naver.net/main_8266271/8266271076.jpg HTTP/1.1\" 200 72\n",
      "10.0.2.2 - - [21/Aug/2016 18:27:36] \"GET /classify?name=[%ED%95%B4%EC%99%B8][%EA%B5%AC%EB%A7%A4%EB%8C%80%ED%96%89][B00MMV4FMY]%20Voltage%20References%20Ultracompact%20Prec%203V%20(5%20pieces)&img=http://shopping.phinf.naver.net/main_8266191/8266191335.jpg HTTP/1.1\" 200 72\n",
      "10.0.2.2 - - [21/Aug/2016 18:27:36] \"GET /classify?name=[%EC%A0%95%ED%92%88]%20%EB%8B%88%EC%BD%98%20DSLR%20D800E%20Body+%EB%A7%A8%ED%94%84%EB%A1%9C%ED%86%A0%20MKBFRA4-BH%20%EC%82%BC%EA%B0%81%EB%8C%80%20+%EC%9D%B8%ED%99%94%EA%B6%8C+%EC%9B%B9%ED%95%98%EB%93%9C&img=http://shopping.phinf.naver.net/main_8303716/8303716371.jpg HTTP/1.1\" 200 116\n",
      "10.0.2.2 - - [21/Aug/2016 18:27:36] \"GET /classify?name=[%EC%BA%90%EB%85%BC%EC%BD%94%EB%A6%AC%EC%95%84%EC%A0%95%ED%92%88]%20Canon%20EOS%2070D%2018-55%20IS%20II%20STM+%203355%EA%B0%80%EB%B0%A9%20+%20SDHC%208GB+UV%ED%95%84%ED%84%B0+%EB%A6%AC%EB%8D%94%EA%B8%B0+%ED%81%AC%EB%A6%AC%EB%84%88SET+%EC%95%A1%EC%A0%95%ED%95%84%EB%A6%84+%EC%9C%B5+%EC%A6%90%EA%B8%B0%EA%B8%B0%EC%B1%85%EC%9E%90+%EA%B7%B8%EC%99%B8%EC%82%AC%EC%9D%80%ED%92%88&img=http://shopping.phinf.naver.net/main_8064286/8064286604.jpg HTTP/1.1\" 200 116\n",
      "10.0.2.2 - - [21/Aug/2016 18:27:36] \"GET /classify?name=[%EC%BA%90%EB%85%BC]%20%EC%BA%90%EB%85%BC%EC%A0%95%ED%92%88%20EOS%2070D%20+%20EF-S%2018-55mm%20is%20STM%20%EB%A0%8C%EC%A6%88KIT%20+%20SD8GB+%2070D%20%EC%A0%84%EC%9A%A9%EA%B0%80%EB%B0%A9%20[%EA%B0%A4%EB%9F%AC%EB%A6%AC%EC%95%84%20%ED%83%80%EC%9E%84%EC%9B%94%EB%93%9C]&img=http://shopping.phinf.naver.net/main_7184508/7184508045.jpg HTTP/1.1\" 200 116\n",
      "10.0.2.2 - - [21/Aug/2016 18:27:36] \"GET /classify?name=(%EC%A0%95%ED%92%88)%20%EC%BA%90%EB%85%BC%2070D%20+%2018-55%20IS%20+%2050.8%20+%2055-250%20IS%20%ED%8A%B8%EB%A6%AC%ED%94%8C%20%EB%A0%8C%EC%A6%88%20%ED%82%B7%20(TURBO%20%EB%A9%94%EB%AA%A8%EB%A6%AC+%EA%B0%80%EB%B0%A9+%ED%95%84%EB%A6%84+%EB%A6%AC%EB%8D%94%EA%B8%B0%20%EB%93%B1%2010%EA%B0%80%EC%A7%80%20%EA%B8%B0%EB%B3%B8%EC%A6%9D%EC%A0%95)&img=http://shopping.phinf.naver.net/main_8344095/8344095455.jpg HTTP/1.1\" 200 116\n",
      "10.0.2.2 - - [21/Aug/2016 18:27:36] \"GET /classify?name=%EC%BA%90%EB%85%BC%20[%EB%A1%AF%EB%8D%B0%EB%B0%B1%ED%99%94%EC%A0%90]%EC%BA%90%EB%85%BC%EC%A0%95%ED%92%88%20EOS%2070D%20+%20EF-S%2018-55mm%20is%20STM%20%EB%A0%8C%EC%A6%88KIT%20+%2070D%20%EC%A0%84%EC%9A%A9%EA%B0%80%EB%B0%A9&img=http://shopping.phinf.naver.net/main_8344723/8344723473.jpg HTTP/1.1\" 200 116\n"
     ]
    },
    {
     "name": "stdout",
     "output_type": "stream",
     "text": [
      "classify called\n",
      "classify called\n",
      "classify called\n",
      "classify called\n",
      "classify called\n",
      "classify called\n",
      "classify called\n",
      "classify called\n",
      "classify called\n",
      "classify called\n",
      "classify called\n",
      "classify called\n",
      "classify called\n",
      "classify called\n",
      "classify called\n"
     ]
    },
    {
     "name": "stderr",
     "output_type": "stream",
     "text": [
      "10.0.2.2 - - [21/Aug/2016 18:27:36] \"GET /classify?name=[%E2%98%85%EA%B9%9C%EC%A7%9D%ED%8A%B9%EA%B0%80%E2%98%85%20500ml%20%EC%83%9D%EC%88%98%20%ED%95%9C%20%EB%B3%91%EB%B3%B4%EB%8B%A4%20%EA%B0%80%EB%B2%BC%EC%9A%B4%20DSLR!]%EF%BC%BBDSLR%EF%BC%BD%EC%BA%90%EB%85%BC%20EOS-100D%20(18-55mm%20%EB%A0%8C%EC%A6%88%ED%8F%AC%ED%95%A8)%20[1800%EB%A7%8C%ED%99%94%EC%86%8C/%20IOS%2012800/%20%EC%B5%9C%EC%86%8C,%EC%B5%9C%EA%B2%BD%EB%9F%89%20DSLR/%20&img=http://shopping.phinf.naver.net/main_8245921/8245921940.jpg HTTP/1.1\" 200 116\n",
      "10.0.2.2 - - [21/Aug/2016 18:27:36] \"GET /classify?name=[4%%EC%A6%89%EC%8B%9C%ED%95%A0%EC%9D%B8%EC%BF%A0%ED%8F%B0]%EC%BA%90%EB%85%BC%20%EC%BA%90%EB%85%BC%EC%A0%95%ED%92%88EOS%20100D%20%ED%83%90%EB%A1%A0%2017-50VC%20%EB%A0%8C%EC%A6%88%ED%8F%AC%ED%95%A8/32G%ED%92%80%ED%8C%A8%ED%82%A4%EC%A7%80&img=http://shopping.phinf.naver.net/main_6860913/6860913505.jpg HTTP/1.1\" 200 134\n",
      "10.0.2.2 - - [21/Aug/2016 18:27:36] \"GET /classify?name=[%EC%A0%95%ED%92%88]%20%EC%BA%90%EB%85%BC%20EOS%207D(Body)%20+%20%EC%95%A1%EC%A0%95%ED%95%84%EB%A6%84+%ED%81%AC%EB%A6%AC%EB%84%88%EC%9C%B5+%EC%82%AC%EC%A7%84%EC%9D%B8%ED%99%94%EA%B6%8C[%EC%B9%B4%EB%93%9C5%%EC%B2%AD%EA%B5%AC%ED%95%A0%EC%9D%B8%20%ED%96%89%EC%82%AC%EC%83%81%ED%92%88/%EB%8C%80%EB%B0%95%ED%95%A0%EC%9D%B8%EC%B0%AC%EC%8A%A4/%EC%B6%94%EA%B0%80%EC%98%B5%EC%85%98%EC%A1%B0%EA%B1%B4%EC%97%86]&img=http://shopping.phinf.naver.net/main_6016700/6016700691.jpg HTTP/1.1\" 200 116\n",
      "10.0.2.2 - - [21/Aug/2016 18:27:36] \"GET /classify?name=dn_[%EC%BA%90%EB%85%BC%EC%BD%94%EB%A6%AC%EC%95%84%20%EC%A0%95%ED%92%88]%20EOS%20100D%20%ED%99%94%EC%9D%B4%ED%8A%B8%EB%B0%94%EB%94%94%20+18-55mm%20STM%20+40mm%20STM%20%EB%8D%94%EB%B8%94%EB%A0%8C%EC%A6%88%ED%82%B7%20%7C%20%EB%AF%B8%EA%B0%9C%EB%B4%89/%EC%B5%9C%EC%8B%A0%EC%8B%9C%EB%A6%AC%EC%96%BC/[%EC%95%88%EC%A0%84%ED%95%98%EA%B3%A0%20%EB%B9%A0%EB%A5%B8%EB%B0%B0%EC%86%A1,%20%EC%B9%9C%EC%A0%88%ED%95%9C%20%EC%83%81%EB%8B%B4,%20%EC%97%B0%EC%A4%91%EB%AC%B4%ED%9C%B4]&img=http://shopping.phinf.naver.net/main_8123170/8123170993.jpg HTTP/1.1\" 200 116\n",
      "10.0.2.2 - - [21/Aug/2016 18:27:36] \"GET /classify?name=[%EC%BA%90%EB%85%BC%EC%A0%95%ED%92%88]%20Canon%20EOS%20100D%20+18-55mm%20+40mm%EB%B8%94%EB%9E%99%20%EB%8D%94%EB%B8%94%EB%A0%8C%EC%A6%88%20[%EC%B4%88%EC%86%8C%ED%98%95/%ED%95%98%EC%9D%B4%EB%B8%8C%EB%A6%AC%EB%93%9CAF/%ED%84%B0%EC%B9%98LCD/1800%EB%A7%8C%ED%99%94%EC%86%8C/%ED%8C%9D%EC%97%85%ED%94%8C%EB%9E%98%EC%8B%9C][GNB]&img=http://shopping.phinf.naver.net/main_8293249/8293249122.jpg HTTP/1.1\" 200 116\n",
      "10.0.2.2 - - [21/Aug/2016 18:27:36] \"GET /classify?name=%EC%BA%90%EB%85%BC%20EOS%20100D%20%EB%B8%94%EB%9E%99%EB%8D%94%EB%B8%94%EB%A0%8C%EC%A6%88%ED%8C%A8%ED%82%A4%EC%A7%80%20(18-55mm%20STM%20Lens+%2040mm%20f2.8%EB%A0%8C%EC%A6%88)&img=http://shopping.phinf.naver.net/main_8102432/8102432093.jpg HTTP/1.1\" 200 116\n",
      "10.0.2.2 - - [21/Aug/2016 18:27:36] \"GET /classify?name=[%EA%B0%80)%EC%BA%90%EB%85%BC][%EC%BA%90%EB%85%BC%EC%BD%94%EB%A6%AC%EC%95%84%EC%A0%95%ED%92%88]%ED%99%94%EC%9D%B4%ED%8A%B8%EB%8D%94%EB%B8%94%EB%A0%8C%EC%A6%88%ED%8C%A8%ED%82%A4%EC%A7%80/DSLR%20EOS%20100D+18-55mm%20IS%20STM+EF%2040mm%20F2.8%20STM+16GB+%EC%A0%95%ED%92%88%EA%B0%80%EB%B0%A9+%EB%A6%AC%EB%8D%94%EA%B8%B0+UV%ED%95%84%ED%84%B0+%EC%95%A1%EC%A0%95+%EC%9C%B5+%ED%81%AC%EB%A6%AC%EB%84%88+&img=http://shopping.phinf.naver.net/main_7856745/7856745024.jpg HTTP/1.1\" 200 116\n",
      "10.0.2.2 - - [21/Aug/2016 18:27:36] \"GET /classify?name=EOS%20100D%20(%ED%99%94%EC%9D%B4%ED%8A%B8)%EB%8D%94%EB%B8%94%EB%A0%8C%EC%A6%88%ED%82%B7+SDHC%2016GB+UV%2052/58mm+SD%EB%A6%AC%EB%8D%94%EA%B8%B0+%ED%81%AC%EB%A6%AC%EB%84%88%EC%9C%B5&img=http://shopping.phinf.naver.net/main_8217915/8217915031.jpg HTTP/1.1\" 200 116\n",
      "10.0.2.2 - - [21/Aug/2016 18:27:36] \"GET /classify?name=%ED%8E%9C%ED%83%81%EC%8A%A4%20K-5%20II%20(18-135mm%20WR)%20+%ED%81%B4%EB%A6%AC%EB%84%88SET&img=http://shopping.phinf.naver.net/main_8379914/8379914811.jpg HTTP/1.1\" 200 116\n",
      "10.0.2.2 - - [21/Aug/2016 18:27:36] \"GET /classify?name=[%ED%8E%9C%ED%83%81%EC%8A%A4]%20K-5%20II%20(Body)%20+SD%EB%A6%AC%EB%8D%94%EA%B8%B0+%ED%81%B4%EB%A6%AC%EB%84%88SET&img=http://shopping.phinf.naver.net/main_8369267/8369267590.jpg HTTP/1.1\" 200 116\n",
      "10.0.2.2 - - [21/Aug/2016 18:27:36] \"GET /classify?name=[KB%EA%B5%AD%EB%AF%BC%EC%B9%B4%EB%93%9C%205%%ED%95%A0%EC%9D%B8,%203/26]%EC%98%AC%EB%A6%BC%ED%91%B8%EC%8A%A4%20%EC%B9%B4%EB%A9%94%EB%9D%BC%20OM-D%20E-M5%20Mark%20II%2012-50mm%20EZ%20KIT&img=http://shopping.phinf.naver.net/main_8367613/8367613087.jpg HTTP/1.1\" 200 90\n",
      "10.0.2.2 - - [21/Aug/2016 18:27:36] \"GET /classify?name=[KB%EA%B5%AD%EB%AF%BC%EC%B9%B4%EB%93%9C%205%%ED%95%A0%EC%9D%B8,%203/26]%EC%98%AC%EB%A6%BC%ED%91%B8%EC%8A%A4%20%EC%B9%B4%EB%A9%94%EB%9D%BC%20OM-D%20E-M5%20Mark%20II%20BODY&img=http://shopping.phinf.naver.net/main_8367612/8367612716.jpg HTTP/1.1\" 200 116\n",
      "10.0.2.2 - - [21/Aug/2016 18:27:36] \"GET /classify?name=[%ED%95%B4%EC%99%B8][%ED%95%B4%EC%99%B8%EB%B9%A0%EB%A5%B8%EB%B0%B0%EC%86%A1][%EB%89%B4%EC%9A%95%EB%A7%A4%EB%8B%88%EC%95%84]Olympus/[NY]Olympus%20OM-D%20E-M5%20Mark%20II%20Black%20Body%20Only/90387798/100%%EC%A0%95%ED%92%88&img=http://shopping.phinf.naver.net/main_8325798/8325798452.jpg HTTP/1.1\" 200 116\n",
      "10.0.2.2 - - [21/Aug/2016 18:27:36] \"GET /classify?name=EOS%20%EC%BA%90%EB%85%BCEOS-100D%ED%99%94%EC%9D%B4%ED%8A%B8%EB%8D%94%EB%B8%94KIT(40mm%20F2.8+%2018-55mm%20STM)&img=http://shopping.phinf.naver.net/main_8333973/8333973667.jpg HTTP/1.1\" 200 116\n",
      "10.0.2.2 - - [21/Aug/2016 18:27:36] \"GET /classify?name=%EC%BA%90%EB%85%BC%EC%A0%95%ED%92%88%20EOS%20100D(18-55mm%20IS%20STM%20+%2040mm)%20%EB%B8%94%EB%9E%99%20%EB%8D%94%EB%B8%94%20%EB%A0%8C%EC%A6%88%ED%82%B7%20/%EC%B5%9C%EC%8B%A0%EC%83%81%ED%92%88&img=http://shopping.phinf.naver.net/main_8443596/8443596402.jpg HTTP/1.1\" 200 116\n"
     ]
    },
    {
     "name": "stdout",
     "output_type": "stream",
     "text": [
      "classify called\n",
      "classify called\n",
      "classify called\n",
      "classify called\n",
      "classify called\n",
      "classify called\n",
      "classify called\n",
      "classify called\n",
      "classify called\n",
      "classify called\n",
      "classify called\n",
      "classify called\n",
      "classify called\n",
      "classify called\n",
      "classify called\n",
      "classify called\n",
      "classify called\n",
      "classify called\n",
      "classify called\n",
      "classify called\n",
      "classify called\n",
      "classify called\n",
      "classify called\n",
      "classify called\n",
      "classify called\n",
      "classify called\n"
     ]
    },
    {
     "name": "stderr",
     "output_type": "stream",
     "text": [
      "10.0.2.2 - - [21/Aug/2016 18:27:36] \"GET /classify?name=[BC%EC%B9%B4%EB%93%9C%205%%ED%95%A0%EC%9D%B8,%203/20]%EC%BA%90%EB%85%BC%20EOS%20100D%20%EB%B8%94%EB%9E%99%ED%8A%B8%EB%A6%AC%ED%94%8C%EB%A0%8C%EC%A6%88%ED%8C%A8%ED%82%A4%EC%A7%80(18-55mm%20STM%20Lens+%2040mm%20f2.8%20+%2055-250mm%20IS%20STM%20)&img=http://shopping.phinf.naver.net/main_8133647/8133647159.jpg HTTP/1.1\" 200 116\n",
      "10.0.2.2 - - [21/Aug/2016 18:27:36] \"GET /classify?name=[%EB%8B%88%EC%BD%98(NIKON)][%EC%A0%95%ED%92%88]%EB%8B%88%EC%BD%98%20D7100%20Body%EF%BC%8B%EC%9D%B8%ED%99%94%EA%B6%8C&img=http://shopping.phinf.naver.net/main_7330362/7330362107.jpg HTTP/1.1\" 200 116\n",
      "10.0.2.2 - - [21/Aug/2016 18:27:36] \"GET /classify?name=%EC%BA%90%EB%85%BC%20EOS%20100D&img=http://shopping.phinf.naver.net/main_6821689/6821689112.20130523152354.jpg HTTP/1.1\" 200 116\n",
      "10.0.2.2 - - [21/Aug/2016 18:27:36] \"GET /classify?name=%EB%8B%88%EC%BD%98%20D800&img=http://shopping.phinf.naver.net/main_5740712/5740712690.20130321122300.jpg HTTP/1.1\" 200 116\n",
      "10.0.2.2 - - [21/Aug/2016 18:27:36] \"GET /classify?name=%EC%86%8C%EB%8B%88%20%EC%95%8C%ED%8C%8C%20A58&img=http://shopping.phinf.naver.net/main_6782466/6782466957.20130411093146.jpg HTTP/1.1\" 200 116\n",
      "10.0.2.2 - - [21/Aug/2016 18:27:36] \"GET /classify?name=%EC%BA%90%EB%85%BC%20EOS%20550D&img=http://shopping.phinf.naver.net/main_5532420/5532420108.20130311112604.jpg HTTP/1.1\" 200 116\n",
      "10.0.2.2 - - [21/Aug/2016 18:27:36] \"GET /classify?name=%EB%8B%88%EC%BD%98%20D90&img=http://shopping.phinf.naver.net/main_4138825/4138825891.20130311121225.jpg HTTP/1.1\" 200 116\n",
      "10.0.2.2 - - [21/Aug/2016 18:27:36] \"GET /classify?name=%EC%BA%90%EB%85%BC%20EOS%205D&img=http://shopping.phinf.naver.net/main_1000160/1000160870.20130312174753.jpg HTTP/1.1\" 200 116\n",
      "10.0.2.2 - - [21/Aug/2016 18:27:36] \"GET /classify?name=%EC%BA%90%EB%85%BC%20EOS%201100D&img=http://shopping.phinf.naver.net/main_5729643/5729643384.20130311111159.jpg HTTP/1.1\" 200 116\n",
      "10.0.2.2 - - [21/Aug/2016 18:27:36] \"GET /classify?name=%EC%86%8C%EB%8B%88%20%EC%95%8C%ED%8C%8C%20A850&img=http://shopping.phinf.naver.net/main_5444693/5444693771.20130311182247.jpg HTTP/1.1\" 200 116\n",
      "10.0.2.2 - - [21/Aug/2016 18:27:36] \"GET /classify?name=%EC%BA%90%EB%85%BC%20EOS%201Ds%20MARK%20II&img=http://shopping.phinf.naver.net/main_1000113/1000113553.20130523152813.jpg HTTP/1.1\" 200 116\n",
      "10.0.2.2 - - [21/Aug/2016 18:27:37] \"GET /classify?name=%EB%9D%BC%EC%9D%B4%EC%B9%B4%20M&img=http://shopping.phinf.naver.net/main_7219625/7219625924.20131023182404.jpg HTTP/1.1\" 200 130\n"
     ]
    },
    {
     "name": "stdout",
     "output_type": "stream",
     "text": [
      "classify called\n",
      "classify called\n",
      "classify called\n",
      "classify called\n",
      "classify called\n",
      "classify called\n",
      "classify called\n",
      "classify called\n",
      "classify called\n",
      "classify called\n",
      "classify called\n",
      "classify called\n",
      "classify called\n",
      "classify called\n",
      "classify called\n"
     ]
    },
    {
     "name": "stderr",
     "output_type": "stream",
     "text": [
      "10.0.2.2 - - [21/Aug/2016 18:27:37] \"GET /classify?name=[4%%EC%A6%89%EC%8B%9C%ED%95%A0%EC%9D%B8%EC%BF%A0%ED%8F%B0]Nikon%20D5200(18-55mm%20VT%20Kit)%20%EC%A0%95%ED%92%88/%EB%8B%B9%EC%9D%BC%EB%B0%B0%EC%86%A1&img=http://shopping.phinf.naver.net/main_8272906/8272906737.jpg HTTP/1.1\" 200 116\n",
      "10.0.2.2 - - [21/Aug/2016 18:27:37] \"GET /classify?name=%EC%86%8C%EB%8B%88%20%EC%95%8C%ED%8C%8C%20A230&img=http://shopping.phinf.naver.net/main_5397594/5397594890.20130311182408.jpg HTTP/1.1\" 200 116\n",
      "10.0.2.2 - - [21/Aug/2016 18:27:37] \"GET /classify?name=[4%%EC%A6%89%EC%8B%9C%ED%95%A0%EC%9D%B8%EC%BF%A0%ED%8F%B0](%EC%A0%95%ED%92%88)%EC%BA%90%EB%85%BC%20100D%20+%2018-55%20IS%20ll%20+%2050.8%20+%2055-250mmIS&img=http://shopping.phinf.naver.net/main_8277349/8277349444.jpg HTTP/1.1\" 200 116\n",
      "10.0.2.2 - - [21/Aug/2016 18:27:37] \"GET /classify?name=%EC%8B%9C%EA%B7%B8%EB%A7%88%20SD1%20MERRILL&img=http://shopping.phinf.naver.net/main_6212643/6212643679.20130523153045.jpg HTTP/1.1\" 200 116\n",
      "10.0.2.2 - - [21/Aug/2016 18:27:37] \"GET /classify?name=(%EC%83%88%EC%83%81%ED%92%88)%20(%EC%A0%95%ED%92%88)%20%EB%8B%88%EC%BD%98%20%EB%A0%8C%EC%A6%88%20/%20AF%20NIKKOR%2050MM%20F1.8D&img=http://shopping.phinf.naver.net/main_8282097/8282097156.jpg HTTP/1.1\" 200 116\n",
      "10.0.2.2 - - [21/Aug/2016 18:27:37] \"GET /classify?name=[(%EC%A3%BC)%EC%9C%A0%EC%BE%8C%ED%95%9C%EC%83%9D%EA%B0%81][%EC%9C%A0%EC%BE%8C%ED%95%9C%EC%83%9D%EA%B0%81]%20%EC%8A%A4%EB%A7%88%ED%8A%B8%ED%8F%B0%20%ED%94%84%EB%A6%AC%EB%B7%B0%20%EB%AA%A8%EB%8B%88%ED%84%B0%20%EC%84%B8%ED%8A%B8&img=http://shopping.phinf.naver.net/main_8266118/8266118071.jpg HTTP/1.1\" 200 141\n",
      "10.0.2.2 - - [21/Aug/2016 18:27:37] \"GET /classify?name=Pedco%20%ED%8E%AB%EC%BD%94%20%EC%82%BC%EA%B0%81%EB%8C%80%20%ED%97%A4%EB%93%9C%20%20P-UP1-QUICK%20%EA%B3%A0%EC%A0%95%20%EB%82%98%EC%82%AC&img=http://shopping.phinf.naver.net/main_8277712/8277712381.jpg HTTP/1.1\" 200 116\n",
      "10.0.2.2 - - [21/Aug/2016 18:27:37] \"GET /classify?name=[4%%EC%A6%89%EC%8B%9C%ED%95%A0%EC%9D%B8%EC%BF%A0%ED%8F%B0]G%20%EC%BA%90%EB%85%BC%20EOS%20700D%20+18-55mm%20STM%20%EC%A0%95%ED%92%88&img=http://shopping.phinf.naver.net/main_8277222/8277222846.jpg HTTP/1.1\" 200 116\n",
      "10.0.2.2 - - [21/Aug/2016 18:27:37] \"GET /classify?name=%ED%98%B8%EB%A3%A8%EC%8A%A4%EB%B2%A4%EB%88%84%20%EC%82%BC%EA%B0%81%EB%8C%80%EC%9A%A9%20%EC%B9%B4%EC%9A%B4%ED%84%B0%EC%9B%A8%EC%9E%87%20H-TCW1%20(%EA%B0%80%EB%B0%A9%EA%B1%B8%EC%9D%B4)&img=http://shopping.phinf.naver.net/main_8281773/8281773961.jpg HTTP/1.1\" 200 134\n",
      "10.0.2.2 - - [21/Aug/2016 18:27:37] \"GET /classify?name=[4%%EC%A6%89%EC%8B%9C%ED%95%A0%EC%9D%B8%EC%BF%A0%ED%8F%B0]%EC%BA%90%EB%85%BC%20%EC%A0%95%ED%92%88%EC%A4%91%EA%B3%A0%EC%83%81%ED%92%88%20/%20%EC%BA%90%EB%85%BC%20EOS%207D%20/%20%EC%A7%84%EC%97%B4%EC%A4%91%EA%B3%A0%EC%83%81%ED%92%88&img=http://shopping.phinf.naver.net/main_8283826/8283826052.jpg HTTP/1.1\" 200 116\n",
      "10.0.2.2 - - [21/Aug/2016 18:27:37] \"GET /classify?name=[%EC%A0%95%ED%92%88%EC%A4%91%EA%B3%A0]%20%EC%BA%90%EB%85%BC%20EOS%207D%20%EB%B0%94%EB%94%94%20%EB%8B%A8%ED%92%88%EA%B5%AC%EB%A7%A4%EA%B0%80%EB%8A%A5%20/%20%EC%98%81%EC%96%B4%EC%A7%80%EC%9B%90%20/%20%EB%AC%B4%EB%A3%8C%EB%B0%B0%EC%86%A1%20/%20%EC%A7%84%EC%97%B4%EC%A4%91%EA%B3%A0%EC%83%81%ED%92%88&img=http://shopping.phinf.naver.net/main_8283753/8283753049.jpg HTTP/1.1\" 200 116\n",
      "10.0.2.2 - - [21/Aug/2016 18:27:37] \"GET /classify?name=[%ED%95%B4%EC%99%B8]3013661%20%20%20%20%20%20%20%20%20Hasselblad%20H5D-50%20DSLR%20Medium%20Format%20DSLR%20Camera%203013661%20[87664]&img=http://shopping.phinf.naver.net/main_8270005/8270005713.jpg HTTP/1.1\" 200 116\n",
      "10.0.2.2 - - [21/Aug/2016 18:27:37] \"GET /classify?name=[RICOH%20%EC%A0%95%ED%92%88]%20%EC%83%88%EB%A1%9C%EC%B6%9C%EC%8B%9C%20GRD4%20%ED%99%94%EC%9D%B4%ED%8A%B8%20%EC%95%A0%EB%94%94%EC%85%98%20%ED%95%9C%EC%A0%95%ED%8C%90%20/%EC%83%89%EA%B0%90%EC%A2%8B%EC%9D%80%20DSLR%20%EB%B6%80%EB%9F%BD%EC%A7%80%20%EC%95%8A%EC%9D%80%20%EC%9E%91%EC%9D%80%EA%B1%B0%EC%9D%B8%20[%EC%86%8C%EB%9F%89%EC%88%98%EB%9F%89%20%EC%9E%85%EA%B3%A0]%20(%EB%B9%A0%EB%A5%B8%EB%B0%B0%EC%86%A1)&img=http://shopping.phinf.naver.net/main_8237303/8237303994.jpg HTTP/1.1\" 200 116\n",
      "10.0.2.2 - - [21/Aug/2016 18:27:37] \"GET /classify?name=[%ED%95%B4%EC%99%B8]Tripp%20LiteTripp%20Lite%20PDUV30HV%20PDU%20Basic%20208V%20/%20240V%2030A%206%20C19;%2032%20C13%20L6-30P%20Vertical%200URM&img=http://shopping.phinf.naver.net/main_8275847/8275847210.jpg HTTP/1.1\" 200 116\n",
      "10.0.2.2 - - [21/Aug/2016 18:27:37] \"GET /classify?name=[%ED%95%B4%EC%99%B8]Tripp%20LiteTripp%20Lite%20PDUMH20HVATNET%20PDU%20Switched%20ATS%20200-240V%2016/20A%208%20C13%202%20C19%20C20%20Horizontal%20&img=http://shopping.phinf.naver.net/main_8275845/8275845136.jpg HTTP/1.1\" 200 116\n"
     ]
    },
    {
     "name": "stdout",
     "output_type": "stream",
     "text": [
      "classify called\n",
      "classify called\n",
      "classify called\n",
      "classify called\n",
      "classify called\n",
      "classify called\n",
      "classify called\n",
      "classify called\n",
      "classify called\n",
      "classify called\n",
      "classify called\n",
      "classify called\n",
      "classify called\n",
      "classify called\n",
      "classify called\n"
     ]
    },
    {
     "name": "stderr",
     "output_type": "stream",
     "text": [
      "10.0.2.2 - - [21/Aug/2016 18:27:37] \"GET /classify?name=[%ED%95%B4%EC%99%B8]1548%20%20%20%20%20%20%20%20%20Nikon%20D5500%20DSLR%20Camera%20with%2018-140mm%20Lens%20Black%201548%20[87580]&img=http://shopping.phinf.naver.net/main_8270137/8270137187.jpg HTTP/1.1\" 200 116\n",
      "10.0.2.2 - - [21/Aug/2016 18:27:37] \"GET /classify?name=[BC%EC%B9%B4%EB%93%9C%205%%ED%95%A0%EC%9D%B8,%203/20]%EC%BA%90%EB%85%BC%20EOS%20100D%20%ED%99%94%EC%9D%B4%ED%8A%B8%20%EB%8D%94%EB%B8%94%EB%A0%8C%EC%A6%88%ED%8C%A8%ED%82%A4%EC%A7%80(18-55mm%20STM%20+%2040mm%20F/2.8)&img=http://shopping.phinf.naver.net/main_8085670/8085670642.1.jpg HTTP/1.1\" 200 116\n",
      "10.0.2.2 - - [21/Aug/2016 18:27:37] \"GET /classify?name=%EC%9E%90%EC%9D%B4%EB%A1%9C%EC%BB%B4%20%EC%9E%90%EC%9D%B4%EB%B7%B0%20XV120PCI-BT%204%EC%B1%84%EB%84%90&img=http://shopping.phinf.naver.net/main_4105281/4105281894.20120211193211.jpg HTTP/1.1\" 200 90\n",
      "10.0.2.2 - - [21/Aug/2016 18:27:37] \"GET /classify?name=%EC%94%A8%EC%95%A4%EB%B9%84%ED%85%8D%20BDS1212&img=http://shopping.phinf.naver.net/main_4055288/4055288344.20120211202930.jpg HTTP/1.1\" 200 90\n",
      "10.0.2.2 - - [21/Aug/2016 18:27:37] \"GET /classify?name=USB%20DVR%204%ED%8F%AC%ED%8A%B8%20%EC%9E%A5%EC%B9%98(WP9422)[%EC%A2%8B%EC%9D%80%EC%A0%9C%ED%92%88!!%EC%A0%95%EC%84%B1%EB%B0%B0%EC%86%A1!!]&img=http://shopping.phinf.naver.net/main_7682727/7682727201.jpg HTTP/1.1\" 200 98\n",
      "10.0.2.2 - - [21/Aug/2016 18:27:37] \"GET /classify?name=MS120%204%EC%B1%84%EB%84%90%20%EC%B9%B4%EB%93%9C%20IDV120&img=http://shopping.phinf.naver.net/main_7776615/7776615081.jpg HTTP/1.1\" 200 90\n",
      "10.0.2.2 - - [21/Aug/2016 18:27:37] \"GET /classify?name=XV-USB%20[%ED%9A%8C%EC%9B%90%EA%B0%80%EC%9E%85%ED%9B%84%20%EC%A3%BC%EB%AC%B8%EC%8B%9C,%20%EC%82%AC%EC%97%85%EC%9E%90%EA%B0%80%EA%B2%A9%EC%9C%BC%EB%A1%9C%20%EC%A3%BC%EB%AC%B8%EA%B0%80%EB%8A%A5]&img=http://shopping.phinf.naver.net/main_7626302/7626302470.jpg HTTP/1.1\" 200 79\n",
      "10.0.2.2 - - [21/Aug/2016 18:27:37] \"GET /classify?name=SENTRY-3016&img=http://shopping.phinf.naver.net/main_7486566/7486566438.jpg HTTP/1.1\" 200 90\n",
      "10.0.2.2 - - [21/Aug/2016 18:27:37] \"GET /classify?name=[Coms]%20USB%20DVR%204%ED%8F%AC%ED%8A%B8%20%EC%9E%A5%EC%B9%98%20[EasyCAP%20DVR]&img=http://shopping.phinf.naver.net/main_8011538/8011538318.jpg HTTP/1.1\" 200 98\n",
      "10.0.2.2 - - [21/Aug/2016 18:27:37] \"GET /classify?name=[%ED%8B%B0%EB%B2%B3]%20PHP-04%204%EC%B1%84%EB%84%90%20H.264%20120/120FPS%20%EC%8A%A4%EB%A7%88%ED%8A%B8%ED%8F%B0%EC%A7%80%EC%9B%90%20%EC%82%AC%EC%9A%A9%EC%9E%90%EA%B0%80%ED%8E%B8%EB%A6%AC%ED%95%9C%EA%B8%B0%EB%8A%A5&img=http://shopping.phinf.naver.net/main_7225265/7225265661.jpg HTTP/1.1\" 200 90\n",
      "10.0.2.2 - - [21/Aug/2016 18:27:37] \"GET /classify?name=CQONE%20DV30%208%EC%B1%84%EB%84%90%ED%99%95%EC%9E%A5%EC%B9%B4%EB%93%9C%20CCTV%20DVR%20%EA%B0%90%EC%8B%9C%EC%B9%B4%EB%A9%94%EB%9D%BC%20%EB%85%B9%ED%99%94%EC%9E%A5%EC%B9%98&img=http://shopping.phinf.naver.net/main_6248468/6248468792.1.jpg HTTP/1.1\" 200 90\n",
      "10.0.2.2 - - [21/Aug/2016 18:27:37] \"GET /classify?name=%EC%9E%90%EC%9D%B4%EB%B7%B0%20XV120PCI-EXT4%204%EC%B2%B4%EB%84%90%20%ED%99%95%EC%9E%A5%EB%B3%B4%ED%8A%B8%20/%20%EB%8B%A8%EB%8F%85%EC%82%AC%EC%9A%A9%20%EB%B6%88%EA%B0%80%EB%8A%A5%20/%20XV120PCI%20%ED%99%95%EC%9E%A5%EB%B3%B4%EB%93%9C&img=http://shopping.phinf.naver.net/main_6768219/6768219769.jpg HTTP/1.1\" 200 90\n",
      "10.0.2.2 - - [21/Aug/2016 18:27:37] \"GET /classify?name=[%EC%9E%90%EC%9D%B4%EB%B7%B0]%204%EC%B1%84%EB%84%90%2030%ED%94%84%EB%A0%88%EC%9E%84%20%EB%9D%BC%EC%9D%B4%ED%8A%B8%EB%B2%84%EC%A0%84%20%EB%85%B9%ED%99%94%EC%B9%B4%EB%93%9C%20(XV400PCI-Lite)&img=http://shopping.phinf.naver.net/main_7844452/7844452470.jpg HTTP/1.1\" 200 90\n",
      "10.0.2.2 - - [21/Aug/2016 18:27:37] \"GET /classify?name=DVR%20%EC%9E%90%EC%9D%B4%EB%B7%B0%20USB%204%EC%B1%84%EB%84%90%20%EC%B9%B4%EB%93%9C%20(XY-USB)&img=http://shopping.phinf.naver.net/main_6768219/6768219770.jpg HTTP/1.1\" 200 90\n",
      "10.0.2.2 - - [21/Aug/2016 18:27:37] \"GET /classify?name=%EC%9E%90%EC%9D%B4%EB%B7%B0%20XV400%20PCI%20%EB%9D%BC%EC%9D%B4%ED%8A%B8%20-4%EC%B1%84%EB%84%90%2030%ED%94%84%EB%A0%88%EC%9E%84%20%EB%85%B9%ED%99%94%EC%B9%B4%EB%93%9C/CCTV%20%EA%B0%90%EC%8B%9C%EC%B9%B4%EB%A9%94%EB%9D%BC%20DVR%EC%99%B8&img=http://shopping.phinf.naver.net/main_5517155/5517155477.jpg HTTP/1.1\" 200 90\n"
     ]
    },
    {
     "name": "stdout",
     "output_type": "stream",
     "text": [
      "classify called\n",
      "classify called\n",
      "classify called\n",
      "classify called\n",
      "classify called\n",
      "classify called\n",
      "classify called\n",
      "classify called\n",
      "classify called\n",
      "classify called\n",
      "classify called\n",
      "classify called\n"
     ]
    },
    {
     "name": "stderr",
     "output_type": "stream",
     "text": [
      "10.0.2.2 - - [21/Aug/2016 18:27:37] \"GET /classify?name=%EC%82%BC%EC%84%B1%ED%85%8C%ED%81%AC%EC%9C%88-1%EC%9C%84%EB%8C%80%EB%A6%AC%EC%A0%90%20%EC%82%BC%EC%84%B1%EC%A0%95%ED%92%88%20SRD-445%20+%20SCO-2040R%202%EC%85%8B%20%EB%B0%A9%EC%88%98%EC%A0%81%EC%99%B8%EC%84%A0%20CCTV%20CCTV%EC%97%85%EA%B3%84%20%EC%B5%9C%EB%8B%A4%ED%8C%90%EB%A7%A4%EC%9C%A81%EC%9C%84%20%EC%B5%9C%EC%9A%B0%EC%88%98%ED%8C%90%EB%A7%A4%EC%9E%90%20%EC%84%A0%EC%A0%95&img=http://shopping.phinf.naver.net/main_5874245/5874245022.1.jpg HTTP/1.1\" 200 90\n",
      "10.0.2.2 - - [21/Aug/2016 18:27:37] \"GET /classify?name=[4%%EC%A6%89%EC%8B%9C%ED%95%A0%EC%9D%B8%EC%BF%A0%ED%8F%B0]%20%EC%9E%90%EC%9D%B4%EB%B7%B0%20XV400%204CH%20PCI&img=http://shopping.phinf.naver.net/main_4090788/4090788056.jpg HTTP/1.1\" 200 90\n",
      "10.0.2.2 - - [21/Aug/2016 18:27:37] \"GET /classify?name=%EC%94%A8%ED%8A%B8%EB%A7%81%20PD-0412%20+%20%EC%B9%B4%EB%A9%94%EB%9D%BC&img=http://shopping.phinf.naver.net/main_5750941/5750941388.20120211211853.jpg HTTP/1.1\" 200 90\n",
      "10.0.2.2 - - [21/Aug/2016 18:27:37] \"GET /classify?name=%EC%82%BC%EC%84%B1%ED%85%8C%ED%81%AC%EC%9C%88%20SDE-3002%20+%20%EC%B9%B4%EB%A9%94%EB%9D%BC&img=http://shopping.phinf.naver.net/main_5677627/5677627947.20120211205006.jpg HTTP/1.1\" 200 90\n",
      "10.0.2.2 - - [21/Aug/2016 18:27:37] \"GET /classify?name=5%EB%A7%8C%EC%9B%90%EC%9D%B4%EC%83%81%20%EB%AC%B4%EB%A3%8C%EB%B0%B0%EC%86%A1%EC%94%A8%EC%95%84%EC%9D%B4%EC%A6%88%20SC-16HDS%20[%20HD%EA%B8%89%20HDMI-1080P%EC%A7%80%EC%9B%90%2016%ED%99%94%EB%A9%B4%EB%B6%84%ED%95%A0%EA%B8%B0%20]&img=http://shopping.phinf.naver.net/main_6905556/6905556541.jpg HTTP/1.1\" 200 71\n",
      "10.0.2.2 - - [21/Aug/2016 18:27:37] \"GET /classify?name=SeeEyes%20SC-1NRR%20(%EC%88%98%EC%8B%A0%EA%B8%B0)%20%EA%B0%95%EB%A0%A5%ED%95%9C%20%EB%85%B8%EC%9D%B4%EC%A6%88%20%EC%A0%9C%EA%B1%B0%20%EB%B0%8F%20%EC%9C%A0%EC%9E%85%20%EB%B0%A9%EC%A7%80%EA%B8%B0%EB%8A%A5/CCTV%20DVR%20%EA%B0%90%EC%8B%9C%EC%B9%B4%EB%A9%94%EB%9D%BC%20%EB%85%B9%ED%99%94%EA%B8%B0%20%E2%99%A3%E2%99%A3%EC%B5%9C%EC%A0%80%EA%B0%80%EA%B2%A9%20%EC%B5%9C[%E2%99%A3%E2%99%A3%EC%B5%9C%EC%A0%80%EA%B0%80%EA%B2%A9%20%EC%B5%9C%EA%B3%A0%EC%84%B1%EB%8A%A5%E2%99%A3%E2%99%A3]&img=http://shopping.phinf.naver.net/main_6745211/6745211526.jpg HTTP/1.1\" 200 90\n",
      "10.0.2.2 - - [21/Aug/2016 18:27:37] \"GET /classify?name=[%ED%94%BC%EC%8B%9C%ED%8F%AC%EC%98%AC]%20%EC%9E%90%EC%9D%B4%EB%B7%B0%20XV400PCI%20+%20VX400PCI%20Lite%20%EC%9D%B8%ED%84%B0%EB%84%B7%EB%B2%84%EC%A0%84%20(8%EC%B1%84%EB%84%90/60%ED%94%84%EB%A0%88%EC%9E%84)%20%EB%8B%B9%EC%9D%BC%EB%B0%9C%EC%86%A1&img=http://shopping.phinf.naver.net/main_6735558/6735558466.6.jpg HTTP/1.1\" 200 90\n",
      "10.0.2.2 - - [21/Aug/2016 18:27:37] \"GET /classify?name=[151892](DVRcnc)%20DS-4208HFVI(H-264)%20%EB%82%B4%EC%9E%A5%ED%98%95%20DVR%EB%B3%B4%EB%93%9C%20[DS-2408HFD1(4CIF/8CH)H-264]&img=http://shopping.phinf.naver.net/main_7306382/7306382664.jpg HTTP/1.1\" 200 90\n",
      "10.0.2.2 - - [21/Aug/2016 18:27:37] \"GET /classify?name=%EC%9E%90%EC%9D%B4%EB%B7%B0%EC%84%B8%ED%8A%B8-01%20[DVR%EB%B3%B4%EB%93%9C%204%EC%B1%84%EB%84%90%2030%ED%94%84%EB%A0%88%EC%9E%84%20%EC%83%A4%ED%94%84%EB%8F%94%2027%EB%A7%8C%201/4%20 HTTP/1.1\" 200 90\n",
      "10.0.2.2 - - [21/Aug/2016 18:27:37] \"GET /classify?name=[AURA%20%EC%95%84%EC%9A%B0%EB%9D%BC]%20HV-2U%20Plus-400%20DVR%20+%20%EB%8F%94%EC%B9%B4%EB%A9%94%EB%9D%BC%202%EC%85%8B%ED%8A%B8/CCTV%20%EA%B0%90%EC%8B%9C%20%EC%B9%B4%EB%A9%94%EB%9D%BC%20%EB%85%B9%ED%99%94%EA%B8%B0%20%EC%99%B8[%20%EC%A2%8B%EC%9D%80%EC%A0%9C%ED%92%88%20%EB%B9%A0%EB%A5%B8%EB%B0%B0%EC%86%A1%20%EC%B9%9C%EC%A0%88%EC%83%81%EB%8B%B4%20]&img=http://shopping.phinf.naver.net/main_5629923/5629923167.jpg HTTP/1.1\" 200 90\n",
      "10.0.2.2 - - [21/Aug/2016 18:27:37] \"GET /classify?name=%EC%95%84%EC%9D%B4%EB%94%94%EC%A0%95%EB%B3%B4%ED%86%B5%EC%8B%A0%20MS30%204CH%20+%20%EC%B9%B4%EB%A9%94%EB%9D%BC&img=http://shopping.phinf.naver.net/main_1100202/1100202411.20120211200010.jpg HTTP/1.1\" 200 90\n",
      "10.0.2.2 - - [21/Aug/2016 18:27:37] \"GET /classify?name=%EC%95%84%EA%B5%AC%EC%8A%A4%20XAD-401%20+%20%EC%B9%B4%EB%A9%94%EB%9D%BC&img=http://shopping.phinf.naver.net/main_4753761/4753761202.20120211203555.jpg HTTP/1.1\" 200 90\n"
     ]
    },
    {
     "name": "stdout",
     "output_type": "stream",
     "text": [
      "classify called\n",
      "classify called\n",
      "classify called\n",
      "classify called\n",
      "classify called\n",
      "classify called\n",
      "classify called\n",
      "classify called\n",
      "classify called\n",
      "classify called\n",
      "classify called\n",
      "classify called\n",
      "classify called\n",
      "classify called\n",
      "classify called\n",
      "classify called\n"
     ]
    },
    {
     "name": "stderr",
     "output_type": "stream",
     "text": [
      "10.0.2.2 - - [21/Aug/2016 18:27:37] \"GET /classify?name=%EC%82%BC%EC%84%B1%ED%85%8C%ED%81%AC%EC%9C%88-1%EC%9C%84%EB%8C%80%EB%A6%AC%EC%A0%90%20SRD-445%20+%20XBK-50S%202%EC%85%8B%20%EA%B3%A0%EA%B8%89%ED%98%95%20%EC%A0%81%EC%99%B8%EC%84%A0%EB%B0%A9%EC%88%98%EC%B9%B4%EB%A9%94%EB%9D%BC%20CCTV%20CCTV%EC%97%85%EA%B3%84%20%EC%B5%9C%EB%8B%A4%ED%8C%90%EB%A7%A4%EC%9C%A81%EC%9C%84%20%EC%B5%9C%EC%9A%B0%EC%88%98%ED%8C%90%EB%A7%A4%EC%9E%90%20%EC%84%A0%EC%A0%95&img=http://shopping.phinf.naver.net/main_5957515/5957515694.1.jpg HTTP/1.1\" 200 90\n",
      "10.0.2.2 - - [21/Aug/2016 18:27:37] \"GET /classify?name=CCTV%20%20%EC%95%84%EC%9A%B0%EB%9D%BC%20AURA%20%20HV-400H%20960H%20DVR%20+%20%EC%A0%81%EC%99%B8%EC%84%A0%EC%B9%B4%EB%A9%94%EB%9D%BC&img=http://shopping.phinf.naver.net/main_5653092/5653092964.1.jpg HTTP/1.1\" 200 90\n",
      "10.0.2.2 - - [21/Aug/2016 18:27:37] \"GET /classify?name=%EC%9E%90%EC%9D%B4%EB%B7%B0%20120(XV120)%20CCTV%20DVR%EC%B9%B4%EB%93%9C%20%EB%8F%94%20%EA%B0%90%EC%8B%9C%EC%B9%B4%EB%A9%94%EB%9D%BC%204%EA%B0%9C(%EC%BC%80%EC%9D%B4%EB%B8%94%20%EC%96%B4%EB%8E%81%ED%84%B0)&img=http://shopping.phinf.naver.net/main_5506592/5506592654.jpg HTTP/1.1\" 200 90\n",
      "10.0.2.2 - - [21/Aug/2016 18:27:37] \"GET /classify?name=[]%20XV400%EB%9D%BC%EC%9D%B4%ED%8A%B8+%EB%8F%94%EC%B9%B4%EB%A9%94%EB%9D%BC%204%EC%84%B8%ED%8A%B8&img=http://shopping.phinf.naver.net/main_6744921/6744921509.1.jpg HTTP/1.1\" 200 87\n",
      "10.0.2.2 - - [21/Aug/2016 18:27:37] \"GET /classify?name=[]%20XV120PCI%20+%20%EC%A0%81%EC%99%B8%EC%84%A0%EC%B9%B4%EB%A9%94%EB%9D%BC3%EA%B0%9C(%EC%BC%80%EC%9D%B4%EB%B8%94+%EC%96%B4%EB%8E%81%ED%84%B0%ED%8F%AC%ED%95%A8)&img=http://shopping.phinf.naver.net/main_6744921/6744921521.2.jpg HTTP/1.1\" 200 79\n",
      "10.0.2.2 - - [21/Aug/2016 18:27:37] \"GET /classify?name=%EC%95%8C%EB%9D%BC%EB%94%98%20DVR%20%EC%9E%90%EC%9D%B4%EB%B7%B0%20XV400PCI%20+%2041%EB%A7%8C%20%EB%8F%94%20%EC%B9%B4%EB%A9%94%EB%9D%BC%20%ED%8C%A8%ED%82%A4%EC%A7%801&img=http://shopping.phinf.naver.net/main_5743375/5743375891.jpg HTTP/1.1\" 200 90\n",
      "10.0.2.2 - - [21/Aug/2016 18:27:37] \"GET /classify?name=%EC%9D%B4%EC%A7%80%ED%94%BC%EC%8A%A4%20EHR-F400%20+%20%EC%B9%B4%EB%A9%94%EB%9D%BC&img=http://shopping.phinf.naver.net/main_7428475/7428475687.20140124165358.jpg HTTP/1.1\" 200 90\n",
      "10.0.2.2 - - [21/Aug/2016 18:27:37] \"GET /classify?name=%EC%95%84%EC%9D%B4%EB%94%94%EC%8A%A4%20EDR-410%20+%20%EC%B9%B4%EB%A9%94%EB%9D%BC&img=http://shopping.phinf.naver.net/main_5899435/5899435275.20120211210505.jpg HTTP/1.1\" 200 90\n",
      "10.0.2.2 - - [21/Aug/2016 18:27:37] \"GET /classify?name=%EC%95%A0%EB%8B%88%EC%A7%80%EA%B8%B0%20YL-0430&img=http://shopping.phinf.naver.net/main_5909796/5909796535.20120211200009.jpg HTTP/1.1\" 200 107\n",
      "10.0.2.2 - - [21/Aug/2016 18:27:37] \"GET /classify?name=%EC%82%BC%EC%84%B1%ED%85%8C%ED%81%AC%EC%9C%88%20SRD-440%20+%20%EC%B9%B4%EB%A9%94%EB%9D%BC&img=http://shopping.phinf.naver.net/main_6225697/6225697878.20120316114310.jpg HTTP/1.1\" 200 90\n",
      "10.0.2.2 - - [21/Aug/2016 18:27:37] \"GET /classify?name=%EC%9E%90%EC%9D%B4%EB%A1%9C%EC%BB%B4%20%EC%9E%90%EC%9D%B4%EB%B7%B0%20XV120PCI-NX%204%EC%B1%84%EB%84%90&img=http://shopping.phinf.naver.net/main_5476072/5476072977.20120211202017.jpg HTTP/1.1\" 200 90\n",
      "10.0.2.2 - - [21/Aug/2016 18:27:37] \"GET /classify?name=KCE%20K4-U800&img=http://shopping.phinf.naver.net/main_5693242/5693242543.20120211193349.jpg HTTP/1.1\" 200 87\n",
      "10.0.2.2 - - [21/Aug/2016 18:27:37] \"GET /classify?name=%EB%82%98%EB%8B%A4%ED%85%94%20NVR-04P&img=http://shopping.phinf.naver.net/main_7420653/7420653390.20140117123809.jpg HTTP/1.1\" 200 90\n",
      "10.0.2.2 - - [21/Aug/2016 18:27:37] \"GET /classify?name=%EC%95%84%EC%9D%B4%EB%94%94%EC%8A%A4%20IDR-7216&img=http://shopping.phinf.naver.net/main_5588622/5588622777.20120211203400.jpg HTTP/1.1\" 200 90\n",
      "10.0.2.2 - - [21/Aug/2016 18:27:37] \"GET /classify?name=%EC%95%84%EC%9D%B4%EB%94%94%EC%8A%A4%20IDR-4516&img=http://shopping.phinf.naver.net/main_5521220/5521220092.20120211213101.jpg HTTP/1.1\" 200 90\n",
      "10.0.2.2 - - [21/Aug/2016 18:27:37] \"GET /classify?name=%EC%95%84%EC%9D%B4%EB%94%94%EC%8A%A4%20SDR-421&img=http://shopping.phinf.naver.net/main_5528341/5528341755.20120211194429.jpg HTTP/1.1\" 200 90\n"
     ]
    },
    {
     "name": "stdout",
     "output_type": "stream",
     "text": [
      "classify called\n",
      "classify called\n",
      "classify called\n",
      "classify called\n",
      "classify called\n",
      "classify called\n",
      "classify called\n",
      "classify called\n",
      "classify called\n",
      "classify called\n",
      "classify called\n",
      "classify called\n",
      "classify called\n",
      "classify called\n",
      "classify called\n",
      "classify called\n"
     ]
    },
    {
     "name": "stderr",
     "output_type": "stream",
     "text": [
      "10.0.2.2 - - [21/Aug/2016 18:27:37] \"GET /classify?name=%ED%9C%B4%EB%B0%94%EC%9D%B4%EB%A1%A0%20SK-R904&img=http://shopping.phinf.naver.net/main_7598294/7598294140.20140410115927.jpg HTTP/1.1\" 200 107\n",
      "10.0.2.2 - - [21/Aug/2016 18:27:37] \"GET /classify?name=%EC%9C%88%ED%8F%AC%EB%84%B7%20TRIUM-SH3104&img=http://shopping.phinf.naver.net/main_5702542/5702542040.20120211211557.jpg HTTP/1.1\" 200 87\n",
      "10.0.2.2 - - [21/Aug/2016 18:27:37] \"GET /classify?name=%EC%82%BC%EC%84%B1%ED%85%8C%ED%81%AC%EC%9C%88%20SVR-1645&img=http://shopping.phinf.naver.net/main_5509528/5509528141.20120211210917.jpg HTTP/1.1\" 200 90\n",
      "10.0.2.2 - - [21/Aug/2016 18:27:37] \"GET /classify?name=%EC%82%BC%EC%84%B1%ED%85%8C%ED%81%AC%EC%9C%88%20SVR-1650&img=http://shopping.phinf.naver.net/main_4840845/4840845085.20120211203336.jpg HTTP/1.1\" 200 90\n",
      "10.0.2.2 - - [21/Aug/2016 18:27:37] \"GET /classify?name=OPS-7204A&img=http://shopping.phinf.naver.net/main_7421061/7421061911.20140211113942.jpg HTTP/1.1\" 200 99\n",
      "10.0.2.2 - - [21/Aug/2016 18:27:37] \"GET /classify?name=%EB%9D%BC%EC%9D%B4%ED%8A%B8%EC%BB%B4%20EasyCAP%20DVR&img=http://shopping.phinf.naver.net/main_5448588/5448588118.20120211210905.jpg HTTP/1.1\" 200 90\n",
      "10.0.2.2 - - [21/Aug/2016 18:27:37] \"GET /classify?name=%EC%8B%9C%ED%81%90%EC%9D%B8%ED%8F%AC%20SENTRY-5416&img=http://shopping.phinf.naver.net/main_4091774/4091774522.20120211205644.jpg HTTP/1.1\" 200 90\n",
      "10.0.2.2 - - [21/Aug/2016 18:27:37] \"GET /classify?name=%EC%8B%9C%ED%81%90%EC%9D%B8%ED%8F%AC%20Sentry-5016&img=http://shopping.phinf.naver.net/main_4142965/4142965487.20120211202459.jpg HTTP/1.1\" 200 90\n",
      "10.0.2.2 - - [21/Aug/2016 18:27:37] \"GET /classify?name=(D)%EC%99%B8%EC%9E%A5%ED%95%98%EB%93%9C%201TB%20(6.4CM(2.5%ED%98%95)%EC%9E%90%EA%B0%9C%EC%97%90%EB%94%94%EC%85%98/%EC%84%A0%EC%9C%A0%EB%8F%84)%20[PCD10184]&img=http://shopping.phinf.naver.net/main_8274693/8274693624.jpg HTTP/1.1\" 200 115\n",
      "10.0.2.2 - - [21/Aug/2016 18:27:37] \"GET /classify?name=[PCD9114]%20%ED%95%98%EB%93%9C%20%EB%8F%84%ED%82%B9%20%EC%8A%A4%ED%85%8C%EC%9D%B4%EC%85%98%20(3500ES/eSATA%20USB2.0%206.4cm/8.9cm/%203.5%EC%9D%B8%EC%B9%98%ED%98%95%202.5%EC%9D%B8%EC%B9%98%ED%98%95/S-ATA%20%ED%95%98%EB%93%9C%20USB2.0%20%20%20eSATA/%ED%86%B5%EC%95%8C%EB%A3%A8%EB%AF%B8%EB%8A%84)&img=http://shopping.phinf.naver.net/main_8277891/8277891703.jpg HTTP/1.1\" 200 115\n",
      "10.0.2.2 - - [21/Aug/2016 18:27:37] \"GET /classify?name=[4%%EC%A6%89%EC%8B%9C%ED%95%A0%EC%9D%B8%EC%BF%A0%ED%8F%B0]%EB%94%94%EB%B9%85%EC%8A%A4%20ATV1000%20%EC%95%88%EB%93%9C%EB%A1%9C%EC%9D%B4%EB%93%9COS%20%ED%83%91%EC%9E%AC&img=http://shopping.phinf.naver.net/main_8230840/8230840673.jpg HTTP/1.1\" 200 115\n",
      "10.0.2.2 - - [21/Aug/2016 18:27:38] \"GET /classify?name=[%ED%95%B4%EC%99%B8]SeagateSeagate%20FreeAgent%20Theater%20HD%20Media%20Player%20STCEA101-RK&img=http://shopping.phinf.naver.net/main_8275722/8275722451.jpg HTTP/1.1\" 200 115\n",
      "10.0.2.2 - - [21/Aug/2016 18:27:38] \"GET /classify?name=ipTIME%20%EA%B3%B5%EC%9C%A0%EA%B8%B0%20NAS-I%20(NAS%20/%203.5%EC%9D%B8%EC%B9%98%201%EB%B2%A0%EC%9D%B4%20/%20HDD%20%EB%AF%B8%ED%83%91%EC%9E%AC%20/%20%EA%B8%B0%EA%B0%80%EB%B9%84%ED%8A%B8%20%EC%9C%A0%EC%84%A0)%20[PCD0563]&img=http://shopping.phinf.naver.net/main_8274526/8274526587.jpg HTTP/1.1\" 200 115\n",
      "10.0.2.2 - - [21/Aug/2016 18:27:38] \"GET /classify?name=ipTIME%20%EA%B3%B5%EC%9C%A0%EA%B8%B0%20NAS-I%20(NAS%20/%203.5%EC%9D%B8%EC%B9%98%201%EB%B2%A0%EC%9D%B4%20/%20HDD%20%EB%AF%B8%ED%83%91%EC%9E%AC%20/%20%EA%B8%B0%EA%B0%80%EB%B9%84%ED%8A%B8%20%EC%9C%A0%EC%84%A0)%20[PCD0563]&img=http://shopping.phinf.naver.net/main_8270642/8270642726.jpg HTTP/1.1\" 200 115\n",
      "10.0.2.2 - - [21/Aug/2016 18:27:38] \"GET /classify?name=(K)%ED%95%98%EB%93%9C%EB%94%94%EC%8A%A4%ED%81%AC%20%EB%B3%B4%ED%98%B8%20%EC%BC%80%EC%9D%B4%EC%8A%A4/3.5/5%EA%B0%9C%20%EC%88%98%EB%82%A9%EA%B0%80%EB%8A%A5%20[PCD10499]&img=http://shopping.phinf.naver.net/main_8277544/8277544177.jpg HTTP/1.1\" 200 109\n",
      "10.0.2.2 - - [21/Aug/2016 18:27:38] \"GET /classify?name=%EC%83%88%EB%A1%9C%ED%85%8D%20Abigs%20T20&img=http://shopping.phinf.naver.net/main_5626027/5626027267.20120211164610.jpg HTTP/1.1\" 200 115\n"
     ]
    },
    {
     "name": "stdout",
     "output_type": "stream",
     "text": [
      "classify called\n",
      "classify called\n",
      "classify called\n",
      "classify called\n",
      "classify called\n",
      "classify called\n",
      "classify called\n",
      "classify called\n",
      "classify called\n",
      "classify called\n",
      "classify called\n",
      "classify called\n",
      "classify called\n",
      "classify called\n"
     ]
    },
    {
     "name": "stderr",
     "output_type": "stream",
     "text": [
      "10.0.2.2 - - [21/Aug/2016 18:27:38] \"GET /classify?name=LI-1100%20%EA%B8%89%EC%86%8D%EC%B6%A9%EC%A0%84%EA%B8%B0%2018650%EC%A0%84%EC%9A%A9%201%EC%95%8C&img=http://shopping.phinf.naver.net/main_8249116/8249116585.jpg HTTP/1.1\" 200 115\n",
      "10.0.2.2 - - [21/Aug/2016 18:27:38] \"GET /classify?name=[G3965]%20Coms%20%EC%A0%84%ED%99%94%EC%84%A0%20%EC%BC%80%EC%9D%B4%EB%B8%94(%EC%9E%90%EB%8F%99%EA%B0%90%EA%B9%80)%203M%20%EB%B9%A8%EA%B0%95&img=http://shopping.phinf.naver.net/main_8250309/8250309958.jpg HTTP/1.1\" 200 79\n",
      "10.0.2.2 - - [21/Aug/2016 18:27:38] \"GET /classify?name=Coms%20LCD%20%EA%B1%B0%EC%B9%98%EB%8C%80%20-%20Pan/tilt/%20VESA%2075/100/%20%EC%B5%9C%EB%8C%80%2015Kg%20(MS2790)&img=http://shopping.phinf.naver.net/main_8246406/8246406014.jpg HTTP/1.1\" 200 115\n",
      "10.0.2.2 - - [21/Aug/2016 18:27:38] \"GET /classify?name=%EC%8B%9C%EB%A6%AC%EC%96%BC%ED%8F%AC%ED%8A%B8%20LP%EA%B0%80%EC%9D%B4%EB%93%9C%2040CM%20%EB%A9%94%EC%9D%B8%EB%B3%B4%EB%93%9C%EC%9A%A9&img=http://shopping.phinf.naver.net/main_8246418/8246418826.jpg HTTP/1.1\" 200 79\n",
      "10.0.2.2 - - [21/Aug/2016 18:27:38] \"GET /classify?name=LevelOne%20USB%20%EB%AC%B4%EC%84%A0%EB%9E%9C%EC%B9%B4%EB%93%9C/%204dBi%20%EC%95%88%ED%85%8C%EB%82%98%20%EB%B6%84%EB%A6%AC%EA%B0%80%EB%8A%A5(%EA%B5%90%EC%B2%B4%ED%98%95)&img=http://shopping.phinf.naver.net/main_8246406/8246406004.jpg HTTP/1.1\" 200 101\n",
      "10.0.2.2 - - [21/Aug/2016 18:27:38] \"GET /classify?name=%ED%97%88%EB%B8%8C%EB%9E%99%2018U%20%EC%95%84%EC%9D%B4%EB%B3%B4%EB%A6%AC%20LS-1000H&img=http://shopping.phinf.naver.net/main_8246419/8246419159.jpg HTTP/1.1\" 200 129\n",
      "10.0.2.2 - - [21/Aug/2016 18:27:38] \"GET /classify?name=USB%20%EC%88%98%EB%8F%99%EC%84%A0%ED%83%9D%EA%B8%B0%204B%201A%20%EB%B2%BD%EA%B1%B8%EC%9D%B4%ED%98%95&img=http://shopping.phinf.naver.net/main_8246413/8246413724.jpg HTTP/1.1\" 200 79\n",
      "10.0.2.2 - - [21/Aug/2016 18:27:38] \"GET /classify?name=(D)%EC%99%B8%EC%9E%A5%ED%95%98%EB%93%9C%20500GB%20(6.4CM(2.5%ED%98%95)%EC%9E%90%EA%B0%9C%EC%97%90%EB%94%94%EC%85%98/%ED%9B%88%EB%AF%BC%EC%A0%95%EC%9D%8C)%20[PCD10178]&img=http://shopping.phinf.naver.net/main_8277586/8277586572.jpg HTTP/1.1\" 200 115\n",
      "10.0.2.2 - - [21/Aug/2016 18:27:38] \"GET /classify?name=Coms%20LCD%20%EA%B1%B0%EC%B9%98%EB%8C%80%20-%20Low%20Profile/%20%EC%B5%9C%EB%8C%80%2035Kg%20(ML-L24)&img=http://shopping.phinf.naver.net/main_8246406/8246406018.jpg HTTP/1.1\" 200 115\n",
      "10.0.2.2 - - [21/Aug/2016 18:27:38] \"GET /classify?name=[%ED%95%B4%EC%99%B8]TV%20Stick%20Tronsmart%20T1000%20Mirror2%20Dongle%20Wireless%20Display%20Miracast%20AirPlay%20EZCast%20Full%20HD%201080P%20H&img=http://shopping.phinf.naver.net/main_8266128/8266128731.jpg HTTP/1.1\" 200 115\n",
      "10.0.2.2 - - [21/Aug/2016 18:27:38] \"GET /classify?name=[4%%EC%A6%89%EC%8B%9C%ED%95%A0%EC%9D%B8%EC%BF%A0%ED%8F%B0]%EC%9C%A0%EC%A0%A0%ED%8A%B8%20%EC%8A%A4%EB%A7%88%ED%8A%B8%ED%8F%B0/PTV2000%ED%9B%84%EC%86%8D%20%EB%84%B7%EA%B8%B0%EC%96%B4%20%EC%B0%A8%EC%84%B8%EB%8C%80%20%EB%AC%B4%EC%84%A0%EC%98%81%EC%83%81%EC%A0%84%EC%86%A1%EC%9E%A5%EC%B9%98%20PTVU1000%20%EB%85%B8%ED%8A%B8%EB%B6%81%20%EB%8C%80%EC%9D%91%20%ED%92%80HD%201080p%EC%A7%80%EC%9B%90%20/%EC%8A%A4%EB%A7%88%ED%8A%B8%ED%8F%B0&img=http://shopping.phinf.naver.net/main_7383129/7383129880.jpg HTTP/1.1\" 200 72\n",
      "10.0.2.2 - - [21/Aug/2016 18:27:38] \"GET /classify?name=%ED%86%A0%ED%94%BD%20%EC%82%B0%EC%95%85%EC%9E%90%EC%A0%84%EA%B1%B0%EC%9A%A9%20%ED%9C%B4%EB%8C%80%EC%9A%A9%20%EA%B3%B5%EA%B5%AC%20Mini%209%20MT&img=http://shopping.phinf.naver.net/main_8005659/8005659704.jpg HTTP/1.1\" 200 129\n",
      "10.0.2.2 - - [21/Aug/2016 18:27:38] \"GET /classify?name=iXtreamer%20+%20ice%20cube(%EB%AC%B4%EB%A3%8C%EC%A6%9D%EC%A0%95)/%EB%94%94%EB%B9%85%EC%8A%A4%ED%94%8C%EB%A0%88%EC%9D%B4%EC%96%B4/%203.5%EC%9D%B8%EC%B9%98/%20SATA/1080%ED%92%80HD%20%EC%95%84%EC%9D%B4%ED%8F%B0%20%EC%95%84%EC%9D%B4%ED%8C%9F%20%EC%95%84%EC%9D%B4%ED%8C%A8%EB%93%9C%20%EB%8F%84%ED%82%B9%20%EB%A9%80%ED%8B%B0%EB%AF%B8%EB%94%94%EC%96%B4%20%ED%94%8C%EB%A0%88%EC%9D%B4(iXtreamer)&img=http://shopping.phinf.naver.net/main_6952319/6952319589.jpg HTTP/1.1\" 200 115\n",
      "10.0.2.2 - - [21/Aug/2016 18:27:38] \"GET /classify?name=%EC%83%88%EB%A1%9C%ED%85%8D%20abigs%20Q3II&img=http://shopping.phinf.naver.net/main_7522069/7522069217.20140226155917.jpg HTTP/1.1\" 200 115\n"
     ]
    },
    {
     "name": "stdout",
     "output_type": "stream",
     "text": [
      "classify called\n",
      "classify called\n",
      "classify called\n",
      "classify called\n",
      "classify called\n",
      "classify called\n",
      "classify called\n",
      "classify called\n",
      "classify called\n",
      "classify called\n",
      "classify called\n",
      "classify called\n",
      "classify called\n",
      "classify called\n",
      "classify called\n",
      "classify called\n"
     ]
    },
    {
     "name": "stderr",
     "output_type": "stream",
     "text": [
      "10.0.2.2 - - [21/Aug/2016 18:27:38] \"GET /classify?name=[4%%EC%A6%89%EC%8B%9C%ED%95%A0%EC%9D%B8%EC%BF%A0%ED%8F%B0]%EC%B9%B4%EB%A9%9C%20%EB%94%94%EB%B9%85%EC%8A%A4%20ATV1000%20%EC%95%88%EB%93%9C%EB%A1%9C%EC%9D%B4%EB%93%9COS%20%ED%83%91%EC%9E%AC&img=http://shopping.phinf.naver.net/main_8228747/8228747514.jpg HTTP/1.1\" 200 115\n",
      "10.0.2.2 - - [21/Aug/2016 18:27:38] \"GET /classify?name=[FV]%EB%8B%B9%EC%9D%BC%EC%B6%9C%EA%B3%A0%20AV-A9%20%EC%95%88%EB%93%9C%EB%A1%9C%EC%9D%B4%EB%93%9C%EC%85%8B%ED%83%91%20%EB%94%94%EB%B9%85%EC%8A%A4%ED%94%8C%EB%A0%88%EC%9D%B4%EC%96%B4,%EB%94%94%EB%B9%85%EC%8A%A4,%EC%8A%A4%EB%A7%88%ED%8A%B8TV&img=http://shopping.phinf.naver.net/main_8201026/8201026167.jpg HTTP/1.1\" 200 115\n",
      "10.0.2.2 - - [21/Aug/2016 18:27:38] \"GET /classify?name=Full%20HD.%EB%AF%B8%EB%9D%BC%EC%BA%90%EC%8A%A4%ED%8A%B8.DLNA.AP%EB%AA%A8%EB%93%9C.MHL.%EC%8A%A4%ED%8A%B8%EB%A6%AC%EB%B0%8D.HDMI%20[%EC%9C%A0%EB%8B%88%EC%BD%98]Xtreamer%20WIFI-Display%20A1%20%EB%AC%B4%EC%84%A0%EC%98%81%EC%83%81%EC%96%B4%EB%8C%91%ED%84%B0&img=http://shopping.phinf.naver.net/main_8219112/8219112788.jpg HTTP/1.1\" 200 115\n",
      "10.0.2.2 - - [21/Aug/2016 18:27:38] \"GET /classify?name=(D)%EC%99%B8%EC%9E%A5%ED%95%98%EB%93%9C%20500GB%20(6.4CM(2.5%ED%98%95)%EC%9E%90%EA%B0%9C%EC%97%90%EB%94%94%EC%85%98/%EC%84%A0%EC%9C%A0%EB%8F%84)%20[PCD10180]&img=http://shopping.phinf.naver.net/main_8277537/8277537306.jpg HTTP/1.1\" 200 115\n",
      "10.0.2.2 - - [21/Aug/2016 18:27:38] \"GET /classify?name=%EB%94%94%EB%B9%84%EC%BD%94%20TVIX%20PVR%20R-2210%20&img=http://shopping.phinf.naver.net/main_4146170/4146170745.20120211164319.jpg HTTP/1.1\" 200 101\n",
      "10.0.2.2 - - [21/Aug/2016 18:27:38] \"GET /classify?name=[PCD9127]%20USB3.0%208.9cm%20%EC%99%B8%EC%9E%A5%ED%95%98%EB%93%9C%EC%BC%80%EC%9D%B4%EC%8A%A4%20(HC5000/%ED%95%98%EB%93%9C%EB%AF%B8%ED%8F%AC%ED%95%A8/3.5%ED%98%95/COMBO(IDE/SATA)/%EC%99%B8%EB%B6%80AC%EC%A0%84%EC%9B%90)&img=http://shopping.phinf.naver.net/main_8274526/8274526081.jpg HTTP/1.1\" 200 72\n",
      "10.0.2.2 - - [21/Aug/2016 18:27:38] \"GET /classify?name=%EC%BB%B4%ED%93%A8%ED%84%B0%EC%9A%A9%ED%92%88%20UNICORN%20%EC%BD%A9%EC%8A%A4%ED%86%A0%EC%96%B4&img=http://shopping.phinf.naver.net/main_8268994/8268994416.jpg HTTP/1.1\" 200 91\n",
      "10.0.2.2 - - [21/Aug/2016 18:27:38] \"GET /classify?name=[PCD9108]%208.9cm%20%EC%99%B8%EC%9E%A5%20%ED%95%98%EB%93%9C%EC%BC%80%EC%9D%B4%EC%8A%A4%20(SATA/%ED%86%B5%EC%95%8C%EB%A3%A8%EB%AF%B8%EB%8A%84/3500S)&img=http://shopping.phinf.naver.net/main_8277578/8277578306.jpg HTTP/1.1\" 200 72\n",
      "10.0.2.2 - - [21/Aug/2016 18:27:38] \"GET /classify?name=USB%20%EC%99%B8%EC%9E%A5%ED%98%95%20COMBO%20ODD%20[PCD9216]&img=http://shopping.phinf.naver.net/main_8274598/8274598808.jpg HTTP/1.1\" 200 72\n",
      "10.0.2.2 - - [21/Aug/2016 18:27:38] \"GET /classify?name=[PCD7468]%20USB3.0%20%EC%99%B8%EC%9E%A5%20%ED%95%98%EB%93%9C%EB%AA%A8%EB%93%88(I-NA216U2%20Plus/%ED%95%98%EB%93%9C%EB%AF%B8%ED%8F%AC%ED%95%A8)%20USB3.0%20%EC%99%B8%EC%9E%A5%20%ED%95%98%EB%93%9C%EC%BC%80%EC%9D%B4%EC%8A%A4(%ED%94%8C%EB%9D%BC%EC%8A%A4%ED%8B%B1%20%EC%BC%80%EC%9D%B4%EC%8A%A4)&img=http://shopping.phinf.naver.net/main_8277543/8277543054.jpg HTTP/1.1\" 200 115\n",
      "10.0.2.2 - - [21/Aug/2016 18:27:38] \"GET /classify?name=[%ED%95%B4%EC%99%B8]RCARCA%20DSB876WU-WH%20Wi-Fi%20Streaming%20Media%20Player&img=http://shopping.phinf.naver.net/main_8275771/8275771071.jpg HTTP/1.1\" 200 115\n",
      "10.0.2.2 - - [21/Aug/2016 18:27:38] \"GET /classify?name=(K)%ED%95%98%EB%93%9C%EB%94%94%EC%8A%A4%ED%81%AC%20%EB%B3%B4%ED%98%B8%20%EC%BC%80%EC%9D%B4%EC%8A%A4/3.5/5%EA%B0%9C%20%EC%88%98%EB%82%A9%EA%B0%80%EB%8A%A5%20[PCD10499]&img=http://shopping.phinf.naver.net/main_8274529/8274529900.jpg HTTP/1.1\" 200 109\n",
      "10.0.2.2 - - [21/Aug/2016 18:27:38] \"GET /classify?name=(K)%ED%95%98%EB%93%9C%EB%94%94%EC%8A%A4%ED%81%AC%20%EB%B3%B4%ED%98%B8%20%EC%BC%80%EC%9D%B4%EC%8A%A4/3.5/5%EA%B0%9C%20%EC%88%98%EB%82%A9%EA%B0%80%EB%8A%A5%20[PCD10499]&img=http://shopping.phinf.naver.net/main_8232040/8232040628.jpg HTTP/1.1\" 200 109\n",
      "10.0.2.2 - - [21/Aug/2016 18:27:38] \"GET /classify?name=[%ED%95%B4%EC%99%B8]Western%20DigitalWestern%20Digital%20WDBHG70000NBK-HESN%20(RECERTIFIED)%201080p%20WD%20TV%20Live%20Streaming%20Media&img=http://shopping.phinf.naver.net/main_8275771/8275771073.jpg HTTP/1.1\" 200 115\n",
      "10.0.2.2 - - [21/Aug/2016 18:27:38] \"GET /classify?name=[%ED%95%B4%EC%99%B8]GoogleGoogle%20Chromecast%20HDMI%20Streaming%20Media%20Player%20for%20TVs%20-%20HDMI%20Streaming%20For%20TV&img=http://shopping.phinf.naver.net/main_8275989/8275989418.jpg HTTP/1.1\" 200 115\n",
      "10.0.2.2 - - [21/Aug/2016 18:27:38] \"GET /classify?name=[%ED%95%B4%EC%99%B8]Western%20DigitalWestern%20Digital%20WD%20TV%20Live%20Media%20Player%20Wi-fi%201080p&img=http://shopping.phinf.naver.net/main_8275627/8275627277.jpg HTTP/1.1\" 200 115\n"
     ]
    },
    {
     "name": "stdout",
     "output_type": "stream",
     "text": [
      "classify called\n",
      "classify called\n",
      "classify called\n",
      "classify called\n",
      "classify called\n",
      "classify called\n",
      "classify called\n",
      "classify called\n",
      "classify called\n",
      "classify called\n",
      "classify called\n",
      "classify called\n",
      "classify called\n",
      "classify called\n",
      "classify called\n",
      "classify called\n"
     ]
    },
    {
     "name": "stderr",
     "output_type": "stream",
     "text": [
      "10.0.2.2 - - [21/Aug/2016 18:27:38] \"GET /classify?name=Opticis%20HD%EB%AF%B8%EB%94%94%EC%96%B4%20%ED%94%8C%EB%A0%88%EC%9D%B4%EC%96%B4(%EB%84%A4%ED%8A%B8%EC%9B%8C%ED%81%AC%EC%A7%80%EC%9B%90)HDMP-1000&img=http://shopping.phinf.naver.net/main_8235341/8235341743.jpg HTTP/1.1\" 200 115\n",
      "10.0.2.2 - - [21/Aug/2016 18:27:38] \"GET /classify?name=[NETGEAR%20PTV3000]%20Intel%20WiDi%20%ED%83%91%EC%9E%AC%EB%90%9C%20%EB%85%B8%ED%8A%B8%EB%B6%81%EC%97%90%EC%84%9C%20%EB%8C%80%ED%98%95%EC%8A%A4%ED%81%AC%EB%A6%B0TV%20%ED%92%80HD%ED%99%94%EB%A9%B4%EC%9C%BC%EB%A1%9C%20%EB%AF%B8%EB%9D%BC%EC%BA%90%EC%8A%A4%ED%8A%B8%20%EC%A7%80%EC%9B%90&img=http://shopping.phinf.naver.net/main_8242176/8242176723.jpg HTTP/1.1\" 200 62\n",
      "10.0.2.2 - - [21/Aug/2016 18:27:38] \"GET /classify?name=(DA)TLC%20%EB%AA%A8%EB%8E%80%20DA-MMB-200%201%EA%B0%9C(%EB%8B%A8%EB%8F%85%EC%82%AC%EC%9A%A9%EB%B6%88%EA%B0%80)/&img=http://shopping.phinf.naver.net/main_8244683/8244683191.jpg HTTP/1.1\" 200 141\n",
      "10.0.2.2 - - [21/Aug/2016 18:27:38] \"GET /classify?name=[%ED%95%B4%EC%99%B8]2014%20Tronsmart%20T1000%20Miracast%20Dongle%20Better%20Google%20Chromecast%20HDMI%20Wireless%20Display%20DLNA%20Ezcast%20&img=http://shopping.phinf.naver.net/main_8266127/8266127330.jpg HTTP/1.1\" 200 115\n",
      "10.0.2.2 - - [21/Aug/2016 18:27:38] \"GET /classify?name=[4%%EC%A6%89%EC%8B%9C%ED%95%A0%EC%9D%B8%EC%BF%A0%ED%8F%B0]%EC%BD%94%EB%93%9C%ED%94%84%EB%A6%AC%20%ED%9C%B4%EB%8C%80%EC%9A%A9%20%EC%B0%A8%EB%9F%89%EC%9A%A9%20%EA%B0%80%EC%A0%95%EC%9A%A9%20DVD/DIVX%20USB%20/DKT1&img=http://shopping.phinf.naver.net/main_8225428/8225428164.jpg HTTP/1.1\" 200 72\n",
      "10.0.2.2 - - [21/Aug/2016 18:27:38] \"GET /classify?name=%EC%9C%A0%EB%8B%88%EC%BD%98%20Xtreamer%20DVD/DivX%20COMBO&img=http://shopping.phinf.naver.net/main_5732000/5732000705.20120211165512.jpg HTTP/1.1\" 200 115\n",
      "10.0.2.2 - - [21/Aug/2016 18:27:38] \"GET /classify?name=[%ED%95%B4%EC%99%B8]%EC%95%84%EB%9E%8D%EC%96%B4%20IPTV%EC%9D%98%20APK%20%EC%95%88%EB%93%9C%EB%A1%9C%EC%9D%B4%EB%93%9C%20IPTV%20%EC%83%81%EC%9E%90%EA%B0%80%20%EC%95%84%EB%9E%8D%EC%96%B4%EC%9D%98%20IPTV%20BOX1%20%EB%85%84%20APK%EB%8A%94%20%EC%95%84%EB%9E%8D%EC%96%B4%EC%99%80%20%ED%94%84%EB%9E%91%EC%8A%A4%EC%96%B4%20%EC%B1%84%EB%84%90%EC%9D%84%20%EC%A3%BC%EB%AC%B8%ED%95%98%EA%B8%B0%20%EC%A0%84%EC%97%90%20%ED%85%8C%EC%8A%A4%ED%8A%B8%20%ED%95%A0%20%EC%88%98%20%20account300%EC%97%90%20%EB%8C%80%ED%95%9C&img=http://shopping.phinf.naver.net/main_8158363/8158363319.jpg HTTP/1.1\" 200 115\n",
      "10.0.2.2 - - [21/Aug/2016 18:27:38] \"GET /classify?name=[%ED%95%B4%EC%99%B8]%EC%95%88%EB%93%9C%EB%A1%9C%EC%9D%B4%EB%93%9C%20TV%20%EB%B0%95%EC%8A%A4%EC%97%90%20%EB%8C%80%ED%95%9C%206%EA%B0%9C%EC%9B%94%20%EB%A7%90%EB%A0%88%EC%9D%B4%EC%8B%9C%EC%95%84%20APK%20%EA%B3%84%EC%A0%95%20IPTV%20%EC%9D%B8%EB%8F%84%EB%84%A4%EC%8B%9C%EC%95%84%20%EC%8B%B1%EA%B0%80%ED%8F%AC%EB%A5%B4%20%EB%A7%90%EB%A0%88%EC%9D%B4%EC%8B%9C%EC%95%84%20%EC%97%90%20%EC%B2%9C%EC%B2%B4%20%EC%A0%84%EC%B2%B4%20%EC%B1%84%EB%84%90%EC%9D%84%20%EC%A7%80%EC%9B%90/6%20months%20Malaysia%20APK%20Acco&img=http://shopping.phinf.naver.net/main_8158361/8158361716.jpg HTTP/1.1\" 200 115\n",
      "10.0.2.2 - - [21/Aug/2016 18:27:38] \"GET /classify?name=[%ED%95%B4%EC%99%B8]GV-17%20190,130%20%EC%95%88%EB%93%9C%EB%A1%9C%EC%9D%B4%EB%93%9C%204.0%20CPU%EC%9D%98%20A10%201.5GHz%EC%9D%98%20WIFI%208%EA%B8%B0%EA%B0%80%EB%B0%94%EC%9D%B4%ED%8A%B8%20TV%20%EC%83%81%EC%9E%90%20HDMI%201080PCamera%20VGA%20AV%20%EC%9B%90%EA%B2%A9%20%EC%A0%9C%EC%96%B4/GV-17%20%EC%95%88&img=http://shopping.phinf.naver.net/main_8158363/8158363365.jpg HTTP/1.1\" 200 115\n",
      "10.0.2.2 - - [21/Aug/2016 18:27:38] \"GET /classify?name=%EC%83%88%EB%A1%9C%ED%85%8D%20Abigs%20%EC%97%90%EC%9D%B4%EB%B9%85%EC%8A%A4%20Q10%202%206TB%20%ED%95%98%EB%93%9C%ED%8F%AC%ED%95%A8%20DivX%ED%94%8C%EB%A0%88%EC%9D%B4%EC%96%B4&img=http://shopping.phinf.naver.net/main_8175504/8175504062.jpg HTTP/1.1\" 200 115\n",
      "10.0.2.2 - - [21/Aug/2016 18:27:38] \"GET /classify?name=[MIRASTICK-C2]FULL-HD%EC%8A%A4%EB%A7%88%ED%8A%B8%ED%8F%B0%20%EB%AF%B8%EB%9F%AC%EB%A7%81/%EB%AF%B8%EB%9D%BC%EC%BA%90%EC%8A%A4%ED%8A%B8/%EA%B3%A0%ED%95%B4%EC%83%81%EB%8F%841920X1080P%EC%A7%80%EC%9B%90/%EB%B6%80%EB%93%9C%EB%9F%AC%EC%9A%B4%EC%98%81%EC%83%81/%EC%8A%A4%EB%A7%88%ED%8A%B8%ED%8F%B0%ED%99%94%EB%A9%B4%EC%9D%84%20TV%EB%A1%9C&img=http://shopping.phinf.naver.net/main_7789109/7789109275.jpg HTTP/1.1\" 200 79\n",
      "10.0.2.2 - - [21/Aug/2016 18:27:38] \"GET /classify?name=Seagate%206TB%20Surveillance%20HDD%20Rescue%20ST6000VX0011&img=http://shopping.phinf.naver.net/main_8256190/8256190893.jpg HTTP/1.1\" 200 72\n",
      "10.0.2.2 - - [21/Aug/2016 18:27:38] \"GET /classify?name=%EC%94%A8%EA%B2%8C%EC%9D%B4%ED%8A%B8%20NAS%20%20%20%EC%84%9C%EB%B2%84%EC%9A%A9%203.5%ED%98%95%20HDD%20%EC%BB%A8%EC%8A%A4%ED%85%94%EB%A0%88%EC%9D%B4%EC%85%98%20ES.3%20SAS%202TB%20/%20128MB%20/%207200RPM%20(ST2000NM0023)&img=http://shopping.phinf.naver.net/main_7527224/7527224909.jpg HTTP/1.1\" 200 72\n",
      "10.0.2.2 - - [21/Aug/2016 18:27:38] \"GET /classify?name=Seagate%201TB%20Video%20ST1000VM002%203.5%20HDD%20(SATA3/5900RPM/64MB)&img=http://shopping.phinf.naver.net/main_7868676/7868676246.jpg HTTP/1.1\" 200 72\n",
      "10.0.2.2 - - [21/Aug/2016 18:27:38] \"GET /classify?name=1TB%20Video%20ST1000VM002%203.5%20HDD%20(SATA3/5900RPM/64MB)&img=http://shopping.phinf.naver.net/main_7769943/7769943948.jpg HTTP/1.1\" 200 72\n",
      "10.0.2.2 - - [21/Aug/2016 18:27:38] \"GET /classify?name=TP%20Seagate%201TB%20Video%20ST1000VM002%20SATA3%205900RPM%2064M&img=http://shopping.phinf.naver.net/main_8290704/8290704543.jpg HTTP/1.1\" 200 72\n",
      "10.0.2.2 - - [21/Aug/2016 18:27:38] \"GET /classify?name=%EC%94%A8%EA%B2%8C%EC%9D%B4%ED%8A%B8%20Video%203.5%20HDD%201TB%20(ST1000VM002)&img=http://shopping.phinf.naver.net/main_7906569/7906569280.jpg HTTP/1.1\" 200 72\n",
      "10.0.2.2 - - [21/Aug/2016 18:27:38] \"GET /classify?name=%EC%94%A8%EA%B2%8C%EC%9D%B4%ED%8A%B8%20SV35+Rescue%20ST3000VX004%203TB%20%ED%95%98%EB%93%9C%EB%94%94%EC%8A%A4%ED%81%AC%20(SATA3/7200RPM/64MB)%20%20%EC%82%AC%EC%9D%80%ED%92%88%20:%20%EC%84%A0%EC%B0%A9%EC%88%9C%20300%EB%AA%85%20%EC%9D%91%EA%B8%89%20%EA%B5%AC%EA%B8%89%ED%82%A4%ED%8A%B8%201:1%20%EC%A6%9D%EC%A0%95&img=http://shopping.phinf.naver.net/main_8173295/8173295126.jpg HTTP/1.1\" 200 72\n",
      "10.0.2.2 - - [21/Aug/2016 18:27:38] \"GET /classify?name=Seagate%20%202TB%20Video%20ST2000VM003%203.5%20HDD%20(SATA3/5900/64M)&img=http://shopping.phinf.naver.net/main_8419261/8419261713.jpg HTTP/1.1\" 200 72\n",
      "10.0.2.2 - - [21/Aug/2016 18:27:38] \"GET /classify?name=%EC%94%A8%EA%B2%8C%EC%9D%B4%ED%8A%B8%20Video%20ST2000VM003%202TB%20%ED%95%98%EB%93%9C%EB%94%94%EC%8A%A4%ED%81%AC%20(SATA3/5900RPM/64MB)&img=http://shopping.phinf.naver.net/main_7783404/7783404515.jpg HTTP/1.1\" 200 72\n",
      "10.0.2.2 - - [21/Aug/2016 18:27:38] \"GET /classify?name=[%EC%82%BC%EC%84%B1%EC%B9%B4%EB%93%9C5%%ED%95%A0%EC%9D%B8~16%EC%9D%BC%EA%B9%8C%EC%A7%80][%EC%94%A8%EA%B2%8C%EC%9D%B4%ED%8A%B8%EA%B3%B5%EC%8B%9D%EC%B4%9D%ED%8C%90/%EB%8C%80%EC%9B%90CTS]%20Seagate%20Video%20HDD%20-%202TB%20(ST2000VM003)&img=http://shopping.phinf.naver.net/main_7824398/7824398377.jpg HTTP/1.1\" 200 72\n",
      "10.0.2.2 - - [21/Aug/2016 18:27:38] \"GET /classify?name=[%EC%82%BC%EC%84%B1%EC%B9%B4%EB%93%9C5%][%EC%94%A8%EA%B2%8C%EC%9D%B4%ED%8A%B8%EA%B3%B5%EC%8B%9D%EC%B4%9D%ED%8C%90/%EB%8C%80%EC%9B%90CTS]%20Seagate%20Video%20HDD%20-%202TB%20(ST2000VM003/SATA3/5900RPM/64MB/%EB%B3%B4%EC%95%88%EA%B0%90%EC%8B%9C%EC%A0%84%EC%9A%A9%ED%95%98%EB%93%9C%EB%94%94%EC%8A%A4%ED%81%AC/3%EB%85%84AS)&img=http://shopping.phinf.naver.net/main_7841380/7841380114.1.jpg HTTP/1.1\" 200 72\n",
      "10.0.2.2 - - [21/Aug/2016 18:27:38] \"GET /classify?name=[%EC%82%BC%EC%84%B1%EC%B9%B4%EB%93%9C5%%ED%95%A0%EC%9D%B8][Seagate]%20[%EC%94%A8%EA%B2%8C%EC%9D%B4%ED%8A%B8%EA%B3%B5%EC%8B%9D%EC%B4%9D%ED%8C%90/%EB%8C%80%EC%9B%90CTS]Seagate%20Enterprise%20NAS%20HDD%20-%205TB(ST5000VN0001/%EB%82%98%EC%8A%A4%EC%A0%84%EC%9A%A9/SATA3/7200RPM&img=http://shopping.phinf.naver.net/main_8394480/8394480113.jpg HTTP/1.1\" 200 72\n",
      "10.0.2.2 - - [21/Aug/2016 18:27:38] \"GET /classify?name=%EC%94%A8%EA%B2%8C%EC%9D%B4%ED%8A%B8%20Seagate%20Enterprise%20NAS%203.5%20HDD%20-%205TB(ST5000VN0001)%20SATA3/7200RPM/128MB/%EB%82%98%EC%8A%A4%EC%A0%84%EC%9A%A9%ED%95%98%EB%93%9C%EB%94%94%EC%8A%A4%ED%81%AC/5%EB%85%84AS&img=http://shopping.phinf.naver.net/main_8323140/8323140643.jpg HTTP/1.1\" 200 72\n",
      "10.0.2.2 - - [21/Aug/2016 18:27:38] \"GET /classify?name=[Seagate%EA%B3%B5%EC%8B%9D%EC%B4%9D%ED%8C%90%EC%A0%90/%EB%8C%80%EC%9B%90CTS]%EC%94%A8%EA%B2%8C%EC%9D%B4%ED%8A%B8%20Enterprise%20NAS%20HDD%20-%203TB(ST3000VN0001/%EB%82%98%EC%8A%A4%EC%A0%84%EC%9A%A9/SATA3/7200RPM/128MB)&img=http://shopping.phinf.naver.net/main_8388788/8388788387.jpg HTTP/1.1\" 200 72\n",
      "10.0.2.2 - - [21/Aug/2016 18:27:38] \"GET /classify?name=3TB%20Enterprise%20NAS%20ST3000VN0001%20SATA3/7200/128M&img=http://shopping.phinf.naver.net/main_8319671/8319671203.jpg HTTP/1.1\" 200 72\n",
      "10.0.2.2 - - [21/Aug/2016 18:27:38] \"GET /classify?name=[BNB]%20[Seagate]%203TB%20Enterprise%20NAS%20HDD%20ST3000VN0001%20(SATA3/7&img=http://shopping.phinf.naver.net/main_8375361/8375361488.jpg HTTP/1.1\" 200 72\n",
      "10.0.2.2 - - [21/Aug/2016 18:27:38] \"GET /classify?name=(EZ)%20Seagate%204TB%20Enterprise%20NAS%20ST4000VN0001%20SATA3/7200%20[%EC%94%A8%EA%B2%8C%EC%9D%B4%ED%8A%B8%20%EB%8D%B0%EC%8A%A4%ED%81%AC%ED%83%91%20%ED%95%98%EB%93%9C]&img=http://shopping.phinf.naver.net/main_8430217/8430217174.jpg HTTP/1.1\" 200 72\n",
      "10.0.2.2 - - [21/Aug/2016 18:27:38] \"GET /classify?name=%EC%95%84%EC%9D%B4%EB%94%94%EC%A1%B4%20Seagate%204TB%20Enterprise%20NAS%20ST4000VN0001%20(SATA3/7200/128M)%20%EC%A0%95%EC%A7%81%ED%95%9C%EA%B8%B0%EC%97%85%EC%9D%B4%EB%90%98%EA%B2%A0%EC%8A%B5%EB%8B%88%EB%8B%A4.%EC%95%84%EC%9D%B4%EB%94%94%EC%A1%B4&img=http://shopping.phinf.naver.net/main_8433946/8433946434.jpg HTTP/1.1\" 200 72\n"
     ]
    },
    {
     "name": "stdout",
     "output_type": "stream",
     "text": [
      "classify called\n",
      "classify called\n",
      "classify called\n",
      "classify called\n",
      "classify called\n",
      "classify called\n",
      "classify called\n",
      "classify called\n",
      "classify called\n",
      "classify called\n",
      "classify called\n",
      "classify called\n",
      "classify called\n",
      "classify called\n"
     ]
    },
    {
     "name": "stderr",
     "output_type": "stream",
     "text": [
      "10.0.2.2 - - [21/Aug/2016 18:27:38] \"GET /classify?name=%EC%97%90%EC%BD%94%ED%94%BC%EC%94%A8%204TB%20Enterprise%20NAS%20ST4000VN0001%20(SATA3/7200/128M)%20%E2%99%A3%E2%99%A3%E2%94%81%E2%94%81%E2%94%81%EB%8B%B9%EC%9D%BC%EC%B6%9C%EA%B3%A0%E2%94%81%E2%94%81%E2%94%81%EC%83%88%EC%A0%9C%ED%92%88%E2%94%81%E2%94%81%E2%94%81%EC%A0%95%ED%92%88%E2%94%81%E2%94%81%E2%94%81%E2%99%A3%E2%99%A3&img=http://shopping.phinf.naver.net/main_8384367/8384367757.jpg HTTP/1.1\" 200 72\n",
      "10.0.2.2 - - [21/Aug/2016 18:27:38] \"GET /classify?name=(IN)%20Seagate%204TB%20Enterprise%20NAS%20ST4000VN0001%20SATA3/7200%20[%EC%94%A8%EA%B2%8C%EC%9D%B4%ED%8A%B8%20%EB%8D%B0%EC%8A%A4%ED%81%AC%ED%83%91%20%ED%95%98%EB%93%9C]&img=http://shopping.phinf.naver.net/main_8427398/8427398010.jpg HTTP/1.1\" 200 72\n",
      "10.0.2.2 - - [21/Aug/2016 18:27:38] \"GET /classify?name=Seagate%20%204TB%20Video%20ST4000VM000%20(SATA3/5900/64MB)&img=http://shopping.phinf.naver.net/main_8295334/8295334787.jpg HTTP/1.1\" 200 72\n",
      "10.0.2.2 - - [21/Aug/2016 18:27:38] \"GET /classify?name=[CCRO]%20%EC%8B%9C%EA%B2%8C%EC%9D%B4%ED%8A%B8%20HDD%204TB[CCTV,%20%ED%95%98%EB%93%9C,%20HDD,%20%EC%8B%9C%EA%B2%8C%EC%9D%B4%ED%8A%B8]&img=http://shopping.phinf.naver.net/main_8215154/8215154680.jpg HTTP/1.1\" 200 72\n",
      "10.0.2.2 - - [21/Aug/2016 18:27:38] \"GET /classify?name=%EC%94%A8%EA%B2%8C%EC%9D%B4%ED%8A%B8%20ST4000VM000%20Video%20%204TB%203.5%20HDD%20SATA3&img=http://shopping.phinf.naver.net/main_8131850/8131850639.jpg HTTP/1.1\" 200 72\n",
      "10.0.2.2 - - [21/Aug/2016 18:27:38] \"GET /classify?name=%ED%9E%88%ED%83%80%EC%B9%98%201TB%205400RPM%208MB%20HTS541010A9E680&img=http://shopping.phinf.naver.net/main_6308225/6308225089.20121226181207.jpg HTTP/1.1\" 200 72\n",
      "10.0.2.2 - - [21/Aug/2016 18:27:39] \"GET /classify?name=%ED%9E%88%ED%83%80%EC%B9%98%204TB%207200RPM%2064MB%20HDS724040ALE640%20%ED%8C%A8%ED%82%A4%EC%A7%80&img=http://shopping.phinf.naver.net/main_7418112/7418112080.20140116155839.jpg HTTP/1.1\" 200 72\n",
      "10.0.2.2 - - [21/Aug/2016 18:27:39] \"GET /classify?name=%EC%94%A8%EA%B2%8C%EC%9D%B4%ED%8A%B8%20500GB%205400RPM%2064M%20Laptop%20Thin%20SSHD%20ST500LM000&img=http://shopping.phinf.naver.net/main_6863360/6863360836.20130426152649.jpg HTTP/1.1\" 200 72\n",
      "10.0.2.2 - - [21/Aug/2016 18:27:39] \"GET /classify?name=%ED%9E%88%ED%83%80%EC%B9%98%20500GB%207200RPM%2032MB%20HTS725050A7E630&img=http://shopping.phinf.naver.net/main_6859455/6859455634.20130424170805.jpg HTTP/1.1\" 200 72\n",
      "10.0.2.2 - - [21/Aug/2016 18:27:39] \"GET /classify?name=1TB%207200RPM%2064MB%20WD1002FAEX&img=http://shopping.phinf.naver.net/main_5536198/5536198442.20120211212748.jpg HTTP/1.1\" 200 72\n",
      "10.0.2.2 - - [21/Aug/2016 18:27:39] \"GET /classify?name=500GB%207200RPM%2016MB%20WD5000BPKT%20&img=http://shopping.phinf.naver.net/main_5811810/5811810814.20121226182341.jpg HTTP/1.1\" 200 72\n"
     ]
    },
    {
     "name": "stdout",
     "output_type": "stream",
     "text": [
      "classify called\n",
      "classify called\n",
      "classify called\n",
      "classify called\n",
      "classify called\n",
      "classify called\n",
      "classify called\n",
      "classify called\n",
      "classify called\n",
      "classify called\n",
      "classify called\n"
     ]
    },
    {
     "name": "stderr",
     "output_type": "stream",
     "text": [
      "10.0.2.2 - - [21/Aug/2016 18:27:39] \"GET /classify?name=%ED%9E%88%ED%83%80%EC%B9%98%20500GB%205400RPM%208MB%20HTS545050A7E380&img=http://shopping.phinf.naver.net/main_6314794/6314794150.20120508142507.jpg HTTP/1.1\" 200 72\n",
      "10.0.2.2 - - [21/Aug/2016 18:27:39] \"GET /classify?name=%EC%82%BC%EC%84%B1%EC%A0%84%EC%9E%90%201TB%207200RPM%2032MB%20HD103SJ%20%E2%98%85%EB%AA%85%EC%A0%95%EB%B3%B4(Refurbished)%20A/S%201%EB%85%84%20%EC%82%BC%EC%84%B1%EC%A0%84%EC%9E%90%20Spinpoint%20F3%20HD103SJ%20(SATA2/7200/32M)%E2%98%85&img=http://shopping.phinf.naver.net/main_8238481/8238481517.jpg HTTP/1.1\" 200 72\n",
      "10.0.2.2 - - [21/Aug/2016 18:27:39] \"GET /classify?name=%EB%8F%84%EC%8B%9C%EB%B0%94%20500GB%205400RPM%208MB%20MK5065GSX&img=http://shopping.phinf.naver.net/main_5606964/5606964748.20120211204403.jpg HTTP/1.1\" 200 72\n",
      "10.0.2.2 - - [21/Aug/2016 18:27:39] \"GET /classify?name=2TB%207200RPM%2064M%20WD2003FZEX&img=http://shopping.phinf.naver.net/main_7266579/7266579837.20131118152219.jpg HTTP/1.1\" 200 72\n",
      "10.0.2.2 - - [21/Aug/2016 18:27:39] \"GET /classify?name=/%EB%8B%B9%EC%9D%BC%EB%B0%9C%EC%86%A1/%EC%A0%95%ED%92%88%ED%8C%90%EB%A7%A4/%20WD%20%201TB%20Caviar%20Blue%20WD10EZEX%20(SATA3/7200/64M/%EB%A6%AC%ED%8D%BC%EB%B9%84%EC%8B%9C)[/%EB%B9%A0%EB%A5%B8%EB%B0%B0%EC%86%A1/%EC%8B%A0%EC%86%8D%EC%A0%95%ED%99%95]&img=http://shopping.phinf.naver.net/main_8208657/8208657763.jpg HTTP/1.1\" 200 72\n",
      "10.0.2.2 - - [21/Aug/2016 18:27:39] \"GET /classify?name=SE%204TB%20WD4000F9YZ&img=http://shopping.phinf.naver.net/main_8238150/8238150013.20150122165340.jpg HTTP/1.1\" 200 72\n",
      "10.0.2.2 - - [21/Aug/2016 18:27:39] \"GET /classify?name=750GB%207200RPM%2016MB%20WD7500BPKX%20&img=http://shopping.phinf.naver.net/main_7085443/7085443254.20130826180010.jpg HTTP/1.1\" 200 72\n",
      "10.0.2.2 - - [21/Aug/2016 18:27:39] \"GET /classify?name=%ED%82%B9%EC%8A%A4%ED%86%A4%20M.2%20SATA%20SSD%20120GB&img=http://shopping.phinf.naver.net/main_8240711/8240711783.20150123095423.jpg HTTP/1.1\" 200 72\n",
      "10.0.2.2 - - [21/Aug/2016 18:27:39] \"GET /classify?name=%EB%8F%84%EC%8B%9C%EB%B0%94%20500GB%205400RPM%208MB%20MK5059GSXP&img=http://shopping.phinf.naver.net/main_5950052/5950052604.20120211202223.jpg HTTP/1.1\" 200 72\n",
      "10.0.2.2 - - [21/Aug/2016 18:27:39] \"GET /classify?name=%EC%94%A8%EA%B2%8C%EC%9D%B4%ED%8A%B8%204TB%205900RPM%2064MB%20ST4000VM000&img=http://shopping.phinf.naver.net/main_7843846/7843846300.20140730164840.jpg HTTP/1.1\" 200 72\n",
      "10.0.2.2 - - [21/Aug/2016 18:27:39] \"GET /classify?name=2TB%207200RPM%2064MB%20RED%20PRO%20NAS%20HDD%20WD2001FFSX&img=http://shopping.phinf.naver.net/main_7872150/7872150398.20140813100737.jpg HTTP/1.1\" 200 72\n",
      "10.0.2.2 - - [21/Aug/2016 18:27:39] \"GET /classify?name=%EB%8F%84%EC%8B%9C%EB%B0%94%20DT01ABA%20500GB&img=http://shopping.phinf.naver.net/main_8144795/8144795721.20141209142333.jpg HTTP/1.1\" 200 72\n",
      "10.0.2.2 - - [21/Aug/2016 18:27:39] \"GET /classify?name=%EC%94%A8%EA%B2%8C%EC%9D%B4%ED%8A%B8%203TB%205900RPM%2064MB%20ST3000VX002&img=http://shopping.phinf.naver.net/main_7843830/7843830771.20140730162605.jpg HTTP/1.1\" 200 72\n",
      "10.0.2.2 - - [21/Aug/2016 18:27:39] \"GET /classify?name=[4%%EC%A6%89%EC%8B%9C%ED%95%A0%EC%9D%B8%EC%BF%A0%ED%8F%B0]%EC%94%A8%EA%B2%8C%EC%9D%B4%ED%8A%B8%20Seagate%201TB%20Barracuda%20ST1000DM003%EB%AF%B8%EA%B0%9C%EB%B4%89/%EB%A6%AC%ED%8D%BC/&img=http://shopping.phinf.naver.net/main_8277221/8277221167.jpg HTTP/1.1\" 200 72\n",
      "10.0.2.2 - - [21/Aug/2016 18:27:39] \"GET /classify?name=500GB%207200RPM%2016MB%20WD5000BPKX&img=http://shopping.phinf.naver.net/main_7085447/7085447833.20130826180337.jpg HTTP/1.1\" 200 72\n"
     ]
    },
    {
     "name": "stdout",
     "output_type": "stream",
     "text": [
      "classify called\n",
      "classify called\n",
      "classify called\n",
      "classify called\n",
      "classify called\n",
      "classify called\n",
      "classify called\n",
      "classify called\n",
      "classify called\n",
      "classify called\n",
      "classify called\n",
      "classify called\n",
      "classify called\n",
      "classify called\n",
      "classify called\n"
     ]
    },
    {
     "name": "stderr",
     "output_type": "stream",
     "text": [
      "10.0.2.2 - - [21/Aug/2016 18:27:39] \"GET /classify?name=%EC%94%A8%EA%B2%8C%EC%9D%B4%ED%8A%B8%203TB%207200RPM%20128MB%20ST3000NM0033&img=http://shopping.phinf.naver.net/main_7283825/7283825311.20131121102330.jpg HTTP/1.1\" 200 72\n",
      "10.0.2.2 - - [21/Aug/2016 18:27:39] \"GET /classify?name=[4%%EC%A6%89%EC%8B%9C%ED%95%A0%EC%9D%B8%EC%BF%A0%ED%8F%B0][%EA%B5%AC%EB%A7%A4%EB%8C%80%ED%96%89/%ED%95%B4%EC%99%B8%EC%A7%81%EB%B0%B0%EC%86%A1]%20%ED%95%98%EB%93%9C%EB%94%94%EC%8A%A4%ED%81%AC%20Seagate%20ST3120026AS%20Internal%20Barracuda%207200%20120%20GB%20SATA%20Hard%20Drive/%EB%AC%B4%EB%A3%8C%EB%B0%B0%EC%86%A1&img=http://shopping.phinf.naver.net/main_8283692/8283692051.jpg HTTP/1.1\" 200 72\n"
     ]
    },
    {
     "name": "stdout",
     "output_type": "stream",
     "text": [
      "classify called\n",
      "classify called\n",
      "classify called\n",
      "classify called\n",
      "classify called\n",
      "classify called\n",
      "classify called\n",
      "classify called\n",
      "classify called\n",
      "classify called\n",
      "classify called\n",
      "classify called\n",
      "classify called\n",
      "classify called\n",
      "classify called\n"
     ]
    },
    {
     "name": "stderr",
     "output_type": "stream",
     "text": [
      "10.0.2.2 - - [21/Aug/2016 18:27:40] \"GET /classify?name=[4%%EC%A6%89%EC%8B%9C%ED%95%A0%EC%9D%B8%EC%BF%A0%ED%8F%B0][%EA%B5%AC%EB%A7%A4%EB%8C%80%ED%96%89/%ED%95%B4%EC%99%B8%EC%A7%81%EB%B0%B0%EC%86%A1]%20%ED%95%98%EB%93%9C%EB%94%94%EC%8A%A4%ED%81%AC%20Generic%20160%20GB%20160GB%202.5%20Inch%20Sata%20Laptop%20Internal%20Hard%20drive%205400%20RPM%20&img=http://shopping.phinf.naver.net/main_8283689/8283689934.jpg HTTP/1.1\" 200 72\n",
      "10.0.2.2 - - [21/Aug/2016 18:27:40] \"GET /classify?name=[4%%EC%A6%89%EC%8B%9C%ED%95%A0%EC%9D%B8%EC%BF%A0%ED%8F%B0][%EA%B5%AC%EB%A7%A4%EB%8C%80%ED%96%89/%ED%95%B4%EC%99%B8%EC%A7%81%EB%B0%B0%EC%86%A1]%20%ED%95%98%EB%93%9C%EB%94%94%EC%8A%A4%ED%81%AC%20Seagate%20Barracuda%20ES%20-%20Hard%20drive%20-%20750%20GB%20-%20internal%20-%203.5%20-%20SATA-300%20&img=http://shopping.phinf.naver.net/main_8283694/8283694949.jpg HTTP/1.1\" 200 72\n",
      "10.0.2.2 - - [21/Aug/2016 18:27:40] \"GET /classify?name=[4%%EC%A6%89%EC%8B%9C%ED%95%A0%EC%9D%B8%EC%BF%A0%ED%8F%B0](%ED%98%84%EB%8C%80Hmall)[TG%EC%82%BC%EB%B3%B4]%EC%99%B8%EC%9E%A5%ED%95%98%EB%93%9C%20TG-RN35SS%201TB&img=http://shopping.phinf.naver.net/main_8283439/8283439061.jpg HTTP/1.1\" 200 72\n",
      "10.0.2.2 - - [21/Aug/2016 18:27:40] \"GET /classify?name=[KT]SM-G906K[%EB%B2%88%ED%98%B8%EC%9D%B4%EB%8F%99][%EA%B0%A4%EB%9F%AD%EC%8B%9CS5%20LTE-A][28%EC%9A%94%EA%B8%88%EC%A0%9C%EC%9D%B4%EC%83%81][%EA%B0%80%EC%9E%85%EB%B9%84/%EC%9C%A0%EC%8B%AC%20%ED%9B%84%EB%82%A9][%ED%95%A0%EB%B6%80%EA%B8%88%20%EC%9A%94%EA%B8%88%EC%A0%9C%EB%B3%84%20%EC%83%81%EC%9D%B4][24%EA%B0%9C%EC%9B%94][[%EA%B8%B0%EC%A1%B4%EC%82%AC%EC%9A%A9%ED%8F%B0%20%EC%B5%9C%EA%B3%A0%EA%B0%80%EB%A7%A4%EC%9E%85]]&img=http://shopping.phinf.naver.net/main_8059750/8059750341.jpg HTTP/1.1\" 200 67\n",
      "10.0.2.2 - - [21/Aug/2016 18:27:40] \"GET /classify?name=[KT%EB%B2%88%ED%98%B8%EC%9D%B4%EB%8F%99]%EC%82%BC%EC%84%B1%EA%B0%A4%EB%9F%AD%EC%8B%9C%EB%85%B8%ED%8A%B84%20S-LTE[SM-N916K][%EC%88%9C%EC%95%A177%EC%9A%94%EA%B8%88%EC%A0%9C][%EA%B0%80%EC%9E%85%EB%B9%84%EB%B6%84%EB%82%A9][%EC%9C%A0%EC%8B%AC%EB%B9%84%ED%9B%84%EB%82%A9][%EB%B6%80%EA%B0%80%EC%84%9C%EB%B9%84%EC%8A%A4%EC%97%86%EC%9D%8C][%EC%84%A0%EB%B0%B0%EC%86%A1%ED%9B%84%EA%B0%9C[%EB%B6%80%EA%B0%80%EC%84%9C%EB%B9%84%EC%8A%A4%EC%97%86%EC%9D%8C/%EC%84%A0%EB%B0%B0%EC%86%A1%20%ED%9B%84%EA%B0%9C%ED%86%B5]&img=http://shopping.phinf.naver.net/main_8337492/8337492479.jpg HTTP/1.1\" 200 65\n",
      "10.0.2.2 - - [21/Aug/2016 18:27:40] \"GET /classify?name=[%EA%B0%A4%EB%9F%AD%EC%8B%9C%EB%85%B8%ED%8A%B84%20S-LTE]%20612,000%EC%9B%90%20[%EC%88%9C%EC%99%84%EC%A0%84%EB%AC%B4%ED%95%9C99][%EA%B0%80%EC%9E%85%EB%B9%84%EB%B6%84%EB%82%A9/%EC%9C%A0%EC%8B%AC%ED%9B%84%EB%82%A9/%EB%B6%80%EA%B0%80%E7%84%A1/2%EB%85%84/%ED%95%A0%EC%9D%B8%EB%B0%98%ED%99%98%EA%B8%88/%EC%A7%80%EC%9B%90%EB%B0%98%ED%99%98%EA%B8%88][SM-N916K][KT%EB%B2%88%ED%98%B8%EC%9D%B4%EB%8F%99]&img=http://shopping.phinf.naver.net/main_8254102/8254102253.jpg HTTP/1.1\" 200 65\n",
      "10.0.2.2 - - [21/Aug/2016 18:27:40] \"GET /classify?name=[Olleh%20KT%20%EB%B2%88%ED%98%B8%EC%9D%B4%EB%8F%99]%20[%EC%82%BC%EC%84%B1%EB%AA%A8%EB%B0%94%EC%9D%BC%20%EA%B0%A4%EB%9F%AD%EC%8B%9C%EB%85%B8%ED%8A%B84%20S-LTE%20SM-N916K]%20[%EA%B0%80%EC%9E%85%EB%B9%84,%EC%9C%A0%EC%8B%AC%ED%9B%84%EB%82%A9]%20[%EC%95%BD%EC%A0%9524%EA%B0%9C%EC%9B%94]%20[%EC%88%9C%20%EC%99%84%EC%A0%84%EB%AC%B4%ED%95%9C%2099]%20[%EC%9C%84%EC%95%BD%EA%B8%88%EC%A0%81%EC%9A%A9]%20[%EB%B6%80%EA%B0%80X]%20[%ED%95%A0%EB%B6%80%EC%9B%90%EA%B8%88%2061&img=http://shopping.phinf.naver.net/main_8338062/8338062925.jpg HTTP/1.1\" 200 65\n",
      "10.0.2.2 - - [21/Aug/2016 18:27:40] \"GET /classify?name=KT%EA%B8%B0%EA%B8%B0%EB%B3%80%EA%B2%BD/%20%EA%B0%A4%EB%9F%AD%EC%8B%9C%EB%85%B8%ED%8A%B84S/%2024%EA%B0%9C%EC%9B%94%20612,000%EC%9B%90/%20LTE%EC%88%9C99%EC%9A%94%EA%B8%88%EC%A0%9C/%20%EA%B0%80%EC%9E%85%EB%B9%84%EB%B6%84%EB%82%A9/%20%EC%9C%A0%EC%8B%AC%ED%9B%84%EB%82%A9/%20%EB%B6%80%EA%B0%80%EB%AC%B4/%20%EC%9C%84%EC%95%BD%EA%B8%88%EA%B3%B5%EC%8B%9C%EC%A7%80%EC%9B%90%EA%B8%88/%20SM-N916K/%20%ED%94%84%EB%A6%AC%EB%AF%B8%EC%97%84%EC%82%AC%EC%9D%80%ED%92%88&img=http://shopping.phinf.naver.net/main_8352545/8352545569.jpg HTTP/1.1\" 200 65\n",
      "10.0.2.2 - - [21/Aug/2016 18:27:40] \"GET /classify?name=KT%EA%B8%B0%EA%B8%B0%EB%B3%80%EA%B2%BD/%EA%B0%A4%EB%9F%AD%EC%8B%9C%EB%85%B8%ED%8A%B84%20S-LTE/SM-N916K/24%EA%B0%9C%EC%9B%94/%ED%95%A0%EB%B6%80%EC%9B%90%EA%B8%88%20612,000%EC%9B%90/%EC%88%9C%20%EC%99%84%EC%A0%84%EB%AC%B4%ED%95%9C77/%EA%B0%80%EC%9E%85%EB%B9%84%EB%A9%B4%EC%A0%9C/%EC%9C%A0%EC%8B%AC%EB%A9%B4%EC%A0%9C/%EC%9C%84%EC%95%BD[olleh%EB%8C%80%EB%A6%AC%EC%A0%90/%EB%AC%B4%EB%A3%8C%EB%B0%B0%EC%86%A1/%EC%B9%9C%EC%A0%88%EC%83%81%EB%8B%B4/%ED%8A%B9%EA%B0%80%ED%8C%90%EB%A7%A4]&img=http://shopping.phinf.naver.net/main_8240603/8240603839.jpg HTTP/1.1\" 200 65\n",
      "10.0.2.2 - - [21/Aug/2016 18:27:40] \"GET /classify?name=[KT%20%EA%B8%B0%EA%B8%B0%EB%B3%80%EA%B2%BD]SM-N916K[%EA%B0%A4%EB%9F%AD%EC%8B%9C%EB%85%B8%ED%8A%B84%20S-LTE]%20%ED%95%A0%EB%B6%80%EA%B8%88612,000%EC%9B%90(77%EC%9A%94%EA%B8%88%EC%A0%9C)/%EC%9A%94%EA%B8%88%EC%A0%9C%EC%9E%90%EC%9C%A0/%EA%B0%80%EC%9E%85%EB%B9%84%E7%84%A1/%EC%9C%A0%EC%8B%AC%ED%9B%84%EB%82%A9/%EB%B6%80%EA%B0%80%E7%84%A1[%EB%B2%94%ED%8D%BC%EC%BC%80%EC%9D%B4%EC%8A%A4+%EC%95%A1%EC%A0%95%ED%95%84%EB%A6%84]&img=http://shopping.phinf.naver.net/main_8273172/8273172388.jpg HTTP/1.1\" 200 65\n",
      "10.0.2.2 - - [21/Aug/2016 18:27:40] \"GET /classify?name=[KT][%EB%B2%88%ED%98%B8%EC%9D%B4%EB%8F%99][24%EA%B0%9C%EC%9B%94%EC%95%BD%EC%A0%95][%EA%B0%A4%EB%9F%AD%EC%8B%9CS5%20SM-G900K][%ED%95%A0%EB%B6%80%EC%9B%90%EA%B8%88358,400%EC%9B%90][%EC%88%9C%EC%99%84%EC%A0%84%EB%AC%B4%ED%95%9C99%EA%B8%B0%EC%A4%80][%EA%B0%80%EC%9E%85%EB%B9%84%EB%B6%84%EB%82%A9][%EC%9C%A0%EC%8B%AC%ED%9B%84%EB%82%A9][%ED%95%A0%EC%9D%B8%EB%B0%98%ED%99%98%EA%B8%88%EC%A0%81%EC%9A%A9][%EB%B6%80%EA%B0%80%EC%84%9C%EB%B9%84%EC%8A%A4%EB%A9%B4%EC%A0%9C]&img=http://shopping.phinf.naver.net/main_8236165/8236165831.jpg HTTP/1.1\" 200 65\n",
      "10.0.2.2 - - [21/Aug/2016 18:27:40] \"GET /classify?name=[KT%EB%B2%88%ED%98%B8%EC%9D%B4%EB%8F%99]%EA%B0%A4%EB%9F%AD%EC%8B%9CS5(SM-G900K)%20[%ED%95%A0%EB%B6%80%EC%9B%90%EA%B8%88%20358,400%EC%9B%90%20%EC%95%BD%EC%A0%9524%EA%B0%9C%EC%9B%94%20%EC%88%9C%EC%99%84%EC%A0%84%EB%AC%B4%ED%95%9C99%20%EA%B0%80%EC%9E%85%EB%B9%84%EB%B6%84%EB%82%A9/%EC%9C%A0%EC%8B%AC%ED%9B%84%EB%82%A9%20%ED%95%A0%EC%9D%B8%EB%B0%98%ED%99%98%EA%B8%88+%EC%A7%80%EC%9B%90%EB%B0%98%ED%99%98%EA%B8%88][%EB%B6%80%EA%B0%80%EC%84%9C%EB%B9%84%EC%8A%A4%20%EC%97%86%EC%9D%8C]&img=http://shopping.phinf.naver.net/main_8302060/8302060078.jpg HTTP/1.1\" 200 65\n",
      "10.0.2.2 - - [21/Aug/2016 18:27:40] \"GET /classify?name=%EA%B0%A4%EB%9F%AD%EC%8B%9CS5(SM-G900K)%2024%EA%B0%9C%EC%9B%94/%ED%95%A0%EB%B6%80%EC%9B%90%EA%B8%88%20343,450%EC%9B%90/%EA%B0%80%EC%9E%85%EB%B9%84%EB%B6%84%EB%82%A9/%EC%9C%A0%EC%8B%AC%ED%9B%84%EB%82%A9/%EC%9C%84%EC%95%BD%EA%B8%88%20%ED%95%A0%EC%9D%B8%EB%B0%98%ED%99%98%EA%B8%88/%EB%B6%80%EA%B0%80%E7%84%A1/%EC%99%84%EC%A0%84%EB%AC%B4%ED%95%9C97/KT%20%EB%B2%88%ED%98%B8%EC%9D%B4%EB%8F%99&img=http://shopping.phinf.naver.net/main_7965081/7965081836.jpg HTTP/1.1\" 200 65\n",
      "10.0.2.2 - - [21/Aug/2016 18:27:40] \"GET /classify?name=KT%EA%B8%B0%EA%B8%B0%EB%B3%80%EA%B2%BD/%EA%B0%A4%EB%9F%AD%EC%8B%9C%EB%A7%A5%EC%8A%A4/SM-G720N0/24%EA%B0%9C%EC%9B%94/%ED%95%A0%EB%B6%80%EC%9B%90%EA%B8%88%2010,800%EC%9B%90/%EC%88%9C%20%EC%99%84%EC%A0%84%EB%AC%B4%ED%95%9C67/%EA%B0%80%EC%9E%85%EB%B9%84%EB%B6%84%EB%82%A9/%EC%9C%A0%EC%8B%AC%ED%9B%84%EB%82%A9/%EC%9C%84%EC%95%BD%EA%B8%88%20%EA%B3%B5%EC%8B%9C%EC%A7%80%EC%9B%90%EA%B8%88/%EB%B6%80%EA%B0%80%E7%84%A1&img=http://shopping.phinf.naver.net/main_8214231/8214231408.jpg HTTP/1.1\" 200 65\n"
     ]
    },
    {
     "name": "stdout",
     "output_type": "stream",
     "text": [
      "classify called\n",
      "classify called\n",
      "classify called\n",
      "classify called\n",
      "classify called\n",
      "classify called\n",
      "classify called\n",
      "classify called\n",
      "classify called\n",
      "classify called\n",
      "classify called\n",
      "classify called\n",
      "classify called\n",
      "classify called\n",
      "classify called\n"
     ]
    },
    {
     "name": "stderr",
     "output_type": "stream",
     "text": [
      "10.0.2.2 - - [21/Aug/2016 18:27:40] \"GET /classify?name=[%EA%B0%A4%EB%9F%AD%EC%8B%9CS5]%20358,400%EC%9B%90%20[%EC%88%9C%EC%99%84%EC%A0%84%EB%AC%B4%ED%95%9C99][%EA%B0%80%EC%9E%85%EB%B9%84%EB%B6%84%EB%82%A9/%EC%9C%A0%EC%8B%AC%ED%9B%84%EB%82%A9/%EB%B6%80%EA%B0%80%E7%84%A1/2%EB%85%84%EC%95%BD%EC%A0%95/%ED%95%A0%EC%9D%B8%EB%B0%98%ED%99%98%EA%B8%88/%EC%A7%80%EC%9B%90%EB%B0%98%ED%99%98%EA%B8%88][SM-G900K][KT%EC%8B%A0%EA%B7%9C%EA%B0%80%EC%9E%85]&img=http://shopping.phinf.naver.net/main_8346506/8346506469.jpg HTTP/1.1\" 200 65\n",
      "10.0.2.2 - - [21/Aug/2016 18:27:40] \"GET /classify?name=[%EC%95%84%EC%9D%B4%ED%8F%B06%2016G]%20512,650%EC%9B%90%20[%EC%88%9C%EC%99%84%EC%A0%84%EB%AC%B4%ED%95%9C99][%EA%B0%80%EC%9E%85%EB%B9%84%EB%A9%B4%EC%A0%9C/%EC%9C%A0%EC%8B%AC%ED%9B%84%EB%82%A9/%EB%B6%80%EA%B0%80%E7%84%A1/2%EB%85%84%EC%95%BD%EC%A0%95/%ED%95%A0%EC%9D%B8%EB%B0%98%ED%99%98%EA%B8%88/%EC%A7%80%EC%9B%90%EB%B0%98%ED%99%98%EA%B8%88][AIP6-16][KT%EA%B8%B0%EA%B8%B0%EB%B3%80%EA%B2%BD]&img=http://shopping.phinf.naver.net/main_8070466/8070466078.1.jpg HTTP/1.1\" 200 65\n",
      "10.0.2.2 - - [21/Aug/2016 18:27:40] \"GET /classify?name=[KT]%20LG-F240K%20[%EC%8B%A0%EA%B7%9C%EA%B0%80%EC%9E%85]%20[%EC%98%B5%ED%8B%B0%EB%A8%B8%EC%8A%A4G%ED%94%84%EB%A1%9C]%20[%ED%95%A0%EB%B6%80%EA%B8%88%20%EC%9A%94%EA%B8%88%EC%A0%9C%EB%B3%84%20%EC%83%81%EC%9D%B4][28%EC%9A%94%EA%B8%88%EC%A0%9C][24%EA%B0%9C%EC%9B%94][%EA%B0%80%EC%9E%85%EB%B9%84,%20%EC%9C%A0%EC%8B%AC%ED%9B%84%EB%82%A9][%EA%B8%B0%EC%A1%B4%EC%82%AC%EC%9A%A9%ED%8F%B0%20%EC%B5%9C%EA%B3%A0%EA%B0%80%EB%A7%A4%EC%9E%85]&img=http://shopping.phinf.naver.net/main_8070584/8070584713.jpg HTTP/1.1\" 200 65\n",
      "10.0.2.2 - - [21/Aug/2016 18:27:40] \"GET /classify?name=[%EC%95%84%EC%9D%B4%ED%8F%B06%20Plus%2016G]%20622,700%EC%9B%90%20[%EC%88%9C%EC%99%84%EC%A0%84%EB%AC%B4%ED%95%9C99]%EA%B0%80%EC%9E%85%EB%B9%84%EB%A9%B4%EC%A0%9C/%EC%9C%A0%EC%8B%AC%ED%9B%84%EB%82%A9/%EB%B6%80%EA%B0%80%E7%84%A1/2%EB%85%84%EC%95%BD%EC%A0%95/%ED%95%A0%EC%9D%B8%EB%B0%98%ED%99%98%EA%B8%88/%EC%A7%80%EC%9B%90%EB%B0%98%ED%99%98%EA%B8%88/AIP6P-16/KT%EA%B8%B0%EA%B8%B0%EB%B3%80%EA%B2%BD&img=http://shopping.phinf.naver.net/main_8070466/8070466090.1.jpg HTTP/1.1\" 200 65\n",
      "10.0.2.2 - - [21/Aug/2016 18:27:40] \"GET /classify?name=[%EA%B0%A4%EB%9F%AD%EC%8B%9C%EB%85%B8%ED%8A%B84]%20612,000%EC%9B%90%20[%EC%88%9C%EC%99%84%EC%A0%84%EB%AC%B4%ED%95%9C99][%EA%B0%80%EC%9E%85%EB%B9%84%EB%B6%84%EB%82%A9/%EC%9C%A0%EC%8B%AC%ED%9B%84%EB%82%A9/%EB%B6%80%EA%B0%80%E7%84%A1/2%EB%85%84%EC%95%BD%EC%A0%95/%ED%95%A0%EC%9D%B8%EB%B0%98%ED%99%98%EA%B8%88/%EC%A7%80%EC%9B%90%EB%B0%98%ED%99%98%EA%B8%88][SM-N910K][KT%EC%8B%A0%EA%B7%9C%EA%B0%80%EC%9E%85]&img=http://shopping.phinf.naver.net/main_7998936/7998936186.2.jpg HTTP/1.1\" 200 65\n",
      "10.0.2.2 - - [21/Aug/2016 18:27:40] \"GET /classify?name=[KT][%EC%8B%A0%EA%B7%9C%EA%B0%80%EC%9E%85][24%EA%B0%9C%EC%9B%94%EC%95%BD%EC%A0%95][%EA%B0%A4%EB%9F%AD%EC%8B%9C%EB%85%B8%ED%8A%B84%20SM-N910K][%ED%95%A0%EB%B6%80%EC%9B%90%EA%B8%88604,300%EC%9B%90][%EC%88%9C%EC%99%84%EC%A0%84%EB%AC%B4%ED%95%9C99%EA%B8%B0%EC%A4%80][%EC%9A%94%EA%B8%88%EC%A0%9C%EC%9E%90%EC%9C%A0][%EA%B0%80%EC%9E%85%EB%B9%84%EB%B6%84%EB%82%A9][%EC%9C%A0%EC%8B%AC%ED%9B%84%EB%82%A9][%ED%95%A0%EC%9D%B8%EB%B0%98%ED%99%98%EA%B8%88%EC%A0%81%EC%9A%A9][%EB%B6%80%EA%B0%80%EC%84%9C%EB%B9%84%EC%8A%A4%EB%A9%B4%EC%A0%9C]&img=http://shopping.phinf.naver.net/main_7958800/7958800098.jpg HTTP/1.1\" 200 65\n",
      "10.0.2.2 - - [21/Aug/2016 18:27:40] \"GET /classify?name=[KT]%20[%EA%B8%B0%EA%B8%B0%EB%B3%80%EA%B2%BD]%20[%ED%80%B5/%ED%83%9D%EB%B0%B0/%EB%82%B4%EB%B0%A9]KT%20G3%20CAT.6%20(LG-F460K)%ED%95%A0%EB%B6%80%EC%9B%90%EA%B8%88%20405,068%EC%9B%90/%EA%B0%80%EC%9E%85%EB%B9%84%EB%A9%B4%EC%A0%9C/%EC%9C%A0%EC%8B%AC%EB%B9%84%ED%9B%84%EB%82%A9/%EB%B6%80%EA%B0%80%EC%84%9C%EB%B9%84%EC%8A%A4%E7%84%A1/24%EA%B0%9C%EC%9B%94%EC%95%BD%EC%A0%95/%EC%9C%84%EC%95%BD%EA%B8%88%E7%84%A1&img=http://shopping.phinf.naver.net/main_7860817/7860817042.jpg HTTP/1.1\" 200 65\n",
      "10.0.2.2 - - [21/Aug/2016 18:27:40] \"GET /classify?name=[KT%EA%B8%B0%EA%B8%B0%EB%B3%80%EA%B2%BD]G3%20Cat.6(LG-F460K)%20[%ED%95%A0%EB%B6%80%EC%9B%90%EA%B8%88%20491,500%EC%9B%90%20%EC%95%BD%EC%A0%9524%EA%B0%9C%EC%9B%94%20%EC%88%9C%EC%99%84%EC%A0%84%EB%AC%B4%ED%95%9C99%20%EA%B0%80%EC%9E%85%EB%B9%84%EB%A9%B4%EC%A0%9C/%EC%9C%A0%EC%8B%AC%ED%9B%84%EB%82%A9%20%ED%95%A0%EC%9D%B8%EB%B0%98%ED%99%98%EA%B8%88+%EC%A7%80%EC%9B%90%EB%B0%98%ED%99%98%EA%B8%88][%EB%B6%80%EA%B0%80%EC%84%9C%EB%B9%84%EC%8A%A4%20%EC%97%86%EC%9D%8C]&img=http://shopping.phinf.naver.net/main_8302060/8302060112.jpg HTTP/1.1\" 200 65\n",
      "10.0.2.2 - - [21/Aug/2016 18:27:40] \"GET /classify?name=[KT%EA%B8%B0%EA%B8%B0%EB%B3%80%EA%B2%BD]G3%20Cat.6(LG-F460K)%20[%ED%95%A0%EB%B6%80%EC%9B%90%EA%B8%88%20491,500%EC%9B%90%20%EC%95%BD%EC%A0%9524%EA%B0%9C%EC%9B%94%20%EC%88%9C%EC%99%84%EC%A0%84%EB%AC%B4%ED%95%9C99%20%EA%B0%80%EC%9E%85%EB%B9%84%EB%A9%B4%EC%A0%9C/%EC%9C%A0%EC%8B%AC%ED%9B%84%EB%82%A9%20%ED%95%A0%EC%9D%B8%EB%B0%98%ED%99%98%EA%B8%88+%EC%A7%80%EC%9B%90%EB%B0%98%ED%99%98%EA%B8%88]&img=http://shopping.phinf.naver.net/main_8154018/8154018242.jpg HTTP/1.1\" 200 65\n",
      "10.0.2.2 - - [21/Aug/2016 18:27:40] \"GET /classify?name=G3%20Cat.6[LG-F460K][%ED%95%A0%EB%B6%80%20491,500%EC%9B%90][%EC%88%9C%EC%99%84%EC%A0%84%EB%AC%B4%ED%95%9C99][%EA%B0%80%EC%9E%85%EB%B9%84%EB%A9%B4%EC%A0%9C/%EC%9C%A0%EC%8B%AC%ED%9B%84%EB%82%A9][KT%EA%B8%B0%EA%B8%B0%EB%B3%80%EA%B2%BD][2%EB%85%84%EC%95%BD%EC%A0%95/%ED%95%A0%EC%9D%B8%EB%B0%98%ED%99%98%EA%B8%88/%EC%A7%80%EC%9B%90%EB%B0%98%ED%99%98%EA%B8%88][%EB%B6%80%EA%B0%80%E7%84%A1]&img=http://shopping.phinf.naver.net/main_8113462/8113462601.jpg HTTP/1.1\" 200 65\n",
      "10.0.2.2 - - [21/Aug/2016 18:27:40] \"GET /classify?name=[KT%EB%B2%88%ED%98%B8%EC%9D%B4%EB%8F%99][24%EA%B0%9C%EC%9B%94%EC%95%BD%EC%A0%95]%20SHW-M585D%20[%ED%95%A0%EB%B6%80%200%EC%9B%90][%EA%B0%80%EC%9E%85%EB%B9%84%EB%B6%84%EB%82%A9][%EC%9C%A0%EC%8B%AC%ED%9B%84%EB%82%A9][34%EC%9A%94%EA%B8%88%EC%A0%9C][%EC%9C%84%EC%95%BD%EA%B8%88=%EC%95%BD%EC%A0%954][%EB%B6%80%EA%B0%80%E7%84%A1][%EC%82%BC%EC%84%B1%20%EA%B0%A4%EB%9F%AD%EC%8B%9C%20%EC%BD%94%EC%96%B4%20%ED%8F%B0]&img=http://shopping.phinf.naver.net/main_8295215/8295215074.jpg HTTP/1.1\" 200 65\n",
      "10.0.2.2 - - [21/Aug/2016 18:27:40] \"GET /classify?name=KT%EB%B2%88%ED%98%B8%EC%9D%B4%EB%8F%99/%20%EC%95%84%EC%B9%B4/%2024%EA%B0%9C%EC%9B%94%2091,100%EC%9B%90/%20LTE%EC%88%9C99%EC%9A%94%EA%B8%88%EC%A0%9C/%20%EA%B0%80%EC%9E%85%EB%B9%84%EB%B6%84%EB%82%A9/%20%EC%9C%A0%EC%8B%AC%ED%9B%84%EB%82%A9/%20%EB%B6%80%EA%B0%80%EB%AC%B4/%20%EC%9C%84%EC%95%BD%EA%B8%88%EA%B3%B5%EC%8B%9C%EC%A7%80%EC%9B%90%EA%B8%88/%20LG-F520K/%20%ED%94%84%EB%A6%AC%EB%AF%B8%EC%97%84%EC%82%AC%EC%9D%80%ED%92%88&img=http://shopping.phinf.naver.net/main_8317112/8317112137.jpg HTTP/1.1\" 200 65\n",
      "10.0.2.2 - - [21/Aug/2016 18:27:40] \"GET /classify?name=AKA[LG-F520K][%ED%95%A0%EB%B6%80%20106,050%EC%9B%90][24%EA%B0%9C%EC%9B%94%EC%95%BD%EC%A0%95][%EC%88%9C%EC%99%84%EC%A0%84%EB%AC%B4%ED%95%9C99][%EA%B0%80%EC%9E%85%EB%B9%84%EB%B6%84%EB%82%A9/%EC%9C%A0%EC%8B%AC%ED%9B%84%EB%82%A9][%ED%95%A0%EC%9D%B8%EB%B0%98%ED%99%98%EA%B8%88/%EC%A7%80%EC%9B%90%EB%B0%98%ED%99%98%EA%B8%88][%EB%B6%80%EA%B0%80%E7%84%A1][KT%EB%B2%88%ED%98%B8%EC%9D%B4%EB%8F%99]&img=http://shopping.phinf.naver.net/main_8111063/8111063618.jpg HTTP/1.1\" 200 65\n",
      "10.0.2.2 - - [21/Aug/2016 18:27:40] \"GET /classify?name=[KT%20%EC%8B%A0%EA%B7%9C%EA%B0%80%EC%9E%85]%20%EA%B0%A4%EB%9F%AD%EC%8B%9C%EB%A7%A5%EC%8A%A4(SM-G720N0)%2024%EA%B0%9C%EC%9B%94/%ED%95%A0%EB%B6%80%EC%9B%90%EA%B8%88%2010,800%EC%9B%90/%EC%88%9C%20%EC%99%84%EC%A0%84%EB%AC%B4%ED%95%9C67/%EA%B0%80%EC%9E%85%EB%B9%84%EB%B6%84%EB%82%A9/%EC%9C%A0%EC%8B%AC%ED%9B%84%EB%82%A9/%EC%9C%84%EC%95%BD%EA%B8%88%20%EA%B3%B5%EC%8B%9C%EC%A7%80%EC%9B%90%EA%B8%88/%EB%B6%80%EA%B0%80%E7%84%A1&img=http://shopping.phinf.naver.net/main_8212497/8212497909.jpg HTTP/1.1\" 200 65\n",
      "10.0.2.2 - - [21/Aug/2016 18:27:40] \"GET /classify?name=%EA%B0%A4%EB%9F%AD%EC%8B%9C%20%EA%B7%B8%EB%9E%9C%EB%93%9C%20%EB%A7%A5%EC%8A%A4[SM-G720N0][%ED%95%A0%EB%B6%80%2010,800%EC%9B%90][%EC%88%9C%EC%99%84%EC%A0%84%EB%AC%B4%ED%95%9C67][%EA%B0%80%EC%9E%85%EB%B9%84%EB%B6%84%EB%82%A9/%EC%9C%A0%EC%8B%AC%ED%9B%84%EB%82%A9][KT%EC%8B%A0%EA%B7%9C%EA%B0%80%EC%9E%85][2%EB%85%84%EC%95%BD%EC%A0%95/%ED%95%A0%EC%9D%B8[%EC%9D%98%EB%AC%B4%EB%B6%80%EA%B0%80%E7%84%A1,%20%EB%8B%B9%EC%9D%BC%EB%B0%9C%EC%86%A1,%20%EC%82%AC%EC%9D%80%ED%92%88]&img=http://shopping.phinf.naver.net/main_8217511/8217511391.jpg HTTP/1.1\" 200 65\n",
      "10.0.2.2 - - [21/Aug/2016 18:27:40] \"GET /classify?name=%EA%B0%A4%EB%9F%AD%EC%8B%9C%EB%85%B8%ED%8A%B84%20S-LTE%20SM-N916K%20KT%EC%8B%A0%EA%B7%9C%EA%B0%80%EC%9E%85%2024%EA%B0%9C%EC%9B%94%EC%95%BD%EC%A0%95%20%EC%88%9C%EC%99%84%EC%A0%84%EB%AC%B4%ED%95%9C99%20%EC%9A%94%EA%B8%88%EC%A0%9C%20%EA%B0%80%EC%9E%85%EB%B9%84%EB%B6%84%EB%82%A9%20%EC%9C%A0%EC%8B%AC%EB%B9%84%ED%9B%84%EB%82%A9%20%EC%9C%84%EC%95%BD%EA%B8%88%20%20%EB%B6%80%EA%B0%80%E7%84%A1&img=http://shopping.phinf.naver.net/main_8346611/8346611070.jpg HTTP/1.1\" 200 65\n",
      "10.0.2.2 - - [21/Aug/2016 18:27:40] \"GET /classify?name=[CJ%20%EC%8B%A0%EA%B7%9C%EA%B0%80%EC%9E%85]%20%EA%B0%A4%EB%9F%AD%EC%8B%9C%EB%85%B8%ED%8A%B84%20S-LTE(SM-N916K)%2024%EA%B0%9C%EC%9B%94/%ED%95%A0%EB%B6%80%EC%9B%90%EA%B8%88%20657,000%EC%9B%90/LTE62/%EA%B0%80%EC%9E%85%EB%B9%84%EB%B6%84%EB%82%A9/%EC%9C%A0%EC%8B%AC%ED%9B%84%EB%82%A9/%EC%9C%84%EC%95%BD%EA%B8%88%20%ED%95%A0%EC%9D%B8%EB%B0%98%ED%99%98%EA%B8%88+%EA%B3%B5%EC%8B%9C%EC%A7%80%EC%9B%90%EA%B8%88/%EB%B6%80%EA%B0%80%E7%84%A1&img=http://shopping.phinf.naver.net/main_8322549/8322549368.jpg HTTP/1.1\" 200 65\n",
      "10.0.2.2 - - [21/Aug/2016 18:27:40] \"GET /classify?name=[%EA%B0%A4%EB%9F%AD%EC%8B%9C%EB%85%B8%ED%8A%B84]%20612,00%EC%9B%90%20[%EC%88%9C%EC%99%84%EC%A0%84%EB%AC%B4%ED%95%9C99][%EA%B0%80%EC%9E%85%EB%B9%84%EB%A9%B4%EC%A0%9C/%EC%9C%A0%EC%8B%AC%ED%9B%84%EB%82%A9/%EB%B6%80%EA%B0%80%E7%84%A1/2%EB%85%84%EC%95%BD%EC%A0%95/%ED%95%A0%EC%9D%B8%EB%B0%98%ED%99%98%EA%B8%88/%EC%A7%80%EC%9B%90%EB%B0%98%ED%99%98%EA%B8%88][SM-N910K][KT%EA%B8%B0%EA%B8%B0%EB%B3%80%EA%B2%BD]&img=http://shopping.phinf.naver.net/main_8347847/8347847666.jpg HTTP/1.1\" 200 65\n",
      "10.0.2.2 - - [21/Aug/2016 18:27:40] \"GET /classify?name=KT%EB%B3%B4%EC%83%81%EA%B8%B0%EB%B3%80][24%EA%B0%9C%EC%9B%94][%EA%B0%A4%EB%9F%AD%EC%8B%9C%EB%85%B8%ED%8A%B8%204%20SM-N910K][521,000%EC%9B%90][%EC%88%9C%EC%99%84%EC%A0%84%EB%AC%B4%ED%95%9C51%EC%9A%94%EA%B8%88%EC%A0%9C][%EC%9C%84%EC%95%BD%EA%B8%88:%EA%B3%B5%EC%8B%9C%EC%A7%80%EC%9B%90%EA%B8%88][%EA%B0%80%EB%B6%84.%EC%9C%A0%ED%9B%84.%EB%B6%80%EA%B0%80%E7%84%A1]&img=http://shopping.phinf.naver.net/main_8126477/8126477886.jpg HTTP/1.1\" 200 65\n",
      "10.0.2.2 - - [21/Aug/2016 18:27:40] \"GET /classify?name=[%EC%98%AC%EB%A0%88KT%20%20%EA%B8%B0%EA%B8%B0%EB%B3%80%EA%B2%BD]%EB%85%B8%ED%8A%B84(SM-N910K)%E2%98%86%EC%99%84%EC%A0%84%EB%AC%B4%ED%95%9C129%E2%98%86%ED%95%A0%EB%B6%80%EC%9B%90%EA%B8%88%20612000%EC%9B%90%E2%98%86%EA%B0%80%EC%9E%85%EB%B9%84%EB%A9%B4%EC%A0%9C%E2%98%86%EC%9C%A0%EC%8B%AC%EB%B9%84%ED%9B%84%EC%B2%AD%EA%B5%AC%E2%98%86%EC%9C%84%EC%95%BD%EA%B8%88(%EB%82%A8%EC%9D%80%20%ED%95%A0%EB%B6%80%EC%9B%90%EA%B8%88,%EB%B0%9B%EC%9D%80%20%EC%A7%80%EC%9B%90%EA%B8%88,%EC%95%BD%EC%A0%95%ED%95%A0%EC%9D%B8%EA%B8%88)%E2%98%86%EB%B6%80%EA%B0%80%EC%84%9C%EB%B9%84%EC%8A%A4%20%EC%97%86%EC%9D%8C&img=http://shopping.phinf.naver.net/main_8121397/8121397271.jpg HTTP/1.1\" 200 68\n",
      "10.0.2.2 - - [21/Aug/2016 18:27:40] \"GET /classify?name=[%EC%84%9C%EC%9A%B8%EC%A7%80%EC%97%AD%20%EB%AC%B4%EB%A3%8C%20%ED%80%B5%EB%B0%B0%EC%86%A1][KT%EB%B3%B4%EC%83%81%EA%B8%B0%EB%B3%80]%EA%B0%A4%EB%9F%AD%EC%8B%9C%EB%85%B8%ED%8A%B84[SM-N910K][%ED%95%A0%EB%B6%80%EC%9B%90%EA%B8%88%20612,000%EC%9B%90/24%EA%B0%9C%EC%9B%94%EC%95%BD%EC%A0%95][%EC%88%9C%EC%99%84%EC%A0%84%EB%AC%B4%ED%95%9C99][%EA%B0%80%EC%9E%85%EB%B9%84%EB%AC%B4%EB%A3%8C/%EC%9C%A0%EC%8B%AC%ED%9B%84%EB%82%A9][%ED%95%A0%EC%9D%B8%EB%B0%98%ED%99%98%EA%B8%88/%EC%A7%80%EC%9B%90%EB%B0%98%ED%99%98%EA%B8%88][%EB%B6%80%EA%B0%80%E7%84%A1]%EC%A0%84%20&img=http://shopping.phinf.naver.net/main_8242276/8242276190.jpg HTTP/1.1\" 200 65\n",
      "10.0.2.2 - - [21/Aug/2016 18:27:40] \"GET /classify?name=%EB%B2%A0%EA%B0%80%EC%95%84%EC%9D%B4%EC%96%B8(IM-A870K)%2024%EA%B0%9C%EC%9B%94/%ED%95%A0%EB%B6%80%EC%9B%90%EA%B8%88%200%EC%9B%90/%EA%B0%80%EC%9E%85%EB%B9%84%EB%B6%84%EB%82%A9/%EC%9C%A0%EC%8B%AC%ED%9B%84%EB%82%A9/%EC%9C%84%EC%95%BD%EA%B8%88%20%EC%A7%80%EC%9B%90%EA%B8%88/%EB%B6%80%EA%B0%80%E7%84%A1/%EC%88%9C%20%EC%9A%94%EA%B8%88%EC%A0%9C34/%20KT%EB%B2%88%ED%98%B8%EC%9D%B4%EB%8F%99&img=http://shopping.phinf.naver.net/main_8008923/8008923386.jpg HTTP/1.1\" 200 65\n",
      "10.0.2.2 - - [21/Aug/2016 18:27:40] \"GET /classify?name=[KT%EA%B8%B0%EA%B8%B0%EB%B3%80%EA%B2%BD]%EB%B2%A0%EA%B0%80%EC%95%84%EC%9D%B4%EC%96%B8(IM-A870K)%20[%ED%95%A0%EB%B6%80%EC%9B%90%EA%B8%88%200%EC%9B%90%20%EC%95%BD%EC%A0%9524%EA%B0%9C%EC%9B%94%20%EC%88%9C%EC%99%84%EC%A0%84%EB%AC%B4%ED%95%9C51%20%EA%B0%80%EC%9E%85%EB%B9%84%EB%A9%B4%EC%A0%9C/%EC%9C%A0%EC%8B%AC%ED%9B%84%EB%82%A9%20%ED%95%A0%EC%9D%B8%EB%B0%98%ED%99%98%EA%B8%88+%EC%A7%80%EC%9B%90%EB%B0%98%ED%99%98%EA%B8%88]&img=http://shopping.phinf.naver.net/main_7343442/7343442933.jpg HTTP/1.1\" 200 65\n",
      "10.0.2.2 - - [21/Aug/2016 18:27:40] \"GET /classify?name=KT%EB%B2%88%ED%98%B8%EC%9D%B4%EB%8F%99[24%EA%B0%9C%EC%9B%94][%EA%B0%A4%EB%9F%AD%EC%8B%9C%EC%95%8C%ED%8C%8C%20SM-G850K][149990%EC%9B%90][%EC%88%9C%EC%99%84%EB%AC%B499%EC%9A%94%EA%B8%88%EC%A0%9C][%EC%9C%84%EC%95%BD%EA%B8%88:%EA%B3%B5%EC%8B%9C%EC%A7%80%EC%9B%90%EA%B8%88][%EA%B0%80%EB%B6%84%EC%9C%A0%ED%9B%84%EB%B6%80%EA%B0%80%E7%84%A1]&img=http://shopping.phinf.naver.net/main_8351015/8351015309.jpg HTTP/1.1\" 200 65\n",
      "10.0.2.2 - - [21/Aug/2016 18:27:40] \"GET /classify?name=KT%20%EA%B0%A4%EB%9F%AD%EC%8B%9C%EC%95%8C%ED%8C%8C%20[SM-G850K]%20%EB%B2%88%ED%98%B8%EC%9D%B4%EB%8F%99%20[%EC%88%9C%20%EC%99%84%EC%A0%84%EB%AC%B4%ED%95%9C77/%ED%95%A0%EB%B6%80%EC%9B%90%EA%B8%88:%20186,800%EC%9B%90/24%EA%B0%9C%EC%9B%94%EC%95%BD%EC%A0%95/%EA%B0%80%EC%9E%85%EB%B9%84%EB%B6%84%EB%82%A9/%EC%9C%A0%EC%8B%AC%EB%B9%84%ED%9B%84%EB%82%A9/%EB%B6%80%EA%B0%80%E7%84%A1/%EC%B6%94%EA%B0%80%ED%95%A0%EC%9D%B8/%EC%9C%84%EC%95%BD%EA%B8%88%E6%9C%89/%EC%82%AC%EC%9D%80%ED%92%88]&img=http://shopping.phinf.naver.net/main_7927946/7927946417.jpg HTTP/1.1\" 200 65\n",
      "10.0.2.2 - - [21/Aug/2016 18:27:40] \"GET /classify?name=[KT%20%EA%B0%A4%EB%9F%AD%EC%8B%9C%EC%95%8C%ED%8C%8C%20(SM-G850K)%20%EB%B2%88%ED%98%B8%EC%9D%B4%EB%8F%99]%20%ED%95%A0%EB%B6%80%EC%9B%90%EA%B8%88%20186,800%20/%20%EC%99%84%EC%A0%84%EB%AC%B4%ED%95%9C97%20/%20%EC%95%BD%EC%A0%9524%EA%B0%9C%EC%9B%94%20/%20%EA%B0%80%EC%9E%85%EB%B9%84%ED%9B%84%EB%82%A9%20/%20%EC%9C%A0%EC%8B%AC%EB%B9%84%ED%9B%84%EB%82%A9%20/%20%EC%95%BD%EC%A0%95%EC%9C%84%EC%95%BD%EA%B8%88%20%EC%97%86%EC%9D%8C%20/%20%EB%B6%80%EA%B0%80%EC%84%9C%EB%B9%84%EC%8A%A4%20%EC%97%86%EC%9D%8C&img=http://shopping.phinf.naver.net/main_8073157/8073157888.jpg HTTP/1.1\" 200 65\n",
      "10.0.2.2 - - [21/Aug/2016 18:27:40] \"GET /classify?name=[KT%EB%B2%88%ED%98%B8%EC%9D%B4%EB%8F%99][24%EA%B0%9C%EC%9B%94%EC%95%BD%EC%A0%95]%20SM-G850K%20[%ED%95%A0%EB%B6%80%20186,800%EC%9B%90][%EA%B0%80%EC%9E%85%EB%B9%84%EB%B6%84%EB%82%A9][%EC%9C%A0%EC%8B%AC%ED%9B%84%EB%82%A9][77%EC%9A%94%EA%B8%88%EC%A0%9C][%EC%9C%84%EC%95%BD%EA%B8%88=%EC%95%BD%EC%A0%954][%EB%B6%80%EA%B0%80%E7%84%A1][%EC%82%BC%EC%84%B1%20%EA%B0%A4%EB%9F%AD%EC%8B%9C%20%EC%95%8C%ED%8C%8C%20%ED%8F%B0]&img=http://shopping.phinf.naver.net/main_8005961/8005961308.jpg HTTP/1.1\" 200 65\n",
      "10.0.2.2 - - [21/Aug/2016 18:27:40] \"GET /classify?name=[KT%EA%B8%B0%EA%B8%B0%EB%B3%80%EA%B2%BD]%EB%B2%A0%EA%B0%80%EC%95%84%EC%9D%B4%EC%96%B8(IM-A870K)%20[%ED%95%A0%EB%B6%80%EC%9B%90%EA%B8%88%201%EC%9B%90%20%EC%95%BD%EC%A0%9524%EA%B0%9C%EC%9B%94%20%EC%88%9C%EC%99%84%EC%A0%84%EB%AC%B4%ED%95%9C51%20%EA%B0%80%EC%9E%85%EB%B9%84%EB%A9%B4%EC%A0%9C/%EC%9C%A0%EC%8B%AC%ED%9B%84%EB%82%A9%20%ED%95%A0%EC%9D%B8%EB%B0%98%ED%99%98%EA%B8%88+%EC%A7%80%EC%9B%90%EB%B0%98%ED%99%98%EA%B8%88][%EB%B6%80%EA%B0%80%EC%84%9C%EB%B9%84%EC%8A%A4%20%EC%97%86%EC%9D%8C]&img=http://shopping.phinf.naver.net/main_8302060/8302060142.jpg HTTP/1.1\" 200 65\n",
      "10.0.2.2 - - [21/Aug/2016 18:27:41] \"GET /classify?name=[KT][%EB%B3%B4%EC%83%81%EA%B8%B0%EB%B3%80][24%EA%B0%9C%EC%9B%94%EC%95%BD%EC%A0%95][%EB%B2%A0%EA%B0%80%EC%95%84%EC%9D%B4%EC%96%B8%20IM-A870K][%ED%95%A0%EB%B6%80%EC%9B%90%EA%B8%881%EC%9B%90][%EC%88%9C%EC%99%84%EC%A0%84%EB%AC%B4%ED%95%9C99%EA%B8%B0%EC%A4%80][%EA%B0%80%EC%9E%85%EB%B9%84%EB%B6%84%EB%82%A9][%EC%9C%A0%EC%8B%AC%ED%9B%84%EB%82%A9][%ED%95%A0%EC%9D%B8%EB%B0%98%ED%99%98%EA%B8%88%EC%A0%81%EC%9A%A9][%EB%B6%80%EA%B0%80%EC%84%9C%EB%B9%84%EC%8A%A4%EB%A9%B4%EC%A0%9C]&img=http://shopping.phinf.naver.net/main_8336332/8336332712.jpg HTTP/1.1\" 200 65\n"
     ]
    },
    {
     "name": "stdout",
     "output_type": "stream",
     "text": [
      "classify called\n",
      "classify called\n",
      "classify called\n",
      "classify called\n",
      "classify called\n",
      "classify called\n",
      "classify called\n",
      "classify called\n",
      "classify called\n",
      "classify called\n",
      "classify called\n",
      "classify called\n",
      "classify called\n",
      "classify called\n",
      "classify called\n"
     ]
    },
    {
     "name": "stderr",
     "output_type": "stream",
     "text": [
      "10.0.2.2 - - [21/Aug/2016 18:27:41] \"GET /classify?name=[KT][%EC%8B%A0%EA%B7%9C%EA%B0%80%EC%9E%85][%EC%95%BD%EC%A0%9524%EA%B0%9C%EC%9B%94][SM-N750K][%EA%B0%A4%EB%9F%AD%EC%8B%9C%EB%85%B8%ED%8A%B83%EB%84%A4%EC%98%A4][%ED%95%A0%EB%B6%80%EC%9B%90%EA%B8%88291300%EC%9B%90][%EC%9A%94%EA%B8%88%EC%A0%9C:%EC%99%84%EC%A0%84%EB%AC%B4%ED%95%9C129][%EA%B0%80%EC%9E%85%EB%B9%84%EB%B6%84%EB%82%A9][%EC%9C%A0%EC%8B%AC%EB%B9%84%ED%9B%84%EB%82%A9][%ED%95%A0%EC%9D%B8%EB%B0%98%ED%99%98%EA%B8%88%EC%A0%81%EC%9A%A9][%EB%B6%80%EA%B0%80%EC%84%9C%EB%B9%84%EC%8A%A4%EC%97%86%EC%9D%8C]&img=http://shopping.phinf.naver.net/main_8275456/8275456356.jpg HTTP/1.1\" 200 65\n",
      "10.0.2.2 - - [21/Aug/2016 18:27:41] \"GET /classify?name=[KT%20%EC%8B%A0%EA%B7%9C%EA%B0%80%EC%9E%85]SM-N750K%20%EC%88%9C%EC%99%84%EC%A0%84%EB%AC%B4%ED%95%9C67%E2%98%85%ED%95%A0%EC%9B%90300500%E2%96%A0%EB%8B%B9%EC%9D%BC%EB%B0%9C%EC%86%A1%E2%98%85%EC%BC%80%EC%9D%B4%EC%8A%A4,%ED%95%84%EB%A6%84%20%EC%82%AC%EC%9D%80%ED%92%88%E2%96%A0%EA%B0%80%EC%9E%85%EB%B9%84%EC%9C%A0%E2%96%A0%EC%9C%A0%EC%8B%AC%EC%9C%A0%E2%98%85%EB%B6%80%EA%B0%80%EB%AC%B4%E2%96%A024%EA%B0%9C%EC%9B%94%ED%95%A0%EB%B6%80%20%ED%95%A0%EC%9D%B8%EB%B0%98%ED%99%98%EA%B8%88%EB%AC%B4&img=http://shopping.phinf.naver.net/main_8095749/8095749460.jpg HTTP/1.1\" 200 65\n",
      "10.0.2.2 - - [21/Aug/2016 18:27:41] \"GET /classify?name=%E2%98%85%EB%8B%B9%EC%9D%BC%EB%B0%B0%EC%86%A1%E2%98%85KT%EC%8B%A0%EA%B7%9C%E2%98%85%EA%B0%A4%EB%9F%AD%EC%8B%9C%EB%85%B8%ED%8A%B8%EC%97%A3%EC%A7%80/SM-N915K/%EC%88%9C%EC%99%84%EC%A0%84%EB%AC%B4%ED%95%9C77%EA%B8%B0%EC%A4%80/%ED%95%A0%EB%B6%80%EC%9B%90%EA%B8%88722000%EC%9B%90/24%EA%B0%9C%EC%9B%94%EC%95%BD%EC%A0%95/%EA%B0%80%EC%9E%85%EB%B9%84%E6%9C%89/%EC%9C%A0%EC%8B%AC%EB%B9%84%E6%9C%89/%EC%9C%84%EC%95%BD%EA%B8%88%20%ED%95%A0%EC%9D%B8%EB%B0%98%ED%99%98%EA%B8%88/%EB%B6%80%EA%B0%80%EC%84%9C%EB%B9%84%EC%8A%A4%E7%84%A1/%EC%82%AC%EC%9D%80%ED%92%88%EC%B5%9C%EB%8C%80%EC%A7%80%EA%B8%89/%EC%A7%80%EC%9B%90%EA%B8%88%EC%B5%9C%EB%8C%80&img=http://shopping.phinf.naver.net/main_8216520/8216520412.jpg HTTP/1.1\" 200 65\n",
      "10.0.2.2 - - [21/Aug/2016 18:27:41] \"GET /classify?name=[%EA%B0%A4%EB%9F%AD%EC%8B%9C%EB%85%B8%ED%8A%B8%20%EC%97%A3%EC%A7%80]722,000%EC%9B%90[%EC%88%9C%EC%99%84%EC%A0%84%EB%AC%B4%ED%95%9C99][%EA%B0%80%EC%9E%85%EB%B9%84%EB%B6%84%EB%82%A9/%EC%9C%A0%EC%8B%AC%ED%9B%84%EB%82%A9/%EB%B6%80%EA%B0%80%E7%84%A1/2%EB%85%84%EC%95%BD%EC%A0%95/%ED%95%A0%EC%9D%B8%EB%B0%98%ED%99%98%EA%B8%88/%EC%A7%80%EC%9B%90%EB%B0%98%ED%99%98%EA%B8%88][SM-N915K][KT%EC%8B%A0%EA%B7%9C%EA%B0%80%EC%9E%85]&img=http://shopping.phinf.naver.net/main_8347822/8347822180.jpg HTTP/1.1\" 200 65\n",
      "10.0.2.2 - - [21/Aug/2016 18:27:41] \"GET /classify?name=[KT%EC%8B%A0%EA%B7%9C%EA%B0%80%EC%9E%85]%EA%B0%A4%EB%9F%AD%EC%8B%9C%EB%85%B8%ED%8A%B8%20%EC%97%A3%EC%A7%80(SM-N915K)%20[%ED%95%A0%EB%B6%80%EC%9B%90%EA%B8%88%20722,000%EC%9B%90%20%EC%95%BD%EC%A0%9524%EA%B0%9C%EC%9B%94%20%EC%88%9C%EC%99%84%EC%A0%84%EB%AC%B4%ED%95%9C99%20%EA%B0%80%EC%9E%85%EB%B9%84%EB%B6%84%EB%82%A9/%EC%9C%A0%EC%8B%AC%ED%9B%84%EB%82%A9%20%EC%A7%80%EC%9B%90%EB%B0%98%ED%99%98%EA%B8%88]&img=http://shopping.phinf.naver.net/main_8156713/8156713011.jpg HTTP/1.1\" 200 65\n",
      "10.0.2.2 - - [21/Aug/2016 18:27:41] \"GET /classify?name=[KT]%20SM-N915K%20[%EC%8B%A0%EA%B7%9C%EA%B0%80%EC%9E%85][%EA%B0%A4%EB%9F%AD%EC%8B%9C%EB%85%B8%ED%8A%B8%EC%97%A3%EC%A7%80][28%EC%9A%94%EA%B8%88%EC%A0%9C%EC%9D%B4%EC%83%81][%EA%B0%80%EC%9E%85%EB%B9%84/%EC%9C%A0%EC%8B%AC%20%ED%9B%84%EB%82%A9][%ED%95%A0%EB%B6%80%EA%B8%88%20%EC%9A%94%EA%B8%88%EC%A0%9C%EB%B3%84%20%EC%83%81%EC%9D%B4][24%EA%B0%9C%EC%9B%94][[%EA%B8%B0%EC%A1%B4%EC%82%AC%EC%9A%A9%ED%8F%B0%20%EC%B5%9C%EA%B3%A0%EA%B0%80%EB%A7%A4%EC%9E%85]]&img=http://shopping.phinf.naver.net/main_8224757/8224757957.jpg HTTP/1.1\" 200 67\n",
      "10.0.2.2 - - [21/Aug/2016 18:27:41] \"GET /classify?name=[KT%20%EC%8B%A0%EA%B7%9C%EA%B0%80%EC%9E%85]SM-N915K%20%EC%88%9C%EC%99%84%EC%A0%84%EB%AC%B4%ED%95%9C61%E2%98%85%ED%95%A0%EC%9B%90755350%E2%96%A0%EB%8B%B9%EC%9D%BC%EB%B0%9C%EC%86%A1%E2%98%85%EC%BC%80%EC%9D%B4%EC%8A%A4,%ED%95%84%EB%A6%84%20%EC%82%AC%EC%9D%80%ED%92%88%E2%96%A0%EA%B0%80%EC%9E%85%EB%B9%84%EC%9C%A0%E2%96%A0%EC%9C%A0%EC%8B%AC%EC%9C%A0%E2%98%85%EB%B6%80%EA%B0%80%EB%AC%B4%E2%96%A024%EA%B0%9C%EC%9B%94%ED%95%A0%EB%B6%80%20%ED%95%A0%EC%9D%B8%EB%B0%98%ED%99%98%EA%B8%88%EB%AC%B4&img=http://shopping.phinf.naver.net/main_8052264/8052264616.1.jpg HTTP/1.1\" 200 65\n",
      "10.0.2.2 - - [21/Aug/2016 18:27:41] \"GET /classify?name=[KT%EA%B8%B0%EA%B8%B0%EB%B3%80%EA%B2%BD]%EC%98%B5%ED%8B%B0%EB%A8%B8%EC%8A%A4G%ED%94%84%EB%A1%9C(LG-F240K)%20[%ED%95%A0%EB%B6%80%EC%9B%90%EA%B8%88%2054,300%EC%9B%90%20%EC%95%BD%EC%A0%9524%EA%B0%9C%EC%9B%94%20%EC%88%9C%EC%99%84%EC%A0%84%EB%AC%B4%ED%95%9C77%20%EA%B0%80%EC%9E%85%EB%B9%84%EB%A9%B4%EC%A0%9C/%EC%9C%A0%EC%8B%AC%ED%9B%84%EB%82%A9%20%ED%95%A0%EC%9D%B8%EB%B0%98%ED%99%98%EA%B8%88+%EC%A7%80%EC%9B%90%EB%B0%98%ED%99%98%EA%B8%88][%EB%B6%80%EA%B0%80%EC%84%9C%EB%B9%84%EC%8A%A4%20%EC%97%86%EC%9D%8C]&img=http://shopping.phinf.naver.net/main_8302060/8302060121.jpg HTTP/1.1\" 200 65\n",
      "10.0.2.2 - - [21/Aug/2016 18:27:41] \"GET /classify?name=[KT%20%EC%A0%95%EC%8B%9D%EA%B8%B0%EA%B8%B0%EB%B3%80%EA%B2%BD]LG-F240K[%EC%98%B5%ED%8B%B0%EB%A8%B8%EC%8A%A4G%ED%94%84%EB%A1%9C]%20%20%ED%95%A0%EB%B6%80%EC%9B%90%EA%B8%88%20990,000%EC%9B%90(77%EC%9A%94%EA%B8%88%EC%A0%9C)/%EC%9A%94%EA%B8%88%EC%A0%9C%EC%9E%90%EC%9C%A0/%EA%B0%80%EC%9E%85%EB%B9%84%E7%84%A1/%EC%9C%A0%EC%8B%AC%ED%9B%84%EB%82%A9/%EB%B6%80%EA%B0%80%E7%84%A1/%EC%82%AC%EC%9D%80%ED%92%88&img=http://shopping.phinf.naver.net/main_7802647/7802647609.jpg HTTP/1.1\" 200 65\n",
      "10.0.2.2 - - [21/Aug/2016 18:27:41] \"GET /classify?name=[%EB%AA%A8%EB%A6%AC%EC%BC%80%EC%9D%B4%EB%B8%94]%20[M07321]%20%EB%84%B7%EB%A9%94%EC%9D%B4%ED%8A%B8(Netmate)%20CAT5%20KVM%20%EC%8A%A4%EC%9C%84%EC%B9%98%20USB%20Dongle%20[DGU-01]&img=http://shopping.phinf.naver.net/main_7310686/7310686046.jpg HTTP/1.1\" 200 102\n",
      "10.0.2.2 - - [21/Aug/2016 18:27:41] \"GET /classify?name=5%EB%A7%8C%EC%9B%90%EC%9D%B4%EC%83%81%20%EB%AC%B4%EB%A3%8C%EB%B0%B0%EC%86%A1NETMATE(%EB%84%B7%EB%A9%94%EC%9D%B4%ED%8A%B8)%20CAT5%20KVM%20%EC%8A%A4%EC%9C%84%EC%B9%98%20USB%20Dongle%20DGU-01&img=http://shopping.phinf.naver.net/main_6551925/6551925452.jpg HTTP/1.1\" 200 102\n",
      "10.0.2.2 - - [21/Aug/2016 18:27:41] \"GET /classify?name=[4%%EC%A6%89%EC%8B%9C%ED%95%A0%EC%9D%B8%EC%BF%A0%ED%8F%B0]ATEN%20CS1734A%204%ED%8F%AC%ED%8A%B8%20RGB%EC%97%B0%EA%B2%B0%20%EC%9D%8C%EC%9B%90%ED%8F%AC%ED%8A%B8%ED%83%91%EC%9E%AC%20USB%ED%8F%AC%ED%8A%B8%20%EC%A3%BC%EB%B3%80%EA%B8%B0%EA%B8%B0%EC%97%B0%EA%B2%B0%20KVMP%20%EC%8A%A4%EC%9C%84%EC%B9%98&img=http://shopping.phinf.naver.net/main_8044072/8044072570.jpg HTTP/1.1\" 200 102\n",
      "10.0.2.2 - - [21/Aug/2016 18:27:41] \"GET /classify?name=[ATEN][ATEN]%20CS1734A%20(4%ED%8F%AC%ED%8A%B8%20RGB%EC%97%B0%EA%B2%B0%20%EC%9D%8C%EC%9B%90%ED%8F%AC%ED%8A%B8%ED%83%91%EC%9E%AC%20USB%ED%8F%AC%ED%8A%B8%20%EC%A3%BC%EB%B3%80%EA%B8%B0%EA%B8%B0%EC%97%B0%EA%B2%B0%20KVMP%20%EC%8A%A4%EC%9C%84%EC%B9%98)&img=http://shopping.phinf.naver.net/main_8027752/8027752252.1.jpg HTTP/1.1\" 200 102\n"
     ]
    },
    {
     "name": "stdout",
     "output_type": "stream",
     "text": [
      "classify called\n",
      "classify called\n",
      "classify called\n",
      "classify called\n",
      "classify called\n",
      "classify called\n",
      "classify called\n",
      "classify called\n",
      "classify called\n",
      "classify called\n",
      "classify called\n",
      "classify called\n",
      "classify called\n"
     ]
    },
    {
     "name": "stderr",
     "output_type": "stream",
     "text": [
      "10.0.2.2 - - [21/Aug/2016 18:27:41] \"GET /classify?name=NETmate%20KVM%202%EB%8C%801%EC%8A%A4%EC%9C%84%EC%B9%98(PS2%EB%AF%B8%EB%8B%88)&img=http://shopping.phinf.naver.net/main_6206556/6206556078.jpg HTTP/1.1\" 200 102\n",
      "10.0.2.2 - - [21/Aug/2016 18:27:41] \"GET /classify?name=[%ED%94%BC%EC%8B%9C%ED%8F%AC%EC%98%AC]%20NEXT%20DVI202SW%20(DVI%20%EC%8A%A4%EC%9C%84%EC%B9%98/2%EB%8C%801)%20%EB%8B%B9%EC%9D%BC%EB%B0%9C%EC%86%A1&img=http://shopping.phinf.naver.net/main_8218061/8218061172.jpg HTTP/1.1\" 200 102\n",
      "10.0.2.2 - - [21/Aug/2016 18:27:41] \"GET /classify?name=ALC031%20KVM%20Switch%202:1%20(%EA%B5%AD%EB%82%B4%EC%82%B0/%EC%88%98%EB%8F%99%EB%B0%A9%EC%8B%9D)&img=http://shopping.phinf.naver.net/main_8276899/8276899466.jpg HTTP/1.1\" 200 102\n",
      "10.0.2.2 - - [21/Aug/2016 18:27:41] \"GET /classify?name=[6%%EC%A6%89%EC%8B%9C%ED%95%A0%EC%9D%B8%EC%BF%A0%ED%8F%B0][ATEN]CS1742/2%ED%8F%AC%ED%8A%B8%20USB%20%EB%93%80%EC%96%BC%EB%B7%B0%20KVMP%20%20%EC%8A%A4%EC%9C%84%EC%B9%98%20CS1742&img=http://shopping.phinf.naver.net/main_8282839/8282839358.jpg HTTP/1.1\" 200 102\n",
      "10.0.2.2 - - [21/Aug/2016 18:27:41] \"GET /classify?name=[6%%EC%A6%89%EC%8B%9C%ED%95%A0%EC%9D%B8%EC%BF%A0%ED%8F%B0][ATEN]CS1716A/16%ED%8F%AC%ED%8A%B8%20PS2-USB%20KVMP%20%EC%8A%A4%EC%9C%84%EC%B9%98%20CS1716A/U&img=http://shopping.phinf.naver.net/main_8282828/8282828385.jpg HTTP/1.1\" 200 102\n",
      "10.0.2.2 - - [21/Aug/2016 18:27:41] \"GET /classify?name=[6%%EC%A6%89%EC%8B%9C%ED%95%A0%EC%9D%B8%EC%BF%A0%ED%8F%B0][ATEN]CS1744/4%ED%8F%AC%ED%8A%B8%20USB%20%EB%93%80%EC%96%BC%EB%B7%B0%20KVMP%20%20%EC%8A%A4%EC%9C%84%EC%B9%98%20CS1744&img=http://shopping.phinf.naver.net/main_8282826/8282826990.jpg HTTP/1.1\" 200 102\n",
      "10.0.2.2 - - [21/Aug/2016 18:27:41] \"GET /classify?name=[6%%EC%A6%89%EC%8B%9C%ED%95%A0%EC%9D%B8%EC%BF%A0%ED%8F%B0][ATEN]CE252/KVM%20%EC%97%B0%EC%9E%A5%EA%B8%B0%20CE252/PS/2%20KVM%20Extender/USB&img=http://shopping.phinf.naver.net/main_8282821/8282821878.jpg HTTP/1.1\" 200 102\n",
      "10.0.2.2 - - [21/Aug/2016 18:27:41] \"GET /classify?name=[6%%EC%A6%89%EC%8B%9C%ED%95%A0%EC%9D%B8%EC%BF%A0%ED%8F%B0]NETmate%20USB2.0%20%EC%8B%9C%EB%A6%AC%EC%96%BC%20%EB%B3%80%ED%99%98%EA%B8%B0&img=http://shopping.phinf.naver.net/main_8277141/8277141528.jpg HTTP/1.1\" 200 129\n",
      "10.0.2.2 - - [21/Aug/2016 18:27:41] \"GET /classify?name=[6%%EC%A6%89%EC%8B%9C%ED%95%A0%EC%9D%B8%EC%BF%A0%ED%8F%B0][ATEN]CS1308/8%ED%8F%AC%ED%8A%B8%20PS/2-USB%20%EB%9E%99%ED%83%80%EC%9E%85%20KVM%20%EC%8A%A4%EC%9C%84%EC%B9%98%20CS13&img=http://shopping.phinf.naver.net/main_8282834/8282834972.jpg HTTP/1.1\" 200 102\n",
      "10.0.2.2 - - [21/Aug/2016 18:27:41] \"GET /classify?name=[4%%EC%A6%89%EC%8B%9C%ED%95%A0%EC%9D%B8%EC%BF%A0%ED%8F%B0]KW%20USB%20UTP%20KVM%20%EB%B3%80%ED%99%98%EB%AA%A8%EB%93%88(Dongle)&img=http://shopping.phinf.naver.net/main_8282100/8282100457.jpg HTTP/1.1\" 200 102\n",
      "10.0.2.2 - - [21/Aug/2016 18:27:41] \"GET /classify?name=[6%%EC%A6%89%EC%8B%9C%ED%95%A0%EC%9D%B8%EC%BF%A0%ED%8F%B0]%20ATEN%20CS62S/USB%ED%8F%AC%ED%8A%B8&img=http://shopping.phinf.naver.net/main_8276229/8276229031.jpg HTTP/1.1\" 200 102\n",
      "10.0.2.2 - - [21/Aug/2016 18:27:41] \"GET /classify?name=NETmate%20%EC%9D%BC%EC%B2%B4%ED%98%95%20USB%20KVM%2021%20%EC%8A%A4%EC%9C%84%EC%B9%98%20[PCD0994]&img=http://shopping.phinf.naver.net/main_8277532/8277532700.jpg HTTP/1.1\" 200 102\n",
      "10.0.2.2 - - [21/Aug/2016 18:27:41] \"GET /classify?name=[6%%EC%A6%89%EC%8B%9C%ED%95%A0%EC%9D%B8%EC%BF%A0%ED%8F%B0]%EC%98%A4%ED%94%BC%ED%8A%B8%20IEEE1394%20%EA%B4%91%20%EC%BC%80%EC%9D%B4%EB%B8%94%20%EB%A6%AC%ED%94%BC%ED%84%B0%20-%2090M&img=http://shopping.phinf.naver.net/main_8282211/8282211150.jpg HTTP/1.1\" 200 102\n",
      "10.0.2.2 - - [21/Aug/2016 18:27:41] \"GET /classify?name=[6%%EC%A6%89%EC%8B%9C%ED%95%A0%EC%9D%B8%EC%BF%A0%ED%8F%B0]PCDNETmate%20DVI%20KVM%202:1%20%EC%8A%A4%EC%9C%84%EC%B9%98USBAudio%20KVM%EC%BD%98%EC%86%94%20KVM&img=http://shopping.phinf.naver.net/main_8274395/8274395272.jpg HTTP/1.1\" 200 102\n"
     ]
    },
    {
     "name": "stdout",
     "output_type": "stream",
     "text": [
      "classify called\n",
      "classify called\n",
      "classify called\n",
      "classify called\n",
      "classify called\n",
      "classify called\n",
      "classify called\n",
      "classify called\n",
      "classify called\n",
      "classify called\n",
      "classify called\n",
      "classify called\n",
      "classify called\n",
      "classify called\n"
     ]
    },
    {
     "name": "stderr",
     "output_type": "stream",
     "text": [
      "10.0.2.2 - - [21/Aug/2016 18:27:41] \"GET /classify?name=NETmate%20KVM%2021%20%EC%8A%A4%EC%9C%84%EC%B9%98(%EB%B3%B4%EA%B8%89%ED%98%95-%EC%BC%80%EC%9D%B4%EB%B8%94%ED%8F%AC%ED%95%A8)%20[PCD0973]&img=http://shopping.phinf.naver.net/main_8277744/8277744286.jpg HTTP/1.1\" 200 102\n",
      "10.0.2.2 - - [21/Aug/2016 18:27:41] \"GET /classify?name=(C)USB%20KVM%20%EC%8A%A4%EC%9C%84%EC%B9%98/21%20[PCD10537]&img=http://shopping.phinf.naver.net/main_8274695/8274695776.jpg HTTP/1.1\" 200 102\n",
      "10.0.2.2 - - [21/Aug/2016 18:27:41] \"GET /classify?name=NETmate%20KVM%2041%20%EC%8A%A4%EC%9C%84%EC%B9%98(%EB%B3%B4%EA%B8%89%ED%98%95)%20[PCD0974]&img=http://shopping.phinf.naver.net/main_8278056/8278056625.jpg HTTP/1.1\" 200 102\n",
      "10.0.2.2 - - [21/Aug/2016 18:27:41] \"GET /classify?name=NETmate%20KVM%2021%20%EC%8A%A4%EC%9C%84%EC%B9%98(%EB%A7%88%EC%9A%B0%EC%8A%A4%ED%81%B4%EB%A6%AD%ED%82%B9)%20[PCD0985]&img=http://shopping.phinf.naver.net/main_8277524/8277524434.jpg HTTP/1.1\" 200 102\n",
      "10.0.2.2 - - [21/Aug/2016 18:27:41] \"GET /classify?name=NETmate%20KVM%2021%20%EC%8A%A4%EC%9C%84%EC%B9%98(%EB%B3%B4%EA%B8%89%ED%98%95)%20[PCD0972]&img=http://shopping.phinf.naver.net/main_8274521/8274521158.jpg HTTP/1.1\" 200 102\n",
      "10.0.2.2 - - [21/Aug/2016 18:27:41] \"GET /classify?name=[4%%EC%A6%89%EC%8B%9C%ED%95%A0%EC%9D%B8%EC%BF%A0%ED%8F%B0][ATEN]CS52A/USB%ED%8F%AC%ED%8A%B8&img=http://shopping.phinf.naver.net/main_8276934/8276934374.jpg HTTP/1.1\" 200 102\n",
      "10.0.2.2 - - [21/Aug/2016 18:27:41] \"GET /classify?name=[6%%EC%A6%89%EC%8B%9C%ED%95%A0%EC%9D%B8%EC%BF%A0%ED%8F%B0][ATEN]VS0202/2%ED%8F%AC%ED%8A%B8%20%EB%B9%84%EB%94%94%EC%98%A4%20%EB%A7%A4%ED%8A%B8%EB%A6%AD%EC%8A%A4%20%EC%8A%A4%EC%9C%84%EC%B9%98%20(2%20%EC%9E%85%EB%A0%A5&img=http://shopping.phinf.naver.net/main_8282839/8282839489.jpg HTTP/1.1\" 200 102\n",
      "10.0.2.2 - - [21/Aug/2016 18:27:41] \"GET /classify?name=[6%%EC%A6%89%EC%8B%9C%ED%95%A0%EC%9D%B8%EC%BF%A0%ED%8F%B0]DC25%20KW%20PS/2%20%ED%83%80%EC%9E%85%20Mix%204:1%20KVM%20%EC%8A%A4%EC%9C%84%EC%B9%98-%EC%A0%84%EC%9A%A9%20%EC%BC%80%EC%9D%B4%EB%B8%94&img=http://shopping.phinf.naver.net/main_8270514/8270514429.jpg HTTP/1.1\" 200 102\n",
      "10.0.2.2 - - [21/Aug/2016 18:27:41] \"GET /classify?name=[6%%EC%A6%89%EC%8B%9C%ED%95%A0%EC%9D%B8%EC%BF%A0%ED%8F%B0]DC25%20%EC%95%8C%ED%8A%B8%EC%8A%A8%20%EC%9B%90%EA%B2%A9%EC%A0%9C%EC%96%B4%208:1%20KVM%20%EC%8A%A4%EC%9C%84%EC%B2%98%20/KVM%EC%8A%A4%EC%9C%84%EC%B9%98/KV&img=http://shopping.phinf.naver.net/main_8270516/8270516327.jpg HTTP/1.1\" 200 102\n",
      "10.0.2.2 - - [21/Aug/2016 18:27:41] \"GET /classify?name=[4%%EC%A6%89%EC%8B%9C%ED%95%A0%EC%9D%B8%EC%BF%A0%ED%8F%B0]ATEN%202:1%20USB%20%EB%93%80%EC%96%BC%20%EB%B7%B0%20KVM%20%EC%8A%A4%EC%9C%84%EC%B2%98%20/%EB%93%80%EC%96%BC%20KVM&img=http://shopping.phinf.naver.net/main_8283760/8283760359.jpg HTTP/1.1\" 200 102\n",
      "10.0.2.2 - - [21/Aug/2016 18:27:41] \"GET /classify?name=[4%%EC%A6%89%EC%8B%9C%ED%95%A0%EC%9D%B8%EC%BF%A0%ED%8F%B0]ATEN%2016%ED%8F%AC%ED%8A%B8%20%EB%9E%99%ED%83%80%EC%9E%85%20PS/2%20KVM%20%EC%8A%A4%EC%9C%84%EC%B9%98-%EB%8D%B0%EC%9D%B4&img=http://shopping.phinf.naver.net/main_8283731/8283731824.jpg HTTP/1.1\" 200 102\n",
      "10.0.2.2 - - [21/Aug/2016 18:27:41] \"GET /classify?name=[6%%EC%A6%89%EC%8B%9C%ED%95%A0%EC%9D%B8%EC%BF%A0%ED%8F%B0]%EC%9C%A0%EB%8B%88%EC%BD%98%20%E5%8F%A3SJC%E5%8F%A3%20%EC%9C%A0%EB%8B%88%EC%BD%98%20%20UA-116OK%20KVM116%EC%8A%A4%EC%9C%84%EC%B9%98&img=http://shopping.phinf.naver.net/main_8338478/8338478337.jpg HTTP/1.1\" 200 102\n",
      "10.0.2.2 - - [21/Aug/2016 18:27:41] \"GET /classify?name=[6%%EC%A6%89%EC%8B%9C%ED%95%A0%EC%9D%B8%EC%BF%A0%ED%8F%B0]FREE/%20%EC%9C%A0%EB%8B%88%EC%BD%98%20%20UA-116OK%20(%EB%B9%A0%EB%A5%B8%EB%B0%B0%EC%86%A1)&img=http://shopping.phinf.naver.net/main_7284708/7284708113.jpg HTTP/1.1\" 200 102\n",
      "10.0.2.2 - - [21/Aug/2016 18:27:41] \"GET /classify?name=(GQI)%20%EC%9C%A0%EB%8B%88%EC%BD%98%20%20UA-116OK&img=http://shopping.phinf.naver.net/main_8081736/8081736005.jpg HTTP/1.1\" 200 102\n",
      "10.0.2.2 - - [21/Aug/2016 18:27:41] \"GET /classify?name=[6%%EC%A6%89%EC%8B%9C%ED%95%A0%EC%9D%B8%EC%BF%A0%ED%8F%B0]%20NETmate%20KVM%204:1%20%EC%8A%A4%EC%9C%84%EC%B9%98&img=http://shopping.phinf.naver.net/main_8284057/8284057865.jpg HTTP/1.1\" 200 102\n"
     ]
    },
    {
     "name": "stdout",
     "output_type": "stream",
     "text": [
      "classify called\n",
      "classify called\n",
      "classify called\n",
      "classify called\n",
      "classify called\n",
      "classify called\n",
      "classify called\n",
      "classify called\n",
      "classify called\n",
      "classify called\n",
      "classify called\n",
      "classify called\n",
      "classify called\n",
      "classify called\n",
      "classify called\n"
     ]
    },
    {
     "name": "stderr",
     "output_type": "stream",
     "text": [
      "10.0.2.2 - - [21/Aug/2016 18:27:41] \"GET /classify?name=[6%%EC%A6%89%EC%8B%9C%ED%95%A0%EC%9D%B8%EC%BF%A0%ED%8F%B0](ATEN)CS1742%202%ED%8F%AC%ED%8A%B8%20USB%20%EB%93%80%EC%96%BC%EB%B7%B0%20KVMP%20%20%EC%8A%A4%EC%9C%84%EC%B9%98%20CS1742&img=http://shopping.phinf.naver.net/main_8271432/8271432411.jpg HTTP/1.1\" 200 102\n",
      "10.0.2.2 - - [21/Aug/2016 18:27:41] \"GET /classify?name=[6%%EC%A6%89%EC%8B%9C%ED%95%A0%EC%9D%B8%EC%BF%A0%ED%8F%B0][ATEN]CL5816/16%ED%8F%AC%ED%8A%B8%20%EB%93%80%EC%96%BC%20%EB%A0%88%EC%9D%BC%20LCD%20KVM%20%EC%8A%A4%EC%9C%84%EC%B9%98%20CL581&img=http://shopping.phinf.naver.net/main_8282844/8282844353.jpg HTTP/1.1\" 200 102\n",
      "10.0.2.2 - - [21/Aug/2016 18:27:41] \"GET /classify?name=[6%%EC%A6%89%EC%8B%9C%ED%95%A0%EC%9D%B8%EC%BF%A0%ED%8F%B0][ATEN]VS0204/4%ED%8F%AC%ED%8A%B8%20%EB%B9%84%EB%94%94%EC%98%A4%20%EB%A7%A4%ED%8A%B8%EB%A6%AD%EC%8A%A4%20%EC%8A%A4%EC%9C%84%EC%B9%98%20(2%20%EC%9E%85%EB%A0%A5&img=http://shopping.phinf.naver.net/main_8282837/8282837942.jpg HTTP/1.1\" 200 102\n",
      "10.0.2.2 - - [21/Aug/2016 18:27:41] \"GET /classify?name=[6%%EC%A6%89%EC%8B%9C%ED%95%A0%EC%9D%B8%EC%BF%A0%ED%8F%B0][ATEN]CL1016/16%ED%8F%AC%ED%8A%B8%20Slideaway%20%20LCD%20KVM%20%EC%8A%A4%EC%9C%84%EC%B9%98%20CL1&img=http://shopping.phinf.naver.net/main_8282832/8282832035.jpg HTTP/1.1\" 200 102\n",
      "10.0.2.2 - - [21/Aug/2016 18:27:41] \"GET /classify?name=[6%%EC%A6%89%EC%8B%9C%ED%95%A0%EC%9D%B8%EC%BF%A0%ED%8F%B0][ATEN]CS9138/Rackmount%20KVM%20Switches/USB%ED%8F%AC%ED%8A%B8/%EC%BC%80%EC%9D%B4%EB%B8%94&img=http://shopping.phinf.naver.net/main_8282821/8282821913.jpg HTTP/1.1\" 200 102\n",
      "10.0.2.2 - - [21/Aug/2016 18:27:41] \"GET /classify?name=[6%%EC%A6%89%EC%8B%9C%ED%95%A0%EC%9D%B8%EC%BF%A0%ED%8F%B0][ATEN]CL1000/Slideaway%20%2017%E2%80%9D%20LCD%20KVM%20%EC%BD%98%EC%86%94%20CL1000/&img=http://shopping.phinf.naver.net/main_8282813/8282813861.jpg HTTP/1.1\" 200 102\n",
      "10.0.2.2 - - [21/Aug/2016 18:27:41] \"GET /classify?name=[4%%EC%A6%89%EC%8B%9C%ED%95%A0%EC%9D%B8%EC%BF%A0%ED%8F%B0][ATEN]CS64A/USB%ED%8F%AC%ED%8A%B8&img=http://shopping.phinf.naver.net/main_8276934/8276934262.jpg HTTP/1.1\" 200 102\n",
      "10.0.2.2 - - [21/Aug/2016 18:27:41] \"GET /classify?name=[6%%EC%A6%89%EC%8B%9C%ED%95%A0%EC%9D%B8%EC%BF%A0%ED%8F%B0]%20ATEN%20CS64A/USB%ED%8F%AC%ED%8A%B8&img=http://shopping.phinf.naver.net/main_8276258/8276258601.jpg HTTP/1.1\" 200 102\n",
      "10.0.2.2 - - [21/Aug/2016 18:27:41] \"GET /classify?name=[6%%EC%A6%89%EC%8B%9C%ED%95%A0%EC%9D%B8%EC%BF%A0%ED%8F%B0][PCD]NETmate%20KVM%204:1%20%EC%8A%A4%EC%9C%84%EC%B9%98(%EB%B3%B4%EA%B8%89%ED%98%95-%EC%BC%80%EC%9D%B4%EB%B8%94%ED%8F%AC%ED%95%A8)/%EC%BB%B4&img=http://shopping.phinf.naver.net/main_8266386/8266386194.jpg HTTP/1.1\" 200 102\n",
      "10.0.2.2 - - [21/Aug/2016 18:27:41] \"GET /classify?name=NETmate%20KVM%2041%20%EC%8A%A4%EC%9C%84%EC%B9%98(%EB%A7%88%EC%9A%B0%EC%8A%A4%ED%81%B4%EB%A6%AD%ED%82%B9)%20[PCD0986]&img=http://shopping.phinf.naver.net/main_8277750/8277750866.jpg HTTP/1.1\" 200 102\n",
      "10.0.2.2 - - [21/Aug/2016 18:27:41] \"GET /classify?name=[ICODA]%20%EC%9C%A0%EB%8B%88%EC%BD%98%20UA-116OK%20[KVM%2016:1%EC%8A%A4%EC%9C%84%EC%B9%98/%EB%9E%99%ED%83%80%EC%9E%85/PS/2/%EC%BC%80%EC%9D%B4%EB%B8%94%EB%B3%84%EB%A7%A4]&img=http://shopping.phinf.naver.net/main_6733615/6733615767.jpg HTTP/1.1\" 200 102\n",
      "10.0.2.2 - - [21/Aug/2016 18:27:41] \"GET /classify?name=NETmate%20PS/2-USB%20%EB%93%80%EC%96%BC%20%EC%BD%98%EC%86%94%20COMBO%20KVM%208%EB%8C%802%20%EC%8A%A4%EC%9C%84%EC%B9%98(OSD/CASCADE)%20%EC%BB%B4%ED%93%A8%ED%84%B0%EC%9A%A9%ED%92%88%20%EC%9C%A0%EB%AC%B4%20%EA%B3%B5%EC%9C%A0%EA%B8%B0%20%EC%BB%B4%ED%93%A8%ED%84%B0%EC%A3%BC%EB%B3%80%EA%B8%B0%EA%B8%B0&img=http://shopping.phinf.naver.net/main_7381808/7381808020.jpg HTTP/1.1\" 200 102\n",
      "10.0.2.2 - - [21/Aug/2016 18:27:41] \"GET /classify?name=NETmate%20PS/2-USB%20%EB%93%80%EC%96%BC%20%EC%BD%98%EC%86%94%20COMBO%20KVM%208%EB%8C%802%20%EC%8A%A4%EC%9C%84%EC%B9%98(OSD/CASCADE)%20%EC%BB%B4%ED%93%A8%ED%84%B0%EC%9A%A9%ED%92%88%20%EC%9C%A0%EB%AC%B4%20%EA%B3%B5%EC%9C%A0%EA%B8%B0%20%EC%BB%B4%ED%93%A8%ED%84%B0%EC%A3%BC%EB%B3%80%EA%B8%B0%EA%B8%B0&img=http://shopping.phinf.naver.net/main_7432688/7432688506.jpg HTTP/1.1\" 200 102\n",
      "10.0.2.2 - - [21/Aug/2016 18:27:41] \"GET /classify?name=[6%%EC%A6%89%EC%8B%9C%ED%95%A0%EC%9D%B8%EC%BF%A0%ED%8F%B0]UTM1925%20%20NETmate%20USB%20to%20%EC%8B%9C%EB%A6%AC%EC%96%BC/%ED%8E%98%EB%9F%AC%EB%9F%B4%20%EB%B3%80%ED%99%98%EA%B8%B0&img=http://shopping.phinf.naver.net/main_8341898/8341898356.jpg HTTP/1.1\" 200 129\n",
      "10.0.2.2 - - [21/Aug/2016 18:27:41] \"GET /classify?name=5%EB%A7%8C%EC%9B%90%EC%9D%B4%EC%83%81%20%EB%AC%B4%EB%A3%8C%EB%B0%B0%EC%86%A1[Intellinet]%EC%9D%B8%ED%85%94%EB%A6%AC%EB%84%B7%20KVM%20%EC%8A%A4%EC%9C%84%EC%B9%98%2016%ED%8F%AC%ED%8A%B8%20524643&img=http://shopping.phinf.naver.net/main_6551929/6551929571.jpg HTTP/1.1\" 200 102\n"
     ]
    },
    {
     "name": "stdout",
     "output_type": "stream",
     "text": [
      "classify called\n",
      "classify called\n",
      "classify called\n",
      "classify called\n",
      "classify called\n",
      "classify called\n",
      "classify called\n",
      "classify called\n",
      "classify called\n",
      "classify called\n",
      "classify called\n",
      "classify called\n",
      "classify called\n",
      "classify called\n",
      "classify called\n"
     ]
    },
    {
     "name": "stderr",
     "output_type": "stream",
     "text": [
      "10.0.2.2 - - [21/Aug/2016 18:27:41] \"GET /classify?name=NETmate%20IC-814-IW%204:1%20KVM%20%EC%8A%A4%EC%9C%84%EC%B9%98/%EC%BC%80%EC%9D%B4%EB%B8%94%ED%8F%AC%ED%95%A8/RGB+PS2%ED%83%80%EC%9E%85/%EB%AA%A8%EB%8B%88%ED%84%B0/%ED%82%A4%EB%B3%B4%EB%93%9C/%EB%A7%88%EC%9A%B0%EC%8A%A4&img=http://shopping.phinf.naver.net/main_6768219/6768219167.jpg HTTP/1.1\" 200 102\n",
      "10.0.2.2 - - [21/Aug/2016 18:27:41] \"GET /classify?name=[6%%EC%A6%89%EC%8B%9C%ED%95%A0%EC%9D%B8%EC%BF%A0%ED%8F%B0][PCD]CVP-050%20PS/2%205M%20(%2015%20HDB(M)15%20HDB(M)%20/%20MD6M&img=http://shopping.phinf.naver.net/main_8255216/8255216396.jpg HTTP/1.1\" 200 102\n",
      "10.0.2.2 - - [21/Aug/2016 18:27:41] \"GET /classify?name=[6%%EC%A6%89%EC%8B%9C%ED%95%A0%EC%9D%B8%EC%BF%A0%ED%8F%B0]KSC-104UC%20USB%20%EC%BD%98%EC%86%94.%204PCsPS2.%20USB.%201920x1440.%201.8M&img=http://shopping.phinf.naver.net/main_8283883/8283883590.jpg HTTP/1.1\" 200 98\n",
      "10.0.2.2 - - [21/Aug/2016 18:27:41] \"GET /classify?name=[6%%EC%A6%89%EC%8B%9C%ED%95%A0%EC%9D%B8%EC%BF%A0%ED%8F%B0](ATEN)2L-5002P%20C%20PS%202%20KVM%20%EC%BC%80%EC%9D%B4%EB%B8%94%202L-5002P%20C%20PS%202%20K&img=http://shopping.phinf.naver.net/main_8272850/8272850965.jpg HTTP/1.1\" 200 102\n",
      "10.0.2.2 - - [21/Aug/2016 18:27:41] \"GET /classify?name=[6%%EC%A6%89%EC%8B%9C%ED%95%A0%EC%9D%B8%EC%BF%A0%ED%8F%B0]KW%203-in-1%20KVM%20%EC%BC%80%EC%9D%B4%EB%B8%94(Mix%20KVM%20%EC%8A%A4%EC%9C%84%EC%B9%98%20%EC%A0%84%EC%9A%A9)&img=http://shopping.phinf.naver.net/main_8281966/8281966827.jpg HTTP/1.1\" 200 102\n",
      "10.0.2.2 - - [21/Aug/2016 18:27:41] \"GET /classify?name=[6%%EC%A6%89%EC%8B%9C%ED%95%A0%EC%9D%B8%EC%BF%A0%ED%8F%B0][ATEN]CL3000/%EA%B2%BD%EB%9F%89%ED%98%95%20PS/2-USB%20LCD%20%EC%BD%98%EC%86%94%20CL3000/17/19&img=http://shopping.phinf.naver.net/main_8282841/8282841459.jpg HTTP/1.1\" 200 102\n",
      "10.0.2.2 - - [21/Aug/2016 18:27:41] \"GET /classify?name=EZ%20%20[%EC%9C%A0%EB%8B%88%EC%BD%98]%20UA-116OK%20KVM%20%EC%8A%A4%EC%9C%84%EC%B9%98%20[16%ED%8F%AC%ED%8A%B8/19%EC%9D%B8%EC%B9%98%20%EB%9E%99%EC%82%AC%EC%9D%B4%EC%A6%88]&img=http://shopping.phinf.naver.net/main_7523400/7523400924.jpg HTTP/1.1\" 200 102\n",
      "10.0.2.2 - - [21/Aug/2016 18:27:41] \"GET /classify?name=[4%%EC%A6%89%EC%8B%9C%ED%95%A0%EC%9D%B8%EC%BF%A0%ED%8F%B0]NETmate%20%20KVM%202-in-1%20(RGB)%20(+%203L-16100PU%20%2010m)&img=http://shopping.phinf.naver.net/main_8286956/8286956526.jpg HTTP/1.1\" 200 102\n",
      "10.0.2.2 - - [21/Aug/2016 18:27:41] \"GET /classify?name=NETmate%20KVM%202-in-1%20%EC%BC%80%EC%9D%B4%EB%B8%94%2010M%20(RGB)%203L-16100PU&img=http://shopping.phinf.naver.net/main_7559080/7559080555.jpg HTTP/1.1\" 200 102\n",
      "10.0.2.2 - - [21/Aug/2016 18:27:41] \"GET /classify?name=%EA%B0%95%EC%9B%90%EC%A0%84%EC%9E%90%20NETmate%20KVM%202-in-1%20(RGB)%20(%EF%BC%8B%203L-16100PU,%2010m)&img=http://shopping.phinf.naver.net/main_8192176/8192176790.jpg HTTP/1.1\" 200 102\n",
      "10.0.2.2 - - [21/Aug/2016 18:27:42] \"GET /classify?name=NETmate%20KVM%202-in-1%20%EC%BC%80%EC%9D%B4%EB%B8%94%2010M%20(RGB)3L-16100PU&img=http://shopping.phinf.naver.net/main_7385786/7385786534.jpg HTTP/1.1\" 200 102\n",
      "10.0.2.2 - - [21/Aug/2016 18:27:42] \"GET /classify?name=[6%%EC%A6%89%EC%8B%9C%ED%95%A0%EC%9D%B8%EC%BF%A0%ED%8F%B0]NETmate%20%20KVM%202-in-1%20(RGB)%20(%20%203L-16100PU%20%2010m)&img=http://shopping.phinf.naver.net/main_7759193/7759193899.jpg HTTP/1.1\" 200 102\n"
     ]
    },
    {
     "name": "stdout",
     "output_type": "stream",
     "text": [
      "classify called\n",
      "classify called\n",
      "classify called\n",
      "classify called\n",
      "classify called\n",
      "classify called\n",
      "classify called\n",
      "classify called\n",
      "classify called\n",
      "classify called\n",
      "classify called\n",
      "classify called\n"
     ]
    },
    {
     "name": "stderr",
     "output_type": "stream",
     "text": [
      "10.0.2.2 - - [21/Aug/2016 18:27:42] \"GET /classify?name=NETmate%20KVM%202-in-1%20%EC%BC%80%EC%9D%B4%EB%B8%94%203M%20(RGB)NMC-L1630PU&img=http://shopping.phinf.naver.net/main_7385786/7385786531.jpg HTTP/1.1\" 200 102\n",
      "10.0.2.2 - - [21/Aug/2016 18:27:42] \"GET /classify?name=[KB%EA%B5%AD%EB%AF%BC%EC%B9%B4%EB%93%9C%205%%ED%95%A0%EC%9D%B8,%203/16~3/17][%EC%8A%A4%ED%8E%99%ED%8A%B8%EB%9F%BC]%20%EC%9E%90%EA%B0%80%EB%B0%9C%EC%A0%84%20%EB%9D%BC%EB%94%94%EC%98%A4(G-168)%20/%20%EC%95%84%EC%9B%83%EB%8F%84%EC%96%B4%EC%A0%84%EC%9E%90%EC%A0%9C%ED%92%88&img=http://shopping.phinf.naver.net/main_7249867/7249867938.jpg HTTP/1.1\" 200 101\n",
      "10.0.2.2 - - [21/Aug/2016 18:27:42] \"GET /classify?name=[6%%EC%A6%89%EC%8B%9C%ED%95%A0%EC%9D%B8%EC%BF%A0%ED%8F%B0]PCDNETmate%20KVM%202:1%20%EC%8A%A4%EC%9C%84%EC%B9%98%EB%B3%B4%EA%B8%89%ED%98%95-%EC%BC%80%EC%9D%B4%EB%B8%94%ED%8F%AC%ED%95%A8%20%EC%84%9C%EB%B2%84%EC%BD%98&img=http://shopping.phinf.naver.net/main_8274327/8274327680.jpg HTTP/1.1\" 200 102\n",
      "10.0.2.2 - - [21/Aug/2016 18:27:42] \"GET /classify?name=[6%%EC%A6%89%EC%8B%9C%ED%95%A0%EC%9D%B8%EC%BF%A0%ED%8F%B0]%20NETmate%20Slim%20KVM%20%EC%97%B0%EC%9E%A5(RGB)%20%EC%BC%80%EC%9D%B4%EB%B8%94%2010M&img=http://shopping.phinf.naver.net/main_8267013/8267013946.jpg HTTP/1.1\" 200 102\n",
      "10.0.2.2 - - [21/Aug/2016 18:27:42] \"GET /classify?name=[6%%EC%A6%89%EC%8B%9C%ED%95%A0%EC%9D%B8%EC%BF%A0%ED%8F%B0][ATEN]2L-1020P/C/PS/2%20KVM%20%EC%BC%80%EC%9D%B4%EB%B8%94%202L-1020P/C/PS/2%20K&img=http://shopping.phinf.naver.net/main_8282838/8282838753.jpg HTTP/1.1\" 200 102\n",
      "10.0.2.2 - - [21/Aug/2016 18:27:42] \"GET /classify?name=[6%%EC%A6%89%EC%8B%9C%ED%95%A0%EC%9D%B8%EC%BF%A0%ED%8F%B0]KVM%20%EC%BC%80%EC%9D%B4%EB%B8%94%20-KVM-15MF%205M&img=http://shopping.phinf.naver.net/main_8277142/8277142095.jpg HTTP/1.1\" 200 102\n",
      "10.0.2.2 - - [21/Aug/2016 18:27:42] \"GET /classify?name=[4%%EC%A6%89%EC%8B%9C%ED%95%A0%EC%9D%B8%EC%BF%A0%ED%8F%B0]KVM%20%EC%BC%80%EC%9D%B4%EB%B8%94(%EC%97%B0%EC%9E%A5%20VGA)%2015M&img=http://shopping.phinf.naver.net/main_8277633/8277633580.jpg HTTP/1.1\" 200 102\n",
      "10.0.2.2 - - [21/Aug/2016 18:27:42] \"GET /classify?name=CVP-100%20PS/2%2010%EB%AF%B8%ED%84%B0%20KVM%EC%BC%80%EC%9D%B4%EB%B8%94%20(15%20HDB(M)15%20HDB(M)/MD6M,%20MD6M)%20[PCD2556]&img=http://shopping.phinf.naver.net/main_8277739/8277739536.jpg HTTP/1.1\" 200 102\n",
      "10.0.2.2 - - [21/Aug/2016 18:27:42] \"GET /classify?name=[ATEN]2L-5206P%20/PS/2%20KVM%20%EC%BC%80%EC%9D%B4%EB%B8%94%202L-5206P/PS/2%20KVM%20Cables%20[PCP0111]&img=http://shopping.phinf.naver.net/main_8277593/8277593736.jpg HTTP/1.1\" 200 102\n",
      "10.0.2.2 - - [21/Aug/2016 18:27:42] \"GET /classify?name=[ATEN]2L-5302P%20/PS/2%20KVM%20%EC%BC%80%EC%9D%B4%EB%B8%94%202L-5302P/PS/2%20KVM%20Cables%20[PCP0106]&img=http://shopping.phinf.naver.net/main_8274473/8274473714.jpg HTTP/1.1\" 200 102\n",
      "10.0.2.2 - - [21/Aug/2016 18:27:42] \"GET /classify?name=KVM%20%EC%BC%80%EC%9D%B4%EB%B8%9415M%20(M/M)%20[PCD4042]&img=http://shopping.phinf.naver.net/main_8274463/8274463094.jpg HTTP/1.1\" 200 102\n",
      "10.0.2.2 - - [21/Aug/2016 18:27:42] \"GET /classify?name=KVM%20%EC%BC%80%EC%9D%B4%EB%B8%94%20%EC%97%B0%EC%9E%A5%2020M%20(M/F)%20[PCD4013]&img=http://shopping.phinf.naver.net/main_8274526/8274526428.jpg HTTP/1.1\" 200 102\n",
      "10.0.2.2 - - [21/Aug/2016 18:27:42] \"GET /classify?name=[6%%EC%A6%89%EC%8B%9C%ED%95%A0%EC%9D%B8%EC%BF%A0%ED%8F%B0][ATEN]2L-1010P/C%20/PS/2%20KVM%20%EC%BC%80%EC%9D%B4%EB%B8%94%202L-1010P/C/PS/2&img=http://shopping.phinf.naver.net/main_8274702/8274702773.jpg HTTP/1.1\" 200 102\n",
      "10.0.2.2 - - [21/Aug/2016 18:27:42] \"GET /classify?name=[6%%EC%A6%89%EC%8B%9C%ED%95%A0%EC%9D%B8%EC%BF%A0%ED%8F%B0][ATEN]2L-1010P/C%20/PS/2%20KVM%20%EC%BC%80%EC%9D%B4%EB%B8%94%202L-1010P/C/PS/2&img=http://shopping.phinf.naver.net/main_8266746/8266746428.jpg HTTP/1.1\" 200 102\n"
     ]
    },
    {
     "name": "stdout",
     "output_type": "stream",
     "text": [
      "classify called\n",
      "classify called\n",
      "classify called\n",
      "classify called\n",
      "classify called\n",
      "classify called\n",
      "classify called\n",
      "classify called\n",
      "classify called\n",
      "classify called\n",
      "classify called\n",
      "classify called\n",
      "classify called\n",
      "classify called\n"
     ]
    },
    {
     "name": "stderr",
     "output_type": "stream",
     "text": [
      "10.0.2.2 - - [21/Aug/2016 18:27:42] \"GET /classify?name=[6%%EC%A6%89%EC%8B%9C%ED%95%A0%EC%9D%B8%EC%BF%A0%ED%8F%B0]DA-KVM%20MF%2010m(CS-78%ED%98%B8%ED%99%98%EC%9A%A9)%20KVMCBL%20M%20F%20KVM%20%EB%84%A4%ED%8A%B8&img=http://shopping.phinf.naver.net/main_8277248/8277248608.jpg HTTP/1.1\" 200 102\n",
      "10.0.2.2 - - [21/Aug/2016 18:27:42] \"GET /classify?name=[6%%EC%A6%89%EC%8B%9C%ED%95%A0%EC%9D%B8%EC%BF%A0%ED%8F%B0][ATEN]2L-1010P/PS/2%20KVM%20%EC%BC%80%EC%9D%B4%EB%B8%94%202L-1010P/PS/2%20KVM%20C&img=http://shopping.phinf.naver.net/main_8266398/8266398985.jpg HTTP/1.1\" 200 102\n",
      "10.0.2.2 - - [21/Aug/2016 18:27:42] \"GET /classify?name=[ATEN]2L-1020P/C/PS/2%20KVM%20%EC%BC%80%EC%9D%B4%EB%B8%94%202L-1020P/C/PS/2%20KVM%20Cables&img=http://shopping.phinf.naver.net/main_8269623/8269623792.jpg HTTP/1.1\" 200 102\n",
      "10.0.2.2 - - [21/Aug/2016 18:27:42] \"GET /classify?name=[ATEN]2L-1010P/PS/2%20KVM%20%EC%BC%80%EC%9D%B4%EB%B8%94%202L-1010P/PS/2%20KVM%20Cables%20[PCP0105]&img=http://shopping.phinf.naver.net/main_8274647/8274647362.jpg HTTP/1.1\" 200 102\n",
      "10.0.2.2 - - [21/Aug/2016 18:27:42] \"GET /classify?name=KVM%20%EC%BC%80%EC%9D%B4%EB%B8%9420M%20(M/M)%20[PCD4043]&img=http://shopping.phinf.naver.net/main_8270643/8270643647.jpg HTTP/1.1\" 200 102\n",
      "10.0.2.2 - - [21/Aug/2016 18:27:42] \"GET /classify?name=KVM%20%EC%BC%80%EC%9D%B4%EB%B8%9420M%20(M/M)%20[PCD4043]&img=http://shopping.phinf.naver.net/main_8270494/8270494048.jpg HTTP/1.1\" 200 102\n",
      "10.0.2.2 - - [21/Aug/2016 18:27:42] \"GET /classify?name=[6%%EC%A6%89%EC%8B%9C%ED%95%A0%EC%9D%B8%EC%BF%A0%ED%8F%B0]KVM%EC%BC%80%EC%9D%B4%EB%B8%94%20%EC%97%B0%EC%9E%A5%201.2M%20RGB%20VGA%20PS2KVM%EC%BC%80%EC%9D%B4%EB%B8%94%20KVM%20%EC%BC%80%EC%9D%B4&img=http://shopping.phinf.naver.net/main_8280716/8280716182.jpg HTTP/1.1\" 200 102\n",
      "10.0.2.2 - - [21/Aug/2016 18:27:42] \"GET /classify?name=[6%%EC%A6%89%EC%8B%9C%ED%95%A0%EC%9D%B8%EC%BF%A0%ED%8F%B0]%20%20ATEN%202L-5005P/C/PS/2%20KVM%20%EC%BC%80%EC%9D%B4%EB%B8%94%202L-5005P/C/PS/2%20K&img=http://shopping.phinf.naver.net/main_8276143/8276143917.jpg HTTP/1.1\" 200 102\n",
      "10.0.2.2 - - [21/Aug/2016 18:27:42] \"GET /classify?name=[4%%EC%A6%89%EC%8B%9C%ED%95%A0%EC%9D%B8%EC%BF%A0%ED%8F%B0]%EB%8D%B0%EC%9D%B4%ED%84%B0/%EC%A0%A0%EB%8D%94%20%EA%B8%B0%ED%83%80%20-%20PCDDA-KVM13M-C1.2mCS-716%ED%98%B8%ED%99%98%EC%9A%A9K&img=http://shopping.phinf.naver.net/main_8265245/8265245957.jpg HTTP/1.1\" 200 102\n",
      "10.0.2.2 - - [21/Aug/2016 18:27:42] \"GET /classify?name=[4%%EC%A6%89%EC%8B%9C%ED%95%A0%EC%9D%B8%EC%BF%A0%ED%8F%B0]%EB%8D%B0%EC%9D%B4%ED%84%B0/%EC%A0%A0%EB%8D%94%20%EA%B8%B0%ED%83%80%20-%20PCDCVP-030%20PS2%203M%2015%20HDBM15%20HDB&img=http://shopping.phinf.naver.net/main_8265425/8265425991.jpg HTTP/1.1\" 200 102\n",
      "10.0.2.2 - - [21/Aug/2016 18:27:42] \"GET /classify?name=[%EB%AC%B4%EB%A3%8C%EB%B0%B0%EC%86%A1]KVM%20%EC%BC%80%EC%9D%B4%EB%B8%94%20-KVM-15MF%205M&img=http://shopping.phinf.naver.net/main_8264821/8264821432.jpg HTTP/1.1\" 200 102\n",
      "10.0.2.2 - - [21/Aug/2016 18:27:42] \"GET /classify?name=[6%%EC%A6%89%EC%8B%9C%ED%95%A0%EC%9D%B8%EC%BF%A0%ED%8F%B0][%EC%9D%B4%EB%B2%A0%EC%9D%B4%EC%9A%A9](K)KVM%20COMBO%20%EA%B3%A0%EA%B8%89%ED%98%95%203M(RGB)/%EC%BB%B4%ED%93%A8%ED%84%B0%EC%A3%BC%EB%B3%80%EA%B8%B0&img=http://shopping.phinf.naver.net/main_8259027/8259027624.jpg HTTP/1.1\" 200 102\n",
      "10.0.2.2 - - [21/Aug/2016 18:27:42] \"GET /classify?name=[6%%EC%A6%89%EC%8B%9C%ED%95%A0%EC%9D%B8%EC%BF%A0%ED%8F%B0]DA-KVM13M-3m(CS-716%ED%98%B8%ED%99%98%EC%9A%A9)%20KVMCBL%2013TYPE%20KVM%20%EB%84%A4%ED%8A%B8&img=http://shopping.phinf.naver.net/main_8276198/8276198316.jpg HTTP/1.1\" 200 102\n",
      "10.0.2.2 - - [21/Aug/2016 18:27:42] \"GET /classify?name=[6%%EC%A6%89%EC%8B%9C%ED%95%A0%EC%9D%B8%EC%BF%A0%ED%8F%B0][PCD]NETmate%20KVM%20%EC%97%B0%EC%9E%A5(RGB)%20%EC%BC%80%EC%9D%B4%EB%B8%94%2010M%20(ST%ED%8F%AC%ED%95%A8)/%EC%BB%B4&img=http://shopping.phinf.naver.net/main_8258107/8258107536.jpg HTTP/1.1\" 200 102\n",
      "10.0.2.2 - - [21/Aug/2016 18:27:42] \"GET /classify?name=[4%%EC%A6%89%EC%8B%9C%ED%95%A0%EC%9D%B8%EC%BF%A0%ED%8F%B0]DA-KVM%20MF%203m%20CS-78%ED%98%B8%ED%99%98%EC%9A%A9%20KVMCBL%20M%20F%20KVM%20%EB%84%A4%ED%8A%B8%EC%9B%8C%ED%81%AC&img=http://shopping.phinf.naver.net/main_8274550/8274550387.jpg HTTP/1.1\" 200 102\n"
     ]
    },
    {
     "name": "stdout",
     "output_type": "stream",
     "text": [
      "classify called\n",
      "classify called\n",
      "classify called\n",
      "classify called\n",
      "classify called\n",
      "classify called\n",
      "classify called\n",
      "classify called\n",
      "classify called\n",
      "classify called\n",
      "classify called\n",
      "classify called\n",
      "classify called\n",
      "classify called\n"
     ]
    },
    {
     "name": "stderr",
     "output_type": "stream",
     "text": [
      "10.0.2.2 - - [21/Aug/2016 18:27:42] \"GET /classify?name=[6%%EC%A6%89%EC%8B%9C%ED%95%A0%EC%9D%B8%EC%BF%A0%ED%8F%B0]CDP-100%20PS%202%2010M%20(%2015%20HDB(M)15%20HDB(M)%20%20%20MD6M%20%20MD6M&img=http://shopping.phinf.naver.net/main_8276199/8276199980.jpg HTTP/1.1\" 200 102\n",
      "10.0.2.2 - - [21/Aug/2016 18:27:42] \"GET /classify?name=[6%%EC%A6%89%EC%8B%9C%ED%95%A0%EC%9D%B8%EC%BF%A0%ED%8F%B0]DA-KVM13M-2m(CS-716%ED%98%B8%ED%99%98%EC%9A%A9)%20KVMCBL%2013TYPE%20KVM%20%EB%84%A4%ED%8A%B8&img=http://shopping.phinf.naver.net/main_8273564/8273564197.jpg HTTP/1.1\" 200 102\n",
      "10.0.2.2 - - [21/Aug/2016 18:27:42] \"GET /classify?name=[6%%EC%A6%89%EC%8B%9C%ED%95%A0%EC%9D%B8%EC%BF%A0%ED%8F%B0]CDP-018%20PS%202%201.8M%20(%2015%20HDB(M)15%20HDB(M)%20%20%20MD6M%20%20MD6&img=http://shopping.phinf.naver.net/main_8272882/8272882192.jpg HTTP/1.1\" 200 102\n",
      "10.0.2.2 - - [21/Aug/2016 18:27:42] \"GET /classify?name=[6%%EC%A6%89%EC%8B%9C%ED%95%A0%EC%9D%B8%EC%BF%A0%ED%8F%B0]%20CVP-100%20PS%202%2010M(%2015%20HDB(M)15%20HDB(M)%20%20MD6M&img=http://shopping.phinf.naver.net/main_8267142/8267142702.jpg HTTP/1.1\" 200 102\n",
      "10.0.2.2 - - [21/Aug/2016 18:27:42] \"GET /classify?name=DS-60-C%20%EA%B4%91%EC%84%AC%EC%9C%A0%20%EC%A0%88%EB%8B%A8%ED%8E%9C%20DIAMOND-Tip%20%EB%AF%B8%EA%B5%AD%20RIPLEY%20DS-60-C%20%ED%86%B5%EC%8B%A0%EA%B3%B5%EC%82%AC%20%EA%B4%91%EC%84%A0%EB%A1%9C%EA%B3%B5%EC%82%AC%20%EC%A0%91%EC%86%8D%EC%9E%90%EC%9E%AC%20%EC%8B%AC%EC%84%A0%EC%A0%88%EB%8B%A8%20%EC%BC%80%EC%9D%B4%EB%B8%94[%EB%B9%A0%EB%A5%B8%EB%B0%B0%EC%86%A1]&img=http://shopping.phinf.naver.net/main_8282990/8282990564.jpg HTTP/1.1\" 200 90\n",
      "10.0.2.2 - - [21/Aug/2016 18:27:42] \"GET /classify?name=NETmate%20U-480%20USB%20to%20DVI%20%EB%B3%80%ED%99%98%EA%B8%B0(USB%20%EA%B7%B8%EB%9E%98%ED%94%BD%EC%B9%B4%EB%93%9C)/%ED%99%95%EC%9E%A5%20%EB%AA%A8%EB%8B%88%ED%84%B0/%EB%93%80%EC%96%BC%20%EB%AA%A8%EB%8B%88%ED%84%B0/%EB%B3%B5%EC%A0%9C%20%EB%AA%A8%EB%8B%88%ED%84%B0&img=http://shopping.phinf.naver.net/main_6768218/6768218912.jpg HTTP/1.1\" 200 141\n",
      "10.0.2.2 - - [21/Aug/2016 18:27:42] \"GET /classify?name=NETmate%20KVM%202-in-1%20%EC%BC%80%EC%9D%B4%EB%B8%94%2010M%20(RGB)[3L-16100PU]&img=http://shopping.phinf.naver.net/main_6293511/6293511007.jpg HTTP/1.1\" 200 102\n",
      "10.0.2.2 - - [21/Aug/2016 18:27:42] \"GET /classify?name=NETmate%20KVM%202-in-1%20%EC%BC%80%EC%9D%B4%EB%B8%94%2010M%20(RGB)3L-16100PU&img=http://shopping.phinf.naver.net/main_7388682/7388682677.jpg HTTP/1.1\" 200 102\n",
      "10.0.2.2 - - [21/Aug/2016 18:27:42] \"GET /classify?name=NETmate%20%20KVM%202-in-1%20(RGB)%20(+%203L-16100PU,%2010m)&img=http://shopping.phinf.naver.net/main_8287968/8287968813.jpg HTTP/1.1\" 200 102\n",
      "10.0.2.2 - - [21/Aug/2016 18:27:42] \"GET /classify?name=[%EC%8B%A0%EB%8F%84%EB%A7%A4%EC%9C%A0%ED%86%B5%20%ED%94%8C%EB%9F%AC%EC%8A%A4%EB%AA%B0]HDR-XR160/HDR-XR260/DCR-SX45%20%EC%86%8C%EB%8B%88%20%ED%95%B8%EB%94%94%EC%BA%A0%EC%BD%94%EB%8D%94&img=http://shopping.phinf.naver.net/main_7492922/7492922253.jpg HTTP/1.1\" 200 134\n",
      "10.0.2.2 - - [21/Aug/2016 18:27:42] \"GET /classify?name=MATIN%20%EC%95%A1%EC%A0%95%EB%B3%B4%ED%98%B8%EC%BB%A4%EB%B2%84%20%EC%BA%90%EB%85%BC%20EOS-50D%EC%A0%84%EC%9A%A9%203.0%EC%9D%B8%EC%B9%98&img=http://shopping.phinf.naver.net/main_5398753/5398753127.20130424121118.jpg HTTP/1.1\" 200 134\n",
      "10.0.2.2 - - [21/Aug/2016 18:27:42] \"GET /classify?name=%ED%98%B8%EB%A3%A8%EC%8A%A4%EB%B2%A4%EB%88%84%20%EC%95%A1%EC%A0%95%EB%B3%B4%ED%98%B8%EC%BB%A4%EB%B2%84%20%EC%BA%90%EB%85%BC%2095IS%20%EC%A0%84%EC%9A%A9&img=http://shopping.phinf.naver.net/main_8229188/8229188416.jpg HTTP/1.1\" 200 134\n"
     ]
    },
    {
     "name": "stdout",
     "output_type": "stream",
     "text": [
      "classify called\n",
      "classify called\n",
      "classify called\n",
      "classify called\n",
      "classify called\n",
      "classify called\n",
      "classify called\n",
      "classify called\n",
      "classify called\n",
      "classify called\n",
      "classify called\n",
      "classify called\n",
      "classify called\n"
     ]
    },
    {
     "name": "stderr",
     "output_type": "stream",
     "text": [
      "10.0.2.2 - - [21/Aug/2016 18:27:42] \"GET /classify?name=[%EC%8B%A0%ED%95%9C%EC%B9%B4%EB%93%9C5%%ED%95%A0%EC%9D%B8]%20%20[%E6%B1%9F%E5%B1%B1-%EC%A0%95%ED%92%88]LARMOR%20(0.5mm%20%EA%B0%95%ED%99%94%EC%9C%A0%EB%A6%AC)%20%EB%9D%BC%EB%AA%B0%20LCD%EB%B0%A9%ED%83%84%20%EB%B3%B4%ED%98%B8%ED%95%84%EB%A6%84-%20%EC%BA%90%EB%85%BC%20700D%20(SELF-ADHESIVE)&img=http://shopping.phinf.naver.net/main_8151985/8151985200.jpg HTTP/1.1\" 200 134\n",
      "10.0.2.2 - - [21/Aug/2016 18:27:42] \"GET /classify?name=[%EC%86%8C%EB%8B%88(SONY)][%EC%A0%95%ED%92%88]%EC%86%8C%EB%8B%88%20RX10%20%EC%A0%84%EC%9A%A9%20%EC%9E%90%EC%BC%93%EC%BC%80%EC%9D%B4%EC%8A%A4%20LCJ-RXE&img=http://shopping.phinf.naver.net/main_7390589/7390589523.1.jpg HTTP/1.1\" 200 100\n",
      "10.0.2.2 - - [21/Aug/2016 18:27:42] \"GET /classify?name=[%EB%B0%94%EB%B3%B4%EC%82%AC%EB%9E%91][%ED%8F%B0%ED%8A%B8%EB%A6%AC%20%ED%9E%90%EB%A7%81%EC%89%B4%EB%93%9C]%EC%86%8C%EB%8B%88%20RX100%20M3%20AFP%20%EC%98%AC%EB%A0%88%ED%8F%AC%EB%B9%85%20%EC%95%A1%EC%A0%95%EB%B3%B4%ED%98%B8%ED%95%84%EB%A6%84%202%EB%A7%A4[%EB%AC%B4%EB%A3%8C%EB%B0%B0%EC%86%A1]&img=http://shopping.phinf.naver.net/main_7746307/7746307074.1.jpg HTTP/1.1\" 200 134\n",
      "10.0.2.2 - - [21/Aug/2016 18:27:42] \"GET /classify?name=[4%%EC%A6%89%EC%8B%9C%ED%95%A0%EC%9D%B8%EC%BF%A0%ED%8F%B0]%EC%98%A4%EB%A7%A5%EC%8A%A4%20%EC%8B%A4%EC%B2%B4%20%EC%98%81%EC%83%81%ED%98%84%EB%AF%B8%EA%B2%BD%20AKS-ZH40&img=http://shopping.phinf.naver.net/main_8270691/8270691406.jpg HTTP/1.1\" 200 134\n",
      "10.0.2.2 - - [21/Aug/2016 18:27:42] \"GET /classify?name=%EC%9C%84%EB%93%9C%EC%8A%A4%EC%9C%97%EB%AA%B0%20%EB%B8%8C%EB%9F%B0%ED%8A%BC%20%EC%8C%8D%EC%95%88%EA%B2%BD/%EC%97%90%EC%BD%94%208x25&img=http://shopping.phinf.naver.net/main_8266329/8266329599.jpg HTTP/1.1\" 200 130\n",
      "10.0.2.2 - - [21/Aug/2016 18:27:42] \"GET /classify?name=[4%%EC%A6%89%EC%8B%9C%ED%95%A0%EC%9D%B8%EC%BF%A0%ED%8F%B0]%EC%BA%90%EB%85%BC%20EOS%2070D%20%EC%95%A1%EC%A0%95%EB%B3%B4%ED%98%B8%ED%95%84%EB%A6%84%20%EA%B5%AD%EC%82%B0%ED%88%AC%EB%AA%85%EA%B0%95%ED%99%94&img=http://shopping.phinf.naver.net/main_8273529/8273529415.jpg HTTP/1.1\" 200 134\n",
      "10.0.2.2 - - [21/Aug/2016 18:27:42] \"GET /classify?name=DPF-D72N%20%EC%8B%9C%EB%A6%AC%EC%A6%88%20%EC%86%8C%EB%8B%88%20%EB%94%94%EC%A7%80%ED%84%B8%EC%95%A1%EC%9E%90%20%EC%A0%84%EC%9A%A9&img=http://shopping.phinf.naver.net/main_8281601/8281601322.jpg HTTP/1.1\" 200 100\n",
      "10.0.2.2 - - [21/Aug/2016 18:27:42] \"GET /classify?name=F1040N-PN%20%EC%97%98%EC%A7%80%EC%A0%84%EC%9E%90%20%EB%94%94%EC%A7%80%ED%84%B8%EC%95%A1%EC%9E%90%20%EC%A0%84%EC%9A%A9%2010.&img=http://shopping.phinf.naver.net/main_8281582/8281582399.jpg HTTP/1.1\" 200 100\n",
      "10.0.2.2 - - [21/Aug/2016 18:27:42] \"GET /classify?name=DSC-TX7%20%EC%86%8C%EB%8B%88%20%EB%94%94%EC%B9%B4(3.5%EC%9D%B8%EC%B9%98)%20TX7%EC%95%A1%EC%A0%95%EB%B3%B4%ED%98%B8?&img=http://shopping.phinf.naver.net/main_8280999/8280999684.jpg HTTP/1.1\" 200 134\n",
      "10.0.2.2 - - [21/Aug/2016 18:27:42] \"GET /classify?name=%EC%9C%84%EB%93%9C%EC%8A%A4%EC%9C%97%EB%AA%B0%20%EC%BD%94%EC%99%80%20%EC%8C%8D%EC%95%88%EA%B2%BD%20YF30%206&img=http://shopping.phinf.naver.net/main_8266336/8266336142.jpg HTTP/1.1\" 200 130\n",
      "10.0.2.2 - - [21/Aug/2016 18:27:42] \"GET /classify?name=[4%%EC%A6%89%EC%8B%9C%ED%95%A0%EC%9D%B8%EC%BF%A0%ED%8F%B0][%EC%A0%95%ED%92%88]%20%EB%B6%80%EC%89%AC%EB%84%AC%20BackTrack%205P%20/%20%EC%9C%84%EC%B9%98%ED%99%95%EC%9D%B8%20GPS%20%EA%B1%B0%EB%A6%AC%EC%B8%A1%EC%A0%95%EA%B8%B0%20%EC%8A%A4%ED%8F%AC%EC%B8%A0&img=http://shopping.phinf.naver.net/main_8280950/8280950733.jpg HTTP/1.1\" 200 79\n",
      "10.0.2.2 - - [21/Aug/2016 18:27:42] \"GET /classify?name=[5%%EC%A6%89%EC%8B%9C%ED%95%A0%EC%9D%B8%EC%BF%A0%ED%8F%B0]%EB%B8%8C%EB%9F%B0%ED%8A%BC%20%EC%8C%8D%EC%95%88%EA%B2%BD/%EC%97%90%EC%BD%94%2010x50%20%ED%8F%AC%EB%A1%9C%20%EB%8B%B9%EC%9D%BC%EB%B0%9C%EC%86%A1/%EB%B9%A0%EB%A5%B8%EB%B0%B0%EC%86%A1&img=http://shopping.phinf.naver.net/main_8266405/8266405448.jpg HTTP/1.1\" 200 130\n",
      "10.0.2.2 - - [21/Aug/2016 18:27:42] \"GET /classify?name=[5%%EC%A6%89%EC%8B%9C%ED%95%A0%EC%9D%B8%EC%BF%A0%ED%8F%B0]%EB%B1%85%EA%B0%80%EB%93%9C%20%EC%8C%8D%EC%95%88%EA%B2%BD/%EC%97%94%EB%8D%B0%EB%B2%84%20ED%208x42%20%EB%8B%B9%EC%9D%BC%EB%B0%9C%EC%86%A1/%EB%B9%A0%EB%A5%B8%EB%B0%B0%EC%86%A1&img=http://shopping.phinf.naver.net/main_8266379/8266379594.jpg HTTP/1.1\" 200 130\n",
      "10.0.2.2 - - [21/Aug/2016 18:27:42] \"GET /classify?name=%EC%9C%84%EB%93%9C%EC%8A%A4%EC%9C%97%EB%AA%B0%20%EC%BD%94%EC%99%80%20%EC%8C%8D%EC%95%88%EA%B2%BD%20BD42%2010GR&img=http://shopping.phinf.naver.net/main_8266360/8266360943.jpg HTTP/1.1\" 200 130\n",
      "10.0.2.2 - - [21/Aug/2016 18:27:42] \"GET /classify?name=[5%%EC%A6%89%EC%8B%9C%ED%95%A0%EC%9D%B8%EC%BF%A0%ED%8F%B0]%EC%BA%90%EB%85%BC%20%EC%8C%8D%EC%95%88%EA%B2%BD%2018x50%20IS%20WP%20%EC%8A%A4%ED%83%80%EB%B9%8C%EB%9D%BC%EC%9D%B4%EC%A0%B8%20%EB%8B%B9%EC%9D%BC%EB%B0%9C%EC%86%A1/%EB%B9%A0%EB%A5%B8&img=http://shopping.phinf.naver.net/main_8266349/8266349128.jpg HTTP/1.1\" 200 130\n"
     ]
    },
    {
     "name": "stdout",
     "output_type": "stream",
     "text": [
      "classify called\n",
      "classify called\n",
      "classify called\n",
      "classify called\n",
      "classify called\n",
      "classify called\n",
      "classify called\n",
      "classify called\n",
      "classify called\n",
      "classify called\n",
      "classify called\n",
      "classify called\n",
      "classify called\n",
      "classify called\n",
      "classify called\n"
     ]
    },
    {
     "name": "stderr",
     "output_type": "stream",
     "text": [
      "10.0.2.2 - - [21/Aug/2016 18:27:42] \"GET /classify?name=%EC%9C%84%EB%93%9C%EC%8A%A4%EC%9C%97%EB%AA%B0%20%EB%B8%8C%EB%9F%B0%ED%8A%BC%20%EC%8C%8D%EC%95%88%EA%B2%BD/%EC%9D%B4%ED%84%B0%EB%82%98%2010x32&img=http://shopping.phinf.naver.net/main_8266336/8266336777.jpg HTTP/1.1\" 200 130\n",
      "10.0.2.2 - - [21/Aug/2016 18:27:42] \"GET /classify?name=[4%%EC%A6%89%EC%8B%9C%ED%95%A0%EC%9D%B8%EC%BF%A0%ED%8F%B0]DC25%20M575%20%EC%BD%94%EB%8B%A5%20%EB%94%94%EC%A7%80%ED%84%B8%EC%B9%B4%EB%A9%94%EB%9D%BC%20(3%EC%9D%B8%EC%B9%98)%20M575%EC%95%A1%EC%A0%95%EB%B3%B4%ED%98%B8&img=http://shopping.phinf.naver.net/main_8270354/8270354321.jpg HTTP/1.1\" 200 134\n",
      "10.0.2.2 - - [21/Aug/2016 18:27:42] \"GET /classify?name=[4%%EC%A6%89%EC%8B%9C%ED%95%A0%EC%9D%B8%EC%BF%A0%ED%8F%B0]DC25%20DSC-W330%20%EC%86%8C%EB%8B%88%20%EB%94%94%EC%B9%B4(3%EC%9D%B8%EC%B9%98)%20W330%EC%95%A1%EC%A0%95%EB%B3%B4%ED%98%B8&img=http://shopping.phinf.naver.net/main_8270213/8270213216.jpg HTTP/1.1\" 200 134\n",
      "10.0.2.2 - - [21/Aug/2016 18:27:42] \"GET /classify?name=%EB%9D%BC%EC%9D%B4%EC%B9%B4%20X2%204H%ED%95%98%EB%93%9C%EC%BD%94%ED%8C%85%20%EA%B3%A0%ED%88%AC%EB%AA%85%20%EC%95%A1%EC%A0%95%EB%B3%B4%ED%98%B8%ED%95%84%EB%A6%84%20BLACK%20LABEL%20[W070176]&img=http://shopping.phinf.naver.net/main_8283548/8283548157.jpg HTTP/1.1\" 200 134\n",
      "10.0.2.2 - - [21/Aug/2016 18:27:42] \"GET /classify?name=[4%%EC%A6%89%EC%8B%9C%ED%95%A0%EC%9D%B8%EC%BF%A0%ED%8F%B0]VP-8870%20%EB%B3%B4%EC%86%8C%EB%8B%89%20Vosonic%20%ED%8F%AC%ED%86%A0%EC%8A%A4%ED%86%A0%EB%A6%AC%EC%A7%80%20%EC%A0%84%EC%9A%A9%204.3%EC%9D%B8%EC%B9%98%20V&img=http://shopping.phinf.naver.net/main_8262909/8262909772.jpg HTTP/1.1\" 200 134\n",
      "10.0.2.2 - - [21/Aug/2016 18:27:42] \"GET /classify?name=S6000%20%EC%BF%A8%ED%94%BD%EC%8A%A4%20%EB%8B%88%EC%BD%98%20NIKON%20(2.7%EC%9D%B8%EC%B9%98)%EB%94%94%EC%B9%B4%20S6&img=http://shopping.phinf.naver.net/main_8281593/8281593811.jpg HTTP/1.1\" 200 134\n",
      "10.0.2.2 - - [21/Aug/2016 18:27:42] \"GET /classify?name=NX10%20%EC%82%BC%EC%84%B1%EB%94%94%EC%A7%80%ED%84%B8%EC%9D%B4%EB%AF%B8%EC%A7%95%20%ED%95%98%EC%9D%B4%EB%B8%8C%EB%A6%AC%EB%93%9C%EC%B9%B4?&img=http://shopping.phinf.naver.net/main_8281598/8281598598.jpg HTTP/1.1\" 200 134\n",
      "10.0.2.2 - - [21/Aug/2016 18:27:42] \"GET /classify?name=[%EB%94%94%EC%B9%B4%EC%95%A1%EC%84%B8%EC%84%9C%EB%A6%AC]%20(%EC%86%8C%EB%8B%88%20RX100%20RX100%20MK2%20%EB%A1%9C%ED%84%B0%EC%8A%A4%20%EC%95%A1%EC%A0%95%EB%B3%B4&img=http://shopping.phinf.naver.net/main_8284123/8284123921.jpg HTTP/1.1\" 200 134\n",
      "10.0.2.2 - - [21/Aug/2016 18:27:42] \"GET /classify?name=[4%%EC%A6%89%EC%8B%9C%ED%95%A0%EC%9D%B8%EC%BF%A0%ED%8F%B0]GGS%20%EC%95%A1%EC%A0%95%EB%B3%B4%ED%98%B8%EC%BB%A4%EB%B2%84%20%EC%86%8C%EB%8B%88%20A6000%20%EC%A0%84%EC%9A%A9%20(%EC%B5%9C%EA%B3%A0%EA%B8%89/LARMOR)&img=http://shopping.phinf.naver.net/main_8261497/8261497126.jpg HTTP/1.1\" 200 134\n",
      "10.0.2.2 - - [21/Aug/2016 18:27:43] \"GET /classify?name=[5%%EC%A6%89%EC%8B%9C%ED%95%A0%EC%9D%B8%EC%BF%A0%ED%8F%B0]%EB%AF%B8%EB%85%B9%EC%8A%A4%20%EC%8C%8D%EC%95%88%EA%B2%BD%20HG%208.5x52%20BR%20%EB%8B%B9%EC%9D%BC%EB%B0%9C%EC%86%A1/%EB%B9%A0%EB%A5%B8%EB%B0%B0%EC%86%A1&img=http://shopping.phinf.naver.net/main_8266423/8266423279.jpg HTTP/1.1\" 200 107\n",
      "10.0.2.2 - - [21/Aug/2016 18:27:43] \"GET /classify?name=[5%%EC%A6%89%EC%8B%9C%ED%95%A0%EC%9D%B8%EC%BF%A0%ED%8F%B0]%EC%BD%94%EC%99%80%20%EC%8C%8D%EC%95%88%EA%B2%BD%20SV42%208%20%EB%8B%B9%EC%9D%BC%EB%B0%9C%EC%86%A1/%EB%B9%A0%EB%A5%B8%EB%B0%B0%EC%86%A1&img=http://shopping.phinf.naver.net/main_8266392/8266392758.jpg HTTP/1.1\" 200 130\n",
      "10.0.2.2 - - [21/Aug/2016 18:27:43] \"GET /classify?name=%EC%9C%84%EB%93%9C%EC%8A%A4%EC%9C%97%EB%AA%B0%20%EB%B8%8C%EB%9F%B0%ED%8A%BC%20%EC%8C%8D%EC%95%88%EA%B2%BD/%EC%9D%B4%ED%84%B0%EB%82%98%208x32&img=http://shopping.phinf.naver.net/main_8266370/8266370342.jpg HTTP/1.1\" 200 130\n",
      "10.0.2.2 - - [21/Aug/2016 18:27:43] \"GET /classify?name=%EC%9C%84%EB%93%9C%EC%8A%A4%EC%9C%97%EB%AA%B0%20%EB%B8%8C%EB%9F%B0%ED%8A%BC%20%EC%8C%8D%EC%95%88%EA%B2%BD/%EC%97%90%EC%BD%94%208x45%20%ED%8F%AC%EB%A1%9C&img=http://shopping.phinf.naver.net/main_8266347/8266347734.jpg HTTP/1.1\" 200 130\n",
      "10.0.2.2 - - [21/Aug/2016 18:27:43] \"GET /classify?name=%EC%9C%84%EB%93%9C%EC%8A%A4%EC%9C%97%EB%AA%B0%20%EC%BD%94%EC%99%80%20%EC%8C%8D%EC%95%88%EA%B2%BD%20SV42%2010&img=http://shopping.phinf.naver.net/main_8266339/8266339316.jpg HTTP/1.1\" 200 130\n"
     ]
    },
    {
     "name": "stdout",
     "output_type": "stream",
     "text": [
      "classify called\n",
      "classify called\n",
      "classify called\n",
      "classify called\n",
      "classify called\n",
      "classify called\n",
      "classify called\n",
      "classify called\n",
      "classify called\n",
      "classify called\n",
      "classify called\n",
      "classify called\n",
      "classify called\n",
      "classify called\n"
     ]
    },
    {
     "name": "stderr",
     "output_type": "stream",
     "text": [
      "10.0.2.2 - - [21/Aug/2016 18:27:43] \"GET /classify?name=[4%%EC%A6%89%EC%8B%9C%ED%95%A0%EC%9D%B8%EC%BF%A0%ED%8F%B0]DC25%20%EB%AE%A4%203000%20%EC%98%AC%EB%A6%BC%ED%91%B8%EC%8A%A4%ED%95%9C%EA%B5%AD%20%EB%94%94%EC%B9%B4%20(2.7%EC%9D%B8%EC%B9%98)%20%EB%AE%A43000%EC%95%A1&img=http://shopping.phinf.naver.net/main_8270353/8270353756.jpg HTTP/1.1\" 200 134\n",
      "10.0.2.2 - - [21/Aug/2016 18:27:43] \"GET /classify?name=[4%%EC%A6%89%EC%8B%9C%ED%95%A0%EC%9D%B8%EC%BF%A0%ED%8F%B0]DC25%20FE-5030%20%EC%98%AC%EB%A6%BC%ED%91%B8%EC%8A%A4%ED%95%9C%EA%B5%AD%20%EB%94%94%EC%B9%B4%20(2.7%EC%9D%B8%EC%B9%98)%20FE&img=http://shopping.phinf.naver.net/main_8270246/8270246583.jpg HTTP/1.1\" 200 134\n",
      "10.0.2.2 - - [21/Aug/2016 18:27:43] \"GET /classify?name=GGS%20%EC%95%A1%EC%A0%95%EB%B3%B4%ED%98%B8%EC%BB%A4%EB%B2%84%20%EC%86%8C%EB%8B%88%20A6000%20%EC%A0%84%EC%9A%A9%20(%EC%B5%9C%EA%B3%A0%EA%B8%89/LARMOR)&img=http://shopping.phinf.naver.net/main_8280379/8280379362.jpg HTTP/1.1\" 200 134\n",
      "10.0.2.2 - - [21/Aug/2016 18:27:43] \"GET /classify?name=GGS%20%EC%95%A1%EC%A0%95%EB%B3%B4%ED%98%B8%EC%BB%A4%EB%B2%84%20%EC%86%8C%EB%8B%88%20A5000%20%EC%A0%84%EC%9A%A9%20(%EC%B5%9C%EA%B3%A0%EA%B8%89/LARMOR)&img=http://shopping.phinf.naver.net/main_8280332/8280332607.jpg HTTP/1.1\" 200 134\n",
      "10.0.2.2 - - [21/Aug/2016 18:27:43] \"GET /classify?name=JENIS%20LCD%ED%9B%84%EB%93%9C%20%EC%BD%94%EB%8B%A5%20CX-7525%EC%A0%84%EC%9A%A9&img=http://shopping.phinf.naver.net/main_4009071/4009071924.20120211195340.jpg HTTP/1.1\" 200 134\n",
      "10.0.2.2 - - [21/Aug/2016 18:27:43] \"GET /classify?name=[4%%EC%A6%89%EC%8B%9C%ED%95%A0%EC%9D%B8%EC%BF%A0%ED%8F%B0]critaler7%20(%EB%AC%B4%EB%A3%8C%EB%B0%B0%EC%86%A1)JJC%20LCD%ED%9B%84%EB%93%9C%20LCH-NEX3/5(%EC%86%8C%EB%8B%88NEX-3/NEX-5/NEX-C3%EC%A0%84%EC%9A%A9)%20%EB%B9%A0%EB%A5%B8%EB%B0%B0%EC%86%A1,%EC%82%AC%EC%9D%80%ED%92%88%20%EC%A6%9D%EC%A0%95&img=http://shopping.phinf.naver.net/main_7014877/7014877237.jpg HTTP/1.1\" 200 134\n",
      "10.0.2.2 - - [21/Aug/2016 18:27:43] \"GET /classify?name=SH-L32WBP%20/SONY%20HDV%20%EC%BA%A0%EC%BD%94%EB%8D%94%20%ED%95%B8%EB%94%94%EC%BA%A0%20LCD%ED%9B%84%EB%93%9C%20HXR-NX5J%20HVR-S270J%20Z5J%20Z7J&img=http://shopping.phinf.naver.net/main_5932905/5932905962.jpg HTTP/1.1\" 200 134\n",
      "10.0.2.2 - - [21/Aug/2016 18:27:43] \"GET /classify?name=%EB%A7%88%EC%9A%B4%ED%8A%B8%EB%A0%88%EC%9D%B4%EC%85%98%20AF%20%EC%A0%91%EC%82%AC%EB%A7%81%20DG-1N%20%EB%8B%88%EC%BD%981%2010/16mm%EC%84%B8%ED%8A%B8%20(%EB%94%94%EC%A7%80%ED%84%B8%20%EB%A7%88%ED%81%AC%EB%A1%9C%20%EC%9D%B5%EC%8A%A4%ED%85%90%EC%85%98%20%ED%8A%9C%EB%B8%8C)&img=http://shopping.phinf.naver.net/main_8062638/8062638526.1.jpg HTTP/1.1\" 200 72\n",
      "10.0.2.2 - - [21/Aug/2016 18:27:43] \"GET /classify?name=HDR-PJ30/PJ50/PJ260/PJ580/PJ590/PJ600%20%EC%86%8C%EB%8B%88%20%ED%95%B8%EB%94%94%EC%BA%A0%EC%BD%94%EB%8D%94%20%EC%A0%84%EC%9A%A9%203%EC%9D%B8%EC%B9%98%20%EC%95%A1%EC%A0%95%EB%B3%B4%ED%98%B8%ED%95%84%EB%A6%84%20-%20%ED%95%9C%EC%9E%A5%EB%8D%94[%ED%95%9C%EC%9E%A5%EB%8D%94%20%EB%B0%8F%20%EB%AC%B4%EB%A3%8C%EB%B0%B0%EC%86%A1]&img=http://shopping.phinf.naver.net/main_6508600/6508600549.jpg HTTP/1.1\" 200 134\n",
      "10.0.2.2 - - [21/Aug/2016 18:27:43] \"GET /classify?name=5Dmark3(%EC%98%A4%EB%91%90%EB%A7%89)%20%EB%B3%B4%ED%98%B8%ED%95%84%EB%A6%84%20[W053067]&img=http://shopping.phinf.naver.net/main_7145659/7145659383.jpg HTTP/1.1\" 200 134\n",
      "10.0.2.2 - - [21/Aug/2016 18:27:43] \"GET /classify?name=/(%EA%B8%B0%ED%9A%8D%EC%83%81%ED%92%88)%20%EC%82%BC%EC%84%B1%EC%B9%B4%EB%A9%94%EB%9D%BC%20ES95%20%EC%A0%84%EC%9A%A9%20%EC%95%A1%EC%A0%95%ED%95%84%EB%A6%84%20ES95%20%EB%B3%B4%ED%98%B8%ED%95%84%EB%A6%84%20%EA%B5%AD%EC%82%B0%20//&img=http://shopping.phinf.naver.net/main_8263068/8263068540.jpg HTTP/1.1\" 200 134\n",
      "10.0.2.2 - - [21/Aug/2016 18:27:43] \"GET /classify?name=[4%%EC%A6%89%EC%8B%9C%ED%95%A0%EC%9D%B8%EC%BF%A0%ED%8F%B0]%EC%82%BC%EC%84%B1%20WB250F%20%EB%B3%B4%ED%98%B8%ED%95%84%EB%A6%84%20%EA%B3%A0%EA%B4%91%ED%83%9D%ED%95%84%EB%A6%84%20WB250F%20%EC%95%A1%EC%A0%95%ED%95%84%EB%A6%84&img=http://shopping.phinf.naver.net/main_7066604/7066604857.1.jpg HTTP/1.1\" 200 134\n",
      "10.0.2.2 - - [21/Aug/2016 18:27:43] \"GET /classify?name=[%ED%8F%B0%ED%8A%B8%EB%A6%AC]%ED%9E%90%EB%A7%81%EC%89%B4%EB%93%9C%20%EC%BA%90%EB%85%BC%20%EC%9D%B5%EC%84%9C%EC%8A%A4%20IXUS%20125HS%20AFP%20%EC%98%AC%EB%A0%88%ED%8F%AC%EB%B9%85%20%EC%95%A1%EC%A0%95%EB%B3%B4%ED%98%B8%ED%95%84%EB%A6%84%202%EB%A7%A4%20/%EC%84%A0%EB%AA%85%ED%95%9C%ED%99%94%EC%A7%88/%EC%A7%80%EB%AC%B8%EB%B0%A9%EC%A7%80%ED%9A%A8%EA%B3%BC/%ED%91%9C%EB%A9%B4&img=http://shopping.phinf.naver.net/main_7046417/7046417812.jpg HTTP/1.1\" 200 134\n",
      "10.0.2.2 - - [21/Aug/2016 18:27:43] \"GET /classify?name=[4%%EC%A6%89%EC%8B%9C%ED%95%A0%EC%9D%B8%EC%BF%A0%ED%8F%B0][%EC%8B%9C%EC%82%B0]%20%EB%8B%88%EC%BD%98%20D7000%20%EC%A0%84%EC%9A%A9%20UV%EC%BD%94%ED%8C%85%20%EB%94%B1%EB%94%B1%ED%95%9C%20%ED%95%98%EB%93%9C%EC%BB%A4%EB%B2%84%20%EC%8A%A4%ED%81%AC%EB%A0%88%EC%B9%98%20%EB%B0%A9%EC%A7%80%20%EC%B0%8D%ED%9E%98%20%EB%B0%A9%EC%A7%80%20%EC%83%81%ED%95%98%ED%8C%90%20%ED%8F%AC%ED%95%A8&img=http://shopping.phinf.naver.net/main_6666746/6666746119.jpg HTTP/1.1\" 200 134\n"
     ]
    },
    {
     "name": "stdout",
     "output_type": "stream",
     "text": [
      "classify called\n",
      "classify called\n",
      "classify called\n",
      "classify called\n",
      "classify called\n",
      "classify called\n",
      "classify called\n",
      "classify called\n",
      "classify called\n",
      "classify called\n",
      "classify called\n",
      "classify called\n",
      "classify called\n",
      "classify called\n"
     ]
    },
    {
     "name": "stderr",
     "output_type": "stream",
     "text": [
      "10.0.2.2 - - [21/Aug/2016 18:27:43] \"GET /classify?name=%EC%8A%A4%ED%82%A4%EB%8B%88%EC%8A%A4%ED%82%A8%20%EC%82%BC%EC%84%B1%20%EA%B0%A4%EB%9F%AD%EC%8B%9C%EC%B9%B4%EB%A9%94%EB%9D%BC%20NX2000%20%EC%8A%A4%ED%82%A8/%EC%8A%A4%ED%8B%B0%EC%BB%A4&img=http://shopping.phinf.naver.net/main_7995169/7995169651.jpg HTTP/1.1\" 200 134\n",
      "10.0.2.2 - - [21/Aug/2016 18:27:43] \"GET /classify?name=[%EB%B9%88%EC%8A%A4%EB%AA%B0]%ED%9E%90%EB%A7%81%EC%89%B4%EB%93%9C%20%ED%8C%8C%EC%9D%B8%EB%93%9C%EB%9D%BC%EC%9D%B4%EB%B8%8C%20IQ%203D%203000%20Black%20%EB%84%A4%EB%B9%84%EA%B2%8C%EC%9D%B4%EC%85%98%20AG%20Nanovid%20%EC%A0%80%EB%B0%98%EC%82%AC%20%EC%A7%80%EB%AC%B8%EB%B0%A9%EC%A7%80%20%EB%B3%B4%ED%98%B8%ED%95%84%EB%A6%84&img=http://shopping.phinf.naver.net/main_7368455/7368455967.jpg HTTP/1.1\" 200 72\n",
      "10.0.2.2 - - [21/Aug/2016 18:27:43] \"GET /classify?name=[4%%EC%A6%89%EC%8B%9C%ED%95%A0%EC%9D%B8%EC%BF%A0%ED%8F%B0]%ED%95%A8%EC%8A%A4%ED%8B%B0%EC%97%90%EC%9D%B4(%EC%82%BC%EC%84%B1%EC%B9%B4%EB%A9%94%EB%9D%BC)%20WB850F%20%EB%B3%B4%ED%98%B8%ED%95%84%EB%A6%84%20%ED%88%AC%EB%AA%85%EA%B0%95%ED%99%94%20%EC%95%A1&img=http://shopping.phinf.naver.net/main_7816609/7816609672.jpg HTTP/1.1\" 200 134\n",
      "10.0.2.2 - - [21/Aug/2016 18:27:43] \"GET /classify?name=[5%%EC%A6%89%EC%8B%9C%ED%95%A0%EC%9D%B8%EC%BF%A0%ED%8F%B0]%20LGTVG%20%20%EC%B4%88%EA%B3%A0%EC%86%8D%EC%9D%B8%ED%84%B0%EB%84%B7%20%EB%A7%8C%EC%A1%B1%EC%B5%9C%EA%B3%A0&img=http://shopping.phinf.naver.net/main_8280579/8280579747.jpg HTTP/1.1\" 200 68\n",
      "10.0.2.2 - - [21/Aug/2016 18:27:43] \"GET /classify?name=SKT%20%EA%B8%B0%EA%B8%B0%EB%B3%80%EA%B2%BD%20LG%20G%ED%94%8C%EB%A0%89%EC%8A%A42%20%20LG-F510S&img=http://shopping.phinf.naver.net/main_8277834/8277834557.jpg HTTP/1.1\" 200 66\n",
      "10.0.2.2 - - [21/Aug/2016 18:27:43] \"GET /classify?name=[5%%EC%A6%89%EC%8B%9C%ED%95%A0%EC%9D%B8%EC%BF%A0%ED%8F%B0]%20U+%EC%9D%B8%ED%84%B0%EB%84%B7%EA%B0%80%EC%9E%85%20%20%EC%9D%B8%ED%84%B0%EB%84%B7%EB%B3%80%EA%B2%BD%ED%98%84%EA%B8%88%20%EB%A7%8C%EC%A1%B1%EC%B5%9C%EA%B3%A0&img=http://shopping.phinf.naver.net/main_8281622/8281622699.jpg HTTP/1.1\" 200 68\n",
      "10.0.2.2 - - [21/Aug/2016 18:27:43] \"GET /classify?name=[5%%EC%A6%89%EC%8B%9C%ED%95%A0%EC%9D%B8%EC%BF%A0%ED%8F%B0]%20%EC%97%98%EC%A7%80%EC%9C%A0%ED%94%8C%EB%9F%AC%EC%8A%A4%EC%9D%B8%ED%84%B0%EB%84%B7%EA%B0%80%EC%9E%85%20%20%EB%A7%8C%EC%A1%B1%EC%B5%9C%EA%B3%A0&img=http://shopping.phinf.naver.net/main_8280562/8280562845.jpg HTTP/1.1\" 200 68\n",
      "10.0.2.2 - - [21/Aug/2016 18:27:43] \"GET /classify?name=[SKT%20%EA%B8%B0%EA%B8%B0%EB%B3%80%EA%B2%BD][LTE%EC%9A%94%EA%B8%88%EC%A0%9C][LG%20G%ED%94%8C%EB%A0%89%EC%8A%A42][LG-F510S][%EC%B5%9C%EA%B3%A0%EC%9D%98%ED%98%9C%ED%83%9D/%EB%B9%A0%EB%A5%B8%EC%A7%84%ED%96%89/%EB%AC%B4%EB%A3%8C%EB%B0%B0%EC%86%A1]&img=http://shopping.phinf.naver.net/main_8281695/8281695882.jpg HTTP/1.1\" 200 66\n",
      "10.0.2.2 - - [21/Aug/2016 18:27:43] \"GET /classify?name=[LG%EC%A0%84%EC%9E%90][SKT%20%EB%B2%88%ED%98%B8%EC%9D%B4%EB%8F%99][LTE%EC%9A%94%EA%B8%88%EC%A0%9C][LG%20G%ED%94%8C%EB%A0%89%EC%8A%A42][LG-F510S][%EC%98%A8%EB%9D%BC%EC%9D%B8MD%EC%B6%94%EC%B2%9C/%EC%B5%9C%EA%B3%A0%EC%9D%98%ED%98%9C%ED%83%9D/%EB%B9%A0%EB%A5%B8%EC%A7%84%ED%96%89]&img=http://shopping.phinf.naver.net/main_8277836/8277836710.1.jpg HTTP/1.1\" 200 66\n",
      "10.0.2.2 - - [21/Aug/2016 18:27:43] \"GET /classify?name=[LGU+%20%EB%B2%88%ED%98%B8%EC%9D%B4%EB%8F%99]%EA%B0%A4%EB%9F%AD%EC%8B%9C%20A5[SM-A500L]/%EB%AC%B4%ED%95%9C%EB%8C%8089.9/%EA%B0%80%EC%9E%85%EB%B9%84%EB%B6%84%EB%82%A9/%EC%9C%A0%EC%8B%AC%EB%B9%84%ED%9B%84%EB%82%A9/%EB%B6%80%EA%B0%80%20%EB%AC%B4/24%EA%B0%9C%EC%9B%94%EC%95%BD%EC%A0%95/%EC%9C%84%EC%95%BD%EA%B8%88%E6%9C%89/139000&img=http://shopping.phinf.naver.net/main_8277975/8277975883.jpg HTTP/1.1\" 200 68\n",
      "10.0.2.2 - - [21/Aug/2016 18:27:43] \"GET /classify?name=LG%EC%A0%84%EC%9E%90%20LG-F430L%208G%20(LG%20Gx2)[%EB%B2%88%ED%98%B8%EC%9D%B4%EB%8F%99]&img=http://shopping.phinf.naver.net/main_7932709/7932709868.20140909140223.jpg HTTP/1.1\" 200 68\n",
      "10.0.2.2 - - [21/Aug/2016 18:27:43] \"GET /classify?name=[LG%20U+%20%EB%B2%88%ED%98%B8%EC%9D%B4%EB%8F%99][LG%20%EC%95%84%EC%9D%B4%EC%8A%A4%ED%81%AC%EB%A6%BC%EC%8A%A4%EB%A7%88%ED%8A%B8%ED%8F%B0][LG-F440L][24%EA%B0%9C%EC%9B%94%EC%95%BD%EC%A0%95][1%EC%9B%90][LTE%EB%AC%B4%ED%95%9C%EB%8C%8089.9][%EA%B0%80%EC%9E%85%EB%B9%84%EB%B6%84%EB%82%A9][%EC%9C%A0%EC%8B%AC%EB%B9%84%ED%9B%84%EB%82%A9][%EB%B6%80%EA%B0%80%EC%97%86%EC%9D%8C][%ED%95%B4%EC%A7%80%EC%8B%9C%EA%B3%B5%EC%8B%9C%EC%A7%80%EC%9B%90%EC%9C%84%EC%95%BD%EA%B8%88%EB%B0%9C%EC%83%9D]&img=http://shopping.phinf.naver.net/main_8275223/8275223176.2.jpg HTTP/1.1\" 200 68\n",
      "10.0.2.2 - - [21/Aug/2016 18:27:43] \"GET /classify?name=[LG%20U+%20%EB%B2%88%ED%98%B8%EC%9D%B4%EB%8F%99][LG%20G2][LG-F320L][24%EA%B0%9C%EC%9B%94%EC%95%BD%EC%A0%95][41,000%EC%9B%90][LTE%EB%AC%B4%ED%95%9C%EB%8C%8089.9][%EA%B0%80%EC%9E%85%EB%B9%84%EB%B6%84%EB%82%A9][%EC%9C%A0%EC%8B%AC%EB%B9%84%ED%9B%84%EB%82%A9][%EB%B6%80%EA%B0%80%EC%97%86%EC%9D%8C][%ED%95%B4%EC%A7%80%EC%8B%9C%EA%B3%B5%EC%8B%9C%EC%A7%80%EC%9B%90%EC%9C%84%EC%95%BD%EA%B8%88%EB%B0%9C%EC%83%9D]&img=http://shopping.phinf.naver.net/main_8275223/8275223175.jpg HTTP/1.1\" 200 68\n",
      "10.0.2.2 - - [21/Aug/2016 18:27:43] \"GET /classify?name=LG%EC%A0%84%EC%9E%90%20LG-F370L%20(F70)[%EB%B2%88%ED%98%B8%EC%9D%B4%EB%8F%99]&img=http://shopping.phinf.naver.net/main_7702937/7702937321.20140523175304.jpg HTTP/1.1\" 200 68\n",
      "10.0.2.2 - - [21/Aug/2016 18:27:43] \"GET /classify?name=[%EC%9C%A0%EB%AA%A8%EB%B9%84%20%EB%B2%88%ED%98%B8%EC%9D%B4%EB%8F%99]%EC%98%B5%ED%8B%B0%EB%A8%B8%EC%8A%A4GX%EB%A1%9C%EB%B0%8D%20[LG-F310LR]/%EC%9A%94%EA%B8%88%EC%A0%9C%EC%84%A0%ED%83%9D%EA%B0%80%EB%8A%A5/%EA%B0%80%EC%9E%85%EB%B9%84%EB%B6%84%EB%82%A9/%EC%9C%A0%EC%8B%AC%EB%B9%84%ED%9B%84%EB%82%A9/%EB%B6%80%EA%B0%80%20%EB%AC%B4/24%EA%B0%9C%EC%9B%94%EC%95%BD%EC%A0%95/%EC%9C%84%EC%95%BD%EA%B8%88%E6%9C%89/%EC%9B%94%EC%8B%A4%EB%82%A9%EC%9E%85%EA%B8%8827300%EC%9B%90&img=http://shopping.phinf.naver.net/main_8216475/8216475335.jpg HTTP/1.1\" 200 68\n"
     ]
    },
    {
     "name": "stdout",
     "output_type": "stream",
     "text": [
      "classify called\n",
      "classify called\n",
      "classify called\n",
      "classify called\n",
      "classify called\n",
      "classify called\n",
      "classify called\n",
      "classify called\n",
      "classify called\n",
      "classify called\n",
      "classify called\n",
      "classify called\n",
      "classify called\n",
      "classify called\n",
      "classify called\n"
     ]
    },
    {
     "name": "stderr",
     "output_type": "stream",
     "text": [
      "10.0.2.2 - - [21/Aug/2016 18:27:43] \"GET /classify?name=%EC%95%8C%EB%9C%B0%ED%8F%B0%EB%8B%A8%EB%A7%90%EA%B8%B0/LG%EC%9C%A0%ED%94%8C%EB%9F%AC%EC%8A%A4%EC%A0%95%EC%8B%9D%EB%8C%80%EB%A6%AC%EC%A0%90/%ED%95%98%EC%9B%A8%EC%9D%B4X3&img=http://shopping.phinf.naver.net/main_8157224/8157224789.jpg HTTP/1.1\" 200 68\n",
      "10.0.2.2 - - [21/Aug/2016 18:27:43] \"GET /classify?name=[%ED%8C%90%EB%A7%A4%EA%B8%88%EC%95%A1:150550%EC%9B%90]%EC%97%98%EC%A7%80%EC%9C%A0%ED%94%8C%EB%9F%AC%EC%8A%A4%20[%ED%95%A0%EB%B6%80%EC%9B%90%EA%B8%88150,550%EC%9B%90(%EB%AC%B4%ED%95%9C%EB%8C%8089.9%EC%9A%94%EA%B8%88%EC%A0%9C%EA%B8%B0%EC%A4%80/%EC%A0%9C%EB%A1%9C%ED%81%B4%EB%9F%BD%20%EC%A0%81%EC%9A%A9%EC%8B%9C%20%ED%8C%90%EB%A7%A4%EA%B0%80)][%EC%8B%A0%EA%B7%9C%EA%B0%80%EC%9E%85][%EC%95%84%EC%9D%B4%ED%8F%B06%2016G][iPhone6]&img=http://shopping.phinf.naver.net/main_8035195/8035195236.1.jpg HTTP/1.1\" 200 68\n",
      "10.0.2.2 - - [21/Aug/2016 18:27:43] \"GET /classify?name=%EC%9A%94%EA%B8%88%EC%A0%9C%EC%9E%90%EC%9C%A0%EC%8A%A4%EB%A7%88%ED%8A%B8%ED%8F%B0/LG%ED%9A%A8%EB%8F%84%ED%8F%B0/%EC%B4%88%EB%93%B1%ED%95%B8%EB%93%9C%ED%8F%B0&img=http://shopping.phinf.naver.net/main_8152763/8152763776.jpg HTTP/1.1\" 200 87\n",
      "10.0.2.2 - - [21/Aug/2016 18:27:43] \"GET /classify?name=%EC%95%8C%EB%9C%B0%ED%8F%B0%EB%B2%88%ED%98%B8%EC%9D%B4%EB%8F%99/LG%EC%9C%A0%ED%94%8C%EB%9F%AC%EC%8A%A4%EC%A0%95%EC%8B%9D%EB%8C%80%EB%A6%AC%EC%A0%90/%ED%99%94%EC%9B%A8%EC%9D%B4X3&img=http://shopping.phinf.naver.net/main_8157223/8157223430.jpg HTTP/1.1\" 200 68\n",
      "10.0.2.2 - - [21/Aug/2016 18:27:43] \"GET /classify?name=%ED%9A%A8%EB%8F%84%ED%8F%B0/%EC%96%B4%EB%A6%B0%EC%9D%B4%ED%95%B8%EB%93%9C%ED%8F%B0%EC%B6%94%EC%B2%9C/%EC%9D%B4%EB%A7%88%ED%8A%B8%EC%95%8C%EB%9C%B0%ED%8F%B0%EB%8B%A8%EB%A7%90%EA%B8%B0&img=http://shopping.phinf.naver.net/main_8152143/8152143419.jpg HTTP/1.1\" 200 67\n",
      "10.0.2.2 - - [21/Aug/2016 18:27:43] \"GET /classify?name=%EC%B4%88%EB%93%B1%ED%95%99%EC%83%9D%ED%95%B8%EB%93%9C%ED%8F%B0%EC%B6%94%EC%B2%9C/LG%EC%9C%A0%ED%94%8C%EB%9F%AC%EC%8A%A4%EC%A0%95%EC%8B%9D%EB%8C%80%EB%A6%AC%EC%A0%90/%ED%99%94%EC%9B%A8%EC%9D%B4X3&img=http://shopping.phinf.naver.net/main_8157229/8157229991.jpg HTTP/1.1\" 200 68\n",
      "10.0.2.2 - - [21/Aug/2016 18:27:43] \"GET /classify?name=%EC%95%8C%EB%9C%B0%ED%8F%B0%ED%8C%90%EB%A7%A4%EC%A0%90/LG%EC%9C%A0%ED%94%8C%EB%9F%AC%EC%8A%A4%EC%A0%95%EC%8B%9D%EB%8C%80%EB%A6%AC%EC%A0%90/%ED%99%94%EC%9B%A8%EC%9D%B4X3&img=http://shopping.phinf.naver.net/main_8157220/8157220921.jpg HTTP/1.1\" 200 68\n",
      "10.0.2.2 - - [21/Aug/2016 18:27:43] \"GET /classify?name=%EC%82%BC%EC%84%B1%EC%A0%84%EC%9E%90%20%EA%B0%A4%EB%9F%AD%EC%8B%9C%20SHV-E310L%2016G%20(GALAXY%20MEGA)[%EB%B2%88%ED%98%B8%EC%9D%B4%EB%8F%99]&img=http://shopping.phinf.naver.net/main_7053988/7053988751.20130807172422.jpg HTTP/1.1\" 200 66\n",
      "10.0.2.2 - - [21/Aug/2016 18:27:43] \"GET /classify?name=%EC%95%8C%EB%93%A4%ED%8F%B0/%ED%97%A8%EB%93%9C%ED%8F%B0%EC%8B%B8%EA%B2%8C%EC%82%AC%EB%8A%94%EB%B2%95/%EC%95%8C%EB%9C%B0%ED%8F%B0%ED%8F%B0&img=http://shopping.phinf.naver.net/main_8152769/8152769175.jpg HTTP/1.1\" 200 87\n",
      "10.0.2.2 - - [21/Aug/2016 18:27:43] \"GET /classify?name=%EC%A0%80%EA%B0%80%ED%8F%B0/%EA%B0%80%EA%B2%A9%EC%A0%80%EB%A0%B4%ED%95%9C%EC%8A%A4%EB%A7%88%ED%8A%B8%ED%8F%B0/%EC%B4%88%EB%93%B1%ED%95%99%EC%83%9D%ED%9C%B4%EB%8C%80%ED%8F%B0%EC%B6%94%EC%B2%9C&img=http://shopping.phinf.naver.net/main_8152737/8152737086.jpg HTTP/1.1\" 200 87\n",
      "10.0.2.2 - - [21/Aug/2016 18:27:43] \"GET /classify?name=%EC%95%8C%EB%9C%B0%ED%8F%B0%EC%A3%BC%EB%A7%90%EA%B0%9C%ED%86%B5/%EB%B6%80%EB%AA%A8%EB%8B%98%ED%95%B8%EB%93%9C%ED%8F%B0%EC%B6%94%EC%B2%9C/%EC%8A%A4%EB%A7%88%ED%8A%B8%ED%8F%B0%EB%AC%B4%EC%A0%9C%ED%95%9C%EC%9A%94%EA%B8%88&img=http://shopping.phinf.naver.net/main_8152474/8152474929.jpg HTTP/1.1\" 200 87\n",
      "10.0.2.2 - - [21/Aug/2016 18:27:43] \"GET /classify?name=%EC%8A%A4%EB%A7%88%ED%8A%B8%ED%8F%B0%EC%96%B4%EB%A6%B0%EC%9D%B4%EC%9A%94%EA%B8%88%EC%A0%9C/%EC%95%8C%EB%9C%B0%ED%8F%B0%ED%86%B5%EC%8B%A0%EC%82%AC%EC%B6%94%EC%B2%9C/%ED%94%BC%EC%B3%90%ED%8F%B0%EC%9A%94%EA%B8%88%EC%A0%9C&img=http://shopping.phinf.naver.net/main_8152414/8152414709.jpg HTTP/1.1\" 200 87\n",
      "10.0.2.2 - - [21/Aug/2016 18:27:43] \"GET /classify?name=%EC%B4%88%EB%93%B1%ED%95%99%EC%83%9D%EC%9D%B4%EC%93%B8%EB%A7%8C%ED%95%9C%EC%8A%A4%EB%A7%88%ED%8A%B8%ED%8F%B0/%EB%85%B8%EC%9D%B8%EC%9A%94%EA%B8%88%EC%A0%9C&img=http://shopping.phinf.naver.net/main_8152197/8152197647.jpg HTTP/1.1\" 200 87\n",
      "10.0.2.2 - - [21/Aug/2016 18:27:43] \"GET /classify?name=%EC%95%8C%EB%9C%B0%ED%8F%B0%EC%B9%B4%ED%8E%98/%EC%8A%A4%EB%A7%88%ED%8A%B8%ED%8F%B0%EC%A0%80%EB%A0%B4%ED%95%9C%EC%9A%94%EA%B8%88%EC%A0%9C/10%EB%8C%80%EC%8A%A4%EB%A7%88%ED%8A%B8%ED%8F%B0%EC%B6%94%EC%B2%9C&img=http://shopping.phinf.naver.net/main_8152622/8152622368.jpg HTTP/1.1\" 200 87\n",
      "10.0.2.2 - - [21/Aug/2016 18:27:43] \"GET /classify?name=LGLTE%EC%B2%AD%EC%86%8C%EB%85%84%EC%9A%94%EA%B8%88%EC%A0%9C/%EC%8A%A4%EB%A7%88%ED%8A%B8%ED%8F%B0%EC%BF%BC%ED%8B%B0/%EC%A4%91%EB%94%A9%EC%8A%A4%EB%A7%88%ED%8A%B8%ED%8F%B0&img=http://shopping.phinf.naver.net/main_8152172/8152172042.jpg HTTP/1.1\" 200 87\n",
      "10.0.2.2 - - [21/Aug/2016 18:27:43] \"GET /classify?name=3g%EC%8A%A4%EB%A7%88%ED%8A%B8%ED%8F%B0/LG%EC%9C%A0%ED%94%8C%EB%9F%AC%EC%8A%A4%EC%A0%95%EC%8B%9D%EB%8C%80%EB%A6%AC%EC%A0%90/%ED%99%94%EC%9B%A8%EC%9D%B4X3&img=http://shopping.phinf.naver.net/main_8157170/8157170454.jpg HTTP/1.1\" 200 68\n"
     ]
    },
    {
     "name": "stdout",
     "output_type": "stream",
     "text": [
      "classify called\n",
      "classify called\n",
      "classify called\n",
      "classify called\n",
      "classify called\n",
      "classify called\n",
      "classify called\n",
      "classify called\n",
      "classify called\n",
      "classify called\n",
      "classify called\n",
      "classify called\n",
      "classify called\n",
      "classify called\n",
      "classify called\n",
      "classify called\n"
     ]
    },
    {
     "name": "stderr",
     "output_type": "stream",
     "text": [
      "10.0.2.2 - - [21/Aug/2016 18:27:43] \"GET /classify?name=%EC%A4%91%ED%95%99%EC%83%9D%EC%8A%A4%EB%A7%88%ED%8A%B8%ED%8F%B0%EC%9A%94%EA%B8%88%EC%A0%9C/LG%EC%9C%A0%ED%94%8C%EB%9F%AC%EC%8A%A4%EC%95%8C%EB%9C%B0%ED%8F%B0/%EC%8B%A0%EA%B7%9C%ED%9C%B4%EB%8C%80%ED%8F%B0&img=http://shopping.phinf.naver.net/main_8152175/8152175624.jpg HTTP/1.1\" 200 68\n",
      "10.0.2.2 - - [21/Aug/2016 18:27:43] \"GET /classify?name=%EC%95%8C%EB%9C%B0%ED%8F%B0%ED%8C%8C%EB%8A%94%EA%B3%B3/LG%EC%9C%A0%ED%94%8C%EB%9F%AC%EC%8A%A4%EC%A0%95%EC%8B%9D%EB%8C%80%EB%A6%AC%EC%A0%90/%ED%99%94%EC%9B%A8%EC%9D%B4X3&img=http://shopping.phinf.naver.net/main_8157228/8157228738.jpg HTTP/1.1\" 200 68\n",
      "10.0.2.2 - - [21/Aug/2016 18:27:43] \"GET /classify?name=%ED%9C%B4%EB%8C%80%ED%8F%B0%EC%9A%94%EA%B8%88%EB%82%A9%EB%B6%80/%EC%B6%94%EC%B2%9C%ED%95%B8%EB%93%9C%ED%8F%B0/%EC%B6%94%EC%B2%9C%EC%8A%A4%EB%A7%88%ED%8A%B8%ED%8F%B0&img=http://shopping.phinf.naver.net/main_8157172/8157172066.jpg HTTP/1.1\" 200 68\n",
      "10.0.2.2 - - [21/Aug/2016 18:27:43] \"GET /classify?name=%EC%95%8C%EB%9C%B0%ED%8F%B0%EB%B0%94%EB%A1%9C%EA%B0%9C%ED%86%B5/%EC%95%8C%EB%9C%B0%ED%8F%B0%EB%A7%A4%EC%9E%A5/%EC%A0%80%EA%B0%80%EC%8A%A4%EB%A7%88%ED%8A%B8%ED%8F%B0&img=http://shopping.phinf.naver.net/main_8157169/8157169235.jpg HTTP/1.1\" 200 87\n",
      "10.0.2.2 - - [21/Aug/2016 18:27:43] \"GET /classify?name=%ED%9A%A8%EB%8F%84%ED%8F%B0%EC%8A%A4%EB%A7%88%ED%8A%B8%ED%8F%B0/%EA%B8%80%EC%94%A8%ED%81%B0%ED%95%B8%EB%93%9C%ED%8F%B0/%EB%AC%B4%EB%A3%8C%EC%8A%A4%EB%A7%88%ED%8A%B8%ED%8F%B0%EC%82%AC%EC%9D%B4%ED%8A%B8&img=http://shopping.phinf.naver.net/main_8157124/8157124154.jpg HTTP/1.1\" 200 87\n",
      "10.0.2.2 - - [21/Aug/2016 18:27:43] \"GET /classify?name=%EC%B4%88%EB%94%A9%ED%95%B8%EB%93%9C%ED%8F%B0/%EC%8A%A4%EB%A7%88%ED%8A%B8%ED%8F%B0%EA%B0%80%EA%B2%A9%EB%B9%84%EA%B5%90%EC%82%AC%EC%9D%B4%ED%8A%B8/%EC%95%8C%EB%9C%B0%ED%86%B5%EC%8B%A0%EC%82%AC&img=http://shopping.phinf.naver.net/main_8152803/8152803215.jpg HTTP/1.1\" 200 87\n",
      "10.0.2.2 - - [21/Aug/2016 18:27:43] \"GET /classify?name=%EB%B6%80%EB%AA%A8%EB%8B%98%ED%8F%B0/%EC%96%B4%EB%A6%B0%EC%9D%B4%ED%8F%B0/%EC%9C%A0%ED%94%8C%EB%9F%AC%EC%8A%A4%ED%95%B8%EB%93%9C%ED%8F%B0&img=http://shopping.phinf.naver.net/main_8152741/8152741071.jpg HTTP/1.1\" 200 87\n",
      "10.0.2.2 - - [21/Aug/2016 18:27:43] \"GET /classify?name=[U+%EA%B8%B0%EB%B3%80]%EC%95%84%EC%9D%B4%ED%8F%B06%ED%94%8C%EB%9F%AC%EC%8A%A4%2064G/AIP6P-64L/%ED%95%A0%EB%B6%80%EC%9B%90%EA%B8%88791,000/%EB%AC%B4%ED%95%9C%EC%9E%90%EC%9C%A0124/%EB%B6%80%EA%B0%80%EC%84%9C%EB%B9%84%EC%8A%A4%20%EC%97%86%EC%9D%8C/%EA%B0%80%EC%9E%85%EB%B9%84%EB%A9%B4%EC%A0%9C/%EC%9C%A0%EC%8B%AC%EB%B9%84%EB%A9%B4%EC%A0%9C/%EC%95%BD%EC%A0%9524/%EA%B3%B5%EC%8B%9C%EC%A7%80%EC%9B%90%EA%B8%88%EB%B0%98%ED%99%98%EA%B8%88%EC%A0%81%EC%9A%A9&img=http://shopping.phinf.naver.net/main_8288326/8288326832.jpg HTTP/1.1\" 200 65\n",
      "10.0.2.2 - - [21/Aug/2016 18:27:43] \"GET /classify?name=[U+%20%EC%95%84%EC%9D%B4%EC%8A%A4%ED%81%AC%EB%A6%BC%20%EC%8A%A4%EB%A7%88%ED%8A%B8%20(LG-F440L)%20%EC%8B%A0%EA%B7%9C%EA%B0%80%EC%9E%85]%20%ED%95%A0%EB%B6%80%EC%9B%90%EA%B8%88%208,500%20/%20%EC%99%84%EC%A0%84%EB%AC%B4%ED%95%9C89%20/%20%EC%95%BD%EC%A0%9524%EA%B0%9C%EC%9B%94%20/%20%EA%B0%80%EC%9E%85%EB%B9%84%ED%9B%84%EB%82%A9%20/%20%EC%9C%A0%EC%8B%AC%EB%B9%84%ED%9B%84%EB%82%A9%20/%20%EC%95%BD%EC%A0%95%EC%9C%84%EC%95%BD%EA%B8%88%20%EC%97%86%EC%9D%8C%20/%20%EB%B6%80%EA%B0%80%EC%84%9C%EB%B9%84%EC%8A%A4%20%EC%97%86%EC%9D%8C&img=http://shopping.phinf.naver.net/main_8265854/8265854454.jpg HTTP/1.1\" 200 68\n",
      "10.0.2.2 - - [21/Aug/2016 18:27:43] \"GET /classify?name=[LG%20U+%20%EB%B2%88%ED%98%B8%EC%9D%B4%EB%8F%99]%20%EA%B0%A4%EB%9F%AD%EC%8B%9C%20A5(SM-A500L)/%ED%95%A0%EB%B6%80%EC%9B%90%EA%B8%88%20173500%EC%9B%90/LTE8%EB%AC%B4%ED%95%9C%EB%8C%8089.9/%EC%95%BD%EC%A0%9524%EA%B0%9C%EC%9B%94/%EA%B0%80%EC%9E%85%EB%B9%84%ED%9B%84%EB%82%A9/%EC%9C%A0%EC%8B%AC%EB%B9%84%ED%9B%84%EB%82%A9/%EC%9C%84%EC%95%BD%EA%B8%88%20%EC%9C%A0/%EB%B6%80%EA%B0%80%EC%84%9C%EB%B9%84%EC%8A%A4%20%EB%AC%B4&img=http://shopping.phinf.naver.net/main_8324366/8324366895.jpg HTTP/1.1\" 200 68\n",
      "10.0.2.2 - - [21/Aug/2016 18:27:43] \"GET /classify?name=[LGU+%20%EA%B8%B0%EA%B8%B0%EB%B3%80%EA%B2%BD]SM-G710L%20%EC%9D%8C%EC%84%B1%EB%AC%B4%ED%95%9C%EC%9E%90%EC%9C%A069%E2%98%85%ED%95%A0%EC%9B%90107200%E2%96%A0%EC%84%A0%EB%B0%9C%EC%86%A1%ED%9B%84%EA%B0%9C%ED%86%B5%E2%96%A0%EB%8B%B9%EC%9D%BC%EB%B0%9C%EC%86%A1%E2%98%85%EC%BC%80%EC%9D%B4%EC%8A%A4,%ED%95%84%EB%A6%84%20%EC%82%AC%EC%9D%80%ED%92%88%E2%96%A0%EA%B0%80%EC%9E%85%EB%B9%84%EB%AC%B4%E2%96%A0%EC%9C%A0%EC%8B%AC%EC%9C%A0%E2%96%A0%EA%B8%B0%EC%A1%B4%ED%8F%B0%EB%AF%B8%EB%B0%98%EB%82%A9%E2%98%85%EB%B6%80%EA%B0%80%EB%AC%B4%E2%96%A024%EA%B0%9C%EC%9B%94%ED%95%A0%EB%B6%80%20%ED%95%A0%EC%9D%B8%EB%B0%98%ED%99%98%EA%B8%88%EB%AC%B4&img=http://shopping.phinf.naver.net/main_8003991/8003991971.jpg HTTP/1.1\" 200 68\n",
      "10.0.2.2 - - [21/Aug/2016 18:27:43] \"GET /classify?name=[LG%EC%9C%A0%ED%94%8C%EB%9F%AC%EC%8A%A4%20%EA%B8%B0%EA%B8%B0%EB%B3%80%EA%B2%BD]%EA%B0%A4%EB%9F%AD%EC%8B%9CS4%20LTE-A(SHV-E330L_16G)%E2%98%86LTE%EC%9D%8C%EC%84%B1%EB%AC%B4%ED%95%9C%EC%9E%90%EC%9C%A0124%E2%98%86%ED%95%A0%EB%B6%80%EC%9B%90%EA%B8%88%20188900%EC%9B%90%E2%98%86%EA%B0%80%EC%9E%85%EB%B9%84%EB%A9%B4%EC%A0%9C%E2%98%86%EC%9C%A0%EC%8B%AC%EB%B9%84%ED%9B%84%EC%B2%AD%EA%B5%AC%E2%98%86%EC%9C%84%EC%95%BD%EA%B8%88(%EB%82%A8%EC%9D%80%20%ED%95%A0%EB%B6%80%EC%9B%90%EA%B8%88,%EB%B0%9B%EC%9D%80%20%EC%A7%80%EC%9B%90%EA%B8%88,%EC%95%BD%EC%A0%95&img=http://shopping.phinf.naver.net/main_8121397/8121397316.jpg HTTP/1.1\" 200 68\n",
      "10.0.2.2 - - [21/Aug/2016 18:27:43] \"GET /classify?name=[LG%20U+%20%EB%B2%88%ED%98%B8%EC%9D%B4%EB%8F%99]%20%EA%B0%A4%EB%9F%AD%EC%8B%9C%20A7(SM-A700L)/%ED%95%A0%EB%B6%80%EC%9B%90%EA%B8%88%20272500%EC%9B%90/LTE8%EB%AC%B4%ED%95%9C%EB%8C%8089.9/%EC%95%BD%EC%A0%9524%EA%B0%9C%EC%9B%94/%EA%B0%80%EC%9E%85%EB%B9%84%ED%9B%84%EB%82%A9/%EC%9C%A0%EC%8B%AC%EB%B9%84%ED%9B%84%EB%82%A9/%EC%9C%84%EC%95%BD%EA%B8%88%20%EC%9C%A0/%EB%B6%80%EA%B0%80%EC%84%9C%EB%B9%84%EC%8A%A4%20%EB%AC%B4&img=http://shopping.phinf.naver.net/main_8324366/8324366896.jpg HTTP/1.1\" 200 68\n",
      "10.0.2.2 - - [21/Aug/2016 18:27:43] \"GET /classify?name=LGT%20%EC%95%84%EC%9D%B4%ED%8F%B06%ED%94%8C%EB%9F%AC%EC%8A%A4%20128GB%20[AIP6Plus-128G]%20%EB%B2%88%ED%98%B8%EC%9D%B4%EB%8F%99%20[LTE124%20%EC%9A%94%EA%B8%88%EC%A0%9C/%ED%95%A0%EB%B6%80%EC%9B%90%EA%B8%88:%20981,000%EC%9B%90/24%EA%B0%9C%EC%9B%94%EC%95%BD%EC%A0%95/%EA%B0%80%EC%9E%85%EB%B9%84%EB%B6%84%EB%82%A9/%EC%9C%A0%EC%8B%AC%EB%B9%84%ED%9B%84%EB%82%A9/%EB%B6%80%EA%B0%80%EC%84%9C%EB%B9%84%EC%8A%A4%E7%84%A1/%EC%B5%9C%EB%8C%80%20%EC%B6%94%EA%B0%80%ED%95%A0%EC%9D%B8/&img=http://shopping.phinf.naver.net/main_8083137/8083137568.jpg HTTP/1.1\" 200 68\n"
     ]
    },
    {
     "name": "stdout",
     "output_type": "stream",
     "text": [
      "classify called\n",
      "classify called\n",
      "classify called\n",
      "classify called\n",
      "classify called\n",
      "classify called\n",
      "classify called\n",
      "classify called\n",
      "classify called\n",
      "classify called\n",
      "classify called\n",
      "classify called\n",
      "classify called\n",
      "classify called\n"
     ]
    },
    {
     "name": "stderr",
     "output_type": "stream",
     "text": [
      "10.0.2.2 - - [21/Aug/2016 18:27:43] \"GET /classify?name=[LGU-%EB%B2%88%EC%9D%B4]iPhone%206%20Plus%2064G%E2%99%A5%EC%82%AC%EC%9D%80%ED%92%88(%EC%83%A4%EC%98%A4%EB%AF%B8%EB%B3%B4%EC%A1%B0%EB%B0%B0%ED%84%B0%EB%A6%AC%20%EC%99%B85%EC%A2%85)%E2%99%A5806,450%EC%9B%90%E2%99%A524%EA%B0%9C%EC%9B%94/124%EC%9A%94%EA%B8%88%EC%A0%9C/%EA%B0%80%EC%9E%85%EB%B9%84O%EC%9C%A0%EC%8B%ACO%EB%B6%80%EA%B0%80X%EC%9C%84%EC%95%BD%EB%B0%98%ED%99%98%EA%B8%88O&img=http://shopping.phinf.naver.net/main_8127412/8127412133.jpg HTTP/1.1\" 200 68\n",
      "10.0.2.2 - - [21/Aug/2016 18:27:43] \"GET /classify?name=[%EC%98%B5%ED%8B%B0%EB%A8%B8%EC%8A%A4G3]LG-F400L/LG%EC%9C%A0%ED%94%8C%EB%9F%AC%EC%8A%A4/%EB%B2%88%ED%98%B8%EC%9D%B4%EB%8F%99/%EA%B8%B0%EA%B8%B0%EB%B3%80%EA%B2%BD/lg%EC%9E%90%EC%9C%A0%EC%9A%94%EA%B8%88%EC%A0%9C/%EC%B5%9C%EC%8B%A0%EC%8A%A4%EB%A7%88%ED%8A%B8%ED%8F%B0/%ED%9C%B4%EB%8C%80%ED%8F%B0%EA%B0%80%EA%B2%A9%EB%B9%84%EA%B5%90%EC%82%AC%EC%9D%B4%ED%8A%B8/%ED%95%B8%EB%93%9C%ED%8F%B0%EB%8B%B7%EC%BB%B4&img=http://shopping.phinf.naver.net/main_8037584/8037584667.jpg HTTP/1.1\" 200 68\n",
      "10.0.2.2 - - [21/Aug/2016 18:27:43] \"GET /classify?name=[LG%20U+%20%EB%B3%B4%EC%83%81%EA%B8%B0%EB%B3%80][LG%20%EC%98%B5%ED%8B%B0%EB%A8%B8%EC%8A%A4%20G3][LG-F400L][24%EA%B0%9C%EC%9B%94%20%EC%95%BD%EC%A0%95][685,900%EC%9B%90][%EB%AC%B4%ED%95%9C%EB%8C%80%2089.9%20%EA%B8%B0%EC%A4%80][%EA%B0%80%EC%9E%85%EB%B9%84%20%EB%AC%B4/%EC%9C%A0%EC%8B%AC%EB%B9%84%20%EC%9C%A0][%EC%9C%84%EC%95%BD%EA%B8%88/%ED%95%A0%EC%9D%B8%EB%B0%98%ED%99%98%EA%B8%88%20%EC%A0%81%EC%9A%A9][%EB%B6%80%EA%B0%80%EB%AC%B4]&img=http://shopping.phinf.naver.net/main_7775574/7775574798.1.jpg HTTP/1.1\" 200 68\n",
      "10.0.2.2 - - [21/Aug/2016 18:27:43] \"GET /classify?name=[LGU+%20%EA%B8%B0%EA%B8%B0%EB%B3%80%EA%B2%BD]iPhone%206%2016G%20Ultimate%EB%AC%B4%ED%95%9C%EC%9E%90%EC%9C%A0124%E2%98%85%ED%95%A0%EC%9B%90513800%E2%96%A0%EC%84%A0%EB%B0%9C%EC%86%A1%ED%9B%84%EA%B0%9C%ED%86%B5%E2%96%A0%EB%8B%B9%EC%9D%BC%EB%B0%9C%EC%86%A1%E2%98%85%EC%BC%80%EC%9D%B4%EC%8A%A4,%ED%95%84%EB%A6%84%20%EC%82%AC%EC%9D%80%ED%92%88%E2%96%A0%EA%B0%80%EC%9E%85%EB%B9%84%EB%AC%B4%E2%96%A0%EC%9C%A0%EC%8B%AC%EC%9C%A0%E2%96%A0%EA%B8%B0%EC%A1%B4%ED%8F%B0%EB%AF%B8%EB%B0%98%EB%82%A9%E2%98%85%EB%B6%80%EA%B0%80%EB%AC%B4%E2%96%A024%EA%B0%9C%EC%9B%94%ED%95%A0%EB%B6%80%20%ED%95%A0&img=http://shopping.phinf.naver.net/main_8031074/8031074705.jpg HTTP/1.1\" 200 68\n",
      "10.0.2.2 - - [21/Aug/2016 18:27:43] \"GET /classify?name=LG%20U+%20%EC%95%84%EC%9D%B4%ED%8F%B06%2016GB%20[AIP6-16G]%20%EA%B8%B0%EA%B8%B0%EB%B3%80%EA%B2%BD%20[LTE89.9%20%EC%9A%94%EA%B8%88%EC%A0%9C/%ED%95%A0%EB%B6%80%EC%9B%90%EA%B8%88:%20513,800%EC%9B%90/24%EA%B0%9C%EC%9B%94%EC%95%BD%EC%A0%95/%EA%B0%80%EC%9E%85%EB%B9%84%EC%97%86%EC%9D%8C/%EC%9C%A0%EC%8B%AC%EB%B9%84%ED%9B%84%EB%82%A9/%EB%B6%80%EA%B0%80%EC%84%9C%EB%B9%84%EC%8A%A4%E7%84%A1/%EC%B5%9C%EB%8C%80%20%EC%B6%94%EA%B0%80%ED%95%A0%EC%9D%B8/%EC%9C%84%EC%95%BD%EA%B8%88%E6%9C%89]%20&img=http://shopping.phinf.naver.net/main_8028662/8028662977.jpg HTTP/1.1\" 200 68\n",
      "10.0.2.2 - - [21/Aug/2016 18:27:43] \"GET /classify?name=[U+%20%EC%95%84%EC%9D%B4%ED%8F%B06%2016G%20(iPhone6%2016G)%20%EA%B8%B0%EA%B8%B0%EB%B3%80%EA%B2%BD]%20%ED%95%A0%EB%B6%80%EC%9B%90%EA%B8%88%20513,800%20/%20%EC%99%84%EC%A0%84%EB%AC%B4%ED%95%9C124%20/%20%EC%95%BD%EC%A0%9524%EA%B0%9C%EC%9B%94%20/%20%EA%B0%80%EC%9E%85%EB%B9%84%ED%9B%84%EB%82%A9%20/%20%EC%9C%A0%EC%8B%AC%EB%B9%84%ED%9B%84%EB%82%A9%20/%20%EC%95%BD%EC%A0%95%EC%9C%84%EC%95%BD%EA%B8%88%20%EC%97%86%EC%9D%8C%20/%20%EB%B6%80%EA%B0%80%EC%84%9C%EB%B9%84%EC%8A%A4%20&img=http://shopping.phinf.naver.net/main_8080813/8080813288.jpg HTTP/1.1\" 200 68\n",
      "10.0.2.2 - - [21/Aug/2016 18:27:43] \"GET /classify?name=[LGU+%20%EA%B8%B0%EA%B8%B0%EB%B3%80%EA%B2%BD]SM-N915L%20%EB%A7%9D%EB%82%B434%E2%98%85%ED%95%A0%EC%9B%90894500%E2%96%A0%EC%84%A0%EB%B0%9C%EC%86%A1%ED%9B%84%EA%B0%9C%ED%86%B5%E2%96%A0%EB%8B%B9%EC%9D%BC%EB%B0%9C%EC%86%A1%E2%98%85%EC%BC%80%EC%9D%B4%EC%8A%A4,%ED%95%84%EB%A6%84%20%EC%82%AC%EC%9D%80%ED%92%88%E2%96%A0%EA%B0%80%EC%9E%85%EB%B9%84%EB%AC%B4%E2%96%A0%EC%9C%A0%EC%8B%AC%EC%9C%A0%E2%96%A0%EA%B8%B0%EC%A1%B4%ED%8F%B0%EB%AF%B8%EB%B0%98%EB%82%A9%E2%98%85%EB%B6%80%EA%B0%80%EB%AC%B4%E2%96%A024%EA%B0%9C%EC%9B%94%ED%95%A0%EB%B6%80%20%ED%95%A0%EC%9D%B8%EB%B0%98%ED%99%98%EA%B8%88%EB%AC%B4&img=http://shopping.phinf.naver.net/main_8129202/8129202635.jpg HTTP/1.1\" 200 68\n",
      "10.0.2.2 - - [21/Aug/2016 18:27:43] \"GET /classify?name=[%ED%95%B4%EC%99%B8]360%20Degree%20Rotating%20Mount%20Buckle%20Quick%20Assembling%20Adapter%20Buckle%20for%20Gopro%20Hero%204%203+%20/%203%20/%202%20SJ4&img=http://shopping.phinf.naver.net/main_8275517/8275517457.jpg HTTP/1.1\" 200 95\n",
      "10.0.2.2 - - [21/Aug/2016 18:27:43] \"GET /classify?name=[%ED%95%B4%EC%99%B8]Gopro%20hero%20Elastic%20Adjustable%20Head%20Strap%20Mount%20with%20anti-slide%20glue%20like%20original%20for%20GoPro%20HD%20H&img=http://shopping.phinf.naver.net/main_8275517/8275517802.jpg HTTP/1.1\" 200 95\n",
      "10.0.2.2 - - [21/Aug/2016 18:27:44] \"GET /classify?name=[4%%EC%A6%89%EC%8B%9C%ED%95%A0%EC%9D%B8%EC%BF%A0%ED%8F%B0][%EB%B0%94%EC%9E%89%ED%8F%BC]Blue%20Microphones%20Yeti%20USB%20Microphone%20-%20Sil&img=http://shopping.phinf.naver.net/main_8250584/8250584585.jpg HTTP/1.1\" 200 98\n",
      "10.0.2.2 - - [21/Aug/2016 18:27:44] \"GET /classify?name=[4%%EC%A6%89%EC%8B%9C%ED%95%A0%EC%9D%B8%EC%BF%A0%ED%8F%B0][%ED%95%B4%EC%99%B8]%20LLR88024%20-%20Lorell%2042quot;%20Round%20Table%20Top%20%EC%B5%9C%EC%A0%80%EA%B0%80%20%ED%95%B4%EC%99%B8%EA%B5%AC%EB%A7%A4%EB%8C%80%ED%96%89%20%EC%A0%84%EB%AC%B8%EC%84%9C%EB%B9%84%EC%8A%A4&img=http://shopping.phinf.naver.net/main_8270187/8270187592.jpg HTTP/1.1\" 200 93\n",
      "10.0.2.2 - - [21/Aug/2016 18:27:44] \"GET /classify?name=[4%%EC%A6%89%EC%8B%9C%ED%95%A0%EC%9D%B8%EC%BF%A0%ED%8F%B0][%ED%95%B4%EC%99%B8]%20Safco%20Multi-Purpose%20Stand%20Misc.%20Part%20No.%201874BL%20%EC%B5%9C%EC%A0%80%EA%B0%80%20%ED%95%B4%EC%99%B8%EA%B5%AC%EB%A7%A4%EB%8C%80%ED%96%89%20%EC%A0%84%EB%AC%B8%EC%84%9C%EB%B9%84%EC%8A%A4&img=http://shopping.phinf.naver.net/main_8269443/8269443218.jpg HTTP/1.1\" 200 95\n",
      "10.0.2.2 - - [21/Aug/2016 18:27:44] \"GET /classify?name=[4%%EC%A6%89%EC%8B%9C%ED%95%A0%EC%9D%B8%EC%BF%A0%ED%8F%B0][%ED%95%B4%EC%99%B8]%20Flexible%20Grommet%202-3/8%20Diameter%20-%202-3/8%20Diameterso%20%EC%B5%9C%EC%A0%80%EA%B0%80%20%ED%95%B4%EC%99%B8%EA%B5%AC%EB%A7%A4%EB%8C%80%ED%96%89%20%EC%A0%84%EB%AC%B8%EC%84%9C%EB%B9%84%EC%8A%A4&img=http://shopping.phinf.naver.net/main_8261690/8261690321.jpg HTTP/1.1\" 200 95\n",
      "10.0.2.2 - - [21/Aug/2016 18:27:44] \"GET /classify?name=[4%%EC%A6%89%EC%8B%9C%ED%95%A0%EC%9D%B8%EC%BF%A0%ED%8F%B0][%ED%95%B4%EC%99%B8]%20GFCI%20Plug%202%20Poles%202%20Wires%2010A%20Right%20Angle%20Leakage%20%20%EC%B5%9C%EC%A0%80%EA%B0%80%20%ED%95%B4%EC%99%B8%EA%B5%AC%EB%A7%A4%EB%8C%80%ED%96%89%20%EC%A0%84%EB%AC%B8%EC%84%9C%EB%B9%84%EC%8A%A4&img=http://shopping.phinf.naver.net/main_8261674/8261674216.jpg HTTP/1.1\" 200 95\n",
      "10.0.2.2 - - [21/Aug/2016 18:27:44] \"GET /classify?name=[4%%EC%A6%89%EC%8B%9C%ED%95%A0%EC%9D%B8%EC%BF%A0%ED%8F%B0][%ED%95%B4%EC%99%B8]%20Blue%20Coat%20SG510-25-PR%20Blue%20Coat%20ProxySG%20510%20Series%20%EC%B5%9C%EC%A0%80%EA%B0%80%20%ED%95%B4%EC%99%B8%EA%B5%AC%EB%A7%A4%EB%8C%80%ED%96%89%20%EC%A0%84%EB%AC%B8%EC%84%9C%EB%B9%84%EC%8A%A4&img=http://shopping.phinf.naver.net/main_8270147/8270147383.jpg HTTP/1.1\" 200 95\n"
     ]
    },
    {
     "name": "stdout",
     "output_type": "stream",
     "text": [
      "classify called\n",
      "classify called\n",
      "classify called\n",
      "classify called\n",
      "classify called\n",
      "classify called\n",
      "classify called\n",
      "classify called\n",
      "classify called\n",
      "classify called\n",
      "classify called\n",
      "classify called\n",
      "classify called\n",
      "classify called\n",
      "classify called\n"
     ]
    },
    {
     "name": "stderr",
     "output_type": "stream",
     "text": [
      "10.0.2.2 - - [21/Aug/2016 18:27:44] \"GET /classify?name=[4%%EC%A6%89%EC%8B%9C%ED%95%A0%EC%9D%B8%EC%BF%A0%ED%8F%B0][%ED%95%B4%EC%99%B8]%20NavePoint%20Adjustable%20Rack%20Mount%20Server%20Shelf%20Shelv%20%EC%B5%9C%EC%A0%80%EA%B0%80%20%ED%95%B4%EC%99%B8%EA%B5%AC%EB%A7%A4%EB%8C%80%ED%96%89%20%EC%A0%84%EB%AC%B8%EC%84%9C%EB%B9%84%EC%8A%A4&img=http://shopping.phinf.naver.net/main_8261709/8261709767.jpg HTTP/1.1\" 200 95\n",
      "10.0.2.2 - - [21/Aug/2016 18:27:44] \"GET /classify?name=[4%%EC%A6%89%EC%8B%9C%ED%95%A0%EC%9D%B8%EC%BF%A0%ED%8F%B0][%ED%95%B4%EC%99%B8]%20LARGE%20FEED%20BELT%20%EC%B5%9C%EC%A0%80%EA%B0%80%20%ED%95%B4%EC%99%B8%EA%B5%AC%EB%A7%A4%EB%8C%80%ED%96%89%20%EC%A0%84%EB%AC%B8%EC%84%9C%EB%B9%84%EC%8A%A4&img=http://shopping.phinf.naver.net/main_8261615/8261615528.jpg HTTP/1.1\" 200 95\n",
      "10.0.2.2 - - [21/Aug/2016 18:27:44] \"GET /classify?name=[4%%EC%A6%89%EC%8B%9C%ED%95%A0%EC%9D%B8%EC%BF%A0%ED%8F%B0][%ED%95%B4%EC%99%B8]%20APC%20-%20automatic%20circuit%20breaker%20%EC%B5%9C%EC%A0%80%EA%B0%80%20%ED%95%B4%EC%99%B8%EA%B5%AC%EB%A7%A4%EB%8C%80%ED%96%89%20%EC%A0%84%EB%AC%B8%EC%84%9C%EB%B9%84%EC%8A%A4&img=http://shopping.phinf.naver.net/main_8262389/8262389024.jpg HTTP/1.1\" 200 95\n",
      "10.0.2.2 - - [21/Aug/2016 18:27:44] \"GET /classify?name=[4%%EC%A6%89%EC%8B%9C%ED%95%A0%EC%9D%B8%EC%BF%A0%ED%8F%B0][%ED%95%B4%EC%99%B8]%20Round%20Hole%20Adapter%20Kit%20N20-CRMK2%20Rack%20MTGKT%20%EC%B5%9C%EC%A0%80%EA%B0%80%20%ED%95%B4%EC%99%B8%EA%B5%AC%EB%A7%A4%EB%8C%80%ED%96%89%20%EC%A0%84%EB%AC%B8%EC%84%9C%EB%B9%84%EC%8A%A4&img=http://shopping.phinf.naver.net/main_8262350/8262350295.jpg HTTP/1.1\" 200 95\n",
      "10.0.2.2 - - [21/Aug/2016 18:27:44] \"GET /classify?name=[4%%EC%A6%89%EC%8B%9C%ED%95%A0%EC%9D%B8%EC%BF%A0%ED%8F%B0][%ED%95%B4%EC%99%B8]%20Fluke%20Networks%20PTNX2-DLX%20Pocket%20Toner%20NX2%20Coax%20Cab%20%EC%B5%9C%EC%A0%80%EA%B0%80%20%ED%95%B4%EC%99%B8%EA%B5%AC%EB%A7%A4%EB%8C%80%ED%96%89%20%EC%A0%84%EB%AC%B8%EC%84%9C%EB%B9%84%EC%8A%A4&img=http://shopping.phinf.naver.net/main_8261694/8261694443.jpg HTTP/1.1\" 200 95\n",
      "10.0.2.2 - - [21/Aug/2016 18:27:44] \"GET /classify?name=[%ED%95%B4%EC%99%B8]Handheld%20Pole%20Handle%20%20%20Tripod%20Mount%20GoPro%20Hero%202%203%203+%20Telescopic%20Monopod%20Selfie&img=http://shopping.phinf.naver.net/main_8272100/8272100059.jpg HTTP/1.1\" 200 95\n",
      "10.0.2.2 - - [21/Aug/2016 18:27:44] \"GET /classify?name=[4%%EC%A6%89%EC%8B%9C%ED%95%A0%EC%9D%B8%EC%BF%A0%ED%8F%B0][%ED%95%B4%EC%99%B8]%203%20meter%20/%2010%20ft%20Antenna%20Extension%20Cable%20N-Type%20Mal%20%EC%B5%9C%EC%A0%80%EA%B0%80%20%ED%95%B4%EC%99%B8%EA%B5%AC%EB%A7%A4%EB%8C%80%ED%96%89%20%EC%A0%84%EB%AC%B8%EC%84%9C%EB%B9%84%EC%8A%A4&img=http://shopping.phinf.naver.net/main_8261719/8261719062.jpg HTTP/1.1\" 200 95\n",
      "10.0.2.2 - - [21/Aug/2016 18:27:44] \"GET /classify?name=[%ED%95%B4%EC%99%B8]360%20Degree%20Rotary%20Electric%20Sweepers%20TV%20Magnetic%20Cordless%20Cleaning%20Brushes%20Household%20Powerful%20Wir&img=http://shopping.phinf.naver.net/main_8281492/8281492686.jpg HTTP/1.1\" 200 124\n",
      "10.0.2.2 - - [21/Aug/2016 18:27:44] \"GET /classify?name=[%ED%95%B4%EC%99%B8]TIANYA%2067mm%2067%20mm%20Circular%20Polarizing%20C-PL%20CPL%20PL-CIR&img=http://shopping.phinf.naver.net/main_8262144/8262144833.jpg HTTP/1.1\" 200 95\n",
      "10.0.2.2 - - [21/Aug/2016 18:27:44] \"GET /classify?name=[%ED%95%B4%EC%99%B8]Free%20Shipping%2058mm%20ND%20Fader%20Neutral%20Density%20Adjustable%20Variable%20Filter%20ND%202%20to%20ND%20400%20Filter&img=http://shopping.phinf.naver.net/main_8262147/8262147347.jpg HTTP/1.1\" 200 95\n",
      "10.0.2.2 - - [21/Aug/2016 18:27:44] \"GET /classify?name=[%ED%95%B4%EC%99%B8]1Pcs%2030Hz~15000Hz%20Mini%203.5mm%20Tie%20Lapel%20Lavalier%20Clip%20On%20Microphone%20for%20Lectures%20Teaching&img=http://shopping.phinf.naver.net/main_8260195/8260195479.jpg HTTP/1.1\" 200 95\n",
      "10.0.2.2 - - [21/Aug/2016 18:27:44] \"GET /classify?name=[4%%EC%A6%89%EC%8B%9C%ED%95%A0%EC%9D%B8%EC%BF%A0%ED%8F%B0][%ED%95%B4%EC%99%B8]%20Fluke%20Networks%20NFM110%20Accessory%20Tip%20Set%20for%20FiberI%20%EC%B5%9C%EC%A0%80%EA%B0%80%20%ED%95%B4%EC%99%B8%EA%B5%AC%EB%A7%A4%EB%8C%80%ED%96%89%20%EC%A0%84%EB%AC%B8%EC%84%9C%EB%B9%84%EC%8A%A4&img=http://shopping.phinf.naver.net/main_8270185/8270185790.jpg HTTP/1.1\" 200 95\n",
      "10.0.2.2 - - [21/Aug/2016 18:27:44] \"GET /classify?name=[%ED%95%B4%EC%99%B8]Z07-1%20Mini%20Handheld%20Telescopic%20Selfie%20Monopod%20+%20Phone%20Holder%20Clip%20For%20Galaxy%20S3%20S4%20S5%20Note2%20/%203%20&img=http://shopping.phinf.naver.net/main_8272100/8272100120.jpg HTTP/1.1\" 200 95\n",
      "10.0.2.2 - - [21/Aug/2016 18:27:44] \"GET /classify?name=[4%%EC%A6%89%EC%8B%9C%ED%95%A0%EC%9D%B8%EC%BF%A0%ED%8F%B0]acchouse%20Car%20Windshield%20Mount%20Bracket%20Stand%20Holder%20GPS/MP4%20ACCHOUSE/%EA%B5%AC%EB%A7%A4%EB%8C%80%ED%96%89/%EA%B5%AD%EC%A0%9C%EB%93%B1%EA%B8%B0/DHL&img=http://shopping.phinf.naver.net/main_8282281/8282281031.jpg HTTP/1.1\" 200 95\n",
      "10.0.2.2 - - [21/Aug/2016 18:27:44] \"GET /classify?name=[4%%EC%A6%89%EC%8B%9C%ED%95%A0%EC%9D%B8%EC%BF%A0%ED%8F%B0][%ED%95%B4%EC%99%B8]%20Dynamic%20Support%2024x7%20for%20NSA%202%20%EC%B5%9C%EC%A0%80%EA%B0%80%20%ED%95%B4%EC%99%B8%EA%B5%AC%EB%A7%A4%EB%8C%80%ED%96%89%20%EC%A0%84%EB%AC%B8%EC%84%9C%EB%B9%84%EC%8A%A4&img=http://shopping.phinf.naver.net/main_8269469/8269469763.jpg HTTP/1.1\" 200 95\n",
      "10.0.2.2 - - [21/Aug/2016 18:27:44] \"GET /classify?name=[4%%EC%A6%89%EC%8B%9C%ED%95%A0%EC%9D%B8%EC%BF%A0%ED%8F%B0][%ED%95%B4%EC%99%B8]%20140ft%20DS3%20BNC%20Cable%20735%20Simplex%20%EC%B5%9C%EC%A0%80%EA%B0%80%20%ED%95%B4%EC%99%B8%EA%B5%AC%EB%A7%A4%EB%8C%80%ED%96%89%20%EC%A0%84%EB%AC%B8%EC%84%9C%EB%B9%84%EC%8A%A4&img=http://shopping.phinf.naver.net/main_8269442/8269442069.jpg HTTP/1.1\" 200 95\n"
     ]
    },
    {
     "name": "stdout",
     "output_type": "stream",
     "text": [
      "classify called\n",
      "classify called\n",
      "classify called\n",
      "classify called\n",
      "classify called\n",
      "classify called\n",
      "classify called\n",
      "classify called\n",
      "classify called\n",
      "classify called\n",
      "classify called\n",
      "classify called\n",
      "classify called\n",
      "classify called\n",
      "classify called\n",
      "classify called\n"
     ]
    },
    {
     "name": "stderr",
     "output_type": "stream",
     "text": [
      "10.0.2.2 - - [21/Aug/2016 18:27:44] \"GET /classify?name=[4%%EC%A6%89%EC%8B%9C%ED%95%A0%EC%9D%B8%EC%BF%A0%ED%8F%B0][%ED%95%B4%EC%99%B8]%20400ft%20DS3%20Cable%20734%20Simplex%20BNC%20%EC%B5%9C%EC%A0%80%EA%B0%80%20%ED%95%B4%EC%99%B8%EA%B5%AC%EB%A7%A4%EB%8C%80%ED%96%89%20%EC%A0%84%EB%AC%B8%EC%84%9C%EB%B9%84%EC%8A%A4&img=http://shopping.phinf.naver.net/main_8269429/8269429981.jpg HTTP/1.1\" 200 95\n",
      "10.0.2.2 - - [21/Aug/2016 18:27:44] \"GET /classify?name=[4%%EC%A6%89%EC%8B%9C%ED%95%A0%EC%9D%B8%EC%BF%A0%ED%8F%B0][%ED%95%B4%EC%99%B8]%20195ft%20DS3%20BNC%20Cable%20735%20Simplex%20%EC%B5%9C%EC%A0%80%EA%B0%80%20%ED%95%B4%EC%99%B8%EA%B5%AC%EB%A7%A4%EB%8C%80%ED%96%89%20%EC%A0%84%EB%AC%B8%EC%84%9C%EB%B9%84%EC%8A%A4&img=http://shopping.phinf.naver.net/main_8269411/8269411854.jpg HTTP/1.1\" 200 95\n",
      "10.0.2.2 - - [21/Aug/2016 18:27:44] \"GET /classify?name=[%ED%95%B4%EC%99%B8]Handheld%20Aluminum%20Alloy%20Portable%20Flexible%20Telescopic%20Extendible%20Monopod%20Tripod%20Handlebar%20holder%20&img=http://shopping.phinf.naver.net/main_8260149/8260149889.jpg HTTP/1.1\" 200 95\n",
      "10.0.2.2 - - [21/Aug/2016 18:27:44] \"GET /classify?name=[%ED%95%B4%EC%99%B8]Bluetooth%20tripod%20selfie%20stick%20Rotary%20Extendable%20Handheld%20Camera%20Tripod%20Mobile%20Phone%20Monopod+%20Wir&img=http://shopping.phinf.naver.net/main_8260151/8260151921.jpg HTTP/1.1\" 200 95\n",
      "10.0.2.2 - - [21/Aug/2016 18:27:44] \"GET /classify?name=[%ED%95%B4%EC%99%B8]Z07-7%20Mobile%20Phone%20Wired%20Monopod%20Audio%20Cable%20Wired%20Selfie%20Stick%20Extendable%20Handheld%20Monopod%20for%20&img=http://shopping.phinf.naver.net/main_8260151/8260151123.jpg HTTP/1.1\" 200 95\n",
      "10.0.2.2 - - [21/Aug/2016 18:27:44] \"GET /classify?name=[%ED%95%B4%EC%99%B8]gopro%20Accessories%20SJ4000%20Accessories%20Windshield%20Suction%20Cup%20Mount%20Holder%20Vehicle-mounted%20For%20Gop&img=http://shopping.phinf.naver.net/main_8275513/8275513675.jpg HTTP/1.1\" 200 95\n",
      "10.0.2.2 - - [21/Aug/2016 18:27:44] \"GET /classify?name=[%ED%95%B4%EC%99%B8]Handheld%20Mobile%20Phone%20Tripod%20Monopod%20Aluminum%20Adjustable%2042-123CM%20Telescopic%20Camera%20Extendable%20w&img=http://shopping.phinf.naver.net/main_8260150/8260150872.jpg HTTP/1.1\" 200 95\n",
      "10.0.2.2 - - [21/Aug/2016 18:27:44] \"GET /classify?name=[4%%EC%A6%89%EC%8B%9C%ED%95%A0%EC%9D%B8%EC%BF%A0%ED%8F%B0][%ED%95%B4%EC%99%B8]%20Fluke%20Networks%20LEAD-ABNP-100%20Test%20Lead%20with%20Angled%20%EC%B5%9C%EC%A0%80%EA%B0%80%20%ED%95%B4%EC%99%B8%EA%B5%AC%EB%A7%A4%EB%8C%80%ED%96%89%20%EC%A0%84%EB%AC%B8%EC%84%9C%EB%B9%84%EC%8A%A4&img=http://shopping.phinf.naver.net/main_8261669/8261669831.jpg HTTP/1.1\" 200 95\n",
      "10.0.2.2 - - [21/Aug/2016 18:27:44] \"GET /classify?name=[4%%EC%A6%89%EC%8B%9C%ED%95%A0%EC%9D%B8%EC%BF%A0%ED%8F%B0][%ED%95%B4%EC%99%B8]%20Fluke%20Networks%20LEAD-ABN-100%20Test%20Lead%20with%20Angled%20%20%EC%B5%9C%EC%A0%80%EA%B0%80%20%ED%95%B4%EC%99%B8%EA%B5%AC%EB%A7%A4%EB%8C%80%ED%96%89%20%EC%A0%84%EB%AC%B8%EC%84%9C%EB%B9%84%EC%8A%A4&img=http://shopping.phinf.naver.net/main_8261666/8261666128.jpg HTTP/1.1\" 200 95\n",
      "10.0.2.2 - - [21/Aug/2016 18:27:44] \"GET /classify?name=[4%%EC%A6%89%EC%8B%9C%ED%95%A0%EC%9D%B8%EC%BF%A0%ED%8F%B0][%ED%95%B4%EC%99%B8]%206FT%20XLR%20Adapter%20Cable%20XLR%20To%203.5mm%20M-to-m%20Stereo%20%EC%B5%9C%EC%A0%80%EA%B0%80%20%ED%95%B4%EC%99%B8%EA%B5%AC%EB%A7%A4%EB%8C%80%ED%96%89%20%EC%A0%84%EB%AC%B8%EC%84%9C%EB%B9%84%EC%8A%A4&img=http://shopping.phinf.naver.net/main_8250011/8250011853.jpg HTTP/1.1\" 200 95\n",
      "10.0.2.2 - - [21/Aug/2016 18:27:44] \"GET /classify?name=[%ED%95%B4%EC%99%B8]Green.L%2067mm%2067%20mm%20Circular%20Polarizing%20lens%20Filter%20C-PL%20CPL%20PL-CIR&img=http://shopping.phinf.naver.net/main_8262145/8262145532.jpg HTTP/1.1\" 200 95\n",
      "10.0.2.2 - - [21/Aug/2016 18:27:44] \"GET /classify?name=[%ED%95%B4%EC%99%B8]F05656%206%20Pcs%203M%20VHB%20Adhesive%20Sticky%203%20Concave%203%20Flat%20Sticker%20for%20Gopro%20hero%201%202%203%20Helmet%20Mount%20R&img=http://shopping.phinf.naver.net/main_8272097/8272097596.jpg HTTP/1.1\" 200 95\n",
      "10.0.2.2 - - [21/Aug/2016 18:27:44] \"GET /classify?name=[%ED%95%B4%EC%99%B8]18%20quot;%20Floating%20Extension%20Pole%20Evolution%20Floaty%20GripTransparent%20Extension%20Pole%20for%20GoPro%20HERO%20&img=http://shopping.phinf.naver.net/main_8275518/8275518445.jpg HTTP/1.1\" 200 116\n",
      "10.0.2.2 - - [21/Aug/2016 18:27:44] \"GET /classify?name=[%ED%95%B4%EC%99%B8]UT-106UV%20SMA-F%20UHF+VHF%20Magnetic%20Vehicle-Mounted%20Antenna%20For%20NAGOYA%20Kenwood%20New HTTP/1.1\" 200 105\n"
     ]
    },
    {
     "name": "stdout",
     "output_type": "stream",
     "text": [
      "classify called\n",
      "classify called\n",
      "classify called\n",
      "classify called\n",
      "classify called\n",
      "classify called\n",
      "classify called\n",
      "classify called\n",
      "classify called\n",
      "classify called\n",
      "classify called\n",
      "classify called\n",
      "classify called\n",
      "classify called\n"
     ]
    },
    {
     "name": "stderr",
     "output_type": "stream",
     "text": [
      "10.0.2.2 - - [21/Aug/2016 18:27:44] \"GET /classify?name=[4%%EC%A6%89%EC%8B%9C%ED%95%A0%EC%9D%B8%EC%BF%A0%ED%8F%B0][%ED%95%B4%EC%99%B8]%20250ft%20DS3/DS4%20Plenum%20Simplex%20735%20BNC%20Cable%20%EC%B5%9C%EC%A0%80%EA%B0%80%20%ED%95%B4%EC%99%B8%EA%B5%AC%EB%A7%A4%EB%8C%80%ED%96%89%20%EC%A0%84%EB%AC%B8%EC%84%9C%EB%B9%84%EC%8A%A4&img=http://shopping.phinf.naver.net/main_8270222/8270222390.jpg HTTP/1.1\" 200 95\n",
      "10.0.2.2 - - [21/Aug/2016 18:27:44] \"GET /classify?name=[4%%EC%A6%89%EC%8B%9C%ED%95%A0%EC%9D%B8%EC%BF%A0%ED%8F%B0][%ED%95%B4%EC%99%B8]%20Pyle%20-%20800-Watt%20Dual%20Channel%20Wireless%20Rechargeable%20%EC%B5%9C%EC%A0%80%EA%B0%80%20%ED%95%B4%EC%99%B8%EA%B5%AC%EB%A7%A4%EB%8C%80%ED%96%89%20%EC%A0%84%EB%AC%B8%EC%84%9C%EB%B9%84%EC%8A%A4&img=http://shopping.phinf.naver.net/main_8270170/8270170966.jpg HTTP/1.1\" 200 95\n",
      "10.0.2.2 - - [21/Aug/2016 18:27:44] \"GET /classify?name=[4%%EC%A6%89%EC%8B%9C%ED%95%A0%EC%9D%B8%EC%BF%A0%ED%8F%B0]acchouse%20XLR%203Pin%20Extension%20Microphone%20Mic%20Cable%20M%20F%20M/F%203M%20ACCHOUSE/%EA%B5%AC%EB%A7%A4%EB%8C%80%ED%96%89/%EA%B5%AD%EC%A0%9C%EB%93%B1%EA%B8%B0/DHL&img=http://shopping.phinf.naver.net/main_8282305/8282305717.jpg HTTP/1.1\" 200 95\n",
      "10.0.2.2 - - [21/Aug/2016 18:27:44] \"GET /classify?name=[4%%EC%A6%89%EC%8B%9C%ED%95%A0%EC%9D%B8%EC%BF%A0%ED%8F%B0][%ED%95%B4%EC%99%B8]%2050ft%20DS3%20Cable%20734%20Duplex%20Right%20Angle%20BNC%20%EC%B5%9C%EC%A0%80%EA%B0%80%20%ED%95%B4%EC%99%B8%EA%B5%AC%EB%A7%A4%EB%8C%80%ED%96%89%20%EC%A0%84%EB%AC%B8%EC%84%9C%EB%B9%84%EC%8A%A4&img=http://shopping.phinf.naver.net/main_8269462/8269462181.jpg HTTP/1.1\" 200 95\n",
      "10.0.2.2 - - [21/Aug/2016 18:27:44] \"GET /classify?name=[4%%EC%A6%89%EC%8B%9C%ED%95%A0%EC%9D%B8%EC%BF%A0%ED%8F%B0][%ED%95%B4%EC%99%B8]%20Pelican%20Solo%20-%20Yellow%20%EC%B5%9C%EC%A0%80%EA%B0%80%20%ED%95%B4%EC%99%B8%EA%B5%AC%EB%A7%A4%EB%8C%80%ED%96%89%20%EC%A0%84%EB%AC%B8%EC%84%9C%EB%B9%84%EC%8A%A4&img=http://shopping.phinf.naver.net/main_8269430/8269430092.jpg HTTP/1.1\" 200 95\n",
      "10.0.2.2 - - [21/Aug/2016 18:27:44] \"GET /classify?name=[4%%EC%A6%89%EC%8B%9C%ED%95%A0%EC%9D%B8%EC%BF%A0%ED%8F%B0][%ED%95%B4%EC%99%B8]%20200ft%20DS3/DS4%20Plenum%20Simplex%20735%20BNC%20Cable%20%EC%B5%9C%EC%A0%80%EA%B0%80%20%ED%95%B4%EC%99%B8%EA%B5%AC%EB%A7%A4%EB%8C%80%ED%96%89%20%EC%A0%84%EB%AC%B8%EC%84%9C%EB%B9%84%EC%8A%A4&img=http://shopping.phinf.naver.net/main_8269424/8269424366.jpg HTTP/1.1\" 200 95\n",
      "10.0.2.2 - - [21/Aug/2016 18:27:44] \"GET /classify?name=[4%%EC%A6%89%EC%8B%9C%ED%95%A0%EC%9D%B8%EC%BF%A0%ED%8F%B0][%ED%95%B4%EC%99%B8]%20Atlas%20550%20Bundle%20for%20t1%20To%20Pri%20Conversion%20with%2010/%20%EC%B5%9C%EC%A0%80%EA%B0%80%20%ED%95%B4%EC%99%B8%EA%B5%AC%EB%A7%A4%EB%8C%80%ED%96%89%20%EC%A0%84%EB%AC%B8%EC%84%9C%EB%B9%84%EC%8A%A4&img=http://shopping.phinf.naver.net/main_8269408/8269408830.jpg HTTP/1.1\" 200 95\n",
      "10.0.2.2 - - [21/Aug/2016 18:27:44] \"GET /classify?name=[%ED%95%B4%EC%99%B8]Gopro%20Accessories%209%20in%201%20Kit%20Chest%20+Head%20Strap+Floating%20Grip%20+Handlebar%20Seatpost%20+%20Monopod%20+Suct&img=http://shopping.phinf.naver.net/main_8275513/8275513546.jpg HTTP/1.1\" 200 95\n",
      "10.0.2.2 - - [21/Aug/2016 18:27:44] \"GET /classify?name=[%ED%95%B4%EC%99%B8]Bluetooth%20tripod%20selfie%20stick%20Rotary%20Extendable%20Handheld%20Camera%20Tripod%20Mobile%20Phone%20Monopod+%20Wir&img=http://shopping.phinf.naver.net/main_8260151/8260151063.jpg HTTP/1.1\" 200 95\n",
      "10.0.2.2 - - [21/Aug/2016 18:27:44] \"GET /classify?name=[%ED%95%B4%EC%99%B8]Mobile%20Phone%20Monopod%20Telescopic%20Selfie%20Self%20Timer%20Handheld%20Camera%20Cellphone%20Tripod%20Black%20White%20B&img=http://shopping.phinf.naver.net/main_8260150/8260150495.jpg HTTP/1.1\" 200 95\n",
      "10.0.2.2 - - [21/Aug/2016 18:27:44] \"GET /classify?name=[%ED%95%B4%EC%99%B8]Slim%20Fader%20adjustable%2058mm%20ND%20Filter%20Variable%20Neutral%20Density%20ND2%20to%20ND400&img=http://shopping.phinf.naver.net/main_8262146/8262146525.jpg HTTP/1.1\" 200 95\n",
      "10.0.2.2 - - [21/Aug/2016 18:27:44] \"GET /classify?name=%EB%A6%AC%EB%AA%A8%EC%BB%A8%20%ED%8C%8C%EC%9D%B8%EB%8D%94%20-%20%EC%8A%A4%EB%A7%88%ED%8A%B8%20%ED%8F%B0%EC%9C%BC%EB%A1%9C%20%EB%A6%AC%EB%AA%A8%EC%BB%A8%20%EC%B0%BE%EA%B8%B0&img=http://shopping.phinf.naver.net/main_8283487/8283487990.jpg HTTP/1.1\" 200 101\n",
      "10.0.2.2 - - [21/Aug/2016 18:27:44] \"GET /classify?name=[5%%EC%A6%89%EC%8B%9C%ED%95%A0%EC%9D%B8%EC%BF%A0%ED%8F%B0](P1j)%ED%8F%B0%EC%A4%84/%EC%82%AC%EA%B0%81%EB%AC%B4%EB%8A%AC%EA%B3%B0%EB%8F%8C%EC%9D%B4(10%EA%B0%9C1Set)&img=http://shopping.phinf.naver.net/main_8282196/8282196438.jpg HTTP/1.1\" 200 72\n",
      "10.0.2.2 - - [21/Aug/2016 18:27:44] \"GET /classify?name=[5%%EC%A6%89%EC%8B%9C%ED%95%A0%EC%9D%B8%EC%BF%A0%ED%8F%B0](P1j)%EA%BD%83%ED%86%A0%EB%81%BC(10%EA%B0%9C1SET)&img=http://shopping.phinf.naver.net/main_8282197/8282197718.jpg HTTP/1.1\" 200 72\n",
      "10.0.2.2 - - [21/Aug/2016 18:27:44] \"GET /classify?name=[5%%EC%A6%89%EC%8B%9C%ED%95%A0%EC%9D%B8%EC%BF%A0%ED%8F%B0]%EC%9D%B4%EC%96%B4%ED%8F%B0%20%ED%99%80%EC%BA%A1%20100%EA%B0%9C%20%EC%8A%A4%EB%A7%88%ED%8A%B8%ED%8F%B0%20%EC%95%85%EC%84%B8%EC%84%9C%EB%A6%AC%EB%B6%80%EC%9E%90%EC%9E%AC%20%EC%95%85%EC%84%B8%EC%82%AC%EB%A6%AC&img=http://shopping.phinf.naver.net/main_8273555/8273555761.jpg HTTP/1.1\" 200 72\n",
      "10.0.2.2 - - [21/Aug/2016 18:27:44] \"GET /classify?name=[5%%EC%A6%89%EC%8B%9C%ED%95%A0%EC%9D%B8%EC%BF%A0%ED%8F%B0](P1j)%EB%B3%B4%EC%A1%B0%EB%B0%B0%ED%84%B0%EB%A6%AC/%EB%84%A4%EC%BC%80%EB%8B%A4/NEKEDA/%EB%B8%94%EB%9E%99/%EC%8A%A4%EB%A7%88%ED%8A%B8%ED%8F%B0%EC%9A%A9/5V50&img=http://shopping.phinf.naver.net/main_8282241/8282241847.jpg HTTP/1.1\" 200 72\n"
     ]
    },
    {
     "name": "stdout",
     "output_type": "stream",
     "text": [
      "classify called\n",
      "classify called\n",
      "classify called\n",
      "classify called\n",
      "classify called\n",
      "classify called\n",
      "classify called\n",
      "classify called\n",
      "classify called\n",
      "classify called\n",
      "classify called\n",
      "classify called\n",
      "classify called\n",
      "classify called\n",
      "classify called\n",
      "classify called\n"
     ]
    },
    {
     "name": "stderr",
     "output_type": "stream",
     "text": [
      "10.0.2.2 - - [21/Aug/2016 18:27:44] \"GET /classify?name=[5%%EC%A6%89%EC%8B%9C%ED%95%A0%EC%9D%B8%EC%BF%A0%ED%8F%B0]%ED%86%A0%ED%81%AC%EB%8F%8C%EC%A6%88%20%EC%95%A1%EC%A0%95%20%ED%81%B4%EB%A6%AC%EB%84%88&img=http://shopping.phinf.naver.net/main_8280023/8280023196.jpg HTTP/1.1\" 200 109\n",
      "10.0.2.2 - - [21/Aug/2016 18:27:44] \"GET /classify?name=[%ED%95%B4%EC%99%B8]Humidifier%20ultrasonic%20atomizer%20fountain%20atomization%20air%20humidifier%2020%20mm%20colorful%20waterscape%20ato&img=http://shopping.phinf.naver.net/main_8281503/8281503927.jpg HTTP/1.1\" 200 105\n",
      "10.0.2.2 - - [21/Aug/2016 18:27:44] \"GET /classify?name=%EC%BD%94%EC%9B%90%20iAUDIO%209%2016G&img=http://shopping.phinf.naver.net/main_5469186/5469186360.20120211203716.jpg HTTP/1.1\" 200 72\n",
      "10.0.2.2 - - [21/Aug/2016 18:27:44] \"GET /classify?name=[%ED%95%B4%EC%99%B8]Rechargeable%20Portable%20Waterproof%20Depilatory%20Device%20Shaver&img=http://shopping.phinf.naver.net/main_8281509/8281509225.jpg HTTP/1.1\" 200 105\n",
      "10.0.2.2 - - [21/Aug/2016 18:27:44] \"GET /classify?name=[5%%EC%A6%89%EC%8B%9C%ED%95%A0%EC%9D%B8%EC%BF%A0%ED%8F%B0]%ED%82%A4%EB%AF%B8%EC%A3%BC%EB%8B%88%EC%96%B4%20%20%ED%95%B8%EB%93%9C%ED%8F%B0%EC%A4%84%20%20%EB%B0%B1%20%EC%B0%B8%20-%20MILLIE%20(KJG0355)%20%EB%B0%80&img=http://shopping.phinf.naver.net/main_8276182/8276182137.jpg HTTP/1.1\" 200 79\n",
      "10.0.2.2 - - [21/Aug/2016 18:27:44] \"GET /classify?name=[6%%EC%A6%89%EC%8B%9C%ED%95%A0%EC%9D%B8%EC%BF%A0%ED%8F%B0][%ED%95%B4%EC%99%B8]%20Philips%20Fidelio%20DS1110/37%2030-Pin%20iPod/iPhone%20Speak%20%ED%95%B4%EC%99%B8%20%EC%A0%95%ED%92%88%20%EC%A7%81%EB%B0%B0%EC%86%A1&img=http://shopping.phinf.naver.net/main_8235379/8235379895.jpg HTTP/1.1\" 200 72\n",
      "10.0.2.2 - - [21/Aug/2016 18:27:44] \"GET /classify?name=[%ED%98%84%EB%8C%80%EC%B9%B4%EB%93%9C%205%%ED%95%A0%EC%9D%B8,%203/15][%EC%82%BC%EC%84%B1%EC%A0%95%ED%92%88]%20%EC%82%BC%EC%84%B1%EC%A0%84%EC%9E%90%20%ED%97%A4%EB%93%9C%EC%85%8B%20%EB%A0%88%EB%B2%A8%20%EC%98%A8%20Level%20On-ear&img=http://shopping.phinf.naver.net/main_7697582/7697582111.jpg HTTP/1.1\" 200 72\n",
      "10.0.2.2 - - [21/Aug/2016 18:27:44] \"GET /classify?name=iPod%20Nano%207%EC%84%B8%EB%8C%80%2016GB%20%EB%AA%A8%EB%93%A0%20%EC%83%89%EC%83%81%20%EC%9E%85%EA%B3%A0&img=http://shopping.phinf.naver.net/main_7875825/7875825604.jpg HTTP/1.1\" 200 72\n",
      "10.0.2.2 - - [21/Aug/2016 18:27:44] \"GET /classify?name=bs[%EC%95%A0%ED%94%8C%EC%A0%95%ED%92%88]%20iPod%20Nano%207%EC%84%B8%EB%8C%80%2016GB%20/%20%EC%95%84%EC%9D%B4%ED%8C%9F%EB%82%98%EB%85%B8%20/%20%EC%9D%B4%EC%96%B4%ED%8F%B0%ED%8F%AC%ED%95%A8%20/%20%EC%A0%95%ED%92%88%EB%AF%B8%EA%B0%9C%EB%B4%89%EC%83%88%EC%A0%9C%ED%92%88%20/%20Apple%20/%20%EC%B6%94%EA%B0%80%EC%98%B5%EC%85%98%E7%84%A1%20%EB%B0%A9%EB%AC%B8%EC%88%98%EB%A0%B9,%20%ED%80%B5%20%EA%B0%80%EB%8A%A5&img=http://shopping.phinf.naver.net/main_7169690/7169690802.jpg HTTP/1.1\" 200 72\n",
      "10.0.2.2 - - [21/Aug/2016 18:27:44] \"GET /classify?name=Apple%20iPod%20nano%20%EC%95%84%EC%9D%B4%ED%8C%9F%EB%82%98%EB%85%B8%207%EC%84%B8%EB%8C%80%2016GB/%20%EC%95%A0%ED%94%8C&img=http://shopping.phinf.naver.net/main_8214662/8214662459.jpg HTTP/1.1\" 200 72\n",
      "10.0.2.2 - - [21/Aug/2016 18:27:44] \"GET /classify?name=%EC%95%A0%ED%94%8C%20iPod%20Nano%2016GB%20%EB%B8%94%EB%A3%A8%20(7%EC%84%B8%EB%8C%80)&img=http://shopping.phinf.naver.net/main_7254179/7254179389.jpg HTTP/1.1\" 200 72\n",
      "10.0.2.2 - - [21/Aug/2016 18:27:44] \"GET /classify?name=[%ED%95%98%ED%94%84%ED%81%B4%EB%9F%BD/%ED%9B%84%EC%B6%94%ED%86%B5(%ED%82%A4%EB%8D%9C%ED%8A%B8%20%EC%B7%A8%EB%AF%B8)]%EC%86%8C%EB%8B%88%20FDR-AXP35%20BBAR%20%EC%95%A1%EC%A0%95%EB%B3%B4%ED%98%B8%ED%95%84%EB%A6%84%20(2%EB%A7%A4%EC%9E%85)&img=http://shopping.phinf.naver.net/main_8307790/8307790805.jpg HTTP/1.1\" 200 104\n",
      "10.0.2.2 - - [21/Aug/2016 18:27:44] \"GET /classify?name=[%EC%BD%94%EC%9B%90%20MP3%20iAUDIO9%20PLUS%2016GB][%EC%A0%95%ED%92%88%EC%89%B4%EB%93%9C%EC%BC%80%EC%9D%B4%EC%8A%A4+%EC%9B%B9%EC%BF%A0%ED%8F%B0%20%EC%A6%9D%EC%A0%95]2%EC%9D%B8%EC%B9%98%20LCD%ED%99%94%EB%A9%B4/%EA%B5%AC%EA%B0%84%EB%B0%98%EB%B3%B5/%EC%86%8D%EB%8F%84%EC%A1%B0%EC%A0%88/%EC%96%B4%ED%95%99%ED%95%99%EC%8A%B5/%EB%9D%BC%EB%94%94%EC%98%A4/%EB%85%B9%EC%9D%8C/mp4/%EC%A0%9C%ED%8A%B8%EC%9E%84%ED%8C%A9%ED%8A%B85/%EC%8A%AC%EB%A6%BC%EB%94%94%EC%9E%90%EC%9D%B8&img=http://shopping.phinf.naver.net/main_6802412/6802412837.jpg HTTP/1.1\" 200 72\n",
      "10.0.2.2 - - [21/Aug/2016 18:27:44] \"GET /classify?name=%EC%82%BC%EC%84%B1/%EC%95%84%EC%9D%B4%EB%A6%AC%EB%B2%84%EC%A0%84%EC%9A%A9%20%EC%95%8C%EB%A3%A8%EB%AF%B8%EB%8A%84%20%EC%BB%A4%EB%84%90%20%EC%9D%B4%EC%96%B4%ED%8F%B0%20COCOON%20EX-700&img=http://shopping.phinf.naver.net/main_8293961/8293961393.jpg HTTP/1.1\" 200 134\n",
      "10.0.2.2 - - [21/Aug/2016 18:27:44] \"GET /classify?name=[%EB%85%B8%EB%B2%A8%EB%B7%B0]SINGBOX%20V2/MP3%ED%94%8C%EB%A0%88%EC%9D%B4%EC%96%B4/FM%EB%9D%BC%EB%94%94%EC%98%A4/%ED%84%B0%EB%B3%B4%EC%9A%B0%ED%8D%BC%EC%B6%9C%EB%A0%A5/%EC%8A%A4%ED%94%BC%EC%BB%A4/%ED%9C%B4%EB%8C%80%EC%9A%A9%EC%8A%A4%ED%94%BC%EC%BB%A4/%EB%AF%B8%EB%8B%88%EC%8A%A4%ED%94%BC%EC%BB%A4/%EB%AF%B8%EB%8B%88%EC%98%A4%EB%94%94%EC%98%A4/MP3%EC%8A%A4%ED%94%BC%EC%BB%A4/4W&img=http://shopping.phinf.naver.net/main_7613047/7613047697.jpg HTTP/1.1\" 200 107\n",
      "10.0.2.2 - - [21/Aug/2016 18:27:44] \"GET /classify?name=[KB%EA%B5%AD%EB%AF%BC%EC%B9%B4%EB%93%9C%205%%ED%95%A0%EC%9D%B8,%203/14][%EC%82%BC%EC%84%B1%EC%A0%95%ED%92%88]%20%EC%82%BC%EC%84%B1%EC%A0%84%EC%9E%90%20%ED%97%A4%EB%93%9C%EC%85%8B%20%EB%A0%88%EB%B2%A8%20%EC%9D%B8%20Level%20In-ear&img=http://shopping.phinf.naver.net/main_7697577/7697577536.jpg HTTP/1.1\" 200 72\n",
      "10.0.2.2 - - [21/Aug/2016 18:27:44] \"GET /classify?name=%EC%95%A0%ED%94%8C%20%EC%95%84%EC%9D%B4%ED%8C%A8%EB%93%9C%20%EB%AF%B8%EB%8B%882%20%EB%A0%88%ED%8B%B0%EB%82%98%20Wi-Fi%2064GB%20SpaceGray%20ME278KH/A&img=http://shopping.phinf.naver.net/main_7907057/7907057409.jpg HTTP/1.1\" 200 72\n"
     ]
    },
    {
     "name": "stdout",
     "output_type": "stream",
     "text": [
      "classify called\n",
      "classify called\n",
      "classify called\n",
      "classify called\n",
      "classify called\n",
      "classify called\n",
      "classify called\n",
      "classify called\n",
      "classify called\n",
      "classify called\n",
      "classify called\n",
      "classify called\n",
      "classify called\n",
      "classify called\n",
      "classify called\n",
      "classify called\n",
      "classify called\n",
      "classify called\n",
      "classify called\n",
      "classify called\n",
      "classify called\n",
      "classify called\n",
      "classify called\n",
      "classify called\n",
      "classify called\n",
      "classify called\n",
      "classify called\n",
      "classify called\n",
      "classify called\n",
      "classify called\n"
     ]
    },
    {
     "name": "stderr",
     "output_type": "stream",
     "text": [
      "10.0.2.2 - - [21/Aug/2016 18:27:44] \"GET /classify?name=[%EC%86%8C%EB%8B%88(SONY)]SONY%20MP3%20NWZ-M504%208GB%20%EB%B8%94%EB%A3%A8%ED%88%AC%EC%8A%A4/%ED%86%B5%ED%99%94%EC%A7%80%EC%9B%90/%EC%86%8C%EB%8B%88%20%EC%A0%95%ED%92%88&img=http://shopping.phinf.naver.net/main_8247290/8247290738.1.jpg HTTP/1.1\" 200 72\n",
      "10.0.2.2 - - [21/Aug/2016 18:27:44] \"GET /classify?name=SONY%20MP3%20NWZ-A17%2064GB%20%EB%B8%94%EB%A3%A8%ED%88%AC%EC%8A%A4/NFC/%ED%95%98%EC%9D%B4%20%EB%A0%88%EC%A1%B8%EB%A3%A8%EC%85%98%20%EC%98%A4%EB%94%94%EC%98%A4/%EC%86%8C%EB%8B%88%20%EC%A0%95%ED%92%88/%20%EC%86%8C%EB%8B%88&img=http://shopping.phinf.naver.net/main_8109085/8109085356.3.jpg HTTP/1.1\" 200 72\n",
      "10.0.2.2 - - [21/Aug/2016 18:27:44] \"GET /classify?name=5%%EC%B2%AD%EA%B5%AC%ED%95%A0%EC%9D%B8%20%20[%EC%86%8C%EB%8B%88%20%EB%B8%94%EB%A3%A8%ED%88%AC%EC%8A%A4MP3%20NWZ-A17%2064GB]%20NFC/FM%EB%9D%BC%EB%94%94%EC%98%A4/%ED%95%98%EC%9D%B4%20%EB%A0%88%EC%A1%B8%EB%A3%A8%EC%85%98%20%EC%98%A4%EB%94%94%EC%98%A4[%EC%86%8C%EB%8B%88%EC%BD%94%EB%A6%AC%EC%95%84%20%EC%A0%95%ED%92%88%EB%8C%80%EB%A6%AC%EC%A0%90]&img=http://shopping.phinf.naver.net/main_8106510/8106510054.jpg HTTP/1.1\" 200 72\n",
      "10.0.2.2 - - [21/Aug/2016 18:27:44] \"GET /classify?name=%EC%BD%94%EC%9B%90%20D3%20PLENUE%20DMB%20[8GB]%ED%8D%BC%ED%94%8C%EC%B9%BC%EB%9D%BC/WIFI%20/%EC%95%88%EB%93%9C%EB%A1%9C%EC%9D%B4%EB%93%9C/MP4/PMP/WIFI/%EC%A0%84%EC%9E%90%EC%82%AC%EC%A0%84/&img=http://shopping.phinf.naver.net/main_6797764/6797764305.jpg HTTP/1.1\" 200 72\n",
      "10.0.2.2 - - [21/Aug/2016 18:27:44] \"GET /classify?name=[%ED%95%B4%EC%99%B8]Mini%20%EC%95%88%EB%93%9C%EB%A1%9C%EC%9D%B4%EB%93%9C%20Robot%20MP3%20Box%20Speaker%20PlayerTF%20Card%20Slot%20FM%20Radio/%EB%AF%B8%EB%8B%88%20%EC%95%88%EB%93%9C%EB%A1%9C%EC%9D%B4%EB%93%9C%20%EB%A1%9C%EB%B4%87%20MP3%20%EC%83%81%EC%9E%90%20%EC%8A%A4%ED%94%BC%EC%BB%A4%20PlayerTF%20%EC%B9%B4%EB%93%9C&img=http://shopping.phinf.naver.net/main_7748524/7748524388.jpg HTTP/1.1\" 200 72\n",
      "10.0.2.2 - - [21/Aug/2016 18:27:45] \"GET /classify?name=[%ED%95%B4%EC%99%B8]%ED%95%B4%EC%99%B8%EC%BD%94%ED%8A%BC%20%EC%86%8C%EC%9E%AC%EC%9D%98%20%20 HTTP/1.1\" 200 105\n",
      "10.0.2.2 - - [21/Aug/2016 18:27:45] \"GET /classify?name=Astell%20Kern%20%ED%8F%AC%ED%84%B0%EB%B8%94%20%ED%95%98%EC%9D%B4%ED%8C%8C%EC%9D%B4%20%EC%98%A4%EB%94%94%EC%98%A4%20AK240%20[%ED%94%84%EB%A6%AC%EB%AF%B8%EC%97%84%20%EA%B3%B5%EC%8B%9D%EC%A7%80%EC%A0%95%EB%8C%80%EB%A6%AC%EC%A0%90][%EC%B2%AD%EB%8B%B4%EB%8F%99%20%EC%85%B0%EC%97%90%EB%9D%BC%EC%9E%90%EB%93%9C%20%EC%B2%AD%EC%9D%8C%EC%8B%A4%EC%9A%B4%EC%98%81]&img=http://shopping.phinf.naver.net/main_7441716/7441716740.jpg HTTP/1.1\" 200 72\n",
      "10.0.2.2 - - [21/Aug/2016 18:27:45] \"GET /classify?name=[%EC%A0%84%20%EC%84%B8%EA%B3%84%EA%B0%80%20%EA%B7%B9%EC%B0%AC%ED%95%9C%20%ED%8F%AC%ED%84%B0%EB%B8%94%20%ED%95%98%EC%9D%B4%ED%8C%8C%EC%9D%B4%20%EC%98%A4%EB%94%94%EC%98%A4]%20Astell%20Kern%20%EC%95%84%EC%8A%A4%ED%85%94%EC%95%A4%EC%BB%A8%20AK240%20+%20MQS100%EA%B3%A1%20%EB%8B%A4%EC%9A%B4%EB%A1%9C%EB%93%9C%EC%BF%A0%ED%8F%B0%20+%EC%82%AC%EC%9D%80%ED%92%88%EC%A6%9D%EC%A0%95%20+%20%EB%8B%B9%EC%9D%BC%EB%B0%9C%EC%86%A1&img=http://shopping.phinf.naver.net/main_8173253/8173253770.1.jpg HTTP/1.1\" 200 72\n",
      "10.0.2.2 - - [21/Aug/2016 18:27:45] \"GET /classify?name=[AK%EB%AA%B0/%EC%BD%94%EC%9B%90%EC%8B%9C%EC%8A%A4%ED%85%9C]%20%20%EC%BD%94%EC%9B%90%20D3%20DMB%20[32GB]%20MP3+CE1%EC%A0%95%ED%92%88%EC%9D%B4%EC%96%B4%ED%8F%B0+%EC%95%A1%EC%A0%95%EB%B3%B4%ED%98%B8%ED%95%84%EB%A6%84/%EC%95%84%EB%AA%B0%EB%A0%88%EB%93%9C/WiFi/%EC%95%88%EB%93%9C%EB%A1%9C%EC%9D%B4%EB%93%9C/%EB%B8%94%EB%A3%A8%ED%88%AC%EC%8A%A4/%EC%A0%84%EC%9E%90%EC%82%AC%EC%A0%84/%EC%8A%A4%ED%94%BC%EC%BB%A4/FM%EB%9D%BC%EB%94%94%EC%98%A4/%EC%9D%8C%EC%84%B1%EB%85%B9%EC%9D%8C/BBE+/%EB%8F%99%EC%98%81%EC%83%81&img=http://shopping.phinf.naver.net/main_7883163/7883163640.1.jpg HTTP/1.1\" 200 72\n",
      "10.0.2.2 - - [21/Aug/2016 18:27:45] \"GET /classify?name=[%EC%BD%94%EC%9B%90(COWON)]%EC%BD%94%EC%9B%90%20D3%20DMB%20[32GB]%20MP3+CE1%EC%A0%95%ED%92%88%EC%9D%B4%EC%96%B4%ED%8F%B0+%EC%95%A1%EC%A0%95%EB%B3%B4%ED%98%B8%ED%95%84%EB%A6%84/%EC%95%84%EB%AA%B0%EB%A0%88%EB%93%9C/WiFi/%EC%95%88%EB%93%9C%EB%A1%9C%EC%9D%B4%EB%93%9C/%EB%B8%94%EB%A3%A8%ED%88%AC%EC%8A%A4/%EC%A0%84%EC%9E%90%EC%82%AC%EC%A0%84/%EC%8A%A4%ED%94%BC%EC%BB%A4/FM%EB%9D%BC%EB%94%94%EC%98%A4/%EC%9D%8C%EC%84%B1%EB%85%B9%EC%9D%8C/BBE+/%EB%8F%99%EC%98%81%EC%83%81&img=http://shopping.phinf.naver.net/main_7884705/7884705299.1.jpg HTTP/1.1\" 200 72\n",
      "10.0.2.2 - - [21/Aug/2016 18:27:45] \"GET /classify?name=[5%%EC%A6%89%EC%8B%9C%ED%95%A0%EC%9D%B8%EC%BF%A0%ED%8F%B0]CVE45/%EC%B9%BC%EA%B5%AD%EC%88%98%EC%9D%B4%EC%96%B4%ED%8F%B0/%EA%B0%80%EC%84%B1%EB%B9%84%EC%9D%B4%EC%96%B4%ED%8F%B0/%EB%A6%AC%EB%AA%A8%EC%BD%98%EC%9D%B4%EC%96%B4%ED%8F%B0%EB%A7%88%EC%9D%B4%ED%81%AC&img=http://shopping.phinf.naver.net/main_8396094/8396094225.jpg HTTP/1.1\" 200 79\n",
      "10.0.2.2 - - [21/Aug/2016 18:27:45] \"GET /classify?name=[%ED%95%B4%EC%99%B8%EC%87%BC%ED%95%91]Arevo%20[White]%20Premium%20Leather%20Card%20Slide%20Pocket%20Case%20Cover%20Magnetic%20Lock%20Free%20Color%20Screen%20Pro&img=http://shopping.phinf.naver.net/main_8240540/8240540445.jpg HTTP/1.1\" 200 124\n",
      "10.0.2.2 - - [21/Aug/2016 18:27:45] \"GET /classify?name=[%ED%95%B4%EC%99%B8]Tivoli%20Audio%20Model%20CD%20MCDALSB%20Player%20Light%20Aluminum/Silver&img=http://shopping.phinf.naver.net/main_8205252/8205252402.jpg HTTP/1.1\" 200 72\n",
      "10.0.2.2 - - [21/Aug/2016 18:27:45] \"GET /classify?name=%EB%9D%BC%EC%9D%B4%ED%94%84%EC%8A%A4%ED%86%A0%EB%A6%AC%20MAXTEK%20%ED%9C%B4%EB%8C%80%EC%9A%A9%20USB%20%EC%B9%B4%EC%84%B8%ED%8A%B8%20%ED%85%8C%EC%9D%B4%ED%94%84%20%ED%94%8C%EB%A0%88%20%EC%95%84%EB%82%A0%EB%A1%9C%EA%B7%B8%20%EB%94%94%EC%A7%80%ED%83%88%20MP3%20%EC%B9%B4%EC%84%B8%ED%8A%B8%ED%85%8C%EC%9D%B4%ED%94%84%20%EB%B3%80%ED%99%98%20%EC%BB%A8%EB%B2%84%ED%84%B0&img=http://shopping.phinf.naver.net/main_7484684/7484684087.jpg HTTP/1.1\" 200 93\n"
     ]
    },
    {
     "name": "stdout",
     "output_type": "stream",
     "text": [
      "classify called\n",
      "classify called\n",
      "classify called\n",
      "classify called\n",
      "classify called\n",
      "classify called\n",
      "classify called\n",
      "classify called\n",
      "classify called\n",
      "classify called\n",
      "classify called\n",
      "classify called\n",
      "classify called\n",
      "classify called\n"
     ]
    },
    {
     "name": "stderr",
     "output_type": "stream",
     "text": [
      "10.0.2.2 - - [21/Aug/2016 18:27:45] \"GET /classify?name=[%EB%B0%94%EB%B3%B4%EC%82%AC%EB%9E%91]%20snap%20sights%20%EB%B0%A9%EC%88%98%20mp3%20%ED%94%8C%EB%A0%88%EC%9D%B4%EC%96%B4%20H2OMan,%20MP3,MP3%20%EA%B8%B0%ED%83%80,%20%EB%AC%B4%EB%A3%8C%EB%B0%B0%EC%86%A1&img=http://shopping.phinf.naver.net/main_8110627/8110627994.jpg HTTP/1.1\" 200 72\n",
      "10.0.2.2 - - [21/Aug/2016 18:27:45] \"GET /classify?name=[%EC%9C%A0%EB%8B%88%EB%A3%A9]%EC%8A%A4%EB%83%85%EC%82%AC%EC%9D%B4%ED%8A%B8%20snap%20sights%20%EB%B0%A9%EC%88%98%20mp3%20%ED%94%8C%EB%A0%88%EC%9D%B4%EC%96%B4%20H2O%20Man%E3%85%A3512%E3%85%A3%EB%AC%BC%EC%86%8D&img=http://shopping.phinf.naver.net/main_5778977/5778977251.jpg HTTP/1.1\" 200 72\n",
      "10.0.2.2 - - [21/Aug/2016 18:27:45] \"GET /classify?name=[5%%EC%A6%89%EC%8B%9C%ED%95%A0%EC%9D%B8%EC%BF%A0%ED%8F%B0]%EB%AE%A4%EC%A7%81%EC%84%BC%EB%93%9C%20(%ED%92%80%EC%84%B8%ED%8A%B8%EA%B5%AC%EC%84%B1)%20CNC100(2GB%EB%82%B4%EC%9E%A5)+USB%EC%96%B4%ED%83%AD%ED%84%B0+%EC%8B%A0%ED%98%95%EA%B1%B0%EC%B9%98%EB%8C%80%202GB%EB%82%B4%EC%9E%A5%20%EB%AE%A4%EC%A7%81%EC%84%BC%EB%93%9C%20CNC100%20%EC%84%B8%ED%8A%B8%EC%83%81%ED%92%88&img=http://shopping.phinf.naver.net/main_7859896/7859896033.1.jpg HTTP/1.1\" 200 99\n",
      "10.0.2.2 - - [21/Aug/2016 18:27:45] \"GET /classify?name=%EC%86%8C%EB%8B%88%20NW%20F880%2016GB&img=http://shopping.phinf.naver.net/main_7190045/7190045152.20131010112250.jpg HTTP/1.1\" 200 72\n",
      "10.0.2.2 - - [21/Aug/2016 18:27:45] \"GET /classify?name=[%ED%95%B4%EC%99%B8]%20MP3%20Battery%20For%20SONY%20NW-S710,%20NWZ-S600,%20NWZ-S600F,%20NWZ-S610,%20NWZ-S615,%20NWZ-S615F,%20NWZ-S616,%20NWZ&img=http://shopping.phinf.naver.net/main_8327119/8327119391.jpg HTTP/1.1\" 200 72\n",
      "10.0.2.2 - - [21/Aug/2016 18:27:45] \"GET /classify?name=[%ED%95%B4%EC%99%B8]Sony%20Walkman%20NW-ZX1%20128GB%20MP3%20Player%20Hi-Res&img=http://shopping.phinf.naver.net/main_8075587/8075587883.jpg HTTP/1.1\" 200 72\n",
      "10.0.2.2 - - [21/Aug/2016 18:27:45] \"GET /classify?name=[%ED%95%B4%EC%99%B8]%EB%B2%8C%EB%A3%AC%20%EC%88%8D%20%ED%95%98%ED%8A%B8%20%EB%9E%A9%20%EC%83%9D%EC%9D%BC%20%EB%B2%8C%EB%A3%AC%20%EA%B8%B0%ED%94%84%ED%8A%B8[1%EC%84%B8%20%EB%B2%8C%EB%A3%AC%20%EB%B6%80%EC%BC%80%ED%8D%BC%EC%8A%A4%ED%8A%B8%20%EC%83%9D%EC%9D%BC%20%ED%98%B8%EB%B9%B5%EB%A7%A8]%20bb062&img=http://shopping.phinf.naver.net/main_8395330/8395330307.jpg HTTP/1.1\" 200 105\n",
      "10.0.2.2 - - [21/Aug/2016 18:27:45] \"GET /classify?name=[%ED%95%B4%EC%99%B8]Speck%20Products%20SPK-A0127%20PixelSkin%20Silicone%20Case%20for%20iPod%20touch%204G%20Purple&img=http://shopping.phinf.naver.net/main_8216699/8216699806.jpg HTTP/1.1\" 200 72\n",
      "10.0.2.2 - - [21/Aug/2016 18:27:45] \"GET /classify?name=[5%%EC%A6%89%EC%8B%9C%ED%95%A0%EC%9D%B8%EC%BF%A0%ED%8F%B0][TDK]%20%ED%8B%B0%EB%94%94%EC%BC%80%EC%9D%B4%20TDK%20LEC-300%20%EC%B4%88%EA%B2%BD%EB%9F%89%20%EC%BB%A4%EB%84%90%ED%98%95%EC%9D%B4%EC%96%B4%ED%8F%B0&img=http://shopping.phinf.naver.net/main_8409394/8409394563.jpg HTTP/1.1\" 200 93\n",
      "10.0.2.2 - - [21/Aug/2016 18:27:45] \"GET /classify?name=[%ED%95%B4%EC%99%B8]%EB%B0%98%EB%8B%A4%EC%9D%B4%20TAMAGOTCHI%204U%20Neck%20Strap%20%EB%B8%94%EB%A3%A8%20%ED%8C%9D%EC%8A%A4%20%ED%83%80%EC%9D%BC%20(%EB%8B%A4%EB%A7%88%EA%B3%A0%EC%B0%8C%204U%20%EB%84%A5%EC%8A%A4%20%ED%8A%B8%EB%9E%A9(trap)%20%EB%B8%94%EB%A3%A8%20%ED%8C%9D%EC%8A%A4%20%ED%83%80%EC%9D%BC)&img=http://shopping.phinf.naver.net/main_8433854/8433854547.jpg HTTP/1.1\" 200 111\n",
      "10.0.2.2 - - [21/Aug/2016 18:27:45] \"GET /classify?name=[%ED%95%B4%EC%99%B8]Satechi%20[NY]%EA%B0%A4%EB%9F%AD%EC%8B%9C%20%EC%95%84%EC%9D%B4%ED%8F%B0%20Satechi%20iFit-1%20Portable%20Rechargeable%20Speaker%20Stand%20for%20Smartphones:%20iPhone%206&img=http://shopping.phinf.naver.net/main_8278738/8278738806.1.jpg HTTP/1.1\" 200 72\n",
      "10.0.2.2 - - [21/Aug/2016 18:27:45] \"GET /classify?name=[%ED%95%B4%EC%99%B8]Zing%20Revolution%20Taylor%20Swift%20Premium%20Vinyl%20Adhesive%20Skin%20for%20iPod%20Touch%205,%20Fearless,%20MS-TS10198[&img=http://shopping.phinf.naver.net/main_8261993/8261993292.jpg HTTP/1.1\" 200 72\n",
      "10.0.2.2 - - [21/Aug/2016 18:27:45] \"GET /classify?name=[%ED%95%B4%EC%99%B8][%ED%8F%B4%EC%97%90%EB%94%94%ED%8A%B8]%20%ED%95%B4%EC%99%B8%20%EC%87%BC%ED%95%91%20/%20[Crocodile%20Creek]Kid%5Es%20Backpack%20-%20Crocodile%20Creek%20Padded%20Back%20Pack%20(Rocket)/45117&img=http://shopping.phinf.naver.net/main_8351533/8351533115.jpg HTTP/1.1\" 200 130\n",
      "10.0.2.2 - - [21/Aug/2016 18:27:45] \"GET /classify?name=%EA%B0%A4%EB%9F%AD%EC%8B%9CS4%20%EA%B0%95%ED%99%94%EC%9C%A0%EB%A6%AC%ED%95%84%EB%A6%84&img=http://shopping.phinf.naver.net/main_8272882/8272882147.jpg HTTP/1.1\" 200 141\n"
     ]
    },
    {
     "name": "stdout",
     "output_type": "stream",
     "text": [
      "classify called\n",
      "classify called\n",
      "classify called\n",
      "classify called\n",
      "classify called\n",
      "classify called\n",
      "classify called\n",
      "classify called\n",
      "classify called\n",
      "classify called\n",
      "classify called\n",
      "classify called\n",
      "classify called\n",
      "classify called\n",
      "classify called\n"
     ]
    },
    {
     "name": "stderr",
     "output_type": "stream",
     "text": [
      "10.0.2.2 - - [21/Aug/2016 18:27:45] \"GET /classify?name=%EC%8A%A4%EB%A7%88%ED%8A%B8%ED%8F%B0%20%EC%95%94%EB%B0%B4%EB%93%9C%20%EB%B0%98%EC%82%AC%EC%B2%B4%EC%B2%98%EB%A6%AC(%EC%82%AC%EC%9D%B4%EC%A6%88%EC%84%A0%ED%83%9D)[%EC%A2%8B%EC%9D%80%EC%A0%9C%ED%92%88%20%EC%A0%95%EC%84%B1%EB%B0%B0%EC%86%A1]&img=http://shopping.phinf.naver.net/main_8280159/8280159389.jpg HTTP/1.1\" 200 99\n",
      "10.0.2.2 - - [21/Aug/2016 18:27:45] \"GET /classify?name=%EA%B7%B8%EB%9E%98%ED%94%BD%ED%95%98%EB%93%9C%EC%BC%80%EC%9D%B4%EC%8A%A4%EB%9D%BC%EC%8A%A4%ED%8A%B8%ED%8C%90%ED%83%80%EC%A7%80%EA%B0%A4%EB%9F%AD%EC%8B%9CS4&img=http://shopping.phinf.naver.net/main_8277109/8277109736.jpg HTTP/1.1\" 200 87\n",
      "10.0.2.2 - - [21/Aug/2016 18:27:45] \"GET /classify?name=J2%20%EC%97%90%EC%9D%B4%ED%8A%B8%EB%A6%AC%20ATREE%20MP4P%20%EC%A0%84%EC%9A%A9%202.4%EC%9D%B8%EC%B9%98%20%ED%88%AC?&img=http://shopping.phinf.naver.net/main_8280740/8280740355.jpg HTTP/1.1\" 200 100\n",
      "10.0.2.2 - - [21/Aug/2016 18:27:45] \"GET /classify?name=DC25%20X20%20%ED%95%9C%EB%88%84%EB%A6%AC%EB%B9%84%EC%A6%88%20NURIAN%20%EB%88%84%EB%A6%AC%EC%95%88%20%EC%A0%84%EC%9A%A9%204.1%EC%9D%B8%EC%B9%98%20%EC%A0%84&img=http://shopping.phinf.naver.net/main_8270221/8270221321.jpg HTTP/1.1\" 200 81\n",
      "10.0.2.2 - - [21/Aug/2016 18:27:45] \"GET /classify?name=%EC%8A%A4%ED%85%8C%EB%A0%88%EC%98%A4%EB%B6%84%EB%B0%B0%EC%BC%80%EC%9D%B4%EB%B8%94%20%EB%9D%BC%EC%9D%B4%ED%8A%B8%EC%BB%B4%20%EC%BD%A9%EC%8A%A4%ED%86%A0%EC%96%B4&img=http://shopping.phinf.naver.net/main_8277590/8277590356.jpg HTTP/1.1\" 200 107\n",
      "10.0.2.2 - - [21/Aug/2016 18:27:45] \"GET /classify?name=DOXX%20DX-100%20%EC%8A%A4%ED%85%8C%EB%A0%88%EC%98%A4%20%EC%8A%A4%EB%A7%88%ED%8A%B8%ED%8F%B0%EC%9D%B4%EC%96%B4%ED%8F%B0%20[W116987]&img=http://shopping.phinf.naver.net/main_8276856/8276856433.jpg HTTP/1.1\" 200 107\n",
      "10.0.2.2 - - [21/Aug/2016 18:27:45] \"GET /classify?name=7000%EC%BA%90%EB%8B%88%EB%A9%80%EC%97%90%EB%B0%94%EC%9D%B4%EC%96%B4%ED%8F%B0%20[AJB9874]&img=http://shopping.phinf.naver.net/main_8274181/8274181755.jpg HTTP/1.1\" 200 87\n",
      "10.0.2.2 - - [21/Aug/2016 18:27:45] \"GET /classify?name=%ED%97%AC%EB%A1%9C%ED%82%A4%ED%8B%B0%20%ED%9A%8C%EC%A0%84%EC%8B%9D%20%EC%8A%A4%EB%A7%88%ED%8A%B8%ED%8F%B0%EA%B1%B0%EC%B9%98%EB%8C%80%20%EC%9D%B4%EC%96%B4%ED%8F%B0%EC%A4%84%EA%B0%90%EA%B0%9C%EA%B2%B8%EC%9A%A9%20[OFD4412]&img=http://shopping.phinf.naver.net/main_8265202/8265202468.jpg HTTP/1.1\" 200 80\n",
      "10.0.2.2 - - [21/Aug/2016 18:27:45] \"GET /classify?name=%EC%B6%A9%EC%A0%84%EC%9A%A9%20%EB%B0%B0%ED%84%B0%EB%A6%AC/BL-5C/1200mm/%EB%8C%80%EC%9A%A9%EB%9F%89/A-109/&img=http://shopping.phinf.naver.net/main_8280542/8280542483.jpg HTTP/1.1\" 200 100\n",
      "10.0.2.2 - - [21/Aug/2016 18:27:45] \"GET /classify?name=PB%E6%AD%A3%E5%93%81%20%20%EC%95%88%EC%A0%84%EC%9D%B8%EC%A6%9D%ED%9A%8D%EB%93%9D%20%EB%86%92%EC%9D%80%ED%98%B8%ED%99%98%EC%84%B1%20%EC%95%84?&img=http://shopping.phinf.naver.net/main_8279947/8279947474.jpg HTTP/1.1\" 200 87\n",
      "10.0.2.2 - - [21/Aug/2016 18:27:45] \"GET /classify?name=DC25%20%ED%81%AC%EB%A6%B0%EA%B0%80%EC%9D%B4%201%ED%9A%8C%EC%9A%A9%20%EC%95%A1%EC%A0%95%20%EC%84%B8%EC%A0%95%EC%95%A1%205ml%20/%20LCD%20PMP%20DMB&img=http://shopping.phinf.naver.net/main_8270200/8270200894.jpg HTTP/1.1\" 200 72\n",
      "10.0.2.2 - - [21/Aug/2016 18:27:45] \"GET /classify?name=DC25%20PM81-N1%20%EC%97%98%EC%A7%80%EC%A0%84%EC%9E%90%20LG%EC%A0%84%EC%9E%90%20%EC%A0%84%EC%9A%A9%203.5%EC%9D%B8%EC%B9%98%20%ED%88%AC%EB%AA%85%20%EC%95%A1&img=http://shopping.phinf.naver.net/main_8270204/8270204569.jpg HTTP/1.1\" 200 71\n",
      "10.0.2.2 - - [21/Aug/2016 18:27:45] \"GET /classify?name=%ED%97%A4%EB%93%9C%ED%8F%B0%EC%97%B0%EC%9E%A5%EC%84%A0%20BEAT%20%EC%BD%A9%EC%8A%A4%ED%86%A0%EC%96%B4&img=http://shopping.phinf.naver.net/main_8268243/8268243257.jpg HTTP/1.1\" 200 91\n",
      "10.0.2.2 - - [21/Aug/2016 18:27:45] \"GET /classify?name=%EB%AC%B4%EB%A3%8C%EB%B0%B0%EC%86%A1.%20%EC%95%84%EC%9D%B4%EC%8A%A4%ED%85%8C%EC%9D%B4%EC%85%98%20T9%20%ED%81%AC%EB%A6%AC%EC%8A%A4%ED%83%88%20%ED%81%B4%EB%A6%AC%EC%96%B4&img=http://shopping.phinf.naver.net/main_8255222/8255222536.jpg HTTP/1.1\" 200 72\n",
      "10.0.2.2 - - [21/Aug/2016 18:27:45] \"GET /classify?name=(23A)%20%EC%95%8C%EC%B9%B4%EB%9D%BC%EC%9D%B8%EA%B1%B4%EC%A0%84%EC%A7%80/%EC%95%8C%EC%B9%B4%EB%9D%BC%EC%9D%B8%20%EB%B0%B0%ED%84%B0?&img=http://shopping.phinf.naver.net/main_8274360/8274360509.jpg HTTP/1.1\" 200 100\n"
     ]
    },
    {
     "name": "stdout",
     "output_type": "stream",
     "text": [
      "classify called\n",
      "classify called\n",
      "classify called\n",
      "classify called\n",
      "classify called\n",
      "classify called\n",
      "classify called\n",
      "classify called\n",
      "classify called\n",
      "classify called\n",
      "classify called\n",
      "classify called\n",
      "classify called\n",
      "classify called\n",
      "classify called\n"
     ]
    },
    {
     "name": "stderr",
     "output_type": "stream",
     "text": [
      "10.0.2.2 - - [21/Aug/2016 18:27:45] \"GET /classify?name=%EA%B0%A4%EB%9F%AD%EC%8B%9C%EB%85%B8%ED%8A%B8%EC%95%A1%EC%A0%95%EB%B3%B4%ED%98%B8%ED%95%84%EB%A6%84%202%EC%9E%A5%EC%84%B8%ED%8A%B8&img=http://shopping.phinf.naver.net/main_8270195/8270195966.jpg HTTP/1.1\" 200 87\n",
      "10.0.2.2 - - [21/Aug/2016 18:27:45] \"GET /classify?name=%EC%82%BC%EC%84%B1%EC%A0%95%ED%92%88%20%EA%B0%A4%EB%9F%AD%EC%8B%9C%20S4%20%EB%85%B8%ED%8A%B83%20%EC%B9%BC%EA%B5%AD%EC%88%98%20%ED%95%B8%EC%A6%88%ED%94%84%EB%A6%AC%20%EC%9D%B4%EC%96%B4%ED%8F%B0%20[OFD4410]&img=http://shopping.phinf.naver.net/main_8278058/8278058924.jpg HTTP/1.1\" 200 68\n",
      "10.0.2.2 - - [21/Aug/2016 18:27:45] \"GET /classify?name=%ED%94%84%EB%A6%AC%EB%AF%B8%EC%97%84%EC%BC%80%EC%9D%B4%EB%B8%94%20%EC%8B%AC%ED%94%8C%EC%9D%B8%EC%82%AC%EC%9D%B4%EB%93%9C%20%EC%BD%A9%EC%8A%A4%ED%86%A0%EC%96%B4&img=http://shopping.phinf.naver.net/main_8277013/8277013729.jpg HTTP/1.1\" 200 91\n",
      "10.0.2.2 - - [21/Aug/2016 18:27:45] \"GET /classify?name=[%ED%9E%90%EB%A7%81%EC%89%B4%EB%93%9C]%EB%A0%88%EB%85%B8%EB%B2%84%20%EC%94%BD%ED%81%AC%ED%8C%A8%EB%93%9C%20X220%20AFP%20%EC%98%AC%EB%A0%88%ED%8F%AC%EB%B9%85%20%EC%95%A1%EC%A0%95%EB%B3%B4%ED%98%B8%ED%95%84%EB%A6%84(HS150092)&img=http://shopping.phinf.naver.net/main_8257848/8257848673.jpg HTTP/1.1\" 200 134\n",
      "10.0.2.2 - - [21/Aug/2016 18:27:45] \"GET /classify?name=SIMPLE%20%20%EC%BD%94%EC%9B%90%20S9%20%EC%A0%84%EC%9A%A9%20800mA%20%EC%B4%88%EA%B8%89%EC%86%8D%20%EC%B6%A9%EC%A0%84?&img=http://shopping.phinf.naver.net/main_8283377/8283377927.jpg HTTP/1.1\" 200 100\n",
      "10.0.2.2 - - [21/Aug/2016 18:27:45] \"GET /classify?name=[%ED%95%B4%EC%99%B8]%EB%A9%94%EC%9D%B4%EC%8B%9C%EC%8A%A4%EC%BD%94%EB%A6%AC%EC%95%84/Agent%2018%20Agent18%20ClearShield%20Hard%20Shell%20Case%20for%20iPod%20touch%202G,%203G%20Clear/Agent%2018/300459&img=http://shopping.phinf.naver.net/main_8281910/8281910748.jpg HTTP/1.1\" 200 72\n",
      "10.0.2.2 - - [21/Aug/2016 18:27:45] \"GET /classify?name=[%ED%95%B4%EC%99%B8]%EB%A9%94%EC%9D%B4%EC%8B%9C%EC%8A%A4%EC%BD%94%EB%A6%AC%EC%95%84/EForCity%20eForCity%20Snap-On%20Rubber%20Coated%20Case%20for%20iPod%20touch%202G/3G%20Colorful%20Strips/EForCi&img=http://shopping.phinf.naver.net/main_8280368/8280368798.jpg HTTP/1.1\" 200 72\n",
      "10.0.2.2 - - [21/Aug/2016 18:27:45] \"GET /classify?name=[%ED%95%B4%EC%99%B8]%EB%A9%94%EC%9D%B4%EC%8B%9C%EC%8A%A4%EC%BD%94%EB%A6%AC%EC%95%84/SiliSkins%20Siliskin%20Ipod%20Nano%20w/%20Vi.deo%20Silicone%20Case/SiliSkins/30066246/100%%EC%A0%95%ED%92%88/%ED%95%B4%EC%99%B8%EA%B5%AC%EB%A7%A4%EB%8C%80%ED%96%89/Ma&img=http://shopping.phinf.naver.net/main_8276624/8276624987.jpg HTTP/1.1\" 200 72\n",
      "10.0.2.2 - - [21/Aug/2016 18:27:45] \"GET /classify?name=[%ED%95%B4%EC%99%B8]%EB%A9%94%EC%9D%B4%EC%8B%9C%EC%8A%A4%EC%BD%94%EB%A6%AC%EC%95%84/Gamefacez%20Missouri%20iPod%20Classic%20Case/Gamefacez/30065355/100%%EC%A0%95%ED%92%88/%ED%95%B4%EC%99%B8%EA%B5%AC%EB%A7%A4%EB%8C%80%ED%96%89/MacysKorea&img=http://shopping.phinf.naver.net/main_8276571/8276571793.jpg HTTP/1.1\" 200 124\n",
      "10.0.2.2 - - [21/Aug/2016 18:27:45] \"GET /classify?name=[%ED%95%B4%EC%99%B8]%EB%A9%94%EC%9D%B4%EC%8B%9C%EC%8A%A4%EC%BD%94%EB%A6%AC%EC%95%84/JUJEO%20Butterfly%20Pattern%20TPU%20Case%20for%20iPod%20touch%205/JUJEO/30087367/100%%EC%A0%95%ED%92%88/%ED%95%B4%EC%99%B8%EA%B5%AC%EB%A7%A4%EB%8C%80%ED%96%89/MacysKore&img=http://shopping.phinf.naver.net/main_8281844/8281844021.jpg HTTP/1.1\" 200 72\n",
      "10.0.2.2 - - [21/Aug/2016 18:27:45] \"GET /classify?name=[%ED%95%B4%EC%99%B8]%EB%A9%94%EC%9D%B4%EC%8B%9C%EC%8A%A4%EC%BD%94%EB%A6%AC%EC%95%84/Aimo%20Wireless%20IPODTO5PCLMT100%20Durable%20Rubberized%20Ie%20Case%20for%20iPod%20Touch%205%20-%20Retail%20Packa&img=http://shopping.phinf.naver.net/main_8281876/8281876130.jpg HTTP/1.1\" 200 72\n",
      "10.0.2.2 - - [21/Aug/2016 18:27:45] \"GET /classify?name=[%ED%95%B4%EC%99%B8]%EB%A9%94%EC%9D%B4%EC%8B%9C%EC%8A%A4%EC%BD%94%EB%A6%AC%EC%95%84/MyBat%20MYBAT%20Unique%20Diamante%20Protective%20Case%20for%20iPod%20touch%204%20Leopard%20Skin/Camel/MyBat/30&img=http://shopping.phinf.naver.net/main_8280325/8280325446.jpg HTTP/1.1\" 200 72\n",
      "10.0.2.2 - - [21/Aug/2016 18:27:45] \"GET /classify?name=[%ED%95%B4%EC%99%B8]%EB%A9%94%EC%9D%B4%EC%8B%9C%EC%8A%A4%EC%BD%94%EB%A6%AC%EC%95%84/MiniSuit%20Pink%20iTouch%204%20Cases%20-%20Comatible%20with%20iPod%20Touch%204th%20Generation%208gb%2016gb%2032gb%2064&img=http://shopping.phinf.naver.net/main_8280425/8280425431.jpg HTTP/1.1\" 200 90\n",
      "10.0.2.2 - - [21/Aug/2016 18:27:45] \"GET /classify?name=Rowlock%20BH-M3%20%EC%B4%88%EA%B2%BD%EB%9F%89%20%EB%B0%A9%EC%8A%B5%20%EB%B8%94%EB%A3%A8%ED%88%AC%EC%8A%A4%20%EC%9D%B4%EC%96%B4%ED%8F%B0&img=http://shopping.phinf.naver.net/main_8283642/8283642040.jpg HTTP/1.1\" 200 72\n",
      "10.0.2.2 - - [21/Aug/2016 18:27:45] \"GET /classify?name=[%ED%95%B4%EC%99%B8]%EB%A9%94%EC%9D%B4%EC%8B%9C%EC%8A%A4%EC%BD%94%EB%A6%AC%EC%95%84/Skinit%20Protective%20Skin%20Fits%20Ipod%20Classic%206G%20University%20of%20Washington/Skinit/30090281/100&img=http://shopping.phinf.naver.net/main_8281925/8281925399.jpg HTTP/1.1\" 200 124\n"
     ]
    },
    {
     "name": "stdout",
     "output_type": "stream",
     "text": [
      "classify called\n",
      "classify called\n",
      "classify called\n",
      "classify called\n",
      "classify called\n",
      "classify called\n",
      "classify called\n",
      "classify called\n",
      "classify called\n",
      "classify called\n",
      "classify called\n",
      "classify called\n",
      "classify called\n",
      "classify called\n"
     ]
    },
    {
     "name": "stderr",
     "output_type": "stream",
     "text": [
      "10.0.2.2 - - [21/Aug/2016 18:27:45] \"GET /classify?name=[%ED%95%B4%EC%99%B8]%EB%A9%94%EC%9D%B4%EC%8B%9C%EC%8A%A4%EC%BD%94%EB%A6%AC%EC%95%84/Skinit%20Protective%20Skin%20for%20iPod%20Nano%204G%20NFL%20Houston%20Texans%20Logo/Skinit/30087435/100%%EC%A0%95%ED%92%88/%ED%95%B4&img=http://shopping.phinf.naver.net/main_8281898/8281898233.jpg HTTP/1.1\" 200 72\n",
      "10.0.2.2 - - [21/Aug/2016 18:27:45] \"GET /classify?name=[%ED%95%B4%EC%99%B8]%EB%A9%94%EC%9D%B4%EC%8B%9C%EC%8A%A4%EC%BD%94%EB%A6%AC%EC%95%84/Skinit%20Protective%20Skin%20Fits%20Ipod%20Classic%206G%20University%20of%20Washington%20W%20Logo/Skinit/30087&img=http://shopping.phinf.naver.net/main_8281832/8281832875.jpg HTTP/1.1\" 200 124\n",
      "10.0.2.2 - - [21/Aug/2016 18:27:45] \"GET /classify?name=[Madessou]%20%ED%8D%BC%ED%93%B8%20%ED%8C%A8%ED%82%A4%EC%A7%80%EB%9D%BC%EC%9D%B8%20%EC%95%84%EC%9D%B4%ED%8F%B05/5S%20%EC%95%84%EC%9D%B4%ED%8F%B06%20%EC%95%84%EC%9D%B4%ED%8F%B06%ED%94%8C%EB%9F%AC%EC%8A%A4%20%EA%B0%A4%EB%9F%AD%EC%8B%9CS4%20%EA%B0%A4%EB%9F%AD%EC%8B%9CS5%20%EA%B0%A4%EB%9F%AD%EC%8B%9C%EB%85%B8%ED%8A%B82%20%EA%B0%A4%EB%9F%AD%EC%8B%9C%EB%85%B8%ED%8A%B83%20%EA%B0%A4%EB%9F%AD%EC%8B%9C%EB%85%B8%ED%8A%B84%20%ED%81%90%EB%B9%85%EC%BC%80%EC%9D%B4%EC%8A%A4,%ED%95%B8%EB%93%9C%EB%A9%94%EC%9D%B4%EB%93%9C%EC%BC%80%EC%9D%B4%EC%8A%A4,%EC%8F%98%EC%9C%A0,%ED%95%B8%EB%93%9C%ED%8F%B0%EC%BC%80%EC%9D%B4%EC%8A%A4,%EC%97%AC&img=http://shopping.phinf.naver.net/main_7853013/7853013504.jpg HTTP/1.1\" 200 141\n",
      "10.0.2.2 - - [21/Aug/2016 18:27:45] \"GET /classify?name=%EB%B0%94%EB%B3%B4%EC%82%AC%EB%9E%91[%EB%B9%84%EC%98%A4%EB%B9%84]%EC%8B%9C%EB%A6%AC%EC%9A%B0%EC%8A%A4%20%EC%95%84%EC%9D%B4%ED%8F%B04S%20%EB%8B%A4%EC%9D%B4%EC%96%B4%EB%A6%AC%20%EC%BC%80%EC%9D%B4%EC%8A%A4&img=http://shopping.phinf.naver.net/main_7949195/7949195700.jpg HTTP/1.1\" 200 104\n",
      "10.0.2.2 - - [21/Aug/2016 18:27:45] \"GET /classify?name=[BC%EC%B9%B4%EB%93%9C5%%ED%95%A0%EC%9D%B8][%EB%B0%94%EB%B3%B4%EC%82%AC%EB%9E%91]M%20SIMPLE%20%EB%B2%94%ED%8D%BC%EC%BC%80%EC%9D%B4%EC%8A%A4-%EC%98%B5%ED%8B%B0%EB%A8%B8%EC%8A%A4G%ED%94%84%EB%A1%9C2(F350)&img=http://shopping.phinf.naver.net/main_7755613/7755613265.1.jpg HTTP/1.1\" 200 104\n",
      "10.0.2.2 - - [21/Aug/2016 18:27:45] \"GET /classify?name=[BC%EC%B9%B4%EB%93%9C5%%ED%95%A0%EC%9D%B8][%EB%B0%94%EB%B3%B4%EC%82%AC%EB%9E%91]%EB%AA%AC%EC%8A%A4%ED%8D%BC%20X%20%EC%A7%80%EC%9D%B8%EC%94%A8%20%EA%B7%80%EC%9A%94%EB%AF%B8%20%EA%B0%A4%EB%9F%AD%EC%8B%9C%EB%85%B8%ED%8A%B81%20%EC%BC%80%EC%9D%B4%EC%8A%A4%20(%EB%B3%B4%ED%98%B8%ED%95%84%EB%A6%84%ED%8F%AC%ED%95%A8)&img=http://shopping.phinf.naver.net/main_7832133/7832133276.1.jpg HTTP/1.1\" 200 104\n",
      "10.0.2.2 - - [21/Aug/2016 18:27:45] \"GET /classify?name=[BC%EC%B9%B4%EB%93%9C5%%ED%95%A0%EC%9D%B8][%EB%B0%94%EB%B3%B4%EC%82%AC%EB%9E%91]%ED%8E%80%ED%8C%A8%ED%84%B4%EC%BC%80%EC%9D%B4%EC%8A%A4%20%EB%82%98%EC%9D%B4%EC%8A%A4%ED%88%AC%EB%B0%8B%EC%B8%84%20(%EA%B0%A4%EB%9F%AD%EC%8B%9C%EB%85%B8%ED%8A%B82)&img=http://shopping.phinf.naver.net/main_7569599/7569599069.11.jpg HTTP/1.1\" 200 104\n",
      "10.0.2.2 - - [21/Aug/2016 18:27:45] \"GET /classify?name=[Madessou]%20%EC%98%A4%EB%B8%94%EB%A6%AC%EC%A0%9C%20%ED%8C%A8%ED%82%A4%EC%A7%80%EB%9D%BC%EC%9D%B8%20%EC%95%84%EC%9D%B4%ED%8F%B05/5S%20%EC%95%84%EC%9D%B4%ED%8F%B06%20%EC%95%84%EC%9D%B4%ED%8F%B06%ED%94%8C%EB%9F%AC%EC%8A%A4%20%EA%B0%A4%EB%9F%AD%EC%8B%9CS4%20%EA%B0%A4%EB%9F%AD%EC%8B%9CS5%20%EA%B0%A4%EB%9F%AD%EC%8B%9C%EB%85%B8%ED%8A%B82%20%EA%B0%A4%EB%9F%AD%EC%8B%9C%EB%85%B8%ED%8A%B83%20%EA%B0%A4%EB%9F%AD%EC%8B%9C%EB%85%B8%ED%8A%B84%20%ED%81%90%EB%B9%85%EC%BC%80%EC%9D%B4%EC%8A%A4,%ED%95%B8%EB%93%9C%EB%A9%94%EC%9D%B4%EB%93%9C%EC%BC%80%EC%9D%B4%EC%8A%A4,%EC%8F%98%EC%9C%A0,%ED%95%B8%EB%93%9C%ED%8F%B0%EC%BC%80%EC%9D%B4%EC%8A%A4&img=http://shopping.phinf.naver.net/main_7853013/7853013485.jpg HTTP/1.1\" 200 141\n",
      "10.0.2.2 - - [21/Aug/2016 18:27:45] \"GET /classify?name=[Madessou]%20%EC%88%98%EC%A7%84%EB%8A%90%20%ED%8C%A8%ED%82%A4%EC%A7%80%EB%9D%BC%EC%9D%B8%20%EC%95%84%EC%9D%B4%ED%8F%B05/5S%20%EC%95%84%EC%9D%B4%ED%8F%B06%20%EC%95%84%EC%9D%B4%ED%8F%B06%ED%94%8C%EB%9F%AC%EC%8A%A4%20%EA%B0%A4%EB%9F%AD%EC%8B%9CS4%20%EA%B0%A4%EB%9F%AD%EC%8B%9CS5%20%EA%B0%A4%EB%9F%AD%EC%8B%9C%EB%85%B8%ED%8A%B82%20%EA%B0%A4%EB%9F%AD%EC%8B%9C%EB%85%B8%ED%8A%B83%20%EA%B0%A4%EB%9F%AD%EC%8B%9C%EB%85%B8%ED%8A%B84%20%ED%81%90%EB%B9%85%EC%BC%80%EC%9D%B4%EC%8A%A4,%ED%95%B8%EB%93%9C%EB%A9%94%EC%9D%B4%EB%93%9C%EC%BC%80%EC%9D%B4%EC%8A%A4,%EC%8F%98%EC%9C%A0,%ED%95%B8%EB%93%9C%ED%8F%B0%EC%BC%80%EC%9D%B4%EC%8A%A4,&img=http://shopping.phinf.naver.net/main_7853013/7853013492.jpg HTTP/1.1\" 200 141\n",
      "10.0.2.2 - - [21/Aug/2016 18:27:45] \"GET /classify?name=[%EB%94%94%EB%94%94%ED%8C%9D]%ED%81%AC%EB%A6%AC%EC%8A%A4%ED%83%88%EC%8A%A4%EC%BB%AC%20%EA%B0%A4%EB%9F%AD%EC%8B%9C%EB%85%B8%ED%8A%B83%20%ED%81%90%EB%B9%85%EC%BC%80%EC%9D%B4%EC%8A%A4&img=http://shopping.phinf.naver.net/main_7381955/7381955333.1.jpg HTTP/1.1\" 200 141\n",
      "10.0.2.2 - - [21/Aug/2016 18:27:45] \"GET /classify?name=VERUS%20%EA%B0%A4%EB%9F%AD%EC%8B%9C%ED%94%8C%EB%A0%88%EC%9D%B4%EC%96%B44.2%20%EB%8B%A4%EC%9D%B4%EC%96%B4%EB%A6%AC%20%EB%B9%84%EB%B9%84%EB%93%9C%20%EA%B0%80%EC%A3%BD%EC%BC%80%EC%9D%B4%EC%8A%A4/Galaxy%20Player4.2/MP%EC%BC%80%EC%9D%B4%EC%8A%A4&img=http://shopping.phinf.naver.net/main_8152471/8152471235.jpg HTTP/1.1\" 200 104\n",
      "10.0.2.2 - - [21/Aug/2016 18:27:45] \"GET /classify?name=%EB%B0%94%EB%B3%B4%EC%82%AC%EB%9E%91[%ED%8F%B0%ED%8A%B8%EB%A6%AC%20%ED%9E%90%EB%A7%81%EC%89%B4%EB%93%9C]%EC%9A%94%EA%B0%80%20%ED%83%80%EB%B8%94%EB%A0%9B%2010%20HD+%20%EB%B8%94%EB%A3%A8%EB%9D%BC%EC%9D%B4%ED%8A%B8%EC%B0%A8%EB%8B%A8%20%ED%95%84%EB%A6%84%201%EB%A7%A4+%ED%9B%84%EB%A9%B4%202%EB%A7%A4[%EB%AC%B4%EB%A3%8C%EB%B0%B0%EC%86%A1]&img=http://shopping.phinf.naver.net/main_7949379/7949379685.jpg HTTP/1.1\" 200 104\n",
      "10.0.2.2 - - [21/Aug/2016 18:27:45] \"GET /classify?name=%EB%B0%94%EB%B3%B4%EC%82%AC%EB%9E%91[%ED%82%A4%EC%8A%A4%EB%A7%A5]%EC%98%90%EB%A1%9C%EC%9A%B0%20%EB%8D%B0%EC%9D%B4%EC%A7%80%20%ED%94%8C%EB%9D%BC%EC%9B%8C%EC%BC%80%EC%9D%B4%EC%8A%A4(%EC%95%84%EC%9D%B4%ED%8F%B05S/5)[%EB%AC%B4%EB%A3%8C%EB%B0%B0%EC%86%A1]&img=http://shopping.phinf.naver.net/main_7949354/7949354819.jpg HTTP/1.1\" 200 104\n",
      "10.0.2.2 - - [21/Aug/2016 18:27:45] \"GET /classify?name=%EB%B0%94%EB%B3%B4%EC%82%AC%EB%9E%91[%ED%82%A4%EC%8A%A4%EB%A7%A5]%EC%98%A4%EB%A0%8C%EC%A7%80%20%ED%94%8C%EB%9D%BC%EC%9B%8C%20%ED%95%98%EB%93%9C%EC%BC%80%EC%9D%B4%EC%8A%A4(%EA%B0%A4%EB%9F%AD%EC%8B%9CS4)[%EB%AC%B4%EB%A3%8C%EB%B0%B0%EC%86%A1]&img=http://shopping.phinf.naver.net/main_7949359/7949359557.jpg HTTP/1.1\" 200 141\n"
     ]
    },
    {
     "name": "stdout",
     "output_type": "stream",
     "text": [
      "classify called\n",
      "classify called\n",
      "classify called\n",
      "classify called\n",
      "classify called\n",
      "classify called\n",
      "classify called\n",
      "classify called\n",
      "classify called\n",
      "classify called\n",
      "classify called\n",
      "classify called\n",
      "classify called\n",
      "classify called\n",
      "classify called\n",
      "classify called\n"
     ]
    },
    {
     "name": "stderr",
     "output_type": "stream",
     "text": [
      "10.0.2.2 - - [21/Aug/2016 18:27:45] \"GET /classify?name=%EB%B0%94%EB%B3%B4%EC%82%AC%EB%9E%91[%EC%8B%9C%EC%A6%88%ED%8C%9D]mipn4(4S)-135-%EC%97%AC%EC%9C%A0%EB%A1%9C%EC%9A%B4%20%EC%9D%BC%EC%83%814%20%EC%95%84%EC%9D%B4%ED%8F%B04(4S)%20%EB%8D%B0%EC%B9%BC&img=http://shopping.phinf.naver.net/main_7949398/7949398785.jpg HTTP/1.1\" 200 104\n",
      "10.0.2.2 - - [21/Aug/2016 18:27:45] \"GET /classify?name=%EB%B0%94%EB%B3%B4%EC%82%AC%EB%9E%91[%EC%9E%87%EC%B8%A0%EB%94%94%20%EC%8A%A4%EB%A7%88%ED%8A%B8]PHONEADD%20%EB%89%B4%ED%8C%8C%EC%8A%A4%ED%85%94%20%EB%8B%A4%EC%9D%B4%EC%96%B4%EB%A6%AC%20%EC%BC%80%EC%9D%B4%EC%8A%A4-%EC%98%B5%ED%8B%B0%EB%A8%B8%EC%8A%A4G2(F320)&img=http://shopping.phinf.naver.net/main_7949390/7949390213.jpg HTTP/1.1\" 200 104\n",
      "10.0.2.2 - - [21/Aug/2016 18:27:45] \"GET /classify?name=%EB%B0%94%EB%B3%B4%EC%82%AC%EB%9E%91[%ED%82%A4%EC%8A%A4%EB%A7%A5]%ED%94%84%EB%A6%AC%EB%AF%B8%EC%97%84%20%EB%A9%94%ED%83%88%20%EB%B2%94%ED%8D%BC%20%EB%B2%84%EC%A0%842%20%EC%BC%80%EC%9D%B4%EC%8A%A4(%EC%95%84%EC%9D%B4%ED%8F%B05S/5)[%EB%AC%B4%EB%A3%8C%EB%B0%B0%EC%86%A1]&img=http://shopping.phinf.naver.net/main_7949394/7949394690.jpg HTTP/1.1\" 200 104\n",
      "10.0.2.2 - - [21/Aug/2016 18:27:45] \"GET /classify?name=%EB%B0%94%EB%B3%B4%EC%82%AC%EB%9E%91[%ED%86%B5%ED%81%B0%EC%A3%BC%EB%A8%B8%EB%8B%88]Stitchflower%20%EC%8A%A4%ED%8B%B0%EC%B9%98%ED%94%8C%EB%9D%BC%EC%9B%8C%20%EC%9D%B4%EC%96%B4%EC%BA%A1&img=http://shopping.phinf.naver.net/main_7984179/7984179156.jpg HTTP/1.1\" 200 104\n",
      "10.0.2.2 - - [21/Aug/2016 18:27:46] \"GET /classify?name=[CJ%EC%95%8C%EB%9C%B0%ED%8F%B0/%EC%B4%88%ED%8A%B9%EA%B0%80%EB%AA%A8%EC%9D%8C][%EA%B3%B5%EC%A7%9C%ED%8F%B4%EB%8D%94%ED%8F%B0%20%EC%82%BC%EC%84%B1%20%EB%AF%B8%EB%8B%88%EB%A9%80%ED%8F%B4%EB%8D%94(SHW-A300K)][%EC%B5%9C%EC%8B%A0LTE][%EA%B0%A4%EB%9F%AD%EC%8B%9C%EB%85%B8%ED%8A%B83%EB%84%A4%EC%98%A4/%EC%98%B5%ED%8B%B0%EB%A8%B8%EC%8A%A4G2/G3%EB%B9%84%ED%8A%B8/%EC%98%B5[[%EA%B3%B5%EC%8B%9D%EB%8C%80%EB%A6%AC%EC%A0%90/%EB%A7%A4%EC%9B%94%EC%9A%94%EA%B8%88%ED%95%A0%EC%9D%B8/%EB%8B%A8%EB%A7%90%ED%95%A0%EC%9D%B8]]&img=http://shopping.phinf.naver.net/main_7880109/7880109642.jpg HTTP/1.1\" 200 67\n",
      "10.0.2.2 - - [21/Aug/2016 18:27:46] \"GET /classify?name=[CJ%ED%97%AC%EB%A1%9C%EB%AA%A8%EB%B0%94%EC%9D%BC%EA%B3%B5%EC%8B%9D%EA%B0%80%EC%9E%85%EC%84%BC%ED%84%B0]%20%EA%B0%A4%EB%9F%AD%EC%8B%9CS3(E210K)/HD%EC%95%84%EB%AA%B0%EB%A0%88%EB%93%9C/%EC%BF%BC%EB%93%9C%EC%BD%94%EC%96%B4/%EA%B0%80%EC%9E%85%EB%B9%84%E7%84%A1/%EC%9C%A0%EC%8B%AC%EB%B9%84%E7%84%A1/%EB%B6%80%EA%B0%80%E7%84%A1/%EC%B6%94%EA%B0%80%E7%84%A1&img=http://shopping.phinf.naver.net/main_7516109/7516109708.jpg HTTP/1.1\" 200 67\n",
      "10.0.2.2 - - [21/Aug/2016 18:27:46] \"GET /classify?name=[CJ%ED%97%AC%EB%A1%9C%EB%AA%A8%EB%B0%94%EC%9D%BC%EA%B3%B5%EC%8B%9D%EA%B0%80%EC%9E%85%EC%84%BC%ED%84%B0]%20%EA%B0%A4%EB%9F%AD%EC%8B%9C%EB%85%B8%ED%8A%B82(SHV-E250K)/HD%EB%8C%80%ED%99%94%EB%A9%B4/%EC%BF%BC%EB%93%9C%EC%BD%94%EC%96%B4/%EA%B0%80%EC%9E%85%EB%B9%84%E7%84%A1/%EC%9C%A0%EC%8B%AC%EB%B9%84%E7%84%A1/%EB%B6%80%EA%B0%80%E7%84%A1/%EC%B6%94%EA%B0%80%E7%84%A1&img=http://shopping.phinf.naver.net/main_7516108/7516108855.jpg HTTP/1.1\" 200 67\n",
      "10.0.2.2 - - [21/Aug/2016 18:27:46] \"GET /classify?name=[5%%EC%A6%89%EC%8B%9C%ED%95%A0%EC%9D%B8%EC%BF%A0%ED%8F%B0]%EC%95%8C%EB%9C%B0%ED%8F%B0/%ED%9A%A8%EB%8F%84%ED%8F%B0/%ED%95%99%EC%83%9D%ED%8F%B0/%EC%A0%80%EA%B0%80%ED%8F%B0/%EC%8A%A4%EB%A7%88%ED%8A%B8%ED%8F%B0/%ED%8F%B4%EB%8D%94%ED%8F%B0/%EC%B5%9C%EC%A0%80%EA%B0%80&img=http://shopping.phinf.naver.net/main_8208419/8208419286.jpg HTTP/1.1\" 200 67\n",
      "10.0.2.2 - - [21/Aug/2016 18:27:46] \"GET /classify?name=[%ED%95%B4%EC%99%B8]%EC%95%A1%EC%B6%94%EC%97%90%EC%9D%B4%ED%84%B0%203408324/Actuator%203408324&img=http://shopping.phinf.naver.net/main_8259838/8259838192.jpg HTTP/1.1\" 200 105\n",
      "10.0.2.2 - - [21/Aug/2016 18:27:46] \"GET /classify?name=%E2%98%85%EB%B2%88%ED%98%B8%EC%9D%B4%EB%8F%99%E2%98%85LTE%2030%EC%9A%94%EA%B8%88%EC%A0%9C/%EC%95%8C%EB%9C%B0%ED%8F%B0%20%EC%B6%94%EC%B2%9C!![%ED%95%98%EC%9D%B4%EB%A7%88%ED%8A%B8/%EC%9C%A0%EB%AA%A8%EB%B9%84]%ED%99%94%EC%9B%A8%EC%9D%B4%20x3%20[%EB%B2%88%ED%98%B8%EC%9D%B4%EB%8F%99/%ED%95%A0%EB%B6%80%EC%9B%90%EA%B8%88%200%EC%9B%90/%2024%EA%B0%9C%EC%9B%94%EC%95%BD%EC%A0%95/%2030%EC%9A%94%EA%B8%88%EC%A0%9C/%20%EB%B6%80%EA%B0%80%E7%84%A1/%20%EB%B0%B0%EC%86%A1%EB%B9%84%EB%AC%B4%EB%A3%8C][HW-H60-J1][%EC%98%A8%EB%9D%BC%EC%9D%B8%EC%84%9C%EC%8B%9D%EC%A7%80&img=http://shopping.phinf.naver.net/main_8072991/8072991916.jpg HTTP/1.1\" 200 67\n",
      "10.0.2.2 - - [21/Aug/2016 18:27:46] \"GET /classify?name=[%ED%95%B4%EC%99%B8]Actuator%20Asy&img=http://shopping.phinf.naver.net/main_8221424/8221424353.jpg HTTP/1.1\" 200 105\n",
      "10.0.2.2 - - [21/Aug/2016 18:27:46] \"GET /classify?name=G2%20(CJ%ED%97%AC%EB%A1%9C%EB%AA%A8%EB%B0%94%EC%9D%BC)[%EC%8B%A0%EA%B7%9C,32G]%20CJ%EC%95%8C%EB%9C%B0%ED%8F%B0/%EC%98%B5%ED%8B%B0%EB%A8%B8%EC%8A%A4%20G2(%ED%9D%B0%EC%83%89)/%EC%8B%A0%EA%B7%9C%EA%B0%80%EC%9E%85/%EC%9A%94%EA%B8%88%EC%A0%9C%EC%9E%90%EC%9C%A0%20%EB%A7%A4%EC%9B%94%EC%9A%94%EA%B8%88%ED%95%A0%EC%9D%B8/%EB%A7%A4%EC%9B%94%EB%8B%A8%EB%A7%90%ED%95%A0%EC%9D%B8&img=http://shopping.phinf.naver.net/main_8277761/8277761975.jpg HTTP/1.1\" 200 67\n",
      "10.0.2.2 - - [21/Aug/2016 18:27:46] \"GET /classify?name=LG%EB%AA%A8%EB%B0%94%EC%9D%BC%20CJ%ED%97%AC%EB%A1%9C%EB%AA%A8%EB%B0%94%EC%9D%BC/LG-F470K/%EC%95%8C%EB%9C%B0%ED%8F%B0/%EC%8A%A4%EB%A7%88%ED%8A%B8%ED%8F%B0/G3/%EB%B9%84%ED%8A%B8&img=http://shopping.phinf.naver.net/main_8209127/8209127761.jpg HTTP/1.1\" 200 67\n",
      "10.0.2.2 - - [21/Aug/2016 18:27:46] \"GET /classify?name=G%ED%94%84%EB%A1%9C2%20(CJ%ED%97%AC%EB%A1%9C%EB%AA%A8%EB%B0%94%EC%9D%BC)[%EB%B2%88%ED%98%B8%EC%9D%B4%EB%8F%99,32G]%20KT%EC%95%8C%EB%9C%B0%ED%8F%B0/G%ED%94%84%EB%A1%9C2(%EB%B8%94%EB%9E%99)/%EB%B2%88%ED%98%B8%EC%9D%B4%EB%8F%99/%EC%9A%94%EA%B8%88%EC%A0%9C%EC%9E%90%EC%9C%A0&img=http://shopping.phinf.naver.net/main_8277852/8277852308.jpg HTTP/1.1\" 200 67\n",
      "10.0.2.2 - - [21/Aug/2016 18:27:46] \"GET /classify?name=[5%%EC%A6%89%EC%8B%9C%ED%95%A0%EC%9D%B8%EC%BF%A0%ED%8F%B0]CJ%ED%97%AC%EB%A1%9C/%EB%B2%88%ED%98%B8%EC%9D%B4%EB%8F%99/%EC%98%B5%ED%8B%B0%EB%A8%B8%EC%8A%A4%EB%B7%B02/%ED%95%A0%EC%9B%900%EC%9B%90/%EA%B0%80%EC%9E%85%EC%9C%A0%EC%8B%AC%EB%A9%B4%EC%A0%9C&img=http://shopping.phinf.naver.net/main_8274702/8274702425.jpg HTTP/1.1\" 200 67\n",
      "10.0.2.2 - - [21/Aug/2016 18:27:46] \"GET /classify?name=[CJ%ED%97%AC%EB%A1%9C%EB%AA%A8%EB%B0%94%EC%9D%BC][%EB%B2%A0%EA%B0%80%EC%8B%9C%ED%81%AC%EB%A6%BF%EB%85%B8%ED%8A%B8][%EA%B8%B0%EA%B8%B0%EA%B0%92%200%EC%9B%90][%EC%A7%80%EC%9B%90%EA%B8%88%EC%B5%9C%EB%8C%80][%EB%B6%80%EA%B0%80%E7%84%A1%20%EA%B8%B0%EA%B8%B0%EB%B0%98%EB%82%A9%E7%84%A1][%EC%8A%A4%EB%A7%88%ED%8A%B8%ED%8F%B0%20%EC%95%8C%EB%9C%B0%ED%8F%B0][IM-A890K][%EB%B0%98%EA%B0%92%20%ED%86%B5%EC%8B%A0%EB%B9%84,%20%EB%8B%B9%EC%9D%BC%EB%B0%9C%EC%86%A1]&img=http://shopping.phinf.naver.net/main_8224800/8224800442.jpg HTTP/1.1\" 200 67\n"
     ]
    },
    {
     "name": "stdout",
     "output_type": "stream",
     "text": [
      "classify called\n",
      "classify called\n",
      "classify called\n",
      "classify called\n",
      "classify called\n",
      "classify called\n",
      "classify called\n",
      "classify called\n",
      "classify called\n",
      "classify called\n",
      "classify called\n",
      "classify called\n",
      "classify called\n",
      "classify called\n",
      "classify called\n",
      "classify called\n"
     ]
    },
    {
     "name": "stderr",
     "output_type": "stream",
     "text": [
      "10.0.2.2 - - [21/Aug/2016 18:27:46] \"GET /classify?name=[%ED%95%B4%EC%99%B8]%ED%98%BC%EB%8B%A4%20GX160%20%EC%97%94%EC%A7%84%205.5hp%20%EC%9A%B0%EC%88%98%ED%95%9C%20%EC%83%88%EB%A1%9C%EC%9A%B4%20%EB%93%A4%EC%96%B4%20%EC%82%B4%EB%A7%8C%ED%95%9C%20%EC%A1%B0%EC%A0%95%20%EA%B8%B0%ED%99%94%EA%B8%B0%20%EA%B8%B0%ED%99%94%EA%B8%B0%20%EA%B5%90%EC%B2%B4%EB%A5%BC%20DollarStore/DollarStore%20buyable%20Adjustable%20Carb&img=http://shopping.phinf.naver.net/main_8259837/8259837079.jpg HTTP/1.1\" 200 67\n",
      "10.0.2.2 - - [21/Aug/2016 18:27:46] \"GET /classify?name=[%ED%95%B4%EC%99%B8]%ED%98%BC%EB%8B%A4%20GX160%20%EC%97%94%EC%A7%84%205.5hp%20%ED%94%84%EB%A1%9C%EB%AA%A8%EC%85%98%20%ED%8C%90%EB%A7%A4%EC%97%90%20%EB%8C%80%ED%95%9C%20superble%20%EC%A1%B0%EC%A0%95%20%EA%B8%B0%ED%99%94%EA%B8%B0%20%EA%B8%B0%ED%99%94%EA%B8%B0%20%EA%B5%90%EC%B2%B4%EB%A5%BC%20dollarsale/dollarsale%20superble%20Adjustable&img=http://shopping.phinf.naver.net/main_8259839/8259839374.jpg HTTP/1.1\" 200 67\n",
      "10.0.2.2 - - [21/Aug/2016 18:27:46] \"GET /classify?name=%EC%82%BC%EC%84%B1%EC%A0%84%EC%9E%90%20cj%EB%B2%88%EC%9D%B4/%EC%A2%85%ED%95%A9%EB%AA%A8%EB%93%AC/%EC%B5%9C%EC%A0%80%EA%B0%80/3%EC%A2%85%EC%82%AC%EC%9D%80%ED%92%88&img=http://shopping.phinf.naver.net/main_8244050/8244050341.jpg HTTP/1.1\" 200 71\n",
      "10.0.2.2 - - [21/Aug/2016 18:27:46] \"GET /classify?name=CJ%ED%97%AC%EB%A1%9C%EB%AA%A8%EB%B0%94%EC%9D%BC%20%EC%95%84%EC%9D%B4%ED%8F%B05%2032G%20%EB%A6%AC%ED%8D%BC&img=http://shopping.phinf.naver.net/main_8117863/8117863731.jpg HTTP/1.1\" 200 67\n",
      "10.0.2.2 - - [21/Aug/2016 18:27:46] \"GET /classify?name=[%ED%95%B4%EC%99%B8]bidexpress%20%ED%98%BC%EB%8B%A4%20GX160%20%EC%97%94%EC%A7%84%205.5hp%20%ED%94%BC%ED%8A%B8%EB%8B%88%EC%8A%A4%EC%97%90%20%EB%8C%80%ED%95%9C%20%EC%82%AC%EB%9E%91%EC%8A%A4%EB%9F%AC%EC%9A%B4%20%EC%A1%B0%EC%A0%95%20%EA%B8%B0%ED%99%94%EA%B8%B0%20%EA%B8%B0%ED%99%94%EA%B8%B0%20%EA%B5%90%EC%B2%B4/bidexpress%20Lovely%20Adjustable%20Carb%20Carb&img=http://shopping.phinf.naver.net/main_8259839/8259839375.jpg HTTP/1.1\" 200 67\n",
      "10.0.2.2 - - [21/Aug/2016 18:27:46] \"GET /classify?name=[%ED%95%B4%EC%99%B8]%EC%83%88%EB%A1%9C%20%ED%98%BC%EB%8B%A4%20GX160%20%EC%97%94%EC%A7%84%205.5hp%EC%9D%98%20%EA%B2%BD%EC%9A%B0%20%ED%8A%B9%EB%B3%84%20%EC%A1%B0%EC%A0%95%20%EA%B8%B0%ED%99%94%EA%B8%B0%20%EA%B8%B0%ED%99%94%EA%B8%B0%20%EA%B5%90%EC%B2%B4%EB%A5%BC%20dollarine/dollarine%20Special%20Adjustable%20Carb%20Carbureto&img=http://shopping.phinf.naver.net/main_8259840/8259840861.jpg HTTP/1.1\" 200 67\n",
      "10.0.2.2 - - [21/Aug/2016 18:27:46] \"GET /classify?name=%EA%B0%A4%EB%9F%AD%EC%8B%9C%20Umobi/%EA%B0%A4%EB%9F%AD%EC%8B%9C%20%EC%A4%8C2/%EC%95%8C%EB%9C%B0%ED%8F%B0/%EA%B3%B5%EC%A7%9C%ED%8F%B0/%EB%B0%98%EA%B0%92%EC%9A%94%EA%B8%88/%EB%8B%B9%EC%9D%BC%EB%B0%9C%EC%86%A1%20SM-C115&img=http://shopping.phinf.naver.net/main_8161278/8161278892.jpg HTTP/1.1\" 200 67\n",
      "10.0.2.2 - - [21/Aug/2016 18:27:46] \"GET /classify?name=CJ%EC%95%8C%EB%9C%B0%ED%8F%B0/%EC%98%B5%ED%8B%B0%EB%A8%B8%EC%8A%A4%20%EB%B7%B03%20(%ED%9D%B0%EC%83%89)/%EB%B2%88%ED%98%B8%EC%9D%B4%EB%8F%99/%EC%9A%94%EA%B8%88%EC%A0%9C%EC%9E%90%EC%9C%A0&img=http://shopping.phinf.naver.net/main_8271347/8271347551.jpg HTTP/1.1\" 200 67\n",
      "10.0.2.2 - - [21/Aug/2016 18:27:46] \"GET /classify?name=[5%%EC%A6%89%EC%8B%9C%ED%95%A0%EC%9D%B8%EC%BF%A0%ED%8F%B0]CJ%ED%97%AC%EB%A1%9C%EB%AA%A8%EB%B0%94%EC%9D%BC/%EC%8B%A0%EA%B7%9C%EA%B0%80%EC%9E%85/%EC%A1%B0%EA%B1%B4%EC%97%86%EB%8A%94%20%EC%9C%A0%EC%8B%ACLTE/%EC%9C%A0%EC%8B%AC%EB%8B%A8%EB%8F%85%2050%%EB%B0%98%EA%B0%92%EC%9A%94%EA%B8%88%EC%A0%9C/%EA%B8%B0%EC%A1%B4%ED%8F%B0%EC%82%AC%EC%9A%A9&img=http://shopping.phinf.naver.net/main_8264205/8264205221.jpg HTTP/1.1\" 200 67\n",
      "10.0.2.2 - - [21/Aug/2016 18:27:46] \"GET /classify?name=[%ED%95%B4%EC%99%B8]%ED%98%BC%EB%8B%A4%20GX160%20%EC%97%94%EC%A7%84%205.5hp%20%EC%A7%81%EC%A0%91%20%ED%8C%90%EB%A7%A4%EB%A5%BCSaveTop%20%EC%83%88%EB%A1%9C%EC%9A%B4%20%EC%95%84%EC%9D%B4%EB%94%94%EC%96%B4%20%EC%A1%B0%EC%A0%95%20%EC%88%98%ED%99%94%EB%AC%BC%20%EA%B8%B0%ED%99%94%EA%B8%B0%20%EA%B5%90%EC%B2%B4/SaveTop%20New%20idea%20Adjustable%20Carb%20Carburet&img=http://shopping.phinf.naver.net/main_8259839/8259839360.jpg HTTP/1.1\" 200 67\n",
      "10.0.2.2 - - [21/Aug/2016 18:27:46] \"GET /classify?name=%EB%B8%8C%EB%A6%AC%EC%A6%88%ED%8F%B0%20%EC%83%88%EC%A0%9C%ED%92%88%20%ED%8F%B4%EB%8D%94%ED%8F%B0%20%EB%AC%B4%EC%95%BD%EC%A0%95%20SK%EC%95%8C%EB%9C%B0%EC%84%A0%EB%B6%88%ED%8F%B0&img=http://shopping.phinf.naver.net/main_8258661/8258661572.jpg HTTP/1.1\" 200 67\n",
      "10.0.2.2 - - [21/Aug/2016 18:27:46] \"GET /classify?name=[%ED%95%A0%EB%B6%80%EC%9B%90%EA%B8%880%EC%9B%90][CJ%ED%97%AC%EB%A1%9C%EB%AA%A8%EB%B0%94%EC%9D%BC/%EB%B2%88%ED%98%B8%EC%9D%B4%EB%8F%99/24%EA%B0%9C%EC%9B%94%EC%95%BD%EC%A0%95]%20LG-F300K%20%EB%B7%B03%20/%EA%B0%80%EC%9E%85%EB%B9%84%EB%B6%84%EB%82%A9/%EC%9C%A0%EC%8B%AC%ED%9B%84%EB%B6%88/52%EC%9A%94%EA%B8%88%EC%A0%9C]&img=http://shopping.phinf.naver.net/main_8200004/8200004439.jpg HTTP/1.1\" 200 67\n",
      "10.0.2.2 - - [21/Aug/2016 18:27:46] \"GET /classify?name=[CJ%ED%97%AC%EB%A1%9C%EB%AA%A8%EB%B0%94%EC%9D%BC%EB%B2%88%ED%98%B8%EC%9D%B4%EB%8F%99]%EB%B7%B03(LG-F300K)%20[%ED%95%A0%EB%B6%80%EC%9B%90%EA%B8%88%200%EC%9B%90%20%EC%95%BD%EC%A0%9524%EA%B0%9C%EC%9B%94%20LTE29%20%EA%B0%80%EC%9E%85%EB%B9%84%EB%B6%84%EB%82%A9/%EC%9C%A0%EC%8B%AC%ED%9B%84%EB%82%A9%20%ED%95%A0%EC%9D%B8%EB%B0%98%ED%99%98%EA%B8%88+%EC%A7%80%EC%9B%90%EB%B0%98%ED%99%98%EA%B8%88[%EB%B0%98%EA%B0%92%20%ED%86%B5%EC%8B%A0%EB%B9%84,%20%EB%8B%B9%EC%9D%BC%EB%B0%9C%EC%86%A1]&img=http://shopping.phinf.naver.net/main_8183156/8183156586.jpg HTTP/1.1\" 200 67\n",
      "10.0.2.2 - - [21/Aug/2016 18:27:46] \"GET /classify?name=[5%%EC%A6%89%EC%8B%9C%ED%95%A0%EC%9D%B8%EC%BF%A0%ED%8F%B0]iPhone4s%20%ED%99%94%EC%9D%B4%ED%8A%B8%20%EB%92%A4%ED%8C%90%20%EB%92%B7%ED%8C%90%20%EB%B0%B1%EC%BB%A4%EB%B2%84%20%EC%95%84%EC%9D%B4%ED%8F%B04s%EC%95%A1%EC%A0%95%EC%88%98%EB%A6%AC&img=http://shopping.phinf.naver.net/main_8169877/8169877376.jpg HTTP/1.1\" 200 67\n",
      "10.0.2.2 - - [21/Aug/2016 18:27:46] \"GET /classify?name=[5%%EC%A6%89%EC%8B%9C%ED%95%A0%EC%9D%B8%EC%BF%A0%ED%8F%B0]%20iPhone4s%20%ED%99%94%EC%9D%B4%ED%8A%B8%20%EB%92%A4%ED%8C%90%20%EB%92%B7%ED%8C%90%20%EB%B0%B1%EC%BB%A4%EB%B2%84%20%EC%95%84%EC%9D%B4%ED%8F%B04s%EC%95%A1%EC%A0%95%EC%88%98%EB%A6%AC&img=http://shopping.phinf.naver.net/main_8182363/8182363792.jpg HTTP/1.1\" 200 67\n",
      "10.0.2.2 - - [21/Aug/2016 18:27:46] \"GET /classify?name=[%EC%95%84%EC%9D%B4%ED%8F%B05%2032G%20%EB%A6%AC%EB%A9%94%EB%89%B4%ED%8C%A9%EC%B3%90][AIP5-32G][24%EA%B0%9C%EC%9B%94][LTE52%20%EC%9A%94%EA%B8%88%EC%A0%9C][%EB%B6%80%EA%B0%80%EC%84%9C%EB%B9%84%EC%8A%A4%20%EC%97%86%EC%9D%8C][CJ%ED%97%AC%EB%A1%9C%EB%AA%A8%EB%B0%94%EC%9D%BC][%EA%B8%B0%EA%B8%B0%EB%B0%98%EB%82%A9%20%EC%97%86%EC%9D%8C[%EB%B0%98%EA%B0%92%ED%86%B5%EC%8B%A0%EB%B9%84,%20%EB%8B%B9%EC%9D%BC%EB%B0%9C%EC%86%A1]&img=http://shopping.phinf.naver.net/main_7950954/7950954899.jpg HTTP/1.1\" 200 67\n",
      "10.0.2.2 - - [21/Aug/2016 18:27:46] \"GET /classify?name=[CJ%20MVNO]%20LG-F470K[G3%20Beat][%EB%B2%88%ED%98%B8%EC%9D%B4%EB%8F%99][%ED%95%A0%EB%B6%80%2055,000%EC%9B%90][29%EC%9A%94%EA%B8%88%EC%A0%9C%20%EA%B0%80%EB%8A%A5][%EA%B0%80%EC%9E%85%EB%B9%84%20%EB%B6%84%EB%82%A9][%EC%9C%A0%EC%8B%AC%20%ED%9B%84%EB%82%A9][[%EA%B8%B0%EC%A1%B4%EC%82%AC%EC%9A%A9%ED%8F%B0%20%EC%B5%9C%EA%B3%A0%EA%B0%80%EB%A7%A4%EC%9E%85]]&img=http://shopping.phinf.naver.net/main_8157482/8157482349.jpg HTTP/1.1\" 200 67\n",
      "10.0.2.2 - - [21/Aug/2016 18:27:46] \"GET /classify?name=[CJ%20%ED%97%AC%EB%A1%9C%EB%AA%A8%EB%B0%94%EC%9D%BC][%EB%B2%88%ED%98%B8%EC%9D%B4%EB%8F%99]%20[%EC%95%84%EC%9D%B4%ED%8F%B05%2016G%20%EB%A6%AC%EB%A9%94%EB%89%B4]%20[%ED%95%A0%EB%B6%80%EA%B8%88%2012%EB%A7%8C%EC%9B%90][52%EC%9A%94%EA%B8%88%EC%A0%9C][%EA%B0%80%EC%9E%85%EB%B9%84%20%EB%B6%84%EB%82%A9][%EC%9C%A0%EC%8B%AC%20%ED%9B%84%EB%82%A9][24%EA%B0%9C%EC%9B%94][%EC%82%AC%EC%9D%80%ED%92%88]&img=http://shopping.phinf.naver.net/main_7906478/7906478860.jpg HTTP/1.1\" 200 67\n",
      "10.0.2.2 - - [21/Aug/2016 18:27:46] \"GET /classify?name=%EB%9D%BC%EC%A6%88%EB%B2%A0%EB%A6%AC%ED%8C%8C%EC%9D%B4%20openwrt%20%EC%A0%84%EC%9A%A9%20%EB%A6%AC%EC%96%BC%ED%85%8D%20%EB%A6%AC%EC%96%BC%ED%85%8D%208192CU%20300M%20%EB%AC%B4%EC%84%A0%20%EC%B9%B4%EB%93%9C&img=http://shopping.phinf.naver.net/main_8169287/8169287898.1.jpg HTTP/1.1\" 200 100\n",
      "10.0.2.2 - - [21/Aug/2016 18:27:46] \"GET /classify?name=%EB%9D%BC%EC%A6%88%EB%B2%A0%EB%A6%AC%ED%8C%8C%EC%9D%B4%20%EC%A0%84%EC%9B%90%20/%20%EB%9D%BC%EC%A6%88%EB%B2%A0%EB%A6%AC%ED%8C%8C%EC%9D%B4%20%EB%B0%94%EB%82%98%EB%82%98%20%ED%8C%8C%EC%9D%B4%20%EB%B0%9C%202A%205V%20%EC%A0%84%EC%9B%90%20%EA%B3%B5%EA%B8%89%20%EC%9E%A5%EC%B9%98&img=http://shopping.phinf.naver.net/main_8169288/8169288312.1.jpg HTTP/1.1\" 200 129\n",
      "10.0.2.2 - - [21/Aug/2016 18:27:46] \"GET /classify?name=%EB%B2%A0%EA%B0%80%EC%8B%9C%ED%81%AC%EB%A6%BF%EB%85%B8%ED%8A%B8/%20%EB%B2%88%ED%98%B8%EC%9D%B4%EB%8F%99/24%EA%B0%9C%EC%9B%94%200%EC%9B%90/%20LTE%EC%9A%94%EA%B8%88%EC%A0%9C%EC%9E%90%EC%9C%A0/%20%EA%B0%80%EC%9E%85%EB%B9%84%EB%B6%84%EB%82%A9/%20%EC%9C%A0%EC%8B%AC%ED%9B%84%EB%82%A9/%20%EB%B6%80%EA%B0%80%EB%AC%B4/%20%EC%9C%84%EC%95%BD%EA%B8%88%ED%95%A0%EC%9D%B8%EB%B0%98%ED%99%98%EA%B8%88/%20IM-A890K/CJ%ED%97%AC%EB%A1%9C%EB%AA%A8%EB%B0%94%EC%9D%BC&img=http://shopping.phinf.naver.net/main_7958871/7958871488.jpg HTTP/1.1\" 200 67\n",
      "10.0.2.2 - - [21/Aug/2016 18:27:46] \"GET /classify?name=F%20%ED%98%95%20%EB%9D%BC%EC%A6%88%EB%B2%A0%EB%A6%AC%ED%8C%8C%EC%9D%B4%20%EB%9D%BC%EC%A6%88%EB%B2%A0%EB%A6%AC%20PI%20%EB%9D%BC%EC%A6%88%EB%B2%A0%EB%A6%AC%ED%8C%8C%EC%9D%B4%20%EC%BB%B4%ED%93%A8%ED%84%B0%20%EB%B3%B4%EB%93%9C%20%EC%95%84%ED%81%AC%EB%A6%B4%20%EC%BC%80%EC%9D%B4%EC%8A%A4%20case%20%20%EC%BC%80%EC%9D%B4%EC%8A%A4&img=http://shopping.phinf.naver.net/main_8169287/8169287977.jpg HTTP/1.1\" 200 72\n",
      "10.0.2.2 - - [21/Aug/2016 18:27:46] \"GET /classify?name=[CJ%20%EC%8B%A0%EA%B7%9C%EA%B0%80%EC%9E%85]%20F70(LG-F370K)%2024%EA%B0%9C%EC%9B%94/%ED%95%A0%EB%B6%80%EC%9B%90%EA%B8%88%20159,400%EC%9B%90/%ED%97%AC%EB%A1%9CLTE62/%EA%B0%80%EC%9E%85%EB%B9%84%EB%B6%84%EB%82%A9/%EC%9C%A0%EC%8B%AC%ED%9B%84%EB%82%A9/%EC%9C%84%EC%95%BD%EA%B8%88%20%ED%95%A0%EC%9D%B8%EB%B0%98%ED%99%98%EA%B8%88+%EA%B3%B5%EC%8B%9C%EC%A7%80%EC%9B%90%EA%B8%88/%EB%B6%80%EA%B0%80%E7%84%A1&img=http://shopping.phinf.naver.net/main_8053964/8053964994.jpg HTTP/1.1\" 200 65\n",
      "10.0.2.2 - - [21/Aug/2016 18:27:46] \"GET /classify?name=[CJ%ED%97%AC%EB%A1%9C%EB%AA%A8%EB%B0%94%EC%9D%BC%20%EB%B2%88%ED%98%B8%EC%9D%B4%EB%8F%99][24%EA%B0%9C%EC%9B%94%EC%95%BD%EC%A0%95][%EA%B0%A4%EB%9F%AD%EC%8B%9C%EA%B7%B8%EB%9E%9C%EB%93%9C%EB%A7%A5%EC%8A%A4][%ED%95%A0%EB%B6%80%EC%9B%90%EA%B8%88%200%EC%9B%90][LTE52%20%EC%9A%94%EA%B8%88][%EA%B0%80%EC%9E%85%EB%B9%84%EB%B6%84%EB%82%A9%20%EC%9C%A0%EC%8B%AC%EB%B9%84%ED%9B%84%EB%82%A9][%EC%9C%84%EC%95%BD%EA%B8%88%20%EC%9C%A0][%EB%B6%80%EA%B0%80%20%EB%AC%B4][SM-G720K][%EC%95%8C%EB%9C%B0%ED%8F%B0]&img=http://shopping.phinf.naver.net/main_8333461/8333461493.jpg HTTP/1.1\" 200 67\n",
      "10.0.2.2 - - [21/Aug/2016 18:27:46] \"GET /classify?name=[CJ%ED%97%AC%EB%A1%9C%EB%AA%A8%EB%B0%94%EC%9D%BC%EA%B3%B5%EC%8B%9D%EA%B0%80%EC%9E%85%EC%84%BC%ED%84%B0]%20%EA%B0%A4%EB%9F%AD%EC%8B%9C%EB%85%B8%ED%8A%B82(SHV-E250K)/HD%EB%8C%80%ED%99%94%EB%A9%B4/%EC%BF%BC%EB%93%9C%EC%BD%94%EC%96%B4/%EA%B0%80%EC%9E%85%EB%B9%84%E7%84%A1/%EC%9C%A0%EC%8B%AC%EB%B9%84%E7%84%A1/%EB%B6%80%EA%B0%80%E7%84%A1/%EC%B6%94%EA%B0%80%E7%84%A1&img=http://shopping.phinf.naver.net/main_7516106/7516106380.jpg HTTP/1.1\" 200 67\n",
      "10.0.2.2 - - [21/Aug/2016 18:27:46] \"GET /classify?name=[CJ%ED%97%AC%EB%A1%9C%EB%AA%A8%EB%B0%94%EC%9D%BC%EA%B3%B5%EC%8B%9D%EA%B0%80%EC%9E%85%EC%84%BC%ED%84%B0]%20%EA%B0%A4%EB%9F%AD%EC%8B%9C%EB%85%B8%ED%8A%B82(SHV-E250K)/HD%EB%8C%80%ED%99%94%EB%A9%B4/%EC%BF%BC%EB%93%9C%EC%BD%94%EC%96%B4/%EA%B0%80%EC%9E%85%EB%B9%84%E7%84%A1/%EC%9C%A0%EC%8B%AC%EB%B9%84%E7%84%A1/%EB%B6%80%EA%B0%80%E7%84%A1/%EC%B6%94%EA%B0%80%E7%84%A1&img=http://shopping.phinf.naver.net/main_7516081/7516081334.jpg HTTP/1.1\" 200 67\n",
      "10.0.2.2 - - [21/Aug/2016 18:27:46] \"GET /classify?name=[CJ%ED%97%AC%EB%A1%9C%EB%AA%A8%EB%B0%94%EC%9D%BC%EA%B3%B5%EC%8B%9D%EA%B0%80%EC%9E%85%EC%84%BC%ED%84%B0]%20%EA%B0%A4%EB%9F%AD%EC%8B%9C%EB%85%B8%ED%8A%B82(SHV-E250K)/HD%EB%8C%80%ED%99%94%EB%A9%B4/%EC%BF%BC%EB%93%9C%EC%BD%94%EC%96%B4/%EA%B0%80%EC%9E%85%EB%B9%84%E7%84%A1/%EC%9C%A0%EC%8B%AC%EB%B9%84%E7%84%A1/%EB%B6%80%EA%B0%80%E7%84%A1/%EC%B6%94%EA%B0%80%E7%84%A1&img=http://shopping.phinf.naver.net/main_7516110/7516110458.jpg HTTP/1.1\" 200 67\n",
      "10.0.2.2 - - [21/Aug/2016 18:27:46] \"GET /classify?name=%EB%A7%88%EC%8A%A4%ED%84%B0%20CJ%20%EB%A7%88%EC%8A%A4%ED%84%B0%ED%8F%B0%20%EC%95%8C%EB%9C%B0%ED%8F%B0%20%ED%9A%A8%EB%8F%84%ED%8F%B0%20%ED%95%99%EC%83%9D%ED%8F%B0%20%ED%8F%B4%EB%8D%94%ED%8F%B0%20%EC%82%BC%EC%84%B1%20B510K&img=http://shopping.phinf.naver.net/main_8223015/8223015737.jpg HTTP/1.1\" 200 67\n",
      "10.0.2.2 - - [21/Aug/2016 18:27:46] \"GET /classify?name=%EC%95%84%EC%9D%B4%ED%8F%B03gs%20%EA%B0%95%ED%99%94%EC%9C%A0%EB%A6%AC%EA%B5%90%EC%B2%B4%20[%EB%B6%80%ED%92%88/%EC%88%98%EB%A6%AC/%ED%95%98%EC%9A%B0%EC%A7%95/LCD/%EC%95%A1%EC%A0%95/%EA%B0%95%ED%99%94%EC%9C%A0%EB%A6%AC/%ED%8C%8C%EC%86%90/%EA%B5%90%EC%B2%B4]&img=http://shopping.phinf.naver.net/main_8235256/8235256233.jpg HTTP/1.1\" 200 67\n",
      "10.0.2.2 - - [21/Aug/2016 18:27:46] \"GET /classify?name=[%ED%95%B4%EC%99%B8]%ED%99%94%EC%9B%A8%EC%9D%B4%20Ultrastick%20E1220S-2%20meegopad%EC%9D%98%20F10%EC%99%80%20%EB%8B%A4%EB%A5%B8%20%EB%B0%8F%ED%95%A9%EB%8B%88%EB%8B%A4%20deivce%EC%97%90%20%EB%8C%80%ED%95%9C%202,??100%EB%B6%84%EC%9D%98%201,900%20WCDMA%203G%20ultrastick%20%EC%A7%80%EC%9B%90&img=http://shopping.phinf.naver.net/main_8207921/8207921385.jpg HTTP/1.1\" 200 115\n"
     ]
    },
    {
     "name": "stdout",
     "output_type": "stream",
     "text": [
      "classify called\n",
      "classify called\n",
      "classify called\n",
      "classify called\n",
      "classify called\n",
      "classify called\n",
      "classify called\n",
      "classify called\n",
      "classify called\n",
      "classify called\n",
      "classify called\n",
      "classify called\n",
      "classify called\n",
      "classify called\n",
      "classify called\n"
     ]
    },
    {
     "name": "stderr",
     "output_type": "stream",
     "text": [
      "10.0.2.2 - - [21/Aug/2016 18:27:46] \"GET /classify?name=CJ%EC%95%8C%EB%9C%B0%ED%8F%B0/%EA%B0%A4%EB%9F%AD%EC%8B%9C%EA%B7%B8%EB%9E%9C%EB%93%9C%EB%A7%A5%EC%8A%A4.%ED%9D%B0%EC%83%89/%EC%8B%A0%EA%B7%9C%EA%B0%80%EC%9E%85/%EC%9A%94%EA%B8%88%EC%A0%9C%EC%9E%90%EC%9C%A0&img=http://shopping.phinf.naver.net/main_8274274/8274274665.jpg HTTP/1.1\" 200 67\n",
      "10.0.2.2 - - [21/Aug/2016 18:27:46] \"GET /classify?name=Umobi/%EA%B0%A4%EB%9F%AD%EC%8B%9C%EB%85%B8%ED%8A%B83%EB%84%A4%EC%98%A4/%EC%95%8C%EB%9C%B0%ED%8F%B0/%EA%B3%B5%EC%A7%9C%ED%8F%B0/%EB%8B%B9%EC%9D%BC%EB%B0%9C%EC%86%A1%20SM-N750&img=http://shopping.phinf.naver.net/main_8161296/8161296641.jpg HTTP/1.1\" 200 67\n",
      "10.0.2.2 - - [21/Aug/2016 18:27:46] \"GET /classify?name=[5%%EC%A6%89%EC%8B%9C%ED%95%A0%EC%9D%B8%EC%BF%A0%ED%8F%B0]/%EC%8A%A4%EB%A7%88%ED%8A%B8%ED%8F%B0/%ED%95%B8%EB%93%9C%ED%8F%B0/%ED%9C%B4%EB%8C%80%ED%8F%B0/%EA%B3%B5%EC%A7%9C/%ED%8F%B0/%EC%B6%94%EC%B2%9C/%EA%B0%9C%ED%86%B5/&img=http://shopping.phinf.naver.net/main_8253227/8253227821.jpg HTTP/1.1\" 200 100\n",
      "10.0.2.2 - - [21/Aug/2016 18:27:46] \"GET /classify?name=%EB%84%A5%EC%84%9C%EC%8A%A4%20CJ%ED%97%AC%EB%A1%9C%EB%AA%A8%EB%B0%94%EC%9D%BC/%EB%B2%88%ED%98%B8%EC%9D%B4%EB%8F%99/LG-D821/%EB%84%A5%EC%84%9C%EC%8A%A45&img=http://shopping.phinf.naver.net/main_8209106/8209106138.jpg HTTP/1.1\" 200 67\n",
      "10.0.2.2 - - [21/Aug/2016 18:27:46] \"GET /classify?name=%ED%83%91%EC%A4%80%ED%85%94%EB%A0%88%EC%BD%A4%20CJ%EC%95%8C%EB%9C%B0%ED%8F%B0/%EA%B0%A4%EB%9F%AD%EC%8B%9C%EA%B7%B8%EB%9E%9C%EB%93%9C%EB%A7%A5%EC%8A%A4.%EB%B8%94%EB%9E%99/%EC%8B%A0%EA%B7%9C%EA%B0%80%EC%9E%85/%EC%9A%94%EA%B8%88%EC%A0%9C%EC%9E%90%EC%9C%A0%20%EC%9A%94%EA%B8%88%ED%95%A0%EC%9D%B8%EC%99%B8%20%EB%98%90%20%EC%B6%94%EA%B0%80%ED%95%A0%EC%9D%B8/%EC%82%AC%EC%9D%80%ED%92%88%EC%A6%9D%EC%A0%95&img=http://shopping.phinf.naver.net/main_8274090/8274090853.jpg HTTP/1.1\" 200 67\n",
      "10.0.2.2 - - [21/Aug/2016 18:27:46] \"GET /classify?name=[%ED%95%B4%EC%99%B8]?/%20External%20Generator%20Actuator%20ADC120-12V%20Generator%20Genset%20Controller&img=http://shopping.phinf.naver.net/main_8259840/8259840291.jpg HTTP/1.1\" 200 124\n",
      "10.0.2.2 - - [21/Aug/2016 18:27:46] \"GET /classify?name=[%ED%95%B4%EC%99%B8]%ED%98%BC%EB%8B%A4%20GX160%20%EC%97%94%EC%A7%84%205.5hp%EC%9D%98%20%EC%B5%9C%EC%A0%80%20%EA%B0%80%EA%B2%A9%EC%97%90%20%EB%8C%80%20%ED%95%9C%20%EC%83%88%EB%A1%9C%EC%9A%B4%20%EC%A1%B0%EC%A0%95%20%EA%B8%B0%ED%99%94%EA%B8%B0%20%EA%B8%B0%ED%99%94%EA%B8%B0%20%EA%B5%90%EC%B2%B4%EB%A5%BC%20dollarwood/dollarwood%20New%20%20Adjustable%20Carb%20Carb&img=http://shopping.phinf.naver.net/main_8259839/8259839983.jpg HTTP/1.1\" 200 67\n",
      "10.0.2.2 - - [21/Aug/2016 18:27:46] \"GET /classify?name=%EA%B7%BC%ED%98%B8%20%20QNAP%20TS-851-4G%20(%ED%95%98%EB%93%9C%EB%AF%B8%ED%8F%AC%ED%95%A8)&img=http://shopping.phinf.naver.net/main_8403838/8403838841.jpg HTTP/1.1\" 200 72\n",
      "10.0.2.2 - - [21/Aug/2016 18:27:46] \"GET /classify?name=QNAP%20%20TS-851-4G%20(%ED%95%98%EB%93%9C%EB%AF%B8%ED%8F%AC%ED%95%A8)&img=http://shopping.phinf.naver.net/main_8242364/8242364760.jpg HTTP/1.1\" 200 72\n",
      "10.0.2.2 - - [21/Aug/2016 18:27:46] \"GET /classify?name=QNAP%20%20TS-851-4G%20(%ED%95%98%EB%93%9C%EB%AF%B8%ED%8F%AC%ED%95%A8)&img=http://shopping.phinf.naver.net/main_8294864/8294864049.jpg HTTP/1.1\" 200 72\n",
      "10.0.2.2 - - [21/Aug/2016 18:27:46] \"GET /classify?name=[4%%EC%A6%89%EC%8B%9C%ED%95%A0%EC%9D%B8%EC%BF%A0%ED%8F%B0]%EC%95%84%EC%9D%B4%ED%94%BC%ED%83%80%EC%9E%84%20[IPTIME]%20EFM%20ipTIME%20NAS-I%20(%ED%95%98%EB%93%9C%EB%AF%B8%ED%8F%AC%ED%95%A8)%20NAS1/NAS/3.5%EC%9D%B8%EC%B9%98%201%EB%B2%A0%EC%9D%B4/HDD%20%EB%AF%B8%ED%83%91%EC%9E%AC/%EA%B8%B0%EA%B0%80%EB%B9%84%ED%8A%B8%20%EC%9C%A0%EC%84%A0/Torrent%20%EC%A7%80%EC%9B%90~&img=http://shopping.phinf.naver.net/main_6906814/6906814356.jpg HTTP/1.1\" 200 72\n",
      "10.0.2.2 - - [21/Aug/2016 18:27:46] \"GET /classify?name=ipTIME%20%EA%B3%B5%EC%9D%B8%ED%8C%90%EB%A7%A4%EC%A0%90%20NAS-I%20NAS%20/%203.5%EC%9D%B8%EC%B9%98%201%EB%B2%A0%EC%9D%B4%20/%20HDD%20%EB%AF%B8%ED%83%91%EC%9E%AC%20/%20%EA%B8%B0%EA%B0%80%EB%B9%84%ED%8A%B8%20%EC%9C%A0%EC%84%A0%20/%20Torrent%20%EC%A7%80%EC%9B%90%20[%ED%95%98%EB%93%9C%EB%AF%B8%ED%8F%AC%ED%95%A8]&img=http://shopping.phinf.naver.net/main_7575161/7575161327.jpg HTTP/1.1\" 200 72\n",
      "10.0.2.2 - - [21/Aug/2016 18:27:46] \"GET /classify?name=[%ED%95%B4%EC%99%B8]%20Others%20N/A%20TS-IX4.0TL/R5%20A3EC894%20%20TERASTATION%20III%20ISCSI%204TB%204X1TB%20SATA%20RAID%200/1/5/10%203YR%20(TSIX4&img=http://shopping.phinf.naver.net/main_7925428/7925428706.jpg HTTP/1.1\" 200 109\n",
      "10.0.2.2 - - [21/Aug/2016 18:27:46] \"GET /classify?name=CS%20QNAP%20%20TS-251-4G%20(%ED%95%98%EB%93%9C%EB%AF%B8%ED%8F%AC%ED%95%A8)&img=http://shopping.phinf.naver.net/main_8196234/8196234666.jpg HTTP/1.1\" 200 72\n",
      "10.0.2.2 - - [21/Aug/2016 18:27:46] \"GET /classify?name=%EC%94%A8%EA%B2%8C%EC%9D%B4%ED%8A%B8%20Seagate%20Central%20-%203TB%20(3.5%20Home%20NAS/LAN/USB%ED%98%B8%EC%8A%A4%ED%8A%B8%EC%99%B8%EC%9E%A5%ED%95%98%EB%93%9C%EC%97%B0%EA%B2%B0%EA%B0%80%EB%8A%A5/%EC%99%B8%EC%9E%A5%ED%98%95%EB%84%B7%ED%95%98%EB%93%9C%EC%8A%A4%ED%86%A0%EB%A6%AC%EC%A7%80)&img=http://shopping.phinf.naver.net/main_8421579/8421579592.jpg HTTP/1.1\" 200 72\n"
     ]
    },
    {
     "name": "stdout",
     "output_type": "stream",
     "text": [
      "classify called\n",
      "classify called\n",
      "classify called\n",
      "classify called\n",
      "classify called\n",
      "classify called\n",
      "classify called\n",
      "classify called\n",
      "classify called\n",
      "classify called\n",
      "classify called\n",
      "classify called\n",
      "classify called\n",
      "classify called\n",
      "classify called\n"
     ]
    },
    {
     "name": "stderr",
     "output_type": "stream",
     "text": [
      "10.0.2.2 - - [21/Aug/2016 18:27:46] \"GET /classify?name=[%EC%82%BC%EC%84%B1%EC%B9%B4%EB%93%9C5%][%EC%94%A8%EA%B2%8C%EC%9D%B4%ED%8A%B8(SEAGATE)]Seagate%20Central%20-%204TB(3.5%20Home%20NAS/LAN/USB%ED%98%B8%EC%8A%A4%ED%8A%B8%EC%99%B8%EC%9E%A5%ED%95%98%EB%93%9C%EC%97%B0%EA%B2%B0%EA%B0%80%EB%8A%A5%EC%99%B8%EC%9E%A5%ED%98%95%EB%84%B7%ED%95%98%EB%93%9C%EC%8A%A4%ED%86%A0%EB%A6%AC%EC%A7%80)&img=http://shopping.phinf.naver.net/main_8427535/8427535230.1.jpg HTTP/1.1\" 200 72\n",
      "10.0.2.2 - - [21/Aug/2016 18:27:46] \"GET /classify?name=[4%%EC%A6%89%EC%8B%9C%ED%95%A0%EC%9D%B8%EC%BF%A0%ED%8F%B0]%ED%81%90%EB%83%85%20%EA%B3%A0%EC%84%B1%EB%8A%A5%20%EB%82%98%EC%8A%A4%20NAS%20TS-851-4G%208%EB%B2%A0%EC%9D%B4%2048TB%20%EB%84%B7%ED%95%98%EB%93%9C&img=http://shopping.phinf.naver.net/main_8257515/8257515698.jpg HTTP/1.1\" 200 72\n",
      "10.0.2.2 - - [21/Aug/2016 18:27:46] \"GET /classify?name=%EC%97%90%EC%9D%B4%EB%B8%94%EC%8A%A4%ED%86%A0%EC%96%B4%20%EB%9E%9C%EC%98%A4%EC%95%84%EC%8B%9C%EC%8A%A4%20synology%20DS213J%202%EB%B2%A0%EC%9D%B4%20%EB%82%98%EC%8A%A4%20%EC%8A%A4%ED%86%A0%EB%A6%AC%EC%A7%80&img=http://shopping.phinf.naver.net/main_8274426/8274426008.jpg HTTP/1.1\" 200 72\n",
      "10.0.2.2 - - [21/Aug/2016 18:27:46] \"GET /classify?name=[NAS]%20Synology%20DS-411j%20%EC%BC%80%EC%9D%B4%EC%8A%A4%20(%ED%95%98%EB%93%9C%EB%AF%B8%ED%8F%AC%ED%95%A8)&img=http://shopping.phinf.naver.net/main_8273249/8273249945.jpg HTTP/1.1\" 200 72\n",
      "10.0.2.2 - - [21/Aug/2016 18:27:46] \"GET /classify?name=[6%%EC%A6%89%EC%8B%9C%ED%95%A0%EC%9D%B8%EC%BF%A0%ED%8F%B0]EFM%EB%84%A4%ED%8A%B8%EC%9C%85%EC%8A%A4%20iptime%20NAS-III%202.5%20%EC%99%B8%EC%9E%A5%ED%95%98%EB%93%9C%EC%BC%80%EC%9D%B4%EC%8A%A4%20%ED%95%98%EB%93%9C&img=http://shopping.phinf.naver.net/main_8271472/8271472865.jpg HTTP/1.1\" 200 72\n",
      "10.0.2.2 - - [21/Aug/2016 18:27:46] \"GET /classify?name=[4%%EC%A6%89%EC%8B%9C%ED%95%A0%EC%9D%B8%EC%BF%A0%ED%8F%B0]2%EB%B2%A0%EC%9D%B4%20-%20PCDBUFFALO%20TeraStation%201u%20Rack%20mount4bay%20W&img=http://shopping.phinf.naver.net/main_8277799/8277799620.jpg HTTP/1.1\" 200 72\n",
      "10.0.2.2 - - [21/Aug/2016 18:27:46] \"GET /classify?name=QNAP%20HS-251%20(2TB)%202bay%20Fanless%20%EC%A0%80%EC%86%8C%EC%9D%8C%20NAS&img=http://shopping.phinf.naver.net/main_8271037/8271037024.jpg HTTP/1.1\" 200 72\n",
      "10.0.2.2 - - [21/Aug/2016 18:27:46] \"GET /classify?name=[4%%EC%A6%89%EC%8B%9C%ED%95%A0%EC%9D%B8%EC%BF%A0%ED%8F%B0]QNAP%20HS-251%20(4TB)%202bay%20Fanless%20%EC%A0%80%EC%86%8C%EC%9D%8C%20NAS&img=http://shopping.phinf.naver.net/main_8270941/8270941034.jpg HTTP/1.1\" 200 72\n",
      "10.0.2.2 - - [21/Aug/2016 18:27:46] \"GET /classify?name=[4%%EC%A6%89%EC%8B%9C%ED%95%A0%EC%9D%B8%EC%BF%A0%ED%8F%B0]QNAP%20TS-431%20%EC%9B%B9/%EB%84%A4%ED%8A%B8%EC%9B%8C%EA%B7%B8%20%ED%95%98%EB%93%9C%EC%BC%80%EC%9D%B4%EC%8A%A4(%ED%95%98%EB%93%9C%EB%AF%B8%ED%8F%AC%ED%95%A8)NAS&img=http://shopping.phinf.naver.net/main_8238093/8238093514.jpg HTTP/1.1\" 200 72\n",
      "10.0.2.2 - - [21/Aug/2016 18:27:46] \"GET /classify?name=[4%%EC%A6%89%EC%8B%9C%ED%95%A0%EC%9D%B8%EC%BF%A0%ED%8F%B0]QNAP%20HS-210%20(12TB)%202bay%20Fanless%20%EC%A0%80%EC%86%8C%EC%9D%8C%20NAS&img=http://shopping.phinf.naver.net/main_8270633/8270633941.jpg HTTP/1.1\" 200 72\n",
      "10.0.2.2 - - [21/Aug/2016 18:27:46] \"GET /classify?name=[%ED%95%A0%EC%9D%B8%ED%8C%90%EB%A7%A4]PCDBUFFALO%20TeraStation%2056006bay%20TS5600D%206TB%20%EB%82%98%EC%8A%A4%EC%8A%A4%ED%86%A0%EB%A6%AC%EC%A7%80%20%EC%8A%A4%ED%86%A0%EB%A6%AC%EC%A7%80%20%ED%95%98%EB%93%9C%EA%B3%B5%EC%9C%A0%20NAS[%EB%B9%A0%EB%A5%B8%EB%B0%B0%EC%86%A1]&img=http://shopping.phinf.naver.net/main_8263251/8263251189.jpg HTTP/1.1\" 200 72\n",
      "10.0.2.2 - - [21/Aug/2016 18:27:46] \"GET /classify?name=[4%%EC%A6%89%EC%8B%9C%ED%95%A0%EC%9D%B8%EC%BF%A0%ED%8F%B0]%20ineo%20%EC%95%8C%EB%A3%A8%EB%AF%B8%EB%8A%84%20%ED%95%98%EB%93%9C%EB%94%94%EC%8A%A4%ED%81%AC%20%EB%B3%B4%EA%B4%80%ED%95%A8(2.5%203Bay%20+%203.&img=http://shopping.phinf.naver.net/main_8277852/8277852559.jpg HTTP/1.1\" 200 72\n",
      "10.0.2.2 - - [21/Aug/2016 18:27:46] \"GET /classify?name=[4%%EC%A6%89%EC%8B%9C%ED%95%A0%EC%9D%B8%EC%BF%A0%ED%8F%B0]NAS%20%ED%81%90%EB%83%85%20TS-269L%20%EC%BC%80%EC%9D%B4%EC%8A%A4%20(%ED%95%98%EB%93%9C%EB%AF%B8%ED%8F%AC%ED%95%A8)&img=http://shopping.phinf.naver.net/main_8269503/8269503248.jpg HTTP/1.1\" 200 72\n",
      "10.0.2.2 - - [21/Aug/2016 18:27:46] \"GET /classify?name=[4%%EC%A6%89%EC%8B%9C%ED%95%A0%EC%9D%B8%EC%BF%A0%ED%8F%B0]%20EFM%20%20ipTIME%20NAS3%201%EB%B2%A0%EC%9D%B4%20NAS%20%20%ED%95%98%EB%93%9C%20%EB%AF%B8%ED%8F%AC%ED%95%A8&img=http://shopping.phinf.naver.net/main_8284131/8284131583.jpg HTTP/1.1\" 200 72\n",
      "10.0.2.2 - - [21/Aug/2016 18:27:46] \"GET /classify?name=PCDBUFFALO%20TeraStation%2052002bay%20TS5200D%20CASE%20NAS%EC%8A%A4%ED%86%A0%EB%A6%AC%EC%A7%80%20%ED%95%98%EB%93%9C%EA%B3%B5%EC%9C%A0%20%EB%84%A4%ED%8A%B8%EC%9B%8C%ED%81%AC%ED%95%98%EB%93%9C%20NASST[%EC%B5%9C%EC%84%A0%EC%9D%84%20%EB%8B%A4%ED%95%98%EA%B2%A0%EC%8A%B5%EB%8B%88%EB%8B%A4]&img=http://shopping.phinf.naver.net/main_8281791/8281791942.jpg HTTP/1.1\" 200 72\n"
     ]
    },
    {
     "name": "stdout",
     "output_type": "stream",
     "text": [
      "classify called\n",
      "classify called\n",
      "classify called\n",
      "classify called\n",
      "classify called\n",
      "classify called\n",
      "classify called\n",
      "classify called\n",
      "classify called\n",
      "classify called\n",
      "classify called\n",
      "classify called\n",
      "classify called\n",
      "classify called\n",
      "classify called\n"
     ]
    },
    {
     "name": "stderr",
     "output_type": "stream",
     "text": [
      "10.0.2.2 - - [21/Aug/2016 18:27:46] \"GET /classify?name=[4%%EC%A6%89%EC%8B%9C%ED%95%A0%EC%9D%B8%EC%BF%A0%ED%8F%B0]Qnap%20TS-253PRO(6TB)%202BAY/%EB%84%A4%ED%8A%B8%EC%9B%8C%ED%81%AC%ED%95%98%EB%93%9C/NAS/%EB%84%B7%ED%95%98%EB%93%9C&img=http://shopping.phinf.naver.net/main_8266744/8266744466.jpg HTTP/1.1\" 200 72\n",
      "10.0.2.2 - - [21/Aug/2016 18:27:47] \"GET /classify?name=WD%20My%20Cloud&img=http://shopping.phinf.naver.net/main_7479172/7479172540.20140226102650.jpg HTTP/1.1\" 200 141\n",
      "10.0.2.2 - - [21/Aug/2016 18:27:47] \"GET /classify?name=%ED%81%90%EB%83%85%20TS-269H&img=http://shopping.phinf.naver.net/main_8198380/8198380980.20150106141332.jpg HTTP/1.1\" 200 72\n",
      "10.0.2.2 - - [21/Aug/2016 18:27:47] \"GET /classify?name=Synology%20DS414J&img=http://shopping.phinf.naver.net/main_7671063/7671063775.20140509145046.jpg HTTP/1.1\" 200 72\n",
      "10.0.2.2 - - [21/Aug/2016 18:27:47] \"GET /classify?name=NETGEAR%20ReadyNAS%20314&img=http://shopping.phinf.naver.net/main_6834263/6834263891.20140120121244.jpg HTTP/1.1\" 200 72\n",
      "10.0.2.2 - - [21/Aug/2016 18:27:47] \"GET /classify?name=NETGEAR%20ReadyNAS%20316&img=http://shopping.phinf.naver.net/main_6855739/6855739547.20140120121410.jpg HTTP/1.1\" 200 72\n",
      "10.0.2.2 - - [21/Aug/2016 18:27:47] \"GET /classify?name=Synology%20DS-213%20&img=http://shopping.phinf.naver.net/main_6546916/6546916531.20130110113529.jpg HTTP/1.1\" 200 72\n",
      "10.0.2.2 - - [21/Aug/2016 18:27:47] \"GET /classify?name=[4%%EC%A6%89%EC%8B%9C%ED%95%A0%EC%9D%B8%EC%BF%A0%ED%8F%B0]%ED%81%90%EB%83%85%20%EA%B3%A0%EC%84%B1%EB%8A%A5%20NAS%20TS-431%204%EB%B2%A0%EC%9D%B4%2024TB%20%EB%82%98%EC%8A%A4%20%EB%84%B7%ED%95%98%EB%93%9C%20pc&img=http://shopping.phinf.naver.net/main_8256577/8256577208.jpg HTTP/1.1\" 200 72\n",
      "10.0.2.2 - - [21/Aug/2016 18:27:47] \"GET /classify?name=%EC%83%88%EB%A1%9C%ED%85%8D%20MyClould%20Pro%20NAS-24&img=http://shopping.phinf.naver.net/main_7155767/7155767291.20130926115306.jpg HTTP/1.1\" 200 72\n",
      "10.0.2.2 - - [21/Aug/2016 18:27:47] \"GET /classify?name=NETGEAR%20RN2120&img=http://shopping.phinf.naver.net/main_7584037/7584037914.20140505144259.jpg HTTP/1.1\" 200 98\n",
      "10.0.2.2 - - [21/Aug/2016 18:27:47] \"GET /classify?name=%ED%81%90%EB%83%85%20TS-870&img=http://shopping.phinf.naver.net/main_7570307/7570307791.20140326155724.jpg HTTP/1.1\" 200 72\n",
      "10.0.2.2 - - [21/Aug/2016 18:27:47] \"GET /classify?name=[4%%EC%A6%89%EC%8B%9C%ED%95%A0%EC%9D%B8%EC%BF%A0%ED%8F%B0]JRCNS%20%EC%8B%9C%EB%86%80%EB%A1%9C%EC%A7%80%20DS2415+%20(%EC%BC%80%EC%9D%B4%EC%8A%A4)%2012%EB%B2%A0%EC%9D%B4%20NAS&img=http://shopping.phinf.naver.net/main_8241486/8241486215.jpg HTTP/1.1\" 200 72\n",
      "10.0.2.2 - - [21/Aug/2016 18:27:47] \"GET /classify?name=Synology%20%EC%8B%9C%EB%86%80%EB%A1%9C%EC%A7%80%20RS214&img=http://shopping.phinf.naver.net/main_8247508/8247508011.20150126171101.jpg HTTP/1.1\" 200 72\n",
      "10.0.2.2 - - [21/Aug/2016 18:27:47] \"GET /classify?name=[4%%EC%A6%89%EC%8B%9C%ED%95%A0%EC%9D%B8%EC%BF%A0%ED%8F%B0]2%EB%B2%A0%EC%9D%B4%20-%20PCDBUFFALO%20TeraStation%2056006bay%20TS5600D%2018&img=http://shopping.phinf.naver.net/main_8277798/8277798401.jpg HTTP/1.1\" 200 72\n"
     ]
    },
    {
     "name": "stdout",
     "output_type": "stream",
     "text": [
      "classify called\n",
      "classify called\n",
      "classify called\n",
      "classify called\n",
      "classify called\n",
      "classify called\n",
      "classify called\n",
      "classify called\n",
      "classify called\n",
      "classify called\n",
      "classify called\n",
      "classify called\n",
      "classify called\n",
      "classify called\n"
     ]
    },
    {
     "name": "stderr",
     "output_type": "stream",
     "text": [
      "10.0.2.2 - - [21/Aug/2016 18:27:47] \"GET /classify?name=[4%%EC%A6%89%EC%8B%9C%ED%95%A0%EC%9D%B8%EC%BF%A0%ED%8F%B0]5%EB%B2%A0%EC%9D%B4%20-%20PCD%20iptime%20NAS-III%202.5%20%EC%99%B8%EC%9E%A5%ED%95%98%EB%93%9C%EC%BC%80%EC%9D%B4%EC%8A%A4%ED%95%98%EB%93%9C&img=http://shopping.phinf.naver.net/main_8277787/8277787975.jpg HTTP/1.1\" 200 72\n",
      "10.0.2.2 - - [21/Aug/2016 18:27:47] \"GET /classify?name=[4%%EC%A6%89%EC%8B%9C%ED%95%A0%EC%9D%B8%EC%BF%A0%ED%8F%B0]%ED%95%98%EB%93%9C%EB%9E%99(SATA2%20%203.5%EC%9D%B8%EC%B9%98)&img=http://shopping.phinf.naver.net/main_8277620/8277620264.jpg HTTP/1.1\" 200 72\n",
      "10.0.2.2 - - [21/Aug/2016 18:27:47] \"GET /classify?name=PCD%20iptime%20NAS-III%202.5%20%EC%99%B8%EC%9E%A5%ED%95%98%EB%93%9C%EC%BC%80%EC%9D%B4%EC%8A%A4%ED%95%98%EB%93%9C%EB%AF%B8%ED%8F%AC%ED%95%A8%20%EB%84%B7%ED%95%98%EB%93%9C%20nas%20NAS3%20%EC%8A%A4%ED%86%A0%EB%A6%AC%EC%A7%80%20%EC%9B%B9%ED%95%98%EB%93%9C&img=http://shopping.phinf.naver.net/main_8273144/8273144522.jpg HTTP/1.1\" 200 72\n",
      "10.0.2.2 - - [21/Aug/2016 18:27:47] \"GET /classify?name=(%EB%B9%A0%EB%A5%B8%EB%B0%B0%EC%86%A1)%20(%EC%83%88%EC%83%81%ED%92%88)%20%EB%84%A4%ED%8A%B8%EC%9B%8C%ED%81%AC%ED%95%98%EB%93%9C%20NAS-II%20/%202T%20,%203T%20,%EC%A4%91%20%EC%84%A0%ED%83%9D[%EC%83%88%EC%83%81%ED%92%88%20%EB%B9%A0%EB%A5%B8%EB%B0%B0%EC%86%A1]&img=http://shopping.phinf.naver.net/main_8280145/8280145633.jpg HTTP/1.1\" 200 72\n",
      "10.0.2.2 - - [21/Aug/2016 18:27:47] \"GET /classify?name=[%EB%8B%B9%EC%9D%BC%EB%B0%B0%EC%86%A1%20%EB%B0%94%EB%A1%9C%EC%B6%9C%EB%B0%9C]%20LG%EC%A0%84%EC%9E%90%20NC3%20(6TB)%20[%EC%A0%95%ED%92%88,%20%EB%B9%A0%EB%A5%B8%EB%B0%B0%EC%86%A1][%EB%8B%A4%EB%82%98%EC%99%80%EC%97%B0%EB%8F%99%EB%AA%B0%20%EB%A7%A4%EC%B6%9C1%EC%9C%84/%EA%B3%A0%EA%B0%9D%EB%A7%8C%EC%A1%B1%EB%8F%84%20%EC%B5%9C%EC%9A%B0%EC%88%98%EC%97%85%EC%B2%B4]&img=http://shopping.phinf.naver.net/main_8265395/8265395340.jpg HTTP/1.1\" 200 71\n",
      "10.0.2.2 - - [21/Aug/2016 18:27:47] \"GET /classify?name=PCDBUFFALO%20TeraStation%2052002bay%20TS5200D%202TB%20%EB%84%A4%ED%8A%B8%EC%9B%8C%ED%81%AC%ED%95%98%EB%93%9C%20%EB%82%98%EC%8A%A4%EC%8A%A4%ED%86%A0%EB%A6%AC%EC%A7%80%20NAS%EC%8A%A4%ED%86%A0%EB%A6%AC%EC%A7%80%20NAS%20%ED%95%98%EB%93%9C%EA%B3%B5%EC%9C%A0&img=http://shopping.phinf.naver.net/main_8277108/8277108997.jpg HTTP/1.1\" 200 72\n",
      "10.0.2.2 - - [21/Aug/2016 18:27:47] \"GET /classify?name=(%EC%83%88%EC%83%81%ED%92%88)%20(%EC%A0%95%ED%92%88)%20%EB%84%A4%ED%8A%B8%EC%9B%8C%ED%81%AC%ED%95%98%EB%93%9C%20NAS-II%20/%202T%20,%203T%20,%EC%A4%91%20%EC%84%A0%ED%83%9D[%EC%83%88%EC%83%81%ED%92%88%20%EB%B9%A0%EB%A5%B8%EB%B0%B0%EC%86%A1]&img=http://shopping.phinf.naver.net/main_8282885/8282885220.jpg HTTP/1.1\" 200 72\n",
      "10.0.2.2 - - [21/Aug/2016 18:27:47] \"GET /classify?name=[KB%EA%B5%AD%EB%AF%BC%EC%B9%B4%EB%93%9C5%%ED%95%A0%EC%9D%B8~13%EC%9D%BC%EA%B9%8C%EC%A7%80]ipTIME%20NAS1%20%EB%84%A4%ED%8A%B8%EC%9B%8C%ED%81%AC%20%EB%84%B7%ED%95%98%EB%93%9C%20/NAS%20/%201%EB%B2%A0%EC%9D%B4%20/%20HDD%20%EB%AF%B8%ED%83%91%EC%9E%AC%20/%20%EA%B8%B0%EA%B0%80%EB%B9%84%ED%8A%B8%20%EC%9C%A0%EC%84%A0%20/%20Torrent%20%EC%A7%80%EC%9B%90&img=http://shopping.phinf.naver.net/main_7656970/7656970791.jpg HTTP/1.1\" 200 72\n",
      "10.0.2.2 - - [21/Aug/2016 18:27:47] \"GET /classify?name=%EB%84%B7%EA%B8%B0%EC%96%B4%20%EB%84%A4%ED%8A%B8%EC%9B%8C%ED%81%AC%ED%95%98%EB%93%9C%20ReadyNAS%20RN2120%20+%2016TB%20(4TB%20HDD%20x%204%EA%B0%9C)&img=http://shopping.phinf.naver.net/main_6923060/6923060468.jpg HTTP/1.1\" 200 72\n",
      "10.0.2.2 - - [21/Aug/2016 18:27:47] \"GET /classify?name=3.5%ED%98%95%20%EA%B8%B0%EC%97%85%EC%9A%A9%20NAS%20HDD%20EnterPrise%20NAS%206TB%20[ST6000VN0001]%20(128MB%20/%207200RPM%20/%20SATA3%206Gb/s%20/%20RV%EC%84%BC%EC%84%9C)&img=http://shopping.phinf.naver.net/main_8338362/8338362081.jpg HTTP/1.1\" 200 72\n",
      "10.0.2.2 - - [21/Aug/2016 18:27:47] \"GET /classify?name=[NETGEAR]%20%EB%84%B7%EA%B8%B0%EC%96%B4%20%EB%A0%88%EB%94%94%EB%82%98%EC%8A%A4%20ReadyNAS%20RN102%20%EB%B3%B8%EC%B2%B4(%ED%95%98%EB%93%9C%EB%AF%B8%ED%8F%AC%ED%95%A8)%202BAY%20SOHO%20NAS&img=http://shopping.phinf.naver.net/main_7380271/7380271138.jpg HTTP/1.1\" 200 72\n",
      "10.0.2.2 - - [21/Aug/2016 18:27:47] \"GET /classify?name=[%EB%84%B7%EA%B8%B0%EC%96%B4]%20%EB%84%A4%ED%8A%B8%EC%9B%8C%ED%81%AC%ED%95%98%EB%93%9C%20ReadyNAS%20RN104%20/%208TB%20[2TB%20HDD%20x%204%EA%B0%9C](%ED%81%B4%EB%9D%BC%EC%9A%B0%EB%93%9C%20%ED%8C%8C%EC%9D%BC%20%EB%8F%99%EA%B8%B0%ED%99%94%20/%20RAID%20/%20SATA3)&img=http://shopping.phinf.naver.net/main_7712504/7712504925.jpg HTTP/1.1\" 200 72\n",
      "10.0.2.2 - - [21/Aug/2016 18:27:47] \"GET /classify?name=[%EC%9D%B4%EB%B2%A0%EC%9D%B4%EC%9A%A9](IC)3.5%EC%9D%B8%EC%B9%98%201%EB%B2%A0%EC%9D%B4%20%ED%95%98%EB%93%9C%EB%9E%99/H&img=http://shopping.phinf.naver.net/main_8252158/8252158629.jpg HTTP/1.1\" 200 72\n"
     ]
    },
    {
     "name": "stdout",
     "output_type": "stream",
     "text": [
      "classify called\n",
      "classify called\n",
      "classify called\n",
      "classify called\n",
      "classify called\n",
      "classify called\n",
      "classify called\n",
      "classify called\n",
      "classify called\n",
      "classify called\n",
      "classify called\n",
      "classify called\n",
      "classify called\n"
     ]
    },
    {
     "name": "stderr",
     "output_type": "stream",
     "text": [
      "10.0.2.2 - - [21/Aug/2016 18:27:47] \"GET /classify?name=%ED%95%9C%EC%84%B1%EC%BB%B4%ED%93%A8%ED%84%B0%20EXN%20COMBO%20USB3.0/%EC%99%B8%EC%9E%A5DVD%EB%A0%88%EC%BD%94%EB%8D%94/%EC%99%B8%EC%9E%A5CD%EB%A1%AC&img=http://shopping.phinf.naver.net/main_8235228/8235228885.jpg HTTP/1.1\" 200 72\n",
      "10.0.2.2 - - [21/Aug/2016 18:27:47] \"GET /classify?name=[4%%EC%A6%89%EC%8B%9C%ED%95%A0%EC%9D%B8%EC%BF%A0%ED%8F%B0]%EC%82%BC%EC%84%B1%EC%A0%84%EC%9E%90%20AA-ES3P95M%20%EC%82%BC%EC%84%B1%EC%95%84%ED%8B%B0%EB%B8%8C%EC%A0%95%ED%92%88%20%EC%99%B8%EC%9E%A5%20SLIM%20DVD%20Writer(HM)&img=http://shopping.phinf.naver.net/main_8253154/8253154944.jpg HTTP/1.1\" 200 72\n",
      "10.0.2.2 - - [21/Aug/2016 18:27:47] \"GET /classify?name=[%ED%94%BC%EC%8B%9C%ED%8F%AC%EC%98%AC]%20%EB%94%94%EC%A7%80%ED%84%B8%EC%A1%B4%20DB-216(CD/DVD%EB%B3%B5%EC%82%AC%EA%B8%B0/1%EB%8C%801)%20%20%EB%8B%B9%EC%9D%BC%EB%B0%9C%EC%86%A1%20[%EC%95%88%EC%A0%84%ED%95%9C%ED%8F%AC%EC%9E%A5%20/%20%EC%B4%9D%EC%95%8C%EB%B0%B0%EC%86%A1]&img=http://shopping.phinf.naver.net/main_8276462/8276462078.jpg HTTP/1.1\" 200 72\n",
      "10.0.2.2 - - [21/Aug/2016 18:27:47] \"GET /classify?name=[%ED%94%BC%EC%8B%9C%ED%8F%AC%EC%98%AC]%20iRACK%20iR-C3598%20%ED%95%AB%EC%8A%A4%EC%99%93%EB%B2%A0%EC%9D%B4%20%EB%B8%8C%EB%9D%BC%EC%BC%93%20%EB%B2%8C%ED%81%AC%20(2.5%EC%9D%B8%EC%B9%98%EB%A5%BC%203.5%EC%9D%B8%EC%B9%98%EB%A1%9C%20%EB%B3%80%ED%99%98)%20%20%EB%8B%B9%EC%9D%BC%EB%B0%9C%EC%86%A1[%EC%95%88%EC%A0%84%ED%95%9C%ED%8F%AC%EC%9E%A5/%EC%B4%9D%EC%95%8C%EB%B0%B0%EC%86%A1]&img=http://shopping.phinf.naver.net/main_8270918/8270918204.jpg HTTP/1.1\" 200 72\n",
      "10.0.2.2 - - [21/Aug/2016 18:27:47] \"GET /classify?name=[%EC%9D%B4%EB%B2%A0%EC%9D%B4%EC%9A%A9](C)FDD%20%EA%B0%80%EC%9D%B4%EB%93%9C/%EB%8F%84%ED%82%B9%20%ED%81%AC%EB%9E%98%EB%93%A4&img=http://shopping.phinf.naver.net/main_8249521/8249521448.jpg HTTP/1.1\" 200 72\n",
      "10.0.2.2 - - [21/Aug/2016 18:27:47] \"GET /classify?name=(EZ)%20[%EB%94%94%EC%A7%80%ED%84%B8%EC%A1%B4]%20[%EB%94%94%EC%A1%B4%EC%95%84%EC%9D%B4]%20DZONEI%20USB807%20PRO%20[%ED%95%98%EB%93%9C%20%EB%B3%B5%EC%82%AC%EA%B8%B0]&img=http://shopping.phinf.naver.net/main_8260563/8260563332.jpg HTTP/1.1\" 200 105\n",
      "10.0.2.2 - - [21/Aug/2016 18:27:47] \"GET /classify?name=[%ED%94%BC%EC%8B%9C%ED%8F%AC%EC%98%AC]%20%EC%95%A4%EB%94%94%EC%BD%94%20AIO%20EasySTOR%20340SS%20(%ED%95%98%EB%93%9C%EB%9E%99/SATA/4%EB%8B%A8)%20%EB%8B%B9%EC%9D%BC%EB%B0%9C%EC%86%A1[%EC%95%88%EC%A0%84%ED%95%9C%ED%8F%AC%EC%9E%A5/%EC%B4%9D%EC%95%8C%EB%B0%B0%EC%86%A1]&img=http://shopping.phinf.naver.net/main_8276345/8276345686.jpg HTTP/1.1\" 200 72\n",
      "10.0.2.2 - - [21/Aug/2016 18:27:47] \"GET /classify?name=%EB%A7%91%EC%9D%80%EB%88%84%EB%A6%ACAROCKETRAID-2302X4-PCI%20[%ED%95%98%EC%9D%B4%ED%8F%AC%EC%9D%B8%ED%8A%B8]%20%20RocketRAID%202302%20PCI-E%201X%204ch%20RAID%20%EC%BB%A8%ED%8A%B8%EB%A1%A4%EB%9F%AC&img=http://shopping.phinf.naver.net/main_8245435/8245435298.jpg HTTP/1.1\" 200 90\n",
      "10.0.2.2 - - [21/Aug/2016 18:27:47] \"GET /classify?name=[4%%EC%A6%89%EC%8B%9C%ED%95%A0%EC%9D%B8%EC%BF%A0%ED%8F%B0]ASUS%20%20DRW-24F1ST%20(%EB%82%B4%EC%9E%A5%ED%98%95%20%20%EC%A0%95%ED%92%88%EB%B2%8C%ED%81%AC)&img=http://shopping.phinf.naver.net/main_8250425/8250425231.jpg HTTP/1.1\" 200 72\n",
      "10.0.2.2 - - [21/Aug/2016 18:27:47] \"GET /classify?name=%EB%9D%BC%EC%9D%B4%ED%8A%B8%EC%BB%B4%20ES-04%20%EB%B8%94%EB%9E%99&img=http://shopping.phinf.naver.net/main_5473071/5473071558.20120211200244.jpg HTTP/1.1\" 200 72\n",
      "10.0.2.2 - - [21/Aug/2016 18:27:47] \"GET /classify?name=[%EB%AC%B4%EB%A3%8C%EB%B0%B0%EC%86%A1]EFM%EB%84%A4%ED%8A%B8%EC%9C%85%EC%8A%A4%20iptime%20DVD101%20%EB%B8%94%EB%9E%99%20%EC%99%B8%EC%9E%A5%ED%98%95%20DVD%20CD%EB%A1%AC&img=http://shopping.phinf.naver.net/main_8252086/8252086344.jpg HTTP/1.1\" 200 72\n",
      "10.0.2.2 - - [21/Aug/2016 18:27:47] \"GET /classify?name=%EC%82%BC%EC%84%B1%EC%A0%84%EC%9E%90%20SE-506CB%20%EB%B8%94%EB%9E%99&img=http://shopping.phinf.naver.net/main_7584578/7584578884.20141208175258.jpg HTTP/1.1\" 200 72\n",
      "10.0.2.2 - - [21/Aug/2016 18:27:47] \"GET /classify?name=YBH%20LG%EC%A0%84%EC%9E%90%20%20BH16NS40%20(%EC%A0%95%ED%92%88%20%EB%B0%95%EC%8A%A4)&img=http://shopping.phinf.naver.net/main_8258576/8258576434.jpg HTTP/1.1\" 200 71\n",
      "10.0.2.2 - - [21/Aug/2016 18:27:47] \"GET /classify?name=%EC%BB%B4%EC%83%B7%20%EB%B8%94%EB%A3%A8%EB%A0%88%EC%9D%B4/3D%EC%B6%9C%EB%A0%A5/%20LG%EC%A0%84%EC%9E%90%20%20BH16NS40%20(%EC%A0%95%ED%92%88%20%EB%B0%95%EC%8A%A4)%2016%EB%B0%B0%EC%86%8D&img=http://shopping.phinf.naver.net/main_8217623/8217623643.jpg HTTP/1.1\" 200 93\n",
      "10.0.2.2 - - [21/Aug/2016 18:27:47] \"GET /classify?name=[4%%EC%A6%89%EC%8B%9C%ED%95%A0%EC%9D%B8%EC%BF%A0%ED%8F%B0]%20ICODA%20%20%EC%82%BC%EC%84%B1%20Blu-ray%20SE-506CB%20%ED%99%94%EC%9D%B4%ED%8A%B8%20%EC%99%B8%EC%9E%A5%ED%98%95%20%EB%B8%94%EB%A3%A8%EB%A0%88&img=http://shopping.phinf.naver.net/main_8178434/8178434667.jpg HTTP/1.1\" 200 72\n"
     ]
    },
    {
     "name": "stdout",
     "output_type": "stream",
     "text": [
      "classify called\n",
      "classify called\n",
      "classify called\n",
      "classify called\n",
      "classify called\n",
      "classify called\n",
      "classify called\n",
      "classify called\n",
      "classify called\n",
      "classify called\n",
      "classify called\n",
      "classify called\n",
      "classify called\n",
      "classify called\n",
      "classify called\n"
     ]
    },
    {
     "name": "stderr",
     "output_type": "stream",
     "text": [
      "10.0.2.2 - - [21/Aug/2016 18:27:47] \"GET /classify?name=[4%%EC%A6%89%EC%8B%9C%ED%95%A0%EC%9D%B8%EC%BF%A0%ED%8F%B0][%ED%95%B4%EC%99%B8]%20%20%EB%B0%94%EC%9E%89%ED%8F%BC%20LG/LG%20WH16NS40%20Super%20Multi%20Blue%20Internal%20S%20%ED%95%B4%EC%99%B8%20%EC%A0%95%ED%92%88%20%EC%A7%81%EB%B0%B0%EC%86%A1&img=http://shopping.phinf.naver.net/main_8097721/8097721641.1.jpg HTTP/1.1\" 200 118\n",
      "10.0.2.2 - - [21/Aug/2016 18:27:47] \"GET /classify?name=[4%%EC%A6%89%EC%8B%9C%ED%95%A0%EC%9D%B8%EC%BF%A0%ED%8F%B0]%EB%82%B4%EC%9E%A5%20%EC%86%8C%EB%8B%88%20SONY%20%EB%B8%94%EB%A3%A8%EB%A0%88%EC%9D%B4%20%EC%BD%A4%EB%B3%B4%20BC-5500H%20%EC%9D%BD%EA%B8%B0%20%EA%B0%80%EB%8A%A5&img=http://shopping.phinf.naver.net/main_8048346/8048346466.jpg HTTP/1.1\" 200 93\n",
      "10.0.2.2 - - [21/Aug/2016 18:27:47] \"GET /classify?name=%EC%82%BC%EC%84%B1%20SE-506CB%20%EC%99%B8%EC%9E%A5%20%EB%B8%94%EB%A3%A8%EB%A0%88%EC%9D%B4/%EC%99%B8%EC%9E%A5%20odd/%EC%99%B8%EC%9E%A5%ED%98%95%20odd&img=http://shopping.phinf.naver.net/main_7845661/7845661291.jpg HTTP/1.1\" 200 72\n",
      "10.0.2.2 - - [21/Aug/2016 18:27:47] \"GET /classify?name=[4%%EC%A6%89%EC%8B%9C%ED%95%A0%EC%9D%B8%EC%BF%A0%ED%8F%B0][%EB%A1%9C%EC%BB%A4%EC%8A%A4]%20[GE]%20%EC%9E%98%EB%A7%8C%20M200%20%EA%B4%91%EB%A7%88%EC%9A%B0%EC%8A%A4%20%EC%9D%B8%EA%B8%B0%EC%88%9C%EC%9C%84%201%EC%9C%84%20%EC%B5%9C%EC%A0%80%EA%B0%80%20%EC%BB%B4%ED%93%A8%ED%84%B0%20%ED%8C%90%EB%A7%A4%EC%A0%90.%20LTE-A%EA%B8%89%20%EB%B0%B0%EC%86%A1.&img=http://shopping.phinf.naver.net/main_8062199/8062199344.jpg HTTP/1.1\" 200 100\n",
      "10.0.2.2 - - [21/Aug/2016 18:27:47] \"GET /classify?name=[4%%EC%A6%89%EC%8B%9C%ED%95%A0%EC%9D%B8%EC%BF%A0%ED%8F%B0]USB2.0%20%EB%B8%94%EB%A3%A8%EB%A0%88%EC%9D%B4%20%EC%BD%A4%EB%B3%B4(BC-5500H)&img=http://shopping.phinf.naver.net/main_8016581/8016581806.jpg HTTP/1.1\" 200 93\n",
      "10.0.2.2 - - [21/Aug/2016 18:27:47] \"GET /classify?name=[4%%EC%A6%89%EC%8B%9C%ED%95%A0%EC%9D%B8%EC%BF%A0%ED%8F%B0]HP%20LG%20%EB%85%B8%ED%8A%B8%EB%B6%81%20%EB%82%B4%EC%9E%A5%20%EB%B8%94%EB%A3%A8%EB%A0%88%EC%9D%B4%20SATA%20%EC%8B%A0%EC%A0%9C%ED%92%88%20%EB%B0%A9%EB%AC%B8%EC%8B%9C%EB%AC%B4%EB%A3%8C%EC%9E%A5%EC%B0%A9&img=http://shopping.phinf.naver.net/main_7865616/7865616577.1.jpg HTTP/1.1\" 200 93\n",
      "10.0.2.2 - - [21/Aug/2016 18:27:47] \"GET /classify?name=[4%%EC%A6%89%EC%8B%9C%ED%95%A0%EC%9D%B8%EC%BF%A0%ED%8F%B0]%EC%86%8C%EB%8B%88%20%EC%86%8C%EB%8B%88%20BC-5500H%20%EB%B8%94%EB%A3%A8%EB%A0%88%EC%9D%B4%20%EC%BD%A4%EB%B3%B4&img=http://shopping.phinf.naver.net/main_8016269/8016269599.jpg HTTP/1.1\" 200 93\n",
      "10.0.2.2 - - [21/Aug/2016 18:27:47] \"GET /classify?name=[%ED%95%B4%EC%99%B8]USB%202.0%20TO%20DVD%20CD%20COMBO%20ROM%20RW%20Drive&img=http://shopping.phinf.naver.net/main_8059412/8059412206.jpg HTTP/1.1\" 200 72\n",
      "10.0.2.2 - - [21/Aug/2016 18:27:47] \"GET /classify?name=[4%%EC%A6%89%EC%8B%9C%ED%95%A0%EC%9D%B8%EC%BF%A0%ED%8F%B0]%EB%85%B8%ED%8A%B8%EB%B6%81%EC%9A%A9%20%EC%86%8C%EB%8B%88%20%EB%B8%94%EB%A3%A8%EB%A0%88%EC%9D%B4%20%EC%BD%A4%EB%B3%B4%20BC-5500H&img=http://shopping.phinf.naver.net/main_8016521/8016521572.jpg HTTP/1.1\" 200 93\n",
      "10.0.2.2 - - [21/Aug/2016 18:27:47] \"GET /classify?name=[%ED%95%B4%EC%99%B8]Sony%20PCGA-CD51%20VAIO%20External%20CD-ROM%20Disc%20Drive%20Assy&img=http://shopping.phinf.naver.net/main_8060045/8060045657.jpg HTTP/1.1\" 200 72\n",
      "10.0.2.2 - - [21/Aug/2016 18:27:47] \"GET /classify?name=[%ED%95%B4%EC%99%B8]3D%20Home%20Architect%20Edition%202%20Windows%20CD-ROM&img=http://shopping.phinf.naver.net/main_8060045/8060045649.jpg HTTP/1.1\" 200 72\n"
     ]
    },
    {
     "name": "stdout",
     "output_type": "stream",
     "text": [
      "classify called\n",
      "classify called\n",
      "classify called\n",
      "classify called\n",
      "classify called\n",
      "classify called\n",
      "classify called\n",
      "classify called\n",
      "classify called\n",
      "classify called\n",
      "classify called\n"
     ]
    },
    {
     "name": "stderr",
     "output_type": "stream",
     "text": [
      "10.0.2.2 - - [21/Aug/2016 18:27:47] \"GET /classify?name=[4%%EC%A6%89%EC%8B%9C%ED%95%A0%EC%9D%B8%EC%BF%A0%ED%8F%B0]SN-506BB%20%EB%85%B8%ED%8A%B8%EB%B6%81%EC%9A%A9%20BD-MULTI/SATA/12.7mm/%EC%A0%95%ED%92%88%EB%B2%8C%ED%81%AC&img=http://shopping.phinf.naver.net/main_7885417/7885417143.jpg HTTP/1.1\" 200 72\n",
      "10.0.2.2 - - [21/Aug/2016 18:27:47] \"GET /classify?name=[%ED%95%B4%EC%99%B8](WattaMall)(%EC%BB%A8%EB%84%A5%ED%84%B0)Black%20ASUS%2012X%20BD%20SATA%20Blu-ray%20Optical%20Drive,%202%20MB%20Buffer&img=http://shopping.phinf.naver.net/main_7977485/7977485527.jpg HTTP/1.1\" 200 72\n",
      "10.0.2.2 - - [21/Aug/2016 18:27:47] \"GET /classify?name=[%ED%95%B4%EC%99%B8]Asus%20Us%20Blu-ray%20Optical%20Drive%20(bc-12b1st/blk/b/as%20(bulk))%20-&img=http://shopping.phinf.naver.net/main_7212299/7212299628.jpg HTTP/1.1\" 200 72\n",
      "10.0.2.2 - - [21/Aug/2016 18:27:47] \"GET /classify?name=[%ED%95%B4%EC%99%B8]%20%20Case%20Logic%20Case%20Logic%20JDS-6%20USB%20Drive%20Shuttle%206-Capacity-Black%20%EB%BD%90%EB%BF%8C%EC%A7%88%20%EC%A0%80%EB%A0%B4%ED%95%9C%20%EA%B5%AC%EB%A7%A4%EB%8C%80%ED%96%89%20%EC%A7%81%EA%B5%AC&img=http://shopping.phinf.naver.net/main_8253902/8253902499.jpg HTTP/1.1\" 200 72\n",
      "10.0.2.2 - - [21/Aug/2016 18:27:47] \"GET /classify?name=[4%%EC%A6%89%EC%8B%9C%ED%95%A0%EC%9D%B8%EC%BF%A0%ED%8F%B0][TSZ]%20ipTIME%20DVD101%20%EC%99%B8%EC%9E%A5%ED%98%95%20DVD-Multi%20%EB%B8%94%EB%9E%99/%ED%99%94%EC%9D%B4%ED%8A%B8%20%EC%95%84%EC%9D%B4%ED%94%BC%ED%83%80%EC%9E%84&img=http://shopping.phinf.naver.net/main_6967018/6967018404.1.jpg HTTP/1.1\" 200 72\n",
      "10.0.2.2 - - [21/Aug/2016 18:27:47] \"GET /classify?name=[4%%EC%A6%89%EC%8B%9C%ED%95%A0%EC%9D%B8%EC%BF%A0%ED%8F%B0][TSZ]%20ipTIME%20DVD101%20Premium%20Pack%20%EC%99%B8%EC%9E%A5%ED%98%95%20DVD-Multi%20%EB%B8%94%EB%9E%99/%ED%99%94%EC%9D%B4%ED%8A%B8%20%EC%95%84%EC%9D%B4%ED%94%BC%ED%83%80%EC%9E%84&img=http://shopping.phinf.naver.net/main_6967012/6967012097.1.jpg HTTP/1.1\" 200 72\n",
      "10.0.2.2 - - [21/Aug/2016 18:27:47] \"GET /classify?name=ipTIME%20DVD101%20%EC%99%B8%EC%9E%A5%ED%98%95%20DVD-Multi%20%EB%B8%94%EB%9E%99/%ED%99%94%EC%9D%B4%ED%8A%B8&img=http://shopping.phinf.naver.net/main_6999381/6999381352.jpg HTTP/1.1\" 200 72\n",
      "10.0.2.2 - - [21/Aug/2016 18:27:47] \"GET /classify?name=LG%EC%A0%84%EC%9E%90%20%EC%8A%AC%EB%A6%BC%ED%98%95%20%20ODD%20GP60NS51%20(S/%ED%99%94%EC%9D%B4%ED%8A%B8/LG%EC%98%A8%EB%9D%BC%EC%9D%B8%EC%9D%B8%EC%A6%9D%EC%A0%90)&img=http://shopping.phinf.naver.net/main_7595956/7595956114.jpg HTTP/1.1\" 200 72\n",
      "10.0.2.2 - - [21/Aug/2016 18:27:47] \"GET /classify?name=%EC%97%98%EC%A7%80%EC%A0%84%EC%9E%90(LG%EC%A0%84%EC%9E%90)%20[LG%EC%98%A8%EB%9D%BC%EC%9D%B8%EC%9D%B8%EC%A6%9D%EC%A0%90]LG%EC%A0%84%EC%9E%90%20%EC%8A%AC%EB%A6%BC%ED%98%95%20%20ODD%20GP60NS51%20(S)%ED%99%94%EC%9D%B4%ED%8A%B8&img=http://shopping.phinf.naver.net/main_7596884/7596884624.jpg HTTP/1.1\" 200 71\n",
      "10.0.2.2 - - [21/Aug/2016 18:27:47] \"GET /classify?name=[LG%EC%98%A8%EB%9D%BC%EC%9D%B8%EC%9D%B8%EC%A6%9D%EC%A0%90]GP50NW40(S)%ED%99%94%EC%9D%B4%ED%8A%B8/%EC%8A%A4%EB%A7%88%ED%8A%B8%EC%99%B8%EC%9E%A5%ED%98%95ODD/%EC%8A%AC%EB%A6%BC%EB%A9%80%ED%8B%B0DVD%EC%A0%95%ED%92%88%EB%B0%95%EC%8A%A4/%EC%99%B8%EC%9E%A5CD%EB%A1%AC/%EC%99%B8%EC%9E%A5DVD/DVD%ED%94%8C%EB%A0%88%EC%9D%B4%EC%96%B4/DVD%EB%A1%AC/DVD-RW&img=http://shopping.phinf.naver.net/main_6830263/6830263908.jpg HTTP/1.1\" 200 93\n",
      "10.0.2.2 - - [21/Aug/2016 18:27:47] \"GET /classify?name=LG%EC%A0%84%EC%9E%90%20%20%EB%AC%B4%EB%A6%BC%20%20%20LG%EC%A0%84%EC%9E%90%20%20Slim%20Portable%20DVD%20Writer%20GP60NS50%20PC%EB%B6%80%ED%92%88%EA%B5%AC%EB%A7%A4%EB%8A%94%20%EB%AC%B4%EB%A6%BC%ED%94%BC%EC%8B%9C&img=http://shopping.phinf.naver.net/main_7343529/7343529401.jpg HTTP/1.1\" 200 72\n",
      "10.0.2.2 - - [21/Aug/2016 18:27:47] \"GET /classify?name=%E2%96%A0%E2%96%A0%E2%96%A0%E2%96%A0%E2%96%A0%E2%96%A0%E2%96%A0%E2%96%A0%E2%96%A0%E2%96%A0%E2%96%A0%E2%96%A0%EB%8B%B9%E2%96%A0%E2%96%A0%EC%9D%BC%E2%96%A0%E2%96%A0%EB%B0%9C%E2%96%A0%E2%96%A0%EC%86%A1%E2%96%A0%E2%96%A0%E2%96%A0%E2%96%A0%E2%96%A0%E2%96%A0%E2%96%A0%E2%96%A0%E2%96%A0%E2%96%A0%E2%96%A0%E2%96%A0%20LG%EC%A0%84%EC%9E%90%20Slim%20Portable%20DVD%20Writer%20AP60NB60%20%EC%99%B8%EC%9E%A5%ED%98%95%20(%EC%A0%95%ED%92%88%EB%B0%95%EC%8A%A4)&img=http://shopping.phinf.naver.net/main_8267193/8267193214.jpg HTTP/1.1\" 200 72\n",
      "10.0.2.2 - - [21/Aug/2016 18:27:47] \"GET /classify?name=%EB%A7%91%EC%9D%80%EB%88%84%EB%A6%ACAITA352%20SATA%20%EC%A0%84%EC%9B%90%20%EC%BC%80%EC%9D%B4%EB%B8%94(SATA%20PCB%20to%20VAG%206P)&img=http://shopping.phinf.naver.net/main_8245412/8245412780.jpg HTTP/1.1\" 200 79\n",
      "10.0.2.2 - - [21/Aug/2016 18:27:48] \"GET /classify?name=%EB%A7%91%EC%9D%80%EB%88%84%EB%A6%ACAC3531%20SAS/SATA%20%EC%BC%80%EC%9D%B4%EB%B8%94/50cm/%EC%A0%84%EC%9B%90%ED%8F%AC%ED%95%A8&img=http://shopping.phinf.naver.net/main_8245386/8245386112.jpg HTTP/1.1\" 200 79\n",
      "10.0.2.2 - - [21/Aug/2016 18:27:48] \"GET /classify?name=[4%%EC%A6%89%EC%8B%9C%ED%95%A0%EC%9D%B8%EC%BF%A0%ED%8F%B0]%EC%82%BC%EC%84%B1%EC%A0%84%EC%9E%90%20Super-WriteMaster%20SH-224DB(%EB%B8%94%EB%9E%99%20%EC%A0%95%ED%92%88%EB%B2%8C%ED%81%AC)&img=http://shopping.phinf.naver.net/main_8260928/8260928160.jpg HTTP/1.1\" 200 72\n",
      "10.0.2.2 - - [21/Aug/2016 18:27:48] \"GET /classify?name=[4%%EC%A6%89%EC%8B%9C%ED%95%A0%EC%9D%B8%EC%BF%A0%ED%8F%B0]%EC%82%BC%EC%84%B1%EC%A0%84%EC%9E%90%20(CDR)%20%EC%82%BC%EC%84%B1%EC%A0%84%EC%9E%90%20%20Ultra%20Thin%20Portable%20DVD%20Writer%20SE-&img=http://shopping.phinf.naver.net/main_8259013/8259013981.jpg HTTP/1.1\" 200 72\n"
     ]
    },
    {
     "name": "stdout",
     "output_type": "stream",
     "text": [
      "classify called\n",
      "classify called\n",
      "classify called\n",
      "classify called\n",
      "classify called\n",
      "classify called\n",
      "classify called\n",
      "classify called\n",
      "classify called\n",
      "classify called\n",
      "classify called\n",
      "classify called\n",
      "classify called\n",
      "classify called\n",
      "classify called\n",
      "classify called\n"
     ]
    },
    {
     "name": "stderr",
     "output_type": "stream",
     "text": [
      "10.0.2.2 - - [21/Aug/2016 18:27:48] \"GET /classify?name=LG%EC%A0%84%EC%9E%90%20GCC-4240N%20%EB%B8%94%EB%9E%99&img=http://shopping.phinf.naver.net/main_4063843/4063843394.jpg HTTP/1.1\" 200 72\n",
      "10.0.2.2 - - [21/Aug/2016 18:27:48] \"GET /classify?name=%ED%8C%8C%EB%82%98%EC%86%8C%EB%8B%89%20UJDA-760%20%EB%B8%94%EB%9E%99&img=http://shopping.phinf.naver.net/main_4109515/4109515594.jpg HTTP/1.1\" 200 99\n",
      "10.0.2.2 - - [21/Aug/2016 18:27:48] \"GET /classify?name=BENQ%20CB523C%20%ED%99%94%EC%9D%B4%ED%8A%B8&img=http://shopping.phinf.naver.net/main_1100147/1100147439.20120211195252.jpg HTTP/1.1\" 200 79\n",
      "10.0.2.2 - - [21/Aug/2016 18:27:48] \"GET /classify?name=LG%EC%A0%84%EC%9E%90%20GCC-4521B%20%EB%B8%94%EB%9E%99&img=http://shopping.phinf.naver.net/main_1100059/1100059123.jpg HTTP/1.1\" 200 72\n",
      "10.0.2.2 - - [21/Aug/2016 18:27:48] \"GET /classify?name=LG%EC%A0%84%EC%9E%90%20GCC-H31NK%20%ED%99%94%EC%9D%B4%ED%8A%B8&img=http://shopping.phinf.naver.net/main_4102366/4102366525.jpg HTTP/1.1\" 200 72\n",
      "10.0.2.2 - - [21/Aug/2016 18:27:48] \"GET /classify?name=%EB%85%B8%ED%8A%B8%EB%B6%81%EC%9A%A9%20Super%20Slim%20Combo%20Drive/9.5mm&img=http://shopping.phinf.naver.net/main_5384925/5384925010.jpg HTTP/1.1\" 200 72\n",
      "10.0.2.2 - - [21/Aug/2016 18:27:48] \"GET /classify?name=pc%EB%B0%95%EC%8A%A4%20%EC%8B%A0%EC%84%B8%EA%B3%84%EC%97%90%EB%B0%98%EA%B2%8C%EB%A6%AC%EC%98%A8%20%EC%8B%A0%EC%A7%80%EC%9C%A1%EC%84%B1%EA%B3%84%ED%9A%8D&img=http://shopping.phinf.naver.net/main_8238373/8238373971.jpg HTTP/1.1\" 200 96\n",
      "10.0.2.2 - - [21/Aug/2016 18:27:48] \"GET /classify?name=[%ED%95%B4%EC%99%B8]%20Warner%20Bros%20Interactive%20Entertainment%20UK%20Middle-Ea%20%ED%95%B4%EC%99%B8%20%EC%A0%95%ED%92%88%20%EC%A7%81%EB%B0%B0%EC%86%A1&img=http://shopping.phinf.naver.net/main_8271344/8271344400.jpg HTTP/1.1\" 200 96\n",
      "10.0.2.2 - - [21/Aug/2016 18:27:48] \"GET /classify?name=[%ED%95%B4%EC%99%B8]%20Activision%20Prototype%202%20%ED%95%B4%EC%99%B8%20%EC%A0%95%ED%92%88%20%EC%A7%81%EB%B0%B0%EC%86%A1&img=http://shopping.phinf.naver.net/main_8271342/8271342699.jpg HTTP/1.1\" 200 118\n",
      "10.0.2.2 - - [21/Aug/2016 18:27:48] \"GET /classify?name=[PC%EC%A3%BC%EC%96%BC]%20%EC%9D%B4%EB%88%84%EC%95%BC%EC%82%AC%20/%20INUYASHA&img=http://shopping.phinf.naver.net/main_8274592/8274592160.jpg HTTP/1.1\" 200 96\n",
      "10.0.2.2 - - [21/Aug/2016 18:27:48] \"GET /classify?name=Bethesda%20%EC%97%98%EB%8D%94%EC%8A%A4%ED%81%AC%EB%A1%A4%205%20%EC%8A%A4%EC%B9%B4%EC%9D%B4%EB%A6%BC%20%EB%A0%88%EC%A0%84%EB%8D%94%EB%A6%AC%EC%97%90%EB%94%94%EC%85%98&img=http://shopping.phinf.naver.net/main_6924319/6924319381.20130531120010.jpg HTTP/1.1\" 200 87\n",
      "10.0.2.2 - - [21/Aug/2016 18:27:48] \"GET /classify?name=Bethesda%20%EC%97%98%EB%8D%94%EC%8A%A4%ED%81%AC%EB%A1%A4%205%20:%20%EC%8A%A4%EC%B9%B4%EC%9D%B4%EB%A6%BC&img=http://shopping.phinf.naver.net/main_6003694/6003694319.20120211210443.jpg HTTP/1.1\" 200 87\n",
      "10.0.2.2 - - [21/Aug/2016 18:27:48] \"GET /classify?name=EA%20%ED%81%AC%EB%9D%BC%EC%9D%B4%EC%8B%9C%EC%8A%A4%203&img=http://shopping.phinf.naver.net/main_6755553/6755553563.20130214123708.jpg HTTP/1.1\" 200 96\n",
      "10.0.2.2 - - [21/Aug/2016 18:27:48] \"GET /classify?name=PC/%ED%83%80%EC%9D%B4%ED%8B%80%20%EA%B7%B8%EB%9E%9C%EB%93%9C%20%ED%85%8C%ED%94%84%ED%8A%B8%20%EC%98%A4%ED%86%A0%20V%20(GTA5)%20(%ED%95%9C%EA%B8%80%ED%8C%90)&img=http://shopping.phinf.naver.net/main_8256285/8256285179.jpg HTTP/1.1\" 200 112\n",
      "10.0.2.2 - - [21/Aug/2016 18:27:48] \"GET /classify?name=CAPCOM%20%EB%B0%94%EC%9D%B4%EC%98%A4%ED%95%98%EC%9E%90%EB%93%9C%20%EB%A0%88%EB%B2%A8%EB%A0%88%EC%9D%B4%EC%85%98%EC%8A%A4&img=http://shopping.phinf.naver.net/main_6895374/6895374760.20130515180319.jpg HTTP/1.1\" 200 112\n",
      "10.0.2.2 - - [21/Aug/2016 18:27:48] \"GET /classify?name=UbiSoft%20%EB%93%9C%EB%9D%BC%EC%9D%B4%EB%B2%84%20:%20%EC%83%8C%20%ED%94%84%EB%9E%80%EC%8B%9C%EC%8A%A4%EC%BD%94&img=http://shopping.phinf.naver.net/main_5947909/5947909364.20120211195401.jpg HTTP/1.1\" 200 96\n"
     ]
    },
    {
     "name": "stdout",
     "output_type": "stream",
     "text": [
      "classify called\n",
      "classify called\n",
      "classify called\n",
      "classify called\n",
      "classify called\n",
      "classify called\n",
      "classify called\n",
      "classify called\n",
      "classify called\n",
      "classify called\n",
      "classify called\n",
      "classify called\n",
      "classify called\n",
      "classify called\n",
      "classify called\n",
      "classify called\n"
     ]
    },
    {
     "name": "stderr",
     "output_type": "stream",
     "text": [
      "10.0.2.2 - - [21/Aug/2016 18:27:48] \"GET /classify?name=EA%20%EB%93%9C%EB%9E%98%EA%B3%A4%20%EC%97%90%EC%9D%B4%EC%A7%80%202&img=http://shopping.phinf.naver.net/main_5737474/5737474915.20120211195337.jpg HTTP/1.1\" 200 96\n",
      "10.0.2.2 - - [21/Aug/2016 18:27:48] \"GET /classify?name=EA%20%ED%95%B4%EB%A6%AC%ED%8F%AC%ED%84%B0%EC%99%80%20%EB%B6%88%EC%82%AC%EC%A1%B0%20%EA%B8%B0%EC%82%AC%EB%8B%A8&img=http://shopping.phinf.naver.net/main_4062480/4062480185.20120211194517.jpg HTTP/1.1\" 200 96\n",
      "10.0.2.2 - - [21/Aug/2016 18:27:48] \"GET /classify?name=%EC%97%90%EC%96%B4%EB%A1%9C%20%ED%94%8C%EB%9D%BC%EC%9D%B4%ED%8A%B8%20%EC%8B%9C%EB%AE%AC%EB%A0%88%EC%9D%B4%ED%84%B0%20%EC%97%91%EC%8A%A4%20%ED%94%8C%EB%A0%88%EC%9D%B8%2010&img=http://shopping.phinf.naver.net/main_6212615/6212615984.20120229103746.jpg HTTP/1.1\" 200 96\n",
      "10.0.2.2 - - [21/Aug/2016 18:27:48] \"GET /classify?name=Activision%20%EC%BD%9C%20%EC%98%A4%EB%B8%8C%20%EB%93%80%ED%8B%B0%20:%20%EC%9B%94%EB%93%9C%20%EC%95%B3%20%EC%9B%8C&img=http://shopping.phinf.naver.net/main_4152768/4152768727.20120211194914.jpg HTTP/1.1\" 200 96\n",
      "10.0.2.2 - - [21/Aug/2016 18:27:48] \"GET /classify?name=Blizzard%20%EC%9B%8C%ED%81%AC%EB%9E%98%ED%94%84%ED%8A%B8%203%20:%20%EB%A0%88%EC%9D%B8%20%EC%98%A4%EB%B8%8C%20%EC%B9%B4%EC%98%A4%EC%8A%A4&img=http://shopping.phinf.naver.net/main_1100121/1100121296.20120211201125.jpg HTTP/1.1\" 200 96\n",
      "10.0.2.2 - - [21/Aug/2016 18:27:48] \"GET /classify?name=pc%EA%B2%8C%EC%9E%84%20%EC%9B%8C%ED%81%AC%EB%9E%98%ED%94%84%ED%8A%B83+%ED%94%84%EB%A1%9C%EC%A6%8C%EC%93%B0%EB%A1%A0%20%ED%95%A9%EB%B3%B8%20%ED%95%9C%EA%B8%80%ED%8C%90%20%EC%A5%AC%EC%96%BC&img=http://shopping.phinf.naver.net/main_8261628/8261628704.jpg HTTP/1.1\" 200 96\n",
      "10.0.2.2 - - [21/Aug/2016 18:27:48] \"GET /classify?name=EA%20%EC%8B%AC%EC%8B%9C%ED%8B%B0%20%EC%8A%A4%ED%83%A0%EB%8B%A4%EB%93%9C%20%EC%97%90%EB%94%94%EC%85%98&img=http://shopping.phinf.naver.net/main_6832464/6832464285.20130403155412.jpg HTTP/1.1\" 200 96\n",
      "10.0.2.2 - - [21/Aug/2016 18:27:48] \"GET /classify?name=%EC%9B%8C%EB%84%88%EB%B8%8C%EB%9D%BC%EB%8D%94%EC%8A%A4%20%ED%94%BC%EC%96%B4%202%20:%20%ED%94%84%EB%A1%9C%EC%A0%9D%ED%8A%B8%20%EC%98%A4%EB%A6%AC%EC%A7%84&img=http://shopping.phinf.naver.net/main_5362306/5362306784.20120211210512.jpg HTTP/1.1\" 200 124\n",
      "10.0.2.2 - - [21/Aug/2016 18:27:48] \"GET /classify?name=PC%20%EC%95%84%EB%A5%B4%EB%A7%883%20-%20%EC%8A%A4%ED%8C%80%20%EC%BD%94%EB%93%9C%EB%A1%9C%EB%A7%8C%20%EB%B0%9C%EC%86%A1&img=http://shopping.phinf.naver.net/main_8228823/8228823523.jpg HTTP/1.1\" 200 96\n",
      "10.0.2.2 - - [21/Aug/2016 18:27:48] \"GET /classify?name=Intrarings%20%EB%B0%B0%ED%8A%B8%EB%A7%A8%20:%20%EC%95%84%EC%BA%84%20%EC%96%B4%EC%82%AC%EC%9D%BC%EB%9F%BC&img=http://shopping.phinf.naver.net/main_5451161/5451161915.20120211203920.jpg HTTP/1.1\" 200 80\n",
      "10.0.2.2 - - [21/Aug/2016 18:27:48] \"GET /classify?name=Blizzard%20%EC%8A%A4%ED%83%80%ED%81%AC%EB%9E%98%ED%94%84%ED%8A%B8%20II%20%20:%20%EA%B5%B0%EB%8B%A8%EC%9D%98%20%EC%8B%AC%EC%9E%A5%20+%20%EC%9E%90%EC%9C%A0%EC%9D%98%20%EB%82%A0%EA%B0%9C%20%ED%95%A9%EB%B3%B8&img=http://shopping.phinf.naver.net/main_6840537/6840537357.20130408150328.jpg HTTP/1.1\" 200 96\n",
      "10.0.2.2 - - [21/Aug/2016 18:27:48] \"GET /classify?name=PC%20%ED%86%A0%ED%83%88%EC%9B%8C%20%EC%95%84%ED%8B%B8%EB%9D%BC%20%EC%98%88%EC%95%BD%ED%8C%90%EB%A7%A4%20/%20TOTAL%20WAR&img=http://shopping.phinf.naver.net/main_8277627/8277627036.jpg HTTP/1.1\" 200 96\n"
     ]
    },
    {
     "name": "stdout",
     "output_type": "stream",
     "text": [
      "classify called\n",
      "classify called\n",
      "classify called\n",
      "classify called\n",
      "classify called\n",
      "classify called\n",
      "classify called\n",
      "classify called\n",
      "classify called\n",
      "classify called\n",
      "classify called\n",
      "classify called\n",
      "classify called\n"
     ]
    },
    {
     "name": "stderr",
     "output_type": "stream",
     "text": [
      "10.0.2.2 - - [21/Aug/2016 18:27:48] \"GET /classify?name=[%EB%B8%94%EB%A3%A8%EB%A0%88%EC%9D%B4]%20%ED%96%89%EC%98%A4%EB%B2%843%20(1DISC)[The%20Hangover%20Part%20III]&img=http://shopping.phinf.naver.net/main_7131537/7131537011.jpg HTTP/1.1\" 200 93\n",
      "10.0.2.2 - - [21/Aug/2016 18:27:48] \"GET /classify?name=[%EA%B0%90%EB%8F%99%EC%84%B8%EC%9D%BC][%EC%9D%B4%EC%82%AD%EC%A4%8D%EA%B8%B0%20300%EC%A1%B0%EA%B0%81]%20%EA%B5%AD%EB%82%B4%EC%A0%9C%EC%9E%91%20%ED%8D%BC%EC%A6%90%20%ED%8C%90%ED%8D%BC%EC%A6%90%20%EC%A7%81%EC%86%8C%ED%8D%BC%EC%A6%90%20%EC%96%B4%EB%A6%B0%EC%9D%B4%EC%9E%A5%EB%82%9C%EA%B0%90%20%EC%9E%A5%EB%82%9C%EA%B0%90%20%EC%A1%B0%EA%B0%81%ED%8D%BC%EC%A6%90%20%ED%8C%90%ED%8D%BC%EC%A6%90%20%EC%A7%81%EC%86%8C%ED%8D%BC%EC%A6%90%20%EC%A1%B0%EA%B0%81%ED%8D%BC%EC%A6%90%20%ED%8D%BC%EC%A6%90%20%EC%B7%A8[%EB%B9%A0%EB%A5%B8%EB%B0%B0%EC%86%A1]&img=http://shopping.phinf.naver.net/main_8115944/8115944864.jpg HTTP/1.1\" 200 111\n",
      "10.0.2.2 - - [21/Aug/2016 18:27:48] \"GET /classify?name=[PC/%ED%83%80%EC%9D%B4%ED%8B%80]%20%EB%94%94%EC%95%84%EB%B8%94%EB%A1%9C%203%20(%ED%95%9C%EA%B8%80%ED%8C%90)[[%20%EB%94%94%EC%95%843%20%EC%9B%90%EB%B3%B8%20%ED%95%9C%EA%B8%80%ED%8C%90]]&img=http://shopping.phinf.naver.net/main_7578094/7578094297.jpg HTTP/1.1\" 200 112\n",
      "10.0.2.2 - - [21/Aug/2016 18:27:48] \"GET /classify?name=PC/DVD%20%EB%94%94%EC%95%84%EB%B8%94%EB%A1%9C3%20/%20%EC%9B%90%EB%B3%B8%20/%20%ED%95%9C%EA%B8%80%ED%8C%90&img=http://shopping.phinf.naver.net/main_7468546/7468546146.jpg HTTP/1.1\" 200 96\n",
      "10.0.2.2 - - [21/Aug/2016 18:27:48] \"GET /classify?name=%EB%B0%94%EB%B3%B4%EC%82%AC%EB%9E%91%20%EC%97%90%EB%93%80%EC%BC%80%EC%9D%B4%EC%85%94%EB%84%90%20DIY%EB%82%98%EB%AC%B4%EC%A1%B0%EB%A6%BD%EB%AA%A8%ED%98%95%EC%9D%B8%ED%98%95%EC%9D%98%EC%A7%91883&img=http://shopping.phinf.naver.net/main_7342259/7342259532.1.jpg HTTP/1.1\" 200 104\n",
      "10.0.2.2 - - [21/Aug/2016 18:27:48] \"GET /classify?name=[%EB%AA%A8%EB%8F%84%EC%BB%B4%ED%8D%BC%EB%8B%88][PC-BOX]%20%EB%A6%AC%EB%A9%A4%EB%B2%84%20%EB%AF%B8%20(Remember%20Me)&img=http://shopping.phinf.naver.net/main_6920653/6920653148.jpg HTTP/1.1\" 200 96\n",
      "10.0.2.2 - - [21/Aug/2016 18:27:48] \"GET /classify?name=(PSVITA/%EA%B2%8C%EC%9E%84)%ED%8C%8C%EC%9D%B4%EB%84%90%20%ED%8C%90%ED%83%80%EC%A7%80%20X-2%20HD%20%EB%A6%AC%EB%A7%88%EC%8A%A4%ED%84%B0%20%EC%9D%BC%EB%B0%98%ED%8C%90%20%ED%95%9C%EA%B8%80%ED%8C%90&img=http://shopping.phinf.naver.net/main_7580161/7580161275.jpg HTTP/1.1\" 200 112\n",
      "10.0.2.2 - - [21/Aug/2016 18:27:48] \"GET /classify?name=[%EB%B8%94%EB%A3%A8%EB%A0%88%EC%9D%B4]%20%EC%A7%80%EC%83%81%EC%97%90%EC%84%9C%20%EC%98%81%EC%9B%90%EC%9C%BC%EB%A1%9C[FROM%20HERE%20TO%20ETERNITY%20(1953)]&img=http://shopping.phinf.naver.net/main_7113310/7113310224.jpg HTTP/1.1\" 200 93\n",
      "10.0.2.2 - - [21/Aug/2016 18:27:48] \"GET /classify?name=PC%20%20%EB%9D%BD%EC%98%A8%20:%20%ED%94%8C%EB%9E%98%EB%B0%8D%20%ED%81%B4%EB%A6%BD%EC%8A%A4%203%20+%20%EC%8B%B8%EC%9D%B4%ED%85%8D%20%ED%8D%BC%EC%8B%9C%ED%94%BD%20AV8R%20%ED%94%8C%EB%9D%BC%EC%9D%B4%ED%8A%B8%20%EC%8A%A4%ED%8B%B1&img=http://shopping.phinf.naver.net/main_7783852/7783852763.jpg HTTP/1.1\" 200 96\n",
      "10.0.2.2 - - [21/Aug/2016 18:27:48] \"GET /classify?name=[PC]%20%EB%9D%BD%EC%98%A8%20:%20%ED%94%8C%EB%9E%98%EB%B0%8D%20%ED%81%B4%EB%A6%BD%EC%8A%A4%203%20+%20%EC%8B%B8%EC%9D%B4%ED%85%8D%20%ED%8D%BC%EC%8B%9C%ED%94%BD%20AV8R%20%ED%94%8C%EB%9D%BC%EC%9D%B4%ED%8A%B8%20%EC%8A%A4%ED%8B%B1&img=http://shopping.phinf.naver.net/main_7446965/7446965638.jpg HTTP/1.1\" 200 96\n",
      "10.0.2.2 - - [21/Aug/2016 18:27:48] \"GET /classify?name=2K%20Games%20%EB%8D%94%20%EB%B7%B0%EB%A1%9C%20:%20%EA%B8%B0%EB%B0%80%20%ED%95%B4%EC%A0%9C%EB%90%9C%20%EC%97%91%EC%8A%A4%EC%BB%B4%20(The%20Bureau%20:%20XCOM%20Declassified)%20PC%20(%ED%95%9C%EA%B8%80%ED%8C%90)&img=http://shopping.phinf.naver.net/main_7119832/7119832893.jpg HTTP/1.1\" 200 96\n",
      "10.0.2.2 - - [21/Aug/2016 18:27:48] \"GET /classify?name=[PC-BOX]%20%EB%8D%94%20%EB%B7%B0%EB%A1%9C%20:%20%EA%B8%B0%EB%B0%80%ED%95%B4%EC%A0%9C%EB%90%9C%20%EC%97%91%EC%8A%A4%EC%BB%B4%20/%20(%EB%AC%B4%EB%A3%8C%EB%B0%B0%EC%86%A1)[%20%EC%A0%95%ED%92%88%ED%8C%90%EB%A7%A4%20%EB%AC%B6%EC%9D%8C%EB%B0%B0%EC%86%A1%EA%B0%80%EB%8A%A5%20%EC%B5%9C%EC%A0%80%EA%B0%80%ED%8C%90%EB%A7%A4%20%EB%B9%A0%EB%A5%B8%EB%B0%B0%EC%86%A1%20]&img=http://shopping.phinf.naver.net/main_7113314/7113314141.jpg HTTP/1.1\" 200 96\n",
      "10.0.2.2 - - [21/Aug/2016 18:27:48] \"GET /classify?name=%EB%8C%80%ED%98%95%ED%81%B0%EC%82%AC%EC%8A%AC(%EB%AA%A9-%EC%86%90)%20%EC%82%AC%EC%8A%AC%20%EB%8F%84%EA%B9%A8%EB%B9%84%EB%B0%A9%EB%A7%9D%EC%9D%B4%20%ED%95%A0%EB%A1%9C%EC%9C%88%EB%8D%B0%EC%9D%B4%20%ED%8C%8C%ED%8B%B0%EC%9A%A9%ED%92%88%20%EA%B7%80%EC%8B%A0%EC%9D%98%EC%A7%91%20%EC%9D%B4%EB%B2%A4%ED%8A%B8%20%EA%B7%B9%EA%B8%B0%ED%9B%88%EB%A0%A8[%EC%9E%AC%EB%AF%B8%EC%9E%88%EB%8A%94%20%ED%8C%8C%ED%8B%B0%EC%9A%A9%ED%92%88%EC%9D%B4%20%EA%B0%80%EB%93%9D%ED%95%9C%20%ED%8C%8C%ED%8B%B0%EB%B9%8C%EB%A6%AC%EC%A7%80%EC%9E%85%EB%8B%88%EB%8B%A4]&img=http://shopping.phinf.naver.net/main_5647182/5647182293.jpg HTTP/1.1\" 200 99\n",
      "10.0.2.2 - - [21/Aug/2016 18:27:48] \"GET /classify?name=PC%20%ED%94%8C%EB%A0%88%EC%9D%B4%EB%8C%84%EC%8A%A4%20%ED%8E%8C%ED%94%84%20USB%EB%B0%A9%EC%8B%9D/%EA%B3%A0%EA%B8%89%ED%98%95%20%EC%9D%BC%EB%B0%98%ED%98%95%EC%84%A0%ED%83%9D&img=http://shopping.phinf.naver.net/main_8290417/8290417788.jpg HTTP/1.1\" 200 96\n",
      "10.0.2.2 - - [21/Aug/2016 18:27:48] \"GET /classify?name=PC%20%20%EB%94%94%EB%B9%84%EB%8B%88%ED%8B%B0%20%EB%93%9C%EB%9E%98%EA%B3%A4%20%EC%BB%A4%EB%A7%A8%EB%8D%94&img=http://shopping.phinf.naver.net/main_7820836/7820836871.jpg HTTP/1.1\" 200 96\n"
     ]
    },
    {
     "name": "stdout",
     "output_type": "stream",
     "text": [
      "classify called\n",
      "classify called\n",
      "classify called\n",
      "classify called\n",
      "classify called\n",
      "classify called\n",
      "classify called\n",
      "classify called\n",
      "classify called\n",
      "classify called\n",
      "classify called\n",
      "classify called\n",
      "classify called\n",
      "classify called\n",
      "classify called\n"
     ]
    },
    {
     "name": "stderr",
     "output_type": "stream",
     "text": [
      "10.0.2.2 - - [21/Aug/2016 18:27:48] \"GET /classify?name=[%EB%AA%A8%EB%8F%84%EC%BB%B4%ED%8D%BC%EB%8B%88][PC-CODE]%20%EB%9D%BC%EC%9D%B4%EC%A6%88%20:%20%EC%84%A0%20%EC%98%A4%EB%B8%8C%20%EB%A1%9C%EB%A7%88%20(RYSE%20:%20Son%20of%20Rome)&img=http://shopping.phinf.naver.net/main_8235425/8235425252.jpg HTTP/1.1\" 200 96\n",
      "10.0.2.2 - - [21/Aug/2016 18:27:48] \"GET /classify?name=%EB%B0%94%EC%9D%B4%EC%98%A4%ED%95%98%EC%9E%90%EB%93%9C%20HD%20%EB%A6%AC%EB%A7%88%EC%8A%A4%ED%84%B0%20/%20PC%20%EC%8A%A4%ED%8C%80%EC%BD%94%EB%93%9C%20%EC%9D%B4%EB%A9%94%EC%9D%BC%EC%A0%84%EC%86%A1&img=http://shopping.phinf.naver.net/main_8262863/8262863381.jpg HTTP/1.1\" 200 96\n",
      "10.0.2.2 - - [21/Aug/2016 18:27:48] \"GET /classify?name=3DS%20%ED%83%80%EC%9D%B4%ED%8B%80%20%EB%8D%B0%EB%B9%8C%20%EC%84%9C%EB%B0%94%EC%9D%B4%EB%B2%842%20%EB%B8%8C%EB%A0%88%EC%9D%B4%ED%81%AC%20%EB%A0%88%EC%BD%94%EB%93%9C(%ED%8A%B9%EC%A0%84:%EB%8D%B0%EB%B9%8C%20%EC%84%9C%EB%B0%94%EC%9D%B4%EB%B2%842%20OST%EC%A6%9D%EC%A0%95)%20%EC%98%88%EC%95%BD%EC%83%81%ED%92%88&img=http://shopping.phinf.naver.net/main_8283763/8283763070.jpg HTTP/1.1\" 200 112\n",
      "10.0.2.2 - - [21/Aug/2016 18:27:48] \"GET /classify?name=[%ED%95%B4%EC%99%B8]ActivisionNational%20Lampoon:%20University%20Tycoon%20-%20PC&img=http://shopping.phinf.naver.net/main_8275732/8275732271.jpg HTTP/1.1\" 200 96\n",
      "10.0.2.2 - - [21/Aug/2016 18:27:48] \"GET /classify?name=[%ED%95%B4%EC%99%B8]ActivisionShrine%20Circus%20Tycoon%20-%20PC&img=http://shopping.phinf.naver.net/main_8275737/8275737778.jpg HTTP/1.1\" 200 96\n",
      "10.0.2.2 - - [21/Aug/2016 18:27:48] \"GET /classify?name=THQ%20%EC%9B%8C%ED%95%B4%EB%A8%B8%2040,000%20:%20%EB%8D%98%20%EC%98%A4%EB%B8%8C%20%EC%9B%8C%202%20%EC%B9%B4%EC%98%A4%EC%8A%A4%20%EB%9D%BC%EC%9D%B4%EC%A7%95&img=http://shopping.phinf.naver.net/main_5542871/5542871053.20120211194418.jpg HTTP/1.1\" 200 96\n",
      "10.0.2.2 - - [21/Aug/2016 18:27:48] \"GET /classify?name=%EC%8A%A4%ED%80%98%EC%96%B4%EC%97%90%EB%8B%89%EC%8A%A4%20%EB%8D%98%EC%A0%84%20%EC%8B%9C%EC%A6%88%203%20&img=http://shopping.phinf.naver.net/main_6529631/6529631871.20120802155643.jpg HTTP/1.1\" 200 112\n",
      "10.0.2.2 - - [21/Aug/2016 18:27:48] \"GET /classify?name=[%ED%95%B4%EC%99%B8]Pump%20It%20Up:%20Exceed%20Bundle%20PS2%20[%ED%95%B4%EC%99%B8%EC%87%BC%ED%95%91/%EC%95%84%EB%A7%88%EC%A1%B4%EC%83%81%ED%92%88/%ED%95%B4%EC%99%B8%EC%A0%95%ED%92%88]&img=http://shopping.phinf.naver.net/main_8274096/8274096425.jpg HTTP/1.1\" 200 124\n",
      "10.0.2.2 - - [21/Aug/2016 18:27:48] \"GET /classify?name=[PC%EA%B2%8C%EC%9E%84]%20PC%EA%B2%8C%EC%9E%84%EB%B0%95%EC%8A%A4%ED%83%80%EC%9D%B4%ED%8B%80%20%EC%96%B4%EB%91%A0%EC%86%8D%EC%97%90%20%EB%82%98%ED%99%80%EB%A1%9C%20(%EC%99%84%EC%A0%84&img=http://shopping.phinf.naver.net/main_8283694/8283694999.jpg HTTP/1.1\" 200 96\n",
      "10.0.2.2 - - [21/Aug/2016 18:27:48] \"GET /classify?name=PC/DVD)%20%ED%86%A0%ED%83%88%EC%9B%8C%20:%20%EC%95%84%ED%8B%B8%EB%9D%BC%20(%EC%8A%A4%ED%8C%80%EC%97%B0%EB%8F%99)%20%EB%B0%94%EC%9D%B4%ED%82%B9%EC%9D%98%20%EC%84%A0%EC%A1%B0%EB%93%A4%20%EC%BB%AC%EC%B3%90%ED%8C%A9%20%ED%8F%AC%ED%95%A8/%EC%BD%94%EB%93%9C%EB%B0%9C%EC%86%A1%20%EA%B0%80%EB%8A%A5&img=http://shopping.phinf.naver.net/main_8280344/8280344075.jpg HTTP/1.1\" 200 96\n",
      "10.0.2.2 - - [21/Aug/2016 18:27:48] \"GET /classify?name=[%ED%95%B4%EC%99%B8]%20%20PC%20%ED%8A%B8%EB%9D%BC%EC%9D%B8%202%20%EC%BB%AC%EB%A0%89%ED%84%B0%EC%A6%88%20%EC%97%90%EB%94%94%EC%85%98%20(%EC%9C%A0%EB%9F%BD%ED%8C%90)%20%20%20%ED%95%B4%EC%99%B8%20%EC%A0%95%ED%92%88%20%EC%A7%81%EB%B0%B0%EC%86%A1&img=http://shopping.phinf.naver.net/main_8279925/8279925041.jpg HTTP/1.1\" 200 96\n",
      "10.0.2.2 - - [21/Aug/2016 18:27:48] \"GET /classify?name=%EC%97%90%EC%96%B4%EA%B1%B4-M%20P9C%20%EC%82%AC%EC%9D%BC%EB%9F%B0%EC%84%9C%20(%EC%86%8C%EC%9D%8C%EA%B8%B0)/%EC%8B%A0%EC%A0%9C%ED%92%88&img=http://shopping.phinf.naver.net/main_8250679/8250679273.jpg HTTP/1.1\" 200 71\n",
      "10.0.2.2 - - [21/Aug/2016 18:27:48] \"GET /classify?name=1300K%20[%EB%89%B4%EC%97%90%EB%B2%84]%20%EA%B9%A8%EB%81%97%ED%95%9C%EA%B3%A0%EA%B0%90%EB%8F%84%EB%A7%88%EC%9D%B4%ED%81%AC%EC%B9%A9%20%EB%85%B9%EC%9D%8C%EC%84%B1%EB%8A%A5%EC%8A%A4%ED%83%A0%EB%93%9C%EB%A7%88%EC%9D%B4%ED%81%ACMIC03KK&img=http://shopping.phinf.naver.net/main_7886386/7886386604.jpg HTTP/1.1\" 200 117\n",
      "10.0.2.2 - - [21/Aug/2016 18:27:48] \"GET /classify?name=[BC%EC%B9%B4%EB%93%9C5%%ED%95%A0%EC%9D%B8][%EB%B0%94%EB%B3%B4%EC%82%AC%EB%9E%91]%EA%B3%A0%EA%B0%90%EB%8F%84%20%EC%8A%A4%ED%83%A0%EB%93%9C%20%EB%A7%88%EC%9D%B4%ED%81%AC%20MICROPHONE&img=http://shopping.phinf.naver.net/main_6156972/6156972439.16.jpg HTTP/1.1\" 200 107\n",
      "10.0.2.2 - - [21/Aug/2016 18:27:48] \"GET /classify?name=[%EB%B0%94%EB%B3%B4%EC%82%AC%EB%9E%91][%EB%94%94%EC%9E%90%EC%9D%B8%EC%97%90%EB%B2%84]%EA%B3%A0%EA%B0%90%EB%8F%84%20%EC%8A%A4%ED%83%A0%EB%93%9C%20%EB%A7%88%EC%9D%B4%ED%81%AC%20MICROPHONE/%EC%BB%B4%ED%93%A8%ED%84%B0%EC%9A%A9%ED%92%88/%EC%BB%B4%ED%93%A8%ED%84%B0%20%EC%86%8C%EB%AA%A8%ED%92%88[%EB%AC%B4%EB%A3%8C%EB%B0%B0%EC%86%A1][%EB%85%B8%ED%8A%B8%EB%B6%81%EC%9A%A9%ED%92%88,%20PC%EC%A3%BC%EB%B3%80%EA%B8%B0%EA%B8%B0,%20%EC%BB%B4%ED%93%A8%ED%84%B0%EC%A3%BC%EB%B3%80%EC%86%8C%EB%AA%A8%ED%92%88,%20%EA%B3%A0%EA%B0%90%EB%8F%84]&img=http://shopping.phinf.naver.net/main_6191789/6191789095.jpg HTTP/1.1\" 200 107\n",
      "10.0.2.2 - - [21/Aug/2016 18:27:48] \"GET /classify?name=%EB%B0%94%EB%B3%B4%EC%82%AC%EB%9E%91[%EC%A7%84%EB%B0%94%EC%8A%A4]%EA%B3%A0%EA%B0%90%EB%8F%84%20%EC%8A%A4%ED%83%A0%EB%93%9C%20%EB%A7%88%EC%9D%B4%ED%81%AC%20MICROPHONE[%EB%85%B8%ED%8A%B8%EB%B6%81%EC%9A%A9%ED%92%88,%20PC%EC%A3%BC%EB%B3%80%EA%B8%B0%EA%B8%B0,%20%EC%BB%B4%ED%93%A8%ED%84%B0%EC%A3%BC%EB%B3%80%EC%86%8C%EB%AA%A8%ED%92%88,%20%EA%B3%A0%EA%B0%90%EB%8F%84]&img=http://shopping.phinf.naver.net/main_6745219/6745219542.jpg HTTP/1.1\" 200 107\n"
     ]
    },
    {
     "name": "stdout",
     "output_type": "stream",
     "text": [
      "classify called\n",
      "classify called\n",
      "classify called\n",
      "classify called\n",
      "classify called\n",
      "classify called\n",
      "classify called\n",
      "classify called\n",
      "classify called\n",
      "classify called\n",
      "classify called\n",
      "classify called\n",
      "classify called\n",
      "classify called\n",
      "classify called\n",
      "classify called\n"
     ]
    },
    {
     "name": "stderr",
     "output_type": "stream",
     "text": [
      "10.0.2.2 - - [21/Aug/2016 18:27:48] \"GET /classify?name=[%EB%B0%94%EB%B3%B4%EC%82%AC%EB%9E%91(%ED%82%A4%EB%8D%9C%ED%8A%B8,%EC%B7%A8%EB%AF%B8)]%20%EB%B0%94%EB%B3%B4%EC%82%AC%EB%9E%91[%EC%8B%9C%EB%8B%A4%EC%8A%A4]SIDAS%20DRYWARMER%20%EC%8B%9C%EB%8B%A4%EC%8A%A4%20%EC%8B%A0%EB%B0%9C%EA%B1%B4%EC%A1%B0%EA%B8%B0_P013918184&img=http://shopping.phinf.naver.net/main_8223692/8223692603.jpg HTTP/1.1\" 200 104\n",
      "10.0.2.2 - - [21/Aug/2016 18:27:48] \"GET /classify?name=%EB%B0%94%EB%B3%B4%EC%82%AC%EB%9E%91[%EB%94%94%EC%9E%90%EC%9D%B8%EC%97%90%EB%B2%841]%EB%A6%AC%EC%96%BC%20%EB%A7%88%EC%9D%B4%ED%81%AC%20%EC%8A%A4%ED%94%BC%EC%BB%A4&img=http://shopping.phinf.naver.net/main_7134877/7134877908.1.jpg HTTP/1.1\" 200 107\n",
      "10.0.2.2 - - [21/Aug/2016 18:27:48] \"GET /classify?name=[%EC%95%84%ED%8A%B8%EB%B0%95%EC%8A%A4%20POOM(%EB%AC%B8%EA%B5%AC,%ED%8C%AC%EC%8B%9C) HTTP/1.1\" 200 141\n",
      "10.0.2.2 - - [21/Aug/2016 18:27:48] \"GET /classify?name=[%EC%97%91%ED%86%A0]%ED%8F%B4%EB%93%9C%EC%8A%A4%ED%83%A0%EB%93%9C%EB%A7%88%EC%9D%B4%ED%81%AC/MIC-03&img=http://shopping.phinf.naver.net/main_8318314/8318314818.jpg HTTP/1.1\" 200 107\n",
      "10.0.2.2 - - [21/Aug/2016 18:27:48] \"GET /classify?name=[%ED%9B%84%EC%B6%94%ED%86%B5][%ED%9B%84%EC%B6%94%ED%86%B5][%EC%97%91%ED%86%A0]%ED%8F%B4%EB%93%9C%EC%8A%A4%ED%83%A0%EB%93%9C%EB%A7%88%EC%9D%B4%ED%81%AC-%EB%B8%94%EB%9E%99(MIC-03)&img=http://shopping.phinf.naver.net/main_6644245/6644245906.jpg HTTP/1.1\" 200 107\n",
      "10.0.2.2 - - [21/Aug/2016 18:27:48] \"GET /classify?name=%EC%97%91%ED%86%A0%20%ED%8F%B4%EB%93%9C%EC%8A%A4%ED%83%A0%EB%93%9C%EB%A7%88%EC%9D%B4%ED%81%ACMIC%2003%20%208%2015%202%20%EC%A0%84%EC%82%B0%EC%9A%A9%ED%92%88%20%EC%97%91%ED%86%A0%20%EC%BB%B4%ED%93%A8%ED%84%B0%20%EB%85%B8%ED%8A%B8%EB%B6%81%20%EC%9B%B9%EC%BA%A0%20%ED%97%A4%EB%93%9C%EC%85%8B%20%EC%9D%B4%EC%96%B4%ED%8F%B0%20%EC%8A%A4%ED%94%BC%EC%BB%A4%20%EB%A7%88%EC%9A%B0%EC%8A%A4%20%EC%A3%BC%EB%B3%80%EA%B8%B0%EA%B8%B0%20%EC%B9%B4%EB%93%9C%EB%A6%AC%EB%8D%94%EA%B8%B0%20%EC%82%AC%EB%AC%B4%EC%9A%A9%ED%92%88%20%EC%9D%BC%EB%B0%98%EC%9A%A9%ED%92%88%20USB%EC%BC%80%EC%9D%B4%EB%B8%94&img=http://shopping.phinf.naver.net/main_8283407/8283407611.jpg HTTP/1.1\" 200 107\n",
      "10.0.2.2 - - [21/Aug/2016 18:27:48] \"GET /classify?name=[%EC%97%91%ED%86%A0]%ED%8F%B4%EB%93%9C%EC%8A%A4%ED%83%A0%EB%93%9C%EB%A7%88%EC%9D%B4%ED%81%AC/MIC-03[%EC%97%91%ED%86%A0,%EB%A7%88%EC%9D%B4%ED%81%AC,%EC%8A%A4%ED%83%A0%EB%93%9C%EB%A7%88%EC%9D%B4%ED%81%AC]&img=http://shopping.phinf.naver.net/main_7600280/7600280046.jpg HTTP/1.1\" 200 107\n",
      "10.0.2.2 - - [21/Aug/2016 18:27:48] \"GET /classify?name=[%EC%97%91%ED%86%A0]%EB%8B%98%ED%94%84%EC%8A%A4%ED%83%A0%EB%93%9C%EB%A7%88%EC%9D%B4%ED%81%AC%20MIC-04&img=http://shopping.phinf.naver.net/main_8164721/8164721920.jpg HTTP/1.1\" 200 107\n",
      "10.0.2.2 - - [21/Aug/2016 18:27:48] \"GET /classify?name=[%EC%86%94%EB%A1%9C%EB%AA%AC%EC%83%B5]%EC%97%91%ED%86%A0%20%EB%8B%98%ED%94%84%EC%8A%A4%ED%83%A0%EB%93%9C%EB%A7%88%EC%9D%B4%ED%81%AC(MIC-04)___%EC%97%91%ED%86%A0%EB%A7%88%EC%9D%B4%ED%81%AC/%EC%8A%A4%ED%83%A0%EB%93%9C%EB%A7%88%EC%9D%B4%ED%81%AC/%EC%8A%A4%ED%94%BC%EC%BB%A4/%ED%97%A4%EB%93%9C%EC%85%8B/PC%EB%A7%88%EC%9D%B4%ED%81%AC/%ED%95%80%EB%A7%88%EC%9D%B4%ED%81%AC&img=http://shopping.phinf.naver.net/main_6692939/6692939993.1.jpg HTTP/1.1\" 200 107\n",
      "10.0.2.2 - - [21/Aug/2016 18:27:49] \"GET /classify?name=COSY%20%EC%BB%A8%ED%8D%BC%EB%9F%B0%EC%8A%A4%20%EB%A7%88%EC%9D%B4%ED%81%AC%20COV006&img=http://shopping.phinf.naver.net/main_6263429/6263429559.jpg HTTP/1.1\" 200 107\n",
      "10.0.2.2 - - [21/Aug/2016 18:27:49] \"GET /classify?name=[%EC%BD%94%EC%8B%9C]%EC%BB%A8%ED%8D%BC%EB%9F%B0%EC%8A%A4%EC%8A%A4%ED%83%A0%EB%93%9C%EB%A7%88%EC%9D%B4%ED%81%AC/COV006&img=http://shopping.phinf.naver.net/main_7171166/7171166012.jpg HTTP/1.1\" 200 107\n",
      "10.0.2.2 - - [21/Aug/2016 18:27:49] \"GET /classify?name=%EB%94%94%EC%98%B5%ED%85%8DMIC-J2SL%20%20%EA%B3%A0%EA%B0%90%EB%8F%84%20%EC%A0%84%EB%B0%A9%ED%96%A5%20%EC%8A%A4%ED%85%8C%EB%A0%88%EC%98%A4%20%ED%81%B4%EB%A6%BD%20%EB%A7%88%EC%9D%B4%ED%81%AC&img=http://shopping.phinf.naver.net/main_8115652/8115652930.jpg HTTP/1.1\" 200 107\n",
      "10.0.2.2 - - [21/Aug/2016 18:27:49] \"GET /classify?name=MIC-J2SL,%20%EA%B3%A0%EA%B0%90%EB%8F%84%20%EC%A0%84%EB%B0%A9%ED%96%A5%20%EC%8A%A4%ED%85%8C%EB%A0%88%EC%98%A4%20%ED%81%B4%EB%A6%BD%20%EB%A7%88%EC%9D%B4%ED%81%AC%20MIC-J2SL&img=http://shopping.phinf.naver.net/main_5754277/5754277212.jpg HTTP/1.1\" 200 107\n",
      "10.0.2.2 - - [21/Aug/2016 18:27:49] \"GET /classify?name=(%EA%B5%BF)%20%EB%94%94%EC%98%B5%ED%85%8DMIC-J2SL%20%20%EA%B3%A0%EA%B0%90%EB%8F%84%20%EC%A0%84%EB%B0%A9%ED%96%A5%20%EC%8A%A4%ED%85%8C%EB%A0%88%EC%98%A4%20%ED%81%B4%EB%A6%BD%20%EB%A7%88%EC%9D%B4%ED%81%AC&img=http://shopping.phinf.naver.net/main_8300747/8300747026.jpg HTTP/1.1\" 200 107\n"
     ]
    },
    {
     "name": "stdout",
     "output_type": "stream",
     "text": [
      "classify called\n",
      "classify called\n",
      "classify called\n",
      "classify called\n",
      "classify called\n",
      "classify called\n",
      "classify called\n",
      "classify called\n",
      "classify called\n",
      "classify called\n",
      "classify called\n",
      "classify called\n",
      "classify called\n",
      "classify called\n"
     ]
    },
    {
     "name": "stderr",
     "output_type": "stream",
     "text": [
      "10.0.2.2 - - [21/Aug/2016 18:27:49] \"GET /classify?name=[%EC%97%98%EB%A0%88%EC%BB%B4]%20MS-STM55%20/%20350%EB%8F%84%20%EA%B0%81%EB%8F%84%20%EC%A1%B0%EC%A0%88%20%EB%A7%88%EC%9D%B4%ED%81%AC&img=http://shopping.phinf.naver.net/main_6945270/6945270942.jpg HTTP/1.1\" 200 107\n",
      "10.0.2.2 - - [21/Aug/2016 18:27:49] \"GET /classify?name=7200%20%EC%97%91%ED%86%A0%20%ED%8F%B4%EB%93%9C%EC%8A%A4%ED%83%A0%EB%93%9C%EB%A7%88%EC%9D%B4%ED%81%AC(MIC-03)___%EC%97%91%ED%86%A0%EB%A7%88%EC%9D%B4%ED%81%AC/%EC%8A%A4%ED%83%A0%EB%93%9C%EB%A7%88%EC%9D%B4%ED%81%AC/%EC%8A%A4%ED%94%BC%EC%BB%A4/%ED%97%A4%EB%93%9C%EC%85%8B/PC%EB%A7%88%EC%9D%B4%ED%81%AC/%ED%95%80%EB%A7%88%EC%9D%B4%ED%81%AC&img=http://shopping.phinf.naver.net/main_6693634/6693634065.jpg HTTP/1.1\" 200 107\n",
      "10.0.2.2 - - [21/Aug/2016 18:27:49] \"GET /classify?name=%EC%97%91%ED%86%A0%20%20%EB%B3%B4%EC%9D%B4%EC%8A%A4%EC%8A%A4%ED%83%A0%EB%93%9C%EB%A7%88%EC%9D%B4%ED%81%AC%20MIC%2001%20MIC01%20%208%2015%201%20%EA%B3%A0%EA%B0%90%EB%8F%84%EB%A7%88%EC%9D%B4%ED%81%AC%20%EB%A7%88%EC%9D%B4%ED%81%AC%20%EC%BB%B4%ED%93%A8%ED%84%B0%EA%B2%8C%EC%9E%84%20%EC%9D%B8%ED%84%B0%EB%84%B7%EB%B0%A9%EC%86%A1%20%EB%A9%80%ED%8B%B0%EC%B1%84%ED%8C%85&img=http://shopping.phinf.naver.net/main_8197159/8197159357.jpg HTTP/1.1\" 200 107\n",
      "10.0.2.2 - - [21/Aug/2016 18:27:49] \"GET /classify?name=ACTTO/%EC%97%91%ED%86%A0%20%EC%8A%A4%ED%83%A0%EB%93%9C%20%EB%A7%88%EC%9D%B4%ED%81%AC%20MIC-05&img=http://shopping.phinf.naver.net/main_7982077/7982077539.jpg HTTP/1.1\" 200 107\n",
      "10.0.2.2 - - [21/Aug/2016 18:27:49] \"GET /classify?name=%EC%97%91%ED%86%A0%20MIC-05%20%EC%8A%A4%ED%83%A0%EB%93%9C%EB%A7%88%EC%9D%B4%ED%81%AC&img=http://shopping.phinf.naver.net/main_8238860/8238860443.jpg HTTP/1.1\" 200 107\n",
      "10.0.2.2 - - [21/Aug/2016 18:27:49] \"GET /classify?name=[%EC%88%98%EC%9E%85]%EC%8A%A4%ED%83%A0%EB%93%9C%EB%A7%88%EC%9D%B4%ED%81%AC/MIC-05&img=http://shopping.phinf.naver.net/main_7903644/7903644932.jpg HTTP/1.1\" 200 107\n",
      "10.0.2.2 - - [21/Aug/2016 18:27:49] \"GET /classify?name=[%EC%88%98%EC%9E%85]%EC%8A%A4%ED%83%A0%EB%93%9C%EB%A7%88%EC%9D%B4%ED%81%AC/MIC-05&img=http://shopping.phinf.naver.net/main_7903723/7903723763.jpg HTTP/1.1\" 200 107\n",
      "10.0.2.2 - - [21/Aug/2016 18:27:49] \"GET /classify?name=[%EC%97%91%ED%86%A0]%20%EC%8A%A4%ED%83%A0%EB%93%9C%EB%A7%88%EC%9D%B4%ED%81%AC%20MIC-05%20/120%EB%8F%84%EA%B0%81%EB%8F%84%EC%A1%B0%EC%A0%88/%EC%A0%84%EB%B0%A9%ED%96%A5/%EC%A0%84%EC%9B%90%EC%8A%A4%EC%9C%84%EC%B9%98/3.5MM%ED%94%8C%EB%9F%AC%EA%B7%B8%20%EB%B8%8C%EB%9E%9C%EB%93%9C%EC%A0%95%ED%92%88/%EC%B4%9D%EC%95%8C%EB%B0%B0%EC%86%A1(MIC-05)&img=http://shopping.phinf.naver.net/main_8247481/8247481448.jpg HTTP/1.1\" 200 107\n",
      "10.0.2.2 - - [21/Aug/2016 18:27:49] \"GET /classify?name=%EC%BB%B4%EC%86%8C%EB%8B%89%20CM-7010%20USB&img=http://shopping.phinf.naver.net/main_6165357/6165357654.20120211211746.jpg HTTP/1.1\" 200 107\n",
      "10.0.2.2 - - [21/Aug/2016 18:27:49] \"GET /classify?name=%EC%BB%B4%EC%86%8C%EB%8B%89%20PILLAR%20CM-009&img=http://shopping.phinf.naver.net/main_6690702/6690702622.20121204125735.jpg HTTP/1.1\" 200 107\n",
      "10.0.2.2 - - [21/Aug/2016 18:27:49] \"GET /classify?name=%EC%9D%B4%EB%A9%94%EC%9D%B4%EC%85%98%20HCM-2610&img=http://shopping.phinf.naver.net/main_6188915/6188915902.20120211195045.jpg HTTP/1.1\" 200 72\n",
      "10.0.2.2 - - [21/Aug/2016 18:27:49] \"GET /classify?name=MP-06&img=http://shopping.phinf.naver.net/main_5399136/5399136912.20120211201849.jpg HTTP/1.1\" 200 107\n",
      "10.0.2.2 - - [21/Aug/2016 18:27:49] \"GET /classify?name=%EC%86%8C%EB%8B%88%20ECM-PC60&img=http://shopping.phinf.naver.net/main_5916873/5916873614.20120211205606.jpg HTTP/1.1\" 200 118\n",
      "10.0.2.2 - - [21/Aug/2016 18:27:49] \"GET /classify?name=%EC%97%91%ED%86%A0%20MIC-04&img=http://shopping.phinf.naver.net/main_6148154/6148154469.20120211202100.jpg HTTP/1.1\" 200 107\n",
      "10.0.2.2 - - [21/Aug/2016 18:27:49] \"GET /classify?name=TG%EC%82%BC%EB%B3%B4%20TGM-320&img=http://shopping.phinf.naver.net/main_6314793/6314793971.20120508155738.jpg HTTP/1.1\" 200 90\n",
      "10.0.2.2 - - [21/Aug/2016 18:27:49] \"GET /classify?name=(%EC%83%88%EC%83%81%ED%92%88)%20(%EC%A0%95%ED%92%88)%20%ED%95%84%EB%9D%BC%20CM-008%20%EB%A7%88%EC%9D%B4%ED%81%AC&img=http://shopping.phinf.naver.net/main_8282148/8282148075.jpg HTTP/1.1\" 200 107\n"
     ]
    },
    {
     "name": "stdout",
     "output_type": "stream",
     "text": [
      "classify called\n",
      "classify called\n",
      "classify called\n",
      "classify called\n",
      "classify called\n",
      "classify called\n",
      "classify called\n",
      "classify called\n",
      "classify called\n",
      "classify called\n",
      "classify called\n",
      "classify called\n",
      "classify called\n",
      "classify called\n",
      "classify called\n",
      "classify called\n",
      "classify called\n",
      "classify called\n",
      "classify called\n",
      "classify called\n",
      "classify called\n",
      "classify called\n",
      "classify called\n",
      "classify called\n",
      "classify called\n",
      "classify called\n",
      "classify called\n",
      "classify called\n",
      "classify called\n"
     ]
    },
    {
     "name": "stderr",
     "output_type": "stream",
     "text": [
      "10.0.2.2 - - [21/Aug/2016 18:27:49] \"GET /classify?name=SANWA%20%EA%B3%A0%EC%84%B1%EB%8A%A5%20%EC%9C%A0%EC%84%A0%20%ED%95%80%20%EB%A7%88%EC%9D%B4%ED%81%AC%20MM-MC26%20%EC%BD%98%EB%8D%B4%EC%84%9C%20%ED%83%80%EC%9E%85&img=http://shopping.phinf.naver.net/main_8274506/8274506007.jpg HTTP/1.1\" 200 107\n",
      "10.0.2.2 - - [21/Aug/2016 18:27:49] \"GET /classify?name=[4%%EC%A6%89%EC%8B%9C%ED%95%A0%EC%9D%B8%EC%BF%A0%ED%8F%B0]%EA%B3%A0%EA%B0%90%EB%8F%84%20PC%EC%9A%A9%20%EB%A7%88%EC%9D%B4%ED%81%AC%20%EC%BB%B4%ED%93%A8%ED%84%B0%EB%A7%88%EC%9D%B4%ED%81%AC%20%EA%B3%A0%EA%B0%90%EB%8F%84%EB%A7%88%EC%9D%B4%ED%81%AC%20PC%EC%95%A1&img=http://shopping.phinf.naver.net/main_8248926/8248926074.jpg HTTP/1.1\" 200 107\n",
      "10.0.2.2 - - [21/Aug/2016 18:27:49] \"GET /classify?name=[%ED%8A%B9%EA%B0%80%ED%95%A0%EC%9D%B820%]%EC%9D%8C%EC%A7%88%EC%A2%8B%EC%9D%80%20%EA%B3%A0%EC%9D%8C%EC%A7%88%20%EC%8A%A4%ED%83%A0%EB%93%9C%EB%A7%88%EC%9D%B4%ED%81%AC%20%ED%83%81%EC%83%81%EC%9A%A9%20%20%EC%BB%B4%ED%93%A8%ED%84%B0%20%ED%9A%8C%EC%9D%98%EC%9A%A9%20WG-800&img=http://shopping.phinf.naver.net/main_8217856/8217856391.jpg HTTP/1.1\" 200 107\n",
      "10.0.2.2 - - [21/Aug/2016 18:27:49] \"GET /classify?name=[4%%EC%A6%89%EC%8B%9C%ED%95%A0%EC%9D%B8%EC%BF%A0%ED%8F%B0](%EC%83%88%EC%83%81%ED%92%88)%20%EC%8A%88%EC%96%B4%20PG58%20%EB%A7%88%EC%9D%B4%ED%81%AC&img=http://shopping.phinf.naver.net/main_8264255/8264255498.jpg HTTP/1.1\" 200 107\n",
      "10.0.2.2 - - [21/Aug/2016 18:27:49] \"GET /classify?name=%EC%8A%A4%ED%83%A0%EB%93%9C%EB%A7%88%EC%9D%B4%ED%81%AC&img=http://shopping.phinf.naver.net/main_8271553/8271553486.jpg HTTP/1.1\" 200 107\n",
      "10.0.2.2 - - [21/Aug/2016 18:27:49] \"GET /classify?name=%EC%BB%B4%ED%93%A8%ED%84%B0%EC%95%85%EC%84%B8%EC%84%9C%EB%A6%AC%20%EA%B0%95%EC%9B%90%20%EC%BD%A9%EC%8A%A4%ED%86%A0%EC%96%B4&img=http://shopping.phinf.naver.net/main_8277626/8277626650.jpg HTTP/1.1\" 200 91\n",
      "10.0.2.2 - - [21/Aug/2016 18:27:49] \"GET /classify?name=[4%%EC%A6%89%EC%8B%9C%ED%95%A0%EC%9D%B8%EC%BF%A0%ED%8F%B0]Coms%20%EB%A7%88%EC%9D%B4%ED%81%AC(%EC%9D%B4%EC%96%B4%EA%B1%B8%EC%9D%B4%ED%98%95)%20XTY-7/ITA873/%EC%9D%B4%EC%96%B4%EA%B1%B8%EC%9D%B4%20%ED%83%80%EC%9E%85&img=http://shopping.phinf.naver.net/main_8273911/8273911987.jpg HTTP/1.1\" 200 107\n",
      "10.0.2.2 - - [21/Aug/2016 18:27:49] \"GET /classify?name=%EB%8F%84%EB%A7%A4-1p%20%EA%B3%A0%EA%B8%89%20%EC%95%88%EA%B2%BD%EB%8B%A6%EC%9D%B4(%EB%AC%B4%EB%8A%AC)&img=http://shopping.phinf.naver.net/main_8270540/8270540062.jpg HTTP/1.1\" 200 93\n",
      "10.0.2.2 - - [21/Aug/2016 18:27:49] \"GET /classify?name=(C)%ED%83%81%EC%83%81%EC%9A%A9%20%EB%A7%88%EC%9D%B4%ED%81%AC/%EA%B1%B0%EC%B9%98%EB%8C%80%ED%8F%AC%ED%95%A8%20[PCD9813]&img=http://shopping.phinf.naver.net/main_8264990/8264990791.jpg HTTP/1.1\" 200 107\n",
      "10.0.2.2 - - [21/Aug/2016 18:27:49] \"GET /classify?name=C%20%EB%A7%88%EC%9D%B4%ED%81%AC%20%EC%8A%A4%ED%83%A0%EB%93%9C%ED%98%95[%EB%B9%A0%EB%A5%B8%EB%B0%B0%EC%86%A1]&img=http://shopping.phinf.naver.net/main_8269710/8269710449.jpg HTTP/1.1\" 200 107\n",
      "10.0.2.2 - - [21/Aug/2016 18:27:49] \"GET /classify?name=[A]%EB%A7%88%EC%9D%B4%ED%81%AC/ITA873/%EC%9D%B4%EC%96%B4%EA%B1%B8%EC%9D%B4%ED%98%95/%EC%95%BD%20190cm/MIC/%EA%B3%A0%EA%B0%90%EB%8F%84%20%EB%A7%88%EC%9D%B4%ED%81%AC/%EC%9D%B8%ED%84%B0%EB%84%B7%EA%B0%95%EC%9D%98/%EC%8A%A4%EC%B9%B4%EC%9D%B4%ED%94%84/%EC%88%98%EB%8B%A4%ED%8F%B0&img=http://shopping.phinf.naver.net/main_8276697/8276697534.jpg HTTP/1.1\" 200 107\n",
      "10.0.2.2 - - [21/Aug/2016 18:27:49] \"GET /classify?name=%EB%B0%94%EB%B3%B4%EC%82%AC%EB%9E%91[%EC%A7%84%EB%B0%94%EC%8A%A4]%EC%B4%88%EC%86%8C%ED%98%95%EC%82%AC%EC%9D%B4%EC%A6%88%20%EA%B3%A0%EA%B0%90%EB%8F%84%20%EB%84%A4%ED%81%AC%EC%9B%8C%ED%81%AC%20%EB%A7%88%EC%9D%B4%ED%81%AC&img=http://shopping.phinf.naver.net/main_7136297/7136297039.1.jpg HTTP/1.1\" 200 107\n",
      "10.0.2.2 - - [21/Aug/2016 18:27:49] \"GET /classify?name=%EB%B0%94%EB%B3%B4%EC%82%AC%EB%9E%91%20%EA%B3%A0%EA%B0%90%EB%8F%84%20%EC%8A%A4%ED%83%A0%EB%93%9C%20%EB%A7%88%EC%9D%B4%ED%81%AC%20MICROPHONE[%EB%AC%B4%EB%A3%8C%EB%B0%B0%EC%86%A1]&img=http://shopping.phinf.naver.net/main_6760965/6760965208.jpg HTTP/1.1\" 200 107\n",
      "10.0.2.2 - - [21/Aug/2016 18:27:49] \"GET /classify?name=1300K%20[%EB%89%B4%EC%97%90%EB%B2%84]%20%EA%B3%A0%EA%B0%90%EB%8F%84%EB%A7%88%EC%9D%B4%ED%81%AC%EC%B9%A9%20%EC%9D%8C%EC%84%B1%EC%A0%84%EB%B0%A9%ED%96%A5%20%EC%8A%A4%ED%83%A0%EB%93%9C%EB%A7%88%EC%9D%B4%ED%81%ACMIC01KK&img=http://shopping.phinf.naver.net/main_7886435/7886435352.jpg HTTP/1.1\" 200 107\n",
      "10.0.2.2 - - [21/Aug/2016 18:27:49] \"GET /classify?name=[%EB%84%A4%EC%9D%B4%EC%B3%90%EB%A6%AC%EB%B9%99]%20%ED%81%B4%EB%A6%B0%20%EC%9B%90%ED%98%95%EC%95%95%EC%B6%95%EB%B4%89(%EC%A4%91)_P020731927&img=http://shopping.phinf.naver.net/main_8256017/8256017904.jpg HTTP/1.1\" 200 107\n"
     ]
    },
    {
     "name": "stdout",
     "output_type": "stream",
     "text": [
      "classify called\n",
      "classify called\n",
      "classify called\n",
      "classify called\n",
      "classify called\n",
      "classify called\n",
      "classify called\n",
      "classify called\n",
      "classify called\n",
      "classify called\n",
      "classify called\n",
      "classify called\n",
      "classify called\n"
     ]
    },
    {
     "name": "stderr",
     "output_type": "stream",
     "text": [
      "10.0.2.2 - - [21/Aug/2016 18:27:49] \"GET /classify?name=5%EB%A7%8C%EC%9B%90%E2%86%91%EA%B5%AC%EB%A7%A4%EC%8B%9C%20%EC%B5%9C%EB%8C%803%EB%A7%8C%EC%9B%90%20%EC%A0%81%EB%A6%BD%EC%9D%91%EB%AA%A8(%E5%BF%85)%EB%B9%88%ED%8B%B0%EC%A7%80%20%EB%8B%A4%EC%9A%A9%EB%8F%84%20%EC%A0%95%EB%A6%AC%ED%95%A8&img=http://shopping.phinf.naver.net/main_8332763/8332763575.jpg HTTP/1.1\" 200 91\n",
      "10.0.2.2 - - [21/Aug/2016 18:27:49] \"GET /classify?name=5%EB%A7%8C%EC%9B%90%E2%86%91%EA%B5%AC%EB%A7%A4%EC%8B%9C%20%EC%B5%9C%EB%8C%803%EB%A7%8C%EC%9B%90%20%EC%A0%81%EB%A6%BD%EC%9D%91%EB%AA%A8(%E5%BF%85)[%ED%81%AC%EB%A0%88%EC%9A%A9]%EB%AC%B4%EB%A3%8C%EB%B0%B0%EC%86%A1%20%EC%95%84%EC%9D%B4%EB%94%94%EC%96%B4%20%EB%8B%A4%EC%9A%A9%EB%8F%84%20%EC%88%98%EB%82%A9%ED%95%A8&img=http://shopping.phinf.naver.net/main_8142652/8142652459.1.jpg HTTP/1.1\" 200 91\n",
      "10.0.2.2 - - [21/Aug/2016 18:27:49] \"GET /classify?name=1300K%20%EB%A7%88%EC%A1%B0%EC%95%A4%EC%83%88%EB%94%94%20%EB%AA%A8%EB%8B%88%ED%84%B0%20%EB%A9%94%EB%AA%A8%EB%B3%B4%EB%93%9C%20%EB%B9%BC%EA%BC%BC%20%EC%86%8C%ED%92%8D&img=http://shopping.phinf.naver.net/main_8286179/8286179473.jpg HTTP/1.1\" 200 141\n",
      "10.0.2.2 - - [21/Aug/2016 18:27:49] \"GET /classify?name=[5%%EC%A6%89%EC%8B%9C%ED%95%A0%EC%9D%B8%EC%BF%A0%ED%8F%B0]%20%EC%95%84%EC%9D%B4%ED%94%8C%EB%A1%9C%EC%96%B4%20%20%EB%AC%B4%EB%A3%8C%EB%B0%B0%EC%86%A1%20%EB%84%A4%EB%AA%A8%EC%95%BC%20%EC%9D%B8%EC%A1%B0%EB%8C%80%EB%A6%AC%EC%84%9D%20%EB%AA%A8%EB%8B%88%ED%84%B0%EC%84%A0%EB%B0%98&img=http://shopping.phinf.naver.net/main_8351825/8351825861.jpg HTTP/1.1\" 200 91\n",
      "10.0.2.2 - - [21/Aug/2016 18:27:49] \"GET /classify?name=[4%%EC%A6%89%EC%8B%9C%ED%95%A0%EC%9D%B8%EC%BF%A0%ED%8F%B0]%ED%81%90%EB%B9%85%EC%8A%A42%20%ED%8C%A8%ED%84%B4%20%EB%AA%A8%EB%8B%88%ED%84%B0%EB%B0%9B%EC%B9%A8%EB%8C%80%20%EC%B1%85%EC%9E%A5%20no.2/%20%EC%B2%9C%EC%9D%B4%EB%B0%B1%EC%97%A0&img=http://shopping.phinf.naver.net/main_8093187/8093187895.jpg HTTP/1.1\" 200 91\n",
      "10.0.2.2 - - [21/Aug/2016 18:27:49] \"GET /classify?name=1200M%20[%ED%81%90%EB%B9%85%EC%8A%A4]%20%ED%81%90%EB%B9%85%EC%8A%A43%20PC%EB%B0%9B%EC%B9%A8%EB%8C%80-A&img=http://shopping.phinf.naver.net/main_7200575/7200575827.jpg HTTP/1.1\" 200 91\n",
      "10.0.2.2 - - [21/Aug/2016 18:27:49] \"GET /classify?name=[5%%EC%A6%89%EC%8B%9C%ED%95%A0%EC%9D%B8%EC%BF%A0%ED%8F%B0]%EA%B3%A0%EA%B8%89%20%EC%9B%90%EB%AA%A9%20%EB%AA%A8%EB%8B%88%ED%84%B0%20%EB%B0%9B%EC%B9%A8%EB%8C%80%20%EC%9B%90%EB%AA%A9%EC%9C%BC%EB%A1%9C%20%EB%A7%8C%EB%93%A0%20%EA%B3%A0%EA%B8%89%20%EB%AA%A8%EB%8B%88%ED%84%B0%20%EB%B0%9B%EC%B9%A8%EB%8C%80%EC%9E%85%EB%8B%88%EB%8B%A4&img=http://shopping.phinf.naver.net/main_7692675/7692675837.jpg HTTP/1.1\" 200 91\n",
      "10.0.2.2 - - [21/Aug/2016 18:27:49] \"GET /classify?name=%EB%B9%A0%EB%A5%B8%EB%B0%B0%EC%86%A1%20%EA%B3%A0%EA%B8%89%ED%98%95%20%EC%9B%90%EB%AA%A9%20%EB%AA%A8%EB%8B%88%ED%84%B0%EB%B0%9B%EC%B9%A8%EB%8C%80/%EB%AA%A8%EB%8B%88%ED%84%B0%EB%B0%9B%EC%B9%A8%EB%8C%80/%EB%AA%A8%EB%8B%88%ED%84%B0%EB%B0%9B%EC%B9%A8%EB%8C%80%20%ED%82%A4%EB%B3%B4%EB%93%9C/%EB%9D%BC%ED%95%84%EC%9A%94%20%ED%85%8C%EC%9D%B4%EB%B8%94/%EB%8B%A4%EC%9A%A9%EB%8F%84%EC%B1%85%EC%83%81/%EB%9D%BC%ED%95%84%EC%9A%94[%EB%9D%BC%ED%95%84%EC%9A%94/%EC%9B%90%EB%AA%A9%EB%AA%A8%EB%8B%88%ED%84%B0%EB%B0%9B%EC%B9%A8%EB%8C%80/%EB%AA%A8%EB%8B%88%ED%84%B0%EB%B0%9B%EC%B9%A8%EB%8C%80]&img=http://shopping.phinf.naver.net/main_6806283/6806283284.jpg HTTP/1.1\" 200 91\n",
      "10.0.2.2 - - [21/Aug/2016 18:27:49] \"GET /classify?name=[233762]I-Board%20Basic%20%EB%AA%A8%EB%8B%88%ED%84%B0%20%EB%B0%9B%EC%B9%A8%EB%8C%80(%ED%99%94%EC%9D%B4%ED%8A%B8/Iroo)&img=http://shopping.phinf.naver.net/main_6559289/6559289600.jpg HTTP/1.1\" 200 91\n",
      "10.0.2.2 - - [21/Aug/2016 18:27:49] \"GET /classify?name=[%ED%85%90%EB%B0%94%EC%9D%B4%ED%85%90][%ED%85%90%EB%B0%94%EC%9D%B4%ED%85%90]UBOARD%20smart%20(3Port%20USB%ED%97%88%EB%B8%8C%ED%8F%AC%ED%95%A8)&img=http://shopping.phinf.naver.net/main_6482021/6482021765.1.jpg HTTP/1.1\" 200 91\n",
      "10.0.2.2 - - [21/Aug/2016 18:27:49] \"GET /classify?name=%ED%94%84%EB%9D%BC%EC%9E%84%EB%94%94%EB%A0%89%ED%8A%B8%20%20CPH001%20PC%EB%B3%B8%EC%B2%B4%20%EB%B0%9B%EC%B9%A8%EB%8C%80&img=http://shopping.phinf.naver.net/main_7648050/7648050018.jpg HTTP/1.1\" 200 91\n",
      "10.0.2.2 - - [21/Aug/2016 18:27:49] \"GET /classify?name=[%EC%97%90%EC%9D%B4%EB%8D%B0%EC%9D%B4%ED%83%80]%20%EC%BB%B4%ED%93%A8%ED%84%B0%EB%B3%B8%EC%B2%B4%EB%B0%9B%EC%B9%A8%EB%8C%80%20CS-002M%20(15~26Cm/%EC%9D%B4%EB%8F%99%EC%8B%9D)&img=http://shopping.phinf.naver.net/main_8143127/8143127531.jpg HTTP/1.1\" 200 102\n",
      "10.0.2.2 - - [21/Aug/2016 18:27:49] \"GET /classify?name=%EA%B0%95%EC%9B%90%EC%A0%84%EC%9E%90%20NETmate%20%EC%BB%B4%ED%93%A8%ED%84%B0%20%EB%B3%B8%EC%B2%B4%20%EB%B0%9B%EC%B9%A8%EB%8C%80%20%EC%97%94%ED%8B%B1%20(NMK-OCS02)&img=http://shopping.phinf.naver.net/main_8300905/8300905181.jpg HTTP/1.1\" 200 91\n"
     ]
    },
    {
     "name": "stdout",
     "output_type": "stream",
     "text": [
      "classify called\n",
      "classify called\n",
      "classify called\n",
      "classify called\n",
      "classify called\n",
      "classify called\n",
      "classify called\n",
      "classify called\n",
      "classify called\n",
      "classify called\n",
      "classify called\n",
      "classify called\n",
      "classify called\n",
      "classify called\n"
     ]
    },
    {
     "name": "stderr",
     "output_type": "stream",
     "text": [
      "10.0.2.2 - - [21/Aug/2016 18:27:49] \"GET /classify?name=1300K%20MAXTEK[%EB%A7%A5%EC%8A%A4%ED%85%8D]%20MAXTEK%20%EC%9B%90%EB%AA%A9%20%EB%AA%A8%EB%8B%88%ED%84%B0%EB%B0%9B%EC%B9%A8%EB%8C%80%20570%20x%20238%20x%2085%20mm&img=http://shopping.phinf.naver.net/main_6961343/6961343493.jpg HTTP/1.1\" 200 91\n",
      "10.0.2.2 - - [21/Aug/2016 18:27:49] \"GET /classify?name=[%EA%BF%80%EB%B9%84C]%EB%AA%A8%EB%8B%88%ED%84%B0%EB%B0%9B%EC%B9%A8%EB%8C%80%EC%BB%B5%ED%99%80%EB%8D%94%ED%98%95%EC%82%BC%EB%82%98%EB%AC%B4%EC%9B%90%EB%AA%A9%EC%BB%A4%ED%94%BC%EC%88%98%EB%82%A9%EB%AA%A8%EB%8B%88%ED%84%B0%EC%84%A0%EB%B0%98%EB%8B%A4%EC%9A%A9%EB%8F%84%EB%B0%9B%EC%B9%A8%EB%8C%80%EC%BB%B4%ED%93%A8%ED%84%B0%EC%B1%85%EC%83%81%ED%82%A4%EB%B3%B4%EB%93%9C%EC%88%98%EB%82%A9%EC%84%A0%EB%B0%98&img=http://shopping.phinf.naver.net/main_7831558/7831558235.jpg HTTP/1.1\" 200 87\n",
      "10.0.2.2 - - [21/Aug/2016 18:27:49] \"GET /classify?name=PC%EC%BA%90%EB%A6%AC%EC%96%B4%20PC%EB%B0%9B%EC%B9%A8%EB%8C%80%20%EC%BB%B4%ED%93%A8%ED%84%B0%EB%B0%9B%EC%B9%A8%EB%8C%80%20%EC%9D%BC%EB%B0%98%ED%98%95%20%EC%8A%AC%EB%A6%BC%ED%98%95%20%EC%BB%B4%ED%93%A8%ED%84%B0%EB%B0%9B%EC%B9%A8%20%EA%B0%80%EC%A0%95%EC%9E%A1%ED%99%94%20%EC%82%AC%EB%AC%B4%EC%9A%A9%ED%92%88%20%EC%B1%85%EC%83%81%20%EB%B3%B8%EC%B2%B4%EB%B0%9B%EC%B9%A8%EB%8C%80%20%EB%B3%B8%EC%B2%B4%EC%A7%80%EC%A7%80%EB%8C%80%20%EC%BB%B4%ED%93%A8%ED%84%B0%EC%A3%BC%EB%B3%80%EB%B0%9B%EC%B9%A8%20%EC%BB%B4%ED%93%A8%ED%84%B0%EB%B0%9B%EC%B9%A8%20%EB%B0%9B%EC%B9%A8%EB%8C%80&img=http://shopping.phinf.naver.net/main_8299411/8299411974.jpg HTTP/1.1\" 200 91\n",
      "10.0.2.2 - - [21/Aug/2016 18:27:49] \"GET /classify?name=SAMDI%20%EC%9A%B0%EB%93%9C%20iMac%ED%82%A4%EB%B3%B4%EB%93%9C%EA%B1%B0%EC%B9%98%EB%8C%80%20/%20%EC%95%84%EC%9D%B4%EB%A7%A5%20%ED%82%A4%EB%B3%B4%EB%93%9C%20%EA%B1%B0%EC%B9%98%EB%8C%80&img=http://shopping.phinf.naver.net/main_8386294/8386294142.jpg HTTP/1.1\" 200 91\n",
      "10.0.2.2 - - [21/Aug/2016 18:27:49] \"GET /classify?name=[%EC%82%BC%EC%84%B1%EC%B9%B4%EB%93%9C5%%ED%95%A0%EC%9D%B8~16%EC%9D%BC%EA%B9%8C%EC%A7%80]ERGOTRON%20%EC%97%98%EC%97%91%EC%8A%A4%20%EB%93%80%EC%96%BC%20%EC%8A%A4%ED%83%9C%ED%82%B9%20%EC%95%94(%EB%93%80%EC%96%BC)%20/%20%EB%AA%A8%EB%8B%88%ED%84%B0%EA%B1%B0%EC%B9%98%EB%8C%80%20/%20%EB%AA%A8%EB%8B%88%ED%84%B0%EC%95%94%20/%20%EB%AA%A8%EB%8B%88%ED%84%B0%EB%B0%9B%EC%B9%A8%EB%8C%80&img=http://shopping.phinf.naver.net/main_8407012/8407012167.jpg HTTP/1.1\" 200 91\n",
      "10.0.2.2 - - [21/Aug/2016 18:27:49] \"GET /classify?name=[%ED%85%90%EB%B0%94%EC%9D%B4%ED%85%90]%20%EC%9C%84%EB%8D%94%EC%8A%A4%20%EB%AA%A8%EB%8B%88%ED%84%B0%20%EB%B0%9B%EC%B9%A8%EB%8C%80_PC/%EB%85%B8%ED%8A%B8%EB%B6%81%20%EC%95%85%EC%84%B8%EC%84%9C%EB%A6%AC&img=http://shopping.phinf.naver.net/main_8419118/8419118360.jpg HTTP/1.1\" 200 91\n",
      "10.0.2.2 - - [21/Aug/2016 18:27:49] \"GET /classify?name=%EB%B3%B8%EC%B2%B4%EB%B0%9B%EC%B9%A8%EB%8C%80&img=http://shopping.phinf.naver.net/main_7651755/7651755091.3.jpg HTTP/1.1\" 200 91\n",
      "10.0.2.2 - - [21/Aug/2016 18:27:49] \"GET /classify?name=6G%20Float%20Keyboard%20[%20%ED%82%A4%EB%B3%B4%EB%93%9C%20%ED%8A%B8%EB%A0%88%EC%9D%B4]&img=http://shopping.phinf.naver.net/main_8202153/8202153519.jpg HTTP/1.1\" 200 109\n",
      "10.0.2.2 - - [21/Aug/2016 18:27:49] \"GET /classify?name=100%ED%94%8C%EB%9F%AC%EC%8A%A4%EB%AA%B0%20%EC%88%98%ED%97%98%EC%83%9D%20%ED%95%84%EC%88%98%20%EA%B3%B5%EC%8B%A0%ED%8C%A8%EB%93%9C%20%EB%B0%94%EB%A5%B8%EC%9E%90%EC%84%B8%20%EC%9E%90%EC%84%B8%EA%B5%90%EC%A0%95%20%EC%A7%91%EC%A4%91%EB%A0%A5%20%ED%96%A5%EC%83%81%20%EC%B2%99%EC%B6%94%20%EC%A0%84%EB%AC%B8%EC%9D%98%EA%B0%80%20%EC%A0%9C%EC%95%88%ED%95%98%EB%8A%94%20%EC%B5%9C%EC%A0%81%EC%86%94%EB%A3%A8%EC%85%98%20%EC%9E%90%EC%84%B8%EA%B5%90%EC%A0%95...&img=http://shopping.phinf.naver.net/main_8270467/8270467196.jpg HTTP/1.1\" 200 109\n",
      "10.0.2.2 - - [21/Aug/2016 18:27:49] \"GET /classify?name=%EB%89%B4%EC%9B%94%EB%93%9C%EC%BD%94%EB%A6%AC%EC%95%84%20%EB%8C%80%EB%82%98%EB%AC%B4%EC%9B%90%EB%AA%A9%20%EC%B0%BB%EC%83%81%20%EB%B2%A0%EB%93%9C%ED%8A%B8%EB%A0%88%EC%9D%B4%20%EB%85%B8%ED%8A%B8%EB%B6%81%EC%B1%85%EC%83%81&img=http://shopping.phinf.naver.net/main_8250562/8250562392.1.jpg HTTP/1.1\" 200 87\n",
      "10.0.2.2 - - [21/Aug/2016 18:27:49] \"GET /classify?name=%ED%81%B4%EB%9E%A8%ED%94%84%ED%99%80%EB%8D%94%20%EC%97%94%EC%82%B0%20%EC%BD%A9%EC%8A%A4%ED%86%A0%EC%96%B4&img=http://shopping.phinf.naver.net/main_8277626/8277626557.jpg HTTP/1.1\" 200 91\n",
      "10.0.2.2 - - [21/Aug/2016 18:27:49] \"GET /classify?name=%EB%8B%A4%EC%9A%A9%EB%8F%84%EB%B0%9B%EC%B9%A8%EB%8C%80%20PTI%EC%99%B8%20%EC%BD%A9%EC%8A%A4%ED%86%A0%EC%96%B4&img=http://shopping.phinf.naver.net/main_8268370/8268370506.jpg HTTP/1.1\" 200 91\n",
      "10.0.2.2 - - [21/Aug/2016 18:27:49] \"GET /classify?name=[4%%EC%A6%89%EC%8B%9C%ED%95%A0%EC%9D%B8%EC%BF%A0%ED%8F%B0]%EC%82%B0%EC%99%80%EC%84%9C%ED%94%8C%EB%9D%BC%EC%9D%B4%20%EC%82%B0%EC%99%80%EC%84%9C%ED%94%8C%EB%9D%BC%EC%9D%B4%20%20MR-NPC1%20%EB%B0%9B%EC%B9%A8%EB%8C%80%20/%EC%8B%A0%EC%86%8D%EC%A0%95%ED%99%95/%EB%B9%A0%EB%A5%B8%20%EB%B0%B0%EC%86%A1/%ED%8A%B9%EA%B0%80/%EB%8B%B9%EC%9D%BC%EC%B6%9C%EA%B3%A0&img=http://shopping.phinf.naver.net/main_8270507/8270507092.jpg HTTP/1.1\" 200 91\n",
      "10.0.2.2 - - [21/Aug/2016 18:27:49] \"GET /classify?name=[5%%EC%A6%89%EC%8B%9C%ED%95%A0%EC%9D%B8%EC%BF%A0%ED%8F%B0]DB-2000NoHub%20%EC%8B%A0%EA%B0%9C%EB%85%90%20%EB%8B%A4%EC%9A%A9%EB%8F%84%20%EC%88%98%EB%82%A9%EB%B3%B4%EB%93%9C%20%EB%B4%89(%ED%97%88%EB%B8%8C%EB%B6%88%ED%8F%AC%ED%95%A8)&img=http://shopping.phinf.naver.net/main_8274121/8274121774.jpg HTTP/1.1\" 200 91\n",
      "10.0.2.2 - - [21/Aug/2016 18:27:49] \"GET /classify?name=%EC%A0%A4%ED%8C%A8%EB%93%9C%20%EA%B0%95%EC%9B%90%EC%A0%84%EC%9E%90%20%EC%BD%A9%EC%8A%A4%ED%86%A0%EC%96%B4&img=http://shopping.phinf.naver.net/main_8268744/8268744876.jpg HTTP/1.1\" 200 79\n"
     ]
    },
    {
     "name": "stdout",
     "output_type": "stream",
     "text": [
      "classify called\n",
      "classify called\n",
      "classify called\n",
      "classify called\n",
      "classify called\n",
      "classify called\n",
      "classify called\n",
      "classify called\n",
      "classify called\n",
      "classify called\n",
      "classify called\n",
      "classify called\n",
      "classify called\n",
      "classify called\n"
     ]
    },
    {
     "name": "stderr",
     "output_type": "stream",
     "text": [
      "10.0.2.2 - - [21/Aug/2016 18:27:49] \"GET /classify?name=[5%%EC%A6%89%EC%8B%9C%ED%95%A0%EC%9D%B8%EC%BF%A0%ED%8F%B0]DB-2000NoHub%20%EC%8B%A0%EA%B0%9C%EB%85%90%20%EB%8B%A4%EC%9A%A9%EB%8F%84%20%EC%88%98%EB%82%A9%EB%B3%B4%EB%93%9C%20%EB%B4%89%ED%97%88%EB%B8%8C%EB%B6%88%ED%8F%AC%ED%95%A8&img=http://shopping.phinf.naver.net/main_8262856/8262856862.jpg HTTP/1.1\" 200 91\n",
      "10.0.2.2 - - [21/Aug/2016 18:27:49] \"GET /classify?name=%EC%BB%B4%ED%93%A8%ED%84%B0%EC%9A%A9%ED%92%88%20%EB%AF%B8%EC%8A%A4%EC%BB%B4%20%EC%BD%A9%EC%8A%A4%ED%86%A0%EC%96%B4&img=http://shopping.phinf.naver.net/main_8277182/8277182497.jpg HTTP/1.1\" 200 91\n",
      "10.0.2.2 - - [21/Aug/2016 18:27:49] \"GET /classify?name=[4%%EC%A6%89%EC%8B%9C%ED%95%A0%EC%9D%B8%EC%BF%A0%ED%8F%B0]BE035%20%20Coms%20%ED%83%9C%EC%96%91%EC%97%B4%20%EC%A7%84%EC%97%B4%EB%8C%80(%ED%9A%8C%EC%A0%84%ED%98%95)%20%204%EB%B0%9C%20%EC%8A%A4%ED%83%A0%EB%93%9C%20-&img=http://shopping.phinf.naver.net/main_8265459/8265459179.jpg HTTP/1.1\" 200 98\n",
      "10.0.2.2 - - [21/Aug/2016 18:27:49] \"GET /classify?name=[5%%EC%A6%89%EC%8B%9C%ED%95%A0%EC%9D%B8%EC%BF%A0%ED%8F%B0]C%EB%AA%A8%EB%8B%88%ED%84%B0%20%EB%B0%9B%EC%B9%A8%EB%8C%80%ED%99%94%EC%9D%B4%ED%8A%B8%EC%83%89%EC%83%81%EB%8B%A4%EB%AA%A9%EC%A0%81%20%EC%BB%B4%ED%93%A8%ED%84%B0%EC%95%85%EC%84%B8%EC%84%9C%EB%A6%AC%20%EC%BB%B4%ED%93%A8&img=http://shopping.phinf.naver.net/main_8279982/8279982017.jpg HTTP/1.1\" 200 91\n",
      "10.0.2.2 - - [21/Aug/2016 18:27:50] \"GET /classify?name=%ED%82%A4%EB%B3%B4%EB%93%9C%EC%86%90%EB%AA%A9%EB%B0%9B%EC%B9%A8%EB%8C%80%20%EA%B0%95%EC%9B%90%EC%A0%84%EC%9E%90%20%EC%BD%A9%EC%8A%A4%ED%86%A0%EC%96%B4&img=http://shopping.phinf.naver.net/main_8277452/8277452919.jpg HTTP/1.1\" 200 79\n",
      "10.0.2.2 - - [21/Aug/2016 18:27:50] \"GET /classify?name=[4%%EC%A6%89%EC%8B%9C%ED%95%A0%EC%9D%B8%EC%BF%A0%ED%8F%B0]NETmate%20NM-GCD01/02/03/04%20%EA%B0%95%ED%99%94%EC%9C%A0%EB%A6%AC%20%EB%AA%A8%EB%8B%88%ED%84%B0%20%EB%B0%9B%EC%B9%A8%EB%8C%80&img=http://shopping.phinf.naver.net/main_8241255/8241255923.jpg HTTP/1.1\" 200 91\n",
      "10.0.2.2 - - [21/Aug/2016 18:27:50] \"GET /classify?name=%EC%BB%B4%ED%93%A8%ED%84%B0%20(%EC%A3%BC)%EC%9C%84%EB%93%9C%EC%94%A8%EC%97%94%EC%97%90%EC%8A%A4%20%EC%BD%A9%EC%8A%A4%ED%86%A0%EC%96%B4&img=http://shopping.phinf.naver.net/main_8276973/8276973954.jpg HTTP/1.1\" 200 91\n",
      "10.0.2.2 - - [21/Aug/2016 18:27:50] \"GET /classify?name=[%EC%A7%80%ED%94%BC%EC%98%A8%EB%9D%BC%EC%9D%B8]%20DB-2000NoHub%20%EC%8B%A0%EA%B0%9C%EB%85%90%20%EB%8B%A4%EC%9A%A9%EB%8F%84%20%EC%88%98%EB%82%A9%EB%B3%B4%EB%93%9C%20%EB%B4%89(%ED%97%88%EB%B8%8C%EB%B6%88%ED%8F%AC%ED%95%A8)&img=http://shopping.phinf.naver.net/main_8273888/8273888602.jpg HTTP/1.1\" 200 91\n",
      "10.0.2.2 - - [21/Aug/2016 18:27:50] \"GET /classify?name=[4%%EC%A6%89%EC%8B%9C%ED%95%A0%EC%9D%B8%EC%BF%A0%ED%8F%B0]PC%EC%BA%90%EB%A6%AC%EC%96%B4%20%EC%8A%AC%EB%A6%BC%ED%98%95%20%EB%B3%B8%EC%B2%B4%20%EB%B0%9B%EC%B9%A8%EB%8C%80&img=http://shopping.phinf.naver.net/main_8272943/8272943808.jpg HTTP/1.1\" 200 91\n",
      "10.0.2.2 - - [21/Aug/2016 18:27:50] \"GET /classify?name=DIY%20%ED%9A%8C%EC%A0%84%EC%8B%9D%20%ED%88%AC%EB%AA%85%20%EC%95%84%ED%81%AC%EB%A6%B4%20%ED%99%94%EC%9E%A5%ED%92%88%20%EC%A0%95%EB%A6%AC%EB%8C%80&img=http://shopping.phinf.naver.net/main_8283711/8283711056.jpg HTTP/1.1\" 200 100\n",
      "10.0.2.2 - - [21/Aug/2016 18:27:50] \"GET /classify?name=(s2b%EB%82%A9%ED%92%88)%20DIY%20%ED%9A%8C%EC%A0%84%EC%8B%9D%20%ED%99%94%EC%9E%A5%ED%92%88%20%EC%A0%95%EB%A6%AC%EB%8C%80&img=http://shopping.phinf.naver.net/main_8283724/8283724873.jpg HTTP/1.1\" 200 99\n",
      "10.0.2.2 - - [21/Aug/2016 18:27:50] \"GET /classify?name=%EC%BB%B4%ED%93%A8%ED%84%B0%EC%8A%AC%EB%A6%BC%ED%98%95%EB%B3%B8%EC%B2%B4%EB%B0%9B%EC%B9%A8%EB%8C%80&img=http://shopping.phinf.naver.net/main_6375470/6375470977.jpg HTTP/1.1\" 200 87\n",
      "10.0.2.2 - - [21/Aug/2016 18:27:50] \"GET /classify?name=%EB%AA%A8%EB%8B%88%ED%84%B0%EB%B0%9B%EC%B9%A8%EB%8C%80%20(%EC%82%BC%EB%82%98%EB%AC%B4%EC%9B%90%EB%AA%A9/%ED%82%A4%EB%B3%B4%EB%93%9C%EC%88%98%EB%82%A9)%20[W016060]&img=http://shopping.phinf.naver.net/main_7181043/7181043375.jpg HTTP/1.1\" 200 91\n",
      "10.0.2.2 - - [21/Aug/2016 18:27:50] \"GET /classify?name=[%EC%95%84%EC%9D%B4%EC%BB%B4%ED%94%84%EB%A6%AC]/%20%EC%8A%A4%EC%B9%B4%EC%9D%B4%EB%94%94%EC%A7%80%ED%83%88%20%20TK36%20%ED%82%A4%EB%B3%B4%EB%93%9C%20%EC%9B%90%EB%AA%A9%20%EC%86%90%EB%AA%A9%EB%B0%9B%EC%B9%A8%EB%8C%80%20/[%EB%B9%A0%EB%A5%B8%EB%B0%B0%EC%86%A1]&img=http://shopping.phinf.naver.net/main_8347719/8347719923.jpg HTTP/1.1\" 200 91\n"
     ]
    },
    {
     "name": "stdout",
     "output_type": "stream",
     "text": [
      "classify called\n",
      "classify called\n",
      "classify called\n",
      "classify called\n",
      "classify called\n",
      "classify called\n",
      "classify called\n",
      "classify called\n",
      "classify called\n",
      "classify called\n",
      "classify called\n"
     ]
    },
    {
     "name": "stderr",
     "output_type": "stream",
     "text": [
      "10.0.2.2 - - [21/Aug/2016 18:27:50] \"GET /classify?name=[4%%EC%A6%89%EC%8B%9C%ED%95%A0%EC%9D%B8%EC%BF%A0%ED%8F%B0]Actto%20%EC%97%91%ED%86%A0%20NBS-11WH%20%EB%85%B8%ED%8A%B8%EB%B6%81%20%EC%BF%A8%EB%A7%81%20%EC%8A%A4%ED%83%A0%EB%93%9C/%EA%B1%B0%EC%B9%98%EB%8C%80/4%ED%8F%AC%ED%8A%B8%20%ED%97%88%EB%B8%8C%20%EC%97%91%ED%86%A0%20%EC%A0%95%ED%92%88%ED%8C%90%EB%A7%A4%EC%B2%98%20/%20%EB%B9%A0%EB%A5%B8%EB%B0%B0%EC%86%A1&img=http://shopping.phinf.naver.net/main_8178529/8178529024.1.jpg HTTP/1.1\" 200 98\n",
      "10.0.2.2 - - [21/Aug/2016 18:27:50] \"GET /classify?name=[%EB%84%A4%EC%9D%B4%EC%B3%90%EB%A6%AC%EB%B9%99]%EB%84%A4%EC%9D%B4%EC%B3%90%20%EC%A7%80%EA%B7%B8%EC%9E%AC%EA%B7%B8%EC%8B%A0%EB%B0%9C%EC%9E%A59%EB%8B%A8&img=http://shopping.phinf.naver.net/main_8250684/8250684331.1.jpg HTTP/1.1\" 200 91\n",
      "10.0.2.2 - - [21/Aug/2016 18:27:50] \"GET /classify?name=%EC%9B%90%EC%98%88%EB%AA%A8%EC%A2%85%EC%82%BD3%EC%A2%85%EC%84%B8%ED%8A%B8%20%ED%98%B8%EB%AF%B8%20%EC%9B%90%EC%98%88%20%EB%B6%84%EA%B0%88%EC%9D%B4%20%ED%99%94%EB%B6%84%EA%B0%88%EC%9D%B4%20%EA%B4%AD%EC%9D%B4%208cm%20x%2020cm_7cm%20x%2022.5cm_7cm%20x%2021.5cm%20%ED%99%94%EB%B6%84%EA%B0%88%EC%9D%B4%20[%EC%A0%95%EC%84%B1%EA%B0%80%EB%93%9D]&img=http://shopping.phinf.naver.net/main_8269955/8269955882.jpg HTTP/1.1\" 200 91\n",
      "10.0.2.2 - - [21/Aug/2016 18:27:50] \"GET /classify?name=%EB%85%B8%ED%8A%B8%EB%B6%81%ED%85%8C%EC%9D%B4%EB%B8%94%20(%EC%A3%BC)%EC%9C%84%EB%93%9C%EC%94%A8%EC%97%94%EC%97%90%EC%8A%A4%20%EC%BD%A9%EC%8A%A4%ED%86%A0%EC%96%B4&img=http://shopping.phinf.naver.net/main_8277069/8277069620.jpg HTTP/1.1\" 200 91\n",
      "10.0.2.2 - - [21/Aug/2016 18:27:50] \"GET /classify?name=[4%%EC%A6%89%EC%8B%9C%ED%95%A0%EC%9D%B8%EC%BF%A0%ED%8F%B0]PC%EC%BA%90%EB%A6%AC%EC%96%B4%20PC%EB%B0%9B%EC%B9%A8%EB%8C%80%20%EC%BB%B4%ED%93%A8%ED%84%B0%EB%B0%9B%EC%B9%A8%EB%8C%80%20%EC%9D%BC%EB%B0%98%ED%98%95%20%EC%8A%AC%EB%A6%BC%ED%98%95%20%EC%BB%B4%ED%93%A8&img=http://shopping.phinf.naver.net/main_8279999/8279999175.jpg HTTP/1.1\" 200 91\n",
      "10.0.2.2 - - [21/Aug/2016 18:27:50] \"GET /classify?name=NETmate%20%EB%B3%B8%EC%B2%B4%20%EB%B0%9B%EC%B9%A8%EB%8C%80%20(%EC%9B%94%EB%84%9B)%20NMK-OCS03%20%EA%B5%AD%EC%82%B0&img=http://shopping.phinf.naver.net/main_8270040/8270040591.jpg HTTP/1.1\" 200 91\n",
      "10.0.2.2 - - [21/Aug/2016 18:27:50] \"GET /classify?name=[4%%EC%A6%89%EC%8B%9C%ED%95%A0%EC%9D%B8%EC%BF%A0%ED%8F%B0]NETmate%20%EC%BB%B4%ED%93%A8%ED%84%B0%20%EB%B3%B8%EC%B2%B4%20%EB%B0%9B%EC%B9%A8%EB%8C%80(A)%20NMA-LM08&img=http://shopping.phinf.naver.net/main_8267780/8267780715.jpg HTTP/1.1\" 200 91\n",
      "10.0.2.2 - - [21/Aug/2016 18:27:50] \"GET /classify?name=%EB%B8%8C%EB%A6%AC%EC%B8%A0%20BR-1100V%20Plus&img=http://shopping.phinf.naver.net/main_6319778/6319778737.20120510163331.jpg HTTP/1.1\" 200 107\n",
      "10.0.2.2 - - [21/Aug/2016 18:27:50] \"GET /classify?name=CAMAC%20CMK-680A&img=http://shopping.phinf.naver.net/main_5483057/5483057680.20120211170932.jpg HTTP/1.1\" 200 107\n",
      "10.0.2.2 - - [21/Aug/2016 18:27:50] \"GET /classify?name=%ED%81%AC%EB%A6%AC%EC%97%90%EC%9D%B4%ED%8B%B0%EB%B8%8C%20INSPIRE%20T3130&img=http://shopping.phinf.naver.net/main_5509585/5509585943.20120211164552.jpg HTTP/1.1\" 200 107\n",
      "10.0.2.2 - - [21/Aug/2016 18:27:50] \"GET /classify?name=CAMAC%20CMK-30A%20Click%20USB&img=http://shopping.phinf.naver.net/main_6589756/6589756522.20130424155848.jpg HTTP/1.1\" 200 107\n",
      "10.0.2.2 - - [21/Aug/2016 18:27:50] \"GET /classify?name=%EB%B8%8C%EB%A6%AC%EC%B8%A0%20BR-2100K3%20PLUS%20%EC%8A%A4%ED%8E%98%EC%85%9C%20%ED%8C%A8%ED%82%A4%EC%A7%80&img=http://shopping.phinf.naver.net/main_7185947/7185947965.20131008153600.jpg HTTP/1.1\" 200 107\n",
      "10.0.2.2 - - [21/Aug/2016 18:27:50] \"GET /classify?name=CAMAC%20CMK-30A%20Click&img=http://shopping.phinf.naver.net/main_6589759/6589759028.20130328174444.jpg HTTP/1.1\" 200 107\n"
     ]
    },
    {
     "name": "stdout",
     "output_type": "stream",
     "text": [
      "classify called\n",
      "classify called\n",
      "classify called\n",
      "classify called\n",
      "classify called\n",
      "classify called\n",
      "classify called\n",
      "classify called\n",
      "classify called\n",
      "classify called\n",
      "classify called\n",
      "classify called\n",
      "classify called\n",
      "classify called\n",
      "classify called\n",
      "classify called\n"
     ]
    },
    {
     "name": "stderr",
     "output_type": "stream",
     "text": [
      "10.0.2.2 - - [21/Aug/2016 18:27:50] \"GET /classify?name=(%EB%B9%A0%EB%A5%B8%EB%B0%B0%EC%86%A1)%20(%EC%83%88%EC%83%81%ED%92%88)%20%EB%B8%8C%EB%A6%AC%EC%B8%A0%20BR-1100V%20%EC%8A%A4%ED%94%BC%EC%BB%A4&img=http://shopping.phinf.naver.net/main_8281691/8281691312.jpg HTTP/1.1\" 200 107\n",
      "10.0.2.2 - - [21/Aug/2016 18:27:50] \"GET /classify?name=[4%%EC%A6%89%EC%8B%9C%ED%95%A0%EC%9D%B8%EC%BF%A0%ED%8F%B0]DELL%20%20AX510PA%20%EC%82%AC%EC%9A%B4%EB%93%9C%EB%B0%94%20%EC%8A%A4%ED%94%BC%EC%BB%A4&img=http://shopping.phinf.naver.net/main_8261412/8261412091.jpg HTTP/1.1\" 200 107\n",
      "10.0.2.2 - - [21/Aug/2016 18:27:50] \"GET /classify?name=[4%%EC%A6%89%EC%8B%9C%ED%95%A0%EC%9D%B8%EC%BF%A0%ED%8F%B0]%EB%B3%B4%EB%85%B8%EB%B3%B4%EC%8A%A4%20BS200%20%EC%82%AC%EC%9A%B4%EB%93%9C%EB%B0%94%20%EC%8A%A4%ED%94%BC%EC%BB%A4/%EC%B4%9D%EC%95%8C%EB%B0%B0%EC%86%A1&img=http://shopping.phinf.naver.net/main_8270514/8270514677.jpg HTTP/1.1\" 200 107\n",
      "10.0.2.2 - - [21/Aug/2016 18:27:50] \"GET /classify?name=[4%%EC%A6%89%EC%8B%9C%ED%95%A0%EC%9D%B8%EC%BF%A0%ED%8F%B0]%EB%8F%85%EC%A0%90%ED%8C%90%EB%A7%A4%EC%9E%90%EC%83%81%ED%92%88CEPC%20%EC%8A%A4%ED%94%BC%EC%BB%A4%202.1%EC%B1%84%EB%84%90%20%EC%9C%A0%EC%84%A0%ED%98%95%20AC%20%EC%A0%84%EC%9B%90&img=http://shopping.phinf.naver.net/main_8281019/8281019047.jpg HTTP/1.1\" 200 107\n",
      "10.0.2.2 - - [21/Aug/2016 18:27:50] \"GET /classify?name=[PCD8571]%20%EC%8A%A4%ED%94%BC%EC%BB%A4%202.1%EC%B1%84%EB%84%90%20(3.5mm%EC%9E%AD%20/%20%EC%9D%BC%EB%B0%98%ED%98%95%20/%20AC%20%EC%A0%84%EC%9B%90)&img=http://shopping.phinf.naver.net/main_8277893/8277893423.jpg HTTP/1.1\" 200 107\n",
      "10.0.2.2 - - [21/Aug/2016 18:27:50] \"GET /classify?name=[4%%EC%A6%89%EC%8B%9C%ED%95%A0%EC%9D%B8%EC%BF%A0%ED%8F%B0](BI)%EC%82%AC%EC%9A%B4%EB%93%9C%20%EB%B0%95%EC%8A%A4%20%EC%8A%A4%ED%94%BC%EC%BB%A4%202.1%EC%B1%84%EB%84%90&img=http://shopping.phinf.naver.net/main_8274612/8274612799.jpg HTTP/1.1\" 200 107\n",
      "10.0.2.2 - - [21/Aug/2016 18:27:50] \"GET /classify?name=[PCD8577]%20%EC%8A%A4%ED%94%BC%EC%BB%A4%202%EC%B1%84%EB%84%90%20(R.M.S%202W%20/%20P.M.P.O%20600W%20/%202.25%EC%9C%A0%EB%8B%88%ED%8A%B8)&img=http://shopping.phinf.naver.net/main_8277664/8277664565.jpg HTTP/1.1\" 200 107\n",
      "10.0.2.2 - - [21/Aug/2016 18:27:50] \"GET /classify?name=[%ED%94%BC%EC%8B%9C%ED%8F%AC%EC%98%AC]%20Canston%20FnD%20A511K%20(%EC%8A%A4%ED%94%BC%EC%BB%A4/2.1%EC%B1%84%EB%84%90)%20[%EB%8B%B9%EC%9D%BC%EB%B0%9C%EC%86%A1/%EC%98%A4%EB%8A%98%EC%B6%9C%EB%B0%9C]&img=http://shopping.phinf.naver.net/main_8280373/8280373375.jpg HTTP/1.1\" 200 107\n",
      "10.0.2.2 - - [21/Aug/2016 18:27:50] \"GET /classify?name=%EB%B8%8C%EB%A6%AC%EC%B8%A0%20BR-5100V2&img=http://shopping.phinf.naver.net/main_4146320/4146320711.20120211172226.jpg HTTP/1.1\" 200 107\n",
      "10.0.2.2 - - [21/Aug/2016 18:27:50] \"GET /classify?name=Britz%20%EB%B8%8C%EB%A6%AC%EC%B8%A0%20BR-5100T3%205.1%EC%B1%84%EB%84%90%20%EC%8A%A4%ED%94%BC%EC%BB%A4%20%EA%B3%A0%EB%B0%80%EB%8F%84%20MDF%20%EB%AF%B8%EB%93%A4%EB%A0%88%EC%9D%B8%EC%A7%80%20%EC%9C%A0%EB%8B%9B%20%ED%83%91%EC%9E%AC%20%EC%9C%84%EC%84%B1%20%EC%8A%A4%ED%94%BC%EC%BB%A4%20%EB%B2%A0%EC%9D%B4%EC%8A%A4%20%EC%9C%A0%EB%8B%9B%20%ED%83%91%EC%9E%AC%20new2&img=http://shopping.phinf.naver.net/main_8276634/8276634720.jpg HTTP/1.1\" 200 107\n",
      "10.0.2.2 - - [21/Aug/2016 18:27:50] \"GET /classify?name=%EC%8A%A4%ED%94%BC%EC%BB%A4%20%EB%A1%9C%EC%A7%80%ED%85%8D%20%EC%BD%A9%EC%8A%A4%ED%86%A0%EC%96%B4&img=http://shopping.phinf.naver.net/main_8268737/8268737430.jpg HTTP/1.1\" 200 107\n",
      "10.0.2.2 - - [21/Aug/2016 18:27:50] \"GET /classify?name=[4%%EC%A6%89%EC%8B%9C%ED%95%A0%EC%9D%B8%EC%BF%A0%ED%8F%B0][%ED%95%B4%EC%99%B8]%20%20%EB%B0%94%EC%9E%89%ED%8F%BC%20Philips/Philips%20Sbt10%20Mini%20Blue.tooth%20Spea%20%ED%95%B4%EC%99%B8%20%EC%A0%95%ED%92%88%20%EC%A7%81%EB%B0%B0%EC%86%A1&img=http://shopping.phinf.naver.net/main_8243388/8243388511.jpg HTTP/1.1\" 200 118\n",
      "10.0.2.2 - - [21/Aug/2016 18:27:50] \"GET /classify?name=[4%%EC%A6%89%EC%8B%9C%ED%95%A0%EC%9D%B8%EC%BF%A0%ED%8F%B0][%ED%95%B4%EC%99%B8]%20%20%EB%B0%94%EC%9E%89%ED%8F%BC%20Pyle/Pyle%20PWBH18SL%20Water%20Resistant%20Blue.to%20%ED%95%B4%EC%99%B8%20%EC%A0%95%ED%92%88%20%EC%A7%81%EB%B0%B0%EC%86%A1&img=http://shopping.phinf.naver.net/main_8243039/8243039583.jpg HTTP/1.1\" 200 118\n",
      "10.0.2.2 - - [21/Aug/2016 18:27:50] \"GET /classify?name=[4%%EC%A6%89%EC%8B%9C%ED%95%A0%EC%9D%B8%EC%BF%A0%ED%8F%B0][%ED%95%B4%EC%99%B8]%20%20%EB%B0%94%EC%9E%89%ED%8F%BC%20Aduro/Aduro%20AquaSound%20WSP20%20Lifetime%20Warra%20%ED%95%B4%EC%99%B8%20%EC%A0%95%ED%92%88%20%EC%A7%81%EB%B0%B0%EC%86%A1&img=http://shopping.phinf.naver.net/main_8243383/8243383605.jpg HTTP/1.1\" 200 118\n",
      "10.0.2.2 - - [21/Aug/2016 18:27:50] \"GET /classify?name=[4%%EC%A6%89%EC%8B%9C%ED%95%A0%EC%9D%B8%EC%BF%A0%ED%8F%B0][%ED%95%B4%EC%99%B8]%20%20E-Square/%EC%9D%B4%EC%8A%A4%ED%80%98%EC%96%B4%20Aukey/Aukey%20Blue.tooth%20Speaker%20%20%ED%95%B4%EC%99%B8%20%EC%A0%95%ED%92%88%20%EC%A7%81%EB%B0%B0%EC%86%A1&img=http://shopping.phinf.naver.net/main_8245591/8245591049.jpg HTTP/1.1\" 200 107\n"
     ]
    },
    {
     "name": "stdout",
     "output_type": "stream",
     "text": [
      "classify called\n",
      "classify called\n",
      "classify called\n",
      "classify called\n",
      "classify called\n",
      "classify called\n",
      "classify called\n",
      "classify called\n",
      "classify called\n",
      "classify called\n",
      "classify called\n",
      "classify called\n",
      "classify called\n",
      "classify called\n",
      "classify called\n",
      "classify called\n"
     ]
    },
    {
     "name": "stderr",
     "output_type": "stream",
     "text": [
      "10.0.2.2 - - [21/Aug/2016 18:27:50] \"GET /classify?name=Britz%20%EB%B8%8C%EB%A6%AC%EC%B8%A0%EC%9D%B8%ED%84%B0%EB%82%B4%EC%85%94%EB%84%90%20BR-5100%20Castle%20%EB%B8%94%EB%9E%99&img=http://shopping.phinf.naver.net/main_8278214/8278214351.jpg HTTP/1.1\" 200 107\n",
      "10.0.2.2 - - [21/Aug/2016 18:27:50] \"GET /classify?name=[4%%EC%A6%89%EC%8B%9C%ED%95%A0%EC%9D%B8%EC%BF%A0%ED%8F%B0][%ED%95%B4%EC%99%B8]%20%20%EB%B0%94%EC%9E%89%ED%8F%BC%20Philips/Philips%20AJT3300/37%20Blue.tooth%20Cloc%20%ED%95%B4%EC%99%B8%20%EC%A0%95%ED%92%88%20%EC%A7%81%EB%B0%B0%EC%86%A1&img=http://shopping.phinf.naver.net/main_8243053/8243053450.jpg HTTP/1.1\" 200 72\n",
      "10.0.2.2 - - [21/Aug/2016 18:27:50] \"GET /classify?name=[4%%EC%A6%89%EC%8B%9C%ED%95%A0%EC%9D%B8%EC%BF%A0%ED%8F%B0][%ED%95%B4%EC%99%B8]%20%20%EB%B0%94%EC%9E%89%ED%8F%BC%20Lycheers/Lycheers%20Waterproof%20Wireless%20Blue%20%ED%95%B4%EC%99%B8%20%EC%A0%95%ED%92%88%20%EC%A7%81%EB%B0%B0%EC%86%A1&img=http://shopping.phinf.naver.net/main_8243025/8243025295.jpg HTTP/1.1\" 200 118\n",
      "10.0.2.2 - - [21/Aug/2016 18:27:50] \"GET /classify?name=[4%%EC%A6%89%EC%8B%9C%ED%95%A0%EC%9D%B8%EC%BF%A0%ED%8F%B0][%ED%95%B4%EC%99%B8]%20[Altec%20Lansing][Altec%20Lansing%20VS2621%202.1%20Channel%20Speaker%20System][%EA%B8%80%EB%A1%9C%EB%B2%8C%EC%85%80%EB%9F%AC%20:%20%EC%A1%B0%EC%BD%94%EB%9D%BC%EC%9D%B8]%EB%AC%B4%EB%A3%8C%EB%B0%B0%EC%86%A1%20%ED%95%B4%EC%99%B8&img=http://shopping.phinf.naver.net/main_8182987/8182987439.jpg HTTP/1.1\" 200 107\n",
      "10.0.2.2 - - [21/Aug/2016 18:27:50] \"GET /classify?name=[4%%EC%A6%89%EC%8B%9C%ED%95%A0%EC%9D%B8%EC%BF%A0%ED%8F%B0][%ED%95%B4%EC%99%B8]%20%20%EB%B0%94%EC%9E%89%ED%8F%BC%20Life%20n%20Soul/Life%20n%20Soul%20IE101-Bu%20Blue.toot%20%ED%95%B4%EC%99%B8%20%EC%A0%95%ED%92%88%20%EC%A7%81%EB%B0%B0%EC%86%A1&img=http://shopping.phinf.naver.net/main_8243073/8243073553.jpg HTTP/1.1\" 200 118\n",
      "10.0.2.2 - - [21/Aug/2016 18:27:50] \"GET /classify?name=[4%%EC%A6%89%EC%8B%9C%ED%95%A0%EC%9D%B8%EC%BF%A0%ED%8F%B0][%ED%95%B4%EC%99%B8]%20%20%EB%B0%94%EC%9E%89%ED%8F%BC%20Creative/Creative%20D80%20Wireless%20Blue.tooth%20%20%ED%95%B4%EC%99%B8%20%EC%A0%95%ED%92%88%20%EC%A7%81%EB%B0%B0%EC%86%A1&img=http://shopping.phinf.naver.net/main_8243049/8243049733.jpg HTTP/1.1\" 200 118\n",
      "10.0.2.2 - - [21/Aug/2016 18:27:50] \"GET /classify?name=[4%%EC%A6%89%EC%8B%9C%ED%95%A0%EC%9D%B8%EC%BF%A0%ED%8F%B0][%ED%95%B4%EC%99%B8]%20%20%20IHome/iHome%20iP10%20Stereo%20Alarm%20Clock%20Speaker%20Dock%20%ED%95%B4%EC%99%B8%20%EC%A0%95%ED%92%88%20%EC%A7%81%EB%B0%B0%EC%86%A1&img=http://shopping.phinf.naver.net/main_8228417/8228417566.jpg HTTP/1.1\" 200 107\n",
      "10.0.2.2 - - [21/Aug/2016 18:27:50] \"GET /classify?name=[4%%EC%A6%89%EC%8B%9C%ED%95%A0%EC%9D%B8%EC%BF%A0%ED%8F%B0][%ED%95%B4%EC%99%B8]%20%20%20EKids/eKids%20Phineas%20and%20Ferb%20Agent%20P%20Dual%20Alarm%20%20%ED%95%B4%EC%99%B8%20%EC%A0%95%ED%92%88%20%EC%A7%81%EB%B0%B0%EC%86%A1&img=http://shopping.phinf.naver.net/main_8217336/8217336870.jpg HTTP/1.1\" 200 118\n",
      "10.0.2.2 - - [21/Aug/2016 18:27:50] \"GET /classify?name=[4%%EC%A6%89%EC%8B%9C%ED%95%A0%EC%9D%B8%EC%BF%A0%ED%8F%B0][%ED%95%B4%EC%99%B8]%20Definitive%20Technology%20Sound%20Cylinder%20Blue.tooth%20Sp%20%ED%95%B4%EC%99%B8%EC%A0%95%ED%92%88%EC%A7%81%EB%B0%B0%EC%86%A1%20%EC%A0%95%EC%8B%9D%ED%86%B5%EA%B4%80%20%EA%B4%80%EB%B6%80%EA%B0%80%EC%84%B8%ED%8F%AC%ED%95%A8&img=http://shopping.phinf.naver.net/main_8229299/8229299646.jpg HTTP/1.1\" 200 107\n",
      "10.0.2.2 - - [21/Aug/2016 18:27:50] \"GET /classify?name=[4%%EC%A6%89%EC%8B%9C%ED%95%A0%EC%9D%B8%EC%BF%A0%ED%8F%B0][%ED%95%B4%EC%99%B8]%20%20%20IHome/iHome%20iP21WVC%20App-Friendly%2030-Pin%20iPod/iPh%20%ED%95%B4%EC%99%B8%20%EC%A0%95%ED%92%88%20%EC%A7%81%EB%B0%B0%EC%86%A1&img=http://shopping.phinf.naver.net/main_8217337/8217337119.jpg HTTP/1.1\" 200 107\n",
      "10.0.2.2 - - [21/Aug/2016 18:27:50] \"GET /classify?name=[4%%EC%A6%89%EC%8B%9C%ED%95%A0%EC%9D%B8%EC%BF%A0%ED%8F%B0][%ED%95%B4%EC%99%B8][%EA%B8%80%EB%A1%9C%EB%B2%8C%EC%85%80%EB%9F%AC]SDI%20Technologies%20iHome%20ZN9B%20Clock%20Radio&img=http://shopping.phinf.naver.net/main_8198108/8198108359.jpg HTTP/1.1\" 200 107\n",
      "10.0.2.2 - - [21/Aug/2016 18:27:50] \"GET /classify?name=[4%%EC%A6%89%EC%8B%9C%ED%95%A0%EC%9D%B8%EC%BF%A0%ED%8F%B0][%ED%95%B4%EC%99%B8][%EA%B8%80%EB%A1%9C%EB%B2%8C%EC%85%80%EB%9F%AC]SDI%20Technologies%20Remote%20Control%20for%20iHome&img=http://shopping.phinf.naver.net/main_8198106/8198106114.jpg HTTP/1.1\" 200 101\n",
      "10.0.2.2 - - [21/Aug/2016 18:27:50] \"GET /classify?name=ASHTON%20AT-1900Z%20Black&img=http://shopping.phinf.naver.net/main_7292365/7292365232.20131129152236.jpg HTTP/1.1\" 200 91\n",
      "10.0.2.2 - - [21/Aug/2016 18:27:50] \"GET /classify?name=[%20-%EC%B5%9C%EC%9A%B0%EC%88%98%ED%8C%90%EB%A7%A4%EC%A0%90-%20][%20%EA%B3%B5%EC%9D%B8%EC%A0%95%ED%92%88%ED%8C%90%EB%A7%A4%EC%A0%90%20%EB%8B%A4%EC%9D%8C%ED%94%BC%EC%8B%9C%20]%20BonoBoss%20BOS-N303[[%20%EB%8B%B9%EC%9D%BC%EB%B0%9C%EC%86%A1%20%EC%B4%9D%EC%95%8C%EB%B0%9C%EC%86%A1%20%EC%8B%A4%EC%8B%9C%EA%B0%84%EC%B9%B4%ED%86%A1%EC%83%81%EB%8B%B4%20%20ID%20:%20da]&img=http://shopping.phinf.naver.net/main_8280111/8280111422.jpg HTTP/1.1\" 200 107\n",
      "10.0.2.2 - - [21/Aug/2016 18:27:50] \"GET /classify?name=CS%20BonoBoss%20%20BOS-BS100%20SOUNDWING&img=http://shopping.phinf.naver.net/main_8217645/8217645005.jpg HTTP/1.1\" 200 107\n",
      "10.0.2.2 - - [21/Aug/2016 18:27:50] \"GET /classify?name=[%EB%B8%8C%EB%A6%AC%EC%B8%A0]%205.1%EC%B1%84%EB%84%90%20%EB%A9%80%ED%8B%B0%20%ED%99%88%EC%8B%9C%EC%96%B4%ED%84%B0%20%EC%8A%A4%ED%94%BC%EC%BB%A4%20BR-5100T3%20(SD%EC%B9%B4%EB%93%9C%20%20%20USB%EB%A9%94%EB%AA%A8%EB%A6%AC%20%EC%A7%80%EC%9B%90%20/%20%EC%99%B8%EB%B6%80%20%EC%9E%85%EB%A0%A5%20%EB%8B%A8%EC%9E%90)&img=http://shopping.phinf.naver.net/main_7936578/7936578777.jpg HTTP/1.1\" 200 107\n"
     ]
    },
    {
     "name": "stdout",
     "output_type": "stream",
     "text": [
      "classify called\n",
      "classify called\n",
      "classify called\n",
      "classify called\n",
      "classify called\n",
      "classify called\n",
      "classify called\n",
      "classify called\n",
      "classify called\n",
      "classify called\n",
      "classify called\n",
      "classify called\n",
      "classify called\n",
      "classify called\n"
     ]
    },
    {
     "name": "stderr",
     "output_type": "stream",
     "text": [
      "10.0.2.2 - - [21/Aug/2016 18:27:50] \"GET /classify?name=[%EC%82%BC%EC%84%B1%EC%B9%B4%EB%93%9C5%%ED%95%A0%EC%9D%B8~15%EC%9D%BC%EA%B9%8C%EC%A7%80]BR-1000A%20Plus%20(2%EC%B1%84%EB%84%90%20/%20%EB%93%80%EC%96%BC%EC%8A%A4%ED%85%8C%EB%A0%88%EC%98%A4%20%EC%9E%85%EB%A0%A5%20/%20%ED%8A%B8%EC%9C%88%EC%9A%B0%ED%8D%BC%20/%20%EA%B3%B5%EA%B8%B0%EC%88%9C%ED%99%98%20%EC%8B%9C%EC%8A%A4%ED%85%9C)&img=http://shopping.phinf.naver.net/main_8350039/8350039149.jpg HTTP/1.1\" 200 107\n",
      "10.0.2.2 - - [21/Aug/2016 18:27:50] \"GET /classify?name=%EC%98%AC%EB%9D%BC%EC%86%8C%EB%8B%89%20%ED%94%84%EB%A6%AC%EB%AF%B8%EC%97%84%20%EC%8A%A4%ED%94%BC%EC%BB%A4%20TW-S7%20(%EC%B5%9C%EB%8C%80%20%EC%B6%9C%EB%A0%A5%2020W%20/%20USB%20/%20%EA%B0%81%EB%8F%84%EC%A1%B0%EC%A0%88%20/%20SCDS%EB%B0%A9%EC%8B%9D%20/%20%ED%8C%A8%EC%8B%9C%EB%B8%8C%20%EB%9D%BC%EB%94%94%EC%97%90%EC%9D%B4%ED%84%B0%20%ED%98%95)&img=http://shopping.phinf.naver.net/main_7797531/7797531974.jpg HTTP/1.1\" 200 107\n",
      "10.0.2.2 - - [21/Aug/2016 18:27:50] \"GET /classify?name=[%EC%8A%A4%ED%8B%B8%EC%8B%9C%EB%A6%AC%EC%A6%88(STEELSERIES)][%EC%BB%B4%EC%8A%A4%EB%B9%8C%EC%A0%95%ED%92%88]%20%ED%97%A4%EB%93%9C%EC%85%8B%20Steelseries%209H%20Fnatic(DOLBY/7.1%EC%B1%84%EB%84%90/%EA%B3%A0%EC%84%B1%EB%8A%A5%EB%A7%88%EC%9D%B4%ED%81%AC)&img=http://shopping.phinf.naver.net/main_8310459/8310459498.jpg HTTP/1.1\" 200 107\n",
      "10.0.2.2 - - [21/Aug/2016 18:27:50] \"GET /classify?name=%EC%95%A0%EC%89%AC%ED%86%A4%20AT-3300%20//2.1%EC%B1%84%EB%84%90/%EC%9A%B0%EB%93%9C%20%EB%B8%94%EB%9E%99/%EC%83%89%EC%83%81%EC%84%A0%ED%83%9D[%EB%8B%B9%EC%9D%BC%EC%B6%9C%EA%B3%A0/%EB%B9%A0%EB%A5%B8%EB%B0%B0%EC%86%A1]&img=http://shopping.phinf.naver.net/main_7003970/7003970116.jpg HTTP/1.1\" 200 107\n",
      "10.0.2.2 - - [21/Aug/2016 18:27:50] \"GET /classify?name=ASHTON%20AT-3300%20(%EC%9A%B0%EB%93%9C)&img=http://shopping.phinf.naver.net/main_6905264/6905264991.jpg HTTP/1.1\" 200 91\n",
      "10.0.2.2 - - [21/Aug/2016 18:27:50] \"GET /classify?name=%EC%95%A0%EC%89%AC%ED%86%A4%20AT-3300%20WOOD(%EC%9A%B0%EB%93%9C)//2.1%EC%B1%84%EB%84%90/%EC%9A%B0%EB%93%9C%20%EB%B8%94%EB%9E%99/%EC%83%89%EC%83%81%EC%84%A0%ED%83%9D/%EB%93%9C%EB%9D%BC%EB%A7%88%20%ED%98%91%EC%B0%AC/9%EB%85%84%EC%97%B0%EC%86%8D1%EC%9C%84%ED%8C%90%EB%A7%A4%20&img=http://shopping.phinf.naver.net/main_7005887/7005887719.jpg HTTP/1.1\" 200 107\n",
      "10.0.2.2 - - [21/Aug/2016 18:27:50] \"GET /classify?name=[%ED%95%98%EC%9D%B4%EC%96%B4%EC%8B%9C%EC%8A%A4]%20ASHTON%20%20AT-3300%20WOOD%20[%EC%B4%9D%EC%95%8C%EB%B0%B0%EC%86%A1]&img=http://shopping.phinf.naver.net/main_7118934/7118934828.jpg HTTP/1.1\" 200 91\n",
      "10.0.2.2 - - [21/Aug/2016 18:27:50] \"GET /classify?name=[4%%EC%A6%89%EC%8B%9C%ED%95%A0%EC%9D%B8%EC%BF%A0%ED%8F%B0]%EC%95%84%EC%9D%B4%EC%BB%B4%ED%94%84%EB%A6%AC%20%20/%20ASHTON%20%20AT-3300%20WOOD%20/%20(%EB%B9%A0%EB%A5%B8%EB%B0%B0%EC%86%A1)&img=http://shopping.phinf.naver.net/main_8223450/8223450850.jpg HTTP/1.1\" 200 91\n",
      "10.0.2.2 - - [21/Aug/2016 18:27:50] \"GET /classify?name=[%EC%A7%80%EC%95%A4%EC%9D%B4%EC%83%B5]%20ASHTON%20%20AT-3300%20WOOD%20/%EB%8B%B9%EC%9D%BC%EC%B6%95%EA%B3%A0/%EC%B4%9D%EC%95%8C%EB%B0%B0%EC%86%A1&img=http://shopping.phinf.naver.net/main_8257982/8257982334.jpg HTTP/1.1\" 200 107\n",
      "10.0.2.2 - - [21/Aug/2016 18:27:50] \"GET /classify?name=ASHTON/%EC%95%A0%EC%89%AC%ED%86%A4%20AT-3300%202.1%EC%B1%84%EB%84%90%20%EC%8A%A4%ED%94%BC%EC%BB%A4/%EB%B8%94%EB%9E%99/%EC%9A%B0%EB%93%9C/4%EC%9D%B8%EC%B9%98%EC%9A%B0%ED%8D%BC/3%EC%9D%B8%EC%B9%98%EC%9C%84%EC%84%B1%EC%8A%A4%ED%94%BC%EC%BB%A4/%ED%92%8D%EB%B6%80%ED%95%9C%EC%A0%80%EC%9D%8C/PC/%EC%BB%B4%ED%93%A8%ED%84%B0/%EB%85%B8%ED%8A%B8%EB%B6%81%EC%8A%A4%ED%94%BC%EC%BB%A4/%EA%B3%A0%EB%B0%80%EB%8F%84/%EA%B3%A0%EA%B0%95%EB%8F%84&img=http://shopping.phinf.naver.net/main_6857765/6857765208.jpg HTTP/1.1\" 200 107\n",
      "10.0.2.2 - - [21/Aug/2016 18:27:50] \"GET /classify?name=%EB%A1%9C%EC%A7%80%ED%85%8D%20%EB%A9%80%ED%8B%B0%EB%AF%B8%EB%94%94%EC%96%B4%202%EC%B1%84%EB%84%90%20%EC%8A%A4%ED%94%BC%EC%BB%A4%20Z150%20(MP3%20%EB%93%B1%20%EC%99%B8%EB%B6%80%20%EC%9E%85%EB%A0%A5%203.5mm%20%EB%B3%B4%EC%A1%B0%20%EC%9E%85%EB%A0%A5%20%EB%8B%A8%EC%9E%90%20/%20%ED%97%A4%EB%93%9C%ED%8F%B0%20%EB%8B%A8%EC%9E%90%20/%20%EC%8A%A4%ED%85%8C%EB%A0%88%EC%98%A4%20%EC%82%AC%EC%9A%B4%EB%93%9C)&img=http://shopping.phinf.naver.net/main_8035076/8035076572.jpg HTTP/1.1\" 200 107\n",
      "10.0.2.2 - - [21/Aug/2016 18:27:50] \"GET /classify?name=[%EB%AC%B4%EB%A3%8C%EB%B0%B0%EC%86%A1]%201300K%20logitech[%EB%A1%9C%EC%A7%80%ED%85%8D]%20logitech%20%EB%A1%9C%EC%A7%80%ED%85%8D%20%EB%A9%80%ED%8B%B0%EB%AF%B8%EB%94%94%EC%96%B4%202%EC%B1%84%EB%84%90%20%EC%8A%A4%ED%94%BC%EC%BB%A4%20Z150&img=http://shopping.phinf.naver.net/main_8041159/8041159427.jpg HTTP/1.1\" 200 107\n",
      "10.0.2.2 - - [21/Aug/2016 18:27:50] \"GET /classify?name=[4%%EC%A6%89%EC%8B%9C%ED%95%A0%EC%9D%B8%EC%BF%A0%ED%8F%B0]%EC%9D%B4%EB%85%B8%EC%8B%9C%ED%81%90%EB%A6%AC%ED%8B%B0/%ED%9C%B4%EB%B0%94%EC%9D%B4%EB%A1%A0/SK-AS01/%EC%8B%A4%EC%99%B8%20%EC%84%A0%EB%B0%94%EC%9D%B4%EC%A0%80/CCTV&img=http://shopping.phinf.naver.net/main_8277625/8277625715.jpg HTTP/1.1\" 200 107\n",
      "10.0.2.2 - - [21/Aug/2016 18:27:50] \"GET /classify?name=[%ED%95%B4%EC%99%B8]Case%20LogicCase%20Logic%20Notebook%20Webcam,%20Pink%20(WC501)&img=http://shopping.phinf.naver.net/main_8275759/8275759480.jpg HTTP/1.1\" 200 107\n"
     ]
    },
    {
     "name": "stdout",
     "output_type": "stream",
     "text": [
      "classify called\n",
      "classify called\n",
      "classify called\n",
      "classify called\n",
      "classify called\n",
      "classify called\n",
      "classify called\n",
      "classify called\n",
      "classify called\n",
      "classify called\n",
      "classify called\n",
      "classify called\n",
      "classify called\n"
     ]
    },
    {
     "name": "stderr",
     "output_type": "stream",
     "text": [
      "10.0.2.2 - - [21/Aug/2016 18:27:50] \"GET /classify?name=[4%%EC%A6%89%EC%8B%9C%ED%95%A0%EC%9D%B8%EC%BF%A0%ED%8F%B0]%20%EC%9D%B4%EC%8A%A4%ED%80%98%EC%96%B4%20HuddleCamHD%20HuddleCamHD%20HuddleCam-HD%203X%20Wide%20PTZ%20USB%20Camera%20100%%EC%A0%95%ED%92%88%20%EA%B4%80%EB%B6%80%EA%B0%80%EC%84%B8%ED%8F%AC%ED%95%A8&img=http://shopping.phinf.naver.net/main_8262345/8262345701.jpg HTTP/1.1\" 200 107\n",
      "10.0.2.2 - - [21/Aug/2016 18:27:51] \"GET /classify?name=[%ED%95%B4%EC%99%B8]LogitechLogitech%20HD%20Webcam%20C270,%20720p%20Widescreen%20Video%20Calling%20and%20Recording&img=http://shopping.phinf.naver.net/main_8275599/8275599199.jpg HTTP/1.1\" 200 107\n",
      "10.0.2.2 - - [21/Aug/2016 18:27:51] \"GET /classify?name=[%ED%95%B4%EC%99%B8]MicrosoftMicrosoft-%20Lifecam%20Nx-3000%20Webcam%20For%20Notebooks%20(Black/Silver)%20[Cd-Rom]&img=http://shopping.phinf.naver.net/main_8275849/8275849330.jpg HTTP/1.1\" 200 107\n",
      "10.0.2.2 - - [21/Aug/2016 18:27:51] \"GET /classify?name=[4%%EC%A6%89%EC%8B%9C%ED%95%A0%EC%9D%B8%EC%BF%A0%ED%8F%B0]%EC%83%88%ED%95%9C/%EC%A0%88%EC%97%B0%EC%A0%80%ED%95%AD%EA%B3%84(%EB%94%94%EC%A7%80%ED%84%B8)(SH-3207R)%ED%85%8C%EC%8A%A4%ED%84%B0%EA%B2%B8%EC%9A%A9/%EB%B6%80%EC%A0%80%EA%B8%B0&img=http://shopping.phinf.naver.net/main_8280687/8280687695.jpg HTTP/1.1\" 200 72\n",
      "10.0.2.2 - - [21/Aug/2016 18:27:51] \"GET /classify?name=[%EC%82%BC%EC%84%B1%EC%B9%B4%EB%93%9C5%%ED%95%A0%EC%9D%B8~15%EC%9D%BC%EA%B9%8C%EC%A7%80][%EB%A7%88%EC%9D%B4%ED%81%AC%EB%A1%9C%EC%86%8C%ED%94%84%ED%8A%B8]%20LifeCam%20Studio%20%EC%9B%B9%EC%BA%A0&img=http://shopping.phinf.naver.net/main_7844478/7844478452.jpg HTTP/1.1\" 200 107\n",
      "10.0.2.2 - - [21/Aug/2016 18:27:51] \"GET /classify?name=Microsoft%20%20Lifecam%20Studio&img=http://shopping.phinf.naver.net/main_8082224/8082224988.jpg HTTP/1.1\" 200 107\n",
      "10.0.2.2 - - [21/Aug/2016 18:27:51] \"GET /classify?name=%EC%97%91%ED%86%A0%20%20%ED%94%84%EB%A0%88%EC%9E%84%EC%9B%B9%EC%B9%B4%EB%A9%94%EB%9D%BC%20WCM%2003%20WCM03%20%208%2012%208%20%ED%99%94%EC%83%81%EC%B1%84%ED%8C%85%20%ED%9A%8C%EC%9D%98%20%EA%B3%A0%ED%95%B4%EC%83%81%EB%8F%84%EC%9B%B9%EC%B9%B4%EB%A9%94%EB%9D%BC&img=http://shopping.phinf.naver.net/main_7964170/7964170082.jpg HTTP/1.1\" 200 107\n",
      "10.0.2.2 - - [21/Aug/2016 18:27:51] \"GET /classify?name=%EC%97%91%ED%86%A0%EC%9B%B9%EC%B9%B4%EB%A9%94%EB%9D%BC%20WCM-03%20%ED%94%84%EB%A0%88%EC%9E%84%EC%9B%B9%EC%B9%B4%EB%A9%94%EB%9D%BC%20%EC%B5%9C%EB%8C%80%2016Mega%20Pixel%20%EA%B3%A0%ED%95%B4%EC%83%81%EB%8F%84%20%EC%B9%B4%EB%A9%94%EB%9D%BC%20%EC%9B%B9%EC%B9%B4%EB%A9%94&img=http://shopping.phinf.naver.net/main_6472603/6472603035.jpg HTTP/1.1\" 200 107\n",
      "10.0.2.2 - - [21/Aug/2016 18:27:51] \"GET /classify?name=%EB%A1%9C%EC%A7%80%ED%85%8D%20%EC%BB%A8%ED%8D%BC%EB%9F%B0%EC%8A%A4%20%EC%9B%B9%EC%BA%A0%20CC3000e%20(%ED%99%94%EC%83%81%20%ED%9A%8C%EC%9D%98%20/%20%EC%B9%BC%EC%9E%90%EC%9D%B4%EC%8A%A4%20AF%20%EB%A0%8C%EC%A6%88%20/%2010%EB%B0%B0%20%EA%B4%91%ED%95%99%20%EC%A4%8C%20/%20%EB%85%B8%EC%9D%B4%EC%A6%88%20%EC%B0%A8%EB%8B%A8%20%EB%A7%88%EC%9D%B4%ED%81%AC%20/%20%EB%A6%AC%EB%AA%A8%EC%BB%A8)&img=http://shopping.phinf.naver.net/main_8021889/8021889132.jpg HTTP/1.1\" 200 107\n",
      "10.0.2.2 - - [21/Aug/2016 18:27:51] \"GET /classify?name=[5%%EC%A6%89%EC%8B%9C%ED%95%A0%EC%9D%B8%EC%BF%A0%ED%8F%B0][%EC%86%94%EB%A1%9C%EB%AA%AC%EC%83%B5]%EC%97%91%ED%86%A0%20%ED%94%84%EB%A0%88%EC%9E%84%EC%9B%B9%EC%B9%B4%EB%A9%94%EB%9D%BC(WCM-03)___%EC%9B%B9%EC%B9%B4%EB%A9%94%EB%9D%BC/%EB%85%B8%ED%8A%B8%EB%B6%81%EC%A3%BC%EB%B3%80%EA%B8%B0%EA%B8%B0/%EC%BC%80%EC%9D%B4%EB%B8%94/%EB%B3%80%ED%99%98%EC%BC%80%EC%9D%B4%EB%B8%94/%ED%8A%B8%EB%A6%AC%ED%94%8C%EC%BC%80%EC%9D%B4%EB%B8%94&img=http://shopping.phinf.naver.net/main_7424992/7424992831.jpg HTTP/1.1\" 200 107\n",
      "10.0.2.2 - - [21/Aug/2016 18:27:51] \"GET /classify?name=[4%%EC%A6%89%EC%8B%9C%ED%95%A0%EC%9D%B8%EC%BF%A0%ED%8F%B0]%EB%A1%9C%EC%A7%80%ED%85%8D%20%EB%A1%9C%EC%A7%80%ED%85%8D%20%20HD%20WebCam%20C615%20%ED%99%94%EC%83%81%EC%BA%A0%20...&img=http://shopping.phinf.naver.net/main_6201401/6201401363.jpg HTTP/1.1\" 200 107\n",
      "10.0.2.2 - - [21/Aug/2016 18:27:51] \"GET /classify?name=[%ED%95%B4%EC%99%B8]Logitech%20HD%20Portable%201080p%20Webcam%20C615%20with%20Autofocus&img=http://shopping.phinf.naver.net/main_7997468/7997468180.jpg HTTP/1.1\" 200 107\n",
      "10.0.2.2 - - [21/Aug/2016 18:27:51] \"GET /classify?name=[%ED%95%B4%EC%99%B8]Logitech%20HD%20Portable%201080p%20Webcam%20C615%20with%20Autofocus%20(960-000733)&img=http://shopping.phinf.naver.net/main_7073074/7073074662.jpg HTTP/1.1\" 200 107\n"
     ]
    },
    {
     "name": "stdout",
     "output_type": "stream",
     "text": [
      "classify called\n",
      "classify called\n",
      "classify called\n",
      "classify called\n",
      "classify called\n",
      "classify called\n",
      "classify called\n",
      "classify called\n",
      "classify called\n",
      "classify called\n",
      "classify called\n",
      "classify called\n",
      "classify called\n",
      "classify called\n"
     ]
    },
    {
     "name": "stderr",
     "output_type": "stream",
     "text": [
      "10.0.2.2 - - [21/Aug/2016 18:27:51] \"GET /classify?name=[%EB%A1%9C%EC%A7%80%ED%85%8D]%20HD%20%EC%9B%B9%EC%BA%A0%20C615%20%ED%99%94%EC%83%81%EC%B9%B4%EB%A9%94%EB%9D%BC%20(800%EB%A7%8C%ED%99%94%EC%86%8C)&img=http://shopping.phinf.naver.net/main_7616985/7616985093.jpg HTTP/1.1\" 200 107\n",
      "10.0.2.2 - - [21/Aug/2016 18:27:51] \"GET /classify?name=[4%%EC%A6%89%EC%8B%9C%ED%95%A0%EC%9D%B8%EC%BF%A0%ED%8F%B0]%EB%A1%9C%EC%A7%80%ED%85%8D%20%20HD%20WebCam%20C615&img=http://shopping.phinf.naver.net/main_8346732/8346732346.jpg HTTP/1.1\" 200 107\n",
      "10.0.2.2 - - [21/Aug/2016 18:27:51] \"GET /classify?name=[%EB%AC%B4%EB%A3%8C%EB%B0%B0%EC%86%A1](PCD4851)%EB%A1%9C%EC%A7%80%ED%85%8D%20C170%20%ED%99%94%EC%83%81%EC%B9%B4%EB%A9%94%EB%9D%BC%20PC%20%EC%BA%A0%20USB%20CMOS%20500%EB%A7%8C%201024%20x%20768%20%EB%82%B4%EC%9E%A5%20%EB%A7%88%EC%9D%B4%ED%81%AC&img=http://shopping.phinf.naver.net/main_8179424/8179424838.jpg HTTP/1.1\" 200 107\n",
      "10.0.2.2 - - [21/Aug/2016 18:27:51] \"GET /classify?name=%EB%A1%9C%EC%A7%80%ED%85%8D%20C170%20%ED%99%94%EC%83%81%EC%B9%B4%EB%A9%94%EB%9D%BC%20PC%20%EC%BA%A0%20/%20USB%20/%20CMOS%20/%20500%EB%A7%8C%20/%201024%20x%20768%20/%20%EB%82%B4%EC%9E%A5%20%EB%A7%88%EC%9D%B4%ED%81%AC/%EC%BB%B4%ED%93%A8%ED%84%B0/%EC%98%81%EC%83%81/Tv/PC%EC%BA%A0/PC%EC%BA%A0%EB%A1%9C%EC%A7%80%ED%85%8D/WebCam/USB/CMOS/5&img=http://shopping.phinf.naver.net/main_8353536/8353536166.jpg HTTP/1.1\" 200 107\n",
      "10.0.2.2 - - [21/Aug/2016 18:27:51] \"GET /classify?name=[%EC%97%91%ED%86%A0]%EC%9B%B9%EC%B9%B4%EB%A9%94%EB%9D%BC/WCM-05&img=http://shopping.phinf.naver.net/main_7600373/7600373438.jpg HTTP/1.1\" 200 107\n",
      "10.0.2.2 - - [21/Aug/2016 18:27:51] \"GET /classify?name=%EC%97%91%ED%86%A0%20%EC%9B%B9%EC%B9%B4%EB%A9%94%EB%9D%BCWCM%2005(%EC%83%89%EC%83%81%EC%9E%84%EC%9D%98%EB%B0%B0%EC%86%A1)%20%208%205%206%20%EC%A0%84%EC%82%B0%EC%9A%A9%ED%92%88%20%EC%97%91%ED%86%A0%20%EC%BB%B4%ED%93%A8%ED%84%B0%20%EB%85%B8%ED%8A%B8%EB%B6%81%20%EC%9B%B9%EC%BA%A0%20%ED%97%A4%EB%93%9C%EC%85%8B%20%EC%9D%B4%EC%96%B4%ED%8F%B0%20%EC%8A%A4%ED%94%BC%EC%BB%A4%20%EB%A7%88%EC%9A%B0%EC%8A%A4%20%EC%A3%BC%EB%B3%80%EA%B8%B0%EA%B8%B0%20%EC%B9%B4%EB%93%9C%EB%A6%AC%EB%8D%94%EA%B8%B0%20%EC%82%AC%EB%AC%B4%EC%9A%A9%ED%92%88%20%EC%9D%BC%EB%B0%98%EC%9A%A9%ED%92%88%20USB%EC%BC%80%EC%9D%B4%EB%B8%94&img=http://shopping.phinf.naver.net/main_8244757/8244757742.jpg HTTP/1.1\" 200 107\n",
      "10.0.2.2 - - [21/Aug/2016 18:27:51] \"GET /classify?name=[%EB%B0%94%EB%B3%B4%EC%82%AC%EB%9E%91/%EB%B0%94%EB%B3%B4%EC%82%AC%EB%9E%91]%20[%ED%81%AC%EB%9D%BC%EC%9D%B4%EC%A0%80]%ED%81%AC%EB%9D%BC%EC%9D%B4%EC%A0%80%20HDCAM%201600%20UVC%201080P[%EB%AC%B4%EB%A3%8C%EB%B0%B0%EC%86%A1](5294744)&img=http://shopping.phinf.naver.net/main_7508933/7508933174.1.jpg HTTP/1.1\" 200 107\n",
      "10.0.2.2 - - [21/Aug/2016 18:27:51] \"GET /classify?name=%EB%A1%9C%EC%A7%80%ED%85%8D%20HD%20%EC%9B%B9%EC%BA%A0%20C525%20HD%20720p%ED%99%94%EC%83%81%ED%86%B5%ED%99%94%20%EC%A0%91%EC%9D%B4%EC%8B%9D%EB%94%94%EC%9E%90%EC%9D%B8&img=http://shopping.phinf.naver.net/main_6713637/6713637770.1.jpg HTTP/1.1\" 200 107\n",
      "10.0.2.2 - - [21/Aug/2016 18:27:51] \"GET /classify?name=%EB%A1%9C%EC%A7%80%ED%85%8D%20%EB%A1%9C%EC%A7%80%ED%85%8D%20%EC%A0%95%ED%92%88%20HD%20WebCam%20C615%20%ED%99%94%EC%83%81%EC%B9%B4%EB%A9%94%EB%9D%BC%20/USB/CMOS/800%EB%A7%8C/%EB%82%B4%EC%9E%A5%20%EB%A7%88%EC%9D%B4%ED%81%AC/&img=http://shopping.phinf.naver.net/main_8316923/8316923009.jpg HTTP/1.1\" 200 107\n",
      "10.0.2.2 - - [21/Aug/2016 18:27:51] \"GET /classify?name=[%EB%A1%9C%EC%A7%80%ED%85%8D]%20HD%20WebCam%20C615%20[%ED%99%94%EC%83%81%EC%B9%B4%EB%A9%94%EB%9D%BC/%EC%9B%B9%EC%BA%A0]%20%EB%B9%A0%EB%A5%B8%EB%B0%B0%EC%86%A1/%ED%8A%B9%EA%B8%89%EB%B0%B0%EC%86%A1%E4%B8%80%E5%8F%A3%E4%B8%80&img=http://shopping.phinf.naver.net/main_6643743/6643743405.jpg HTTP/1.1\" 200 107\n",
      "10.0.2.2 - - [21/Aug/2016 18:27:51] \"GET /classify?name=[4%%EC%A6%89%EC%8B%9C%ED%95%A0%EC%9D%B8%EC%BF%A0%ED%8F%B0]%EB%A1%9C%EC%A7%80%ED%85%8D%20%EB%B9%A0%EB%A5%B8%EB%B0%B0%EC%86%A1%20%EB%A1%9C%EC%A7%80%ED%85%8D%EC%BD%94%EB%A6%AC%EC%95%84%EC%A0%95%ED%92%88%20%EC%BB%A8%ED%8D%BC%EB%9F%B0%EC%8A%A4%EC%BA%A0%20BCC950%20%EC%84%A0%EB%AA%85%ED%95%9C%20%EC%98%81%EC%83%81%EA%B3%BC%20%EA%B3%A0%ED%92%88%EC%A7%88%EC%9D%98%20%EC%82%AC%EC%9A%B4%EB%93%9C&img=http://shopping.phinf.naver.net/main_6573524/6573524516.jpg HTTP/1.1\" 200 107\n",
      "10.0.2.2 - - [21/Aug/2016 18:27:51] \"GET /classify?name=(YS)%20%EB%A1%9C%EC%A7%80%ED%85%8D%20BCC950%20%EC%BB%A8%ED%8D%BC%EB%9F%B0%EC%8A%A4%EC%BA%A0/%EB%A1%9C%EC%A7%80%ED%85%8D%EC%BD%94%EB%A6%AC%EC%95%84%EC%A0%95%ED%92%88&img=http://shopping.phinf.naver.net/main_7745459/7745459029.jpg HTTP/1.1\" 200 107\n",
      "10.0.2.2 - - [21/Aug/2016 18:27:51] \"GET /classify?name=%EB%A1%9C%EC%A7%80%ED%85%8D%20%EC%BB%A8%ED%8D%BC%EB%9F%B0%EC%8A%A4%20%EC%9B%B9%EC%BA%A0%20BCC950%20(%ED%99%94%EC%83%81%20%ED%9A%8C%EC%9D%98%20/%20%EC%B9%BC%EC%9E%90%EC%9D%B4%EC%8A%A4%20AF%20%EB%A0%8C%EC%A6%88%20/%20%EB%B0%9D%EA%B8%B0%20%EC%9E%90%EB%8F%99%20%EC%A1%B0%EC%A0%88%20/%20%EB%85%B8%EC%9D%B4%EC%A6%88%20%EC%B0%A8%EB%8B%A8%20%EB%A7%88%EC%9D%B4%ED%81%AC%20/%20%EB%8B%A4%EA%B8%B0%EB%8A%A5%20%EB%A6%AC&img=http://shopping.phinf.naver.net/main_8021887/8021887998.jpg HTTP/1.1\" 200 107\n",
      "10.0.2.2 - - [21/Aug/2016 18:27:51] \"GET /classify?name=[%ED%85%90%EB%B0%94%EC%9D%B4%ED%85%90]%20logitech%20%EB%A1%9C%EC%A7%80%ED%85%8D%20%EC%BB%A8%ED%8D%BC%EB%9F%B0%EC%8A%A4%20%EC%9B%B9%EC%BA%A0%20BCC950%20(%EB%A7%88%EC%9D%B4%ED%81%AC%20/%20%EC%B9%BC%EC%9E%90%EC%9D%B4%EC%8A%A4%20AF%20%EB%A0%8C%EC%A6%88)_PC/%EB%85%B8%ED%8A%B8%EB%B6%81%20%EC%A3%BC%EB%B3%80%EA%B8%B0%EA%B8%B0&img=http://shopping.phinf.naver.net/main_8040347/8040347606.jpg HTTP/1.1\" 200 107\n"
     ]
    },
    {
     "name": "stdout",
     "output_type": "stream",
     "text": [
      "classify called\n",
      "classify called\n",
      "classify called\n",
      "classify called\n",
      "classify called\n",
      "classify called\n",
      "classify called\n",
      "classify called\n",
      "classify called\n",
      "classify called\n",
      "classify called\n",
      "classify called\n",
      "classify called\n",
      "classify called\n"
     ]
    },
    {
     "name": "stderr",
     "output_type": "stream",
     "text": [
      "10.0.2.2 - - [21/Aug/2016 18:27:51] \"GET /classify?name=[Logitech]%20%EC%BB%A8%ED%8D%BC%EB%9F%B0%EC%8A%A4%20%EC%9B%B9%EC%BA%A0%20BCC950%20(%ED%99%94%EC%83%81%20%ED%9A%8C%EC%9D%98%20/%20%EC%B9%BC%EC%9E%90%EC%9D%B4%EC%8A%A4%20AF%20%EB%A0%8C%EC%A6%88%20/%20%EB%B0%9D%EA%B8%B0%20%EC%9E%90%EB%8F%99%20%EC%A1%B0%EC%A0%88%20/%20%EB%85%B8%EC%9D%B4%EC%A6%88%20%EC%B0%A8%EB%8B%A8%20%EB%A7%88%EC%9D%B4%ED%81%AC%20/%20%EB%8B%A4%EA%B8%B0%EB%8A%A5%20%EB%A6%AC%EB%AA%A8%EC%BB%A8%20/%20%EC%A2%8C%EC%9A%B0%2078%EB%8F%84%20%ED%99%94%EA%B0%81%20/%20%ED%99%94%EC%83%81%EC%B9%B4%EB%A9%94%EB%9D%BC%20&img=http://shopping.phinf.naver.net/main_8057216/8057216017.jpg HTTP/1.1\" 200 107\n",
      "10.0.2.2 - - [21/Aug/2016 18:27:51] \"GET /classify?name=(%ED%94%BC%EC%94%A8%EC%82%AC%EC%9E%90)%20%EB%A1%9C%EC%A7%80%ED%85%8D%20BCC950%20%EC%BB%A8%ED%8D%BC%EB%9F%B0%EC%8A%A4%EC%BA%A0%20%EC%A0%95%ED%92%88&img=http://shopping.phinf.naver.net/main_7129591/7129591671.jpg HTTP/1.1\" 200 107\n",
      "10.0.2.2 - - [21/Aug/2016 18:27:51] \"GET /classify?name=%EB%A1%9C%EC%A7%80%ED%85%8D%20BCC950%20%EC%BB%A8%ED%8D%BC%EB%9F%B0%EC%8A%A4%EC%BA%A0&img=http://shopping.phinf.naver.net/main_6732882/6732882469.1.jpg HTTP/1.1\" 200 107\n",
      "10.0.2.2 - - [21/Aug/2016 18:27:51] \"GET /classify?name=[%EB%A1%9C%EC%A7%80%ED%85%8D%EC%BD%94%EB%A6%AC%EC%95%84%20%EC%A0%95%ED%92%88]%20Logitech%20BCC950%20ConferenceCam(%EC%BB%A8%ED%8D%BC%EB%9F%B0%EC%8A%A4%EC%BA%A0/%ED%92%80HD%EC%9B%B9%EC%BA%A0/%EC%8A%A4%ED%94%BC%EC%BB%A4%ED%8F%B0/%ED%99%94%EC%83%81%ED%9A%8C%EC%9D%98/%ED%99%94%EC%83%81%EC%B9%B4%EB%A9%94%EB%9D%BC)&img=http://shopping.phinf.naver.net/main_7045983/7045983580.jpg HTTP/1.1\" 200 107\n",
      "10.0.2.2 - - [21/Aug/2016 18:27:51] \"GET /classify?name=%ED%81%AC%EB%9D%BC%EC%9D%B4%EC%A0%80/%ED%99%94%EC%83%81%EC%B1%84%ED%8C%85%EC%9A%A9%ED%8C%A8%ED%82%A4%EC%A7%80/HDCAM-1600UVC%201080P/HD%EC%9B%B9%EC%BA%A0%20%EA%B4%91%EA%B0%81%EB%A0%8C%EC%A6%88/FULL%20HD%EA%B3%A0%ED%99%94%EC%A7%88/%EB%8F%99%EC%98%81%EC%83%81%EC%B4%AC%EC%98%81/%EC%BA%A0/%EC%9E%90%EB%8F%99uvc/%ED%99%94%EC%83%81%EC%B9%B4%EB%A9%94%EB%9D%BC/%ED%99%94%EC%83%81%EC%BA%A0/%EC%9B%B9%EC%BA%A0&img=http://shopping.phinf.naver.net/main_7845478/7845478433.jpg HTTP/1.1\" 200 107\n",
      "10.0.2.2 - - [21/Aug/2016 18:27:51] \"GET /classify?name=%EB%B0%94%EB%B3%B4%EB%94%94%EC%9E%90%EC%9D%B8[%ED%81%AC%EB%9D%BC%EC%9D%B4%EC%A0%80]%ED%81%AC%EB%9D%BC%EC%9D%B4%EC%A0%80%20HDCAM%201600%20UVC%201080P[%EB%AC%B4%EB%A3%8C%EB%B0%B0%EC%86%A1]&img=http://shopping.phinf.naver.net/main_7505752/7505752658.jpg HTTP/1.1\" 200 107\n",
      "10.0.2.2 - - [21/Aug/2016 18:27:51] \"GET /classify?name=[%ED%95%B4%EC%99%B8][%ED%97%A4%EB%B8%90%EC%97%A0]Yamaha%20PJP-300VBL%20All-In-One%20Camera/Microphone/Speaker%20for%20Flat%20Panel%20Display%20%20%20%20%20%20%20%20%20%20%20%20%20%20&img=http://shopping.phinf.naver.net/main_7923051/7923051016.jpg HTTP/1.1\" 200 72\n",
      "10.0.2.2 - - [21/Aug/2016 18:27:51] \"GET /classify?name=TG%EC%82%BC%EB%B3%B4%20TGCAM-T1600&img=http://shopping.phinf.naver.net/main_5744403/5744403897.20120211195431.jpg HTTP/1.1\" 200 107\n",
      "10.0.2.2 - - [21/Aug/2016 18:27:51] \"GET /classify?name=%EB%A1%9C%EC%A7%80%ED%85%8D%20C615%20%EC%A0%95%ED%92%88&img=http://shopping.phinf.naver.net/main_5920395/5920395173.20130416142831.jpg HTTP/1.1\" 200 107\n",
      "10.0.2.2 - - [21/Aug/2016 18:27:51] \"GET /classify?name=%EB%A1%9C%EC%A7%80%ED%85%8D%20C920%20%EB%B3%91%ED%96%89&img=http://shopping.phinf.naver.net/main_6852760/6852760434.20130416153650.jpg HTTP/1.1\" 200 107\n",
      "10.0.2.2 - - [21/Aug/2016 18:27:51] \"GET /classify?name=%EC%97%91%ED%86%A0%20WCM-05&img=http://shopping.phinf.naver.net/main_6722016/6722016592.20130116105342.jpg HTTP/1.1\" 200 107\n",
      "10.0.2.2 - - [21/Aug/2016 18:27:51] \"GET /classify?name=%EC%BD%94%EC%8B%9C%20PC-795&img=http://shopping.phinf.naver.net/main_4124493/4124493710.20120211193916.jpg HTTP/1.1\" 200 96\n",
      "10.0.2.2 - - [21/Aug/2016 18:27:51] \"GET /classify?name=%EB%A1%9C%EC%A7%80%ED%85%8D%20C310%20%EB%B3%91%ED%96%89&img=http://shopping.phinf.naver.net/main_6847942/6847942275.20130412174524.jpg HTTP/1.1\" 200 107\n",
      "10.0.2.2 - - [21/Aug/2016 18:27:51] \"GET /classify?name=TG%EC%82%BC%EB%B3%B4%20TGCam-C30&img=http://shopping.phinf.naver.net/main_4112156/4112156849.20120211210504.jpg HTTP/1.1\" 200 107\n"
     ]
    },
    {
     "name": "stdout",
     "output_type": "stream",
     "text": [
      "classify called\n",
      "classify called\n",
      "classify called\n",
      "classify called\n",
      "classify called\n",
      "classify called\n",
      "classify called\n",
      "classify called\n",
      "classify called\n",
      "classify called\n",
      "classify called\n",
      "classify called\n",
      "classify called\n"
     ]
    },
    {
     "name": "stderr",
     "output_type": "stream",
     "text": [
      "10.0.2.2 - - [21/Aug/2016 18:27:51] \"GET /classify?name=%EB%A7%88%EC%9D%B4%ED%81%AC%EB%A1%9C%EC%86%8C%ED%94%84%ED%8A%B8%20HD-5000&img=http://shopping.phinf.naver.net/main_5578616/5578616668.20120211213600.jpg HTTP/1.1\" 200 107\n",
      "10.0.2.2 - - [21/Aug/2016 18:27:51] \"GET /classify?name=[4%%EC%A6%89%EC%8B%9C%ED%95%A0%EC%9D%B8%EC%BF%A0%ED%8F%B0]USB%EC%9B%B9%EC%BA%A0%20%EC%9B%90%ED%98%95%20No%20driver&img=http://shopping.phinf.naver.net/main_8277247/8277247796.jpg HTTP/1.1\" 200 79\n",
      "10.0.2.2 - - [21/Aug/2016 18:27:51] \"GET /classify?name=(%ED%95%A0%EC%9D%B8%ED%8A%B9%EA%B0%80)%EB%A1%9C%EC%A7%80%ED%85%8D%20C525%20%ED%99%94%EC%83%81%EC%B9%B4%EB%A9%94%EB%9D%BC%20PC%20%EC%BA%A0%20%20%20USB%20%20%20CMOS%20%20%201280%20x%20720%20%EC%BB%B4%ED%93%A8%ED%84%B0%20%EC%98%81%EC%83%81%20TV%20PC%EC%BA%A0%20PC%EC%BA%A0%EB%A1%9C[%EC%A2%8B%EC%9D%80%EC%83%81%ED%92%88%20%EC%B0%A9%ED%95%9C%EA%B0%80%EA%B2%A9%20%EC%B4%9D%EC%95%8C%EB%B0%B0%EC%86%A1]&img=http://shopping.phinf.naver.net/main_8276468/8276468586.jpg HTTP/1.1\" 200 107\n",
      "10.0.2.2 - - [21/Aug/2016 18:27:51] \"GET /classify?name=[PS-90HD]%209%ED%99%94%EB%A9%B4%20%EB%B6%84%ED%95%A0%EA%B8%B0%20/%20CCTV%20/%209CH%20HD%20Splitter%20/%209%ED%99%94%EB%A9%B4%EB%B6%84%ED%95%A0%EA%B8%B0&img=http://shopping.phinf.naver.net/main_8277776/8277776281.jpg HTTP/1.1\" 200 90\n",
      "10.0.2.2 - - [21/Aug/2016 18:27:51] \"GET /classify?name=(%ED%95%A0%EC%9D%B8%ED%8A%B9%EA%B0%80)%EB%A1%9C%EC%A7%80%ED%85%8D%20C920%20%ED%99%94%EC%83%81%EC%B9%B4%EB%A9%94%EB%9D%BC%20PC%20%EC%BA%A0%20%20%20USB%20%20%20300%EB%A7%8C%20%20%201500%EB%A7%8C(SW)%20%20%201280%20x%201024%20%20%20192[%EC%A2%8B%EC%9D%80%EC%83%81%ED%92%88%20%EC%B0%A9%ED%95%9C%EA%B0%80%EA%B2%A9%20%EC%B4%9D%EC%95%8C%EB%B0%B0%EC%86%A1]&img=http://shopping.phinf.naver.net/main_8276441/8276441796.jpg HTTP/1.1\" 200 107\n",
      "10.0.2.2 - - [21/Aug/2016 18:27:51] \"GET /classify?name=[%ED%95%B4%EC%99%B8][MyDirectAdvantage][%EC%9D%B4%EC%8A%A4%ED%80%98%EC%96%B4]80693288%20MyDirectAdvantage%20C270%20HD%20Webcam,%20720p,%20Black%20-%20LOG960000694/1&img=http://shopping.phinf.naver.net/main_8264507/8264507543.jpg HTTP/1.1\" 200 107\n",
      "10.0.2.2 - - [21/Aug/2016 18:27:51] \"GET /classify?name=[4%%EC%A6%89%EC%8B%9C%ED%95%A0%EC%9D%B8%EC%BF%A0%ED%8F%B0]C%EC%98%A4%EB%94%94%EC%98%A4%EA%B4%91%20%EC%BC%80%EC%9D%B4%EB%B8%94%202%20%20Toslink%20to%20Toslink%203M%20%EC%8A%A4%ED%85%8C%EB%A0%88&img=http://shopping.phinf.naver.net/main_8276190/8276190861.jpg HTTP/1.1\" 200 79\n",
      "10.0.2.2 - - [21/Aug/2016 18:27:51] \"GET /classify?name=[4%%EC%A6%89%EC%8B%9C%ED%95%A0%EC%9D%B8%EC%BF%A0%ED%8F%B0]Mini%20DisplayPort%20to%20VGA%20%EC%BC%80%EC%9D%B4%EB%B8%94%2010M&img=http://shopping.phinf.naver.net/main_8284077/8284077115.jpg HTTP/1.1\" 200 79\n",
      "10.0.2.2 - - [21/Aug/2016 18:27:51] \"GET /classify?name=[6%%EC%A6%89%EC%8B%9C%ED%95%A0%EC%9D%B8%EC%BF%A0%ED%8F%B0]%EB%8B%A8%EC%84%A0%20CAT.5E%20UTP%20%EC%BC%80%EC%9D%B4%EB%B8%94%20305M%20%ED%99%94%EC%9D%B4%ED%8A%B8&img=http://shopping.phinf.naver.net/main_8284070/8284070826.jpg HTTP/1.1\" 200 129\n",
      "10.0.2.2 - - [21/Aug/2016 18:27:51] \"GET /classify?name=[6%%EC%A6%89%EC%8B%9C%ED%95%A0%EC%9D%B8%EC%BF%A0%ED%8F%B0]CAT.7%20UTP%EB%8B%A4%EC%9D%B4%EB%A0%89%ED%8A%B8%20%EC%BC%80%EC%9D%B4%EB%B8%94%2050M&img=http://shopping.phinf.naver.net/main_8284118/8284118596.jpg HTTP/1.1\" 200 79\n",
      "10.0.2.2 - - [21/Aug/2016 18:27:51] \"GET /classify?name=[6%%EC%A6%89%EC%8B%9C%ED%95%A0%EC%9D%B8%EC%BF%A0%ED%8F%B0]CAT.5E%20UTP%20%EB%8B%A4%EC%9D%B4%EB%A0%89%ED%8A%B8%20%EA%B3%A0%ED%83%84%EB%A0%A5%20FLAT%20%EC%BC%80%EC%9D%B4%EB%B8%94(%EA%B7%B8%EB%A0%88%EC%9D%B4)&img=http://shopping.phinf.naver.net/main_8284172/8284172040.jpg HTTP/1.1\" 200 129\n",
      "10.0.2.2 - - [21/Aug/2016 18:27:51] \"GET /classify?name=[6%%EC%A6%89%EC%8B%9C%ED%95%A0%EC%9D%B8%EC%BF%A0%ED%8F%B0]CAT.5E%20UTP%20%EB%8B%A4%EC%9D%B4%EB%A0%89%ED%8A%B8%20%EA%B3%A0%ED%83%84%EB%A0%A5%20FLAT%20%EC%BC%80%EC%9D%B4%EB%B8%94(%EA%B7%B8%EB%A0%88%EC%9D%B4)&img=http://shopping.phinf.naver.net/main_8277846/8277846077.jpg HTTP/1.1\" 200 129\n",
      "10.0.2.2 - - [21/Aug/2016 18:27:51] \"GET /classify?name=[4%%EC%A6%89%EC%8B%9C%ED%95%A0%EC%9D%B8%EC%BF%A0%ED%8F%B0]5E.UTP%20LAN%20%EC%97%B0%EC%9E%A5%20%EC%BC%80%EC%9D%B4%EB%B8%94%20[%ED%8C%90%EB%84%AC%ED%98%95]%20[2M%205M]%20%EA%B2%80%EC%A0%95/%20%EC%95%94%EB%82%98&img=http://shopping.phinf.naver.net/main_8248953/8248953282.jpg HTTP/1.1\" 200 79\n",
      "10.0.2.2 - - [21/Aug/2016 18:27:51] \"GET /classify?name=[6%%EC%A6%89%EC%8B%9C%ED%95%A0%EC%9D%B8%EC%BF%A0%ED%8F%B0]LPLUgCAP%20rj45%EC%BD%98%EB%84%A5%ED%84%B0%EB%B3%B4%ED%98%B8%EC%9A%A9%20CAPRJ45%20Protection%20%EB%9E%9C%EC%84%A0&img=http://shopping.phinf.naver.net/main_8267819/8267819340.jpg HTTP/1.1\" 200 98\n",
      "10.0.2.2 - - [21/Aug/2016 18:27:51] \"GET /classify?name=[4%%EC%A6%89%EC%8B%9C%ED%95%A0%EC%9D%B8%EC%BF%A0%ED%8F%B0]USB3.0%20SATA%20%EB%8F%84%ED%82%B9%20%EC%8A%A4%ED%85%8C%EC%9D%B4%EC%85%98%ED%95%98%EB%93%9C%EB%AF%B8%ED%8F%AC%ED%95%A8%20USB%20%EC%99%B8%EC%9E%A5%ED%95%98%EB%93%9C&img=http://shopping.phinf.naver.net/main_8283971/8283971697.jpg HTTP/1.1\" 200 98\n",
      "10.0.2.2 - - [21/Aug/2016 18:27:51] \"GET /classify?name=[6%%EC%A6%89%EC%8B%9C%ED%95%A0%EC%9D%B8%EC%BF%A0%ED%8F%B0]DA-SFTP14P1G-15M%EB%AC%B4%EC%82%B0%EC%86%8C%EB%8F%9948shieldUTPUTPCAT6%EB%9E%9C%EB%84%A4%ED%8A%B8%EC%9B%8C&img=http://shopping.phinf.naver.net/main_8283839/8283839172.jpg HTTP/1.1\" 200 141\n"
     ]
    },
    {
     "name": "stdout",
     "output_type": "stream",
     "text": [
      "classify called\n",
      "classify called\n",
      "classify called\n",
      "classify called\n",
      "classify called\n",
      "classify called\n",
      "classify called\n",
      "classify called\n",
      "classify called\n",
      "classify called\n",
      "classify called\n",
      "classify called\n",
      "classify called\n",
      "classify called\n",
      "classify called\n",
      "classify called\n"
     ]
    },
    {
     "name": "stderr",
     "output_type": "stream",
     "text": [
      "10.0.2.2 - - [21/Aug/2016 18:27:51] \"GET /classify?name=[6%%EC%A6%89%EC%8B%9C%ED%95%A0%EC%9D%B8%EC%BF%A0%ED%8F%B0]5E%20UTP%20%EB%8B%A4%EC%9D%B4%EB%A0%89%ED%8A%B8%20%EB%9E%9C%20%EC%BC%80%EC%9D%B4%EB%B8%94%205M%20%ED%9A%8C%EC%83%89&img=http://shopping.phinf.naver.net/main_8270297/8270297238.jpg HTTP/1.1\" 200 79\n",
      "10.0.2.2 - - [21/Aug/2016 18:27:51] \"GET /classify?name=[4%%EC%A6%89%EC%8B%9C%ED%95%A0%EC%9D%B8%EC%BF%A0%ED%8F%B0]%EC%8A%A4%ED%85%8C%EB%A0%88%EC%98%A4%20%EC%BC%80%EC%9D%B4%EB%B8%94(3.5)%20Bulk%20M/M&img=http://shopping.phinf.naver.net/main_8270294/8270294532.jpg HTTP/1.1\" 200 79\n",
      "10.0.2.2 - - [21/Aug/2016 18:27:51] \"GET /classify?name=[6%%EC%A6%89%EC%8B%9C%ED%95%A0%EC%9D%B8%EC%BF%A0%ED%8F%B0]5E%20UTP%20%EB%8B%A4%EC%9D%B4%EB%A0%89%ED%8A%B8%20%EB%9E%9C%20%EC%BC%80%EC%9D%B4%EB%B8%94%201M%20%ED%9A%8C%EC%83%89&img=http://shopping.phinf.naver.net/main_8270294/8270294154.jpg HTTP/1.1\" 200 79\n",
      "10.0.2.2 - - [21/Aug/2016 18:27:51] \"GET /classify?name=[4%%EC%A6%89%EC%8B%9C%ED%95%A0%EC%9D%B8%EC%BF%A0%ED%8F%B0]%EB%82%A9%EB%95%9C%EC%9A%A9%EC%BD%98%EB%84%A5%ED%84%B0%20%20%20Soldering%20%20DB9P/&img=http://shopping.phinf.naver.net/main_8270247/8270247487.jpg HTTP/1.1\" 200 79\n",
      "10.0.2.2 - - [21/Aug/2016 18:27:51] \"GET /classify?name=[6%%EC%A6%89%EC%8B%9C%ED%95%A0%EC%9D%B8%EC%BF%A0%ED%8F%B0]CAT.6%20UTP%20%EA%B3%A0%EA%B8%89%20%EB%9E%9C%EC%BC%80%EC%9D%B4%EB%B8%94%20%EB%8B%A4%EC%9D%B4%EB%A0%89%ED%8A%B8%205M&img=http://shopping.phinf.naver.net/main_8270292/8270292622.jpg HTTP/1.1\" 200 79\n",
      "10.0.2.2 - - [21/Aug/2016 18:27:51] \"GET /classify?name=[6%%EC%A6%89%EC%8B%9C%ED%95%A0%EC%9D%B8%EC%BF%A0%ED%8F%B0]CAT.5E%20UTP%20%EB%9E%9C%EC%BC%80%EC%9D%B4%EB%B8%94%20Direct%2090&img=http://shopping.phinf.naver.net/main_8270244/8270244760.jpg HTTP/1.1\" 200 129\n",
      "10.0.2.2 - - [21/Aug/2016 18:27:51] \"GET /classify?name=[6%%EC%A6%89%EC%8B%9C%ED%95%A0%EC%9D%B8%EC%BF%A0%ED%8F%B0]CAT.6%20UTP%20%EA%B3%A0%EA%B8%89%20%EB%9E%9C%EC%BC%80%EC%9D%B4%EB%B8%94%20%EB%8B%A4%EC%9D%B4%EB%A0%89%ED%8A%B8%205M&img=http://shopping.phinf.naver.net/main_8270181/8270181756.jpg HTTP/1.1\" 200 79\n",
      "10.0.2.2 - - [21/Aug/2016 18:27:51] \"GET /classify?name=[6%%EC%A6%89%EC%8B%9C%ED%95%A0%EC%9D%B8%EC%BF%A0%ED%8F%B0]CAT.5e%20STP%EB%8B%A4%EC%9D%B4%EB%A0%89%ED%8A%B8%20%EC%BC%80%EC%9D%B4%EB%B8%94%205M%201000Mbps%EB%85%B8%EC%9D%B4%EC%A6%88%20%EC%B0%A8%EB%8B%A8%EC%97%90&img=http://shopping.phinf.naver.net/main_8283838/8283838017.jpg HTTP/1.1\" 200 79\n",
      "10.0.2.2 - - [21/Aug/2016 18:27:51] \"GET /classify?name=[6%%EC%A6%89%EC%8B%9C%ED%95%A0%EC%9D%B8%EC%BF%A0%ED%8F%B0](ERS)16%EC%B1%84%EB%84%90%20UTP%20HUB%20%EC%98%81%EC%83%81%20%EC%A0%84%EC%9B%90%EA%B3%B5%EA%B8%89%20%EB%9E%9C%EC%BC%80%EC%9D%B4%EB%B8%94%20UTP%20%EC%98%81&img=http://shopping.phinf.naver.net/main_8271377/8271377545.jpg HTTP/1.1\" 200 129\n",
      "10.0.2.2 - - [21/Aug/2016 18:27:51] \"GET /classify?name=[4%%EC%A6%89%EC%8B%9C%ED%95%A0%EC%9D%B8%EC%BF%A0%ED%8F%B0]%20(NO)UL%EC%9D%B8%EC%A6%9D2919%20RGB%20%EB%AA%A8%EB%8B%88%ED%84%B0%20%EC%97%B0%EC%9E%A5%20%EC%BC%80%EC%9D%B4%EB%B8%94%2030M(%EC%9D%B4%EB%B2%A0%EC%9D%B4%EC%9A%A9&img=http://shopping.phinf.naver.net/main_8284020/8284020831.jpg HTTP/1.1\" 200 79\n",
      "10.0.2.2 - - [21/Aug/2016 18:27:51] \"GET /classify?name=%EC%B4%88%ED%8A%B9%EA%B0%80/%EB%85%B8%EB%A7%88%EC%A7%84/%EC%98%A4%ED%94%8C%20Siver%20flated%20OFC%20PALABOLA%20%EB%94%94%EC%A7%80%ED%84%B8%20%EC%BD%94%EC%97%91%EC%8B%9C%EC%96%BC%EC%BC%80%EC%9D%B4%EB%B8%94%20-%207M&img=http://shopping.phinf.naver.net/main_8276401/8276401047.jpg HTTP/1.1\" 200 130\n",
      "10.0.2.2 - - [21/Aug/2016 18:27:51] \"GET /classify?name=[4%%EC%A6%89%EC%8B%9C%ED%95%A0%EC%9D%B8%EC%BF%A0%ED%8F%B0](CN)%ED%94%8C%EB%9E%99%EC%8B%9C%EB%B8%94%20BNC%20%EC%BC%80%EC%9D%B4%EB%B8%94%203M(5C2VS)%EC%A0%9C%EC%9E%91&img=http://shopping.phinf.naver.net/main_8267151/8267151902.jpg HTTP/1.1\" 200 79\n",
      "10.0.2.2 - - [21/Aug/2016 18:27:52] \"GET /classify?name=[4%%EC%A6%89%EC%8B%9C%ED%95%A0%EC%9D%B8%EC%BF%A0%ED%8F%B0]L%20SVHS%20%EC%BC%80%EC%9D%B4%EB%B8%94%204%ED%95%80%2015M%20S-VHS%20SVHS%20M%20-SVHS%20M%20S-%EB%B9%84%EB%94%94&img=http://shopping.phinf.naver.net/main_8241661/8241661634.jpg HTTP/1.1\" 200 79\n",
      "10.0.2.2 - - [21/Aug/2016 18:27:52] \"GET /classify?name=[4%%EC%A6%89%EC%8B%9C%ED%95%A0%EC%9D%B8%EC%BF%A0%ED%8F%B0]%20(KR)%ED%81%AC%EB%9E%98%EC%9D%B4%EB%A8%B8%20RGB%20to%205BNC(M)%EC%BC%80%EC%9D%B4%EB%B8%94%201.8M&img=http://shopping.phinf.naver.net/main_8267266/8267266734.jpg HTTP/1.1\" 200 79\n",
      "10.0.2.2 - - [21/Aug/2016 18:27:52] \"GET /classify?name=SVHS%20%EC%BC%80%EC%9D%B4%EB%B8%94(4%ED%95%80)%203M%20(S-%EB%B9%84%EB%94%94%EC%98%A4/S-%EC%98%81%EC%83%81%EC%A7%80%EC%9B%90/%EC%8A%88%ED%8D%BC%EB%8B%A8%EC%9E%90/4%ED%95%80)%20[PCD7807]&img=http://shopping.phinf.naver.net/main_8277584/8277584900.jpg HTTP/1.1\" 200 79\n"
     ]
    },
    {
     "name": "stdout",
     "output_type": "stream",
     "text": [
      "classify called\n",
      "classify called\n",
      "classify called\n",
      "classify called\n",
      "classify called\n",
      "classify called\n",
      "classify called\n",
      "classify called\n",
      "classify called\n",
      "classify called\n",
      "classify called\n",
      "classify called\n",
      "classify called\n",
      "classify called\n"
     ]
    },
    {
     "name": "stderr",
     "output_type": "stream",
     "text": [
      "10.0.2.2 - - [21/Aug/2016 18:27:52] \"GET /classify?name=[%EB%AC%B4%EB%A3%8C%EB%B0%B0%EC%86%A1](PCD8677)(K)ST%20to%20RCA%202%EC%84%A0%20%EC%BC%80%EC%9D%B4%EB%B8%94%202.8%C3%98%20-0.3M&img=http://shopping.phinf.naver.net/main_8257116/8257116653.jpg HTTP/1.1\" 200 79\n",
      "10.0.2.2 - - [21/Aug/2016 18:27:52] \"GET /classify?name=(%ED%86%B5%ED%81%B0)BNC%EC%BB%A4%ED%94%8C%EB%9F%ACChanger%20.%20BNCM-RCAF%20%EC%BB%A4%ED%94%8C%EB%9F%AC%20%EC%A0%A0%EB%8D%94RCA%20RCA%20%EC%BC%80%EC%9D%B4%EB%B8%94%20BNC&img=http://shopping.phinf.naver.net/main_8283076/8283076065.jpg HTTP/1.1\" 200 100\n",
      "10.0.2.2 - - [21/Aug/2016 18:27:52] \"GET /classify?name=(%ED%95%A0%EC%9D%B8%ED%8A%B9%EA%B0%80)%EC%B9%B4%EB%82%98%EB%A0%88(CANARE)%20%ED%94%8C%EB%9E%99%EC%8B%9C%EB%B8%94%20HD-SDI%20%EA%B0%80%EB%8F%99%ED%98%95%20BNC%20%EC%BC%80%EC%9D%B4%EB%B8%94%2030%EB%AF%B8%ED%84%B0%20[L-4.5CHWS]%2075%EC%98%B4%20%EA%B3%A0%ED%99%94%EC%A7%88%20%ED%94%8C%EB%A0%89%EC%8B%9C[%EC%A2%8B%EC%9D%80%EC%83%81%ED%92%88%20%EC%B0%A9%ED%95%9C%EA%B0%80%EA%B2%A9%20%EC%B4%9D%EC%95%8C%EB%B0%B0%EC%86%A1]&img=http://shopping.phinf.naver.net/main_8276306/8276306336.jpg HTTP/1.1\" 200 123\n",
      "10.0.2.2 - - [21/Aug/2016 18:27:52] \"GET /classify?name=[6%%EC%A6%89%EC%8B%9C%ED%95%A0%EC%9D%B8%EC%BF%A0%ED%8F%B0](CN)75%20%20%EB%B9%84%EB%94%94%EC%98%A4%20%ED%8C%A8%EC%B9%98%20%ED%8C%A8%EB%84%90(%EC%A0%9C%EC%9E%91)%EC%B1%84%EB%84%90%20%EC%84%A0%ED%83%9D&img=http://shopping.phinf.naver.net/main_8270263/8270263239.jpg HTTP/1.1\" 200 99\n",
      "10.0.2.2 - - [21/Aug/2016 18:27:52] \"GET /classify?name=[4%%EC%A6%89%EC%8B%9C%ED%95%A0%EC%9D%B8%EC%BF%A0%ED%8F%B0]EM4331%20%ED%99%80%ED%83%80%EC%9E%85300mm%20Xergo%EC%95%94%20%EB%B6%80%EC%86%8D%20%EC%95%85%EC%84%B8%EC%84%9C%EB%A6%AC%20%EB%B2%BD%EA%B1%B8&img=http://shopping.phinf.naver.net/main_8283970/8283970566.jpg HTTP/1.1\" 200 91\n",
      "10.0.2.2 - - [21/Aug/2016 18:27:52] \"GET /classify?name=[4%%EC%A6%89%EC%8B%9C%ED%95%A0%EC%9D%B8%EC%BF%A0%ED%8F%B0](CN)%205.5%20%EC%8A%A4%ED%85%8C%EB%A0%88%EC%98%A4%20%EA%B3%A0%EA%B8%89%20%EC%BC%80%EC%9D%B4%EB%B8%94%205%EB%AF%B8%ED%84%B0%20(L-4E6S)%204%EC%8B%AC&img=http://shopping.phinf.naver.net/main_8284053/8284053019.jpg HTTP/1.1\" 200 100\n",
      "10.0.2.2 - - [21/Aug/2016 18:27:52] \"GET /classify?name=[4%%EC%A6%89%EC%8B%9C%ED%95%A0%EC%9D%B8%EC%BF%A0%ED%8F%B0](CN)%EC%96%91%E3%84%B1%ED%98%95%203.5%20%EC%8A%A4%ED%85%8C%EB%A0%88%EC%98%A4%20%EA%B3%A0%EA%B8%89%20%EC%BC%80%EC%9D%B4%EB%B8%94%207M(2E5)%EC%A0%9C%EC%9E%91(%EC%9D%B4&img=http://shopping.phinf.naver.net/main_8284082/8284082741.jpg HTTP/1.1\" 200 100\n",
      "10.0.2.2 - - [21/Aug/2016 18:27:52] \"GET /classify?name=[4%%EC%A6%89%EC%8B%9C%ED%95%A0%EC%9D%B8%EC%BF%A0%ED%8F%B0](CN)5.5%20%EC%8A%A4%ED%85%8C%EB%A0%88%EC%98%A4%202RCA%20Y%20%EC%9D%B8%ED%84%B0%EC%BC%80%EC%9D%B4%EB%B8%94%205M(4E6ATG)%EC%A0%9C%EC%9E%91&img=http://shopping.phinf.naver.net/main_8284071/8284071507.jpg HTTP/1.1\" 200 100\n",
      "10.0.2.2 - - [21/Aug/2016 18:27:52] \"GET /classify?name=[4%%EC%A6%89%EC%8B%9C%ED%95%A0%EC%9D%B8%EC%BF%A0%ED%8F%B0](CN)5.5%20%EB%AA%A8%EB%85%B8%20RCA%20%EB%B3%80%ED%99%98%EC%BC%80%EC%9D%B4%EB%B8%94%2010M(4E6S)%EC%A0%9C%EC%9E%91%20(%EC%9D%B4%EB%B2%A0%EC%9D%B4&img=http://shopping.phinf.naver.net/main_8284074/8284074448.jpg HTTP/1.1\" 200 100\n",
      "10.0.2.2 - - [21/Aug/2016 18:27:52] \"GET /classify?name=[4%%EC%A6%89%EC%8B%9C%ED%95%A0%EC%9D%B8%EC%BF%A0%ED%8F%B0](CN)%20XLR(%EC%95%94)%20%205.5%20%EB%AA%A8%EB%85%B8%20%EB%B3%80%ED%99%98%20%EC%BC%80%EC%9D%B4%EB%B8%94%207%EB%AF%B8%ED%84%B0%20(L-4E6S)&img=http://shopping.phinf.naver.net/main_8284074/8284074297.jpg HTTP/1.1\" 200 100\n",
      "10.0.2.2 - - [21/Aug/2016 18:27:52] \"GET /classify?name=[4%%EC%A6%89%EC%8B%9C%ED%95%A0%EC%9D%B8%EC%BF%A0%ED%8F%B0](CN)%203.5%20%EB%AA%A8%EB%85%B8%20%EA%B3%A0%EA%B8%89%20%EC%BC%80%EC%9D%B4%EB%B8%94%205%EB%AF%B8%ED%84%B0%20(L-4E6ATG)%20%EC%8A%A4%ED%83%80%EC%BF%BC&img=http://shopping.phinf.naver.net/main_8284073/8284073068.jpg HTTP/1.1\" 200 100\n",
      "10.0.2.2 - - [21/Aug/2016 18:27:52] \"GET /classify?name=[4%%EC%A6%89%EC%8B%9C%ED%95%A0%EC%9D%B8%EC%BF%A0%ED%8F%B0]EM4536%20%ED%86%B5%ED%95%A9%ED%98%95500mm%20Xergo%EC%95%94%20%EB%B6%80%EC%86%8D%20%EC%95%85%EC%84%B8%EC%84%9C%EB%A6%AC%20%EB%B2%BD%EA%B1%B8&img=http://shopping.phinf.naver.net/main_8284070/8284070367.jpg HTTP/1.1\" 200 91\n",
      "10.0.2.2 - - [21/Aug/2016 18:27:52] \"GET /classify?name=[4%%EC%A6%89%EC%8B%9C%ED%95%A0%EC%9D%B8%EC%BF%A0%ED%8F%B0](CN)3.5%20%EC%8A%A4%ED%85%8C%EB%A0%88%EC%98%A4%20%EA%B3%A0%EA%B8%89%20%EC%BC%80%EC%9D%B4%EB%B8%94%2010M(L-2T2S)G%20%EC%A0%9C%EC%9E%91%20(%EC%9D%B4&img=http://shopping.phinf.naver.net/main_8284118/8284118349.jpg HTTP/1.1\" 200 100\n",
      "10.0.2.2 - - [21/Aug/2016 18:27:52] \"GET /classify?name=[4%%EC%A6%89%EC%8B%9C%ED%95%A0%EC%9D%B8%EC%BF%A0%ED%8F%B0](CN)3.5%20ST%20TO%202RCA%20Y%20%EA%B3%A0%EA%B8%89%20%EC%BC%80%EC%9D%B4%EB%B8%94%2010M(4E6S)%EC%A0%9C%EC%9E%91(%EC%9D%B4&img=http://shopping.phinf.naver.net/main_8284118/8284118337.jpg HTTP/1.1\" 200 100\n",
      "10.0.2.2 - - [21/Aug/2016 18:27:52] \"GET /classify?name=[4%%EC%A6%89%EC%8B%9C%ED%95%A0%EC%9D%B8%EC%BF%A0%ED%8F%B0](SM)OFC%205.5%20%EB%AA%A8%EB%85%B8%20%E3%84%B1%EC%9E%90%ED%98%95%20%EA%B8%B0%ED%83%80%20%EC%BC%80%EC%9D%B4%EB%B8%94%205M(%EC%A0%9C%EC%9E%91)(%EC%9D%B4%EB%B2%A0&img=http://shopping.phinf.naver.net/main_8284165/8284165355.jpg HTTP/1.1\" 200 79\n"
     ]
    },
    {
     "name": "stdout",
     "output_type": "stream",
     "text": [
      "classify called\n",
      "classify called\n",
      "classify called\n",
      "classify called\n",
      "classify called\n",
      "classify called\n",
      "classify called\n",
      "classify called\n",
      "classify called\n",
      "classify called\n",
      "classify called\n",
      "classify called\n",
      "classify called\n"
     ]
    },
    {
     "name": "stderr",
     "output_type": "stream",
     "text": [
      "10.0.2.2 - - [21/Aug/2016 18:27:52] \"GET /classify?name=[4%%EC%A6%89%EC%8B%9C%ED%95%A0%EC%9D%B8%EC%BF%A0%ED%8F%B0](CN)3.5%20ST%205.5%20MONO%202%ED%95%80%20Y%20%EC%BC%80%EC%9D%B4%EB%B8%94%2010M(4E6ATG)%EC%A0%9C%EC%9E%91(&img=http://shopping.phinf.naver.net/main_8284178/8284178484.jpg HTTP/1.1\" 200 100\n",
      "10.0.2.2 - - [21/Aug/2016 18:27:52] \"GET /classify?name=[4%%EC%A6%89%EC%8B%9C%ED%95%A0%EC%9D%B8%EC%BF%A0%ED%8F%B0](CN)%20%EC%96%91%EC%AA%BD%E3%84%B1%ED%98%95%205.5%20%EC%8A%A4%ED%85%8C%EB%A0%88%EC%98%A4%20%EA%B3%A0%EA%B8%89%20%EC%BC%80%EC%9D%B4%EB%B8%94%2010%EB%AF%B8%ED%84%B0%20(L-&img=http://shopping.phinf.naver.net/main_8284161/8284161573.jpg HTTP/1.1\" 200 100\n",
      "10.0.2.2 - - [21/Aug/2016 18:27:52] \"GET /classify?name=[4%%EC%A6%89%EC%8B%9C%ED%95%A0%EC%9D%B8%EC%BF%A0%ED%8F%B0](CN)%ED%94%8C%EB%9E%99%EC%8B%9C%EB%B8%94%20BNC%20%EC%BC%80%EC%9D%B4%EB%B8%94%2025M(5C2VS)%EC%A0%9C%EC%9E%91&img=http://shopping.phinf.naver.net/main_8284177/8284177838.jpg HTTP/1.1\" 200 79\n",
      "10.0.2.2 - - [21/Aug/2016 18:27:52] \"GET /classify?name=%ED%95%84%EC%88%98%EC%84%A0%ED%83%9D/RCA%EC%84%A0/%EC%8A%A4%ED%85%8C%EB%A0%88%EC%98%A4%EC%84%A0/1.5%EB%AF%B8%ED%84%B0/3%EB%AF%B8%ED%84%B0/5%EB%AF%B8%ED%84%B0/10%EB%AF%B8%ED%84%B0/%EC%95%B0%ED%94%84%EC%84%A0/%EC%95%B0%ED%94%84%EC%BC%80%EC%9D%B4%EB%B8%94&img=http://shopping.phinf.naver.net/main_8168897/8168897845.jpg HTTP/1.1\" 200 100\n",
      "10.0.2.2 - - [21/Aug/2016 18:27:52] \"GET /classify?name=[4%%EC%A6%89%EC%8B%9C%ED%95%A0%EC%9D%B8%EC%BF%A0%ED%8F%B0]NO%20HDMI%20FF%20%EC%A0%A0%EB%8D%94%20HDMI%20%EC%95%94%EC%95%94%20HDMI%20%EB%8B%A8%EC%9E%90%EB%81%BC%EB%A6%AC%20%EC%84%9C%EB%A1%9C%20%EC%97%B0%EA%B2%B0&img=http://shopping.phinf.naver.net/main_8284116/8284116687.jpg HTTP/1.1\" 200 79\n",
      "10.0.2.2 - - [21/Aug/2016 18:27:52] \"GET /classify?name=[4%%EC%A6%89%EC%8B%9C%ED%95%A0%EC%9D%B8%EC%BF%A0%ED%8F%B0]%EC%BB%A8%EB%84%A5%ED%84%B0%20RCA%20FEMALE%20%EB%85%B8%EB%9E%91/%EA%B2%80%EC%A0%95%20(%ED%83%9D1)&img=http://shopping.phinf.naver.net/main_8270208/8270208236.jpg HTTP/1.1\" 200 109\n",
      "10.0.2.2 - - [21/Aug/2016 18:27:52] \"GET /classify?name=[4%%EC%A6%89%EC%8B%9C%ED%95%A0%EC%9D%B8%EC%BF%A0%ED%8F%B0]%EA%B4%91%ED%8C%A8%EC%B9%98%EC%BD%94%EB%93%9C%20%EC%BB%A4%ED%94%8C%EB%9F%AC%20I%ED%98%95%20LC%20F/F%20Simpl&img=http://shopping.phinf.naver.net/main_8270289/8270289864.jpg HTTP/1.1\" 200 109\n",
      "10.0.2.2 - - [21/Aug/2016 18:27:52] \"GET /classify?name=[4%%EC%A6%89%EC%8B%9C%ED%95%A0%EC%9D%B8%EC%BF%A0%ED%8F%B0]HDMI%EB%A7%88%EC%9D%B4%ED%81%AC%EB%A1%9C%EC%A0%A0%EB%8D%94%20%20HDMI%20A/F-D/M&img=http://shopping.phinf.naver.net/main_8270277/8270277799.jpg HTTP/1.1\" 200 79\n",
      "10.0.2.2 - - [21/Aug/2016 18:27:52] \"GET /classify?name=[4%%EC%A6%89%EC%8B%9C%ED%95%A0%EC%9D%B8%EC%BF%A0%ED%8F%B0]RGB%EC%A0%A0%EB%8D%94%20%E3%84%B1%EC%9E%90%2015/M%20-%2015/F%20[%EB%9E%9C%EC%8A%A4%ED%83%80&img=http://shopping.phinf.naver.net/main_8270264/8270264414.jpg HTTP/1.1\" 200 102\n",
      "10.0.2.2 - - [21/Aug/2016 18:27:52] \"GET /classify?name=BRAVOTEC%20V6+%20Black%20USB%203.0&img=http://shopping.phinf.naver.net/main_7185226/7185226645.20131008095655.jpg HTTP/1.1\" 200 79\n",
      "10.0.2.2 - - [21/Aug/2016 18:27:52] \"GET /classify?name=%EC%95%B1%EC%BD%94%20NCORE%20%EB%B0%94%EC%9D%B4%ED%8D%BC%20%ED%97%AC%ED%8D%BC%203.0%20%EB%B8%94%EB%9E%99&img=http://shopping.phinf.naver.net/main_7287355/7287355315.20131122150233.jpg HTTP/1.1\" 200 79\n",
      "10.0.2.2 - - [21/Aug/2016 18:27:52] \"GET /classify?name=IN%20WIN%20703%20%EA%B2%8C%EC%9D%B4%EB%B0%8D%20%EB%B8%94%EB%9E%99&img=http://shopping.phinf.naver.net/main_8212344/8212344576.20150122175631.jpg HTTP/1.1\" 200 79\n",
      "10.0.2.2 - - [21/Aug/2016 18:27:52] \"GET /classify?name=%EC%95%B1%EC%BD%94%20BT230%20%EB%B2%84%ED%8C%94%EB%A1%9C%20USB%203.0&img=http://shopping.phinf.naver.net/main_6962324/6962324442.20130619122608.jpg HTTP/1.1\" 200 79\n",
      "10.0.2.2 - - [21/Aug/2016 18:27:52] \"GET /classify?name=%EB%A7%88%EC%9D%B4%ED%81%AC%EB%A1%9C%EB%8B%89%EC%8A%A4%20Prost%20Mini%20USB3.0&img=http://shopping.phinf.naver.net/main_7875008/7875008672.20141210170849.jpg HTTP/1.1\" 200 79\n",
      "10.0.2.2 - - [21/Aug/2016 18:27:52] \"GET /classify?name=%EC%9E%98%EB%A7%8C%ED%85%8C%ED%81%AC%20%EC%9E%98%EB%A7%8C%20Z3%20PLUS%20WHITE&img=http://shopping.phinf.naver.net/main_7193004/7193004216.20131011164813.jpg HTTP/1.1\" 200 79\n",
      "10.0.2.2 - - [21/Aug/2016 18:27:52] \"GET /classify?name=PCPOP%20JACKPOT&img=http://shopping.phinf.naver.net/main_6393093/6393093817.20120529170709.jpg HTTP/1.1\" 200 87\n"
     ]
    },
    {
     "name": "stdout",
     "output_type": "stream",
     "text": [
      "classify called\n",
      "classify called\n",
      "classify called\n",
      "classify called\n",
      "classify called\n",
      "classify called\n",
      "classify called\n",
      "classify called\n",
      "classify called\n",
      "classify called\n",
      "classify called\n",
      "classify called\n",
      "classify called\n",
      "classify called\n",
      "classify called\n",
      "classify called\n"
     ]
    },
    {
     "name": "stderr",
     "output_type": "stream",
     "text": [
      "10.0.2.2 - - [21/Aug/2016 18:27:52] \"GET /classify?name=IN%20WIN%20%EC%9D%B4%EA%B8%80%EB%A3%A8%20IW-Z583%20HD%20AUDIO&img=http://shopping.phinf.naver.net/main_4102691/4102691027.20120211165834.jpg HTTP/1.1\" 200 101\n",
      "10.0.2.2 - - [21/Aug/2016 18:27:52] \"GET /classify?name=%EB%8B%A4%EC%98%A4%ED%85%8C%ED%81%AC%20Alu-400i&img=http://shopping.phinf.naver.net/main_7569703/7569703053.20140319114429.jpg HTTP/1.1\" 200 79\n",
      "10.0.2.2 - - [21/Aug/2016 18:27:52] \"GET /classify?name=%EC%95%84%EB%A7%88%ED%80%98%EC%8A%A4%ED%8A%B8%20K439F%204U&img=http://shopping.phinf.naver.net/main_8212342/8212342117.20150126174231.jpg HTTP/1.1\" 200 79\n",
      "10.0.2.2 - - [21/Aug/2016 18:27:52] \"GET /classify?name=%EC%8A%A4%EC%B9%B4%EC%9D%B4%EB%94%94%EC%A7%80%ED%83%88%20SKY333%20%EB%B8%94%EB%A3%A8%EC%8D%A8%ED%81%B4%20%EB%AF%B8%EB%8B%88%20USB3.0&img=http://shopping.phinf.naver.net/main_6828558/6828558748.20130401124010.jpg HTTP/1.1\" 200 101\n",
      "10.0.2.2 - - [21/Aug/2016 18:27:52] \"GET /classify?name=DAMONCOM%20DM-21%20HD%20AUDIO&img=http://shopping.phinf.naver.net/main_5498732/5498732501.20120211210609.jpg HTTP/1.1\" 200 71\n",
      "10.0.2.2 - - [21/Aug/2016 18:27:52] \"GET /classify?name=%EC%9D%B4%EC%A7%80%EB%84%B7%EC%9C%A0%EB%B9%84%EC%BF%BC%ED%84%B0%EC%8A%A4%20NEXT-225SSD&img=http://shopping.phinf.naver.net/main_6818017/6818017088.20130325163928.jpg HTTP/1.1\" 200 89\n",
      "10.0.2.2 - - [21/Aug/2016 18:27:52] \"GET /classify?name=IN%20WIN%20Z583%20%EB%B8%94%EB%9E%99%20USB%203.0&img=http://shopping.phinf.naver.net/main_8178328/8178328414.20150123175751.jpg HTTP/1.1\" 200 79\n",
      "10.0.2.2 - - [21/Aug/2016 18:27:52] \"GET /classify?name=[%EB%B6%80%ED%92%88%ED%81%B4%EB%9F%BD/%EA%B0%95%EC%9B%90%EC%A0%84%EC%9E%90(%EC%A3%BC)/NETmate%20(%EA%B0%95%EC%9B%90%EC%A0%84%EC%9E%90)]NETmate%20USB3.0%20SSD/HDD%202.5%20quot;%20to%203.5%20quot;%20%EB%A9%80%ED%8B%B0%20%EC%99%B8%EC%9E%A5%20%ED%95%98%EB%93%9C%EC%BC%80%EC%9D%B4%EC%8A%A4(%ED%95%98%EB%93%9C%EB%AF%B8%ED%8F%AC%ED%95%A8)%20[NM-SS&img=http://shopping.phinf.naver.net/main_7352181/7352181301.jpg HTTP/1.1\" 200 129\n",
      "10.0.2.2 - - [21/Aug/2016 18:27:52] \"GET /classify?name=USB3.0%20SSD/HDD%202.5%ED%98%95%20to%203.5%ED%98%95%20%EB%A9%80%ED%8B%B0%20%EC%99%B8%EC%9E%A5%ED%95%98%EB%93%9C%EC%BC%80%EC%9D%B4%EC%8A%A4&img=http://shopping.phinf.naver.net/main_7347556/7347556718.jpg HTTP/1.1\" 200 79\n",
      "10.0.2.2 - - [21/Aug/2016 18:27:52] \"GET /classify?name=ACTTO%20%EC%97%91%ED%86%A0%20%ED%86%A0%EB%84%A4%EC%9D%B4%EB%8F%84%20%EB%85%B8%ED%8A%B8%EB%B6%81%20%EC%BF%A8%EB%A7%81%20%EC%8A%A4%ED%83%A0%EB%93%9C%20NBS-09&img=http://shopping.phinf.naver.net/main_8240749/8240749222.jpg HTTP/1.1\" 200 79\n",
      "10.0.2.2 - - [21/Aug/2016 18:27:52] \"GET /classify?name=[SUPERMICRO]%20%EC%8A%88%ED%8D%BC%EB%A7%88%EC%9D%B4%ED%81%AC%EB%A1%9C%20SC745TQ-920B%20%EB%94%94%EC%97%90%EC%8A%A4%EC%95%A4%EC%A7%80%20[%EB%A0%88%EC%9D%BC%ED%82%A4%ED%8A%B8%20%EB%B3%84%EB%8F%84%EA%B5%AC%EB%A7%A4]&img=http://shopping.phinf.naver.net/main_8312893/8312893421.jpg HTTP/1.1\" 200 87\n",
      "10.0.2.2 - - [21/Aug/2016 18:27:52] \"GET /classify?name=ACTTO%20%EC%97%91%ED%86%A0%20%EB%85%B8%ED%8A%B8%EB%B6%81%20%EC%BF%A8%EB%A7%81%20%EC%8A%A4%ED%83%A0%EB%93%9C%20NBS-05C&img=http://shopping.phinf.naver.net/main_8249894/8249894779.jpg HTTP/1.1\" 200 79\n",
      "10.0.2.2 - - [21/Aug/2016 18:27:52] \"GET /classify?name=%EC%8D%A8%EB%A9%80%ED%85%8C%EC%9D%B4%ED%81%AC%20Urban%20T31%20-%20mid-tower%20chassis&img=http://shopping.phinf.naver.net/main_8352643/8352643203.jpg HTTP/1.1\" 200 79\n",
      "10.0.2.2 - - [21/Aug/2016 18:27:52] \"GET /classify?name=MK2%20ARROW%20%EB%A1%9C%EB%A7%A8%ED%8B%B1%20%ED%95%91%ED%81%AC&img=http://shopping.phinf.naver.net/main_7361565/7361565080.20131225153636.jpg HTTP/1.1\" 200 79\n",
      "10.0.2.2 - - [21/Aug/2016 18:27:52] \"GET /classify?name=%EB%8B%B9%20%EC%9D%BC%20%EB%B0%9C%20%EC%86%A1%20%20GMC%20%20%ED%8C%A1%20%EB%B8%94%EB%9E%99%20PC%EC%BC%80%EC%9D%B4%EC%8A%A4[%20%EC%B4%9D%20%EC%95%8C%20%EB%B0%B0%20%EC%86%A1%20]&img=http://shopping.phinf.naver.net/main_7523858/7523858697.jpg HTTP/1.1\" 200 79\n"
     ]
    },
    {
     "name": "stdout",
     "output_type": "stream",
     "text": [
      "classify called\n",
      "classify called\n",
      "classify called\n",
      "classify called\n",
      "classify called\n",
      "classify called\n",
      "classify called\n",
      "classify called\n",
      "classify called\n",
      "classify called\n",
      "classify called\n",
      "classify called\n",
      "classify called\n",
      "classify called\n",
      "classify called\n"
     ]
    },
    {
     "name": "stderr",
     "output_type": "stream",
     "text": [
      "10.0.2.2 - - [21/Aug/2016 18:27:52] \"GET /classify?name=%E2%94%81%E2%94%81%E2%94%81%E2%94%81%E2%94%81%E2%94%81%EC%B4%9D%E2%94%81%EC%95%8C%E2%94%81%EB%B0%B0%E2%94%81%EC%86%A1%E2%94%81%E2%94%81%E2%94%81%E2%94%81%E2%94%81%E2%94%81%E2%94%81%E2%94%81%E2%94%81%E2%94%81%E2%94%81%E2%94%81%E2%94%81%E2%94%81%E2%94%81%E2%94%81%20GMC%20%20%ED%8C%A1%20%EC%BB%B4%ED%93%A8%ED%84%B0%20PC%EC%BC%80%EC%9D%B4%EC%8A%A4%20%E2%94%81%E2%94%81%E2%94%81%E2%94%81%E2%94%81%E2%94%81%E2%94%81%E2%94%81%EC%A3%BC%EB%AC%B8%EC%A6%89%EC%8B%9C%EB%B0%9C%EC%86%A1%E2%94%81%E2%94%81%E2%94%81%E2%94%81%E2%94%81%E2%94%81%E2%94%81%E2%94%81&img=http://shopping.phinf.naver.net/main_7387503/7387503488.jpg HTTP/1.1\" 200 79\n",
      "10.0.2.2 - - [21/Aug/2016 18:27:52] \"GET /classify?name=%EC%97%A0%EC%A0%9C%EC%9D%B4%ED%85%8C%ED%81%AC%EB%86%80%EB%A1%9C%EC%A7%80%20ENERGY%20OPTIMUS%20K-1%20TINA%20USB%203.0&img=http://shopping.phinf.naver.net/main_6971576/6971576712.20130624112453.jpg HTTP/1.1\" 200 98\n",
      "10.0.2.2 - - [21/Aug/2016 18:27:52] \"GET /classify?name=APEX%20CNP%20E-D5%20USB%203.0%20%EC%8B%A4%EB%B2%84&img=http://shopping.phinf.naver.net/main_7524175/7524175345.20140227110559.jpg HTTP/1.1\" 200 79\n",
      "10.0.2.2 - - [21/Aug/2016 18:27:52] \"GET /classify?name=%EC%BB%B4%EB%94%9C%20ISSUE%20N20&img=http://shopping.phinf.naver.net/main_6538853/6538853685.20120810152946.jpg HTTP/1.1\" 200 87\n",
      "10.0.2.2 - - [21/Aug/2016 18:27:52] \"GET /classify?name=%EC%97%A0%EC%A0%9C%EC%9D%B4%ED%85%8C%ED%81%AC%EB%86%80%EB%A1%9C%EC%A7%80%20ENERGY%20OPTIMUS%20G-2%20Elant%20USB%203.0%20BLACK&img=http://shopping.phinf.naver.net/main_7532009/7532009967.20140303100253.jpg HTTP/1.1\" 200 79\n",
      "10.0.2.2 - - [21/Aug/2016 18:27:52] \"GET /classify?name=%EB%A7%88%EC%9D%B4%EB%A6%AC%ED%94%8C%20ripple%20Wooden%20DIY&img=http://shopping.phinf.naver.net/main_7205917/7205917385.20131017095538.jpg HTTP/1.1\" 200 72\n",
      "10.0.2.2 - - [21/Aug/2016 18:27:52] \"GET /classify?name=GMC%20%EC%8D%A8%ED%81%B4%20USB%203.0&img=http://shopping.phinf.naver.net/main_7353821/7353821034.20131224155040.jpg HTTP/1.1\" 200 79\n",
      "10.0.2.2 - - [21/Aug/2016 18:27:52] \"GET /classify?name=NZXT%20Phantom%20820%20Gunmetal%20Grey%20Window%20Edition%20BRAVOTEC&img=http://shopping.phinf.naver.net/main_7346275/7346275084.20131219151708.jpg HTTP/1.1\" 200 79\n",
      "10.0.2.2 - - [21/Aug/2016 18:27:52] \"GET /classify?name=ICE%20CUBE%20%EB%A0%88%EB%93%9C&img=http://shopping.phinf.naver.net/main_8139202/8139202473.20141224172054.jpg HTTP/1.1\" 200 79\n",
      "10.0.2.2 - - [21/Aug/2016 18:27:52] \"GET /classify?name=%EC%BF%A8%EB%9F%AC%EB%A7%88%EC%8A%A4%ED%84%B0%20%EC%BD%94%EC%8A%A4%EB%AA%A8%EC%8A%A4%201000&img=http://shopping.phinf.naver.net/main_4092820/4092820186.20120211164733.jpg HTTP/1.1\" 200 79\n",
      "10.0.2.2 - - [21/Aug/2016 18:27:52] \"GET /classify?name=%EC%95%A4%EB%94%94%EC%BD%94%20AIO%20EASYRACK%20301%20R3&img=http://shopping.phinf.naver.net/main_5591595/5591595929.20120211203046.jpg HTTP/1.1\" 200 100\n",
      "10.0.2.2 - - [21/Aug/2016 18:27:52] \"GET /classify?name=%EC%97%91%EC%8A%AC%EB%B9%84%EC%A0%BC%20BYSUO%20T3%20SMART%20%EB%B8%94%EB%9E%99%20USB%202.0&img=http://shopping.phinf.naver.net/main_8062555/8062555395.20141111105953.jpg HTTP/1.1\" 200 79\n",
      "10.0.2.2 - - [21/Aug/2016 18:27:52] \"GET /classify?name=%EC%95%B1%EC%BD%94%20SC260%20ATOM3.0&img=http://shopping.phinf.naver.net/main_8016199/8016199876.20141028150156.jpg HTTP/1.1\" 200 79\n",
      "10.0.2.2 - - [21/Aug/2016 18:27:52] \"GET /classify?name=%ED%8C%8C%EC%9B%8C%EB%A0%89%EC%8A%A4%20%EC%B9%B4%EC%9D%B4%EC%97%94%20370%20USB%203.0&img=http://shopping.phinf.naver.net/main_6960656/6960656521.20130618152633.jpg HTTP/1.1\" 200 79\n",
      "10.0.2.2 - - [21/Aug/2016 18:27:52] \"GET /classify?name=GMC%20H200%20%ED%92%8DV&img=http://shopping.phinf.naver.net/main_6766280/6766280692.20130218151050.jpg HTTP/1.1\" 200 79\n"
     ]
    },
    {
     "name": "stdout",
     "output_type": "stream",
     "text": [
      "classify called\n",
      "classify called\n",
      "classify called\n",
      "classify called\n",
      "classify called\n",
      "classify called\n",
      "classify called\n",
      "classify called\n",
      "classify called\n",
      "classify called\n",
      "classify called\n",
      "classify called\n",
      "classify called\n",
      "classify called\n",
      "classify called\n"
     ]
    },
    {
     "name": "stderr",
     "output_type": "stream",
     "text": [
      "10.0.2.2 - - [21/Aug/2016 18:27:52] \"GET /classify?name=%EB%8B%A4%EC%98%A4%ED%85%8C%ED%81%AC%20Alu-200%20Black%20USB%203.0&img=http://shopping.phinf.naver.net/main_7488948/7488948371.20140213144814.jpg HTTP/1.1\" 200 79\n",
      "10.0.2.2 - - [21/Aug/2016 18:27:52] \"GET /classify?name=%EC%95%B1%EC%BD%94%20NC1000%20%EC%95%8C%ED%8C%8C3.0%20%EB%B8%94%EB%9E%99&img=http://shopping.phinf.naver.net/main_8149617/8149617486.20141215100518.jpg HTTP/1.1\" 200 79\n",
      "10.0.2.2 - - [21/Aug/2016 18:27:52] \"GET /classify?name=%EB%A7%88%EC%9D%B4%ED%81%AC%EB%A1%9C%EB%8B%89%EC%8A%A4%20Pico%20Mini%20USB%203.0%20Metallic%20Black&img=http://shopping.phinf.naver.net/main_7472804/7472804296.20141206171944.jpg HTTP/1.1\" 200 79\n",
      "10.0.2.2 - - [21/Aug/2016 18:27:52] \"GET /classify?name=%EC%95%B1%EC%BD%94%20NCORE%20%EB%B9%88%EC%B8%A0&img=http://shopping.phinf.naver.net/main_6979952/6979952803.20130628143416.jpg HTTP/1.1\" 200 79\n",
      "10.0.2.2 - - [21/Aug/2016 18:27:52] \"GET /classify?name=GMC%20C-90&img=http://shopping.phinf.naver.net/main_6336136/6336136969.20120516121300.jpg HTTP/1.1\" 200 79\n",
      "10.0.2.2 - - [21/Aug/2016 18:27:52] \"GET /classify?name=%EC%95%B1%EC%BD%94%20NCORE%20%EA%B0%80%EC%A0%9C%ED%8A%B8%20USB3.0&img=http://shopping.phinf.naver.net/main_8121265/8121265429.20141208165921.jpg HTTP/1.1\" 200 79\n",
      "10.0.2.2 - - [21/Aug/2016 18:27:52] \"GET /classify?name=%EC%8D%A8%EB%A9%80%ED%85%8C%EC%9D%B4%ED%81%AC%20VN10006W2N%20Level%2010%20GT%20Snow%20Edition&img=http://shopping.phinf.naver.net/main_5858617/5858617518.20120211164358.jpg HTTP/1.1\" 200 79\n",
      "10.0.2.2 - - [21/Aug/2016 18:27:53] \"GET /classify?name=CORSAIR%20GRAPHITE%20380T&img=http://shopping.phinf.naver.net/main_7935666/7935666851.20141210165633.jpg HTTP/1.1\" 200 79\n",
      "10.0.2.2 - - [21/Aug/2016 18:27:53] \"GET /classify?name=%EC%9E%98%EB%A7%8C%ED%85%8C%ED%81%AC%20%EC%9E%98%EB%A7%8C%20ZM-T3&img=http://shopping.phinf.naver.net/main_7136198/7136198784.20130912112036.jpg HTTP/1.1\" 200 79\n",
      "10.0.2.2 - - [21/Aug/2016 18:27:53] \"GET /classify?name=DAMONCOM%20DM-650%20USB%203.0&img=http://shopping.phinf.naver.net/main_8198192/8198192163.20150126173921.jpg HTTP/1.1\" 200 79\n",
      "10.0.2.2 - - [21/Aug/2016 18:27:53] \"GET /classify?name=%EC%95%B1%EC%BD%94%20NCORE%20%EC%BA%A1%ED%8B%B4%20USB3.0&img=http://shopping.phinf.naver.net/main_7800582/7800582937.20140711115745.jpg HTTP/1.1\" 200 79\n",
      "10.0.2.2 - - [21/Aug/2016 18:27:53] \"GET /classify?name=%EB%8B%A4%EC%98%A4%ED%85%8C%ED%81%AC%20AURA%20703W%20USB3.0&img=http://shopping.phinf.naver.net/main_7837994/7837994556.20140728112844.jpg HTTP/1.1\" 200 79\n",
      "10.0.2.2 - - [21/Aug/2016 18:27:53] \"GET /classify?name=%EC%A0%9C%EB%8B%89%EC%8A%A4%20%EA%B2%8C%EC%9D%B4%EB%B0%8D%20%ED%97%A4%EB%93%9C%EC%85%8B%20TESORO%20KUVEN/%EC%A0%84%EC%9A%A9%20%EB%A6%AC%EB%AA%A8%EC%BD%98/%EB%B2%84%EC%B6%94%EC%96%BC%207.1%20%EC%84%9C%EB%9D%BC%EC%9A%B4%EB%93%9C%20%EC%A7%80%EC%9B%90/%EA%B3%A0%EC%84%B1%EB%8A%A5%20%EB%A7%88%EC%9D%B4%ED%81%AC/%EC%99%B8%EB%B6%80%20%EC%86%8C%EC%9D%8C%20%EC%99%84%EB%B2%BD%EC%B0%A8%EB%8B%A8/%EC%97%94%EC%A0%A4,%EB%8D%B0%EB%B9%8C&img=http://shopping.phinf.naver.net/main_8108764/8108764745.jpg HTTP/1.1\" 200 107\n",
      "10.0.2.2 - - [21/Aug/2016 18:27:53] \"GET /classify?name=[TLS]%20%EC%A0%9C%EB%8B%89%EC%8A%A4%20TESORO%20KUVEN%20ANGEL/DEVIL%207.1%20%EC%B1%84%EB%84%90%20%EA%B2%8C%EC%9D%B4%EB%B0%8D/%EA%B2%8C%EC%9E%84%EC%9A%A9%20%ED%97%A4%EB%93%9C%EC%85%8B/2%EA%B0%80%EC%A7%80%EC%83%89%EC%83%81/%EB%B3%BC%EB%A5%A8%EC%BB%A8%ED%8A%B8%EB%A1%A4&img=http://shopping.phinf.naver.net/main_7315076/7315076363.jpg HTTP/1.1\" 200 107\n",
      "10.0.2.2 - - [21/Aug/2016 18:27:53] \"GET /classify?name=[%ED%85%90%EB%B0%94%EC%9D%B4%ED%85%90]%20%ED%95%84%EB%A6%BD%EC%8A%A4%20%EA%B2%8C%EC%9D%B4%EB%B0%8D%20USB%EC%9E%AD%20%ED%97%A4%EB%93%9C%ED%8F%B0%20SHG7980_%ED%97%A4%EB%93%9C%ED%8F%B0&img=http://shopping.phinf.naver.net/main_7437935/7437935174.jpg HTTP/1.1\" 200 117\n"
     ]
    },
    {
     "name": "stdout",
     "output_type": "stream",
     "text": [
      "classify called\n",
      "classify called\n",
      "classify called\n",
      "classify called\n",
      "classify called\n",
      "classify called\n",
      "classify called\n",
      "classify called\n",
      "classify called\n",
      "classify called\n",
      "classify called\n",
      "classify called\n",
      "classify called\n",
      "classify called\n",
      "classify called\n"
     ]
    },
    {
     "name": "stderr",
     "output_type": "stream",
     "text": [
      "10.0.2.2 - - [21/Aug/2016 18:27:53] \"GET /classify?name=[4%%EC%A6%89%EC%8B%9C%ED%95%A0%EC%9D%B8%EC%BF%A0%ED%8F%B0][%EC%9D%B4%EB%A9%94%EC%9D%B4%EC%85%98]%20%EC%8A%A4%ED%85%8C%EB%A0%88%EC%98%A4%20%ED%97%A4%EB%93%9C%EC%85%8B%20PCH-430%20(%EA%B3%A0%EA%B0%90%EB%8F%84%20%EC%9D%BC%EC%B2%B4%ED%98%95%20%EB%A7%88%EC%9D%B4%ED%81%AC%EB%A1%9C%ED%8F%B0%20/%20%EC%A3%BC%EB%B3%80%EC%86%8C%EC%9D%8C%20%EC%B0%A8%EB%8B%A8%20/%20%EB%B3%BC%EB%A5%A8%20%EC%A1%B0%EC%A0%88%20%EC%BB%A8%ED%8A%B8%EB%A1%A4%EB%9F%AC%20/%20%EA%B8%B8%EC%9D%B4%20%EC%A1%B0%EC%A0%88%20%ED%97%A4%EC%96%B4%EB%B0%B4%EB%93%9C)&img=http://shopping.phinf.naver.net/main_7447893/7447893609.jpg HTTP/1.1\" 200 107\n",
      "10.0.2.2 - - [21/Aug/2016 18:27:53] \"GET /classify?name=[%EA%BE%B9::GGOOK]%20[BEAT]%20%EB%B3%BC%EB%A5%A8%20%EC%BB%A8%ED%8A%B8%EB%A1%A4%EB%9F%AC%20%ED%97%A4%EB%93%9C%EC%85%8B%20CT770%20PLUS&img=http://shopping.phinf.naver.net/main_7826672/7826672192.jpg HTTP/1.1\" 200 107\n",
      "10.0.2.2 - - [21/Aug/2016 18:27:53] \"GET /classify?name=[4%%EC%A6%89%EC%8B%9C%ED%95%A0%EC%9D%B8%EC%BF%A0%ED%8F%B0]%EC%96%B4%ED%95%99%EA%B5%90%EC%9C%A1/%EC%9D%B8%ED%84%B0%EB%84%B7%EA%B0%95%EC%9D%98/%EC%95%84%ED%94%84%EB%A6%AC%EC%B9%B4%EB%B0%A9%EC%86%A1/%EC%98%A8%EB%9D%BC%EC%9D%B8%EA%B2%8C%EC%9E%84%20%ED%95%84%EC%88%98%ED%92%88%20%EB%B3%BC%EB%A5%A8%20%EC%BB%A8%ED%8A%B8%EB%A1%A4%EB%9F%AC%20%EB%82%B4%EC%9E%A5%20%ED%97%A4%EB%93%9C%EC%85%8B%20CT770%20PLUS&img=http://shopping.phinf.naver.net/main_7685634/7685634065.jpg HTTP/1.1\" 200 107\n",
      "10.0.2.2 - - [21/Aug/2016 18:27:53] \"GET /classify?name=[4%%EC%A6%89%EC%8B%9C%ED%95%A0%EC%9D%B8%EC%BF%A0%ED%8F%B0]%EC%96%B4%ED%95%99%EA%B5%90%EC%9C%A1/%EC%9D%B8%ED%84%B0%EB%84%B7%EA%B0%95%EC%9D%98/%EC%95%84%ED%94%84%EB%A6%AC%EC%B9%B4%EB%B0%A9%EC%86%A1/%EC%98%A8%EB%9D%BC%EC%9D%B8%EA%B2%8C%EC%9E%84%20%ED%95%84%EC%88%98%ED%92%88%20%EB%B3%BC%EB%A5%A8%20%EC%BB%A8%ED%8A%B8%EB%A1%A4%EB%9F%AC%20%EB%82%B4%EC%9E%A5%20%ED%97%A4%EB%93%9C%EC%85%8B%20CT770%20PLUS&img=http://shopping.phinf.naver.net/main_7685626/7685626516.jpg HTTP/1.1\" 200 107\n",
      "10.0.2.2 - - [21/Aug/2016 18:27:53] \"GET /classify?name=%EC%96%B4%ED%95%99%EA%B5%90%EC%9C%A1%20%EC%9D%B8%ED%84%B0%EB%84%B7%EA%B0%95%EC%9D%98%20%EC%95%84%ED%94%84%EB%A6%AC%EC%B9%B4%EB%B0%A9%EC%86%A1%20%EC%98%A8%EB%9D%BC%EC%9D%B8%EA%B2%8C%EC%9E%84%20%ED%95%84%EC%88%98%ED%92%88%20%EB%B3%BC%EB%A5%A8%20%EC%BB%A8%ED%8A%B8%EB%A1%A4%EB%9F%AC%20%EB%82%B4%EC%9E%A5%20%ED%97%A4%EB%93%9C%EC%85%8B%20CT770%20PLUS%20%EC%9D%BC%EB%B0%98%ED%97%A4%EB%93%9C%EC%85%8B%20%EC%BB%B4%ED%93%A8%ED%84%B0%EC%9A%A9%ED%92%88%20%EC%BB%B4%ED%93%A8%ED%84%B0%EC%A3%BC[%EB%B9%A0%EB%A5%B8%EB%B0%B0%EC%86%A1]&img=http://shopping.phinf.naver.net/main_8350063/8350063889.jpg HTTP/1.1\" 200 107\n",
      "10.0.2.2 - - [21/Aug/2016 18:27:53] \"GET /classify?name=%EC%95%84%ED%81%90%ED%86%A4%20ProNC-1010%20MONO%20%ED%97%A4%EB%93%9C%EC%85%8B%20(USB%ED%98%95)%20%20%EA%B2%8C%EC%9E%84%20%ED%99%94%EC%83%81%ED%86%B5%EC%8B%A0&img=http://shopping.phinf.naver.net/main_7926202/7926202996.jpg HTTP/1.1\" 200 107\n",
      "10.0.2.2 - - [21/Aug/2016 18:27:53] \"GET /classify?name=[KB%EA%B5%AD%EB%AF%BC%EC%B9%B4%EB%93%9C%205%%ED%95%A0%EC%9D%B8,%203/14]%EB%B0%94%EB%B3%B4%EC%82%AC%EB%9E%91%20%EC%BD%94%EC%8B%9C%202.4G%EB%AC%B4%EC%84%A0%EB%A9%80%ED%8B%B0%EB%B0%B1%EC%85%8B(%EB%AC%B4%EB%A3%8C%EB%B0%B0%EC%86%A1)&img=http://shopping.phinf.naver.net/main_7210384/7210384773.jpg HTTP/1.1\" 200 104\n",
      "10.0.2.2 - - [21/Aug/2016 18:27:53] \"GET /classify?name=%E2%96%B6%EC%A0%84%EA%B3%A0%EA%B0%9D%202%%20%EC%B6%94%EA%B0%80%20%EC%B9%B4%EB%93%9C%ED%95%A0%EC%9D%B8%E2%97%80SADES%20%EC%82%AC%EB%8D%B0%EC%8A%A4%20Gpower%20SA-708%20%EC%8A%A4%ED%85%8C%EB%A0%88%EC%98%A4%20%ED%97%A4%EB%93%9C%EC%85%8B/%EA%B3%A0%EA%B0%90%EB%8F%84%EB%A7%88%EC%9D%B4%ED%81%AC/%EB%B3%BC%EB%A5%A8%EC%BD%98%ED%8A%B8%EB%A1%A4%EB%9F%AC/%EC%9D%8C%EC%86%8C%EA%B1%B0/%ED%8E%B8%EC%95%88%ED%95%9C%EC%B0%A9%EC%9A%A9%EA%B0%90/%EC%8A%A4%ED%83%80%EC%9D%BC%EB%A6%AC%EC%8B%9C%EB%94%94%EC%9E%90%EC%9D%B8&img=http://shopping.phinf.naver.net/main_7753062/7753062966.jpg HTTP/1.1\" 200 107\n",
      "10.0.2.2 - - [21/Aug/2016 18:27:53] \"GET /classify?name=[%ED%94%84%EB%A0%8C%EC%A6%88]SADES%20%EC%82%AC%EB%8D%B0%EC%8A%A4%20SA-708%20%EC%8A%A4%ED%85%8C%EB%A0%88%EC%98%A4%20%ED%97%A4%EB%93%9C%EC%85%8B/%EA%B3%A0%EA%B0%90%EB%8F%84%EB%A7%88%EC%9D%B4%ED%81%AC/%EB%B3%BC%EB%A5%A8%EC%BD%98%ED%8A%B8%EB%A1%A4%EB%9F%AC/%EC%9D%8C%EC%86%8C%EA%B1%B0/%ED%8E%B8%EC%95%88%ED%95%9C%EC%B0%A9%EC%9A%A9%EA%B0%90/%EC%8A%A4%ED%83%80%EC%9D%BC%EB%A6%AC%EC%8B%9C%EB%94%94%EC%9E%90%EC%9D%B8&img=http://shopping.phinf.naver.net/main_7559680/7559680599.jpg HTTP/1.1\" 200 107\n",
      "10.0.2.2 - - [21/Aug/2016 18:27:53] \"GET /classify?name=[4%%EC%A6%89%EC%8B%9C%ED%95%A0%EC%9D%B8%EC%BF%A0%ED%8F%B0][%EC%86%94%EB%A1%9C%EB%AA%AC%EC%83%B5]14000%20%EC%97%91%ED%86%A0%20%EB%B3%B4%EB%85%B8%ED%97%A4%EB%93%9C%EC%85%8B(BKS-56)___%EC%97%91%ED%86%A0%ED%97%A4%EB%93%9C%ED%8F%B0/%ED%97%A4%EB%93%9C%EC%85%8B/%EC%9D%B4%EC%96%B4%ED%8F%B0/%EB%B8%94%EB%A3%A8%ED%88%AC%EC%8A%A4/%EB%AC%B4%EC%84%A0%ED%97%A4%EB%93%9C%ED%8F%B0/%EB%A7%88%EC%9D%B4%ED%81%AC/%EC%9D%B4%EC%96%B4%EC%85%8B&img=http://shopping.phinf.naver.net/main_7452093/7452093983.jpg HTTP/1.1\" 200 107\n",
      "10.0.2.2 - - [21/Aug/2016 18:27:53] \"GET /classify?name=ACTTO/%EC%97%91%ED%86%A0%20%ED%97%A4%EB%93%9C%EC%85%8B%20BKS-64&img=http://shopping.phinf.naver.net/main_8078888/8078888547.jpg HTTP/1.1\" 200 107\n",
      "10.0.2.2 - - [21/Aug/2016 18:27:53] \"GET /classify?name=[%EC%97%91%ED%86%A0]%ED%97%A4%EB%93%9C%EC%85%8B(64)%20BKS-64&img=http://shopping.phinf.naver.net/main_8164713/8164713625.jpg HTTP/1.1\" 200 107\n",
      "10.0.2.2 - - [21/Aug/2016 18:27:53] \"GET /classify?name=ACTTO/%EC%97%91%ED%86%A0%20%EC%9C%84%ED%8B%B0%20%ED%97%A4%EB%93%9C%EC%85%8B%20BKS-50%20[0153902546]&img=http://shopping.phinf.naver.net/main_7941019/7941019036.jpg HTTP/1.1\" 200 107\n",
      "10.0.2.2 - - [21/Aug/2016 18:27:53] \"GET /classify?name=Actto%20BKS-50%20(%ED%99%94%EC%9D%B4%ED%8A%B8)%20%ED%97%A4%EB%93%9C%EC%85%8B%20(%EC%9C%84%ED%8B%B0%20%EC%97%91%ED%86%A0)&img=http://shopping.phinf.naver.net/main_5853585/5853585883.jpg HTTP/1.1\" 200 107\n",
      "10.0.2.2 - - [21/Aug/2016 18:27:53] \"GET /classify?name=%EC%97%91%ED%86%A0%20%20%EC%9C%84%ED%8B%B0%ED%97%A4%EB%93%9C%EC%85%8B(%EC%83%89%EC%83%81%EC%9E%84%EC%9D%98%EB%B0%B0%EC%86%A1)%20BKS%2050%20%208%201%204%20%ED%97%A4%EB%93%9C%EC%85%8B%20%EC%97%91%ED%86%A0%20%EC%9D%8C%EC%95%85%20%EC%9D%B4%EC%96%B4%ED%8F%B0%20%ED%95%B8%EB%93%9C%ED%8F%B0%20MP3&img=http://shopping.phinf.naver.net/main_8197159/8197159233.jpg HTTP/1.1\" 200 107\n"
     ]
    },
    {
     "name": "stdout",
     "output_type": "stream",
     "text": [
      "classify called\n",
      "classify called\n",
      "classify called\n",
      "classify called\n",
      "classify called\n",
      "classify called\n",
      "classify called\n",
      "classify called\n",
      "classify called\n",
      "classify called\n",
      "classify called\n",
      "classify called\n",
      "classify called\n",
      "classify called\n",
      "classify called\n"
     ]
    },
    {
     "name": "stderr",
     "output_type": "stream",
     "text": [
      "10.0.2.2 - - [21/Aug/2016 18:27:53] \"GET /classify?name=[%EC%A0%95%ED%92%88]%20%ED%97%A4%EB%93%9C%EC%85%8B%20Steelseries%20Siberia%20v2%20Full-size%20USB%20Headset%20Black%20(USB/%EB%B6%84%EB%A6%AC%ED%98%95%EC%82%AC%EC%9A%B4%ED%8A%B8%EC%B9%B4%EB%93%9C/%EA%B3%A0%EC%9D%8C%EC%A7%88)/%20%EC%8A%A4%ED%8B%B8&img=http://shopping.phinf.naver.net/main_7906875/7906875569.jpg HTTP/1.1\" 200 107\n",
      "10.0.2.2 - - [21/Aug/2016 18:27:53] \"GET /classify?name=Hacker%20G900%20%EB%B8%94%EB%9E%99%202%EC%B1%84%EB%84%90%20%ED%97%A4%EB%93%9C%EC%85%8B%E2%98%86%20%EB%8C%80%ED%95%9C%EB%AF%BC%EA%B5%AD%20%EB%8C%80%ED%91%9C%20%EA%B2%8C%EC%9D%B4%EB%B0%8D%20%EC%9E%A5%EB%B9%84%20ABKO!%20%EA%B0%80%EA%B2%A9%EB%8C%80%EB%B9%84%20%EC%9A%B0%EC%88%98%EC%83%81%ED%92%88/MD%EC%B6%94%EC%B2%9C%20%E2%98%86&img=http://shopping.phinf.naver.net/main_8095743/8095743096.jpg HTTP/1.1\" 200 107\n",
      "10.0.2.2 - - [21/Aug/2016 18:27:53] \"GET /classify?name=[%EC%B6%94%EC%B2%9C]%20ABKO%20Hacker%20G900%20%EB%B8%94%EB%9E%99%202%EC%B1%84%EB%84%90%20%ED%97%A4%EB%93%9C%EC%85%8B%20(G900)&img=http://shopping.phinf.naver.net/main_8005903/8005903124.jpg HTTP/1.1\" 200 107\n",
      "10.0.2.2 - - [21/Aug/2016 18:27:53] \"GET /classify?name=%EC%BF%A8%EB%9F%AC%EB%A7%88%EC%8A%A4%ED%84%B0%20CM%20STORM%20SIRUS%20%EA%B2%8C%EC%9D%B4%EB%B0%8D%20%ED%97%A4%EB%93%9C%EC%85%8B&img=http://shopping.phinf.naver.net/main_7704394/7704394882.jpg HTTP/1.1\" 200 107\n",
      "10.0.2.2 - - [21/Aug/2016 18:27:53] \"GET /classify?name=%EC%94%A8%EC%97%A0%EC%8A%A4%ED%86%B0%20CM%20STORM%20SIRUS%20%EC%BF%A8%EB%9F%AC%EB%A7%88%EC%8A%A4%ED%84%B0%20CM%20STORM%20SIRUS%20%EA%B2%8C%EC%9D%B4%EB%B0%8D%20%ED%97%A4%EB%93%9C%EC%85%8B/%EC%BB%A8%ED%8A%B8%EB%A1%A4%EB%9F%AC%20%EC%B5%9C%EA%B3%A0%EC%9D%98%20%ED%92%88%EC%A7%88%20%EB%8B%B9%EC%9D%BC%20%EB%B0%9C%EC%86%A1&img=http://shopping.phinf.naver.net/main_7735071/7735071914.jpg HTTP/1.1\" 200 107\n",
      "10.0.2.2 - - [21/Aug/2016 18:27:53] \"GET /classify?name=[%EC%82%BC%EC%84%B1%EC%B9%B4%EB%93%9C5%%ED%95%A0%EC%9D%B8~15%EC%9D%BC%EA%B9%8C%EC%A7%80][Logitech]%20%EB%A1%9C%EC%A7%80%ED%85%8D%20%EC%BD%94%EB%A6%AC%EC%95%84%20G430%207.1%EB%8F%8C%EB%B9%84%20%EC%9C%A0%EC%84%A0%20%EA%B2%8C%EC%9D%B4%EB%B0%8D%20%ED%97%A4%EB%93%9C%EC%85%8B&img=http://shopping.phinf.naver.net/main_7654837/7654837758.jpg HTTP/1.1\" 200 107\n",
      "10.0.2.2 - - [21/Aug/2016 18:27:53] \"GET /classify?name=%EB%A1%9C%EC%A7%80%ED%85%8D%EC%BD%94%EB%A6%AC%EC%95%84%20G130%20%EA%B2%8C%EC%9D%B4%EB%B0%8D%20%ED%97%A4%EB%93%9C%EC%85%8B%20[%20%EC%A0%95%ED%92%88%20/%201%EB%85%84%20%EB%AC%B4%EC%83%81%EB%B3%B4%EC%A6%9D%20]&img=http://shopping.phinf.naver.net/main_6831159/6831159396.jpg HTTP/1.1\" 200 107\n",
      "10.0.2.2 - - [21/Aug/2016 18:27:53] \"GET /classify?name=G130%20%EA%B2%8C%EC%9D%B4%EB%B0%8D%20%ED%97%A4%EB%93%9C%EC%85%8B%20[%EB%A1%9C%EC%A7%80%ED%85%8D%EC%BD%94%EB%A6%AC%EC%95%84%EC%A0%95%ED%92%88]&img=http://shopping.phinf.naver.net/main_8095744/8095744539.jpg HTTP/1.1\" 200 107\n",
      "10.0.2.2 - - [21/Aug/2016 18:27:53] \"GET /classify?name=BEAT[BEAT]%20%EC%98%A8%EB%9D%BC%EC%9D%B8%EA%B2%8C%EC%9E%84/BJ%ED%95%84%EC%88%98%ED%92%88%20%EC%99%B8%EA%B5%AD%EC%96%B4%20%EC%96%B4%ED%95%99%EC%9A%A9%20%ED%97%A4%EB%93%9C%EC%85%8B%20MV9/%ED%97%A4%EB%93%9C%ED%8F%B0/%ED%97%A4%EB%93%9C%EC%85%8B/%ED%95%B4%EB%93%9C%EC%85%8B/%ED%95%B4%EB%93%9C%ED%8F%B0&img=http://shopping.phinf.naver.net/main_8205027/8205027672.jpg HTTP/1.1\" 200 107\n",
      "10.0.2.2 - - [21/Aug/2016 18:27:53] \"GET /classify?name=[BEAT]%20%EC%98%A8%EB%9D%BC%EC%9D%B8%EA%B2%8C%EC%9E%84/BJ%ED%95%84%EC%88%98%ED%92%88%20%EC%99%B8%EA%B5%AD%EC%96%B4%20%EC%96%B4%ED%95%99%EC%9A%A9%20%ED%97%A4%EB%93%9C%EC%85%8B%20MV9&img=http://shopping.phinf.naver.net/main_8078421/8078421966.jpg HTTP/1.1\" 200 107\n",
      "10.0.2.2 - - [21/Aug/2016 18:27:53] \"GET /classify?name=[ON]%20[BEAT]%20%EC%98%A8%EB%9D%BC%EC%9D%B8%EA%B2%8C%EC%9E%84/BJ%ED%95%84%EC%88%98%ED%92%88%20%EC%99%B8%EA%B5%AD%EC%96%B4%20%EC%96%B4%ED%95%99%EC%9A%A9%20%ED%97%A4%EB%93%9C%EC%85%8B%20MV9/%ED%97%A4%EB%93%9C%ED%8F%B0/%ED%97%A4%EB%93%9C%EC%85%8B/%ED%95%B4%EB%93%9C%EC%85%8B/%ED%95%B4%EB%93%9C%ED%8F%B0/%EC%9D%B4%EC%96%B4%ED%8F%B0/%EC%9D%B4%EC%96%B4%EC%85%8B/%EC%8A%A4%EB%A7%88%ED%8A%B8%ED%8F%B0%ED%97%A4%EB%93%9C%ED%8F%B0/%EA%B7%80%EA%B1%B8%EC%9D%B4%ED%98%95%ED%97%A4%EB%93%9C%ED%8F%B0&img=http://shopping.phinf.naver.net/main_8360703/8360703884.jpg HTTP/1.1\" 200 107\n",
      "10.0.2.2 - - [21/Aug/2016 18:27:53] \"GET /classify?name=%EC%98%A8%EB%9D%BC%EC%9D%B8%EA%B2%8C%EC%9E%84%20BJ%ED%95%84%EC%88%98%ED%92%88%20%EB%98%90%EB%A0%B7%ED%95%9C%20%EC%9D%8C%EC%A7%88%EC%9D%98%20%EC%95%84%EC%9D%B4%EB%93%A4%20%EC%99%B8%EA%B5%AD%EC%96%B4%20%EC%96%B4%ED%95%99%EC%9A%A9%20%ED%97%A4%EB%93%9C%EC%85%8B%20MV9%20%ED%97%A4%EB%93%9C%EC%85%8B%20%EA%B2%8C%EC%9E%84%EC%9A%A9%ED%97%A4%EB%93%9C%EC%85%8B%20%EC%96%B4%ED%95%99%EC%9A%A9%ED%97%A4%EB%93%9C%EC%85%8B%20PC%EB%B0%A9%ED%97%A4%EB%93%9C%EC%85%8B%20BJ%EC%9A%A9%ED%97%A4%EB%93%9C%EC%85%8B%20%EA%B2%8C%EC%9E%84%ED%95%84%EC%88%98%ED%92%88&img=http://shopping.phinf.naver.net/main_8266030/8266030302.jpg HTTP/1.1\" 200 107\n",
      "10.0.2.2 - - [21/Aug/2016 18:27:53] \"GET /classify?name=[DBPLUS]DB-H7000%20USB%207.1CH%20%ED%97%A4%EB%93%9C%EC%85%8B/%EC%9D%BC%EB%B0%98%ED%98%95/%EB%A6%AC%EB%AA%A8%EC%BD%98/%EC%9E%A1%EC%9D%8C%EC%A0%9C%EA%B1%B0/%EC%9D%8C%EC%86%8C%EA%B1%B0%EA%B8%B0%EB%8A%A5/%EA%B2%8C%EC%9E%84%EC%9A%A9/%EC%98%81%ED%99%94%EA%B0%90%EC%83%81/%EC%9D%8C%EC%95%85%EA%B0%90%EC%83%81&img=http://shopping.phinf.naver.net/main_7623751/7623751257.1.jpg HTTP/1.1\" 200 107\n",
      "10.0.2.2 - - [21/Aug/2016 18:27:53] \"GET /classify?name=ACTTO/%EC%97%91%ED%86%A0%20%EB%B3%B4%EB%85%B8%20%ED%97%A4%EB%93%9C%EC%85%8B%20BKS-56&img=http://shopping.phinf.naver.net/main_7982077/7982077091.jpg HTTP/1.1\" 200 107\n"
     ]
    },
    {
     "name": "stdout",
     "output_type": "stream",
     "text": [
      "classify called\n",
      "classify called\n",
      "classify called\n",
      "classify called\n",
      "classify called\n",
      "classify called\n",
      "classify called\n",
      "classify called\n",
      "classify called\n",
      "classify called\n",
      "classify called\n",
      "classify called\n",
      "classify called\n",
      "classify called\n"
     ]
    },
    {
     "name": "stderr",
     "output_type": "stream",
     "text": [
      "10.0.2.2 - - [21/Aug/2016 18:27:53] \"GET /classify?name=[%ED%85%90%EB%B0%94%EC%9D%B4%ED%85%90]%20%EC%97%91%ED%86%A0%20%EB%B3%B4%EB%85%B8%ED%97%A4%EB%93%9C%EC%85%8B%20bks-56&img=http://shopping.phinf.naver.net/main_6922433/6922433021.jpg HTTP/1.1\" 200 107\n",
      "10.0.2.2 - - [21/Aug/2016 18:27:53] \"GET /classify?name=%EC%82%BC%EC%84%B1%EC%A0%84%EC%9E%90%20SHS-300BT%20%ED%94%84%EB%A6%AC%EB%AF%B8%EC%97%84%20%ED%97%A4%EB%93%9C%EC%85%8B/%EA%B3%A0%EA%B0%90%EB%8F%84%EB%A7%88%EC%9D%B4%ED%81%AC/%EB%A6%AC%EB%AA%A8%EC%BD%98/%EC%9A%B0%EC%88%98%ED%95%9C%EC%B0%A9%EC%9A%A9%EA%B0%90/%EA%B2%8C%EC%9E%84%EC%9A%A9/%EC%9D%B8%ED%84%B0%EB%84%B7%ED%86%B5%ED%99%94/%EC%9D%8C%EC%84%B1%EC%B1%84%ED%8C%85/%EC%98%81%ED%99%94%EA%B0%90%EC%83%81/%EC%9D%8C%EC%95%85%EA%B0%90%EC%83%81&img=http://shopping.phinf.naver.net/main_7217633/7217633107.jpg HTTP/1.1\" 200 107\n",
      "10.0.2.2 - - [21/Aug/2016 18:27:53] \"GET /classify?name=[5%%EC%A6%89%EC%8B%9C%ED%95%A0%EC%9D%B8%EC%BF%A0%ED%8F%B0]%ED%80%98%EC%9D%B4%ED%81%AC%20%EA%B2%8C%EC%9D%B4%EB%B0%8D%20%ED%97%A4%EB%93%9C%EC%85%8B%20(USB%EC%97%B0%EA%B2%B0)[%EB%AC%B4%EB%A3%8C%EB%B0%B0%EC%86%A1]/%20%EB%B0%94%EB%B3%B4%EC%82%AC%EB%9E%91&img=http://shopping.phinf.naver.net/main_7933645/7933645332.jpg HTTP/1.1\" 200 107\n",
      "10.0.2.2 - - [21/Aug/2016 18:27:53] \"GET /classify?name=%EC%97%91%ED%86%A0%20BKS-65%20%ED%97%A4%EB%93%9C%EC%85%8B&img=http://shopping.phinf.naver.net/main_8229134/8229134371.jpg HTTP/1.1\" 200 107\n",
      "10.0.2.2 - - [21/Aug/2016 18:27:53] \"GET /classify?name=%EB%B0%94%EB%B3%B4%EC%82%AC%EB%9E%91[%EC%B1%94%ED%94%84]DDZONE%20%ED%97%A4%EB%93%9C%EC%85%8B%20DH-700V%20(%ED%95%91%ED%81%AC)[%EB%AC%B4%EB%A3%8C%EB%B0%B0%EC%86%A1][%ED%97%A4%EB%93%9C%EC%85%8B,%EB%94%94%EB%94%94%EC%A1%B4]&img=http://shopping.phinf.naver.net/main_6826436/6826436627.jpg HTTP/1.1\" 200 107\n",
      "10.0.2.2 - - [21/Aug/2016 18:27:53] \"GET /classify?name=(1%%EC%9D%B8%ED%95%98)%20%EC%97%91%ED%86%A0%20%EC%8A%A4%EC%9C%84%ED%8A%B8%20%ED%97%A4%EB%93%9C%EC%85%8B%20BKS-32%20%EB%8B%A4%EC%A1%B0%EC%95%84%EC%8A%A4%20%ED%99%A9%EA%B8%88%EA%B3%B3%EA%B0%84&img=http://shopping.phinf.naver.net/main_8130630/8130630532.jpg HTTP/1.1\" 200 107\n",
      "10.0.2.2 - - [21/Aug/2016 18:27:53] \"GET /classify?name=[%ED%98%84%EB%8C%80%EC%B9%B4%EB%93%9C%205%%ED%95%A0%EC%9D%B8,%203/15]%EB%A1%9C%EC%A7%80%ED%85%8D%20G430%20(7.1%EB%8F%8C%EB%B9%84%20%EC%9C%A0%EC%84%A0%20%EA%B2%8C%EC%9D%B4%EB%B0%8D%20%ED%97%A4%EB%93%9C%EC%85%8B)&img=http://shopping.phinf.naver.net/main_7714025/7714025789.jpg HTTP/1.1\" 200 107\n",
      "10.0.2.2 - - [21/Aug/2016 18:27:53] \"GET /classify?name=[%EB%8B%B9%EC%9D%BC%EB%B0%B0%EC%86%A1]%20[%EC%82%BC%EC%84%B1%EC%A0%84%EC%9E%90]SHS-L600%20PC/%EC%8A%A4%EB%A7%88%ED%8A%B8%ED%8F%B0%20%EA%B2%B8%EC%9A%A9%20%EC%8A%A4%ED%85%8C%EB%A0%88%EC%98%A4%20%ED%97%A4%EB%93%9C%ED%8F%B0/%ED%97%A4%EB%93%9C%EC%85%8B/%ED%95%B8%EC%A6%88%ED%94%84%EB%A6%AC/%EB%A7%88%EC%9D%B4%ED%81%AC%20%EC%BC%80%EC%9D%B4%EB%B8%94%20%EB%B6%84%EB%A6%AC%ED%98%95&img=http://shopping.phinf.naver.net/main_6689473/6689473035.jpg HTTP/1.1\" 200 107\n",
      "10.0.2.2 - - [21/Aug/2016 18:27:53] \"GET /classify?name=[%EB%AC%B4%EB%A3%8C%EB%B0%B0%EC%86%A1]%EC%82%BC%EC%84%B1%20SHS-L600%20%EC%8A%A4%ED%85%8C%EB%A0%88%EC%98%A4%ED%97%A4%EB%93%9C%EC%85%8B/%ED%97%A4%EB%93%9C%ED%8F%B0/PC%20%EC%8A%A4%EB%A7%88%ED%8A%B8%ED%8F%B0%EA%B2%B8%EC%9A%A9/%EB%A7%88%EC%9D%B4%ED%81%AC%EB%B6%84%EB%A6%AC%ED%98%95/%EC%BC%80%EC%9D%B4%EB%B8%94%EB%B6%84%EB%A6%AC%ED%98%95/%EA%B3%A0%EC%84%B1%EB%8A%A5(Gaon)&img=http://shopping.phinf.naver.net/main_7542053/7542053051.jpg HTTP/1.1\" 200 107\n",
      "10.0.2.2 - - [21/Aug/2016 18:27:53] \"GET /classify?name=%EC%82%BC%EC%84%B1%EC%A0%84%EC%9E%90%20SHS-L600%20%ED%97%A4%EB%93%9C%EB%B0%B4%EB%93%9C/%ED%97%A4%EB%93%9C%ED%8F%B0/%EB%B3%BC%EB%A5%A8%EC%A1%B0%EC%A0%88/%EC%8A%A4%EB%A7%88%ED%8A%B8%ED%8F%B0%20%EA%B2%B8%EC%9A%A9%20%ED%97%A4%EB%93%9C%EC%85%8B&img=http://shopping.phinf.naver.net/main_6772072/6772072888.jpg HTTP/1.1\" 200 107\n",
      "10.0.2.2 - - [21/Aug/2016 18:27:53] \"GET /classify?name=[4%%EC%A6%89%EC%8B%9C%ED%95%A0%EC%9D%B8%EC%BF%A0%ED%8F%B0]%EC%82%BC%EC%84%B1%EC%A0%84%EC%9E%90%20[%EB%8B%B9%EC%9D%BC%EC%B4%9D%EC%95%8C%EC%B6%9C%EA%B3%A0]%EC%82%BC%EC%84%B1%EC%A0%84%EC%9E%90%E6%AD%A3%E5%93%81%20SHS-L600%20PC%20%EC%8A%A4%EB%A7%88%ED%8A%B8%ED%8F%B0%EA%B2%B8%EC%9A%A9/%EC%8A%A4%ED%85%8C%EB%A0%88%EC%98%A4%20%ED%97%A4%EB%93%9C%ED%8F%B0/%ED%97%A4%EB%93%9C%EC%85%8B/%ED%95%B8%EC%A6%88%ED%94%84%EB%A6%AC/%EB%A7%88%EC%9D%B4%ED%81%AC%EC%BC%80%EC%9D%B4%EB%B8%94%EB%B6%84%EB%A6%AC%20%EB%8B%B9%EC%9D%BC%EC%B4%9D%EC%95%8C%EC%B6%9C%EA%B3%A0%20%EC%82%BC%EC%84%B1%EC%A0%84%EC%9E%90%EC%A0%95%ED%92%88&img=http://shopping.phinf.naver.net/main_6669616/6669616823.jpg HTTP/1.1\" 200 107\n",
      "10.0.2.2 - - [21/Aug/2016 18:27:53] \"GET /classify?name=[%ED%95%B4%EC%99%B8]%20Plantronics%20Plantronics%20GameCom%20388%20Gaming%20Stereo%20Headset%20-%20Compatible%20with%20PC&img=http://shopping.phinf.naver.net/main_8210158/8210158392.jpg HTTP/1.1\" 200 124\n",
      "10.0.2.2 - - [21/Aug/2016 18:27:53] \"GET /classify?name=%EA%B2%8C%EC%9D%B4%EB%B0%8D%20%ED%97%A4%EB%93%9C%EC%85%8B%20GameCom%20388%20/%20GameCom%20380%EC%9D%98%20%ED%9B%84%EC%86%8D%EC%9E%91&img=http://shopping.phinf.naver.net/main_8255760/8255760300.jpg HTTP/1.1\" 200 107\n",
      "10.0.2.2 - - [21/Aug/2016 18:27:53] \"GET /classify?name=[4%%EC%A6%89%EC%8B%9C%ED%95%A0%EC%9D%B8%EC%BF%A0%ED%8F%B0]%20Logitech%20%20H540%20%EC%9C%A0%EC%84%A0%20%ED%97%A4%EB%93%9C%EC%85%8B&img=http://shopping.phinf.naver.net/main_7882009/7882009051.jpg HTTP/1.1\" 200 107\n",
      "10.0.2.2 - - [21/Aug/2016 18:27:53] \"GET /classify?name=%EB%A1%9C%EC%A7%80%ED%85%8D%20[Logitech]%20%EB%A1%9C%EC%A7%80%ED%85%8D%20%EC%BD%94%EB%A6%AC%EC%95%84%20H540%20%EC%9C%A0%EC%84%A0%20%ED%97%A4%EB%93%9C%EC%85%8B&img=http://shopping.phinf.naver.net/main_7648279/7648279860.jpg HTTP/1.1\" 200 107\n",
      "10.0.2.2 - - [21/Aug/2016 18:27:53] \"GET /classify?name=[AK%EB%AA%B0][Logitech]%20%EB%A1%9C%EC%A7%80%ED%85%8D%20%EC%BD%94%EB%A6%AC%EC%95%84%20H540%20%EC%9C%A0%EC%84%A0%20%ED%97%A4%EB%93%9C%EC%85%8B&img=http://shopping.phinf.naver.net/main_7690032/7690032350.1.jpg HTTP/1.1\" 200 107\n"
     ]
    },
    {
     "name": "stdout",
     "output_type": "stream",
     "text": [
      "classify called\n",
      "classify called\n",
      "classify called\n",
      "classify called\n",
      "classify called\n",
      "classify called\n",
      "classify called\n",
      "classify called\n",
      "classify called\n",
      "classify called\n",
      "classify called\n",
      "classify called\n",
      "classify called\n",
      "classify called\n",
      "classify called\n",
      "classify called\n",
      "classify called\n"
     ]
    },
    {
     "name": "stderr",
     "output_type": "stream",
     "text": [
      "10.0.2.2 - - [21/Aug/2016 18:27:53] \"GET /classify?name=[4%%EC%A6%89%EC%8B%9C%ED%95%A0%EC%9D%B8%EC%BF%A0%ED%8F%B0]%EB%A1%9C%EC%A7%80%ED%85%8D%20H540%20%EC%A0%95%ED%92%88%20%EA%B3%A0%EA%B8%89%20%EC%9C%A0%EC%84%A0%20USB%20%EA%B2%8C%EC%9D%B4%EB%B0%8D%20%ED%97%A4%EB%93%9C%EC%85%8B&img=http://shopping.phinf.naver.net/main_8258815/8258815185.jpg HTTP/1.1\" 200 107\n",
      "10.0.2.2 - - [21/Aug/2016 18:27:53] \"GET /classify?name=[%EC%95%84%ED%8A%B8%EB%B0%95%EC%8A%A4%20POOM/%EB%91%90%20%EB%94%94%EC%9E%90%EC%9D%B8%20%EC%8A%A4%ED%8A%9C%EB%94%94%EC%98%A4]%20%EB%8D%A9%EA%B5%B4%EC%84%A0%EC%A0%95%EB%A6%AC%EA%B8%B0&img=http://shopping.phinf.naver.net/main_8359639/8359639455.jpg HTTP/1.1\" 200 141\n",
      "10.0.2.2 - - [21/Aug/2016 18:27:53] \"GET /classify?name=[%ED%9B%84%EC%B6%94%ED%86%B5(%ED%82%A4%EB%8D%9C%ED%8A%B8,%EC%B7%A8%EB%AF%B8)]%20%ED%9E%90%EB%A7%81%EC%89%B4%EB%93%9C%20%EC%BD%94%EC%9B%90%20G7%20%EC%99%B8%EB%B6%80%EB%B3%B4%ED%98%B8%ED%95%84%EB%A6%84%202%EB%A7%A4(%EC%83%81%ED%8C%90%201%EB%A7%A4/%ED%95%98%ED%8C%90_P014803609&img=http://shopping.phinf.naver.net/main_7576786/7576786997.jpg HTTP/1.1\" 200 104\n",
      "10.0.2.2 - - [21/Aug/2016 18:27:53] \"GET /classify?name=[%ED%9B%84%EC%B6%94%ED%86%B5(%ED%82%A4%EB%8D%9C%ED%8A%B8,%EC%B7%A8%EB%AF%B8)]%20%ED%9E%90%EB%A7%81%EC%89%B4%EB%93%9C%20%EC%BD%94%EC%9B%90%20R7%20%EC%99%B8%EB%B6%80%EB%B3%B4%ED%98%B8%ED%95%84%EB%A6%84%202%EB%A7%A4(%EC%83%81%ED%8C%90%201%EB%A7%A4/%ED%95%98%ED%8C%90_P014803661&img=http://shopping.phinf.naver.net/main_7576779/7576779247.jpg HTTP/1.1\" 200 104\n",
      "10.0.2.2 - - [21/Aug/2016 18:27:53] \"GET /classify?name=[%EB%B0%94%EB%B3%B4%EC%82%AC%EB%9E%91/%EB%B0%94%EB%B3%B4%EC%82%AC%EB%9E%91]%20[%ED%8E%98%EC%9D%B4%ED%81%AC%EB%B6%81]%EB%A1%9C%EC%8A%A4%ED%9C%A0%20%EB%A9%80%ED%8B%B0%20%EB%B0%94%EC%9D%B4%ED%81%AC%EB%B0%B1(5640052)&img=http://shopping.phinf.naver.net/main_7684289/7684289472.jpg HTTP/1.1\" 200 104\n",
      "10.0.2.2 - - [21/Aug/2016 18:27:53] \"GET /classify?name=[14%%20%EC%A6%89%EC%8B%9C%ED%95%A0%EC%9D%B8]%ED%9B%84%EC%B6%94%ED%86%B5_%20ahha%202in1%20%EC%9C%A0%EC%8B%AC%ED%82%A4%ED%8A%B8%20%ED%9C%B4%EB%8C%80%EC%9A%A9%20%EA%B0%81%EB%8F%84%EC%A1%B0%EC%A0%88%20%EC%8A%A4%ED%83%A0%EB%93%9C-SIMKIT&img=http://shopping.phinf.naver.net/main_8341038/8341038380.jpg HTTP/1.1\" 200 98\n",
      "10.0.2.2 - - [21/Aug/2016 18:27:53] \"GET /classify?name=[5%%EC%A6%89%EC%8B%9C%ED%95%A0%EC%9D%B8%EC%BF%A0%ED%8F%B0]%EB%B0%94%EB%B3%B4%EC%82%AC%EB%9E%91%20%EB%9D%BC%EB%B9%84%EB%98%90%20iphone%206%20lnlayer%20set%2010%20text%20set%203%20(%EC%BC%80%EC%9D%B4%EC%8A%A4%EB%B3%84%EB%8F%84)&img=http://shopping.phinf.naver.net/main_8362387/8362387489.jpg HTTP/1.1\" 200 104\n",
      "10.0.2.2 - - [21/Aug/2016 18:27:53] \"GET /classify?name=[%ED%95%98%ED%94%84%ED%81%B4%EB%9F%BD/%ED%9B%84%EC%B6%94%ED%86%B5(%ED%82%A4%EB%8D%9C%ED%8A%B8,%EC%B7%A8%EB%AF%B8)]COMS%20%EB%AA%A8%EB%8B%88%ED%84%B0%EB%B0%9B%EC%B9%A8%EB%8C%80%20%ED%95%9C%EB%8F%85%20%EA%B0%95%ED%99%94%EC%9C%A0%EB%A6%AC%20KH-100&img=http://shopping.phinf.naver.net/main_7365004/7365004979.jpg HTTP/1.1\" 200 104\n",
      "10.0.2.2 - - [21/Aug/2016 18:27:53] \"GET /classify?name=[%ED%9B%84%EC%B6%94%ED%86%B5(%ED%82%A4%EB%8D%9C%ED%8A%B8,%EC%B7%A8%EB%AF%B8)]%20%EC%BB%AC%EB%9F%AC%20%EB%B2%94%ED%8D%BC%20%EB%B7%B0%20%EC%BC%80%EC%9D%B4%EC%8A%A4%20(%EA%B0%A4%EB%9F%AD%EC%8B%9C%EB%85%B8%ED%8A%B82)_P016081249&img=http://shopping.phinf.naver.net/main_7746260/7746260208.jpg HTTP/1.1\" 200 104\n",
      "10.0.2.2 - - [21/Aug/2016 18:27:53] \"GET /classify?name=[%ED%9B%84%EC%B6%94%ED%86%B5][%ED%9B%84%EC%B6%94%ED%86%B5][%EC%BC%80%EC%9D%B4%EC%8A%A4%EB%A7%88%ED%8A%B8]%EC%9D%B4%EC%96%B4%ED%8F%B0%20%EC%BB%A4%ED%94%8C%20%EC%A0%A0%EB%8D%94&img=http://shopping.phinf.naver.net/main_6806591/6806591623.1.jpg HTTP/1.1\" 200 141\n",
      "10.0.2.2 - - [21/Aug/2016 18:27:53] \"GET /classify?name=[1+1](PCD2712)[SP154]%20Coms%20%EC%BC%80%EC%9D%B4%EC%8A%A4-%20%EB%8B%A4%EC%9A%A9%EB%8F%84%20%ED%8F%AC%EC%BC%93%20Blue%20%EC%86%8C%ED%98%95%20%EB%94%94%EC%A7%80%ED%84%B8%EA%B8%B0%EA%B8%B0&img=http://shopping.phinf.naver.net/main_8179419/8179419462.jpg HTTP/1.1\" 200 104\n",
      "10.0.2.2 - - [21/Aug/2016 18:27:53] \"GET /classify?name=LG%20%ED%83%AD%EB%B6%81%20%EB%B2%A0%EC%9D%B4%ED%8A%B8%EB%A0%88%EC%9D%BC%2011T540%20%EC%99%B8%EB%B6%80%EB%B3%B4%ED%98%B8%ED%95%84%EB%A6%84%202%EB%A7%A4%EC%9E%85&img=http://shopping.phinf.naver.net/main_8376070/8376070118.jpg HTTP/1.1\" 200 104\n",
      "10.0.2.2 - - [21/Aug/2016 18:27:53] \"GET /classify?name=[%ED%95%98%ED%94%84%ED%81%B4%EB%9F%BD/%ED%9B%84%EC%B6%94%ED%86%B5(%ED%82%A4%EB%8D%9C%ED%8A%B8%20%EC%B7%A8%EB%AF%B8)]%ED%99%94%EC%9B%A8%EC%9D%B4%20%EC%95%84%EB%84%886%20%EB%B8%94%EB%A3%A8%EB%9D%BC%EC%9D%B4%ED%8A%B8%EC%B0%A8%EB%8B%A8%20%EC%8B%9C%EB%A0%A5(%EA%B1%B4%EA%B0%95)%EB%B3%B4%ED%98%B8%ED%95%84%EB%A6%84%202%EB%A7%A4&img=http://shopping.phinf.naver.net/main_8364597/8364597919.jpg HTTP/1.1\" 200 104\n",
      "10.0.2.2 - - [21/Aug/2016 18:27:53] \"GET /classify?name=DA-MULTI%20CLIPS(6%EC%83%89)%20%EB%8B%A4%EB%AA%A9%EC%A0%81%20%EB%A9%80%ED%8B%B0%20%ED%99%80%EB%8D%94[%EB%8B%B9%EC%9D%BC%EC%B6%9C%EA%B3%A0(%EC%98%A4%EB%8A%98%EC%B6%9C%EB%B0%9C)]&img=http://shopping.phinf.naver.net/main_8284010/8284010628.jpg HTTP/1.1\" 200 104\n",
      "10.0.2.2 - - [21/Aug/2016 18:27:53] \"GET /classify?name=[%ED%9B%84%EC%B6%94%ED%86%B5-%ED%9E%90%EB%A7%81%EC%89%B4%EB%93%9C][%ED%8F%B0%ED%8A%B8%EB%A6%AC]%ED%9E%90%EB%A7%81%EC%89%B4%EB%93%9C%20LG%20U460%20%EB%B8%94%EB%A3%A8%EB%9D%BC%EC%9D%B4%ED%8A%B8%EC%B0%A8%EB%8B%A8%20%EA%B1%B4%EA%B0%95(%EC%8B%9C%EB%A0%A5)%EB%B3%B4%ED%98%B8%ED%95%84%EB%A6%84&img=http://shopping.phinf.naver.net/main_8280737/8280737354.jpg HTTP/1.1\" 200 104\n",
      "10.0.2.2 - - [21/Aug/2016 18:27:53] \"GET /classify?name=%EB%AC%B8%EA%B5%AC%EC%9A%A9%ED%92%88%20%EC%95%A1%ED%86%A0%EC%A3%BC%EC%8B%9D%ED%9A%8C%EC%82%AC%EC%97%91%ED%86%A0%20%EC%BD%A9%EC%8A%A4%ED%86%A0%EC%96%B4&img=http://shopping.phinf.naver.net/main_8277087/8277087508.jpg HTTP/1.1\" 200 104\n",
      "10.0.2.2 - - [21/Aug/2016 18:27:53] \"GET /classify?name=[14%%20%EC%A6%89%EC%8B%9C%ED%95%A0%EC%9D%B8]%ED%9B%84%EC%B6%94%ED%86%B5_%20%EC%B6%A9%EC%A0%84%20%EC%BB%B5%ED%99%80%EB%8D%94%20CA00-C101&img=http://shopping.phinf.naver.net/main_8233788/8233788337.jpg HTTP/1.1\" 200 104\n"
     ]
    },
    {
     "name": "stdout",
     "output_type": "stream",
     "text": [
      "classify called\n",
      "classify called\n",
      "classify called\n",
      "classify called\n",
      "classify called\n",
      "classify called\n",
      "classify called\n",
      "classify called\n",
      "classify called\n",
      "classify called\n",
      "classify called\n",
      "classify called\n",
      "classify called\n",
      "classify called\n",
      "classify called\n",
      "classify called\n"
     ]
    },
    {
     "name": "stderr",
     "output_type": "stream",
     "text": [
      "10.0.2.2 - - [21/Aug/2016 18:27:53] \"GET /classify?name=%EB%AC%B4%EB%A3%8C%EB%B0%B0%EC%86%A1-%20(%ED%98%B8%ED%99%98)%20(%EB%B8%8C%EB%9D%BC%EB%8D%94%20%EB%9D%BC%EB%B2%A8%ED%85%8C%EC%9D%B4%ED%94%84)%20TZ-325%20(9mm%20%EA%B2%80%EC%A0%95%EB%B0%94%ED%83%95%20%ED%9D%B0%EC%83%89%EA%B8%80%EC%94%A8)%20(PT-1100K%201280%202430%202700%209500%2097&img=http://shopping.phinf.naver.net/main_8240645/8240645078.jpg HTTP/1.1\" 200 104\n",
      "10.0.2.2 - - [21/Aug/2016 18:27:53] \"GET /classify?name=%EB%AC%B4%EB%A3%8C%EB%B0%B0%EC%86%A1-%20(%ED%98%B8%ED%99%98)%20(%EB%B8%8C%EB%9D%BC%EB%8D%94%20%EB%9D%BC%EB%B2%A8%ED%85%8C%EC%9D%B4%ED%94%84)%20TZ-M931%20(12mm%20%EC%9D%80%EC%83%89%EB%B0%94%ED%83%95%20%EA%B2%80%EC%A0%95%EA%B8%80%EC%94%A8)%20(PT-2430%202700%209500%209700%209800PC&img=http://shopping.phinf.naver.net/main_8240644/8240644079.jpg HTTP/1.1\" 200 104\n",
      "10.0.2.2 - - [21/Aug/2016 18:27:53] \"GET /classify?name=3M%20%ED%99%94%EC%A7%80%EC%96%91%EB%A9%B4%ED%85%8C%EC%9D%B4%ED%94%84%2015mm%20x%2050M%20%EB%B0%98%ED%88%AC%EB%AA%85%20%EB%B0%B1%EC%83%89%EC%9D%98%20%EC%96%87%EC%9D%80%203M%20%EC%A0%95%ED%92%88%20%EC%96%91%EB%A9%B4%ED%85%8C%EC%9D%B4%ED%94%84&img=http://shopping.phinf.naver.net/main_8263169/8263169133.jpg HTTP/1.1\" 200 79\n",
      "10.0.2.2 - - [21/Aug/2016 18:27:53] \"GET /classify?name=[14%%20%EC%A6%89%EC%8B%9C%ED%95%A0%EC%9D%B8]%ED%9B%84%EC%B6%94%ED%86%B5_%20Varie%20%20%EB%B0%94%EB%A6%AC%EC%97%90%20%ED%8C%8C%EC%8A%A4%ED%85%94%EC%BB%AC%EB%9F%AC%20%EC%9D%B4%EC%96%B4%ED%8F%B0%20VES-101&img=http://shopping.phinf.naver.net/main_8231873/8231873910.jpg HTTP/1.1\" 200 104\n",
      "10.0.2.2 - - [21/Aug/2016 18:27:53] \"GET /classify?name=[5%%EC%A6%89%EC%8B%9C%ED%95%A0%EC%9D%B8%EC%BF%A0%ED%8F%B0]%EC%98%B5%ED%8B%B0%EB%A8%B8%EC%8A%A4G%ED%94%84%EB%A1%9C%20%EB%9F%AC%EB%B8%94%EB%A6%AC%20%ED%94%8C%EB%9D%BC%EC%9B%8C%20F240%20Case%20%EB%B9%A0%EB%A5%B8%20%EB%B0%B0%EC%86%A1%EC%9D%84%20%EC%9C%84%ED%95%B4%20%EB%85%B8%EB%A0%A5%ED%95%98%EA%B2%A0%EC%8A%B5%EB%8B%88%EB%8B%A4.&img=http://shopping.phinf.naver.net/main_8261406/8261406688.jpg HTTP/1.1\" 200 91\n",
      "10.0.2.2 - - [21/Aug/2016 18:27:54] \"GET /classify?name=(SS-HD-20)%20(%EC%8B%A0%ED%98%95%EC%84%9D%EC%85%98.%EC%A3%BC%EC%9E%85%ED%99%80%EB%8D%94)%20%EC%82%BC%EC%84%B1%20M10.%EC%8B%A0%EB%8F%84%EB%A6%AC%EC%BD%94IF88(2%EA%B0%9C)&img=http://shopping.phinf.naver.net/main_8266022/8266022481.jpg HTTP/1.1\" 200 93\n",
      "10.0.2.2 - - [21/Aug/2016 18:27:54] \"GET /classify?name=DDZONE%20%EB%AA%A8%EB%8B%88%ED%84%B0%20%EB%A9%94%EB%AA%A8%EB%B3%B4%EB%93%9C%20%EC%9A%B0%EC%B8%A1%EB%B6%80%EC%B0%A9%EC%9A%A9%2045cm%20%EC%82%AC%EB%AC%B4%EC%8B%A4%20%EA%B0%80%EC%A0%95%20%EC%BB%B4%ED%93%A8%ED%84%B0%20%EB%A9%94%EB%AA%A8%EC%A7%80%20%EB%B6%80%EC%B0%A9&img=http://shopping.phinf.naver.net/main_8277468/8277468329.jpg HTTP/1.1\" 200 141\n",
      "10.0.2.2 - - [21/Aug/2016 18:27:54] \"GET /classify?name=[PCD][SP127]%20Coms%20%EA%B1%B4%EC%A0%84%EC%A7%80%20%ED%99%80%EB%8D%94,%20AA-3EA&img=http://shopping.phinf.naver.net/main_8268813/8268813828.jpg HTTP/1.1\" 200 104\n",
      "10.0.2.2 - - [21/Aug/2016 18:27:54] \"GET /classify?name=%EB%B0%B0%EC%86%A1%EB%AC%B4%EB%A3%8C-%20(%ED%98%B8%ED%99%98)%20(%EB%B8%8C%EB%9D%BC%EB%8D%94%20%EB%9D%BC%EB%B2%A8%ED%85%8C%EC%9D%B4%ED%94%84)%20TZ-B31%20(12mm%20%ED%98%95%EA%B4%91%EC%98%A4%EB%A0%8C%EC%A7%80%EB%B0%94%ED%83%95%20%EA%B2%80%EC%A0%95%EA%B8%80%EC%94%A8)%20(PT-1100K%2012802430%202700&img=http://shopping.phinf.naver.net/main_8245062/8245062944.jpg HTTP/1.1\" 200 104\n",
      "10.0.2.2 - - [21/Aug/2016 18:27:54] \"GET /classify?name=%EB%AC%B4%EB%A3%8C%EB%B0%B0%EC%86%A1-%20(%EB%B3%B5%EC%82%AC%EA%B8%B0)(%EB%B8%8C%EB%A0%88%EC%9D%B4%EB%93%9C)%EC%8B%A0%EB%8F%84%EB%A6%AC%EC%BD%94%20Aficio1015%202015%20270&img=http://shopping.phinf.naver.net/main_8219211/8219211620.jpg HTTP/1.1\" 200 104\n",
      "10.0.2.2 - - [21/Aug/2016 18:27:54] \"GET /classify?name=[4%%EC%A6%89%EC%8B%9C%ED%95%A0%EC%9D%B8%EC%BF%A0%ED%8F%B0]GP500%20%20Coms%20%EA%B3%A8%EB%93%A0%ED%8C%8C%EC%9B%8C(GP)%EC%95%8C%EC%B9%B4%EB%9D%BC%EC%9D%B8%20%EA%B1%B4%EC%A0%84%EC%A7%80%20AAA%20%EC%82%AC%EC%9D%B4&img=http://shopping.phinf.naver.net/main_8265538/8265538876.jpg HTTP/1.1\" 200 104\n",
      "10.0.2.2 - - [21/Aug/2016 18:27:54] \"GET /classify?name=[4%%EC%A6%89%EC%8B%9C%ED%95%A0%EC%9D%B8%EC%BF%A0%ED%8F%B0]GP209%20%20Coms%20%EA%B3%A8%EB%93%A0%ED%8C%8C%EC%9B%8C(GP)%EC%95%8C%EC%B9%B4%EB%9D%BC%EC%9D%B8%20%EA%B1%B4%EC%A0%84%EC%A7%80%20AAA%EC%82%AC%EC%9D%B4&img=http://shopping.phinf.naver.net/main_8265640/8265640037.jpg HTTP/1.1\" 200 104\n",
      "10.0.2.2 - - [21/Aug/2016 18:27:54] \"GET /classify?name=[5%%EC%A6%89%EC%8B%9C%ED%95%A0%EC%9D%B8%EC%BF%A0%ED%8F%B0]DAMOIL%20%20DA-MULTI%20CLIPS2(2%EA%B5%AC%206%EC%83%89)%20%EB%B9%A0%EB%A5%B8%EB%B0%B0%EC%86%A1/%EB%8B%B9%EC%9D%BC%EC%B6%9C%EA%B3%A0&img=http://shopping.phinf.naver.net/main_8240790/8240790482.jpg HTTP/1.1\" 200 141\n",
      "10.0.2.2 - - [21/Aug/2016 18:27:54] \"GET /classify?name=[4%%EC%A6%89%EC%8B%9C%ED%95%A0%EC%9D%B8%EC%BF%A0%ED%8F%B0]Coms%20%EC%BC%80%EC%9D%B4%EC%8A%A4-%20%EB%8B%A4%EC%9A%A9%EB%8F%84%20%ED%8F%AC%EC%BC%93/Black%20%20%EC%86%8C%ED%98%95%20%EB%94%94%EC%A7%80%ED%84%B8%EA%B8%B0%EA%B8%B0%20(S&img=http://shopping.phinf.naver.net/main_8266359/8266359158.jpg HTTP/1.1\" 200 104\n"
     ]
    },
    {
     "name": "stdout",
     "output_type": "stream",
     "text": [
      "classify called\n",
      "classify called\n",
      "classify called\n",
      "classify called\n",
      "classify called\n",
      "classify called\n",
      "classify called\n",
      "classify called\n",
      "classify called\n",
      "classify called\n",
      "classify called\n",
      "classify called\n",
      "classify called\n",
      "classify called\n"
     ]
    },
    {
     "name": "stderr",
     "output_type": "stream",
     "text": [
      "10.0.2.2 - - [21/Aug/2016 18:27:54] \"GET /classify?name=[410599]%20LCD%EC%A0%84%EC%9A%A9%EC%B9%B4%ED%94%BC%ED%99%80%EB%8D%94CH632&img=http://shopping.phinf.naver.net/main_8219747/8219747571.jpg HTTP/1.1\" 200 87\n",
      "10.0.2.2 - - [21/Aug/2016 18:27:54] \"GET /classify?name=3M%20%EB%AA%A8%EB%8B%88%ED%84%B0%EB%B6%80%EC%B0%A9%ED%98%95%20%EB%A9%94%EB%AA%A8%EB%B3%B4%EB%93%9C&img=http://shopping.phinf.naver.net/main_8229985/8229985413.jpg HTTP/1.1\" 200 91\n",
      "10.0.2.2 - - [21/Aug/2016 18:27:54] \"GET /classify?name=%EB%B0%94%EB%B3%B4%EC%82%AC%EB%9E%91[3M]3M%20%EC%BD%94%EB%A7%A8%EB%93%9C%20%ED%88%AC%EB%AA%85%20%EC%A0%84%EC%84%A0%EC%A0%95%EB%A6%AC%EC%9A%A9%20%ED%94%8C%EB%9E%AB%ED%81%B4%EB%A6%BD%204%EC%9E%85[%EB%AC%B4%EB%A3%8C%EB%B0%B0%EC%86%A1]&img=http://shopping.phinf.naver.net/main_8276555/8276555905.jpg HTTP/1.1\" 200 104\n",
      "10.0.2.2 - - [21/Aug/2016 18:27:54] \"GET /classify?name=%EB%AC%B4%EB%A3%8C%EB%B0%B0%EC%86%A1-%20CISS-A-65%20%EB%AC%B4%ED%95%9C%EA%B3%B5%EA%B8%89%EA%B8%B0%20%EC%B9%A9%EC%97%86%EC%9D%8C%20%EB%AC%B4%EC%84%A0%EA%B3%B5%EA%B8%89%EA%B8%B0%20%EB%B8%8C%EB%9D%BC%EB%8D%94%20J2510%20J2310%20J3720%20J3520%20-%EC%83%81%EC%84%B8%EC%84%A4%EB%AA%85%EC%88%99%EC%A7%80%EC%9A%94%EB%A7%9D&img=http://shopping.phinf.naver.net/main_8243154/8243154151.jpg HTTP/1.1\" 200 105\n",
      "10.0.2.2 - - [21/Aug/2016 18:27:54] \"GET /classify?name=[AK%EB%AA%B0/%EB%B0%94%EB%B3%B4%EC%82%AC%EB%9E%91]%20%20[%EB%B0%94%EB%B3%B4%EC%82%AC%EB%9E%91]3M%20%EC%BD%94%EB%A7%A8%EB%93%9C%20%EC%A0%84%EC%84%A0%EC%A0%95%EB%A6%AC%EC%9A%A9%20%ED%81%B4%EB%A6%BD%202%EC%9E%85_%EB%B2%88%EB%93%A4&img=http://shopping.phinf.naver.net/main_8280066/8280066281.jpg HTTP/1.1\" 200 104\n",
      "10.0.2.2 - - [21/Aug/2016 18:27:54] \"GET /classify?name=AAx1EA%202%EC%84%A0%EC%A0%84%EC%9B%90%20%EA%B1%B4%EC%A0%84%EC%A7%80%20%ED%99%80%EB%8D%94[%EC%A2%8B%EC%9D%80%EC%A0%9C%ED%92%88%20%EC%A0%95%EC%84%B1%EB%B0%B0%EC%86%A1]&img=http://shopping.phinf.naver.net/main_8280292/8280292561.jpg HTTP/1.1\" 200 104\n",
      "10.0.2.2 - - [21/Aug/2016 18:27:54] \"GET /classify?name=AAx1EA%202%EC%84%A0%EC%A0%84%EC%9B%90%20%EA%B1%B4%EC%A0%84%EC%A7%80%20%ED%99%80%EB%8D%94[%EC%A2%8B%EC%9D%80%EC%A0%9C%ED%92%88%20%EC%A0%95%EC%84%B1%EB%B0%B0%EC%86%A1]&img=http://shopping.phinf.naver.net/main_8280099/8280099639.jpg HTTP/1.1\" 200 104\n",
      "10.0.2.2 - - [21/Aug/2016 18:27:54] \"GET /classify?name=%EC%82%AC%EB%AC%B4%EC%9A%A9%ED%92%88%20%EC%A3%BC%EC%8B%9D%ED%9A%8C%EC%82%AC%EC%97%91%ED%86%A0%20%EC%BD%A9%EC%8A%A4%ED%86%A0%EC%96%B4&img=http://shopping.phinf.naver.net/main_8277086/8277086358.jpg HTTP/1.1\" 200 104\n",
      "10.0.2.2 - - [21/Aug/2016 18:27:54] \"GET /classify?name=%EB%AC%B8%EA%B5%AC%EC%9A%A9%ED%92%88%20%EC%9A%94%20%EC%BD%A9%EC%8A%A4%ED%86%A0%EC%96%B4&img=http://shopping.phinf.naver.net/main_8277086/8277086053.jpg HTTP/1.1\" 200 91\n",
      "10.0.2.2 - - [21/Aug/2016 18:27:54] \"GET /classify?name=[%ED%9B%84%EC%B6%94%ED%86%B5-%ED%9E%90%EB%A7%81%EC%89%B4%EB%93%9C]%EB%AA%A8%EB%8B%88%ED%84%B0/%EC%98%AC%EC%9D%B8%EC%9B%90PC%2023%ED%98%95%EC%9E%AC%EB%8B%A8%EC%A3%BC%EB%AC%B8%ED%98%95%20%EC%A0%80%EB%B0%98%EC%82%AC%20%EC%A7%80%EB%AC%B8%EB%B0%A9%EC%A7%80%EC%95%A1%EC%A0%95&img=http://shopping.phinf.naver.net/main_8281671/8281671149.jpg HTTP/1.1\" 200 141\n",
      "10.0.2.2 - - [21/Aug/2016 18:27:54] \"GET /classify?name=[5%%20%EC%A6%89%EC%8B%9C%ED%95%A0%EC%9D%B8]%ED%9B%84%EC%B6%94%ED%86%B5_%20%EB%B9%84%EB%B0%94%EC%B2%B4%EB%B8%8C%EC%9D%B4%EB%8B%A4%EC%9D%B4%EC%96%B4%EB%A6%AC%EC%BC%80%EC%9D%B4%EC%8A%A4-LG%20AKA(F520)&img=http://shopping.phinf.naver.net/main_8281956/8281956395.jpg HTTP/1.1\" 200 68\n",
      "10.0.2.2 - - [21/Aug/2016 18:27:54] \"GET /classify?name=%EB%B0%B0%EC%86%A1%EB%AC%B4%EB%A3%8C-%20%EC%95%84%ED%81%AC%EB%A6%B4%20%EB%AC%B4%ED%95%9C%EA%B3%B5%EA%B8%89%EA%B8%B0%20HP%208000%208500%20200ml&img=http://shopping.phinf.naver.net/main_8241450/8241450469.jpg HTTP/1.1\" 200 104\n",
      "10.0.2.2 - - [21/Aug/2016 18:27:54] \"GET /classify?name=%EB%AC%B8%EA%B5%AC%EC%9A%A9%ED%92%88%20%EC%9A%94%20%EC%BD%A9%EC%8A%A4%ED%86%A0%EC%96%B4&img=http://shopping.phinf.naver.net/main_8268223/8268223302.jpg HTTP/1.1\" 200 91\n",
      "10.0.2.2 - - [21/Aug/2016 18:27:54] \"GET /classify?name=%EB%AC%B8%EA%B5%AC%EC%9A%A9%ED%92%88%20%EC%A3%BC%EC%8B%9D%ED%9A%8C%EC%82%AC%EC%97%91%ED%86%A0%20%EC%BD%A9%EC%8A%A4%ED%86%A0%EC%96%B4&img=http://shopping.phinf.naver.net/main_8268222/8268222875.jpg HTTP/1.1\" 200 104\n",
      "10.0.2.2 - - [21/Aug/2016 18:27:54] \"GET /classify?name=[4%%EC%A6%89%EC%8B%9C%ED%95%A0%EC%9D%B8%EC%BF%A0%ED%8F%B0]DA-MULTI%20CLIPS(6%EC%83%89)/PC%EC%9A%A9/%EC%BB%B4%ED%93%A8%ED%84%B0%EC%9A%A9%ED%92%88/%EC%A3%BC%EB%B3%80%EA%B8%B0%EA%B8%B0/%20PC/&img=http://shopping.phinf.naver.net/main_8260443/8260443934.jpg HTTP/1.1\" 200 104\n",
      "10.0.2.2 - - [21/Aug/2016 18:27:54] \"GET /classify?name=%EC%82%AC%EB%AC%B4%EC%9A%A9%ED%92%88%20%EC%A3%BC%EC%8B%9D%ED%9A%8C%EC%82%AC%EC%97%91%ED%86%A0%20%EC%BD%A9%EC%8A%A4%ED%86%A0%EC%96%B4&img=http://shopping.phinf.naver.net/main_8277085/8277085814.jpg HTTP/1.1\" 200 104\n"
     ]
    },
    {
     "name": "stdout",
     "output_type": "stream",
     "text": [
      "classify called\n",
      "classify called\n",
      "classify called\n",
      "classify called\n",
      "classify called\n",
      "classify called\n",
      "classify called\n",
      "classify called\n",
      "classify called\n",
      "classify called\n",
      "classify called\n",
      "classify called\n",
      "classify called\n",
      "classify called\n",
      "classify called\n",
      "classify called\n"
     ]
    },
    {
     "name": "stderr",
     "output_type": "stream",
     "text": [
      "10.0.2.2 - - [21/Aug/2016 18:27:54] \"GET /classify?name=[5%%EC%A6%89%EC%8B%9C%ED%95%A0%EC%9D%B8%EC%BF%A0%ED%8F%B0]SADES%20%20SA-301%20(%EB%A0%88%EB%93%9C)&img=http://shopping.phinf.naver.net/main_8252928/8252928520.jpg HTTP/1.1\" 200 107\n",
      "10.0.2.2 - - [21/Aug/2016 18:27:54] \"GET /classify?name=[4%%EC%A6%89%EC%8B%9C%ED%95%A0%EC%9D%B8%EC%BF%A0%ED%8F%B0]%EC%A2%8C%EC%9A%B0%EB%B6%80%EC%B0%A9%20360%EB%8F%84%EC%9D%B4%EC%A4%91%ED%9A%8C%EC%A0%84%EC%B6%95%20%EB%AA%A8%EB%8B%88%ED%84%B0%ED%81%B4%EB%A6%BDSPC07GT&img=http://shopping.phinf.naver.net/main_8256500/8256500625.jpg HTTP/1.1\" 200 104\n",
      "10.0.2.2 - - [21/Aug/2016 18:27:54] \"GET /classify?name=%EB%B0%B0%EC%86%A1%EB%AC%B4%EB%A3%8C-%20(%ED%98%B8%ED%99%98)%20(%EB%B8%8C%EB%9D%BC%EB%8D%94%20%EB%9D%BC%EB%B2%A8%ED%85%8C%EC%9D%B4%ED%94%84)%20TZ-221%20(9mm%20%ED%9D%B0%EC%83%89%EB%B0%94%ED%83%95%20%EA%B2%80%EC%A0%95%EA%B8%80%EC%94%A8)%20(PT-1100K%201280%202430%202700%209500%2097&img=http://shopping.phinf.naver.net/main_8245064/8245064747.jpg HTTP/1.1\" 200 104\n",
      "10.0.2.2 - - [21/Aug/2016 18:27:54] \"GET /classify?name=[4%%EC%A6%89%EC%8B%9C%ED%95%A0%EC%9D%B8%EC%BF%A0%ED%8F%B0]%EC%8B%A0%EB%8F%84%EB%A7%A4%EC%9C%A0%ED%86%B5-VGN-UX58%20%EC%86%8C%EB%8B%88%20SONY%20UMPC%20%EC%A0%84%EC%9A%A9%204.5%EC%9D%B8%EC%B9%98%20%EC%95%A1&img=http://shopping.phinf.naver.net/main_8247605/8247605196.jpg HTTP/1.1\" 200 81\n",
      "10.0.2.2 - - [21/Aug/2016 18:27:54] \"GET /classify?name=DC25%20Z1%20%EB%88%84%EB%A6%AC%EC%95%88%20NURIAN%20%ED%95%9C%EB%88%84%EB%A6%AC%EB%B9%84%EC%A6%88%20%EC%A0%84%EC%9A%A9%205%EC%9D%B8%EC%B9%98%20%EC%A0%84%EC%9E%90&img=http://shopping.phinf.naver.net/main_8270238/8270238089.jpg HTTP/1.1\" 200 81\n",
      "10.0.2.2 - - [21/Aug/2016 18:27:54] \"GET /classify?name=[4%%EC%A6%89%EC%8B%9C%ED%95%A0%EC%9D%B8%EC%BF%A0%ED%8F%B0]DC25%20VGN-UX50LN%20%EC%86%8C%EB%8B%88%20SONY%20UMPC%20%EC%A0%84%EC%9A%A9%204.5%EC%9D%B8%EC%B9%98%20%EC%95%A1%EC%A0%95&img=http://shopping.phinf.naver.net/main_8271102/8271102116.jpg HTTP/1.1\" 200 81\n",
      "10.0.2.2 - - [21/Aug/2016 18:27:54] \"GET /classify?name=M1%20EDU%20%EB%A7%A5%EC%8B%9C%EC%95%88%20%EC%A0%84%EC%9A%A9%203.5%EC%9D%B8%EC%B9%98%20%EC%95%A1%EC%A0%95%EB%B3%B4%ED%98%B8%ED%95%84%EB%A6%84%20%20%20%ED%95%98%EB%82%98%EB%8D%94&img=http://shopping.phinf.naver.net/main_8228235/8228235825.jpg HTTP/1.1\" 200 81\n",
      "10.0.2.2 - - [21/Aug/2016 18:27:54] \"GET /classify?name=Eee%20PC%20701%20%EC%95%84%EC%88%98%EC%8A%A4%20ASUS%20UMPC%20%EC%A0%84%EC%9A%A9%207%EC%9D%B8%EC%B9%98%20%EC%95%A1%EC%A0%95%EB%B3%B4%ED%98%B8%ED%95%84&img=http://shopping.phinf.naver.net/main_8228408/8228408476.jpg HTTP/1.1\" 200 81\n",
      "10.0.2.2 - - [21/Aug/2016 18:27:54] \"GET /classify?name=M704%20ALIVE%20%EA%B8%B0%EA%B0%80%EB%B0%94%EC%9D%B4%ED%8A%B8%20UMPC%20%EC%A7%80%EB%B6%81%20GBOOK%20%EC%A0%84%EC%9A%A9%207%EC%9D%B8%EC%B9%98&img=http://shopping.phinf.naver.net/main_8228408/8228408858.jpg HTTP/1.1\" 200 81\n",
      "10.0.2.2 - - [21/Aug/2016 18:27:54] \"GET /classify?name=MYN%20U1%20%EC%97%AC%EC%9A%B0%EC%99%80%EB%8A%91%EB%8C%80%EC%BB%B4%ED%93%A8%ED%84%B0%20UMPC%20%EB%84%A4%EB%B9%84%EA%B2%8C%EC%9D%B4%EC%85%98%20%EC%A0%84%EC%9A%A9%207%EC%9D%B8%EC%B9%98&img=http://shopping.phinf.naver.net/main_8228245/8228245007.jpg HTTP/1.1\" 200 81\n",
      "10.0.2.2 - - [21/Aug/2016 18:27:54] \"GET /classify?name=B-612%20BOOKCUBE%20%EB%B6%81%ED%81%90%EB%B8%8C%EB%84%A4%ED%8A%B8%EC%9B%8D%EC%8A%A4%20%EC%A0%84%EC%9E%90%EC%B1%85%20?&img=http://shopping.phinf.naver.net/main_8225762/8225762774.jpg HTTP/1.1\" 200 81\n",
      "10.0.2.2 - - [21/Aug/2016 18:27:54] \"GET /classify?name=[4%%EC%A6%89%EC%8B%9C%ED%95%A0%EC%9D%B8%EC%BF%A0%ED%8F%B0]B1S%20%EC%99%80%EC%9D%B4%EB%B8%8C%EB%A0%88%EC%9D%B8%20WIBRAIN%20UMPC%20%EC%A0%84%EC%9A%A9%204.8%EC%9D%B8%EC%B9%98&img=http://shopping.phinf.naver.net/main_8200735/8200735932.jpg HTTP/1.1\" 200 81\n",
      "10.0.2.2 - - [21/Aug/2016 18:27:54] \"GET /classify?name=X40%20KRIS%20%ED%81%AC%EB%A6%AC%EC%8A%A4%20%ED%95%9C%EB%88%84%EB%A6%AC%EB%B9%84%EC%A6%88%20NURIAN%20%EB%88%84%EB%A6%AC?&img=http://shopping.phinf.naver.net/main_8225652/8225652247.jpg HTTP/1.1\" 200 81\n",
      "10.0.2.2 - - [21/Aug/2016 18:27:54] \"GET /classify?name=[4%%EC%A6%89%EC%8B%9C%ED%95%A0%EC%9D%B8%EC%BF%A0%ED%8F%B0]M1%20U700%20%EC%86%94%EB%A1%9C%20SOLO%20%EB%8C%80%EC%9A%B0%EB%A3%A8%EC%BB%B4%EC%A6%88%20%EC%A0%84%EC%9A%A9%207%EC%9D%B8?&img=http://shopping.phinf.naver.net/main_8200733/8200733937.jpg HTTP/1.1\" 200 71\n",
      "10.0.2.2 - - [21/Aug/2016 18:27:54] \"GET /classify?name=[DC25]X9%20%EB%88%84%EB%A6%AC%EC%95%88%20NURIAN%20%ED%95%9C%EB%88%84%EB%A6%AC%EB%B9%84%EC%A6%88%20%EC%A0%84%EC%9A%A9%204.1%EC%9D%B8%EC%B9%98%20%EC%A0%84%EC%9E%90%EC%82%AC%EC%A0%84%20%EC%95%A1%EC%A0%95%EB%B3%B4%ED%98%B8%ED%95%84%EB%A6%84%20%20%20X9%EB%B3%B4%ED%98%B8%ED%95%84%EB%A6%84%20%ED%95%98%EB%82%98%EB%8D%94&img=http://shopping.phinf.naver.net/main_8188296/8188296233.jpg HTTP/1.1\" 200 81\n",
      "10.0.2.2 - - [21/Aug/2016 18:27:54] \"GET /classify?name=[DC25]T5%20%EB%88%84%EB%A6%AC%EC%95%88%20NURIAN%20%ED%95%9C%EB%88%84%EB%A6%AC%EB%B9%84%EC%A6%88%20%EC%A0%84%EC%9A%A9%205%EC%9D%B8%EC%B9%98%20%EC%A0%84%EC%9E%90%EC%82%AC%EC%A0%84%20%EC%95%A1%EC%A0%95%EB%B3%B4%ED%98%B8%ED%95%84%EB%A6%84%20%20%20T5%EB%B3%B4%ED%98%B8%ED%95%84%EB%A6%84%20%ED%95%98%EB%82%98%EB%8D%94&img=http://shopping.phinf.naver.net/main_8188171/8188171669.jpg HTTP/1.1\" 200 81\n"
     ]
    },
    {
     "name": "stdout",
     "output_type": "stream",
     "text": [
      "classify called\n",
      "classify called\n",
      "classify called\n",
      "classify called\n",
      "classify called\n",
      "classify called\n",
      "classify called\n",
      "classify called\n",
      "classify called\n",
      "classify called\n",
      "classify called\n",
      "classify called\n",
      "classify called\n",
      "classify called\n",
      "classify called\n"
     ]
    },
    {
     "name": "stderr",
     "output_type": "stream",
     "text": [
      "10.0.2.2 - - [21/Aug/2016 18:27:54] \"GET /classify?name=[HDP1219]%20Any%20%EA%B0%A4%EB%9F%AD%EC%8B%9CS(SHW-M110S)%20%EA%B0%95%ED%99%94%EC%95%A1%EC%A0%95%EB%B3%B4%ED%98%B8%ED%95%84%EB%A6%84(2%EB%A7%A4)&img=http://shopping.phinf.naver.net/main_8265234/8265234917.jpg HTTP/1.1\" 200 81\n",
      "10.0.2.2 - - [21/Aug/2016 18:27:54] \"GET /classify?name=[4%%EC%A6%89%EC%8B%9C%ED%95%A0%EC%9D%B8%EC%BF%A0%ED%8F%B0]DC25%20IMP-800%20%EC%9B%85%EC%A7%84%EC%97%90%EC%8A%A4%ED%8B%B0%20%EC%82%B0%EC%97%85%EC%9A%A9PDA%20%EC%A0%84%EC%9A%A9%203.5%EC%9D%B8%EC%B9%98%20%EC%95%A1&img=http://shopping.phinf.naver.net/main_8270353/8270353980.jpg HTTP/1.1\" 200 81\n",
      "10.0.2.2 - - [21/Aug/2016 18:27:54] \"GET /classify?name=[4%%EC%A6%89%EC%8B%9C%ED%95%A0%EC%9D%B8%EC%BF%A0%ED%8F%B0]DC25%20IMP-800%20%EC%9B%85%EC%A7%84%EC%97%90%EC%8A%A4%ED%8B%B0%20%EC%82%B0%EC%97%85%EC%9A%A9PDA%20%EC%A0%84%EC%9A%A9%203.5%EC%9D%B8%EC%B9%98%20%EC%95%A1&img=http://shopping.phinf.naver.net/main_8270163/8270163860.jpg HTTP/1.1\" 200 81\n",
      "10.0.2.2 - - [21/Aug/2016 18:27:54] \"GET /classify?name=BIP-2000%20%EB%B8%94%EB%A3%A8%EB%B2%84%EB%93%9C%EC%86%8C%ED%94%84%ED%8A%B8%20BLUEBIRDSOFT%20%ED%8E%84%20P&img=http://shopping.phinf.naver.net/main_8281587/8281587962.jpg HTTP/1.1\" 200 81\n",
      "10.0.2.2 - - [21/Aug/2016 18:27:54] \"GET /classify?name=[4%%EC%A6%89%EC%8B%9C%ED%95%A0%EC%9D%B8%EC%BF%A0%ED%8F%B0]POZ%20X310%20%EC%8B%B8%EC%9D%B4%EB%B2%84%EB%B1%85%ED%81%AC%20%ED%8F%AC%EC%A6%88%20CYBERBANK%20PDA%ED%8F%B0&img=http://shopping.phinf.naver.net/main_8280501/8280501577.jpg HTTP/1.1\" 200 81\n",
      "10.0.2.2 - - [21/Aug/2016 18:27:54] \"GET /classify?name=[HDP1288]%20%ED%81%AC%EB%A0%88%EC%BD%94%ED%85%8D%20%EB%B2%A0%EA%B0%80S5(A840)%20%EC%A7%80%EB%AC%B8%EB%B0%A9%EC%A7%80%ED%95%84%EB%A6%84(2%EB%A7%A4)&img=http://shopping.phinf.naver.net/main_8277917/8277917575.jpg HTTP/1.1\" 200 81\n",
      "10.0.2.2 - - [21/Aug/2016 18:27:54] \"GET /classify?name=[HDP1033]%20%ED%81%AC%EB%A0%88%EC%BD%94%ED%85%8D%20%ED%85%8C%EC%9D%B4%ED%81%ACLTE(KM-E100)%20%EA%B0%95%ED%99%94%EC%95%A1%EC%A0%95%EB%B3%B4%ED%98%B8%ED%95%84%EB%A6%84(2%EB%A7%A4)&img=http://shopping.phinf.naver.net/main_8277916/8277916442.jpg HTTP/1.1\" 200 81\n",
      "10.0.2.2 - - [21/Aug/2016 18:27:54] \"GET /classify?name=[HDP1293]%20%ED%81%AC%EB%A0%88%EC%BD%94%ED%85%8D%20%EA%B0%A4%EB%9F%AD%EC%8B%9CR(E170)%20%EC%A7%80%EB%AC%B8%EB%B0%A9%EC%A7%80%ED%95%84%EB%A6%84(2%EB%A7%A4)&img=http://shopping.phinf.naver.net/main_8277915/8277915629.jpg HTTP/1.1\" 200 81\n",
      "10.0.2.2 - - [21/Aug/2016 18:27:54] \"GET /classify?name=[HDP1525]%20%ED%81%AC%EB%A0%88%EC%BD%94%ED%85%8D%20%EC%98%B5%ED%8B%B0%EB%A8%B8%EC%8A%A4%20%EB%B9%85(LU6800)%20%EC%A7%80%EB%AC%B8%EB%B0%A9%EC%A7%80%ED%95%84%EB%A6%84(2%EB%A7%A4)&img=http://shopping.phinf.naver.net/main_8277914/8277914974.jpg HTTP/1.1\" 200 81\n",
      "10.0.2.2 - - [21/Aug/2016 18:27:54] \"GET /classify?name=[HDP1117]%20%ED%81%AC%EB%A0%88%EC%BD%94%ED%85%8D%20%EA%B0%A4%EB%9F%AD%EC%8B%9CM(M340)%20%EA%B0%95%ED%99%94%EC%95%A1%EC%A0%95%EB%B3%B4%ED%98%B8%ED%95%84%EB%A6%84(2%EB%A7%A4)&img=http://shopping.phinf.naver.net/main_8277907/8277907799.jpg HTTP/1.1\" 200 81\n",
      "10.0.2.2 - - [21/Aug/2016 18:27:54] \"GET /classify?name=[4%%EC%A6%89%EC%8B%9C%ED%95%A0%EC%9D%B8%EC%BF%A0%ED%8F%B0]DC25%20BM-300%20%EB%B8%94%EB%A3%A8%EB%B2%84%EB%93%9C%EC%86%8C%ED%94%84%ED%8A%B8%20BLUEBIRDSOFT%20%ED%8E%84%20PDA%20%EC%A0%84&img=http://shopping.phinf.naver.net/main_8270282/8270282668.jpg HTTP/1.1\" 200 81\n",
      "10.0.2.2 - - [21/Aug/2016 18:27:54] \"GET /classify?name=[4%%EC%A6%89%EC%8B%9C%ED%95%A0%EC%9D%B8%EC%BF%A0%ED%8F%B0]DC25%20POZ%20X301%20%EC%8B%B8%EC%9D%B4%EB%B2%84%EB%B1%85%ED%81%AC%20%ED%8F%AC%EC%A6%88%20CYBERBANK%20PDA%ED%8F%B0%20%EC%A0%84&img=http://shopping.phinf.naver.net/main_8270259/8270259279.jpg HTTP/1.1\" 200 81\n",
      "10.0.2.2 - - [21/Aug/2016 18:27:54] \"GET /classify?name=[4%%EC%A6%89%EC%8B%9C%ED%95%A0%EC%9D%B8%EC%BF%A0%ED%8F%B0]DC25%20A730AW%20%EC%95%84%EC%88%98%EC%8A%A4%20ASUS%20MYPAL%20PDA%20%EC%A0%84%EC%9A%A9%20%EC%95%A1%EC%A0%95%EB%B3%B4%ED%98%B8%ED%95%84&img=http://shopping.phinf.naver.net/main_8270195/8270195103.jpg HTTP/1.1\" 200 81\n",
      "10.0.2.2 - - [21/Aug/2016 18:27:54] \"GET /classify?name=[%ED%81%AC%EB%A0%88%EC%BD%94%ED%85%8D]%20%EA%B0%A4%EB%9F%AD%EC%8B%9C%ED%8C%9D(E220)%20%EC%A7%80%EB%AC%B8%EB%B0%A9%EC%A7%80%ED%95%84%EB%A6%84(2%EB%A7%A4)%20[HDP1982]&img=http://shopping.phinf.naver.net/main_8277924/8277924366.jpg HTTP/1.1\" 200 81\n"
     ]
    },
    {
     "name": "stdout",
     "output_type": "stream",
     "text": [
      "classify called\n",
      "classify called\n",
      "classify called\n",
      "classify called\n",
      "classify called\n",
      "classify called\n",
      "classify called\n",
      "classify called\n",
      "classify called\n",
      "classify called\n",
      "classify called\n",
      "classify called\n",
      "classify called\n",
      "classify called\n",
      "classify called\n"
     ]
    },
    {
     "name": "stderr",
     "output_type": "stream",
     "text": [
      "10.0.2.2 - - [21/Aug/2016 18:27:54] \"GET /classify?name=[HDP1295]%20%EC%95%84%ED%94%BC%EC%8A%A4%20%ED%85%8C%EC%9D%B4%ED%81%AC%20%ED%95%8F(KM-S330)%20My%20Guard%20%EC%A7%80%EB%AC%B8%EB%B0%A9%EC%A7%80%ED%95%84%EB%A6%84&img=http://shopping.phinf.naver.net/main_8277917/8277917671.jpg HTTP/1.1\" 200 81\n",
      "10.0.2.2 - - [21/Aug/2016 18:27:54] \"GET /classify?name=[HDP1309]%20%EC%95%84%ED%94%BC%EC%8A%A4%20%EC%98%B5%ED%8B%B0%EB%A8%B8%EC%8A%A4%EB%B7%B0(F100)%20My%20Guard%20%EC%A7%80%EB%AC%B8%EB%B0%A9%EC%A7%80%ED%95%84%EB%A6%84(2%EB%A7%A4)&img=http://shopping.phinf.naver.net/main_8277916/8277916105.jpg HTTP/1.1\" 200 81\n",
      "10.0.2.2 - - [21/Aug/2016 18:27:54] \"GET /classify?name=[HDP1233]%20Any%20(SK/KT)%EA%B0%A4%EB%9F%AD%EC%8B%9CS2(M250)%20%EA%B0%95%ED%99%94%EC%95%A1%EC%A0%95%EB%B3%B4%ED%98%B8%ED%95%84%EB%A6%84(2%EB%A7%A4)&img=http://shopping.phinf.naver.net/main_8277915/8277915672.jpg HTTP/1.1\" 200 81\n",
      "10.0.2.2 - - [21/Aug/2016 18:27:54] \"GET /classify?name=[HDP1546]%20Any%20(SK)%EC%98%B5%ED%8B%B0%EB%A8%B8%EC%8A%A4LTE(SU640)%20%EC%A7%80%EB%AC%B8%EB%B0%A9%EC%A7%80%ED%95%84%EB%A6%84(2%EB%A7%A4)&img=http://shopping.phinf.naver.net/main_8277913/8277913312.jpg HTTP/1.1\" 200 81\n",
      "10.0.2.2 - - [21/Aug/2016 18:27:54] \"GET /classify?name=[HDP1077]%20Any%20%EA%B0%A4%EB%9F%AD%EC%8B%9CS2%20LTE(E110)%20%EA%B0%95%ED%99%94%EC%95%A1%EC%A0%95%EB%B3%B4%ED%98%B8%ED%95%84%EB%A6%84(2%EB%A7%A4)&img=http://shopping.phinf.naver.net/main_8277907/8277907884.jpg HTTP/1.1\" 200 81\n",
      "10.0.2.2 - - [21/Aug/2016 18:27:54] \"GET /classify?name=[%ED%95%B4%EC%99%B8]AC%20Adapter%20Home%20Wall%20Charger%20for%20Nintendo%20DS%20Lite%20NDSL%20Round&img=http://shopping.phinf.naver.net/main_8266151/8266151084.jpg HTTP/1.1\" 200 124\n",
      "10.0.2.2 - - [21/Aug/2016 18:27:54] \"GET /classify?name=[%ED%95%B4%EC%99%B8]5.5mmx2.5mm%20Newest%20Replacement%20AC%20Adapter%20Power%20Supply%20Charger%20Cord%20for%20Toshiba%2019V%204.74A%2090W%20La&img=http://shopping.phinf.naver.net/main_8254377/8254377662.jpg HTTP/1.1\" 200 81\n",
      "10.0.2.2 - - [21/Aug/2016 18:27:54] \"GET /classify?name=[%ED%95%B4%EC%99%B8]%20Super%20Power%20Supply??%20Super%20Power%20Supply??%20AC%20/%20DC%20Laptop%20Adapter%20Charger%20Cord%20Replacement%20for%20H&img=http://shopping.phinf.naver.net/main_8259526/8259526014.jpg HTTP/1.1\" 200 81\n",
      "10.0.2.2 - - [21/Aug/2016 18:27:54] \"GET /classify?name=[%ED%95%B4%EC%99%B8]AC%20Power%20Charger%20Plug%20Adapter%20US%20UK%20EU%20AU%20Portable%20All%20In%20One%20Travel%20universal&img=http://shopping.phinf.naver.net/main_8236250/8236250486.jpg HTTP/1.1\" 200 81\n",
      "10.0.2.2 - - [21/Aug/2016 18:27:54] \"GET /classify?name=%EB%B0%94%EB%B3%B4%EC%82%AC%EB%9E%91[%EC%A7%80%ED%99%80%EB%A6%AC]Fromb%20%ED%94%84%EB%A1%AC%EB%B9%84%20%EC%96%91%EA%B0%80%EC%A3%BD%20%EB%B0%94%EB%84%A4%EC%82%AC%20%EC%8A%A4%EB%A7%88%ED%8A%B8%ED%8F%B0%20%EC%9E%A5%EA%B0%91&img=http://shopping.phinf.naver.net/main_8086897/8086897753.jpg HTTP/1.1\" 200 104\n",
      "10.0.2.2 - - [21/Aug/2016 18:27:54] \"GET /classify?name=%EB%B0%94%EB%B3%B4%EC%82%AC%EB%9E%91[%EC%BD%94%EC%8B%9C]%EB%89%B4%EC%9A%95%207-8%ED%98%95%20%ED%83%9C%EB%B8%94%EB%A6%BFPC%20%EC%BC%80%EC%9D%B4%EC%8A%A4%20%ED%82%A4%EB%B3%B4%EB%93%9C[%EB%AC%B4%EB%A3%8C%EB%B0%B0%EC%86%A1]&img=http://shopping.phinf.naver.net/main_7884039/7884039742.jpg HTTP/1.1\" 200 141\n",
      "10.0.2.2 - - [21/Aug/2016 18:27:54] \"GET /classify?name=%EB%B0%94%EB%B3%B4%EC%82%AC%EB%9E%91[%EC%97%98%EB%A0%88%EC%BB%B4]%EB%A7%88%EC%9D%B4%ED%81%AC%EB%A1%9C%20USB%20%EC%BC%80%EC%9D%B4%EB%B8%94%20MPA-AMBXLP10%20Series&img=http://shopping.phinf.naver.net/main_8200114/8200114423.jpg HTTP/1.1\" 200 79\n",
      "10.0.2.2 - - [21/Aug/2016 18:27:54] \"GET /classify?name=%EB%B0%94%EB%B3%B4%EC%82%AC%EB%9E%91[%EB%9D%BC%EC%9D%B4%EB%B8%8C%ED%8C%A9%ED%86%A0%EB%A6%AC]%EC%95%84%EC%9D%B4%ED%8F%B06%ED%94%8C%EB%9F%AC%EC%8A%A4%20%EC%B9%B4%EB%A9%94%EB%9D%BC%20%EB%A0%8C%EC%A6%88%20%EB%B3%B4%ED%98%B8%20%EB%A9%94%ED%83%88%EB%A7%81[%EB%AC%B4%EB%A3%8C%EB%B0%B0%EC%86%A1]&img=http://shopping.phinf.naver.net/main_8255003/8255003593.jpg HTTP/1.1\" 200 141\n",
      "10.0.2.2 - - [21/Aug/2016 18:27:54] \"GET /classify?name=%EB%B0%94%EB%B3%B4%EC%82%AC%EB%9E%91[%EC%A7%84%EB%B0%94%EC%8A%A4]%EB%84%98%EB%B2%84%20ONE.%20%ED%9C%B4%EB%8C%80%ED%8F%B0%20%EA%B1%B0%EC%B9%98%EB%8C%80&img=http://shopping.phinf.naver.net/main_8081470/8081470979.jpg HTTP/1.1\" 200 141\n",
      "10.0.2.2 - - [21/Aug/2016 18:27:54] \"GET /classify?name=[%ED%9E%90%EB%A7%81%EC%89%B4%EB%93%9C]%20%EC%82%BC%EC%84%B1%20%EC%95%84%ED%8B%B0%EB%B8%8C%20%EB%B6%819%20NT900X3G%20AFP%20%EC%98%AC%EB%A0%88%ED%8F%AC%EB%B9%85%20%EC%95%A1%EC%A0%95%EB%B3%B4%ED%98%B8%ED%95%84%EB%A6%84&img=http://shopping.phinf.naver.net/main_7934996/7934996286.jpg HTTP/1.1\" 200 134\n",
      "10.0.2.2 - - [21/Aug/2016 18:27:54] \"GET /classify?name=%EB%B0%94%EB%B3%B4%EC%82%AC%EB%9E%91[%ED%81%B4%EB%A7%81]%ED%8C%94%EC%B0%8C%ED%83%80%EC%9E%85%20%EA%B3%A0%EC%86%8D%EC%B6%A9%EC%A0%84%EC%BC%80%EC%9D%B4%EB%B8%94%20%ED%81%B4%EB%A7%81%EB%B0%B4%EB%93%9C%20-%20Lavender&img=http://shopping.phinf.naver.net/main_8158936/8158936688.jpg HTTP/1.1\" 200 104\n"
     ]
    },
    {
     "name": "stdout",
     "output_type": "stream",
     "text": [
      "classify called\n",
      "classify called\n",
      "classify called\n",
      "classify called\n",
      "classify called\n",
      "classify called\n",
      "classify called\n",
      "classify called\n",
      "classify called\n",
      "classify called\n",
      "classify called\n",
      "classify called\n",
      "classify called\n",
      "classify called\n",
      "classify called\n",
      "classify called\n"
     ]
    },
    {
     "name": "stderr",
     "output_type": "stream",
     "text": [
      "10.0.2.2 - - [21/Aug/2016 18:27:54] \"GET /classify?name=[%EC%82%BC%EC%84%B1%EC%B9%B4%EB%93%9C5%%ED%95%A0%EC%9D%B8~15%EC%9D%BC%EA%B9%8C%EC%A7%80]1300K%20[%EC%A0%A0%EB%8B%88%ED%81%B4%EB%A1%9C%EC%A0%AF]%20Closet%20Bag%20Blue%20L&img=http://shopping.phinf.naver.net/main_7468955/7468955457.jpg HTTP/1.1\" 200 80\n",
      "10.0.2.2 - - [21/Aug/2016 18:27:54] \"GET /classify?name=%EB%B0%94%EB%B3%B4%EC%82%AC%EB%9E%91[%EC%BD%94%EC%8B%9C]%EB%B8%8C%EB%9D%BC%EC%9A%B4%2010%ED%98%95%20%ED%83%9C%EB%B8%94%EB%A6%BFPC%20%EC%BC%80%EC%9D%B4%EC%8A%A4%20%ED%82%A4%EB%B3%B4%EB%93%9C[%EB%AC%B4%EB%A3%8C%EB%B0%B0%EC%86%A1]&img=http://shopping.phinf.naver.net/main_8202689/8202689928.jpg HTTP/1.1\" 200 141\n",
      "10.0.2.2 - - [21/Aug/2016 18:27:55] \"GET /classify?name=%EB%B0%94%EB%B3%B4%EC%82%AC%EB%9E%91[%EC%BD%94%EC%8B%9C]%EB%A7%88%EC%9D%B4%ED%81%AC%EB%A1%9C%205%ED%95%80%20USB%20%EB%8D%B0%EC%9D%B4%ED%84%B0%EC%B6%A9%EC%A0%84%20%EC%BC%80%EC%9D%B4%EB%B8%94(%EC%9E%90%EB%8F%99%EA%B0%90%EA%B9%80)[%EB%AC%B4%EB%A3%8C%EB%B0%B0%EC%86%A1]&img=http://shopping.phinf.naver.net/main_7576245/7576245226.jpg HTTP/1.1\" 200 79\n",
      "10.0.2.2 - - [21/Aug/2016 18:27:55] \"GET /classify?name=%EB%A7%A5%EC%BB%AC%EB%A6%AC%20SPINMOUNT%20%ED%83%9C%EB%B8%94%EB%A6%BF%20%EA%B3%B5%EC%9A%A9%20%EA%B1%B0%EC%B9%98%EB%8C%80%20360%EB%8F%84%20%ED%9A%8C%EC%A0%84%20%EB%8D%B0%EC%8A%A4%ED%81%AC%20%EB%A7%88%EC%9A%B4%ED%8A%B8&img=http://shopping.phinf.naver.net/main_8258939/8258939350.jpg HTTP/1.1\" 200 72\n",
      "10.0.2.2 - - [21/Aug/2016 18:27:55] \"GET /classify?name=%EB%B0%94%EB%B3%B4%EC%82%AC%EB%9E%91[%EB%94%94%EC%A7%80%ED%84%B8%EB%B2%A4%ED%88%AC%EC%8A%A4]5PIN%20%EC%9D%BC%EC%B2%B4%ED%98%95%20%EA%B3%A0%EC%86%8D%20%ED%8A%B8%EC%9C%88%20%EC%B6%A9%EC%A0%84%EA%B8%B0%20(2A)[%EB%AC%B4%EB%A3%8C%EB%B0%B0%EC%86%A1]&img=http://shopping.phinf.naver.net/main_8127972/8127972946.jpg HTTP/1.1\" 200 100\n",
      "10.0.2.2 - - [21/Aug/2016 18:27:55] \"GET /classify?name=%EB%B0%94%EB%B3%B4%EC%82%AC%EB%9E%91[%EC%BA%A1%EB%8D%B0%EC%9D%B4%EC%8A%A4]%EC%B6%A9%EC%A0%84%20%EC%BB%B5%ED%99%80%EB%8D%94%20CA00-C101[%EB%AC%B4%EB%A3%8C%EB%B0%B0%EC%86%A1]&img=http://shopping.phinf.naver.net/main_8236920/8236920929.jpg HTTP/1.1\" 200 104\n",
      "10.0.2.2 - - [21/Aug/2016 18:27:55] \"GET /classify?name=[COWON][WESTONE]%20%20(PLENUE1)%20P1%20X%20UMPRO20&img=http://shopping.phinf.naver.net/main_8264827/8264827478.jpg HTTP/1.1\" 200 72\n",
      "10.0.2.2 - - [21/Aug/2016 18:27:55] \"GET /classify?name=%EC%96%91%EB%B0%A9%ED%96%A5%ED%86%B5%EC%97%AD%EA%B8%B0%20%EB%8B%A4%EA%B5%AD%EC%96%B4%ED%86%B5%EC%97%AD/%EB%B2%88%EC%97%AD/16%EA%B0%9C%EA%B5%AD/mp3%EB%9D%BC%EB%94%94%EC%98%A4%20Q19&img=http://shopping.phinf.naver.net/main_8276132/8276132857.jpg HTTP/1.1\" 200 72\n",
      "10.0.2.2 - - [21/Aug/2016 18:27:55] \"GET /classify?name=%EC%95%84%EC%9D%B4%EB%A6%AC%EB%B2%84%20P100%20IPS%20Wi-Fi%2032G&img=http://shopping.phinf.naver.net/main_5724950/5724950050.20120211164428.jpg HTTP/1.1\" 200 72\n",
      "10.0.2.2 - - [21/Aug/2016 18:27:55] \"GET /classify?name=%EC%95%84%EC%9D%B4%EB%A6%AC%EB%B2%84%20%EC%95%84%EC%9D%B4%EB%A6%AC%EB%B2%84%20PMP%20P100%20IPS%20WIFI%20DMB%2064GB%205%EC%9D%B8%EC%B9%98%20IPS%ED%8C%A8%EB%84%90&img=http://shopping.phinf.naver.net/main_8263388/8263388688.jpg HTTP/1.1\" 200 72\n",
      "10.0.2.2 - - [21/Aug/2016 18:27:55] \"GET /classify?name=%EC%97%90%EB%93%80%ED%94%8C%EB%A0%88%EC%9D%B4%EC%96%B4%20%7B%EA%B3%B5%EC%8B%9D%EC%A0%95%ED%92%88%20%EC%97%90%EB%93%80%ED%94%8C3%2016GB%7D-%20%EC%97%90%EB%93%80%ED%94%8C5%20/%20pmp%20/%EC%A0%84%EC%9E%90%EC%82%AC%EC%A0%84%20%EA%B3%B5%EB%B6%80%EB%A7%8C%EC%9D%84%20%EC%9B%90%ED%95%9C%EB%8B%A4%EB%A9%B4%20%EC%97%90%EB%93%80%ED%94%8C3&img=http://shopping.phinf.naver.net/main_7466263/7466263971.jpg HTTP/1.1\" 200 72\n",
      "10.0.2.2 - - [21/Aug/2016 18:27:55] \"GET /classify?name=[%EC%A0%9C%EC%9D%B4%EB%B9%84%EB%9E%A9]%20K7%20%ED%95%9C%EA%B8%80%20%EB%B8%94%EB%A3%A8%ED%88%AC%EC%8A%A4%20%EC%B9%B4%EC%98%A4%EB%94%94%EC%98%A4%20CD%20USB%20SDHC%20AUX&img=http://shopping.phinf.naver.net/main_8194503/8194503374.jpg HTTP/1.1\" 200 72\n",
      "10.0.2.2 - - [21/Aug/2016 18:27:55] \"GET /classify?name=%EC%97%90%EB%93%80%ED%94%8CD%2016G%20PMP/%EC%A0%84%EC%9E%90%EC%82%AC%EC%A0%847%EC%A2%85%ED%83%91%EC%9E%AC/%EC%97%90%EB%93%80%ED%94%8C5+%EA%B3%A0%EA%B8%89%EC%9D%B4%EC%96%B4%ED%8F%B0&img=http://shopping.phinf.naver.net/main_8256432/8256432923.jpg HTTP/1.1\" 200 72\n",
      "10.0.2.2 - - [21/Aug/2016 18:27:55] \"GET /classify?name=[goldwing777]%ED%81%AC%EB%A0%88%EC%9D%B4%EC%A7%80%EB%B0%B1_DSLR%20%EC%B9%B4%EB%A9%94%EB%9D%BC%EA%B0%80%EB%B0%A9%20%ED%81%AC%EB%A1%9C%EC%8A%A4%EB%B0%B1%20%EC%88%84%EB%8D%94%EB%B0%B1%20%EC%97%AC%ED%96%89&img=http://shopping.phinf.naver.net/main_8280484/8280484043.jpg HTTP/1.1\" 200 72\n",
      "10.0.2.2 - - [21/Aug/2016 18:27:55] \"GET /classify?name=%EC%9D%B4%EB%9E%9C%ED%85%8D%20%EC%95%84%EC%9D%B4%EC%9C%A0%EB%B9%84%20H80%2030G&img=http://shopping.phinf.naver.net/main_4090335/4090335974.20120211212152.jpg HTTP/1.1\" 200 87\n"
     ]
    },
    {
     "name": "stdout",
     "output_type": "stream",
     "text": [
      "classify called\n",
      "classify called\n",
      "classify called\n",
      "classify called\n",
      "classify called\n",
      "classify called\n",
      "classify called\n",
      "classify called\n",
      "classify called\n",
      "classify called\n",
      "classify called\n",
      "classify called\n",
      "classify called\n",
      "classify called\n",
      "classify called\n"
     ]
    },
    {
     "name": "stderr",
     "output_type": "stream",
     "text": [
      "10.0.2.2 - - [21/Aug/2016 18:27:55] \"GET /classify?name=[%EC%8B%A0%ED%95%9C%EC%B9%B4%EB%93%9C5%%ED%95%A0%EC%9D%B8~10%EC%9D%BC%EA%B9%8C%EC%A7%80][%EC%A0%95%ED%92%88]%20%EC%86%8C%EB%8B%88%20%EC%8A%A4%EB%A7%88%ED%8A%B8%EC%9B%8C%EC%B9%98%203%20SWR50&img=http://shopping.phinf.naver.net/main_8237873/8237873148.jpg HTTP/1.1\" 200 72\n",
      "10.0.2.2 - - [21/Aug/2016 18:27:55] \"GET /classify?name=%EC%83%A4%ED%94%84%20SP700%2030G&img=http://shopping.phinf.naver.net/main_4057872/4057872287.20120211181029.jpg HTTP/1.1\" 200 72\n",
      "10.0.2.2 - - [21/Aug/2016 18:27:55] \"GET /classify?name=KT%EC%97%90%EA%B7%B8%20%ED%8F%AC%EC%BC%93%EC%99%80%EC%9D%B4%ED%8C%8C%EC%9D%B4%20%EC%83%89%EC%83%81%EB%B3%84%EC%9E%AC%EA%B3%A0%EB%84%89%EB%84%89%205%ED%95%80%EC%BC%80%EC%9D%B4%EB%B8%94%20%EB%AC%B4%EC%84%A0&img=http://shopping.phinf.naver.net/main_8203567/8203567610.jpg HTTP/1.1\" 200 99\n",
      "10.0.2.2 - - [21/Aug/2016 18:27:55] \"GET /classify?name=[Transcend]%20%ED%8A%B8%EB%9E%9C%EC%84%BC%EB%93%9C%20MP3%20%ED%94%8C%EB%A0%88%EC%9D%B4%EC%96%B4%20[MP330]%208GB/USB%EC%9D%BC%EC%B2%B4%ED%98%95/%EB%9D%BC%EB%94%94%EC%98%A4/%EB%85%B9%EC%9D%8C%EA%B8%B0%EB%8A%A5&img=http://shopping.phinf.naver.net/main_8196283/8196283258.3.jpg HTTP/1.1\" 200 72\n",
      "10.0.2.2 - - [21/Aug/2016 18:27:55] \"GET /classify?name=%EC%97%90%EB%93%80%ED%94%8C%EB%A0%88%EC%9D%B4%EC%96%B4%20%EC%97%90%EB%93%80%ED%94%8C7%2032GB%20PMP%ED%8C%A8%EB%93%9C/%EC%A0%84%EC%9E%90%EC%82%AC%EC%A0%84%ED%83%91%EC%9E%AC&img=http://shopping.phinf.naver.net/main_8182975/8182975228.jpg HTTP/1.1\" 200 72\n",
      "10.0.2.2 - - [21/Aug/2016 18:27:55] \"GET /classify?name=%EB%B0%94%EB%B3%B4%EC%82%AC%EB%9E%91[%EC%95%84%ED%99%89%EC%8B%9C]WOW%20STEREOSCOPE%20%EC%99%80%EC%9A%B0%EB%B7%B0%EC%96%B4&img=http://shopping.phinf.naver.net/main_8188651/8188651341.jpg HTTP/1.1\" 200 72\n",
      "10.0.2.2 - - [21/Aug/2016 18:27:55] \"GET /classify?name=HD%EA%B8%89%EA%B3%A0%ED%99%94%EC%A7%88%20%EC%9A%A9%EB%9F%89%2016GB,%20%EB%94%94%EC%8A%A4%ED%94%8C%EB%A0%88%EC%9D%B4%20%EC%9E%AC%EC%83%9D%EC%8B%9C%EA%B0%84%20%EB%8F%99%EC%98%81%EC%83%81%205%EC%8B%9C%EA%B0%84%20%EC%A0%80%EC%9E%A5%EB%B0%A9%EC%8B%9D/MLU-FG1/%20%ED%94%8C%EB%9E%98%EC%8B%9C%ED%83%80%EC%9E%85//%ED%84%B0%EC%B9%98%EC%8A%A4%ED%81%AC%EB%A6%B0,%20%EB%9D%BC%EB%94%94%EC%98%A4%EC%88%98%EC%8B%A0,%20%EC%A0%84%EC%9E%90%EC%82%AC%EC%A0%84,&img=http://shopping.phinf.naver.net/main_8172470/8172470629.jpg HTTP/1.1\" 200 72\n",
      "10.0.2.2 - - [21/Aug/2016 18:27:55] \"GET /classify?name=[%EC%95%84%ED%8A%B8%EB%B0%95%EC%8A%A4(%EB%AC%B8%EA%B5%AC,%ED%8C%AC%EC%8B%9C)]%20WOW%20STEREOSCOPE%20%EC%99%80%EC%9A%B0%EB%B7%B0%EC%96%B4_P020497750&img=http://shopping.phinf.naver.net/main_8225164/8225164285.jpg HTTP/1.1\" 200 72\n",
      "10.0.2.2 - - [21/Aug/2016 18:27:55] \"GET /classify?name=[5%%EC%A6%89%EC%8B%9C%ED%95%A0%EC%9D%B8%EC%BF%A0%ED%8F%B0]Coas%20%20A2458%20%20MP4%20%EB%94%94%EC%A7%80%ED%84%B8%20%ED%94%8C%EB%A0%88%EC%9D%B4%EC%96%B4%20-%201GB%20%EC%BB%B4%ED%93%A8%ED%84%B0%20%EB%B0%8F%20%EC%A3%BC%EB%B3%80%EA%B8%B0%EA%B8%B0%20%EB%8B%A4%EB%82%98%EC%99%80&img=http://shopping.phinf.naver.net/main_8178412/8178412518.jpg HTTP/1.1\" 200 72\n",
      "10.0.2.2 - - [21/Aug/2016 18:27:55] \"GET /classify?name=%EC%8B%B8%EC%9D%B4%EC%98%A8%ED%85%8D%20NV-100%2020G&img=http://shopping.phinf.naver.net/main_1000204/1000204328.20120211203546.jpg HTTP/1.1\" 200 130\n",
      "10.0.2.2 - - [21/Aug/2016 18:27:55] \"GET /classify?name=%EC%B5%9C%EC%8B%A0%EC%83%81%20PMP%20%ED%94%8C%ED%84%B0%EC%B9%98%204.3%EC%9D%B8%EC%B9%98%20HD%20%EB%AC%B4%EB%B3%80%ED%99%98%EB%8F%99%EC%98%81%EC%83%81%20%EC%9D%B8%ED%84%B0%EB%84%B7%EA%B0%95%EC%9D%98%2032G%20%EC%99%B8%EC%9E%A5%EC%8A%A4%ED%94%BC%EC%BB%A4&img=http://shopping.phinf.naver.net/main_7752298/7752298551.jpg HTTP/1.1\" 200 72\n",
      "10.0.2.2 - - [21/Aug/2016 18:27:55] \"GET /classify?name=%E2%98%852011%EB%85%84%ED%98%95%E2%98%853%EC%9D%B8%EC%B9%98%ED%92%80%EC%A7%84%EB%8F%99%ED%84%B0%EC%B9%98MP5/G%EC%84%BC%EC%84%9C%E2%98%85%EA%B5%AD%EB%82%B4%EC%B5%9C%EC%B4%88%EC%9C%84%EC%A0%AF%EA%B8%B0%EB%8A%A5%E2%98%85%EB%A7%A4%EC%A7%81UI/HD%EA%B8%89PMP20GB&img=http://shopping.phinf.naver.net/main_6533627/6533627597.jpg HTTP/1.1\" 200 87\n",
      "10.0.2.2 - - [21/Aug/2016 18:27:55] \"GET /classify?name=PMP/4.3%EC%9D%B8%EC%B9%98/HD/%EB%AC%B4%EB%B3%80%ED%99%98/%EC%9D%B8%ED%84%B0%EB%84%B7%EA%B0%95%EC%9D%98/32G/%ED%83%9C%EC%98%81%EC%A0%84%EC%9E%90&img=http://shopping.phinf.naver.net/main_7205275/7205275527.jpg HTTP/1.1\" 200 72\n",
      "10.0.2.2 - - [21/Aug/2016 18:27:55] \"GET /classify?name=7%EC%9D%B8%EC%B9%98%20%EB%8F%99%EC%98%81%EC%83%81%20%ED%94%8C%EB%A0%88%EC%9D%B4%EC%96%B4%20BK-2003/FM%EB%9D%BC%EB%94%94%EC%98%A4/SD%20USB%20AUX&img=http://shopping.phinf.naver.net/main_8001322/8001322761.jpg HTTP/1.1\" 200 72\n"
     ]
    },
    {
     "name": "stdout",
     "output_type": "stream",
     "text": [
      "classify called\n",
      "classify called\n",
      "classify called\n",
      "classify called\n",
      "classify called\n",
      "classify called\n",
      "classify called\n",
      "classify called\n",
      "classify called\n",
      "classify called\n",
      "classify called\n",
      "classify called\n",
      "classify called\n",
      "classify called\n"
     ]
    },
    {
     "name": "stderr",
     "output_type": "stream",
     "text": [
      "10.0.2.2 - - [21/Aug/2016 18:27:55] \"GET /classify?name=[%EC%82%AC%ED%8C%8C]SD/USB%EC%9D%B8%EC%8B%9D%20%EB%8F%99%EC%98%81%EC%83%81%EC%9E%AC%EC%83%9D/PMP-10/4.3%ED%99%94%EB%A9%B4/5W%EC%8A%A4%ED%94%BC&img=http://shopping.phinf.naver.net/main_8103305/8103305650.jpg HTTP/1.1\" 200 72\n",
      "10.0.2.2 - - [21/Aug/2016 18:27:55] \"GET /classify?name=%EC%8A%AC%EB%A6%BC%EB%94%94%EC%8A%A4%ED%81%AC%20DMB/MP3%20M45[4G]&img=http://shopping.phinf.naver.net/main_7366172/7366172905.jpg HTTP/1.1\" 200 72\n",
      "10.0.2.2 - - [21/Aug/2016 18:27:55] \"GET /classify?name=%EC%9D%BC%EB%A3%A8%EB%AF%B8%EB%84%88%EC%8A%A4%20T9%208GB%20%EC%8A%A4%EB%A7%88%ED%8A%B8%ED%8C%A8%EB%93%9C%20/Why%20%EC%82%AC%EC%9D%B4%EC%96%B8%EC%8A%A4/%ED%83%9C%EB%B8%94%EB%A6%BF&img=http://shopping.phinf.naver.net/main_7883106/7883106075.jpg HTTP/1.1\" 200 90\n",
      "10.0.2.2 - - [21/Aug/2016 18:27:55] \"GET /classify?name=%EC%BD%94%EC%9B%90%20PMP%20O2%20/4.3%EC%9D%B8%EC%B9%98%201600%EB%A7%8C%20%EC%BB%AC%EB%9F%AC%EC%9D%98%20%ED%84%B0%EC%B9%98%20LCD%EB%A5%BC%20%EC%9E%A5%EC%B0%A9%ED%95%98%EA%B3%A0%EB%8F%84%20119%C3%9773%C3%9718%E3%8E%9C%20%EC%82%AC%EC%9D%B4%EC%A6%88%EC%97%90%20%EC%A0%9C%ED%92%88%20%EB%AC%B4%EA%B2%8C%EA%B0%80%20200%EF%BD%87%EC%9C%BC&img=http://shopping.phinf.naver.net/main_7330823/7330823119.jpg HTTP/1.1\" 200 72\n",
      "10.0.2.2 - - [21/Aug/2016 18:27:55] \"GET /classify?name=(G00151821944)3.5%20%ED%8C%8C%EC%9D%B4%20%EC%86%8C%EB%A6%AC%EA%B5%BF%20sorigood%20%20%EC%BB%A4%EB%84%90%ED%98%95%20%EB%AC%B4%ED%86%B5%EC%A6%9D%20%EC%9D%B4%EC%96%B4%ED%8F%B0%20%20%20%ED%95%98%EB%82%98%EB%8D%94%20%EC%A0%9C%EA%B3%B5&img=http://shopping.phinf.naver.net/main_6743024/6743024893.1.jpg HTTP/1.1\" 200 72\n",
      "10.0.2.2 - - [21/Aug/2016 18:27:55] \"GET /classify?name=4k%20%EC%A1%B0%EC%9D%B4%EC%8A%A4%ED%8B%B1%20%EC%B2%A0%EA%B6%8C%ED%83%9C%EA%B7%B82%20%EC%B2%A0%EA%B6%8C6%20%EC%8A%88%ED%8D%BC%EC%8A%A4%ED%8A%B8%EB%A6%AC%ED%8A%B8%ED%8C%8C%EC%9D%B4%ED%84%B04%20%20%ED%94%8C%EC%8A%A43%20%EB%B0%8F%20pc%20%EC%A7%80%EC%9B%90%20%EA%B3%A0%EC%A0%84%EA%B2%8C%EC%9E%84%20100%%EB%8C%80%EC%9D%91%20%EA%B0%9C%EC%A1%B0%EC%8A%A4&img=http://shopping.phinf.naver.net/main_7805816/7805816379.jpg HTTP/1.1\" 200 96\n",
      "10.0.2.2 - - [21/Aug/2016 18:27:55] \"GET /classify?name=KAMMISHOP%20[%EC%84%B8%EB%8B%89%EC%8A%A4PMP]%20HD10(8GB)MP5/EBS%EA%B0%95%EC%9D%98/%EC%98%81%ED%99%94/%EC%9D%8C%EC%95%85/%ED%8F%AC%ED%86%A0/ALL%20IN%20ONE/%ED%8A%B9%EA%B0%80%20%EB%AC%B4%EB%A3%8C%EB%B0%B0%EC%86%A1/%EC%BF%A0%ED%8F%B0%EC%A6%9D%EC%A0%95(20,000%EC%9B%90%EC%83%81%EB%8B%B9)&img=http://shopping.phinf.naver.net/main_6981583/6981583546.jpg HTTP/1.1\" 200 90\n",
      "10.0.2.2 - - [21/Aug/2016 18:27:55] \"GET /classify?name=%ED%81%AC%EB%A6%BC%EB%B6%81/1258%EA%B6%8C%20%EC%A0%84%EC%9E%90%EB%8F%99%ED%99%94%EC%B1%85%20%ED%83%91%EC%9E%AC%2032GB/7%EC%9D%B8%EC%B9%98&img=http://shopping.phinf.naver.net/main_7748837/7748837998.jpg HTTP/1.1\" 200 72\n",
      "10.0.2.2 - - [21/Aug/2016 18:27:55] \"GET /classify?name=[%EC%BD%94%EC%9B%90%EC%8B%9C%EC%8A%A4%ED%85%9C]%EC%BD%94%EC%9B%90%20%EC%8A%A4%EB%A7%88%ED%8A%B8PMP%20A5%20Plenue%2032GB%20*2%EC%A2%85%EC%82%AC%EC%9D%80%ED%92%88%20%EC%A6%9D%EC%A0%95*&img=http://shopping.phinf.naver.net/main_7846462/7846462547.jpg HTTP/1.1\" 200 72\n",
      "10.0.2.2 - - [21/Aug/2016 18:27:55] \"GET /classify?name=[Apple]%20%EC%95%A0%ED%94%8C%20%EC%95%84%EC%9D%B4%ED%8C%A8%EB%93%9C%204%EC%84%B8%EB%8C%80%20%EB%A0%88%ED%8B%B0%EB%82%98%20iPad%204th%20Retina%20Wi-Fi%2016GB&img=http://shopping.phinf.naver.net/main_7363834/7363834207.2.jpg HTTP/1.1\" 200 72\n",
      "10.0.2.2 - - [21/Aug/2016 18:27:55] \"GET /classify?name=[%EB%B2%A0%EC%8A%A4%ED%83%80%EC%A0%84%EC%9E%90%EC%82%AC%EC%A0%84%20BK-200C%208GB]%20%EC%A4%91%EA%B5%AD%EC%96%B4%ED%8A%B9%ED%99%94%EB%AA%A8%EB%8D%B8/%ED%91%9C%EC%A4%80%EA%B5%AD%EC%96%B4%EB%8C%80%EC%82%AC%EC%A0%84/%EC%9D%B8%ED%84%B0%EB%84%B7%EA%B0%95%EC%9D%9880P/%ED%92%80HD/MP3/%EB%8F%99%EC%98%81%EC%83%81%EC%9E%AC%EC%83%9D/4.3%EC%9D%B8%EC%B9%98%ED%99%94%EB%A9%B4&img=http://shopping.phinf.naver.net/main_7733280/7733280808.jpg HTTP/1.1\" 200 72\n",
      "10.0.2.2 - - [21/Aug/2016 18:27:55] \"GET /classify?name=%EC%BD%94%EC%9B%90%20G7%20HD[64GB]+%EC%A0%95%ED%92%88%ED%8E%A0%ED%8A%B8%ED%8C%8C%EC%9A%B0%EC%B9%98+%EC%9B%B9%ED%95%98%EB%93%9C/Full%20HD/PMP/%EC%A0%84%EC%9E%90%EC%82%AC%EC%A0%84/%EC%9D%B8%ED%84%B0%EB%84%B7%EA%B0%95%EC%9D%98&img=http://shopping.phinf.naver.net/main_6731132/6731132001.1.jpg HTTP/1.1\" 200 72\n",
      "10.0.2.2 - - [21/Aug/2016 18:27:55] \"GET /classify?name=[%EC%95%84%EC%9D%B4%EB%A6%AC%EB%B2%84(IRIVER)][%EB%A9%94%EA%B0%80%EC%8A%A4%ED%84%B0%EB%94%94+%EC%A0%84%EC%9E%90%EC%82%AC%EC%A0%84+%ED%83%9C%EB%B8%94%EB%A6%BF]%20%EC%95%84%EC%9D%B4%EB%A6%AC%EB%B2%84%20WOW%20tab%20%EC%97%90%EB%93%80%EC%8A%A4%ED%8E%98%EC%85%9C%2032GB%20+%EC%A0%95%ED%92%88%EA%B0%80%EC%A3%BD%EC%BC%80%EC%9D%B4%EC%8A%A4+%EC%95%A1%EC%A0%95%EB%B3%B4%ED%98%B8%ED%95%84%EB%A6%84&img=http://shopping.phinf.naver.net/main_7541849/7541849753.1.jpg HTTP/1.1\" 200 72\n",
      "10.0.2.2 - - [21/Aug/2016 18:27:55] \"GET /classify?name=[%ED%98%84%EB%8C%80%EC%B9%B4%EB%93%9C%205%%ED%95%A0%EC%9D%B8,%203/15]%EC%95%84%EC%9D%B4%EB%A6%AC%EB%B2%84%20WOW%20tab%20%EC%97%90%EB%93%80%EC%8A%A4%ED%8E%98%EC%85%9C%2032GB%20(%EB%A9%94%EA%B0%80%EC%8A%A4%ED%84%B0%EB%94%94+%EC%A0%84%EC%9E%90%EC%82%AC%EC%A0%84+%ED%83%9C%EB%B8%94%EB%A6%BF)%20[%EC%A6%9D%EC%A0%95%ED%92%88]%20%EC%A0%95%ED%92%88%EA%B0%80%EC%A3%BD%EC%BC%80%EC%9D%B4%EC%8A%A4+%EC%95%A1%EC%A0%95%ED%95%84%EB%A6%84&img=http://shopping.phinf.naver.net/main_7542240/7542240220.1.jpg HTTP/1.1\" 200 72\n",
      "10.0.2.2 - - [21/Aug/2016 18:27:55] \"GET /classify?name=%EB%85%B8%EC%9D%B4%EC%A6%88%ED%8E%8C%EC%9B%A8%EC%96%B4%ED%95%B4%EA%B2%B0%20%EC%95%84%EC%9D%B4%EB%A6%AC%EB%B2%84%20WoW%20tab(%EC%99%80%EC%9A%B0%ED%83%AD)%20ITQ700%2016GB%20PMP%ED%8C%A8%EB%93%9C/IPS%20%EC%9D%B8%EA%B0%95%EC%A7%80%EC%9B%90%20+%EC%A0%95%ED%92%88%EA%B0%80%EC%A3%BD%EC%BC%80%EC%9D%B4%EC%8A%A4+%EC%95%84%EC%9D%B4%EB%A6%AC%EB%B2%84%EC%A0%95%ED%92%88%20%EB%A7%88%EC%9D%B4%ED%81%AC%EB%A1%9CSD32GB+%EA%B3%A0%EA%B8%89%EC%95%A1%EC%A0%95%ED%95%84%EB%A6%84+%EB%8B%A4%EC%9A%B4%EB%A1%9C%EB%93%9C%EC%BF%A0%ED%8F%B0&img=http://shopping.phinf.naver.net/main_6834597/6834597725.2.jpg HTTP/1.1\" 200 72\n"
     ]
    },
    {
     "name": "stdout",
     "output_type": "stream",
     "text": [
      "classify called\n",
      "classify called\n",
      "classify called\n",
      "classify called\n",
      "classify called\n",
      "classify called\n",
      "classify called\n",
      "classify called\n",
      "classify called\n",
      "classify called\n",
      "classify called\n",
      "classify called\n",
      "classify called\n",
      "classify called\n",
      "classify called\n"
     ]
    },
    {
     "name": "stderr",
     "output_type": "stream",
     "text": [
      "10.0.2.2 - - [21/Aug/2016 18:27:55] \"GET /classify?name=[%EC%BF%BC%EB%93%9C%EC%BD%94%EC%96%B4CPU%ED%83%91%EC%9E%AC/7.85/%EC%A0%84%EC%9E%90%EC%82%AC%EC%A0%847%EC%A2%85%ED%83%91%EC%9E%AC]%20%EC%97%90%EB%93%80%ED%94%8C%EB%A0%88%EC%9D%B4%EC%96%B4%20%EC%97%90%EB%93%80%ED%94%8CD%2016GB%20%EC%B5%9C%EB%8C%80%EC%9D%B8%EA%B0%95%EC%A7%80%EC%9B%90%20PMP%ED%8C%A8%EB%93%9C%20%ED%83%9C%EB%B8%94%EB%A6%BF/%EC%97%90%EB%93%80%ED%94%8C5/%EC%97%90%EB%93%80%ED%94%8CQ%20[%EC%82%AC%EC%9D%80%ED%92%88]%203%EB%A7%8C%EC%9B%90%EC%83%81%EB%8B%B9%EC%9D%B4%EC%96%B4%ED%8F%B0&img=http://shopping.phinf.naver.net/main_8257962/8257962432.jpg HTTP/1.1\" 200 72\n",
      "10.0.2.2 - - [21/Aug/2016 18:27:55] \"GET /classify?name=%EB%85%B8%EC%9D%B4%EC%A6%88%ED%8E%8C%EC%9B%A8%EC%96%B4%ED%95%B4%EA%B2%B0%20%EC%95%84%EC%9D%B4%EB%A6%AC%EB%B2%84%20WoW%20tab(%EC%99%80%EC%9A%B0%ED%83%AD)%20ITQ700%2016GB%20PMP%ED%8C%A8%EB%93%9C/IPS%20%EC%9D%B8%EA%B0%95%EC%A7%80%EC%9B%90%20+%EC%A0%95%ED%92%88%EA%B0%80%EC%A3%BD%EC%BC%80%EC%9D%B4%EC%8A%A4+%EC%95%84%EC%9D%B4%EB%A6%AC%EB%B2%84%EC%A0%95%ED%92%88%20%EB%A7%88%EC%9D%B4%ED%81%AC%EB%A1%9CSD%2016GB+%EA%B3%A0%EA%B8%89%EC%95%A1%EC%A0%95%ED%95%84%EB%A6%84+%EB%8B%A4%EC%9A%B4%EB%A1%9C%EB%93%9C%EC%BF%A0%ED%8F%B0&img=http://shopping.phinf.naver.net/main_6834597/6834597710.2.jpg HTTP/1.1\" 200 72\n",
      "10.0.2.2 - - [21/Aug/2016 18:27:55] \"GET /classify?name=(%ED%98%84%EB%8C%80Hmall)[%EC%97%A0%ED%94%BC%EC%A7%80%EC%98%A4]%20%EB%A0%88%EC%A0%84%EB%93%9CI%20%EC%9D%B8%ED%85%94CPU%20IPS%ED%8C%A8%EB%84%90%20%ED%83%9C%EB%B8%94%EB%A6%BFPC%20%EB%B8%94%EB%A3%A8%ED%88%AC%EC%8A%A4%20GPS&img=http://shopping.phinf.naver.net/main_7830871/7830871171.jpg HTTP/1.1\" 200 72\n",
      "10.0.2.2 - - [21/Aug/2016 18:27:55] \"GET /classify?name=[%EC%BF%BC%EB%93%9C%EC%BD%94%EC%96%B4CPU%ED%83%91%EC%9E%AC/7.85]%20%EC%97%90%EB%93%80%ED%94%8C%EB%A0%88%EC%9D%B4%EC%96%B4%20%EC%97%90%EB%93%80%ED%94%8CW%2016GB%20%ED%83%80%EB%B8%94%EB%A6%BF/%EC%97%90%EB%93%80%ED%94%8C5/%EC%97%90%EB%93%80%ED%94%8CD&img=http://shopping.phinf.naver.net/main_8340825/8340825155.jpg HTTP/1.1\" 200 72\n",
      "10.0.2.2 - - [21/Aug/2016 18:27:55] \"GET /classify?name=10%%EC%B2%AD%EA%B5%AC%ED%95%A0%EC%9D%B8%20%20[%EC%BD%94%EC%9B%90%20PMP%20%EC%8A%A4%ED%84%B0%EB%94%94%ED%94%84%EB%A1%9C%2032GB]Study%20Pro/%EC%A0%84%EC%9E%90%EC%82%AC%EC%A0%84/MP3/%ED%95%99%EC%8A%B5%EC%A0%84%EC%9A%A9PMP/%EC%9D%B8%ED%84%B0%EB%84%B7%EA%B0%95%EC%9D%98/%ED%92%80HD%EC%98%81%EC%83%81/%EC%99%B8%EC%9E%A5[%EC%A0%95%ED%92%88%ED%8E%A0%ED%8A%B8%ED%8C%8C%EC%9A%B0%EC%B9%98+%EC%9B%B95%EC%A2%85%EC%BF%A0%ED%8F%B0%20%EC%A0%84%EC%9B%90%EC%A6%9D%EC%A0%95]&img=http://shopping.phinf.naver.net/main_8321783/8321783274.jpg HTTP/1.1\" 200 72\n",
      "10.0.2.2 - - [21/Aug/2016 18:27:55] \"GET /classify?name=[KB%EC%B9%B4%EB%93%9C5%%ED%95%A0%EC%9D%B8]%20[%EC%A0%95%ED%92%88]%20%EC%86%8C%EB%8B%88%20%ED%95%98%EC%9D%B4%EC%97%94%EB%93%9C%20%EC%95%A1%EC%85%98%EC%BA%A0%20HDRAS200VB+8G%20%EB%A7%88%EC%9D%B4%ED%81%AC%EB%A1%9C%20SD&img=http://shopping.phinf.naver.net/main_8433135/8433135719.jpg HTTP/1.1\" 200 72\n",
      "10.0.2.2 - - [21/Aug/2016 18:27:55] \"GET /classify?name=[%EC%BD%94%EC%9B%90(COWON)]%EC%BD%94%EC%9B%90%20SP3%20%EB%B8%94%EB%A3%A8%ED%88%AC%EC%8A%A4%20%EC%8A%A4%ED%94%BC%EC%BB%A4/%EC%BB%B4%ED%8C%A9%ED%8A%B8/%ED%9C%B4%EB%8C%80%EC%9A%A9/%EB%B8%94%EB%A3%A8%ED%88%AC%EC%8A%A4/DSP/%EC%8A%A4%ED%94%BC%EC%BB%A4%ED%8F%B0/%EB%A9%80%ED%8B%B0%ED%8F%AC%EC%9D%B8%ED%8A%B8/LED/%EC%95%8C%EB%A3%A8%EB%AF%B8%EB%8A%84%EB%B0%94%EB%94%94&img=http://shopping.phinf.naver.net/main_8293406/8293406351.jpg HTTP/1.1\" 200 72\n",
      "10.0.2.2 - - [21/Aug/2016 18:27:55] \"GET /classify?name=%EC%BD%94%EC%9B%90%20Super%20%ED%94%8C%EB%A0%88%EC%9D%B4%EC%96%B4%20X9[16GB]+%EC%A0%95%ED%92%88%EC%A0%A4%EB%A6%AC%EC%BC%80%EC%9D%B4%EC%8A%A4+%EC%9B%B9%ED%95%98%EB%93%9C/MP3/MP4/%EC%A0%84%EC%9E%90%EC%82%AC%EC%A0%84/%ED%83%9C%EB%B8%94%EB%A6%BF&img=http://shopping.phinf.naver.net/main_6893640/6893640111.jpg HTTP/1.1\" 200 72\n",
      "10.0.2.2 - - [21/Aug/2016 18:27:55] \"GET /classify?name=%EC%A0%95%ED%92%88%20%EC%97%90%EB%93%80%ED%94%8C3%208GB-%EC%95%84%EC%9D%B4%EB%A6%AC%EB%B2%84/%EB%A9%94%EA%B0%80%EC%8A%A4%ED%84%B0%EB%94%94/EBS/%ED%83%9C%EB%B8%94%EB%A6%BFpc&img=http://shopping.phinf.naver.net/main_7743206/7743206625.jpg HTTP/1.1\" 200 72\n",
      "10.0.2.2 - - [21/Aug/2016 18:27:55] \"GET /classify?name=TAOC(%ED%83%80%EC%98%A5)%20%ED%95%80%ED%94%8C%EB%A0%88%EC%9D%B4%ED%8A%B8%20%EC%9D%B8%EC%8A%90%EB%A0%88%EC%9D%B4%ED%84%B0%20TITE-46GP(3%EA%B0%9C/%EC%84%B8%ED%8A%B8)&img=http://shopping.phinf.naver.net/main_8051943/8051943738.jpg HTTP/1.1\" 200 72\n",
      "10.0.2.2 - - [21/Aug/2016 18:27:55] \"GET /classify?name=%EC%97%90%EB%93%80%ED%94%8C%EB%A0%88%EC%9D%B4%EC%96%B4%20%7B%EA%B3%B5%EC%8B%9D%EC%A0%95%ED%92%88%20%EC%97%90%EB%93%80%ED%94%8C3%208GB%7D%20pmp/%20EBS/%EC%95%84%EC%9D%B4%EB%A6%AC%EB%B2%84/%EC%A0%84%EC%9E%90%EC%82%AC%EC%A0%84%20%EA%B3%B5%EB%B6%80%EB%A7%8C%EC%9D%84%20%EC%9B%90%ED%95%9C%EB%8B%A4%EB%A9%B4%20%EC%97%90%EB%93%80%ED%94%8C3&img=http://shopping.phinf.naver.net/main_7743185/7743185967.jpg HTTP/1.1\" 200 72\n",
      "10.0.2.2 - - [21/Aug/2016 18:27:55] \"GET /classify?name=[4%%EC%A6%89%EC%8B%9C%ED%95%A0%EC%9D%B8%EC%BF%A0%ED%8F%B0][%ED%95%B4%EC%99%B8%EC%A7%81%EB%B0%B0%EC%86%A1]Panasonic%20CF-53JALZY1M%20TB%2053%20I5-3320m%202.60g%204GB%20500GB%20DVDRW%2014in-hd%20Wl%20Bluetooth%20Wi&img=http://shopping.phinf.naver.net/main_8283220/8283220310.jpg HTTP/1.1\" 200 72\n",
      "10.0.2.2 - - [21/Aug/2016 18:27:55] \"GET /classify?name=[4%%EC%A6%89%EC%8B%9C%ED%95%A0%EC%9D%B8%EC%BF%A0%ED%8F%B0][%ED%95%B4%EC%99%B8%EC%A7%81%EB%B0%B0%EC%86%A1]Asus%20ASUS%20VivoBook%2015.6-Inch%20HD%20Touchscreen%20Laptop%20%20Core%20i5/40088342&img=http://shopping.phinf.naver.net/main_8283208/8283208858.jpg HTTP/1.1\" 200 62\n",
      "10.0.2.2 - - [21/Aug/2016 18:27:55] \"GET /classify?name=[TSZ]%EC%82%BC%EC%84%B1%EC%A0%84%EC%9E%90%20%EB%8D%B0%EC%8A%A4%ED%81%AC%ED%83%91%20DDR3%202GB%20PC12800%20(1600GHz,%EC%9C%88%EB%8F%84%EC%9A%B07%20%ED%99%98%EB%B2%BD%ED%98%B8%ED%99%98)&img=http://shopping.phinf.naver.net/main_7253768/7253768316.jpg HTTP/1.1\" 200 62\n",
      "10.0.2.2 - - [21/Aug/2016 18:27:55] \"GET /classify?name=%EC%82%BC%EC%84%B1%EC%A0%84%EC%9E%90%20%EC%82%BC%EC%84%B1%EC%A0%84%EC%9E%90%20DDR3%20%EB%8D%B0%EC%8A%A4%ED%81%AC%ED%83%91%EC%9A%A9%20PC3-12800%202GB%20%EC%A0%95%ED%92%88%20%EC%B5%9C%EC%A0%80%EA%B0%80%20%EB%B9%A0%EB%A5%B8%EB%B0%B0%EC%86%A1/%EC%88%98%EB%9F%89%EA%B0%80%EB%8A%A5/%ED%98%84%EA%B8%88%EC%98%81%EC%88%98%EC%A6%9D%20%EA%B0%80%EB%8A%A5&img=http://shopping.phinf.naver.net/main_8064102/8064102675.jpg HTTP/1.1\" 200 62\n",
      "10.0.2.2 - - [21/Aug/2016 18:27:55] \"GET /classify?name=[%ED%95%B4%EC%99%B8]%20Kingston%20VR13LSE9S8/4%20DDR3-1333%20Sodimm%204GB%20/512mx72%20Ecc%20Cl9%20Server%20Memory&img=http://shopping.phinf.naver.net/main_8313257/8313257615.jpg HTTP/1.1\" 200 62\n"
     ]
    },
    {
     "name": "stdout",
     "output_type": "stream",
     "text": [
      "classify called\n",
      "classify called\n",
      "classify called\n",
      "classify called\n",
      "classify called\n",
      "classify called\n",
      "classify called\n",
      "classify called\n",
      "classify called\n",
      "classify called\n",
      "classify called\n",
      "classify called\n",
      "classify called\n",
      "classify called\n",
      "classify called\n",
      "classify called\n"
     ]
    },
    {
     "name": "stderr",
     "output_type": "stream",
     "text": [
      "10.0.2.2 - - [21/Aug/2016 18:27:55] \"GET /classify?name=%EC%82%BC%EC%84%B1%EC%A0%84%EC%9E%90%20%EB%8D%B0%EC%8A%A4%ED%81%AC%ED%83%91%20DDR3%208GB%2012800%20(ECC%20unbuffered)%20PC3%2012800/1600MHz)&img=http://shopping.phinf.naver.net/main_7625912/7625912106.jpg HTTP/1.1\" 200 62\n",
      "10.0.2.2 - - [21/Aug/2016 18:27:55] \"GET /classify?name=[%EC%82%BC%EC%84%B1%EC%A0%84%EC%9E%90]%20%EC%82%BC%EC%84%B1%EC%A0%84%EC%9E%90%20%EC%84%9C%EB%B2%84%EC%9A%A9%20DDR3%208GB%20PC3-12800%20ECC%20(%EC%A0%95%ED%92%88)%20%EB%8D%B0%EC%8A%A4%ED%81%AC%ED%83%91%20%EB%9E%A8%20/%20%EB%B9%A0%EB%A5%B8%EB%B0%B0%EC%86%A1&img=http://shopping.phinf.naver.net/main_8163640/8163640375.jpg HTTP/1.1\" 200 62\n",
      "10.0.2.2 - - [21/Aug/2016 18:27:55] \"GET /classify?name=%EC%82%BC%EC%84%B1%EC%A0%84%EC%9E%90%20SDHC%20EVO%20UHS-I%2016GB%20%EB%A9%94%EB%AA%A8%EB%A6%AC%EC%B9%B4%EB%93%9C&img=http://shopping.phinf.naver.net/main_7769281/7769281792.jpg HTTP/1.1\" 200 105\n",
      "10.0.2.2 - - [21/Aug/2016 18:27:55] \"GET /classify?name=[4%%EC%A6%89%EC%8B%9C%ED%95%A0%EC%9D%B8%EC%BF%A0%ED%8F%B0][%ED%95%B4%EC%99%B8]Crucial%208GB%20(2%20x%204GB)%20Ballistix%20Elite%20BL/223766%20%EB%AF%B8%EA%B5%AD%EC%A7%81%EB%B0%B0%EC%86%A1/%EC%A0%95%ED%92%88&img=http://shopping.phinf.naver.net/main_8264797/8264797410.jpg HTTP/1.1\" 200 62\n",
      "10.0.2.2 - - [21/Aug/2016 18:27:55] \"GET /classify?name=[%ED%8A%B8%EB%9E%9C%EC%84%BC%EB%93%9C]%20TX2400KLN-8GK%20%20DDR3-2400%20%EC%A7%84%EB%B3%B4%EB%90%9C%20%EA%B3%A0%EC%84%B1%EB%8A%A5%20%EA%B2%8C%EC%9D%B4%EB%B0%8D%20%EC%A0%84%EC%9A%A9%EB%A9%94%EB%AA%A8%EB%A6%AC,%20%EC%98%A4%EB%B2%84%ED%81%B4%EB%A6%AD%208GB[DDR3-2400]&img=http://shopping.phinf.naver.net/main_8131205/8131205458.jpg HTTP/1.1\" 200 62\n",
      "10.0.2.2 - - [21/Aug/2016 18:27:55] \"GET /classify?name=%EC%82%BC%EC%84%B1%20%EB%A9%94%EB%AA%A8%EB%A6%AC%EC%B9%B4%EB%93%9C%20SDHC%20Class6%20Standard%20(32GB)%20MB-SS32D&img=http://shopping.phinf.naver.net/main_7756311/7756311739.jpg HTTP/1.1\" 200 105\n",
      "10.0.2.2 - - [21/Aug/2016 18:27:55] \"GET /classify?name=[%ED%98%84%EB%8C%80%EC%B9%B4%EB%93%9C%205%%ED%95%A0%EC%9D%B8,%203/15]%ED%8A%B8%EB%9E%9C%EC%84%BC%EB%93%9C%20TX2133KLH-16GK%20DDR3-2133%20(%EC%A7%84%EB%B3%B4%EB%90%9C%20%EA%B3%A0%EC%84%B1%EB%8A%A5%20%EA%B2%8C%EC%9D%B4%EB%B0%8D%20%EC%A0%84%EC%9A%A9%EB%A9%94%EB%AA%A8%EB%A6%AC,%20%EC%98%A4%EB%B2%84%ED%81%B4%EB%9F%AD%2016GB)&img=http://shopping.phinf.naver.net/main_8301119/8301119933.jpg HTTP/1.1\" 200 62\n",
      "10.0.2.2 - - [21/Aug/2016 18:27:55] \"GET /classify?name=[TRANSCEND]%20[%ED%8A%B8%EB%9E%9C%EC%84%BC%EB%93%9C]%20TX2133KLH-16GK%20DDR3-2133%20%EC%A7%84%EB%B3%B4%EB%90%9C%20%EA%B3%A0%EC%84%B1%EB%8A%A5%20%EA%B2%8C%EC%9D%B4%EB%B0%8D%20%EC%A0%84%EC%9A%A9%EB%A9%94%EB%AA%A8%EB%A6%AC,%20%EC%98%A4%EB%B2%84%ED%81%B4%EB%9F%AD%2016GB&img=http://shopping.phinf.naver.net/main_8165729/8165729251.jpg HTTP/1.1\" 200 62\n",
      "10.0.2.2 - - [21/Aug/2016 18:27:55] \"GET /classify?name=[TRANSCEND]%20[%ED%8A%B8%EB%9E%9C%EC%84%BC%EB%93%9C]%20TX2133KLN-8GK%20%20DDR3-2133%20%EC%A7%84%EB%B3%B4%EB%90%9C%20%EA%B3%A0%EC%84%B1%EB%8A%A5%20%EA%B2%8C%EC%9D%B4%EB%B0%8D%20%EC%A0%84%EC%9A%A9%EB%A9%94%EB%AA%A8%EB%A6%AC,%20%EC%98%A4%EB%B2%84%ED%81%B4%EB%9F%AD%208GB&img=http://shopping.phinf.naver.net/main_8165734/8165734216.jpg HTTP/1.1\" 200 62\n",
      "10.0.2.2 - - [21/Aug/2016 18:27:55] \"GET /classify?name=%EC%82%BC%EC%84%B1%EC%A0%84%EC%9E%90%20%EC%82%BC%EC%84%B1%EC%A0%84%EC%9E%90%20%EB%85%B8%ED%8A%B8%EB%B6%81%20DDR3L%208GB%20PC12800&img=http://shopping.phinf.naver.net/main_7687592/7687592662.jpg HTTP/1.1\" 200 90\n",
      "10.0.2.2 - - [21/Aug/2016 18:27:55] \"GET /classify?name=%EC%82%BC%EC%84%B1%EC%A0%84%EC%9E%90%208G%20DDR3%2012800%20SAM&img=http://shopping.phinf.naver.net/main_6616500/6616500620.20121005114826.jpg HTTP/1.1\" 200 62\n",
      "10.0.2.2 - - [21/Aug/2016 18:27:55] \"GET /classify?name=%EC%82%BC%EC%84%B1%EC%A0%84%EC%9E%90%202G%20DDR2%205300%20SAM&img=http://shopping.phinf.naver.net/main_4063386/4063386291.20120211204118.jpg HTTP/1.1\" 200 62\n",
      "10.0.2.2 - - [21/Aug/2016 18:27:55] \"GET /classify?name=%EC%82%BC%EC%84%B1%EC%A0%84%EC%9E%90%20DDR3%208G%20PC3-12800%20(%EC%A0%95%ED%92%88)/%EC%96%91%EB%A9%B4/%EC%88%98%EB%9F%89%ED%8C%90%EB%A7%A4%EA%B0%80%EB%8A%A5/%EB%8B%B9%EC%9D%BC%EB%B0%9C%EC%86%A1&img=http://shopping.phinf.naver.net/main_8185057/8185057142.jpg HTTP/1.1\" 200 62\n",
      "10.0.2.2 - - [21/Aug/2016 18:27:55] \"GET /classify?name=(TW)%EC%82%BC%EC%84%B1%EC%A0%84%EC%9E%90%20%20DDR3%204G%20PC3-12800%20(%EC%A0%95%ED%92%88)%20%EB%8B%A8%EB%A9%B4&img=http://shopping.phinf.naver.net/main_8165758/8165758662.jpg HTTP/1.1\" 200 62\n",
      "10.0.2.2 - - [21/Aug/2016 18:27:55] \"GET /classify?name=[4%%EC%A6%89%EC%8B%9C%ED%95%A0%EC%9D%B8%EC%BF%A0%ED%8F%B0]%EC%82%BC%EC%84%B1%EC%A0%84%EC%9E%90%20%EB%85%B8%ED%8A%B8%EB%B6%81%20DDR3%208G%20PC3-12800%201.35V%20(%EC%A0%95%ED%92%88)/&img=http://shopping.phinf.naver.net/main_8183463/8183463824.jpg HTTP/1.1\" 200 62\n"
     ]
    },
    {
     "name": "stdout",
     "output_type": "stream",
     "text": [
      "classify called\n",
      "classify called\n",
      "classify called\n",
      "classify called\n",
      "classify called\n",
      "classify called\n",
      "classify called\n",
      "classify called\n",
      "classify called\n",
      "classify called\n",
      "classify called\n",
      "classify called\n",
      "classify called\n",
      "classify called\n",
      "classify called\n"
     ]
    },
    {
     "name": "stderr",
     "output_type": "stream",
     "text": [
      "10.0.2.2 - - [21/Aug/2016 18:27:56] \"GET /classify?name=EK%EB%A9%94%EB%AA%A8%EB%A6%AC%202G%20DDR3%2010600%20CL9%20EKM&img=http://shopping.phinf.naver.net/main_5493357/5493357325.20120211195127.jpg HTTP/1.1\" 200 62\n",
      "10.0.2.2 - - [21/Aug/2016 18:27:56] \"GET /classify?name=CORSAIR%2032G%20DDR4%2022400%20CL16%20Dominator%20Platinum%20COS&img=http://shopping.phinf.naver.net/main_8200404/8200404319.20150116171813.jpg HTTP/1.1\" 200 79\n",
      "10.0.2.2 - - [21/Aug/2016 18:27:56] \"GET /classify?name=SK%ED%95%98%EC%9D%B4%EB%8B%89%EC%8A%A4%20NOTE%202G%20DDR2%205300%20HYN%20SODIMM&img=http://shopping.phinf.naver.net/main_4037940/4037940552.20120211182616.jpg HTTP/1.1\" 200 62\n",
      "10.0.2.2 - - [21/Aug/2016 18:27:56] \"GET /classify?name=%EC%82%BC%EC%84%B1%EC%A0%84%EC%9E%90%20%EB%85%B8%ED%8A%B8%EB%B6%81%20DDR3%204G%20PC3-12800%20SO-DIMM%20(8%EC%B9%A9,%20%EC%9D%BC%EB%B0%98%EC%A0%84%EB%A0%A5)%20[%2014%EB%85%84%20%EC%A3%BC%EC%B0%A8%20]&img=http://shopping.phinf.naver.net/main_8256693/8256693967.jpg HTTP/1.1\" 200 62\n",
      "10.0.2.2 - - [21/Aug/2016 18:27:56] \"GET /classify?name=CORSAIR%2032G%20DDR4%2024000%20CL15%20Dominator%20Platinum%20KIT%20COR&img=http://shopping.phinf.naver.net/main_8178518/8178518093.20141229115102.jpg HTTP/1.1\" 200 62\n",
      "10.0.2.2 - - [21/Aug/2016 18:27:56] \"GET /classify?name=[4%%EC%A6%89%EC%8B%9C%ED%95%A0%EC%9D%B8%EC%BF%A0%ED%8F%B0]Crucial%208GB%20(2x4GB)%20FB-DIMM%20Mac%20Pro%20Memo/392554&img=http://shopping.phinf.naver.net/main_8264841/8264841590.jpg HTTP/1.1\" 200 62\n",
      "10.0.2.2 - - [21/Aug/2016 18:27:56] \"GET /classify?name=[4%%EC%A6%89%EC%8B%9C%ED%95%A0%EC%9D%B8%EC%BF%A0%ED%8F%B0][%ED%95%B4%EC%99%B8%EC%A7%81%EB%B0%B0%EC%86%A1]Crucial%208GB%20Kit%20(4GBx2)%20DDR3%201600%20MT/s%20(PC3%20-%2012800)%20CL11%20SODIMM%20204-Pin%201.35V/1.5V&img=http://shopping.phinf.naver.net/main_8282820/8282820026.jpg HTTP/1.1\" 200 62\n",
      "10.0.2.2 - - [21/Aug/2016 18:27:56] \"GET /classify?name=[4%%EC%A6%89%EC%8B%9C%ED%95%A0%EC%9D%B8%EC%BF%A0%ED%8F%B0][%ED%95%B4%EC%99%B8]HP%204GB%20(1%20x%204GB)%20DDR3L%201600%20MHz%201.35%20V%20N/224023%20%EB%AF%B8%EA%B5%AD%EC%A7%81%EB%B0%B0%EC%86%A1/%EC%A0%95%ED%92%88&img=http://shopping.phinf.naver.net/main_8264830/8264830646.jpg HTTP/1.1\" 200 62\n",
      "10.0.2.2 - - [21/Aug/2016 18:27:56] \"GET /classify?name=G.SKILL%2016G%20DDR3%2017000%20CL9%20RIPJAWS%20XH%20KIT%20GSK&img=http://shopping.phinf.naver.net/main_6681455/6681455427.20121126115535.jpg HTTP/1.1\" 200 62\n",
      "10.0.2.2 - - [21/Aug/2016 18:27:56] \"GET /classify?name=[%ED%95%B4%EC%99%B8]Mushkin%20Enhanced%20MKNSSDBRKT2535%203.5-Inch%20to%202.5-Inch%20Drive%20Adap.ter%20Bracket/2047265&img=http://shopping.phinf.naver.net/main_8274512/8274512249.jpg HTTP/1.1\" 200 95\n",
      "10.0.2.2 - - [21/Aug/2016 18:27:56] \"GET /classify?name=[4%%EC%A6%89%EC%8B%9C%ED%95%A0%EC%9D%B8%EC%BF%A0%ED%8F%B0]%20eICODA%20%20%20eICOD&img=http://shopping.phinf.naver.net/main_8272868/8272868564.jpg HTTP/1.1\" 200 62\n",
      "10.0.2.2 - - [21/Aug/2016 18:27:56] \"GET /classify?name=[4%%EC%A6%89%EC%8B%9C%ED%95%A0%EC%9D%B8%EC%BF%A0%ED%8F%B0][%ED%95%B4%EC%99%B8%EC%A7%81%EB%B0%B0%EC%86%A1]HP%20Chromebook%2011%20(White/Red)/30093216&img=http://shopping.phinf.naver.net/main_8280031/8280031889.jpg HTTP/1.1\" 200 104\n",
      "10.0.2.2 - - [21/Aug/2016 18:27:56] \"GET /classify?name=%EC%82%BC%EC%84%B1%EC%A0%84%EC%9E%90%202G%20DDR2%206400%20SAM&img=http://shopping.phinf.naver.net/main_4063384/4063384379.20120211212511.jpg HTTP/1.1\" 200 62\n",
      "10.0.2.2 - - [21/Aug/2016 18:27:56] \"GET /classify?name=%EC%82%BC%EC%84%B1%EC%A0%84%EC%9E%90%208G%20DDR4%2017000%20SAM&img=http://shopping.phinf.naver.net/main_8118555/8118555004.20141229111554.jpg HTTP/1.1\" 200 62\n",
      "10.0.2.2 - - [21/Aug/2016 18:27:56] \"GET /classify?name=%ED%8A%B8%EB%9E%9C%EC%84%BC%EB%93%9C%20TX2133KLN-8GK&img=http://shopping.phinf.naver.net/main_8237761/8237761164.20150122114209.jpg HTTP/1.1\" 200 90\n"
     ]
    },
    {
     "name": "stdout",
     "output_type": "stream",
     "text": [
      "classify called\n",
      "classify called\n",
      "classify called\n",
      "classify called\n",
      "classify called\n",
      "classify called\n",
      "classify called\n",
      "classify called\n",
      "classify called\n",
      "classify called\n",
      "classify called\n",
      "classify called\n",
      "classify called\n",
      "classify called\n",
      "classify called\n",
      "classify called\n"
     ]
    },
    {
     "name": "stderr",
     "output_type": "stream",
     "text": [
      "10.0.2.2 - - [21/Aug/2016 18:27:56] \"GET /classify?name=(TW)%EC%82%BC%EC%84%B1%EC%A0%84%EC%9E%90%20%20DDR3%204G%20PC3-12800%20(%EC%A0%95%ED%92%88)%20%EB%8B%A8%EB%A9%B4&img=http://shopping.phinf.naver.net/main_8165758/8165758662.jpg HTTP/1.1\" 200 62\n",
      "10.0.2.2 - - [21/Aug/2016 18:27:56] \"GET /classify?name=%EC%82%BC%EC%84%B1%EC%A0%84%EC%9E%90%20512M%20DDR%202700%20SAM&img=http://shopping.phinf.naver.net/main_1100006/1100006754.20120211211251.jpg HTTP/1.1\" 200 62\n",
      "10.0.2.2 - - [21/Aug/2016 18:27:56] \"GET /classify?name=G.SKILL%208G%20DDR3%2019200%20CL11%20RIPJAWS%20XM&img=http://shopping.phinf.naver.net/main_7057448/7057448840.20130809113456.jpg HTTP/1.1\" 200 62\n",
      "10.0.2.2 - - [21/Aug/2016 18:27:56] \"GET /classify?name=%EC%82%BC%EC%84%B1%EC%A0%84%EC%9E%90%202G%20DDR2%205300P%20ECC%20SAM&img=http://shopping.phinf.naver.net/main_5509530/5509530628.jpg HTTP/1.1\" 200 62\n",
      "10.0.2.2 - - [21/Aug/2016 18:27:56] \"GET /classify?name=[4%%EC%A6%89%EC%8B%9C%ED%95%A0%EC%9D%B8%EC%BF%A0%ED%8F%B0]Crucial%208GB%20(2x4GB)%20FB-DIMM%20Mac%20Pro%20Memo/392554&img=http://shopping.phinf.naver.net/main_8264841/8264841590.jpg HTTP/1.1\" 200 62\n",
      "10.0.2.2 - - [21/Aug/2016 18:27:56] \"GET /classify?name=CORSAIR%208G%20DDR3%2017066%20CL9%20VENGEANCE%20PRO&img=http://shopping.phinf.naver.net/main_7026690/7026690792.20130724154317.jpg HTTP/1.1\" 200 62\n",
      "10.0.2.2 - - [21/Aug/2016 18:27:56] \"GET /classify?name=%EC%94%A8%EB%84%A5%EC%8A%A4%204G%20DDR4%2017000%20CYN&img=http://shopping.phinf.naver.net/main_8139336/8139336600.20150116173539.jpg HTTP/1.1\" 200 62\n",
      "10.0.2.2 - - [21/Aug/2016 18:27:56] \"GET /classify?name=[4%%EC%A6%89%EC%8B%9C%ED%95%A0%EC%9D%B8%EC%BF%A0%ED%8F%B0]%20eICODA%20%20%20%ED%8B%B0%EB%AE%A4%20%20%EC%A7%80&img=http://shopping.phinf.naver.net/main_8273953/8273953357.jpg HTTP/1.1\" 200 62\n",
      "10.0.2.2 - - [21/Aug/2016 18:27:56] \"GET /classify?name=[4%%EC%A6%89%EC%8B%9C%ED%95%A0%EC%9D%B8%EC%BF%A0%ED%8F%B0][%ED%95%B4%EC%99%B8%EC%A7%81%EB%B0%B0%EC%86%A1]HP%20EliteBook%20H3J23US%20ABA%2015.6-Inch%20Laptop%20(Silver)/30093616&img=http://shopping.phinf.naver.net/main_8280041/8280041666.jpg HTTP/1.1\" 200 62\n",
      "10.0.2.2 - - [21/Aug/2016 18:27:56] \"GET /classify?name=[4%%EC%A6%89%EC%8B%9C%ED%95%A0%EC%9D%B8%EC%BF%A0%ED%8F%B0][%ED%95%B4%EC%99%B8%EC%A7%81%EB%B0%B0%EC%86%A1]HP%20EliteBook%20B9T72US%20ABA%2014-Inch%20Laptop%20(Silver)/30093579&img=http://shopping.phinf.naver.net/main_8280036/8280036089.jpg HTTP/1.1\" 200 62\n",
      "10.0.2.2 - - [21/Aug/2016 18:27:56] \"GET /classify?name=[4%%EC%A6%89%EC%8B%9C%ED%95%A0%EC%9D%B8%EC%BF%A0%ED%8F%B0][%ED%95%B4%EC%99%B8%EC%A7%81%EB%B0%B0%EC%86%A1]HP%20ProBook%20D3S66US%20ABA%2015.6-Inch%20Laptop%20(Black)/30093625&img=http://shopping.phinf.naver.net/main_8280017/8280017857.jpg HTTP/1.1\" 200 62\n",
      "10.0.2.2 - - [21/Aug/2016 18:27:56] \"GET /classify?name=[4%%EC%A6%89%EC%8B%9C%ED%95%A0%EC%9D%B8%EC%BF%A0%ED%8F%B0][%ED%95%B4%EC%99%B8%EC%A7%81%EB%B0%B0%EC%86%A1]HP%20ProBook%20D4R44US%20ABA%2015.6-Inch%20Laptop%20(Black)/30093595&img=http://shopping.phinf.naver.net/main_8280001/8280001057.jpg HTTP/1.1\" 200 62\n",
      "10.0.2.2 - - [21/Aug/2016 18:27:56] \"GET /classify?name=[4%%EC%A6%89%EC%8B%9C%ED%95%A0%EC%9D%B8%EC%BF%A0%ED%8F%B0][%ED%95%B4%EC%99%B8%EC%A7%81%EB%B0%B0%EC%86%A1]Dell%20Inspiron%20i3541-5001BLK%2015.6-Inch%20Laptop/30092949&img=http://shopping.phinf.naver.net/main_8279991/8279991262.jpg HTTP/1.1\" 200 62\n",
      "10.0.2.2 - - [21/Aug/2016 18:27:56] \"GET /classify?name=[%ED%95%B4%EC%99%B8]Crucial%20CT2CP25664AA667%204GB%202GBx2%20240-pin%20DIMM%20DDR2%20PC2-5300%20Memory%20Module/2074628&img=http://shopping.phinf.naver.net/main_8274684/8274684790.jpg HTTP/1.1\" 200 62\n",
      "10.0.2.2 - - [21/Aug/2016 18:27:56] \"GET /classify?name=[SKT%20%EA%B8%B0%EA%B8%B0%EB%B3%80%EA%B2%BD]G3%20Cat.6(LG-F460S)%E2%98%86%EC%A0%84%EA%B5%AD%EB%AF%BC%EB%AC%B4%ED%95%9C100%E2%98%86%ED%95%A0%EB%B6%80%EC%9B%90%EA%B8%88%20512200%E2%98%86%EA%B0%80%EC%9E%85%EB%B9%84%EB%A9%B4%EC%A0%9C%E2%98%86%EC%9C%A0%EC%8B%AC%EB%B9%84%ED%9B%84%EC%B2%AD%EA%B5%AC(9,900%EC%9B%90)%E2%98%86%EC%9C%84%EC%95%BD%EA%B8%88(%EB%82%A8%EC%9D%80%20%ED%95%A0%EB%B6%80%EC%9B%90%EA%B8%88,%EB%B0%9B%EC%9D%80%20%EC%A7%80%EC%9B%90%EA%B8%88,%EC%95%BD%EC%A0%95%ED%95%A0%EC%9D%B8%EA%B8%88)%E2%98%86%EB%B6%80%EA%B0%80%EC%84%9C&img=http://shopping.phinf.naver.net/main_8121397/8121397253.jpg HTTP/1.1\" 200 66\n",
      "10.0.2.2 - - [21/Aug/2016 18:27:56] \"GET /classify?name=[SKT%EA%B8%B0%EA%B8%B0%EB%B3%80%EA%B2%BD]%20[%ED%81%B4%EB%9F%BDT]%20[LG-F460S]%20[G3%20CAT6]%20[%ED%95%A0%EB%B6%80%EC%9B%90%EA%B8%88799,700%EC%9B%90]%20[LTE%ED%94%8C%EB%9F%AC%EC%8A%A4%EC%95%BD%EC%A0%9524%EA%B0%9C%EC%9B%94]%20[%EA%B0%80%EC%9E%85%EB%B9%84%EB%AC%B4%EB%A3%8C/%EC%9C%A0%EC%8B%AC%ED%9B%84%EB%82%A9]%20[%EC%9C%84%EC%95%BD%EA%B8%88%EC%A0%81%EC%9A%A9]%20[%EB%B6%80%EA%B0%80X]%20[%EC%BC%80%EC%9D%B4%EC%8A%A4+%ED%95%84&img=http://shopping.phinf.naver.net/main_8223536/8223536959.jpg HTTP/1.1\" 200 66\n"
     ]
    },
    {
     "name": "stdout",
     "output_type": "stream",
     "text": [
      "classify called\n",
      "classify called\n",
      "classify called\n",
      "classify called\n",
      "classify called\n",
      "classify called\n",
      "classify called\n",
      "classify called\n",
      "classify called\n",
      "classify called\n",
      "classify called\n",
      "classify called\n",
      "classify called\n",
      "classify called\n",
      "classify called\n"
     ]
    },
    {
     "name": "stderr",
     "output_type": "stream",
     "text": [
      "10.0.2.2 - - [21/Aug/2016 18:27:56] \"GET /classify?name=[SKT%20%EB%B2%88%ED%98%B8%EC%9D%B4%EB%8F%99][%EC%82%BC%EC%84%B1%20%EA%B0%A4%EB%9F%AD%EC%8B%9CW(SM-T255S)]%EC%95%BD%EC%A0%9524%EA%B0%9C%EC%9B%94/%EC%9A%94%EA%B8%88%EC%A0%9C%EC%9E%90%EC%9C%A0/%ED%95%A0%EB%B6%80%EC%9B%90%EA%B8%88%200~100,500%EC%9B%90/%EA%B0%80%EC%9E%85%EB%B9%84%20%EC%97%86%EC%9D%8C/%EC%9C%A0%EC%8B%AC%ED%9B%84%EB%82%A9/%EB%B6%80%EA%B0%80%EC%84%9C%EB%B9%84%EC%8A%A4%20%EB%AC%B4/%EB%8B%A8%EB%A7%90%EC%A7%80%EC%9B%90%20%EC%9C%84%EC%95%BD%EA%B8%88[IT%EB%82%9C%EB%8B%A4_FM%EC%8A%A4%ED%83%80%EC%9D%BC]&img=http://shopping.phinf.naver.net/main_8304304/8304304116.jpg HTTP/1.1\" 200 66\n",
      "10.0.2.2 - - [21/Aug/2016 18:27:56] \"GET /classify?name=[SKT%20%EB%B2%88%ED%98%B8%EC%9D%B4%EB%8F%99][24%EA%B0%9C%EC%9B%94%EC%95%BD%EC%A0%95][%EA%B0%A4%EB%9F%AD%EC%8B%9CW%20SM-T255S][%ED%95%A0%EB%B6%80%EC%9B%90%EA%B8%88%2018,850%EC%9B%90][%EC%A0%84%EA%B5%AD%EB%AF%BC%EB%AC%B4%ED%95%9C69%20%EC%9A%94%EA%B8%88%EC%A0%9C][%EA%B0%80%EC%9E%85%EB%B9%84%EB%AC%B4%EB%A3%8C%20%EC%9C%A0%EC%8B%AC%EB%B9%84%ED%9B%84%EB%82%A9][%EC%9C%84%EC%95%BD%EA%B8%88%20%EB%8B%A8%ED%86%B5%EB%B2%95%EA%B8%B0%EC%A4%80][%EB%B6%80%EA%B0%80%EC%84%9C%EB%B9%84%EC%8A%A4%20%EC%97%86%EC%9D%8C]&img=http://shopping.phinf.naver.net/main_8083471/8083471151.jpg HTTP/1.1\" 200 66\n",
      "10.0.2.2 - - [21/Aug/2016 18:27:56] \"GET /classify?name=[SKT%20%EB%B2%88%ED%98%B8%EC%9D%B4%EB%8F%99][24%EA%B0%9C%EC%9B%94%EC%95%BD%EC%A0%95][%EA%B0%A4%EB%9F%AD%EC%8B%9C%EA%B7%B8%EB%9E%9C%EB%93%9C%EB%A7%A5%EC%8A%A4][%ED%95%A0%EB%B6%80%EC%9B%90%EA%B8%88%20121,200%EC%9B%90][%EC%A0%84%EA%B5%AD%EB%AF%BC%EB%AC%B4%ED%95%9C69%20%EC%9A%94%EA%B8%88][%EA%B0%80%EC%9E%85%EB%B9%84%EB%A9%B4%EC%A0%9C%20%EC%9C%A0%EC%8B%AC%ED%9B%84%EB%82%A9][%EC%9C%84%EC%95%BD%EA%B8%88%EC%9C%A0][%EB%B6%80%EA%B0%80%EB%AC%B4][SM-G720NO][%EC%82%BC%EC%84%B1%EC%8A%A4%EB%A7%88%ED%8A%B8%ED%8F%B0%20%ED%9A%A8%EB%8F%84%ED%8F%B0&img=http://shopping.phinf.naver.net/main_8278853/8278853314.jpg HTTP/1.1\" 200 66\n",
      "10.0.2.2 - - [21/Aug/2016 18:27:56] \"GET /classify?name=%E2%98%85%20SK%20%EA%B0%A4%EB%9F%AD%EC%8B%9CS6-64G%20[%EA%B8%B0%EA%B8%B0%EB%B3%80%EA%B2%BD]%20[%ED%8D%BC%ED%8E%99%ED%8A%B8%EB%AC%B4%ED%95%9C100]%20[%EA%B0%80%EC%9E%85%EB%B9%84%20%EC%97%86%EC%9D%8C]%20[%EA%B8%B0%EC%A1%B4%EC%9C%A0%EC%8B%AC%EC%82%AC%EC%9A%A9]%20[%EB%B6%80%EA%B0%80%EC%84%9C%EB%B9%84%EC%8A%A4%20%EC%97%86%EC%9D%8C]%20[24%EA%B0%9C%EC%9B%94%EC%9A%94%EA%B8%88%EC%A0%9C%EC%95%BD%EC%A0%95]%20[%EC%9C%84%EC%95%BD%EA%B8%884]%20[%ED%95%A0%EB%B6%80%EC%9B%90%EA%B8%88786,000%EC%9B%90]&img=http://shopping.phinf.naver.net/main_8418960/8418960831.jpg HTTP/1.1\" 200 68\n",
      "10.0.2.2 - - [21/Aug/2016 18:27:56] \"GET /classify?name=[SKT%20%EB%B2%88%ED%98%B8%EC%9D%B4%EB%8F%99]LG-F480S%20%EC%A0%84%EA%B5%AD%EB%AF%BC%EB%AC%B4%ED%95%9C85%E2%98%85%ED%95%A0%EC%9B%9074700%E2%96%A0%EC%84%A0%EB%B0%9C%EC%86%A1%ED%9B%84%EA%B0%9C%ED%86%B5%E2%96%A0%EB%8B%B9%EC%9D%BC%EB%B0%9C%EC%86%A1%E2%96%A0%EA%B0%80%EC%9E%85%EB%B9%84%EB%AC%B4%E2%96%A0%EC%9C%A0%EC%8B%AC%EC%9C%A0%E2%98%85%EB%B6%80%EA%B0%80%EB%AC%B4%E2%96%A024%EA%B0%9C%EC%9B%94%ED%95%A0%EB%B6%80%20%ED%95%A0%EC%9D%B8%EB%B0%98%ED%99%98%EA%B8%88%EB%AC%B4&img=http://shopping.phinf.naver.net/main_8003992/8003992528.jpg HTTP/1.1\" 200 66\n",
      "10.0.2.2 - - [21/Aug/2016 18:27:56] \"GET /classify?name=[SKT%EB%B2%88%ED%98%B8%EC%9D%B4%EB%8F%99][24%EA%B0%9C%EC%9B%94%EC%95%BD%EC%A0%95]%20SHV-E330S%2016G%20[%ED%95%A0%EB%B6%80%20211,900%EC%9B%90][%EA%B0%80%EC%9E%85%EB%B9%84%EB%A9%B4%EC%A0%9C][%EC%9C%A0%EC%8B%AC%ED%9B%84%EB%82%A9][100%EC%9A%94%EA%B8%88%EC%A0%9C][%EC%9C%84%EC%95%BD%EA%B8%88=%EC%95%BD%E2%80%A6&img=http://shopping.phinf.naver.net/main_8011483/8011483551.jpg HTTP/1.1\" 200 66\n",
      "10.0.2.2 - - [21/Aug/2016 18:27:56] \"GET /classify?name=[SKT][%EB%B2%88%ED%98%B8%EC%9D%B4%EB%8F%99][24%EA%B0%9C%EC%9B%94%EC%95%BD%EC%A0%95][%EA%B0%A4%EB%9F%AD%EC%8B%9CS4][SHV-E330S][211,900%EC%9B%90][%EC%9A%94%EA%B8%88%EC%A0%9C:%EC%A0%84%EA%B5%AD%EB%AF%BC100][%EA%B0%80%EC%9E%85%EB%B9%84:%EC%97%86%EC%9D%8C][%EC%9C%A0%EC%8B%AC%EB%B9%84:%EB%A9%B4%EC%A0%9C][%EA%B3%B5%EC%8B%9C%EC%A7%80%EC%9B%90%EB%B0%98%ED%99%98%EA%B8%88][%EB%B6%80%EA%B0%80:%EC%97%86%EC%9D%8C]&img=http://shopping.phinf.naver.net/main_8180601/8180601256.1.jpg HTTP/1.1\" 200 66\n",
      "10.0.2.2 - - [21/Aug/2016 18:27:56] \"GET /classify?name=%EA%B0%A4%EB%9F%AD%EC%8B%9C%20(%20SHV-E330S%20%EA%B0%A4%EB%9F%AD%EC%8B%9CS4%20%20%EC%B5%9C%EC%A0%80%EA%B0%80%20%EC%82%AC%EC%9D%80%ED%92%88&img=http://shopping.phinf.naver.net/main_7824164/7824164641.1.jpg HTTP/1.1\" 200 66\n",
      "10.0.2.2 - - [21/Aug/2016 18:27:56] \"GET /classify?name=[SKT-%EB%B2%88%EC%9D%B4]%EA%B2%94%EB%9F%AD%EC%8B%9C%20%EB%A9%94%EA%B0%80%E2%99%A5%EC%98%A8%EA%B0%80%EC%A1%B1%ED%95%A0%EC%9D%B8%E2%99%A5%EC%82%AC%EC%9D%80%ED%92%88(%EC%83%A4%EC%98%A4%EB%AF%B8%EB%B3%B4%EC%A1%B0%EB%B0%B0%ED%84%B0%EB%A6%AC%20%EC%99%B85%EC%A2%85)%E2%99%A51%EC%9B%90%E2%99%A524%EA%B0%9C%EC%9B%94/100%EC%9A%94%EA%B8%88%EC%A0%9C/%EA%B0%80%EC%9E%85%EB%B9%84X%EC%9C%A0%EC%8B%ACO%EB%B6%80%EA%B0%80X%EC%9C%84%EC%95%BD%EB%B0%98%ED%99%98%EA%B8%88O&img=http://shopping.phinf.naver.net/main_8213547/8213547987.jpg HTTP/1.1\" 200 66\n",
      "10.0.2.2 - - [21/Aug/2016 18:27:56] \"GET /classify?name=[SKT%20%EA%B8%B0%EA%B8%B0%EB%B3%80%EA%B2%BD]%EA%B0%A4%EB%9F%AD%EC%8B%9C%EB%A9%94%EA%B0%80[99,700%EC%9B%90][24%EA%B0%9C%EC%9B%94][T%EB%81%BC%EB%A6%AC100%EC%9A%94%EA%B8%88%EC%A0%9C%EA%B8%B0%EC%A4%80][%EA%B0%80%EC%9E%85%EB%B9%84%EC%97%86%EC%9D%8C][%EC%9C%A0%EC%8B%AC%ED%9B%84%EB%82%A9][%EC%9C%84%EC%95%BD%EA%B8%88%EC%9C%A0][%EB%B6%80%EA%B0%80%EB%AC%B4]&img=http://shopping.phinf.naver.net/main_8361099/8361099841.jpg HTTP/1.1\" 200 66\n",
      "10.0.2.2 - - [21/Aug/2016 18:27:56] \"GET /classify?name=SKT%20%EA%B0%A4%EB%9F%AD%EC%8B%9C%EB%A9%94%EA%B0%80%20[SHV-E310S]%20%EC%8B%A0%EA%B7%9C%EA%B0%80%EC%9E%85%20[LTE100%20/%ED%95%A0%EB%B6%80%EA%B8%88:%201%EC%9B%90/24%EA%B0%9C%EC%9B%94%EC%95%BD%EC%A0%95/%EA%B0%80%EC%9E%85%EB%B9%84%EC%97%86%EC%9D%8C/%EC%9C%A0%EC%8B%AC%EB%B9%84%ED%9B%84%EB%82%A9/%EB%B6%80%EA%B0%80%E7%84%A1/%EC%B6%94%EA%B0%80%ED%95%A0%EC%9D%B8/%EC%9C%84%EC%95%BD%EA%B8%88%E6%9C%89/%EC%82%AC%EC%9D%80%ED%92%88]&img=http://shopping.phinf.naver.net/main_8247950/8247950310.jpg HTTP/1.1\" 200 66\n",
      "10.0.2.2 - - [21/Aug/2016 18:27:56] \"GET /classify?name=[SKT%20%EA%B0%A4%EB%9F%AD%EC%8B%9C%EB%A9%94%EA%B0%80%20(SHV-E310S)%20%EC%8B%A0%EA%B7%9C%EA%B0%80%EC%9E%85]%20%ED%95%A0%EB%B6%80%EC%9B%90%EA%B8%88%200%20/%20%EB%AC%B4%ED%95%9C100%20/%20%EC%95%BD%EC%A0%9524%EA%B0%9C%EC%9B%94%20/%20%EA%B0%80%EC%9E%85%EB%B9%84%EC%97%86%EC%9D%8C%20/%20%EC%9C%A0%EC%8B%AC%EB%B9%84%ED%9B%84%EB%82%A9%20/%20%EC%95%BD%EC%A0%95%EC%9C%84%EC%95%BD%EA%B8%88%20%EC%97%86%EC%9D%8C%20/%20%EB%B6%80%EA%B0%80%EC%84%9C%EB%B9%84%EC%8A%A4%20%EC%97%86%EC%9D%8C&img=http://shopping.phinf.naver.net/main_8178736/8178736574.jpg HTTP/1.1\" 200 66\n",
      "10.0.2.2 - - [21/Aug/2016 18:27:56] \"GET /classify?name=[SKT%EB%B2%88%ED%98%B8%EC%9D%B4%EB%8F%99][24%EA%B0%9C%EC%9B%94%EC%95%BD%EC%A0%95]%20SHV-E310S%20[%ED%95%A0%EB%B6%80%20190,200%EC%9B%90][%EA%B0%80%EC%9E%85%EB%B9%84%EB%A9%B4%EC%A0%9C][%EC%9C%A0%EC%8B%AC%ED%9B%84%EB%82%A9][35%EC%9A%94%EA%B8%88%EC%A0%9C][%EC%9C%84%EC%95%BD%EA%B8%88=%EC%95%BD%EC%A0%954][%E2%80%A6&img=http://shopping.phinf.naver.net/main_8204491/8204491043.jpg HTTP/1.1\" 200 66\n",
      "10.0.2.2 - - [21/Aug/2016 18:27:56] \"GET /classify?name=[SKT%20%EC%8B%A0%EA%B7%9C%EA%B0%80%EC%9E%85]SHV-E470S%20T%EB%81%BC%EB%A6%AC35%E2%98%85%ED%95%A0%EC%9B%90461300%E2%96%A0%EB%8B%B9%EC%9D%BC%EB%B0%9C%EC%86%A1%E2%96%A0%EA%B0%80%EC%9E%85%EB%B9%84%EB%AC%B4%E2%96%A0%EC%9C%A0%EC%8B%AC%EC%9C%A0%E2%98%85%EB%B6%80%EA%B0%80%EB%AC%B4%E2%96%A024%EA%B0%9C%EC%9B%94%ED%95%A0%EB%B6%80%20%ED%95%A0%EC%9D%B8%EB%B0%98%ED%99%98%EA%B8%88%EB%AC%B4&img=http://shopping.phinf.naver.net/main_8064697/8064697014.jpg HTTP/1.1\" 200 66\n",
      "10.0.2.2 - - [21/Aug/2016 18:27:56] \"GET /classify?name=[SKT%20%EC%8B%A0%EA%B7%9C%EA%B0%80%EC%9E%85]SHV-E470S%20T%EB%81%BC%EB%A6%AC45%E2%98%85%ED%95%A0%EC%9B%90441750%E2%96%A0%EB%8B%B9%EC%9D%BC%EB%B0%9C%EC%86%A1%E2%96%A0%EA%B0%80%EC%9E%85%EB%B9%84%EB%AC%B4%E2%96%A0%EC%9C%A0%EC%8B%AC%EC%9C%A0%E2%98%85%EB%B6%80%EA%B0%80%EB%AC%B4%E2%96%A024%EA%B0%9C%EC%9B%94%ED%95%A0%EB%B6%80%20%ED%95%A0%EC%9D%B8%EB%B0%98%ED%99%98%EA%B8%88%EB%AC%B4&img=http://shopping.phinf.naver.net/main_8003991/8003991834.jpg HTTP/1.1\" 200 66\n"
     ]
    },
    {
     "name": "stdout",
     "output_type": "stream",
     "text": [
      "classify called\n",
      "classify called\n",
      "classify called\n",
      "classify called\n",
      "classify called\n",
      "classify called\n",
      "classify called\n",
      "classify called\n",
      "classify called\n",
      "classify called\n",
      "classify called\n",
      "classify called\n",
      "classify called\n"
     ]
    },
    {
     "name": "stderr",
     "output_type": "stream",
     "text": [
      "10.0.2.2 - - [21/Aug/2016 18:27:56] \"GET /classify?name=[SKT%20%EC%8B%A0%EA%B7%9C%EA%B0%80%EC%9E%85][24%EA%B0%9C%EC%9B%94%EC%95%BD%EC%A0%95][%EA%B0%A4%EB%9F%AD%EC%8B%9C%20%EB%85%B8%ED%8A%B84%20S-LTE][%ED%95%A0%EB%B6%80%EC%9B%90%EA%B8%88%20612,000%EC%9B%90][%EC%A0%84%EA%B5%AD%EB%AF%BC%EB%AC%B4%ED%95%9C100%20%EC%9A%94%EA%B8%88][%EA%B0%80%EC%9E%85%EB%B9%84%EB%A9%B4%EC%A0%9C%20%EC%9C%A0%EC%8B%AC%ED%9B%84%EB%82%A9][%EC%9C%84%EC%95%BD%EA%B8%88%20%EC%9C%A0][%EB%B6%80%EA%B0%80%20%EB%AC%B4][SM-N916S]&img=http://shopping.phinf.naver.net/main_8382940/8382940990.jpg HTTP/1.1\" 200 66\n",
      "10.0.2.2 - - [21/Aug/2016 18:27:56] \"GET /classify?name=[SKT%20%EC%8B%A0%EA%B7%9C%EA%B0%80%EC%9E%85][%EC%95%84%EC%9D%B4%ED%8F%B06%20Plus%2064G][%ED%95%A0%EB%B6%80%EC%9B%90%EA%B8%88%20918,000%EC%9B%90][%EC%A0%84%EA%B5%AD%EB%AF%BC%20100%EC%9A%94%EA%B8%88%EC%A0%9C%EA%B8%B0%EC%A4%80][24%EA%B0%9C%EC%9B%94.iPhone6%20Plus%2064G][%EA%B0%80%EC%9E%85%EB%B9%84%EC%97%86%EC%9D%8C.%EC%9C%A0%EC%8B%AC%EB%B9%84%ED%9B%84%EB%82%A9][%ED%95%A0%EC%9D%B8%EB%B0%98%ED%99%98%EA%B8%88.%EB%B6%80%EA%B0%80%EB%AC%B4&img=http://shopping.phinf.naver.net/main_8244468/8244468741.jpg HTTP/1.1\" 200 66\n",
      "10.0.2.2 - - [21/Aug/2016 18:27:56] \"GET /classify?name=[SKT%20%EB%B3%B4%EC%83%81%EA%B8%B0%EB%B3%80]%20%EA%B0%A4%EB%9F%AD%EC%8B%9C%EC%9C%88/SHV-E500S/%EB%AC%B4%EC%A0%9C%ED%95%9C%20100%20/%20%ED%95%A0%EB%B6%80%EA%B8%88%200%EC%9B%90/%EC%9C%84%EC%95%BD%EA%B8%88%204%20%EC%A0%81%EC%9A%A9/%EB%B6%80%EA%B0%80%EC%84%9C%EB%B9%84%EC%8A%A4%EC%97%86%EC%9D%8C/%EA%B0%80%EC%9E%85%EB%B9%84%EC%97%86%EC%9D%8C/%EA%B8%B0%EC%A1%B4%20%EC%9C%A0%EC%8B%AC%20%EC%82%AC%EC%9A%A9%20/24%EA%B0%9C%EC%9B%94/LTE%20%ED%94%8C%EB%9F%AC%EC%8A%A4%20%ED%95%A0%EC%9D%B8&img=http://shopping.phinf.naver.net/main_8215978/8215978180.jpg HTTP/1.1\" 200 66\n",
      "10.0.2.2 - - [21/Aug/2016 18:27:56] \"GET /classify?name=SKT%20%EC%97%98%EC%A7%80%EC%99%80%EC%9D%B8%EC%8A%A4%EB%A7%88%ED%8A%B8%ED%8F%B0%20[LG-F480S]%20%EC%8B%A0%EA%B7%9C%EA%B0%80%EC%9E%85%20[LTE100%20%EC%9A%94%EA%B8%88%EC%A0%9C/%ED%95%A0%EB%B6%80%EC%9B%90%EA%B8%88:%2034,450%EC%9B%90/24%EA%B0%9C%EC%9B%94%EC%95%BD%EC%A0%95/%EA%B0%80%EC%9E%85%EB%B9%84%EC%97%86%EC%9D%8C/%EC%9C%A0%EC%8B%AC%EB%B9%84%ED%9B%84%EB%82%A9/%EB%B6%80%EA%B0%80%EC%84%9C%EB%B9%84%EC%8A%A4%E7%84%A1/%EC%B5%9C%EB%8C%80%20%EC%B6%94%EA%B0%80%ED%95%A0%EC%9D%B8/%EC%9C%84%EC%95%BD%EA%B8%88%E6%9C%89]%20%EB%B9%A0%EB%A5%B8%EB%B0%B0%EC%86%A1&img=http://shopping.phinf.naver.net/main_8157828/8157828506.jpg HTTP/1.1\" 200 66\n",
      "10.0.2.2 - - [21/Aug/2016 18:27:56] \"GET /classify?name=[SKT%EC%8B%A0%EA%B7%9C%EA%B0%80%EC%9E%85]%20[24%EA%B0%9C%EC%9B%94%EC%95%BD%EC%A0%95]%20[%EC%99%80%EC%9D%B8%EC%8A%A4%EB%A7%88%ED%8A%B8%ED%8F%B0]%20[F480S]%20[75,000%EC%9B%90]%20%20[%EC%A0%84%EA%B5%AD%EB%AF%BC%EB%AC%B4%ED%95%9C85]%20[%EA%B0%80%EB%A9%B4%EC%9C%A0%ED%9B%84]%20[%ED%95%A0%EC%9D%B8%EB%B0%98%ED%99%98%EA%B8%88%EC%A0%81%EC%9A%A9]%20[%EB%B6%80%EA%B0%80%EC%97%86%EC%9D%8C]&img=http://shopping.phinf.naver.net/main_8017900/8017900413.jpg HTTP/1.1\" 200 66\n",
      "10.0.2.2 - - [21/Aug/2016 18:27:56] \"GET /classify?name=%EC%82%BC%EC%84%B1%EC%A0%84%EC%9E%90%20%EA%B0%A4%EB%9F%AD%EC%8B%9C%20S6%20%EC%97%A3%EC%A7%80%2032G%20[%EC%8B%A0%EA%B7%9C%EA%B0%80%EC%9E%85]&img=http://shopping.phinf.naver.net/main_8349856/8349856916.20150309150218.jpg HTTP/1.1\" 200 68\n",
      "10.0.2.2 - - [21/Aug/2016 18:27:56] \"GET /classify?name=%EC%82%BC%EC%84%B1%EC%A0%84%EC%9E%90%20%EA%B0%A4%EB%9F%AD%EC%8B%9C%20S6%20%EC%97%A3%EC%A7%80%20128G%20[%EA%B8%B0%EA%B8%B0%EB%B3%80%EA%B2%BD]&img=http://shopping.phinf.naver.net/main_8376372/8376372214.20150320152934.jpg HTTP/1.1\" 200 68\n",
      "10.0.2.2 - - [21/Aug/2016 18:27:56] \"GET /classify?name=[SKT]%EA%B0%A4%EB%9F%AD%EC%8B%9C%EB%85%B8%ED%8A%B84%20LTE-A(SM-N910S)%ED%95%A0%EB%B6%80%EC%9B%90%EA%B8%88719,000%EC%9B%90(69%EC%9A%94%EA%B8%88%EC%A0%9C%EA%B5%B0%EA%B8%B0%EC%A4%80)%EC%82%AC%EC%9D%80%ED%92%887%EC%A2%85%EC%A6%9D%EC%A0%95,%EA%B0%80%EC%9E%85%EB%B9%84%EC%97%86%EC%9D%8C,%EC%9C%A0%EC%8B%AC%EB%B9%84%ED%9B%84%EB%82%A9,%EC%82%AC%EC%9A%A9%EA%B8%B0%EA%B3%84%EB%AF%B8%EB%B0%98%EB%82%A9,%EC%9A%94%EA%B8%88%EC%A0%9C%EC%9E%90%EC%9C%A0%EC%84%A0%ED%83%9D,%EB%B6%80%EA%B0%80%EC%97%86%EC%9D%8C,%EB%AC%B4%EB%A3%8C%EB%B0%B0%EC%86%A1&img=http://shopping.phinf.naver.net/main_8426682/8426682023.jpg HTTP/1.1\" 200 66\n",
      "10.0.2.2 - - [21/Aug/2016 18:27:56] \"GET /classify?name=[SKT%20%EB%B2%88%ED%98%B8%EC%9D%B4%EB%8F%99]N910%20/%20%EA%B0%A4%EB%9F%AD%EC%8B%9C%20%EB%85%B8%ED%8A%B84%20/612,000%EC%9B%90/%20100%EC%9A%94%EA%B8%88%EC%A0%9C/%20%EA%B0%80%EC%9E%85%EB%B9%84%EC%97%86%EC%9D%8C/%EC%9C%A0%EC%8B%AC%EB%B9%84%ED%9B%84%EB%82%A9/%EB%B6%80%EA%B0%80%EC%97%86%EC%9D%8C/%20%EC%95%BD%EC%A0%9524/%20%EC%9C%84%EC%95%BD%EA%B8%88:%EB%8B%A8%EB%A7%90%ED%95%A0%EC%9D%B8%EA%B8%88%EC%95%A1&img=http://shopping.phinf.naver.net/main_8419662/8419662781.jpg HTTP/1.1\" 200 66\n",
      "10.0.2.2 - - [21/Aug/2016 18:27:56] \"GET /classify?name=[5%%EC%A6%89%EC%8B%9C%ED%95%A0%EC%9D%B8%EC%BF%A0%ED%8F%B0]SKT%EB%B2%88%ED%98%B8%EC%9D%B4%EB%8F%99%2024%EA%B0%9C%EC%9B%94%EC%95%BD%EC%A0%95%20%EA%B0%A4%EB%9F%AD%EC%8B%9C%20%EA%B7%B8%EB%9E%9C%EB%93%9C%20%EB%A7%A5%EC%8A%A4%2085%EC%9A%94%EA%B8%88%EC%A0%9C&img=http://shopping.phinf.naver.net/main_8455406/8455406848.jpg HTTP/1.1\" 200 66\n",
      "10.0.2.2 - - [21/Aug/2016 18:27:56] \"GET /classify?name=[SKT%20%EA%B8%B0%EA%B8%B0%EB%B3%80%EA%B2%BD]%20%EA%B0%A4%EB%9F%AD%EC%8B%9C%20%EA%B7%B8%EB%9E%9C%EB%93%9C%EB%A7%A5%EC%8A%A4%20SM-G720S%20[31500%EC%9B%90/%EC%A0%84%EA%B5%AD%EB%AF%BC%EB%AC%B4%ED%95%9C100/24%EA%B0%9C%EC%9B%94/%EA%B0%80%EC%9E%85%EB%B9%84X/%EC%9C%A0%EC%8B%AC%ED%9B%84%EB%82%A9/%EC%95%BD%EC%A0%95%EC%9C%84%EC%95%BD%EA%B8%88/%EB%B6%80%EA%B0%80X]%20[%EB%8B%B9%EC%9D%BC%EB%B0%B0%EC%86%A1]%20%EA%B3%B5%EC%A7%9C%ED%8F%B0&img=http://shopping.phinf.naver.net/main_8364452/8364452695.jpg HTTP/1.1\" 200 66\n",
      "10.0.2.2 - - [21/Aug/2016 18:27:56] \"GET /classify?name=[SKT%20%EB%B2%88%ED%98%B8%EC%9D%B4%EB%8F%99]%EA%B0%A4%EB%9F%AD%EC%8B%9C%20%EA%B7%B8%EB%9E%9C%EB%93%9C%20%EB%A7%A5%EC%8A%A4%E2%98%85%E2%98%85100%EC%9A%94%EA%B8%88%EC%A0%9C/1%EC%9B%90[%EC%95%BD%EC%A0%9524]%EB%B6%80%EA%B0%80%E7%84%A1/%EA%B0%80%EC%9E%85%EB%B9%84%E7%84%A1%EC%9C%A0%EC%8B%AC%E6%9C%89%ED%95%A0%EC%9D%B8%EB%B0%98%ED%99%98%EA%B8%88%E6%9C%89&img=http://shopping.phinf.naver.net/main_8456976/8456976290.jpg HTTP/1.1\" 200 66\n",
      "10.0.2.2 - - [21/Aug/2016 18:27:56] \"GET /classify?name=[SKT][%EA%B8%B0%EA%B8%B0%EB%B3%80%EA%B2%BD][24%EA%B0%9C%EC%9B%94][%EA%B0%A4%EB%9F%AD%EC%8B%9C%EA%B7%B8%EB%9E%9C%EB%93%9C%EB%A7%A5%EC%8A%A4%20G720N0][0%EC%9B%90][%EC%A0%84%EA%B5%AD%EB%AF%BC100][%EA%B0%80%EC%9E%85%EB%B9%84%EB%AC%B4,%EC%9C%A0%EC%8B%AC%ED%9B%84%EB%82%A9][%EC%9C%84%EC%95%BD%EA%B8%88%EB%A9%B4%EC%A0%9C][%EB%B6%80%EA%B0%80%EB%AC%B4][11%EB%B2%88%EA%B0%80%ED%8A%B9%EA%B0%80%ED%8C%90%EB%A7%A4][SKT%EC%A7%81%EC%98%81%EC%83%B5]&img=http://shopping.phinf.naver.net/main_8295875/8295875364.jpg HTTP/1.1\" 200 66\n",
      "10.0.2.2 - - [21/Aug/2016 18:27:56] \"GET /classify?name=LG%EC%A0%84%EC%9E%90%20%EB%B3%BC%ED%8A%B8%208G%20[%EA%B8%B0%EA%B8%B0%EB%B3%80%EA%B2%BD]&img=http://shopping.phinf.naver.net/main_8455078/8455078028.20150422144025.jpg HTTP/1.1\" 200 68\n"
     ]
    },
    {
     "name": "stdout",
     "output_type": "stream",
     "text": [
      "classify called\n",
      "classify called\n",
      "classify called\n",
      "classify called\n",
      "classify called\n",
      "classify called\n",
      "classify called\n",
      "classify called\n",
      "classify called\n",
      "classify called\n",
      "classify called\n",
      "classify called\n",
      "classify called\n",
      "classify called\n",
      "classify called\n",
      "classify called\n"
     ]
    },
    {
     "name": "stderr",
     "output_type": "stream",
     "text": [
      "10.0.2.2 - - [21/Aug/2016 18:27:56] \"GET /classify?name=%EC%82%BC%EC%84%B1%EC%A0%84%EC%9E%90%20%EA%B0%A4%EB%9F%AD%EC%8B%9C%20SM-N900S%2032G%20(GALAXY%20NOTE3)[%EB%B2%88%ED%98%B8%EC%9D%B4%EB%8F%99]&img=http://shopping.phinf.naver.net/main_7139486/7139486106.20131226113332.jpg HTTP/1.1\" 200 68\n",
      "10.0.2.2 - - [21/Aug/2016 18:27:56] \"GET /classify?name=%EC%95%A0%ED%94%8C%20AIP6P-64G%20(iPhone%206%20Plus)[%EB%B2%88%ED%98%B8%EC%9D%B4%EB%8F%99]&img=http://shopping.phinf.naver.net/main_8027637/8027637461.20141020110801.jpg HTTP/1.1\" 200 68\n",
      "10.0.2.2 - - [21/Aug/2016 18:27:56] \"GET /classify?name=%EC%82%BC%EC%84%B1%EC%A0%84%EC%9E%90%20SM-N916S%20(Galaxy%20Note4%20S%20LTE)[%EC%8B%A0%EA%B7%9C%EA%B0%80%EC%9E%85]&img=http://shopping.phinf.naver.net/main_8249725/8249725310.20150206101856.jpg HTTP/1.1\" 200 68\n",
      "10.0.2.2 - - [21/Aug/2016 18:27:56] \"GET /classify?name=%EC%82%BC%EC%84%B1%EC%A0%84%EC%9E%90%20SM-A700S%20(Galaxy%20A7)[%EC%8B%A0%EA%B7%9C%EA%B0%80%EC%9E%85]&img=http://shopping.phinf.naver.net/main_8267115/8267115336.20150203111958.jpg HTTP/1.1\" 200 68\n",
      "10.0.2.2 - - [21/Aug/2016 18:27:56] \"GET /classify?name=%EC%82%BC%EC%84%B1%EC%A0%84%EC%9E%90%20SM-G720N0S%20(Galaxy%20Grand%20Max)[%EC%8B%A0%EA%B7%9C%EA%B0%80%EC%9E%85]&img=http://shopping.phinf.naver.net/main_8247003/8247003529.20150126101513.jpg HTTP/1.1\" 200 66\n",
      "10.0.2.2 - - [21/Aug/2016 18:27:56] \"GET /classify?name=%EC%82%BC%EC%84%B1%EC%A0%84%EC%9E%90%20%EA%B0%A4%EB%9F%AD%EC%8B%9C%20SHV-E330S%2016G%20(Galaxy%20S4%20LTE-A)[%EC%8B%A0%EA%B7%9C%EA%B0%80%EC%9E%85]&img=http://shopping.phinf.naver.net/main_7552812/7552812472.20140312113747.jpg HTTP/1.1\" 200 66\n",
      "10.0.2.2 - - [21/Aug/2016 18:27:56] \"GET /classify?name=%EC%82%BC%EC%84%B1%EC%A0%84%EC%9E%90%20SM-T255S%2016G%20(%EA%B0%A4%EB%9F%AD%EC%8B%9C%20W)[%EB%B2%88%ED%98%B8%EC%9D%B4%EB%8F%99]&img=http://shopping.phinf.naver.net/main_7721898/7721898175.20140604142754.jpg HTTP/1.1\" 200 68\n",
      "10.0.2.2 - - [21/Aug/2016 18:27:56] \"GET /classify?name=LG%EC%A0%84%EC%9E%90%20LG-F340S%2032G%20(G%20Flex)[%EC%8B%A0%EA%B7%9C%EA%B0%80%EC%9E%85]&img=http://shopping.phinf.naver.net/main_7257420/7257420125.20131113163115.jpg HTTP/1.1\" 200 68\n",
      "10.0.2.2 - - [21/Aug/2016 18:27:56] \"GET /classify?name=LG%EC%A0%84%EC%9E%90%20LG-F480S%204G%20(Wine%20Smart)[%EB%B2%88%ED%98%B8%EC%9D%B4%EB%8F%99]&img=http://shopping.phinf.naver.net/main_7996456/7996456508.20141006110714.jpg HTTP/1.1\" 200 66\n",
      "10.0.2.2 - - [21/Aug/2016 18:27:56] \"GET /classify?name=LG%EC%A0%84%EC%9E%90%20LG-F400S%20(G3)[%EC%8B%A0%EA%B7%9C%EA%B0%80%EC%9E%85]&img=http://shopping.phinf.naver.net/main_7714028/7714028445.20140529122325.jpg HTTP/1.1\" 200 66\n",
      "10.0.2.2 - - [21/Aug/2016 18:27:56] \"GET /classify?name=%EC%82%BC%EC%84%B1%EC%A0%84%EC%9E%90%20%EA%B0%A4%EB%9F%AD%EC%8B%9C%20SM-G710S%2016GB%20(Galaxy%20Grand%202)[%EB%B2%88%ED%98%B8%EC%9D%B4%EB%8F%99]&img=http://shopping.phinf.naver.net/main_7579534/7579534933.20140324111403.jpg HTTP/1.1\" 200 66\n",
      "10.0.2.2 - - [21/Aug/2016 18:27:56] \"GET /classify?name=%ED%8C%AC%ED%83%9D%20%EB%B2%A0%EA%B0%80%20IM-A920S%20(VEGA%20%ED%8C%9D%EC%97%85%20%EB%85%B8%ED%8A%B8)%20[%EA%B8%B0%EA%B8%B0%EB%B3%80%EA%B2%BD]&img=http://shopping.phinf.naver.net/main_8131738/8131738014.20141203102950.jpg HTTP/1.1\" 200 65\n",
      "10.0.2.2 - - [21/Aug/2016 18:27:56] \"GET /classify?name=%ED%8C%AC%ED%83%9D%20%EB%B2%A0%EA%B0%80%20IM-A870S%2032G%20(VEGA%20IRON)[%EC%8B%A0%EA%B7%9C%EA%B0%80%EC%9E%85]&img=http://shopping.phinf.naver.net/main_6855446/6855446334.20130418115945.jpg HTTP/1.1\" 200 68\n",
      "10.0.2.2 - - [21/Aug/2016 18:27:57] \"GET /classify?name=SKT%20/LG-G3/F400S/%EB%B6%80%EA%B0%80%EB%AC%B4/G3///%EB%B2%88%ED%98%B8%EC%9D%B4%EB%8F%99/&img=http://shopping.phinf.naver.net/main_8280607/8280607738.jpg HTTP/1.1\" 200 66\n",
      "10.0.2.2 - - [21/Aug/2016 18:27:57] \"GET /classify?name=[5%%EC%A6%89%EC%8B%9C%ED%95%A0%EC%9D%B8%EC%BF%A0%ED%8F%B0]SKT%EB%B2%88%ED%98%B8%EC%9D%B4%EB%8F%99/%EC%98%B5%ED%8B%B0%EB%A8%B8%EC%8A%A4G%ED%94%84%EB%A1%9C/%EB%8C%80%EB%9E%80%ED%8A%B9%EA%B0%80/%EC%82%AC%EC%9D%80%ED%92%88%EC%B5%9C%EA%B0%95&img=http://shopping.phinf.naver.net/main_8280950/8280950845.jpg HTTP/1.1\" 200 66\n",
      "10.0.2.2 - - [21/Aug/2016 18:27:57] \"GET /classify?name=LG%EC%A0%84%EC%9E%90%20LG%EB%AA%A8%EB%B0%94%EC%9D%BC%20LG-SH840[%EC%8B%A0%EA%B7%9C%EA%B0%80%EC%9E%85]%20&img=http://shopping.phinf.naver.net/main_6464196/6464196392.20120612193325.jpg HTTP/1.1\" 200 66\n"
     ]
    },
    {
     "name": "stdout",
     "output_type": "stream",
     "text": [
      "classify called\n",
      "classify called\n",
      "classify called\n",
      "classify called\n",
      "classify called\n",
      "classify called\n",
      "classify called\n",
      "classify called\n",
      "classify called\n",
      "classify called\n",
      "classify called\n",
      "classify called\n",
      "classify called\n",
      "classify called\n",
      "classify called\n",
      "classify called\n"
     ]
    },
    {
     "name": "stderr",
     "output_type": "stream",
     "text": [
      "10.0.2.2 - - [21/Aug/2016 18:27:57] \"GET /classify?name=[SKT][%EA%B8%B0%EA%B8%B0%EB%B3%80%EA%B2%BD][24%EA%B0%9C%EC%9B%94][%EA%B0%A4%EB%9F%AD%EC%8B%9CA7%20A700S][238,000%EC%9B%90][%EC%A0%84%EA%B5%AD%EB%AF%BC100][%EA%B0%80%EC%9E%85%EB%B9%84%EB%AC%B4,%EC%9C%A0%EC%8B%AC%ED%9B%84%EB%82%A9][%EC%9C%84%EC%95%BD%EA%B8%88%EB%A9%B4%EC%A0%9C][%EB%B6%80%EA%B0%80%EB%AC%B4][11%EB%B2%88%EA%B0%80%ED%8A%B9%EA%B0%80%ED%8C%90%EB%A7%A4][SKT%EC%A7%81%EC%98%81%EC%83%B5]&img=http://shopping.phinf.naver.net/main_8277418/8277418673.jpg HTTP/1.1\" 200 66\n",
      "10.0.2.2 - - [21/Aug/2016 18:27:57] \"GET /classify?name=[%EC%83%88%EC%A0%9C%ED%92%88]%20LGU+%202G%ED%8F%B0%20%EA%B3%B5%EA%B8%B0%EA%B3%84%20%EC%99%80%EC%9D%B8%ED%8F%B0%20LG-LV3000%20%ED%9A%A8%EB%8F%84%ED%8F%B0%20%ED%8F%B4%EB%8D%94%ED%8F%B0%20LGT%20%20%EB%AF%B8%EC%82%AC%EC%9A%A9&img=http://shopping.phinf.naver.net/main_8282687/8282687404.jpg HTTP/1.1\" 200 100\n",
      "10.0.2.2 - - [21/Aug/2016 18:27:57] \"GET /classify?name=%EC%83%8C%EB%94%94%EC%8A%A4%ED%81%AC%20Basic%20SSD%20128GB&img=http://shopping.phinf.naver.net/main_6655960/6655960659.20121101151431.jpg HTTP/1.1\" 200 72\n",
      "10.0.2.2 - - [21/Aug/2016 18:27:57] \"GET /classify?name=BIWIN%20SATA%20DOM%20Vertical%20D6214%2016GB&img=http://shopping.phinf.naver.net/main_7016604/7016604975.20140121165222.jpg HTTP/1.1\" 200 90\n",
      "10.0.2.2 - - [21/Aug/2016 18:27:57] \"GET /classify?name=BIWIN%20SATA%20SSD%20C4200%2064GB&img=http://shopping.phinf.naver.net/main_7016630/7016630758.20130718164121.jpg HTTP/1.1\" 200 72\n",
      "10.0.2.2 - - [21/Aug/2016 18:27:57] \"GET /classify?name=SSD%20850%20EVO%20MZ-75E120B/KR%20SSD%ED%95%98%EB%93%9C&img=http://shopping.phinf.naver.net/main_8268090/8268090978.jpg HTTP/1.1\" 200 72\n",
      "10.0.2.2 - - [21/Aug/2016 18:27:57] \"GET /classify?name=%EC%83%8C%EB%94%94%EC%8A%A4%ED%81%AC%20Basic%20SSD%2064GB&img=http://shopping.phinf.naver.net/main_6636000/6636000096.20121017180139.jpg HTTP/1.1\" 200 72\n",
      "10.0.2.2 - - [21/Aug/2016 18:27:57] \"GET /classify?name=LG%EC%A0%84%EC%9E%90%20G%20Pad%208.0%20G%ED%8C%A8%EB%93%9C[%ED%99%94%EC%9D%B4%ED%8A%B8]&img=http://shopping.phinf.naver.net/main_8278062/8278062860.jpg HTTP/1.1\" 200 71\n",
      "10.0.2.2 - - [21/Aug/2016 18:27:57] \"GET /classify?name=%EC%9D%B8%ED%85%94%20530%20mSATA%20Series%20120GB&img=http://shopping.phinf.naver.net/main_7408262/7408262881.20140113103950.jpg HTTP/1.1\" 200 72\n",
      "10.0.2.2 - - [21/Aug/2016 18:27:57] \"GET /classify?name=AHL689%20HDMI%20%EB%A6%AC%ED%94%BC%ED%84%B0(RJ45)%20%EB%B2%BD%EB%A9%B4%20%EC%BD%98%EC%84%BC%ED%8A%B8%ED%98%95(%EC%86%A1%EC%88%98%EC%8B%A0%EA%B8%B0%20%EC%84%B8%ED%8A%B8,%201R%20%EC%A0%84%EC%86%A1%EA%B0%80%EB%8A%A5)&img=http://shopping.phinf.naver.net/main_8280963/8280963906.jpg HTTP/1.1\" 200 141\n",
      "10.0.2.2 - - [21/Aug/2016 18:27:57] \"GET /classify?name=%EC%95%A0%ED%94%8C%20iPad%20Air2%20Wi-Fi%20128GB%206%EC%84%B8%EB%8C%80%20MH1J2KH/A%20%EA%B3%A8%EB%93%9C&img=http://shopping.phinf.naver.net/main_8280327/8280327145.jpg HTTP/1.1\" 200 72\n",
      "10.0.2.2 - - [21/Aug/2016 18:27:57] \"GET /classify?name=(%EC%A0%95%ED%92%88)%EC%95%A0%ED%94%8C%EC%A0%84%EC%8B%9C%EC%83%81%ED%92%88%20IPAD%20Retina%20(4th)%20WI-FI&img=http://shopping.phinf.naver.net/main_8231161/8231161538.jpg HTTP/1.1\" 200 72\n"
     ]
    },
    {
     "name": "stdout",
     "output_type": "stream",
     "text": [
      "classify called\n",
      "classify called\n",
      "classify called\n",
      "classify called\n",
      "classify called\n",
      "classify called\n",
      "classify called\n",
      "classify called\n",
      "classify called\n",
      "classify called\n"
     ]
    },
    {
     "name": "stderr",
     "output_type": "stream",
     "text": [
      "10.0.2.2 - - [21/Aug/2016 18:27:57] \"GET /classify?name=%EC%82%BC%EC%84%B1%EC%A0%84%EC%9E%90%20850%20series%20EVO%20MZ-75E250B/KR%20250GB&img=http://shopping.phinf.naver.net/main_8235161/8235161543.20150121165511.jpg HTTP/1.1\" 200 72\n",
      "10.0.2.2 - - [21/Aug/2016 18:27:57] \"GET /classify?name=LiteOn%20ZETA%20128GB&img=http://shopping.phinf.naver.net/main_8219906/8219906467.20150115113555.jpg HTTP/1.1\" 200 72\n",
      "10.0.2.2 - - [21/Aug/2016 18:27:57] \"GET /classify?name=PHINOCOM%20P70S%20Pro%20128GB&img=http://shopping.phinf.naver.net/main_8145050/8145050262.20141209174009.jpg HTTP/1.1\" 200 72\n",
      "10.0.2.2 - - [21/Aug/2016 18:27:57] \"GET /classify?name=%EC%82%BC%EC%84%B1%EC%A0%84%EC%9E%90%20840%20PRO%20Series%20MZ-7PD512B/KR%20512GB%20%EC%A0%95%ED%92%88&img=http://shopping.phinf.naver.net/main_6672844/6672844527.20121113120851.jpg HTTP/1.1\" 200 72\n",
      "10.0.2.2 - - [21/Aug/2016 18:27:57] \"GET /classify?name=CS820%20256GB&img=http://shopping.phinf.naver.net/main_8240709/8240709765.20150123095143.jpg HTTP/1.1\" 200 72\n",
      "10.0.2.2 - - [21/Aug/2016 18:27:57] \"GET /classify?name=A-DATA%20SP310%20mSATA%20SSD%20128GB&img=http://shopping.phinf.naver.net/main_7641189/7641189898.20140422154010.jpg HTTP/1.1\" 200 72\n",
      "10.0.2.2 - - [21/Aug/2016 18:27:57] \"GET /classify?name=%EB%A6%AC%EB%B7%B0%EC%95%88%ED%85%8C%ED%81%AC%20%EB%A6%AC%EB%B7%B0%EC%95%88%20mSATA850%20128GB&img=http://shopping.phinf.naver.net/main_6643893/6643893492.20140605115222.jpg HTTP/1.1\" 200 72\n",
      "10.0.2.2 - - [21/Aug/2016 18:27:57] \"GET /classify?name=%ED%82%B9%EC%8A%A4%ED%86%A4%20SSDNOW%20V300%20SSD%20480GB&img=http://shopping.phinf.naver.net/main_8238263/8238263680.20150122180633.jpg HTTP/1.1\" 200 72\n",
      "10.0.2.2 - - [21/Aug/2016 18:27:57] \"GET /classify?name=%EB%A6%AC%EB%B7%B0%EC%95%88%ED%85%8C%ED%81%AC%20%EB%A6%AC%EB%B7%B0%EC%95%88%20m850G4%20128GB&img=http://shopping.phinf.naver.net/main_7091895/7091895549.20130829171934.jpg HTTP/1.1\" 200 72\n",
      "10.0.2.2 - - [21/Aug/2016 18:27:57] \"GET /classify?name=%ED%8A%B8%EB%9E%9C%EC%84%BC%EB%93%9C%20MTS600%20M.2%20SSD%20256GB&img=http://shopping.phinf.naver.net/main_7972795/7972795637.20140925153303.jpg HTTP/1.1\" 200 72\n",
      "10.0.2.2 - - [21/Aug/2016 18:27:57] \"GET /classify?name=%EC%82%BC%EC%84%B1%EC%A0%84%EC%9E%90%20830%20Series%20MZ-7PC256D/KR%20256GB%20%EC%A0%95%ED%92%88%20(%EB%8D%B0%EC%8A%A4%ED%81%AC%ED%83%91%EC%9A%A9)&img=http://shopping.phinf.naver.net/main_5991333/5991333386.20120211210927.jpg HTTP/1.1\" 200 72\n",
      "10.0.2.2 - - [21/Aug/2016 18:27:57] \"GET /classify?name=%EC%82%BC%EC%84%B1%EC%A0%84%EC%9E%90%20%EC%A0%95%ED%92%88%20SSD%20850EVO%20250G%20MZ-75E250B/KR%205%EB%85%84AS&img=http://shopping.phinf.naver.net/main_8270609/8270609848.jpg HTTP/1.1\" 200 72\n",
      "10.0.2.2 - - [21/Aug/2016 18:27:57] \"GET /classify?name=[4%%EC%A6%89%EC%8B%9C%ED%95%A0%EC%9D%B8%EC%BF%A0%ED%8F%B0]CH%20%EB%9D%BC%EC%9D%B4%ED%8A%B8%EC%98%A8%20Lite-On%20ZETA%20256GB%20SSD%20%ED%95%98%EB%93%9C%20%EC%A0%95%ED%92%88&img=http://shopping.phinf.naver.net/main_8250385/8250385382.jpg HTTP/1.1\" 200 72\n",
      "10.0.2.2 - - [21/Aug/2016 18:27:57] \"GET /classify?name=AIDATA%20XPG%20SX900%20128GB&img=http://shopping.phinf.naver.net/main_6359796/6359796817.20121005103356.jpg HTTP/1.1\" 200 72\n"
     ]
    },
    {
     "name": "stdout",
     "output_type": "stream",
     "text": [
      "classify called\n",
      "classify called\n",
      "classify called\n",
      "classify called\n",
      "classify called\n",
      "classify called\n",
      "classify called\n",
      "classify called\n",
      "classify called\n",
      "classify called\n",
      "classify called\n",
      "classify called\n",
      "classify called\n",
      "classify called\n",
      "classify called\n",
      "classify called\n"
     ]
    },
    {
     "name": "stderr",
     "output_type": "stream",
     "text": [
      "10.0.2.2 - - [21/Aug/2016 18:27:57] \"GET /classify?name=%ED%82%B9%EC%8A%A4%ED%86%A4%20SSDNow%20V300%20240GB&img=http://shopping.phinf.naver.net/main_6676874/6676874056.20121116151920.jpg HTTP/1.1\" 200 72\n",
      "10.0.2.2 - - [21/Aug/2016 18:27:57] \"GET /classify?name=A-DATA%20SP310%20mSATA%20SSD%2032GB&img=http://shopping.phinf.naver.net/main_7641187/7641187506.20140422154156.jpg HTTP/1.1\" 200 72\n",
      "10.0.2.2 - - [21/Aug/2016 18:27:57] \"GET /classify?name=[%EC%8B%A0%ED%95%9C%EC%B9%B4%EB%93%9C5%%ED%95%A0%EC%9D%B8~10%EC%9D%BC%EA%B9%8C%EC%A7%80][%ED%8A%B8%EB%9E%9C%EC%83%8C%EB%93%9C]%20SSD%20370%20128GB&img=http://shopping.phinf.naver.net/main_8274326/8274326258.jpg HTTP/1.1\" 200 72\n",
      "10.0.2.2 - - [21/Aug/2016 18:27:57] \"GET /classify?name=%EB%A3%A8%EB%85%B9%EC%8A%A4%20HL4%20%ED%97%A4%EB%93%9C%EB%9E%9C%ED%84%B4%20CF_027/%20%EA%B8%B0%ED%83%80&img=http://shopping.phinf.naver.net/main_8347723/8347723974.jpg HTTP/1.1\" 200 102\n",
      "10.0.2.2 - - [21/Aug/2016 18:27:57] \"GET /classify?name=[%EB%B0%95%EC%94%A8%EC%83%81%EB%B0%A9]%20(2%EC%A2%85)%EB%AA%85%ED%95%A8%EC%BC%80%EC%9D%B4%EC%8A%A4+USB%2016GB%20%EB%A9%94%EB%AA%A8%EB%A6%AC/%EC%96%B4%ED%95%99%EC%97%B0%EC%88%98%ED%99%88%EC%8A%A4%ED%85%8C%EC%9D%B4%EC%99%B8%EA%B5%AD%EC%9D%B8%EC%84%A0%EB%AC%BC%EB%A1%9C%EC%B6%94%EC%B2%9C&img=http://shopping.phinf.naver.net/main_8010761/8010761823.jpg HTTP/1.1\" 200 90\n",
      "10.0.2.2 - - [21/Aug/2016 18:27:57] \"GET /classify?name=%EB%A6%AC%EB%B7%B0%EC%95%88%20%EC%9B%8C%ED%94%84USB%20SSD%20[512GB]&img=http://shopping.phinf.naver.net/main_8170854/8170854009.1.jpg HTTP/1.1\" 200 72\n",
      "10.0.2.2 - - [21/Aug/2016 18:27:57] \"GET /classify?name=%EB%A6%AC%EB%B7%B0%EC%95%88%20850X%20PCIe%201TB/PCI-Express2.0%20x4/Max800MB/s&img=http://shopping.phinf.naver.net/main_7863966/7863966152.jpg HTTP/1.1\" 200 72\n",
      "10.0.2.2 - - [21/Aug/2016 18:27:57] \"GET /classify?name=M4(C400)%20%EC%84%B8%EA%B3%84%ED%8A%B9%ED%97%881%EC%9C%84%20[Crucial%20M4%20256GB]%20SATA3%206Gb/s%202.5%EC%9D%B8%EC%B9%98%20%EC%86%8D%EB%8F%84%20500MBs/%ED%95%98%EB%93%9C/SSD/%EB%85%B8%ED%8A%B8%EB%B6%81/%EB%8D%B0%EC%8A%A4%ED%81%AC%ED%83%91/%EC%84%B8%EA%B3%84%EC%B5%9C%EA%B0%95&img=http://shopping.phinf.naver.net/main_6208974/6208974138.1.jpg HTTP/1.1\" 200 72\n",
      "10.0.2.2 - - [21/Aug/2016 18:27:57] \"GET /classify?name=SANWA%20%EC%9D%BC%EC%B2%B4%ED%98%95%20%EB%8B%A4%EA%B8%B0%EB%8A%A5%20%EC%88%98%EB%8F%99%20%EC%84%B8%EB%8B%A8%EA%B8%B0_%EB%AC%B8%EC%84%9C%20CD/DVD%20%EC%B9%B4%EB%93%9C_PSD-11&img=http://shopping.phinf.naver.net/main_8264996/8264996730.jpg HTTP/1.1\" 200 72\n",
      "10.0.2.2 - - [21/Aug/2016 18:27:57] \"GET /classify?name=%EC%BB%A4%EB%AF%B8%20[2%EB%A7%8C%EC%9B%90%20%EC%BA%90%EC%89%AC%EB%B0%B1]Toshiba%20Canvio%20AeroMobile%20Wireless%20(128GB)/%EB%AC%B4%EC%84%A0%EC%99%B8%EC%9E%A5%ED%95%98%EB%93%9C/WiFi/%EC%97%90%EC%96%B4%EB%A1%9C%EB%AA%A8%EB%B0%94%EC%9D%BC&img=http://shopping.phinf.naver.net/main_8295343/8295343939.jpg HTTP/1.1\" 200 99\n",
      "10.0.2.2 - - [21/Aug/2016 18:27:57] \"GET /classify?name=[%EC%9A%B0%EB%A6%AC%EC%B9%B4%EB%93%9C5%%ED%95%A0%EC%9D%B8][TRANSCEND]%20%ED%8A%B8%EB%9E%9C%EC%83%8C%EB%93%9C%20Transcend%20JetDrive%20500%20960GB%20/%20TS960GJDM500&img=http://shopping.phinf.naver.net/main_7890655/7890655644.jpg HTTP/1.1\" 200 72\n",
      "10.0.2.2 - - [21/Aug/2016 18:27:57] \"GET /classify?name=[KB%EA%B5%AD%EB%AF%BC%EC%B9%B4%EB%93%9C5%%ED%95%A0%EC%9D%B8~13%EC%9D%BC%EA%B9%8C%EC%A7%80]%ED%8A%B8%EB%9E%9C%EC%83%8C%EB%93%9C%20Transcend%20JetDrive%20720%20240GB%20/%20TS240GJDM720&img=http://shopping.phinf.naver.net/main_7925016/7925016341.jpg HTTP/1.1\" 200 72\n",
      "10.0.2.2 - - [21/Aug/2016 18:27:57] \"GET /classify?name=[%EC%83%B5N%20%ED%8A%B9%EA%B0%80]%EC%BC%80%EC%9D%B4%EC%9B%90%EC%A0%95%EB%B3%B4%20%EC%9D%B8%EC%A6%9D%EC%A0%90%20MZ-MTE500BW%20840EVO%20mSATA%20Basic%20%EB%AA%A8%EB%8D%B8&img=http://shopping.phinf.naver.net/main_8085807/8085807065.jpg HTTP/1.1\" 200 72\n",
      "10.0.2.2 - - [21/Aug/2016 18:27:57] \"GET /classify?name=[KB%EA%B5%AD%EB%AF%BC%EC%B9%B4%EB%93%9C%205%%ED%95%A0%EC%9D%B8,%203/14]%EC%BC%80%EC%9D%B4%EC%9B%90%EC%A0%95%EB%B3%B4%20%EC%9D%B8%EC%A6%9D%EC%A0%90%20MZ-7KE1T0B/KR%20850PRO%20Basic%EB%AA%A8%EB%8D%B8&img=http://shopping.phinf.naver.net/main_8319792/8319792986.jpg HTTP/1.1\" 200 72\n",
      "10.0.2.2 - - [21/Aug/2016 18:27:57] \"GET /classify?name=[%ED%9E%90%EB%A7%81%EC%89%B4%EB%93%9C]%20%EB%A0%88%EB%85%B8%EB%B2%84%20%EC%9A%94%EA%B0%80%20%ED%83%80%EB%B8%94%EB%A0%9B2%208%20AFP%20%EC%98%AC%EB%A0%88%ED%8F%AC%EB%B9%85%20%EC%95%A1%EC%A0%95%EB%B3%B4%ED%98%B8%ED%95%84%EB%A6%84%201%EB%A7%A4+%ED%9B%84%EB%A9%B4%EB%B3%B4%ED%98%B8%ED%95%84%EB%A6%84%202%EB%A7%A4(HS150105)&img=http://shopping.phinf.naver.net/main_8244010/8244010721.jpg HTTP/1.1\" 200 134\n",
      "10.0.2.2 - - [21/Aug/2016 18:27:57] \"GET /classify?name=%ED%9E%90%EB%A7%81%EC%89%B4%EB%93%9C%20%EB%A0%88%EB%85%B8%EB%B2%84%20%EC%9A%94%EA%B0%80%20%ED%83%80%EB%B8%94%EB%A0%9B2%208%20AG%20Nanovid%20%EC%A0%80%EB%B0%98%EC%82%AC%20%EC%A7%80%EB%AC%B8%EB%B0%A9%EC%A7%80%20%EC%95%A1%EC%A0%95%EB%B3%B4%ED%98%B8%ED%95%84%EB%A6%84%201%EB%A7%A4+%ED%9B%84%EB%A9%B4%EB%B3%B4%ED%98%B8%ED%95%84%EB%A6%84%202%EB%A7%A4&img=http://shopping.phinf.naver.net/main_8220329/8220329886.jpg HTTP/1.1\" 200 81\n"
     ]
    },
    {
     "name": "stdout",
     "output_type": "stream",
     "text": [
      "classify called\n",
      "classify called\n",
      "classify called\n",
      "classify called\n",
      "classify called\n",
      "classify called\n",
      "classify called\n",
      "classify called\n",
      "classify called\n",
      "classify called\n",
      "classify called\n",
      "classify called\n",
      "classify called\n",
      "classify called\n",
      "classify called\n",
      "classify called\n"
     ]
    },
    {
     "name": "stderr",
     "output_type": "stream",
     "text": [
      "10.0.2.2 - - [21/Aug/2016 18:27:57] \"GET /classify?name=[POOM/%EB%B2%84%ED%8C%94%EB%A1%9C]%20%ED%9C%B4%EB%8C%80%EC%9A%A9%20%EA%B0%90%EA%B0%81%EC%A0%81%EC%9D%B8%20%EB%94%94%EC%9E%90%EC%9D%B8%204%ED%8F%AC%ED%8A%B8%20%ED%97%88%EB%B8%8C%20BSH4U15WHW(%ED%99%94%EC%9D%B4%ED%8A%B8)&img=http://shopping.phinf.naver.net/main_7929002/7929002487.jpg HTTP/1.1\" 200 98\n",
      "10.0.2.2 - - [21/Aug/2016 18:27:57] \"GET /classify?name=%EB%A6%AC%EB%B7%B0%EC%95%88%20850X%20PCIe%20256GB/PCI-Express2.0%20x4%20%EA%B3%A0%EC%84%B1%EB%8A%A5SSD/Max800MB/s/%EB%A7%88%EB%B2%A8,SMI%EC%BB%A8%ED%8A%B8%EB%A1%A4%EB%9F%AC/%EC%9D%B8%ED%85%94MLC/SATA2%EC%8B%9C%EC%8A%A4%ED%85%9C%EC%A0%81%EC%9A%A9%EA%B0%80%EB%8A%A5&img=http://shopping.phinf.naver.net/main_7862657/7862657419.jpg HTTP/1.1\" 200 72\n",
      "10.0.2.2 - - [21/Aug/2016 18:27:57] \"GET /classify?name=9500%20%EC%97%91%ED%86%A0%20%EC%B9%B4%EB%93%9C%EB%A6%AC%EB%8D%94%EA%B8%B0%EA%B2%B8%EC%9A%A9%ED%97%88%EB%B8%8C%20CRH-06___%EC%B9%B4%EB%93%9C%EB%A6%AC%EB%8D%94%EA%B8%B0/%EB%A9%94%EB%AA%A8%EB%A6%AC%EC%B9%B4%EB%93%9C%EB%A6%AC%EB%8D%94%EA%B8%B0/%EC%99%B8%EC%9E%A5%EB%A9%94%EB%AA%A8%EB%A6%AC%EB%A6%AC%EB%8D%94%EA%B8%B0/USB%EB%A6%AC%EB%8D%94%EA%B8%B0&img=http://shopping.phinf.naver.net/main_7975896/7975896800.jpg HTTP/1.1\" 200 104\n",
      "10.0.2.2 - - [21/Aug/2016 18:27:57] \"GET /classify?name=[%ED%8F%B0%ED%8A%B8%EB%A6%AC]%20%ED%9E%90%EB%A7%81%EC%89%B4%EB%93%9C%20%EB%B3%B4%EC%9A%94%20%EC%9C%88%ED%8C%A8%EB%93%9C%20A1%20%EB%AF%B8%EB%8B%88%20%ED%9B%84%EB%A9%B4%20%EC%99%B8%EB%B6%80%EB%B3%B4%ED%98%B8%ED%95%84%EB%A6%84(HS144328)&img=http://shopping.phinf.naver.net/main_8177339/8177339527.jpg HTTP/1.1\" 200 104\n",
      "10.0.2.2 - - [21/Aug/2016 18:27:57] \"GET /classify?name=[4%%EC%A6%89%EC%8B%9C%ED%95%A0%EC%9D%B8%EC%BF%A0%ED%8F%B0]%EB%94%94%EC%97%94%ED%98%B8%ED%94%84%20%20%EB%94%94%EC%95%A4%ED%98%B8%ED%94%84%20%20%20%EB%A6%AC%EB%B7%B0%EC%95%88%ED%85%8C%ED%81%AC%20%20Warp%20USB%203.0%20SSD%20(128GB)&img=http://shopping.phinf.naver.net/main_7828546/7828546444.jpg HTTP/1.1\" 200 72\n",
      "10.0.2.2 - - [21/Aug/2016 18:27:57] \"GET /classify?name=%EB%A6%AC%EB%B7%B0%EC%95%88%20%EB%93%9C%EB%9D%BC%EC%9D%B4%EB%B8%8C%20XM%20384GB%20PCIeSSD&img=http://shopping.phinf.naver.net/main_7489232/7489232519.1.jpg HTTP/1.1\" 200 72\n",
      "10.0.2.2 - - [21/Aug/2016 18:27:57] \"GET /classify?name=%EB%A6%AC%EB%B7%B0%EC%95%88%20%EB%93%9C%EB%9D%BC%EC%9D%B4%EB%B8%8C%20XM%20384GB%20PCIeSSD&img=http://shopping.phinf.naver.net/main_7489966/7489966715.1.jpg HTTP/1.1\" 200 72\n",
      "10.0.2.2 - - [21/Aug/2016 18:27:57] \"GET /classify?name=%EB%A6%AC%EB%B7%B0%EC%95%88%20%EB%93%9C%EB%9D%BC%EC%9D%B4%EB%B8%8C%20XM%20384GB/PCIeSSD/Max850MB/s/MLC%20SSD/PCI-Express/mSATA850/Cros[%EC%B4%88%EA%B3%A0%EC%84%B1%EB%8A%A5SSD,%20%EA%B2%BD%EC%9F%81%EC%A0%9C%ED%92%88%20%EB%8C%80%EB%B9%84%20%EC%9B%94%EB%93%B1%ED%95%9C%20%EC%84%B1%EB%8A%A5,%EA%B0%80%EA%B2%A9,]&img=http://shopping.phinf.naver.net/main_7682379/7682379551.jpg HTTP/1.1\" 200 72\n",
      "10.0.2.2 - - [21/Aug/2016 18:27:57] \"GET /classify?name=ui%20[%20%EB%8B%B9%EC%9D%BC%ED%83%9D%EB%B0%B0%EC%B6%9C%EA%B3%A0%20]%20%ED%8A%B8%EB%9E%9C%EC%84%BC%EB%93%9C%20JetDrive%20Lite%20360%2064GB%20/Mac%EC%A0%9C%ED%92%88%EC%9A%A9%20SD%EC%B9%B4%EB%93%9C/%EC%A0%AF%EB%93%9C%EB%9D%BC%EC%9D%B4%EB%B8%8C%EB%9D%BC%EC%9D%B4%ED%8A%B8/TS64GJDL360&img=http://shopping.phinf.naver.net/main_7769808/7769808857.jpg HTTP/1.1\" 200 72\n",
      "10.0.2.2 - - [21/Aug/2016 18:27:57] \"GET /classify?name=%EC%82%BC%EC%84%B1%EC%A0%84%EC%9E%90%20UN28H4200AF&img=http://shopping.phinf.naver.net/main_7469385/7469385724.20140207150255.jpg HTTP/1.1\" 200 71\n",
      "10.0.2.2 - - [21/Aug/2016 18:27:57] \"GET /classify?name=[4%%EC%A6%89%EC%8B%9C%ED%95%A0%EC%9D%B8%EC%BF%A0%ED%8F%B0][%ED%95%B4%EC%99%B8]LG%EC%A0%84%EC%9E%90%20LG%2065%EC%9D%B8%EC%B9%98%20LEDTV%20%2065LB5200&img=http://shopping.phinf.naver.net/main_8257522/8257522143.jpg HTTP/1.1\" 200 71\n",
      "10.0.2.2 - - [21/Aug/2016 18:27:57] \"GET /classify?name=%EC%82%BC%EC%84%B1%EC%A0%84%EC%9E%90%20UN65HU8500F&img=http://shopping.phinf.naver.net/main_7597811/7597811124.20140408111519.jpg HTTP/1.1\" 200 71\n",
      "10.0.2.2 - - [21/Aug/2016 18:27:57] \"GET /classify?name=LG%EC%A0%84%EC%9E%90%2032LB627B&img=http://shopping.phinf.naver.net/main_7564741/7564741342.20140317160438.jpg HTTP/1.1\" 200 71\n",
      "10.0.2.2 - - [21/Aug/2016 18:27:57] \"GET /classify?name=LG%EC%A0%84%EC%9E%90%2055LF6200&img=http://shopping.phinf.naver.net/main_8273712/8273712769.20150205151120.jpg HTTP/1.1\" 200 71\n",
      "10.0.2.2 - - [21/Aug/2016 18:27:57] \"GET /classify?name=%EC%82%BC%EC%84%B1%EC%A0%84%EC%9E%90%20UN40EH5000F&img=http://shopping.phinf.naver.net/main_6191050/6191050239.20130319171413.jpg HTTP/1.1\" 200 71\n",
      "10.0.2.2 - - [21/Aug/2016 18:27:57] \"GET /classify?name=%EC%82%BC%EC%84%B1%EC%A0%84%EC%9E%90%20UN22H5100AF&img=http://shopping.phinf.naver.net/main_7536487/7536487526.20140305121758.jpg HTTP/1.1\" 200 71\n"
     ]
    },
    {
     "name": "stdout",
     "output_type": "stream",
     "text": [
      "classify called\n",
      "classify called\n",
      "classify called\n",
      "classify called\n",
      "classify called\n",
      "classify called\n",
      "classify called\n",
      "classify called\n",
      "classify called\n",
      "classify called\n",
      "classify called\n",
      "classify called\n",
      "classify called\n",
      "classify called\n"
     ]
    },
    {
     "name": "stderr",
     "output_type": "stream",
     "text": [
      "10.0.2.2 - - [21/Aug/2016 18:27:57] \"GET /classify?name=LG%EC%A0%84%EC%9E%90%2055LB6560&img=http://shopping.phinf.naver.net/main_7597790/7597790637.20140429165324.jpg HTTP/1.1\" 200 71\n",
      "10.0.2.2 - - [21/Aug/2016 18:27:57] \"GET /classify?name=LG%EC%A0%84%EC%9E%90%2042LB6500&img=http://shopping.phinf.naver.net/main_7597856/7597856122.20140429155748.jpg HTTP/1.1\" 200 71\n",
      "10.0.2.2 - - [21/Aug/2016 18:27:57] \"GET /classify?name=[%ED%95%B4%EC%99%B8]LG%20Electronics%2065EC9700%2065-Inch%204k%20Ultra%20HD%203D%20Curved%20OLED%20TV&img=http://shopping.phinf.naver.net/main_8259828/8259828643.jpg HTTP/1.1\" 200 71\n",
      "10.0.2.2 - - [21/Aug/2016 18:27:57] \"GET /classify?name=[%ED%95%B4%EC%99%B8]LG[%EC%95%84%EB%A7%88%EC%A1%B4]LG%20Electronics%2065EC9700%2065-Inch%204k%20Ultra%20HD%203D%20Curved%20OLED%20TV&img=http://shopping.phinf.naver.net/main_8271898/8271898008.jpg HTTP/1.1\" 200 71\n",
      "10.0.2.2 - - [21/Aug/2016 18:27:57] \"GET /classify?name=LG%EC%A0%84%EC%9E%90%2077EC9800&img=http://shopping.phinf.naver.net/main_7408247/7408247044.20150105102950.jpg HTTP/1.1\" 200 71\n",
      "10.0.2.2 - - [21/Aug/2016 18:27:57] \"GET /classify?name=[%ED%95%B4%EC%99%B8]LG[%EC%95%84%EB%A7%88%EC%A1%B4]LG%20Electronics%2055EC9300%2055-Inch%201080p%203D%20Curved%20OLED%20TV&img=http://shopping.phinf.naver.net/main_7987300/7987300837.jpg HTTP/1.1\" 200 71\n",
      "10.0.2.2 - - [21/Aug/2016 18:27:57] \"GET /classify?name=[4%%EC%A6%89%EC%8B%9C%ED%95%A0%EC%9D%B8%EC%BF%A0%ED%8F%B0]%EC%A0%95%ED%92%88%EC%99%84%EC%A0%84%EB%B9%A0%EB%A5%B8%EC%84%A4%EC%B9%98%20LG%20TV%202013%EB%85%84%ED%98%95%2047%EC%9D%B8%EC%B9%98%20Full%20HD%20%EC%8A%A4%EB%A7%88%ED%8A%B8%20LED%20TV%2047LN5700%20%EC%8A%A4%ED%85%90%EB%93%9C%ED%98%95%20[%EC%82%AC%EC%97%85%EC%9E%A5%EC%A0%84%EC%9A%A9]%20BIZ&img=http://shopping.phinf.naver.net/main_6857101/6857101139.1.jpg HTTP/1.1\" 200 71\n",
      "10.0.2.2 - - [21/Aug/2016 18:27:57] \"GET /classify?name=[%EC%82%AC%EC%97%85%EC%9E%90%EC%A0%84%EC%9A%A9]%20UN55H6300AF%20[%ED%99%94%EB%A9%B4%ED%81%AC%EA%B8%B0:138cm][%EB%AA%A8%ED%85%94/%EC%88%99%EB%B0%95%EC%97%85%EC%86%8C/%EA%B4%80%EA%B3%B5%EC%84%9C/%EB%B3%91%EC%9B%90/%EB%85%B8%EB%9E%98%EB%B0%A9/%ED%95%99%EA%B5%90/%EC%9B%90%EB%A3%B8]&img=http://shopping.phinf.naver.net/main_7610441/7610441217.jpg HTTP/1.1\" 200 71\n",
      "10.0.2.2 - - [21/Aug/2016 18:27:58] \"GET /classify?name=[4%%EC%A6%89%EC%8B%9C%ED%95%A0%EC%9D%B8%EC%BF%A0%ED%8F%B0][%EC%82%BC%EC%84%B1%EC%A0%84%EC%9E%90]116cm/LH46MDBPLGA/FHLL-HD/LED/%EC%82%AC%EC%97%85%EC%9E%A5%EC%A0%84%EC%9A%A9%EB%AA%A8%EB%8D%B8/%EB%AA%A8%ED%85%94/%EC%88%99%EB%B0%95%EC%97%85%EC%86%8C/%EA%B4%80%EA%B3%B5%EC%84%9C/%EB%B3%91%EC%9B%90/%EB%85%B8%EB%9E%98%EB%B0%A9/%ED%95%99%EA%B5%90/%EC%9B%90%EB%A3%B8&img=http://shopping.phinf.naver.net/main_6745310/6745310896.1.jpg HTTP/1.1\" 200 71\n",
      "10.0.2.2 - - [21/Aug/2016 18:27:58] \"GET /classify?name=[4%%EC%A6%89%EC%8B%9C%ED%95%A0%EC%9D%B8%EC%BF%A0%ED%8F%B0](%EC%9E%90%EC%9D%B4%EC%96%B8)%EB%AC%BC%EB%A5%98%20%EC%A7%81%EC%A0%91%EB%B0%B0%EC%86%A1%20%EB%B0%8F%20%EC%84%A4%EC%B9%98%20[LH65MEBPLGA]%EC%82%BC%EC%84%B1%EC%A0%84%EC%9E%90DID%EB%AA%A8%EB%8B%88%ED%84%B065%ED%98%95%20%EC%8A%A4%ED%83%A0%EB%93%9C&img=http://shopping.phinf.naver.net/main_6679755/6679755193.1.jpg HTTP/1.1\" 200 98\n",
      "10.0.2.2 - - [21/Aug/2016 18:27:58] \"GET /classify?name=%EC%82%BC%EC%84%B1%20LED%20TV,%20UN40EH5003F%20[%EC%82%AC%EC%97%85%EC%9E%A5%20%EC%A0%84%EC%9A%A9],%20Full%20HD,%20%EC%8A%A4%ED%83%A0%EB%93%9C%ED%98%95,%20%EB%B2%BD%EA%B1%B8%EC%9D%B4%ED%98%95%EB%B0%8F%EC%B2%9C%EC%A0%95%ED%98%95,%20%EC%9D%B4%EB%8F%99%EC%8B%9D%20%EC%8A%A4%ED%83%A0%EB%93%9C%ED%98%95%20%EA%B0%80%EB%8A%A5/%EC%82%BC%EC%84%B1%EB%AC%BC%EB%A5%98%EC%A7%81%EB%B0%B0%EC%86%A1,%ED%8F%90%EA%B0%80%EC%A0%84%EB%AC%B4%EB%A3%8C%EC%88%98%EA%B1%B0&img=http://shopping.phinf.naver.net/main_6726752/6726752468.jpg HTTP/1.1\" 200 71\n",
      "10.0.2.2 - - [21/Aug/2016 18:27:58] \"GET /classify?name=[%EC%B4%88%ED%8A%B9%EA%B0%80/%EB%85%B8%EB%A7%88%EC%A7%84]%20[%EB%8C%80%EC%9A%B0%20LED%20TV-32%ED%98%95]32%EC%9D%B8%EC%B9%98/%ED%85%94%EB%A0%88%EB%B9%84%EC%A0%BC/%EB%B2%BD%EA%B1%B8%EC%9D%B4%EA%B2%B8%EC%9A%A9/%EC%8A%A4%ED%83%A0%EB%93%9CTV/%EB%B2%BD%EA%B1%B8%EC%9D%B4TV/%EC%99%80%EC%9D%B4%EB%93%9CTV/%EB%8C%80%EC%9A%B0%20%EB%A3%A8%EC%BB%B4&img=http://shopping.phinf.naver.net/main_7727751/7727751734.jpg HTTP/1.1\" 200 117\n",
      "10.0.2.2 - - [21/Aug/2016 18:27:58] \"GET /classify?name=[4%%EC%A6%89%EC%8B%9C%ED%95%A0%EC%9D%B8%EC%BF%A0%ED%8F%B0](%EC%9E%90%EC%9D%B4%EC%96%B8)%EB%AC%BC%EB%A5%98%20%EC%A7%81%EC%A0%91%EB%B0%B0%EC%86%A1%20%EB%B0%8F%20%EC%84%A4%EC%B9%98%20%EC%82%BC%EC%84%B1%2065%ED%98%95%20[LH65MEBPLGA]%20DID%EB%AA%A8%EB%8B%88%ED%84%B0%20%EC%8A%A4%ED%83%A0%EB%93%9C&img=http://shopping.phinf.naver.net/main_6679753/6679753816.1.jpg HTTP/1.1\" 200 98\n",
      "10.0.2.2 - - [21/Aug/2016 18:27:58] \"GET /classify?name=[%EC%B4%88%ED%8A%B9%EA%B0%80/%EB%85%B8%EB%A7%88%EC%A7%84]%20[%EB%8C%80%EC%9A%B0%20LED%20TV-32%ED%98%95]32%EC%9D%B8%EC%B9%98/%ED%85%94%EB%A0%88%EB%B9%84%EC%A0%BC/%EB%B2%BD%EA%B1%B8%EC%9D%B4%EA%B2%B8%EC%9A%A9/%EC%8A%A4%ED%83%A0%EB%93%9CTV/%EB%B2%BD%EA%B1%B8%EC%9D%B4TV/%EC%99%80%EC%9D%B4%EB%93%9CTV/%EB%8C%80%EC%9A%B0%20%EB%A3%A8%EC%BB%B4..&img=http://shopping.phinf.naver.net/main_7764192/7764192083.jpg HTTP/1.1\" 200 117\n"
     ]
    },
    {
     "name": "stdout",
     "output_type": "stream",
     "text": [
      "classify called\n",
      "classify called\n",
      "classify called\n",
      "classify called\n",
      "classify called\n",
      "classify called\n",
      "classify called\n",
      "classify called\n",
      "classify called\n",
      "classify called\n",
      "classify called\n",
      "classify called\n",
      "classify called\n",
      "classify called\n",
      "classify called\n"
     ]
    },
    {
     "name": "stderr",
     "output_type": "stream",
     "text": [
      "10.0.2.2 - - [21/Aug/2016 18:27:58] \"GET /classify?name=[LG%ED%8A%B9%EA%B8%89][%EC%98%A8%EB%9D%BC%EC%9D%B8%EA%B3%B5%EC%8B%9D%EC%9D%B8%EC%A6%9D%EC%A0%90]LG%20%EA%B3%A1%EB%A9%B4%20OLED%20TV%2055EC9310(%EC%8A%A4%ED%83%A0%EB%93%9C)&img=http://shopping.phinf.naver.net/main_8267718/8267718797.jpg HTTP/1.1\" 200 71\n",
      "10.0.2.2 - - [21/Aug/2016 18:27:58] \"GET /classify?name=[4%%EC%A6%89%EC%8B%9C%ED%95%A0%EC%9D%B8%EC%BF%A0%ED%8F%B0]55EC9310%20%20(%EB%B2%BD%EA%B1%B8%EC%9D%B4%ED%98%95%20%EA%B0%81%EB%8F%84%EC%A1%B0%EC%A0%88)%2055%EC%9D%B8%EC%B9%98%20%EA%B3%A1%EB%A9%B4%20OLED%20TV&img=http://shopping.phinf.naver.net/main_8270958/8270958963.jpg HTTP/1.1\" 200 71\n",
      "10.0.2.2 - - [21/Aug/2016 18:27:58] \"GET /classify?name=LG%EC%A0%84%EC%9E%90%20(LG%20%EC%A0%84%EC%9E%90)%2055EG9600%20(%EA%B0%81%EB%8F%84%EC%A1%B0%EC%A0%88%EB%B2%BD%EA%B1%B8%EC%9D%B4)LED%20TV/%EC%8B%A0%EC%84%A0%EC%83%81%EC%82%AC&img=http://shopping.phinf.naver.net/main_8274308/8274308201.jpg HTTP/1.1\" 200 71\n",
      "10.0.2.2 - - [21/Aug/2016 18:27:58] \"GET /classify?name=CITI%2055EG9600%20%EC%8A%A4%ED%83%A0%EB%93%9C%ED%98%95%20LG%EC%A0%95%ED%92%88%20UHD%20%EA%B3%A1%EB%A9%B4%ED%98%95%20OLED%20TV&img=http://shopping.phinf.naver.net/main_8266981/8266981846.jpg HTTP/1.1\" 200 71\n",
      "10.0.2.2 - - [21/Aug/2016 18:27:58] \"GET /classify?name=[%EC%82%AC%EC%97%85%EC%9E%90%EC%A0%84%EC%9A%A9]%20UN55H6300AF%20[%ED%99%94%EB%A9%B4%ED%81%AC%EA%B8%B0:138cm][%EB%AA%A8%ED%85%94/%EC%88%99%EB%B0%95%EC%97%85%EC%86%8C/%EA%B4%80%EA%B3%B5%EC%84%9C/%EB%B3%91%EC%9B%90/%EB%85%B8%EB%9E%98%EB%B0%A9/%ED%95%99%EA%B5%90/%EC%9B%90%EB%A3%B8][%EC%A0%84%EA%B5%AD%20%EC%82%BC%EC%84%B1%EB%AC%BC%EB%A5%98%20%EC%A7%81%EB%B0%B0%EC%86%A1,%ED%8F%90%EA%B0%80%EC%A0%84%EC%88%98%EA%B1%B0]&img=http://shopping.phinf.naver.net/main_7731743/7731743153.jpg HTTP/1.1\" 200 118\n",
      "10.0.2.2 - - [21/Aug/2016 18:27:58] \"GET /classify?name=KP%20%EC%A0%84%EA%B5%AD%EB%B0%B0%EC%86%A1%20%EC%82%BC%EC%84%B1%20KN55S9CAF%EC%8A%A4%ED%83%A0%EB%93%9C%ED%98%95%20%EC%BB%A4%EB%B8%8C%EB%93%9C%20OLED&img=http://shopping.phinf.naver.net/main_8249853/8249853748.jpg HTTP/1.1\" 200 71\n",
      "10.0.2.2 - - [21/Aug/2016 18:27:58] \"GET /classify?name=[4%%EC%A6%89%EC%8B%9C%ED%95%A0%EC%9D%B8%EC%BF%A0%ED%8F%B0]LG%EC%A0%84%EC%9E%90%20KP%20%EC%A0%84%EA%B5%AD%EB%B0%B0%EC%86%A1%20%EC%97%98%EC%A7%80%2065EC9700%20%EC%8A%A4%ED%83%A0%EB%93%9C%ED%98%95%20TV%20%EB%B9%A0%EB%A5%B8%EC%84%A4%EC%B9%98&img=http://shopping.phinf.naver.net/main_8249832/8249832851.jpg HTTP/1.1\" 200 71\n",
      "10.0.2.2 - - [21/Aug/2016 18:27:58] \"GET /classify?name=[4%%EC%A6%89%EC%8B%9C%ED%95%A0%EC%9D%B8%EC%BF%A0%ED%8F%B0]LG%20%20%EC%9A%B8%ED%8A%B8%EB%9D%BC%20HD%20LED%20%EC%8B%9C%EB%84%A4%EB%A7%88%203D%20%EC%8A%A4%EB%A7%88%ED%8A%B8%20TV%2055EA9700&img=http://shopping.phinf.naver.net/main_8221947/8221947024.jpg HTTP/1.1\" 200 71\n",
      "10.0.2.2 - - [21/Aug/2016 18:27:58] \"GET /classify?name=LG%EC%A0%84%EC%9E%90%20%EB%AA%85%EC%A7%84/65EC9700%20(%EB%B2%BD%EA%B1%B8%EC%9D%B4%ED%98%95_%EA%B0%81%EB%8F%84%EC%A1%B0%EC%A0%88)/%EB%AC%BC%EB%A5%98%EC%A7%81%EB%B0%B0%EC%86%A1&img=http://shopping.phinf.naver.net/main_8203108/8203108603.jpg HTTP/1.1\" 200 71\n",
      "10.0.2.2 - - [21/Aug/2016 18:27:58] \"GET /classify?name=LG%EC%A0%84%EC%9E%90%20%EC%84%A0%EC%83%A4%EC%9D%B8%2042LG50FD&img=http://shopping.phinf.naver.net/main_4117491/4117491409.20130508120651.jpg HTTP/1.1\" 200 71\n",
      "10.0.2.2 - - [21/Aug/2016 18:27:58] \"GET /classify?name=LG%EC%A0%84%EC%9E%90%2042LK450&img=http://shopping.phinf.naver.net/main_5739967/5739967382.20130327121253.jpg HTTP/1.1\" 200 71\n",
      "10.0.2.2 - - [21/Aug/2016 18:27:58] \"GET /classify?name=LG%EC%A0%84%EC%9E%90%2042LH40YD&img=http://shopping.phinf.naver.net/main_5371028/5371028953.20130508120832.jpg HTTP/1.1\" 200 71\n",
      "10.0.2.2 - - [21/Aug/2016 18:27:58] \"GET /classify?name=LG%EC%A0%84%EC%9E%90%2042LD452&img=http://shopping.phinf.naver.net/main_5556211/5556211585.20130508105554.jpg HTTP/1.1\" 200 71\n",
      "10.0.2.2 - - [21/Aug/2016 18:27:58] \"GET /classify?name=LG%EC%A0%84%EC%9E%90%2042LH30FD&img=http://shopping.phinf.naver.net/main_5222257/5222257284.20130517101509.jpg HTTP/1.1\" 200 71\n",
      "10.0.2.2 - - [21/Aug/2016 18:27:58] \"GET /classify?name=[%ED%95%B4%EC%99%B8]%20C%20E%20C%20E%20CNE52923%20F%20Hex%20Crimp%20Connector%20RG6%20%20(T1)%20%EA%B5%AC%EB%A7%A4%EB%8C%80%ED%96%89%20%EC%A7%81%EA%B5%AC&img=http://shopping.phinf.naver.net/main_8278611/8278611688.jpg HTTP/1.1\" 200 71\n",
      "10.0.2.2 - - [21/Aug/2016 18:27:58] \"GET /classify?name=[%ED%95%B4%EC%99%B8]%20Gino%20Gino%205%20Pcs%20Dual%20Row%203P%20Screw%20Connector%20Barrier%20Terminal%20Block%20Board%2025A%20%20(T1)%20%EA%B5%AC%EB%A7%A4%EB%8C%80%ED%96%89%20%EC%A7%81%EA%B5%AC&img=http://shopping.phinf.naver.net/main_8278591/8278591550.jpg HTTP/1.1\" 200 72\n"
     ]
    },
    {
     "name": "stdout",
     "output_type": "stream",
     "text": [
      "classify called\n",
      "classify called\n",
      "classify called\n",
      "classify called\n",
      "classify called\n",
      "classify called\n",
      "classify called\n",
      "classify called\n",
      "classify called\n",
      "classify called\n",
      "classify called\n",
      "classify called\n",
      "classify called\n",
      "classify called\n",
      "classify called\n",
      "classify called\n"
     ]
    },
    {
     "name": "stderr",
     "output_type": "stream",
     "text": [
      "10.0.2.2 - - [21/Aug/2016 18:27:58] \"GET /classify?name=[%ED%95%B4%EC%99%B8][%EA%B5%AC%EB%A7%A4%EB%8C%80%ED%96%89][B007XZ2X8W]%20Amphenol%20Industrial%20PT06SE-20-16S(SR)%20Circular%20Connector%20Socket%20Environ&img=http://shopping.phinf.naver.net/main_8266285/8266285956.jpg HTTP/1.1\" 200 71\n",
      "10.0.2.2 - - [21/Aug/2016 18:27:58] \"GET /classify?name=[%ED%95%B4%EC%99%B8][%EA%B5%AC%EB%A7%A4%EB%8C%80%ED%96%89][B007XYXUY4]%20Amphenol%20Industrial%20PT06E-10-6P(470)%20Circular%20Connector%20Pin%20Environment&img=http://shopping.phinf.naver.net/main_8266286/8266286442.jpg HTTP/1.1\" 200 71\n",
      "10.0.2.2 - - [21/Aug/2016 18:27:58] \"GET /classify?name=[%ED%95%B4%EC%99%B8][%EA%B5%AC%EB%A7%A4%EB%8C%80%ED%96%89][B005T8RCZ4]%20Amphenol%20Industrial%20PT02E-16-26P%20Circular%20Connector%20Pin,%20Environmental&img=http://shopping.phinf.naver.net/main_8266285/8266285903.jpg HTTP/1.1\" 200 71\n",
      "10.0.2.2 - - [21/Aug/2016 18:27:58] \"GET /classify?name=[%ED%95%B4%EC%99%B8][%EA%B5%AC%EB%A7%A4%EB%8C%80%ED%96%89][B007XYXZR6]%20Amphenol%20Industrial%20PT06E-12-10P(470)%20Circular%20Connector%20Pin,%20Environme&img=http://shopping.phinf.naver.net/main_8266285/8266285880.jpg HTTP/1.1\" 200 71\n",
      "10.0.2.2 - - [21/Aug/2016 18:27:58] \"GET /classify?name=[%ED%95%B4%EC%99%B8][%EA%B5%AC%EB%A7%A4%EB%8C%80%ED%96%89][B005T8RIXK]%20Amphenol%20Industrial%20PT06A-12-8P(SR)%20Circular%20Connector%20Pin,%20General%20Dut&img=http://shopping.phinf.naver.net/main_8266285/8266285895.jpg HTTP/1.1\" 200 71\n",
      "10.0.2.2 - - [21/Aug/2016 18:27:58] \"GET /classify?name=[%ED%95%B4%EC%99%B8][%EA%B5%AC%EB%A7%A4%EB%8C%80%ED%96%89][B007XZ4W5O]%20Amphenol%20Industrial%20PT02A-16-26S%20Circular%20Connector%20Socket%20General%20Duty&img=http://shopping.phinf.naver.net/main_8266285/8266285898.jpg HTTP/1.1\" 200 72\n",
      "10.0.2.2 - - [21/Aug/2016 18:27:58] \"GET /classify?name=[%ED%95%B4%EC%99%B8][%EA%B5%AC%EB%A7%A4%EB%8C%80%ED%96%89][B005T8RX6M]%20Amphenol%20Industrial%20PT06A-14-12P(SR)%20Circular%20Connector%20Pin,%20General%20Du&img=http://shopping.phinf.naver.net/main_8266286/8266286438.jpg HTTP/1.1\" 200 71\n",
      "10.0.2.2 - - [21/Aug/2016 18:27:58] \"GET /classify?name=[%ED%95%B4%EC%99%B8][%EA%B5%AC%EB%A7%A4%EB%8C%80%ED%96%89][B005T8VH0A]%20Amphenol%20Industrial%20PT06E-16-26P(SR)%20Circular%20Connector%20Pin,%20Environmen&img=http://shopping.phinf.naver.net/main_8266285/8266285897.jpg HTTP/1.1\" 200 71\n",
      "10.0.2.2 - - [21/Aug/2016 18:27:58] \"GET /classify?name=LG%EC%A0%84%EC%9E%90%2050PN550G&img=http://shopping.phinf.naver.net/main_7826101/7826101927.20140723170703.jpg HTTP/1.1\" 200 71\n",
      "10.0.2.2 - - [21/Aug/2016 18:27:58] \"GET /classify?name=%EC%82%BC%EC%84%B1%EC%A0%84%EC%9E%90%20PN43D490A1D&img=http://shopping.phinf.naver.net/main_5742708/5742708125.20130313124559.jpg HTTP/1.1\" 200 71\n",
      "10.0.2.2 - - [21/Aug/2016 18:27:58] \"GET /classify?name=LG%EC%A0%84%EC%9E%90%2050PA4300&img=http://shopping.phinf.naver.net/main_6203391/6203391597.20130329183117.jpg HTTP/1.1\" 200 71\n",
      "10.0.2.2 - - [21/Aug/2016 18:27:58] \"GET /classify?name=LG%EC%A0%84%EC%9E%90%2060PN670H&img=http://shopping.phinf.naver.net/main_6861142/6861142524.20130424150854.jpg HTTP/1.1\" 200 71\n",
      "10.0.2.2 - - [21/Aug/2016 18:27:58] \"GET /classify?name=[PCD]AverMedia%20Live%20Gamer%20HD%20(PCI%20Express%20%EC%BA%A1%EC%B3%90%EC%B9%B4%EB%93%9C/1080p)&img=http://shopping.phinf.naver.net/main_8187832/8187832600.jpg HTTP/1.1\" 200 115\n",
      "10.0.2.2 - - [21/Aug/2016 18:27:58] \"GET /classify?name=[%EB%AC%B4%EB%A6%BC2]%20[%EC%8A%A4%EC%B9%B4%EC%9D%B4%EB%94%94%EC%A7%80%ED%83%88]%20SKYTV%20HD%20YELLOW&img=http://shopping.phinf.naver.net/main_8146825/8146825361.jpg HTTP/1.1\" 200 101\n",
      "10.0.2.2 - - [21/Aug/2016 18:27:58] \"GET /classify?name=[%EC%95%84%EC%9D%B4%EC%BB%B4%ED%94%84%EB%A6%AC]/%20%EC%8A%A4%ED%8E%99%ED%8A%B8%EB%9F%BC%ED%86%B5%EC%8B%A0%EA%B8%B0%EC%88%A0%20%20%EB%B3%B5%ED%95%A9%EC%8B%A0%ED%98%B8%EC%A6%9D%ED%8F%AD%EA%B8%B0%20HDB-20UV%20/[%EB%B9%A0%EB%A5%B8%EB%B0%B0%EC%86%A1]&img=http://shopping.phinf.naver.net/main_8109244/8109244927.jpg HTTP/1.1\" 200 101\n",
      "10.0.2.2 - - [21/Aug/2016 18:27:58] \"GET /classify?name=acchouse%20[F6368-1]%20IPOD/IPHONE%20%EC%B0%A8%EB%9F%89%EC%9A%A9%20%EC%B6%A9%EC%A0%84%EA%B8%B0&img=http://shopping.phinf.naver.net/main_6953674/6953674182.jpg HTTP/1.1\" 200 100\n"
     ]
    },
    {
     "name": "stdout",
     "output_type": "stream",
     "text": [
      "classify called\n",
      "classify called\n",
      "classify called\n",
      "classify called\n",
      "classify called\n",
      "classify called\n",
      "classify called\n",
      "classify called\n",
      "classify called\n",
      "classify called\n",
      "classify called\n",
      "classify called\n",
      "classify called\n"
     ]
    },
    {
     "name": "stderr",
     "output_type": "stream",
     "text": [
      "10.0.2.2 - - [21/Aug/2016 18:27:58] \"GET /classify?name=DRA00-120150%20[%EC%A7%80%ED%95%98%EC%9A%A9%20%EC%A4%91%EA%B3%84%EA%B8%B0%20%EC%A0%84%EC%9B%90%EA%B3%B5%EA%B8%89%EA%B8%B0-AC%20Adapter-12V,%201.5A]&img=http://shopping.phinf.naver.net/main_6923248/6923248107.jpg HTTP/1.1\" 200 81\n",
      "10.0.2.2 - - [21/Aug/2016 18:27:58] \"GET /classify?name=(C%20B)%20%EC%8A%A4%EC%B9%B4%EC%9D%B4%EB%94%94%EC%A7%80%ED%83%88%20%20SKYTV%20HD%20Magenta&img=http://shopping.phinf.naver.net/main_7163898/7163898380.jpg HTTP/1.1\" 200 101\n",
      "10.0.2.2 - - [21/Aug/2016 18:27:58] \"GET /classify?name=[4%%EC%A6%89%EC%8B%9C%ED%95%A0%EC%9D%B8%EC%BF%A0%ED%8F%B0]%EC%8A%A4%EC%B9%B4%EC%9D%B4%EB%94%94%EC%A7%80%ED%83%88%20AP/SKY%20TV%20HD%20GREEN%20/%20MAGENTA%20/%20YELLOW%20%EC%9B%94%EB%93%9C%EC%BB%B5%208%EA%B0%95%20%EA%B8%B0%EC%9B%90%20%EC%98%A5%EC%85%98%20%EA%B8%B0%ED%9A%8D%EC%A0%84&img=http://shopping.phinf.naver.net/main_7723872/7723872754.jpg HTTP/1.1\" 200 101\n",
      "10.0.2.2 - - [21/Aug/2016 18:27:58] \"GET /classify?name=HDV-1000TRQV%20[Professional%20Trans-coder%20System%20QAM%20to%208VSB%20System%20for%20easy%20D-TV%20launching]&img=http://shopping.phinf.naver.net/main_7132637/7132637928.jpg HTTP/1.1\" 200 107\n",
      "10.0.2.2 - - [21/Aug/2016 18:27:58] \"GET /classify?name=[4%%EC%A6%89%EC%8B%9C%ED%95%A0%EC%9D%B8%EC%BF%A0%ED%8F%B0]%EC%8A%A4%EC%B9%B4%EC%9D%B4%EB%94%94%EC%A7%80%ED%83%88%20%20SKYTV%20HD%20YELLOW%20%20%20DT-800%20%EC%95%88%ED%85%8C%EB%82%98&img=http://shopping.phinf.naver.net/main_8271314/8271314887.jpg HTTP/1.1\" 200 101\n",
      "10.0.2.2 - - [21/Aug/2016 18:27:58] \"GET /classify?name=[HS]%20%EC%97%A0%ED%94%BD%EC%8A%A8%20%EB%94%94%EB%B9%84%EC%BD%94%20Fusion%20HDTV7%20USB%20Home%20[%EC%B4%9D%EC%95%8C%EB%B0%B0%EC%86%A1]&img=http://shopping.phinf.naver.net/main_8258027/8258027540.jpg HTTP/1.1\" 200 101\n",
      "10.0.2.2 - - [21/Aug/2016 18:27:58] \"GET /classify?name=[4%%EC%A6%89%EC%8B%9C%ED%95%A0%EC%9D%B8%EC%BF%A0%ED%8F%B0]%EC%8A%A4%EC%B9%B4%EC%9D%B4%EB%94%94%EC%A7%80%ED%83%88%20%EC%8A%A4%EC%B9%B4%EC%9D%B4%EB%94%94%EC%A7%80%ED%83%88%20SKYTV%20HD%20YELLOW%20HDTV%EC%88%98%EC%8B%A0%EC%B9%B4%EB%93%9C/%EC%99%B8%EC%9E%A5%ED%98%95/U%20SKYTV%20HD%20YELLOW&img=http://shopping.phinf.naver.net/main_8261106/8261106341.jpg HTTP/1.1\" 200 101\n",
      "10.0.2.2 - - [21/Aug/2016 18:27:58] \"GET /classify?name=%EB%AC%B4%EB%A3%8C%20%EC%8A%A4%EC%B9%B4%EC%9D%B4%EB%94%94%EC%A7%80%ED%83%88%20SKYTV%20HD%20Magenta%20HDTV%EC%B9%B4%EB%93%9C/PCI-Express/%ED%95%9C%EA%B8%80%EC%9E%90%EB%A7%89%EB%B0%A9%EC%86%A1%EC%A7%80%EC%9B%90/PAL%EB%B0%A9%EC%8B%9D%EC%A7%80%EC%9B%90/EPG%EC%A7%80%EC%9B%90/%EB%8B%A4%EA%B5%AD%EC%96%B4%EC%A7%80%EC%9B%90/%EB%A6%AC%EB%AA%A8%EC%BB%A8%EC%A0%9C%EA%B3%B5%20SKYTV%20HD%20Magenta(SK&img=http://shopping.phinf.naver.net/main_8261052/8261052786.jpg HTTP/1.1\" 200 101\n",
      "10.0.2.2 - - [21/Aug/2016 18:27:58] \"GET /classify?name=%EC%8A%A4%EC%B9%B4%EC%9D%B4%EB%94%94%EC%A7%80%ED%83%88%20SKYTV%20HD%20YELLOW%20HDTV%EC%88%98%EC%8B%A0%EC%B9%B4%EB%93%9C/%EC%99%B8%EC%9E%A5%ED%98%95/USB/%ED%95%9C%EA%B8%80%EC%9E%90%EB%A7%89%EB%B0%A9%EC%86%A1%EC%A7%80%EC%9B%90/%EB%A6%AC%EB%AA%A8%EC%BB%A8%EC%A0%9C%EA%B3%B5%20SKYTV%20HD%20YELLOW(SKYTV%20HD%20YELLOW)&img=http://shopping.phinf.naver.net/main_8261063/8261063786.jpg HTTP/1.1\" 200 101\n",
      "10.0.2.2 - - [21/Aug/2016 18:27:58] \"GET /classify?name=%EC%8A%A4%EC%B9%B4%EC%9D%B4%EB%94%94%EC%A7%80%ED%83%88%20%EC%8A%A4%EC%B9%B4%EC%9D%B4%EB%94%94%EC%A7%80%ED%83%88%20%20SKYTV%20HD%20Magenta%20%20%20DT-700%20%EC%95%88%ED%85%8C%EB%82%98%20%EB%B9%A0%EB%A5%B8%EB%B0%B0%EC%86%A1/%EB%8B%B9%EC%9D%BC%EC%B6%9C%EA%B3%A0&img=http://shopping.phinf.naver.net/main_8250616/8250616124.jpg HTTP/1.1\" 200 101\n",
      "10.0.2.2 - - [21/Aug/2016 18:27:58] \"GET /classify?name=%E3%85%87%EC%A6%89%EC%8B%9C%EC%B6%9C%EA%B3%A0%E3%85%87%20%EC%8A%A4%EC%B9%B4%EC%9D%B4%EB%94%94%EC%A7%80%ED%83%88%20%20SKYTV%20HD%20YELLOW%20%EF%BC%8B%20DT-800%20%EC%95%88%ED%85%8C%EB%82%98[%E3%85%87%EC%B5%9C%EC%9A%B0%EC%88%98%ED%8C%90%EB%A7%A4%EC%9E%90/%EB%B0%A9%EB%AC%B8%EC%88%98%EB%A0%B9/%EB%B9%A0%EB%A5%B8%EB%B0%B0%EC%86%A1%E3%85%87]&img=http://shopping.phinf.naver.net/main_8243857/8243857141.jpg HTTP/1.1\" 200 101\n",
      "10.0.2.2 - - [21/Aug/2016 18:27:58] \"GET /classify?name=[4%%EC%A6%89%EC%8B%9C%ED%95%A0%EC%9D%B8%EC%BF%A0%ED%8F%B0]%EC%8A%A4%EC%B9%B4%EC%9D%B4%EB%94%94%EC%A7%80%ED%83%88%20%20SKYTV%20HD%20YELLOW%20DT-700%20%EC%95%88%ED%85%8C%EB%82%98&img=http://shopping.phinf.naver.net/main_8223447/8223447418.jpg HTTP/1.1\" 200 101\n"
     ]
    },
    {
     "name": "stdout",
     "output_type": "stream",
     "text": [
      "classify called\n",
      "classify called\n",
      "classify called\n",
      "classify called\n",
      "classify called\n",
      "classify called\n",
      "classify called\n",
      "classify called\n",
      "classify called\n",
      "classify called\n",
      "classify called\n",
      "classify called\n",
      "classify called\n",
      "classify called\n",
      "classify called\n",
      "classify called\n"
     ]
    },
    {
     "name": "stderr",
     "output_type": "stream",
     "text": [
      "10.0.2.2 - - [21/Aug/2016 18:27:58] \"GET /classify?name=[%EB%8B%B9%EC%9D%BC%EB%B0%B0%EC%86%A1%20%EB%B0%94%EB%A1%9C%EC%B6%9C%EB%B0%9C]%20%EB%94%94%EB%B9%84%EC%BD%94%20FusionHDTV7%20USB%20Deluxe%20[%EC%A0%95%ED%92%88]&img=http://shopping.phinf.naver.net/main_8215645/8215645568.jpg HTTP/1.1\" 200 101\n",
      "10.0.2.2 - - [21/Aug/2016 18:27:58] \"GET /classify?name=%EC%97%A0%ED%94%BD%EC%8A%A8%20%EB%94%94%EB%B9%84%EC%BD%94%20Fusion%20HDTV7%20USB%20Home%20COMS%EC%9A%A9%EC%82%B0%EC%B4%9D%ED%8C%90%EC%A0%90&img=http://shopping.phinf.naver.net/main_8201308/8201308749.jpg HTTP/1.1\" 200 101\n",
      "10.0.2.2 - - [21/Aug/2016 18:27:58] \"GET /classify?name=[4%%EC%A6%89%EC%8B%9C%ED%95%A0%EC%9D%B8%EC%BF%A0%ED%8F%B0]%EB%8F%85%EB%A6%BD%ED%98%95%20HDTV%20%EC%88%98%EC%8B%A0%EA%B8%B0%20HDBOX2-VGA%20%EC%B6%9C%EB%A0%A5%20%EB%94%94%EC%BD%94&img=http://shopping.phinf.naver.net/main_8200316/8200316812.jpg HTTP/1.1\" 200 101\n",
      "10.0.2.2 - - [21/Aug/2016 18:27:58] \"GET /classify?name=[%ED%95%B4%EC%99%B8]%EB%9D%BC%EC%9D%B4%ED%8A%B8%20%EC%98%A8%20TVT-1060%20TVT1060%20%EB%AF%B8%EB%8B%88%20PCI-E%EC%9D%98%20DVB-T%20%EC%95%84%EB%82%A0%EB%A1%9C%EA%B7%B8%20Hybird%20HD%20TV%20%EC%B9%B4%EB%93%9C/Lite-On%20TVT-1060%20TVT1060%20Mini%20PCI-e&img=http://shopping.phinf.naver.net/main_8207937/8207937347.jpg HTTP/1.1\" 200 115\n",
      "10.0.2.2 - - [21/Aug/2016 18:27:58] \"GET /classify?name=[4%%EC%A6%89%EC%8B%9C%ED%95%A0%EC%9D%B8%EC%BF%A0%ED%8F%B0]%EB%B2%A0%EC%9D%B4%EC%8A%A4%EC%BA%A0%ED%94%84%20%EC%97%A0%ED%94%BD%EC%8A%A8%20%EB%94%94%EB%B9%84%EC%BD%94%20Fusion%20HDTV7%20USB%20Home&img=http://shopping.phinf.naver.net/main_8201323/8201323665.jpg HTTP/1.1\" 200 101\n",
      "10.0.2.2 - - [21/Aug/2016 18:27:58] \"GET /classify?name=[4%%EC%A6%89%EC%8B%9C%ED%95%A0%EC%9D%B8%EC%BF%A0%ED%8F%B0]Coas%20Coms%20USB%20PC%EC%9A%A9%20%EB%A9%80%ED%8B%B0%20%EB%A6%AC%EB%AA%A8%EC%BD%98%20-%20%EC%A0%81%EC%99%B8%EC%84%A0%20%20U3373%20%20%EC%BB%B4%ED%93%A8%ED%84%B0%20%EB%B0%8F%20%EC%A3%BC%EB%B3%80%EA%B8%B0%EA%B8%B0%20%EB%8B%A4%EB%82%98%EC%99%80&img=http://shopping.phinf.naver.net/main_8178826/8178826721.jpg HTTP/1.1\" 200 98\n",
      "10.0.2.2 - - [21/Aug/2016 18:27:58] \"GET /classify?name=%EC%B4%88%EC%9D%B4%EC%8A%A4%ED%85%8C%ED%81%AC%20X-REVO%20XR110&img=http://shopping.phinf.naver.net/main_4030735/4030735111.20120211194711.jpg HTTP/1.1\" 200 87\n",
      "10.0.2.2 - - [21/Aug/2016 18:27:58] \"GET /classify?name=%EC%82%AC%EC%9A%B4%EB%93%9C%EA%B7%B8%EB%9E%98%ED%94%84%20iMON%202.4G%20LT&img=http://shopping.phinf.naver.net/main_1100182/1100182619.20120211165709.jpg HTTP/1.1\" 200 124\n",
      "10.0.2.2 - - [21/Aug/2016 18:27:58] \"GET /classify?name=%EC%8B%9C%EA%B7%B8%EB%A7%88%EC%BB%B4%20USB%20%EB%A9%80%ED%8B%B0%20%EB%A6%AC%EB%AA%A8%EC%BD%98&img=http://shopping.phinf.naver.net/main_1100132/1100132683.20120211212812.jpg HTTP/1.1\" 200 79\n",
      "10.0.2.2 - - [21/Aug/2016 18:27:58] \"GET /classify?name=%EC%95%B1%EC%BD%94%20XFX%20NVTV%20TUNER%20%EB%A6%AC%EB%AA%A8%EC%BB%A8&img=http://shopping.phinf.naver.net/main_1100137/1100137482.20120211201954.jpg HTTP/1.1\" 200 79\n",
      "10.0.2.2 - - [21/Aug/2016 18:27:58] \"GET /classify?name=%EB%A7%88%EC%9D%B4%ED%81%AC%EB%A1%9C%EC%86%8C%ED%94%84%ED%8A%B8%20%EB%AF%B8%EB%94%94%EC%96%B4%EC%84%BC%ED%83%80%20%EC%97%90%EB%94%94%EC%85%98%20%EC%A0%84%EC%9A%A9%20%EB%A6%AC%EB%AA%A8%EC%BB%A8%20%ED%82%A4%ED%8A%B8&img=http://shopping.phinf.naver.net/main_1100143/1100143903.20120211202651.jpg HTTP/1.1\" 200 107\n",
      "10.0.2.2 - - [21/Aug/2016 18:27:58] \"GET /classify?name=COMS%20USB%20PC%EC%9A%A9%20%EB%A9%80%ED%8B%B0%20%EB%A6%AC%EB%AA%A8%EC%BD%98%20U3373/%EC%A0%81%EC%99%B8%EC%84%A0%EB%A6%AC%EC%8B%9C%EB%B2%84/18M&img=http://shopping.phinf.naver.net/main_7395810/7395810218.jpg HTTP/1.1\" 200 98\n",
      "10.0.2.2 - - [21/Aug/2016 18:27:58] \"GET /classify?name=[4%%EC%A6%89%EC%8B%9C%ED%95%A0%EC%9D%B8%EC%BF%A0%ED%8F%B0]U3373%20%20Coms%20USB%20PC%EC%9A%A9%20%EB%A9%80%ED%8B%B0%20%EB%A6%AC%EB%AA%A8%EC%BD%98%20-%20%EC%A0%81%EC%99%B8%EC%84%A0%20%20U3373&img=http://shopping.phinf.naver.net/main_7522060/7522060371.jpg HTTP/1.1\" 200 98\n",
      "10.0.2.2 - - [21/Aug/2016 18:27:58] \"GET /classify?name=%EB%B0%94%EC%9D%B4%ED%85%94%20%EB%A6%AC%EB%AA%A8%ED%8A%B8%EC%9B%90%EB%8D%94%20[Remote%20Wonder]&img=http://shopping.phinf.naver.net/main_1100129/1100129313.20120211202259.jpg HTTP/1.1\" 200 101\n"
     ]
    },
    {
     "name": "stdout",
     "output_type": "stream",
     "text": [
      "classify called\n",
      "classify called\n",
      "classify called\n",
      "classify called\n",
      "classify called\n",
      "classify called\n",
      "classify called\n",
      "classify called\n",
      "classify called\n",
      "classify called\n",
      "classify called\n",
      "classify called\n",
      "classify called\n",
      "classify called\n"
     ]
    },
    {
     "name": "stderr",
     "output_type": "stream",
     "text": [
      "10.0.2.2 - - [21/Aug/2016 18:27:58] \"GET /classify?name=[4%%EC%A6%89%EC%8B%9C%ED%95%A0%EC%9D%B8%EC%BF%A0%ED%8F%B0]USB%20PC%EC%9A%A9%20%EB%A9%80%ED%8B%B0%20%EB%A6%AC%EB%AA%A8%EC%BD%98%20-%20%EC%A0%81%EC%99%B8%EC%84%A0%20%20U3373&img=http://shopping.phinf.naver.net/main_7273794/7273794634.jpg HTTP/1.1\" 200 98\n",
      "10.0.2.2 - - [21/Aug/2016 18:27:58] \"GET /classify?name=[U3373]%20Coms%20USB%20PC%EC%9A%A9%20%EB%A9%80%ED%8B%B0%20%EB%A6%AC%EB%AA%A8%EC%BD%98%20-%20%EC%A0%81%EC%99%B8%EC%84%A0%20[U3373]%20U3373%2039450&img=http://shopping.phinf.naver.net/main_6852313/6852313162.jpg HTTP/1.1\" 200 98\n",
      "10.0.2.2 - - [21/Aug/2016 18:27:58] \"GET /classify?name=ACC%20UU3373%20USB%20PC%EC%9A%A9%20%EB%A9%80%ED%8B%B0%20%EB%A6%AC%EB%AA%A8%EC%BD%98%20-%20%EC%A0%81%EC%99%B8%EC%84%A0%20U3373&img=http://shopping.phinf.naver.net/main_6865570/6865570012.jpg HTTP/1.1\" 200 101\n",
      "10.0.2.2 - - [21/Aug/2016 18:27:58] \"GET /classify?name=[f6411]%20USB%20PC%20%EB%A6%AC%EB%AA%A8%EC%BD%98&img=http://shopping.phinf.naver.net/main_5559466/5559466284.jpg HTTP/1.1\" 200 96\n",
      "10.0.2.2 - - [21/Aug/2016 18:27:58] \"GET /classify?name=%EB%A6%AC%EB%AA%A8%EC%BB%A8/PC%EB%A6%AC%EB%AA%A8%EC%BB%A8/PC%EB%A6%AC%EB%AA%A8%EC%BD%98/%EB%A6%AC%EB%AA%A8%EC%BD%98/%EC%BB%B4%ED%93%A8%ED%84%B0/%EB%A7%88%EC%9A%B0%EC%8A%A4/%ED%82%A4%EB%B3%B4%EB%93%9C/%EB%AC%B4%EC%84%A0/%EC%BB%A8%ED%8A%B8%EB%A1%A4/%EC%BB%B4%ED%93%A8%ED%84%B0%EB%A6%AC%EB%AA%A8%EC%BB%A8&img=http://shopping.phinf.naver.net/main_7018788/7018788210.jpg HTTP/1.1\" 200 101\n",
      "10.0.2.2 - - [21/Aug/2016 18:27:58] \"GET /classify?name=[%EC%BC%80%EC%9D%B4%EB%B8%94%EA%B0%80%EC%9D%B4]%20[129860]Coms(%EC%BB%B4%EC%8A%A4)%20USB%20PC%EC%9A%A9%20%EB%A9%80%ED%8B%B0%20%EB%A6%AC%EB%AA%A8%EC%BD%98%20-%20%EC%A0%81%EC%99%B8%EC%84%A0%20[U3373]&img=http://shopping.phinf.naver.net/main_5834783/5834783846.jpg HTTP/1.1\" 200 101\n",
      "10.0.2.2 - - [21/Aug/2016 18:27:58] \"GET /classify?name=[4%%EC%A6%89%EC%8B%9C%ED%95%A0%EC%9D%B8%EC%BF%A0%ED%8F%B0]%EB%9D%BC%EC%9D%B8%EB%9D%BC%EC%9D%B4%ED%94%84%20[linelife]%20pa11121400ux0012%20Universal%20Digital%20LCD%20A/C%20Air%20Conditioner%20Remote%20Control&img=http://shopping.phinf.naver.net/main_6622443/6622443492.jpg HTTP/1.1\" 200 101\n",
      "10.0.2.2 - - [21/Aug/2016 18:27:59] \"GET /classify?name=COMS[%EC%BB%B4%EC%8A%A4]%20U3373%20USB%20%EB%A6%AC%EB%AA%A8%EC%BD%98/PC%EC%9A%A9%20%EB%A9%80%ED%8B%B0%20%EB%A6%AC%EB%AA%A8%EC%BD%98/%EC%A0%81%EC%99%B8%EC%84%A0/%ED%94%BC%EC%94%A8%20%ED%8C%8C%EC%9B%8C%20%EC%BB%A8%ED%8A%B8%EB%A1%A4%EB%9F%AC/%EC%9D%B4%EB%A9%94%EC%9D%BC/%EC%9B%B9%EC%84%9C%ED%95%91/%EB%A7%88%EC%9A%B0%EC%8A%A4&img=http://shopping.phinf.naver.net/main_6974458/6974458914.1.jpg HTTP/1.1\" 200 101\n",
      "10.0.2.2 - - [21/Aug/2016 18:27:59] \"GET /classify?name=%EC%BC%80%EC%9D%B4%EB%B8%94%EB%A7%88%ED%8A%B8%20NU3373%20USB%20PC%EC%9A%A9%20%EB%A9%80%ED%8B%B0%20%EB%A6%AC%EB%AA%A8%EC%BD%98%20-%20%EC%A0%81%EC%99%B8%EC%84%A0%20[U3373]%20%EC%BB%B4%ED%93%A8%ED%84%B0%20%EB%A6%AC%EB%AA%A8%EC%BB%A8%20%EB%AC%B4%EC%84%A0%EB%A7%88%EC%9A%B0%EC%8A%A4%20%EA%B8%B0%EB%8A%A5%20%ED%95%AB%ED%82%A4%EC%A7%80%EC%9B%90&img=http://shopping.phinf.naver.net/main_7644000/7644000962.jpg HTTP/1.1\" 200 101\n",
      "10.0.2.2 - - [21/Aug/2016 18:27:59] \"GET /classify?name=[4%%EC%A6%89%EC%8B%9C%ED%95%A0%EC%9D%B8%EC%BF%A0%ED%8F%B0]%20COMS[%EC%BB%B4%EC%8A%A4]%20U3373%20USB%20PC%EC%9A%A9%20%EB%A9%80%ED%8B%B0%20PC%20%EB%A6%AC%EB%AA%A8%EC%BD%98/%EC%A0%81%EC%99%B8%EC%84%A0/%ED%94%BC%EC%94%A8%20%ED%8C%8C%EC%9B%8C%20%EC%BB%A8%ED%8A%B8%EB%A1%A4%EB%9F%AC/%EC%9D%B4%EB%A9%94%EC%9D%BC/%EC%9B%B9%EC%84%9C%ED%95%91/%EB%A7%88%EC%9A%B0%EC%8A%A4%20%EB%A6%AC%EB%AA%A8%EC%BD%98&img=http://shopping.phinf.naver.net/main_6772685/6772685427.jpg HTTP/1.1\" 200 101\n",
      "10.0.2.2 - - [21/Aug/2016 18:27:59] \"GET /classify?name=%EC%83%88%EB%A1%9C%ED%85%8D%20ECU-31%20//%EB%85%B8%ED%8A%B8%EB%B6%81%EC%9A%A9%EC%B9%B4%EB%93%9C/USB3%EC%B9%B4%EB%93%9C/USB%EC%B9%B4%EB%93%9C/PCMCIA%20Express%EC%B9%B4%EB%93%9C%20(ECU-31)&img=http://shopping.phinf.naver.net/main_7671505/7671505657.jpg HTTP/1.1\" 200 104\n",
      "10.0.2.2 - - [21/Aug/2016 18:27:59] \"GET /classify?name=[4%%EC%A6%89%EC%8B%9C%ED%95%A0%EC%9D%B8%EC%BF%A0%ED%8F%B0]%20SCA-2%20%20%EA%B4%91%EB%8C%80%EC%97%AD%20RF%201:2%20%EB%B6%84%EB%B0%B0%EA%B8%B0%20%E2%97%80%20%EB%8B%A8%EA%B3%A8%EC%B6%94%EA%B0%80%ED%95%A0%EC%9D%B8/%EB%B0%A9%EB%AC%B8%EC%88%98%EB%A0%B9/%EB%8B%B9%EC%9D%BC%EC%B6%9C%EA%B3%A0%20%E2%96%B6&img=http://shopping.phinf.naver.net/main_6964533/6964533911.jpg HTTP/1.1\" 200 141\n",
      "10.0.2.2 - - [21/Aug/2016 18:27:59] \"GET /classify?name=[%EC%95%8C%EB%9D%BC%EB%94%98]120cm%20%EC%9C%84%EC%84%B1%EC%95%88%ED%85%8C%EB%82%98[%EC%98%B5%EC%85%8B&img=http://shopping.phinf.naver.net/main_6977966/6977966578.jpg HTTP/1.1\" 200 99\n",
      "10.0.2.2 - - [21/Aug/2016 18:27:59] \"GET /classify?name=[%ED%95%B4%EC%99%B8]The%20latest%20fashion%20style%20TV%20antenna%20HD/DTV/UHF/VHF/FM%20Digital%20Indoor%20TV%20AntennaSucker%2025dBi%20hdtv&img=http://shopping.phinf.naver.net/main_7976366/7976366675.jpg HTTP/1.1\" 200 101\n",
      "10.0.2.2 - - [21/Aug/2016 18:27:59] \"GET /classify?name=[%ED%95%B4%EC%99%B8]%20Antennacraft%20Yagi%20HD%20%20Y5-7-13%20%20%20%20/Antennacraft%20Yagi%20HD%20Antenna%20Y5-7-13%20Everything%20Else&img=http://shopping.phinf.naver.net/main_7894444/7894444734.1.jpg HTTP/1.1\" 200 105\n"
     ]
    },
    {
     "name": "stdout",
     "output_type": "stream",
     "text": [
      "classify called\n",
      "classify called\n",
      "classify called\n",
      "classify called\n",
      "classify called\n",
      "classify called\n",
      "classify called\n",
      "classify called\n",
      "classify called\n",
      "classify called\n",
      "classify called\n",
      "classify called\n",
      "classify called\n",
      "classify called\n"
     ]
    },
    {
     "name": "stderr",
     "output_type": "stream",
     "text": [
      "10.0.2.2 - - [21/Aug/2016 18:27:59] \"GET /classify?name=MP-6%20%EB%A7%88%EC%8A%A4%ED%84%B0%20%ED%94%84%EB%A1%9C%20%EB%94%94%EC%A7%80%ED%84%B8%20%EC%95%88%ED%85%8C%EB%82%98&img=http://shopping.phinf.naver.net/main_7799609/7799609691.jpg HTTP/1.1\" 200 101\n",
      "10.0.2.2 - - [21/Aug/2016 18:27:59] \"GET /classify?name=%EC%8A%A4%ED%8E%99%ED%8A%B8%EB%9F%BC%20Omni-FM%20%EC%95%88%ED%85%8C%EB%82%98(FM%EC%88%98%EC%8B%A0%EC%95%88%ED%85%8C%EB%82%98)&img=http://shopping.phinf.naver.net/main_7087003/7087003312.jpg HTTP/1.1\" 200 101\n",
      "10.0.2.2 - - [21/Aug/2016 18:27:59] \"GET /classify?name=[HS]%20%EC%8A%A4%EC%B9%B4%EC%9D%B4%EB%94%94%EC%A7%80%ED%83%88%20%20MT-1000%20%ED%8C%8C%EC%9D%B4%ED%94%84%20%EB%A7%88%EC%9A%B4%ED%8A%B8%20%EB%B8%8C%EB%9E%98%ED%82%B7%20[%EC%B4%9D%EC%95%8C%EB%B0%B0%EC%86%A1]&img=http://shopping.phinf.naver.net/main_7270916/7270916465.jpg HTTP/1.1\" 200 101\n",
      "10.0.2.2 - - [21/Aug/2016 18:27:59] \"GET /classify?name=%EC%A7%80%EC%83%81%ED%8C%8C%20DMB%EC%9A%A9%20%EC%95%88%ED%85%8C%EB%82%98%20B-8241&img=http://shopping.phinf.naver.net/main_7694966/7694966019.jpg HTTP/1.1\" 200 101\n",
      "10.0.2.2 - - [21/Aug/2016 18:27:59] \"GET /classify?name=[4%%EC%A6%89%EC%8B%9C%ED%95%A0%EC%9D%B8%EC%BF%A0%ED%8F%B0][%EB%B0%94%EB%B3%B4%EC%82%AC%EB%9E%91]%EB%AF%B8%EB%8B%88%EC%8A%A4%EC%9C%99%20Mini%20swing%204G%20USB%EB%A9%94%EB%AA%A8%EB%A6%AC%20%EC%9E%91%EA%B3%A0%20%EA%B0%80%EB%B2%BC%EC%9A%B4%20%EC%8A%A4%EC%9C%99%ED%83%80%EC%9E%85[%EB%AC%B4%EB%A3%8C%EB%B0%B0%EC%86%A1]&img=http://shopping.phinf.naver.net/main_7259091/7259091479.jpg HTTP/1.1\" 200 72\n",
      "10.0.2.2 - - [21/Aug/2016 18:27:59] \"GET /classify?name=1300K%20[%EC%A0%95%EC%95%A0%EC%9D%B4%EB%85%B8%EB%B2%A0%EC%9D%B4%EC%85%98]%20%EC%A0%9C%EC%9D%B4%EB%A9%94%ED%83%80%20JMETA%20%20C3%20%EB%AF%BC%ED%99%94%20%EC%B9%B4%EB%93%9C%ED%98%95USB%20No%2002%20%204GB&img=http://shopping.phinf.naver.net/main_7687189/7687189697.jpg HTTP/1.1\" 200 90\n",
      "10.0.2.2 - - [21/Aug/2016 18:27:59] \"GET /classify?name=[%EB%B0%94%EB%B3%B4%EC%82%AC%EB%9E%91][%EC%A0%95%EC%95%A0%EC%9D%B4%EB%85%B8%EB%B2%A0%EC%9D%B4%EC%85%98]%EC%A0%9C%EC%9D%B4%EB%A9%94%ED%83%80%20S1%20%EA%B3%A8%EB%93%9C%20%EC%82%AC%EA%B5%B0%EC%9E%90%20%EC%9E%90%EA%B0%9C%20%EB%AA%85%ED%95%A8%EC%BC%80%EC%9D%B4%EC%8A%A4%20%EC%84%B8%ED%8A%B8-64GB[%EB%AC%B4%EB%A3%8C%EB%B0%B0%EC%86%A1]&img=http://shopping.phinf.naver.net/main_7710743/7710743583.jpg HTTP/1.1\" 200 90\n",
      "10.0.2.2 - - [21/Aug/2016 18:27:59] \"GET /classify?name=%EB%B0%94%EB%B3%B4%EC%82%AC%EB%9E%91[%EC%9C%A0%EC%97%90%EB%84%88%EC%8A%A4]%EC%9C%A0%EC%97%90%EB%84%88%EC%8A%A4%20%ED%8C%8C%EC%8A%A4%ED%85%94%20%EC%97%90%EB%B2%84%20%EC%B9%B4%EB%93%9C%ED%98%95%20USB%EB%A9%94%EB%AA%A8%EB%A6%AC%208GB&img=http://shopping.phinf.naver.net/main_7772521/7772521227.jpg HTTP/1.1\" 200 90\n",
      "10.0.2.2 - - [21/Aug/2016 18:27:59] \"GET /classify?name=%EC%9C%A0%EC%97%90%EB%84%88%EC%8A%A4%20%EC%97%90%EB%B2%84%20%ED%8C%8C%EC%8A%A4%ED%85%94%20%EC%B9%B4%EB%93%9C%ED%98%95%20USB%20%EB%A9%94%EB%AA%A8%EB%A6%AC%20(8GB)&img=http://shopping.phinf.naver.net/main_7898469/7898469760.jpg HTTP/1.1\" 200 90\n",
      "10.0.2.2 - - [21/Aug/2016 18:27:59] \"GET /classify?name=[%EC%9C%A0%EC%97%90%EB%84%88%EC%8A%A4][UNUS]%20%EC%9C%A0%EC%97%90%EB%84%88%EC%8A%A4%20%ED%8C%8C%EC%8A%A4%ED%85%94%20%EC%97%90%EB%B2%84%20%EC%B9%B4%EB%93%9C%ED%98%95%20USB%EB%A9%94%EB%AA%A8%EB%A6%AC%208GB[%ED%9B%84%EC%B6%94%ED%86%B5]&img=http://shopping.phinf.naver.net/main_7683651/7683651962.jpg HTTP/1.1\" 200 90\n",
      "10.0.2.2 - - [21/Aug/2016 18:27:59] \"GET /classify?name=[AK%EB%AA%B0/%EB%B0%95%EC%94%A8%EC%83%81%EB%B0%A9]%20%20(2%EC%A2%85)%EB%82%98%EC%A0%84%EA%B3%A0%EC%9A%A9%EB%9F%89%20USB%204GB%20+%20%EB%AA%85%ED%95%A8%EC%BC%80%EC%9D%B4%EC%8A%A4(%EC%9A%A9)&img=http://shopping.phinf.naver.net/main_6022023/6022023886.1.jpg HTTP/1.1\" 200 90\n",
      "10.0.2.2 - - [21/Aug/2016 18:27:59] \"GET /classify?name=[%EB%B0%95%EC%94%A8%EC%83%81%EB%B0%A9]%20(2%EC%A2%85)%EB%82%98%EC%A0%84%EA%B3%A0%EC%9A%A9%EB%9F%89%20USB%204GB%20+%20%EB%AA%85%ED%95%A8%EC%BC%80%EC%9D%B4%EC%8A%A4(%EC%9A%A9)&img=http://shopping.phinf.naver.net/main_6675894/6675894549.jpg HTTP/1.1\" 200 90\n",
      "10.0.2.2 - - [21/Aug/2016 18:27:59] \"GET /classify?name=[4%%EC%A6%89%EC%8B%9C%ED%95%A0%EC%9D%B8%EC%BF%A0%ED%8F%B0]%ED%8A%B8%EB%9E%9C%EC%84%BC%EB%93%9C%20JetFlash%20760/770%2064G%20USB3.0%20%20TS64GJF760&img=http://shopping.phinf.naver.net/main_7861812/7861812010.jpg HTTP/1.1\" 200 90\n"
     ]
    },
    {
     "name": "stdout",
     "output_type": "stream",
     "text": [
      "classify called\n",
      "classify called\n",
      "classify called\n",
      "classify called\n",
      "classify called\n",
      "classify called\n",
      "classify called\n",
      "classify called\n",
      "classify called\n",
      "classify called\n",
      "classify called\n",
      "classify called\n",
      "classify called\n",
      "classify called\n",
      "classify called\n"
     ]
    },
    {
     "name": "stderr",
     "output_type": "stream",
     "text": [
      "10.0.2.2 - - [21/Aug/2016 18:27:59] \"GET /classify?name=%EC%82%BC%EB%B3%B4%20TG%EC%82%BC%EB%B3%B4%20Dvbrothers%20ROYAL%20%EC%8B%A4%EB%B2%84%20USB%EB%A9%94%EB%AA%A8%EB%A6%AC%2032GB&img=http://shopping.phinf.naver.net/main_7079013/7079013475.1.jpg HTTP/1.1\" 200 90\n",
      "10.0.2.2 - - [21/Aug/2016 18:27:59] \"GET /classify?name=[%EC%82%BC%EC%84%B1%EC%B9%B4%EB%93%9C5%%ED%95%A0%EC%9D%B8~16%EC%9D%BC%EA%B9%8C%EC%A7%80][%EB%B0%95%EC%94%A8%EC%83%81%EB%B0%A9]%20(2%EC%A2%85)%EB%AA%85%ED%95%A8+%EB%82%98%EC%A0%84%EA%B3%A0%EC%9A%A9%EB%9F%89USB%2032GB(%EB%A7%A4%ED%99%94%EB%82%98%EB%B9%84)&img=http://shopping.phinf.naver.net/main_6620764/6620764642.jpg HTTP/1.1\" 200 90\n",
      "10.0.2.2 - - [21/Aug/2016 18:27:59] \"GET /classify?name=[1300K](%EB%91%90%EC%9D%B8)%20[%ED%94%8C%EB%9D%BC%EB%AA%A8]%20FOCUS%20PLUS%20OTG%20%EB%B8%94%EB%A3%A8%20[16GB]&img=http://shopping.phinf.naver.net/main_8352305/8352305115.1.jpg HTTP/1.1\" 200 90\n",
      "10.0.2.2 - - [21/Aug/2016 18:27:59] \"GET /classify?name=[%ED%94%8C%EB%9D%BC%EB%AA%A8]%20FOCUS%20USB%EB%A9%94%EB%AA%A8%EB%A6%AC%20[16GB]%20%EC%8A%A4%EC%9C%99%EC%8A%AC%EB%9D%BC%EC%9D%B4%EB%93%9C/%ED%9C%B4%EB%8C%80%EC%9A%A9%EB%A9%94%EB%AA%A8%EB%A6%AC/%EC%83%9D%ED%99%9C%EB%B0%A9%EC%88%98/%EC%9D%B8%EC%87%84%EA%B0%80%EB%8A%A5/%EB%B8%94%EB%A3%A8%EC%83%89%20%ED%95%91%ED%81%AC%EC%83%89%20%EB%9D%BC%EC%9E%84%EC%83%89/&img=http://shopping.phinf.naver.net/main_7516923/7516923084.jpg HTTP/1.1\" 200 90\n",
      "10.0.2.2 - - [21/Aug/2016 18:27:59] \"GET /classify?name=[%ED%94%8C%EB%9D%BC%EB%AA%A8]%20FOCUS%20USB%EB%A9%94%EB%AA%A8%EB%A6%AC%20[16GB]%20%EC%8A%A4%EC%9C%99%EC%8A%AC%EB%9D%BC%EC%9D%B4%EB%93%9C/%ED%9C%B4%EB%8C%80%EC%9A%A9%EB%A9%94%EB%AA%A8%EB%A6%AC/%EC%83%9D%ED%99%9C%EB%B0%A9%EC%88%98/%EC%9D%B8%EC%87%84%EA%B0%80%EB%8A%A5/%EB%B8%94%EB%A3%A8%EC%83%89,%ED%95%91%ED%81%AC%EC%83%89,%EB%9D%BC%EC%9E%84%EC%83%89&img=http://shopping.phinf.naver.net/main_8144074/8144074837.jpg HTTP/1.1\" 200 90\n",
      "10.0.2.2 - - [21/Aug/2016 18:27:59] \"GET /classify?name=[4%%EC%A6%89%EC%8B%9C%ED%95%A0%EC%9D%B8%EC%BF%A0%ED%8F%B0][%EB%B0%94%EB%B3%B4%EC%82%AC%EB%9E%91]MAMMOTH%20GU550%208G%20USB%20%EC%BF%BC%EB%93%9C&img=http://shopping.phinf.naver.net/main_8187753/8187753299.jpg HTTP/1.1\" 200 104\n",
      "10.0.2.2 - - [21/Aug/2016 18:27:59] \"GET /classify?name=%ED%94%8C%EB%9D%BC%EB%AA%A8%20FOCUS%20PLUS%20OTG%20USB%EB%A9%94%EB%AA%A8%EB%A6%AC%2064GB%20%ED%95%91%ED%81%AC&img=http://shopping.phinf.naver.net/main_7511310/7511310120.jpg HTTP/1.1\" 200 90\n",
      "10.0.2.2 - - [21/Aug/2016 18:27:59] \"GET /classify?name=[%ED%94%8C%EB%9D%BC%EB%AA%A8]%20USB%EB%A9%94%EB%AA%A8%EB%A6%AC%20%20FOCUS%20PLUS%20OTG/%ED%95%91%ED%81%AC%20[64GB]&img=http://shopping.phinf.naver.net/main_7517026/7517026142.jpg HTTP/1.1\" 200 90\n",
      "10.0.2.2 - - [21/Aug/2016 18:27:59] \"GET /classify?name=%ED%88%AC%EC%97%90%EC%8A%A4%EC%95%8C%20%ED%94%8C%EB%9D%BC%EB%AA%A8%20FOCUS%20PLUS%20OTG%2064GB%20%ED%95%91%ED%81%AC&img=http://shopping.phinf.naver.net/main_7757873/7757873642.jpg HTTP/1.1\" 200 90\n",
      "10.0.2.2 - - [21/Aug/2016 18:27:59] \"GET /classify?name=%ED%94%8C%EB%9D%BC%EB%AA%A8%20%20FOCUS%20PLUS%20OTG%EB%A9%94%EB%AA%A8%EB%A6%AC/USB%EB%A9%94%EB%AA%A8%EB%A6%AC/%ED%95%91%ED%81%AC%20%2064GB&img=http://shopping.phinf.naver.net/main_8114659/8114659319.jpg HTTP/1.1\" 200 90\n",
      "10.0.2.2 - - [21/Aug/2016 18:27:59] \"GET /classify?name=[%EC%95%84%ED%8A%B8%EB%B0%95%EC%8A%A4%20POOM(%EB%AC%B8%EA%B5%AC,%ED%8C%AC%EC%8B%9C)]%20(%EC%9C%A0%EC%97%90%EB%84%88%EC%8A%A4)%20%EB%A7%88%EC%A1%B0%EC%95%A4%EC%83%88%EB%94%94%20(Majo%20Sady)%20%EC%8B%A4%EB%A6%AC%EC%BD%98%ED%98%95%20OTG%20USB%EB%A9%94%EB%AA%A8%EB%A6%AC%208GB&img=http://shopping.phinf.naver.net/main_7849700/7849700207.jpg HTTP/1.1\" 200 90\n",
      "10.0.2.2 - - [21/Aug/2016 18:27:59] \"GET /classify?name=1300K%20%20LG%EC%A0%84%EC%9E%90%20%20USB%20J7%20USB3%200%20%2032GB%20%20%ED%95%91%ED%81%AC&img=http://shopping.phinf.naver.net/main_8346088/8346088410.jpg HTTP/1.1\" 200 90\n",
      "10.0.2.2 - - [21/Aug/2016 18:27:59] \"GET /classify?name=%ED%8A%B8%EB%9E%9C%EC%84%BC%EB%93%9C%20JetFlash%20810%2032G%20USB%20%EB%A9%94%EB%AA%A8%EB%A6%AC%20TS32GJF810&img=http://shopping.phinf.naver.net/main_8064443/8064443940.jpg HTTP/1.1\" 200 90\n",
      "10.0.2.2 - - [21/Aug/2016 18:27:59] \"GET /classify?name=%EC%82%BC%EB%B3%B4%20TG%EC%82%BC%EB%B3%B4%20Dvbrothers%20ROYAL%20%EA%B3%A8%EB%93%9C%20USB%EB%A9%94%EB%AA%A8%EB%A6%AC%2064GB&img=http://shopping.phinf.naver.net/main_7079013/7079013742.jpg HTTP/1.1\" 200 90\n",
      "10.0.2.2 - - [21/Aug/2016 18:27:59] \"GET /classify?name=TG%EC%82%BC%EB%B3%B4%20Dvbrothers%20ROYAL%20%EA%B3%A8%EB%93%9C%20USB%EB%A9%94%EB%AA%A8%EB%A6%AC%2064GB&img=http://shopping.phinf.naver.net/main_7579751/7579751774.jpg HTTP/1.1\" 200 90\n"
     ]
    },
    {
     "name": "stdout",
     "output_type": "stream",
     "text": [
      "classify called\n",
      "classify called\n",
      "classify called\n",
      "classify called\n",
      "classify called\n",
      "classify called\n",
      "classify called\n",
      "classify called\n",
      "classify called\n",
      "classify called\n",
      "classify called\n",
      "classify called\n",
      "classify called\n",
      "classify called\n"
     ]
    },
    {
     "name": "stderr",
     "output_type": "stream",
     "text": [
      "10.0.2.2 - - [21/Aug/2016 18:27:59] \"GET /classify?name=[%EB%B0%95%EC%94%A8%EC%83%81%EB%B0%A9]%20%EB%82%98%EC%A0%84%20%EC%B9%B4%EB%93%9C%20USB%20JS%206000-%EA%B9%8C%EC%B9%98%ED%98%B8%EB%9E%91%EC%9D%B416GB%20/%EC%8A%A4%EC%8A%B9%EC%9D%98%EB%82%A0%EC%84%A0%EB%AC%BC/%EB%B6%80%EB%AA%A8%EB%8B%98%EC%84%A0%EB%AC%BC/%EC%96%B4%EB%B2%84%EC%9D%B4%EB%82%A0%EC%84%A0%EB%AC%BC/%EC%99%B8%EA%B5%AD%EC%9D%B8%EC%84%A0%EB%AC%BC&img=http://shopping.phinf.naver.net/main_6903118/6903118472.jpg HTTP/1.1\" 200 72\n",
      "10.0.2.2 - - [21/Aug/2016 18:27:59] \"GET /classify?name=[Kingstone]%20USB%EB%A9%94%EB%AA%A8%EB%A6%AC%20DataTraveler%20Micro%20DTMCK%20[8GB]%20(USB2.0%20/%20%EC%83%9D%ED%99%9C%EB%B0%A9%EC%88%98%20/%20%EC%B4%88%EA%B2%BD%EB%9F%89%20%20%20%EC%B4%88%EC%86%8C%ED%98%95)&img=http://shopping.phinf.naver.net/main_7412910/7412910108.jpg HTTP/1.1\" 200 90\n",
      "10.0.2.2 - - [21/Aug/2016 18:27:59] \"GET /classify?name=%ED%82%B9%EC%8A%A4%ED%86%A4%20USB%EB%A9%94%EB%AA%A8%EB%A6%AC%20DataTraveler%20Micro%20DTMCK%20[8GB]%20(USB2.0%20/%20%EC%83%9D%ED%99%9C%EB%B0%A9%EC%88%98%20/%20%EC%B4%88%EA%B2%BD%EB%9F%89%20%20%20%EC%B4%88%EC%86%8C%ED%98%95)&img=http://shopping.phinf.naver.net/main_7030924/7030924327.jpg HTTP/1.1\" 200 90\n",
      "10.0.2.2 - - [21/Aug/2016 18:27:59] \"GET /classify?name=[4%%EC%A6%89%EC%8B%9C%ED%95%A0%EC%9D%B8%EC%BF%A0%ED%8F%B0][%EB%B0%94%EB%B3%B4%EC%82%AC%EB%9E%91]TG%EC%82%BC%EB%B3%B4%20Pastel%20USB%EB%A9%94%EB%AA%A8%EB%A6%AC%20(32GB)-%EC%83%9D%ED%99%9C%EB%B0%A9%EC%88%98.%EC%8A%A4%EC%9C%99%ED%83%80%EC%9E%85[%EB%AC%B4%EB%A3%8C%EB%B0%B0%EC%86%A1]&img=http://shopping.phinf.naver.net/main_6747461/6747461974.jpg HTTP/1.1\" 200 90\n",
      "10.0.2.2 - - [21/Aug/2016 18:27:59] \"GET /classify?name=[LG]%20XTICK%20J3%20WINDY%2032GB%20USB%EB%A9%94%EB%AA%A8%EB%A6%AC&img=http://shopping.phinf.naver.net/main_5780495/5780495002.jpg HTTP/1.1\" 200 90\n",
      "10.0.2.2 - - [21/Aug/2016 18:27:59] \"GET /classify?name=%EB%B0%94%EB%B3%B4%EC%82%AC%EB%9E%91[%ED%82%A4%EB%84%A5%EC%8A%A4]%EC%B9%B4%EB%93%9C%ED%98%95USB%EB%A9%94%EB%AA%A8%EB%A6%AC%20CARD%2016GB[%EB%AC%B4%EB%A3%8C%EB%B0%B0%EC%86%A1]&img=http://shopping.phinf.naver.net/main_7581102/7581102942.jpg HTTP/1.1\" 200 90\n",
      "10.0.2.2 - - [21/Aug/2016 18:27:59] \"GET /classify?name=[9%%20%EC%A6%89%EC%8B%9C%ED%95%A0%EC%9D%B8]%EB%B0%95%EC%94%A8%EC%83%81%EB%B0%A9%20(2%EC%A2%85)%EB%82%98%EC%A0%84%EA%B3%A0%EC%9A%A9%EB%9F%89%20USB%204GB%20+%20%EB%AA%85%ED%95%A8%EC%BC%80%EC%9D%B4%EC%8A%A4(%ED%95%9C%EA%B8%80)&img=http://shopping.phinf.naver.net/main_8250374/8250374077.1.jpg HTTP/1.1\" 200 90\n",
      "10.0.2.2 - - [21/Aug/2016 18:27:59] \"GET /classify?name=(2%EC%A2%85)%EB%82%98%EC%A0%84%EA%B3%A0%EC%9A%A9%EB%9F%89%20USB%204GB%20+%20%EB%AA%85%ED%95%A8%EC%BC%80%EC%9D%B4%EC%8A%A4(%ED%95%9C%EA%B8%80)&img=http://shopping.phinf.naver.net/main_8016303/8016303148.jpg HTTP/1.1\" 200 90\n",
      "10.0.2.2 - - [21/Aug/2016 18:27:59] \"GET /classify?name=(AK%EB%AA%B0)(2%EC%A2%85)%EB%82%98%EC%A0%84%EA%B3%A0%EC%9A%A9%EB%9F%89%20USB%204GB%20+%20%EB%AA%85%ED%95%A8%EC%BC%80%EC%9D%B4%EC%8A%A4(%ED%95%9C%EA%B8%80)&img=http://shopping.phinf.naver.net/main_8252417/8252417046.jpg HTTP/1.1\" 200 90\n",
      "10.0.2.2 - - [21/Aug/2016 18:27:59] \"GET /classify?name=[TRANSCEND]%20%ED%8A%B8%EB%9E%9C%EC%84%BC%EB%93%9C%20JetFlash%20590%2064G%20USB%20%EB%A9%94%EB%AA%A8%EB%A6%AC%20TS64GJF590K&img=http://shopping.phinf.naver.net/main_8213914/8213914359.jpg HTTP/1.1\" 200 90\n",
      "10.0.2.2 - - [21/Aug/2016 18:27:59] \"GET /classify?name=[%ED%8A%B8%EB%9E%9C%EC%83%8C%EB%93%9C(TRANSCEND)]JetFlash590K%20%EB%B8%94%EB%9E%99%2064G%20/%20USB%202.0%20%EB%A9%94%EB%AA%A8%EB%A6%AC%20/%20TS64GJF590K%20/%20USB%20%EB%A9%94%EB%AA%A8%EB%A6%AC%20/%20%EC%A0%80%EC%9E%A5%EC%9E%A5%EC%B9%98%20/%20%ED%8A%B8%EB%9E%9C%EC%84%BC%EB%93%9C&img=http://shopping.phinf.naver.net/main_8200545/8200545467.1.jpg HTTP/1.1\" 200 90\n",
      "10.0.2.2 - - [21/Aug/2016 18:27:59] \"GET /classify?name=[%EB%8B%A4%EC%9D%B4%EC%86%8C%EB%AA%B0(%EC%86%94%EB%A1%9C%EB%AA%AC%EC%83%B5)]%20%EC%97%91%ED%86%A0%20%EC%9C%A0%EB%8B%88%EC%98%A8USB%ED%97%88%EB%B8%8C%EC%BB%A4%EB%84%A5%ED%84%B0_30%ED%95%80_%EB%B8%94%EB%9E%99(HUBC-02)_P020326141&img=http://shopping.phinf.naver.net/main_8207253/8207253859.jpg HTTP/1.1\" 200 98\n",
      "10.0.2.2 - - [21/Aug/2016 18:27:59] \"GET /classify?name=%EB%AF%B8%EB%8B%88%EC%8B%A4%EB%B2%84%2032G%20USB%EB%A9%94%EB%AA%A8%EB%A6%AC%20[MW-MS32]&img=http://shopping.phinf.naver.net/main_5413898/5413898374.jpg HTTP/1.1\" 200 90\n"
     ]
    },
    {
     "name": "stdout",
     "output_type": "stream",
     "text": [
      "classify called\n",
      "classify called\n",
      "classify called\n",
      "classify called\n",
      "classify called\n",
      "classify called\n",
      "classify called\n",
      "classify called\n",
      "classify called\n",
      "classify called\n",
      "classify called\n",
      "classify called\n"
     ]
    },
    {
     "name": "stderr",
     "output_type": "stream",
     "text": [
      "10.0.2.2 - - [21/Aug/2016 18:27:59] \"GET /classify?name=[4%%EC%A6%89%EC%8B%9C%ED%95%A0%EC%9D%B8%EC%BF%A0%ED%8F%B0]%EC%82%BC%EB%B3%B4%20TG%20%EC%82%BC%EB%B3%B4%20Dvbrothers%20NEMO%20USB%EB%A9%94%EB%AA%A8%EB%A6%AC%2064GB&img=http://shopping.phinf.naver.net/main_8316923/8316923786.jpg HTTP/1.1\" 200 90\n",
      "10.0.2.2 - - [21/Aug/2016 18:27:59] \"GET /classify?name=[TG%EC%82%BC%EB%B3%B4]TG%20%EC%82%BC%EB%B3%B4%20Dvbrothers%20NEMO%20USB%EB%A9%94%EB%AA%A8%EB%A6%AC%2064GB&img=http://shopping.phinf.naver.net/main_7002748/7002748538.jpg HTTP/1.1\" 200 90\n",
      "10.0.2.2 - - [21/Aug/2016 18:27:59] \"GET /classify?name=[%EB%A9%94%EB%AA%A8%EB%A0%9B]%20%EB%AF%B8%EB%8B%88500%204G%20%EC%B4%88%EC%86%8C%ED%98%95%20SF%EC%BD%94%ED%8C%85%20USB%EB%A9%94%EB%AA%A8%EB%A6%AC&img=http://shopping.phinf.naver.net/main_6806053/6806053786.jpg HTTP/1.1\" 200 90\n",
      "10.0.2.2 - - [21/Aug/2016 18:27:59] \"GET /classify?name=%EB%B0%94%EB%B3%B4%EC%82%AC%EB%9E%91[%EC%A0%95%EC%95%A0%EC%9D%B4%EB%85%B8%EB%B2%A0%EC%9D%B4%EC%85%98]%EC%A0%9C%EC%9D%B4%EB%A9%94%ED%83%80%20S1%20%EA%B3%A8%EB%93%9C%20%ED%92%8D%EC%86%8D%ED%99%94%20%EC%9E%90%EA%B0%9C-16GB[%EB%AC%B4%EB%A3%8C%EB%B0%B0%EC%86%A1]&img=http://shopping.phinf.naver.net/main_7711186/7711186397.jpg HTTP/1.1\" 200 90\n",
      "10.0.2.2 - - [21/Aug/2016 18:27:59] \"GET /classify?name=%EB%B0%94%EB%B3%B4%EC%82%AC%EB%9E%91[%EC%A0%95%EC%95%A0%EC%9D%B4%EB%85%B8%EB%B2%A0%EC%9D%B4%EC%85%98]%EC%A0%9C%EC%9D%B4%EB%A9%94%ED%83%80%20S1%20%EA%B3%A8%EB%93%9C%20%EC%82%AC%EA%B5%B0%EC%9E%90%20%EC%9E%90%EA%B0%9C-16GB[%EB%AC%B4%EB%A3%8C%EB%B0%B0%EC%86%A1]&img=http://shopping.phinf.naver.net/main_7797424/7797424755.jpg HTTP/1.1\" 200 90\n",
      "10.0.2.2 - - [21/Aug/2016 18:27:59] \"GET /classify?name=[%ED%85%90%EB%B0%94%EC%9D%B4%ED%85%90]%20[UNUS]%20%EC%9C%A0%EC%97%90%EB%84%88%EC%8A%A4%20%ED%8C%8C%EC%8A%A4%ED%85%94%20%EC%97%90%EB%B2%84%20%EC%B9%B4%EB%93%9C%ED%98%95%20USB%EB%A9%94%EB%AA%A8%EB%A6%AC%2064GB_USB/%EA%B8%B0%ED%83%80%EB%A9%94%EB%AA%A8%EB%A6%AC&img=http://shopping.phinf.naver.net/main_7313711/7313711364.jpg HTTP/1.1\" 200 90\n",
      "10.0.2.2 - - [21/Aug/2016 18:27:59] \"GET /classify?name=[%EC%95%84%ED%8A%B8%EB%B0%95%EC%8A%A4][%EC%9C%A0%EC%97%90%EB%84%88%EC%8A%A4]%20%ED%8C%8C%EC%8A%A4%ED%85%94%20%EC%97%90%EB%B2%84%20%EC%B9%B4%EB%93%9C%ED%98%95%20USB%EB%A9%94%EB%AA%A8%EB%A6%AC%2064GB&img=http://shopping.phinf.naver.net/main_7825717/7825717299.jpg HTTP/1.1\" 200 90\n",
      "10.0.2.2 - - [21/Aug/2016 18:27:59] \"GET /classify?name=[UNUS]%EC%9C%A0%EC%97%90%EB%84%88%EC%8A%A4%20%EC%97%90%EB%B2%84%20%ED%8C%8C%EC%8A%A4%ED%85%94%20%EC%B9%B4%EB%93%9C%ED%98%95%20USB%EB%A9%94%EB%AA%A8%EB%A6%AC%2064GB/%EA%B5%AD%EB%82%B4%EC%A0%9C%EC%9E%91/%ED%8C%90%EC%B4%89%EB%AC%BC/%EA%B8%B0%EC%97%85%ED%99%8D%EB%B3%B4/%EA%B8%B0%EB%85%90%ED%92%88/%EC%84%A0%EB%AC%BC%ED%8F%AC%EC%9E%A5/%EB%A1%9C%EA%B3%A0%EC%9D%B8%EC%87%84&img=http://shopping.phinf.naver.net/main_6777788/6777788645.1.jpg HTTP/1.1\" 200 90\n",
      "10.0.2.2 - - [21/Aug/2016 18:27:59] \"GET /classify?name=[%EC%A1%B0%EC%85%89%EC%A1%B0%EC%85%89]%20%ED%8A%B8%EC%9C%88%20%EB%B8%8C%EB%9F%AC%EC%89%AC%20%EA%B7%B8%EB%A6%B0&img=http://shopping.phinf.naver.net/main_7805226/7805226909.jpg HTTP/1.1\" 200 117\n",
      "10.0.2.2 - - [21/Aug/2016 18:27:59] \"GET /classify?name=%EB%B0%94%EB%B3%B4%EC%82%AC%EB%9E%91[%EC%9A%B0%EB%A6%AC%EC%82%B4%EB%A6%BC]%EB%8B%A8%EC%B2%ADUSB%EB%A9%94%EB%AA%A8%EB%A6%AC4G-%EB%A7%A4%ED%99%94%EA%B8%88%EB%AC%B8S(%EC%82%BC%EC%B2%AD)&img=http://shopping.phinf.naver.net/main_7136326/7136326458.1.jpg HTTP/1.1\" 200 101\n",
      "10.0.2.2 - - [21/Aug/2016 18:27:59] \"GET /classify?name=[%EB%B0%94%EB%B3%B4%EC%82%AC%EB%9E%91]%20%EB%8B%A8%EC%B2%ADUSB%EB%A9%94%EB%AA%A8%EB%A6%AC4G-%EB%A7%A4%ED%99%94%EA%B8%88%EB%AC%B8L(%EC%82%BC%EC%B2%AD),%20%EC%9D%BC%EB%B0%98%ED%98%95,4GB&img=http://shopping.phinf.naver.net/main_8110664/8110664539.jpg HTTP/1.1\" 200 90\n",
      "10.0.2.2 - - [21/Aug/2016 18:27:59] \"GET /classify?name=[%EB%B0%94%EB%B3%B4%EC%82%AC%EB%9E%91]%20%EC%A0%9C%EC%9D%B4%EB%A9%94%ED%83%80(JMETA)%20C3%20%EB%AA%85%ED%99%94%20%EC%B9%B4%EB%93%9C%ED%98%95USB%20No.7-16GB,%20%EC%B9%B4%EB%93%9C%ED%98%95,16GB,%20%EB%AC%B4%EB%A3%8C%EB%B0%B0%EC%86%A1&img=http://shopping.phinf.naver.net/main_8110534/8110534390.jpg HTTP/1.1\" 200 90\n",
      "10.0.2.2 - - [21/Aug/2016 18:27:59] \"GET /classify?name=[S-MODO.283A]%20NEW%20USB%20%EC%86%90%EB%82%9C%EB%A1%9C%20%ED%9C%B4%EB%8C%80%ED%8F%B0%20%EB%B3%B4%EC%A1%B0%EB%B0%B0%ED%84%B0%EB%A6%AC&img=http://shopping.phinf.naver.net/main_8191109/8191109532.jpg HTTP/1.1\" 200 98\n",
      "10.0.2.2 - - [21/Aug/2016 18:27:59] \"GET /classify?name=[4%%EC%A6%89%EC%8B%9C%ED%95%A0%EC%9D%B8%EC%BF%A0%ED%8F%B0]%EC%BC%80%EC%9D%B4%ED%83%91%EC%95%84%EC%9D%B4%EC%95%A4%ED%8B%B0%20KT-780%20%EA%B2%8C%EC%9D%B4%EB%B0%8D%20%EC%9E%A5%ED%8C%A8%EB%93%9C%20(%EB%B8%94%EB%A3%A8%EB%9D%BC%EC%9D%B8)&img=http://shopping.phinf.naver.net/main_8280746/8280746517.jpg HTTP/1.1\" 200 65\n"
     ]
    },
    {
     "name": "stdout",
     "output_type": "stream",
     "text": [
      "classify called\n",
      "classify called\n",
      "classify called\n",
      "classify called\n",
      "classify called\n",
      "classify called\n",
      "classify called\n",
      "classify called\n",
      "classify called\n",
      "classify called\n",
      "classify called\n",
      "classify called\n",
      "classify called\n",
      "classify called\n",
      "classify called\n"
     ]
    },
    {
     "name": "stderr",
     "output_type": "stream",
     "text": [
      "10.0.2.2 - - [21/Aug/2016 18:27:59] \"GET /classify?name=[%EB%8B%B9%EC%9D%BC%EB%B0%B0%EC%86%A1%20%EB%B0%94%EB%A1%9C%EC%B6%9C%EB%B0%9C]%20ROCCATSOTA%20(%EC%83%89%EC%83%81%EC%84%A0%ED%83%9D)%20[%EC%A0%95%ED%92%88,%20%EB%B9%A0%EB%A5%B8%EB%B0%B0%EC%86%A1][ROCCAT]&img=http://shopping.phinf.naver.net/main_8265393/8265393637.jpg HTTP/1.1\" 200 102\n",
      "10.0.2.2 - - [21/Aug/2016 18:27:59] \"GET /classify?name=[4%%EC%A6%89%EC%8B%9C%ED%95%A0%EC%9D%B8%EC%BF%A0%ED%8F%B0](C)USB%20%EC%98%A8%EC%97%B4%20%EB%B0%A9%EC%84%9D(%ED%95%B4%EB%B0%94%EB%9D%BC%EA%B8%B0)%20%EC%9B%90%ED%98%95%20Blue%20%EC%86%8C%EB%AA%A8%ED%92%88%20%20USB&img=http://shopping.phinf.naver.net/main_8272926/8272926658.jpg HTTP/1.1\" 200 98\n",
      "10.0.2.2 - - [21/Aug/2016 18:27:59] \"GET /classify?name=[%EB%8B%B9%EC%9D%BC%EB%B0%B0%EC%86%A1%20%EB%B0%94%EB%A1%9C%EC%B6%9C%EB%B0%9C]%20%EC%A3%A0%EC%9C%84%EA%B8%B0%EC%96%B4%20CM2%20[%EC%A0%95%ED%92%88,%20%EB%B9%A0%EB%A5%B8%EB%B0%B0%EC%86%A1][%EC%A3%A0%EC%9C%84%EA%B8%B0%EC%96%B4]&img=http://shopping.phinf.naver.net/main_8265391/8265391779.jpg HTTP/1.1\" 200 102\n",
      "10.0.2.2 - - [21/Aug/2016 18:28:00] \"GET /classify?name=[4%%EC%A6%89%EC%8B%9C%ED%95%A0%EC%9D%B8%EC%BF%A0%ED%8F%B0][PC%EC%A3%BC%EB%B3%80%EC%9A%A9%ED%92%88]%20(K)%20%EB%A7%88%EC%9A%B0%EC%8A%A4%EC%9A%A9%20%EC%86%90%EB%AA%A9%EB%B3%B4%ED%98%B8/%20%EC%8A%AC%EB%9D%BC%EC%9D%B4%EB%93%9C%20%ED%8C%A8%EB%93%9C(&img=http://shopping.phinf.naver.net/main_8271144/8271144802.jpg HTTP/1.1\" 200 123\n",
      "10.0.2.2 - - [21/Aug/2016 18:28:00] \"GET /classify?name=[4%%EC%A6%89%EC%8B%9C%ED%95%A0%EC%9D%B8%EC%BF%A0%ED%8F%B0]ALP-900K%203M%20%EB%A0%88%EC%9D%B4%EC%A0%80%ED%8F%AC%EC%9D%B8%ED%84%B0%20LP-900K(%EC%A0%81%EC%83%89%EB%B9%94)&img=http://shopping.phinf.naver.net/main_8251969/8251969611.jpg HTTP/1.1\" 200 109\n",
      "10.0.2.2 - - [21/Aug/2016 18:28:00] \"GET /classify?name=[4%%EC%A6%89%EC%8B%9C%ED%95%A0%EC%9D%B8%EC%BF%A0%ED%8F%B0]AL0015054%20USB%20%EB%A9%94%EB%AA%A8%EB%A6%AC%20SANDSK(%EC%8B%A0)/64G&img=http://shopping.phinf.naver.net/main_8251912/8251912349.jpg HTTP/1.1\" 200 98\n",
      "10.0.2.2 - - [21/Aug/2016 18:28:00] \"GET /classify?name=[%ED%95%B4%EC%99%B8]ASUS%20VivoBook%20S500%20S500V%20S500X%20S500C%20S500CA%EB%A5%BC%EB%A7%A4%EC%9A%B0%20%EC%96%87%EC%9D%80%20%EA%B3%B5%EA%B0%84%20TPU&img=http://shopping.phinf.naver.net/main_7464822/7464822891.jpg HTTP/1.1\" 200 89\n",
      "10.0.2.2 - - [21/Aug/2016 18:28:00] \"GET /classify?name=[4%%EC%A6%89%EC%8B%9C%ED%95%A0%EC%9D%B8%EC%BF%A0%ED%8F%B0]9cell%20A31-K53%20A32-K53%20A41-K53%20A42-K53%20Laptop%20battery%20For%20Asus%20X84%20X54%20X53%20X44%20X43%20P53%20P43%20&img=http://shopping.phinf.naver.net/main_7968440/7968440556.jpg HTTP/1.1\" 200 89\n",
      "10.0.2.2 - - [21/Aug/2016 18:28:00] \"GET /classify?name=[4%%EC%A6%89%EC%8B%9C%ED%95%A0%EC%9D%B8%EC%BF%A0%ED%8F%B0]5200mAh%20Laptop%20battery%20for%20Samsung%20r429%20R430%20R431%20R438%20R458%20R463%20R464%20R465%20R466%20R467%20R468%20&img=http://shopping.phinf.naver.net/main_7967155/7967155537.jpg HTTP/1.1\" 200 62\n",
      "10.0.2.2 - - [21/Aug/2016 18:28:00] \"GET /classify?name=[4%%EC%A6%89%EC%8B%9C%ED%95%A0%EC%9D%B8%EC%BF%A0%ED%8F%B0]7800mAh%2010.8v%20Battery%20For%20Lenovo%20IdeaPad%20G460%20G560%20V360%20V370%20V470%20B470%20G460A%20G560%20Z460%20Z46&img=http://shopping.phinf.naver.net/main_7966571/7966571478.jpg HTTP/1.1\" 200 109\n",
      "10.0.2.2 - - [21/Aug/2016 18:28:00] \"GET /classify?name=[%ED%95%B4%EC%99%B8]%EC%95%84%EC%88%98%EC%8A%A4%20v111452ak1%EC%9D%98%20TR%20664000660073%20%ED%84%B0%ED%82%A4%EC%96%B4%20%ED%82%A4%EB%B3%B4%EB%93%9C/Free%20shipping%20Fo&img=http://shopping.phinf.naver.net/main_7463657/7463657202.jpg HTTP/1.1\" 200 124\n",
      "10.0.2.2 - - [21/Aug/2016 18:28:00] \"GET /classify?name=[A]%EC%BB%B4%EC%8A%A4/%EB%85%B8%ED%8A%B8%EB%B6%81%EC%9E%A0%EA%B8%88%EC%9E%A5%EC%B9%98/TL-961/%EB%85%B8%ED%8A%B8%EB%B6%81%EB%9D%BD/%EC%88%AB%EC%9E%90%EC%8B%9D/120CM/%EB%8B%A4%EA%B8%B0%EB%8A%A5%EB%85%B8%ED%8A%B8%EB%B6%81%EC%9E%A0%EA%B8%88%EC%9E%A5%EC%B9%98/%EB%8F%84%EB%82%9C%EB%B0%A9%EC%A7%80/%EB%B6%84%EC%8B%A4%EC%9C%84%ED%97%98%EC%B0%A8%EB%8B%A8&img=http://shopping.phinf.naver.net/main_7080614/7080614776.jpg HTTP/1.1\" 200 99\n",
      "10.0.2.2 - - [21/Aug/2016 18:28:00] \"GET /classify?name=[%EC%B0%BD%EA%B3%A0%EB%8C%80%EB%B0%A9%EC%B6%9C]%EC%A0%84%EC%9B%90(AC)%20%EB%B3%80%ED%99%98%EC%9A%A9(WD-17),%20%ED%98%B8%EC%A3%BC/%EC%A4%91%EA%B5%AD%20-%ED%95%B4%EC%9A%8D%EC%9A%A9%20%EC%A0%84%EC%9B%90%20%EB%B3%80%ED%99%98%20%EC%95%84%EB%8B%B5%ED%84%B0%20%ED%92%8D%EC%9A%94%EB%A1%9C%EC%9A%B4%20%EC%82%B6%EC%9D%84%20%EC%9C%84%ED%95%9C%20%EB%8F%84%EC%9A%B0%EB%AF%B8%20%ED%92%8D%EC%9A%94%EB%A1%9C%EC%9A%B4%20%EC%82%B6%EC%9D%84%20[%ED%92%8D%EC%9A%94%EB%A1%9C%EC%9A%B4%20%EC%82%B6%EC%9D%84%20%EC%9C%84%ED%95%9C%20%EB%8F%84%EC%9A%B0%EB%AF%B8]&img=http://shopping.phinf.naver.net/main_7512457/7512457407.jpg HTTP/1.1\" 200 129\n",
      "10.0.2.2 - - [21/Aug/2016 18:28:00] \"GET /classify?name=[%ED%95%B4%EC%99%B8]%EB%8D%B8%20%EC%9D%B8%EC%8A%A4%20%ED%8C%8C%2014z%20%EB%B3%B4%EC%8A%A4%20%ED%8A%B8%EB%A1%9C%20v3360%20xps%2013%2013z%2013r%2013zr%20%EB%B0%A9%EC%88%98%20%EB%B0%A9%EC%A7%84%20%20%ED%82%A4%EB%B3%B4%EB%93%9C%20%ED%94%BC%EB%B6%80&img=http://shopping.phinf.naver.net/main_7553375/7553375237.jpg HTTP/1.1\" 200 105\n",
      "10.0.2.2 - - [21/Aug/2016 18:28:00] \"GET /classify?name=[%ED%95%B4%EC%99%B8]1pcs%20%EB%A7%8C%20%EC%82%BC%EC%84%B1%20np370r4e%20450r4v%20np530u4e%20np540u4e%20%EB%8B%A4%EC%83%89%20%ED%9C%B4%EB%8C%80%EC%9A%A9%20%ED%8D%BC%EC%8A%A4%EB%84%90&img=http://shopping.phinf.naver.net/main_7482039/7482039864.jpg HTTP/1.1\" 200 105\n"
     ]
    },
    {
     "name": "stdout",
     "output_type": "stream",
     "text": [
      "classify called\n",
      "classify called\n",
      "classify called\n",
      "classify called\n",
      "classify called\n",
      "classify called\n",
      "classify called\n",
      "classify called\n",
      "classify called\n",
      "classify called\n",
      "classify called\n",
      "classify called\n",
      "classify called\n",
      "classify called\n",
      "classify called\n",
      "classify called\n"
     ]
    },
    {
     "name": "stderr",
     "output_type": "stream",
     "text": [
      "10.0.2.2 - - [21/Aug/2016 18:28:00] \"GET /classify?name=PNA842%20%EB%8F%84%EB%82%9C%EB%B0%A9%EC%A7%80%20%EC%9E%90%EB%AC%BC%EC%87%A0(CR-24H)&img=http://shopping.phinf.naver.net/main_7800734/7800734446.jpg HTTP/1.1\" 200 117\n",
      "10.0.2.2 - - [21/Aug/2016 18:28:00] \"GET /classify?name=[%ED%95%B4%EC%99%B8]MSI%20S420%20%EA%B3%A0%EC%95%95%20yivnms0016d11%20S78-3300290-SG3%20ypwbgn034idg%20%EC%9D%BC&img=http://shopping.phinf.naver.net/main_7479315/7479315969.jpg HTTP/1.1\" 200 109\n",
      "10.0.2.2 - - [21/Aug/2016 18:28:00] \"GET /classify?name=[%ED%95%B4%EC%99%B8]%EA%B2%8C%EC%9D%B4%ED%8A%B8%EC%9B%A8%EC%9D%B4%20mc7321%20md2614%20md2419u%20md2601u%20md7309u%20%ED%8C%AC/Gateway%20mc&img=http://shopping.phinf.naver.net/main_7452122/7452122306.jpg HTTP/1.1\" 200 115\n",
      "10.0.2.2 - - [21/Aug/2016 18:28:00] \"GET /classify?name=[%ED%95%B4%EC%99%B8]%EC%9E%A0%EA%B8%88%202m%20%EB%8F%84%EB%82%9C%20%EB%B0%A9%EC%A7%80%20%EC%9E%A0%EA%B8%88%20chromiumplated/laptop%20lock%202%20meters%20anti-&img=http://shopping.phinf.naver.net/main_7451925/7451925315.jpg HTTP/1.1\" 200 79\n",
      "10.0.2.2 - - [21/Aug/2016 18:28:00] \"GET /classify?name=[%ED%95%B4%EC%99%B8]%EB%A0%88%EB%85%B8%EB%B2%84%20y730a%20y730g%20y730%20%ED%8C%AC%20Y710%20%ED%8C%AC/Lenovo%20y730a%20y730g%20y730%20fa&img=http://shopping.phinf.naver.net/main_7448683/7448683172.jpg HTTP/1.1\" 200 109\n",
      "10.0.2.2 - - [21/Aug/2016 18:28:00] \"GET /classify?name=[%ED%95%B4%EC%99%B8]Stirringly%20A410-I3%20I5%20A430%20-%20P60%20P61%20SW9%20%ED%8C%AC/Stirringly%20a4&img=http://shopping.phinf.naver.net/main_7579601/7579601029.jpg HTTP/1.1\" 200 62\n",
      "10.0.2.2 - - [21/Aug/2016 18:28:00] \"GET /classify?name=[%ED%95%B4%EC%99%B8]%EC%97%90%EC%9D%B4%EC%84%9C%205830tg%205%EC%B2%9C8%EB%B0%B130%ED%86%A4%205951g%208951g%205755%EA%B7%B8%EB%9E%A8%20V3-571g%20551g%20771g&img=http://shopping.phinf.naver.net/main_7499183/7499183494.jpg HTTP/1.1\" 200 65\n",
      "10.0.2.2 - - [21/Aug/2016 18:28:00] \"GET /classify?name=[%ED%95%B4%EC%99%B8]N121ew07%20n121i6-L02%20B121EW09%20hsd121pwh1/N121ew07%20n121i6-&img=http://shopping.phinf.naver.net/main_7469337/7469337544.jpg HTTP/1.1\" 200 105\n",
      "10.0.2.2 - - [21/Aug/2016 18:28:00] \"GET /classify?name=[%ED%95%B4%EC%99%B8]pc%EC%99%80%20mac%206.5%20%ED%94%BC%ED%8A%B8%20brenthaven%204100%20%20%20%EC%9E%A0%EA%B8%88%20%EC%9E%A5%EC%B9%98/brenthaven%204100%20n&img=http://shopping.phinf.naver.net/main_7580194/7580194537.jpg HTTP/1.1\" 200 124\n",
      "10.0.2.2 - - [21/Aug/2016 18:28:00] \"GET /classify?name=[%ED%95%B4%EC%99%B8]%EC%A7%88%EB%9D%BC%EC%9D%98%20dma-420a-ldm%20%20lcd%EB%A5%BC%20%ED%83%91%EC%9E%AC%20%EB%A7%88%EC%9A%B4%ED%8A%B8/%20zilla%20dma-420a-ldm%20notebo&img=http://shopping.phinf.naver.net/main_7519200/7519200713.jpg HTTP/1.1\" 200 105\n",
      "10.0.2.2 - - [21/Aug/2016 18:28:00] \"GET /classify?name=[%ED%95%B4%EC%99%B8]%EB%A0%88%EB%85%B8%EB%B2%84%20G400%20G410%20C460%2014001%2014002%20%EC%8A%A4%ED%81%AC%EB%A6%B0%20%EC%84%A0/Lenovo%20g400%20c460%20g4&img=http://shopping.phinf.naver.net/main_7579596/7579596490.jpg HTTP/1.1\" 200 109\n",
      "10.0.2.2 - - [21/Aug/2016 18:28:00] \"GET /classify?name=*Coms%20%EC%9D%8C%EC%9D%B4%EC%98%A8%20%EA%B3%B5%EA%B8%B0%EC%B2%AD%EC%A0%95%EA%B8%B0%20(USB%ED%83%80%EC%9E%85)[IT120]*%EB%83%84%EC%83%88%20%EB%B0%8F%20%EB%A8%BC%EC%A7%80%20%EC%A0%9C%EA%B1%B0%EC%97%90%20%EB%A7%A4%EC%9A%B0%20%ED%9A%A8%EA%B3%BC%EC%A0%81*%EC%A7%80%EC%86%8D%EC%A0%81%EC%9D%B8%20%EB%A7%88%EC%9D%B4%EB%84%88%EC%8A%A4%20%EC%9D%8C%EC%9D%B4%EC%98%A8%EC%9D%84%20%EB%B0%9C%EC%83%9D*&img=http://shopping.phinf.naver.net/main_6573602/6573602353.jpg HTTP/1.1\" 200 99\n",
      "10.0.2.2 - - [21/Aug/2016 18:28:00] \"GET /classify?name=[%ED%95%B4%EC%99%B8]?/%20Top%20%20Mini%20USB%20Vacuum%20Computers%20Laptop%20Keyboard%20Cleaner%20Vacuum%20Brush%20Blue&img=http://shopping.phinf.naver.net/main_7976536/7976536991.jpg HTTP/1.1\" 200 109\n",
      "10.0.2.2 - - [21/Aug/2016 18:28:00] \"GET /classify?name=[%ED%95%B4%EC%99%B8]%20MINI%20USB%20VACUUM%20KEYBOARD%20CLEANER%20for%20PC%20LAPTOP/?&img=http://shopping.phinf.naver.net/main_7747727/7747727883.jpg HTTP/1.1\" 200 109\n",
      "10.0.2.2 - - [21/Aug/2016 18:28:00] \"GET /classify?name=[4%%EC%A6%89%EC%8B%9C%ED%95%A0%EC%9D%B8%EC%BF%A0%ED%8F%B0][IT120]/%EC%9D%B8%EA%B8%B0%EB%8F%85%EC%A0%90/%20Coms%20%EC%9D%8C%EC%9D%B4%EC%98%A8%20%EA%B3%B5%EA%B8%B0%EC%B2%AD%EC%A0%95%EA%B8%B0%20%20USB%ED%98%95/%EC%8B%A4%EB%82%B4%EA%B3%B5%EA%B8%B0%EC%A0%95%ED%99%94%EA%B8%B0%EB%8A%A5%20/%EB%83%84%EC%83%88%EB%B0%8F%EB%A8%BC%EC%A7%80%EC%A0%9C%EA%B1%B0%EC%97%90%20%EC%9A%A9%EC%9D%B4&img=http://shopping.phinf.naver.net/main_6835363/6835363121.jpg HTTP/1.1\" 200 99\n",
      "10.0.2.2 - - [21/Aug/2016 18:28:00] \"GET /classify?name=%7B%EB%93%80%EB%A0%89%EC%8A%A4%7DUSB%EA%B0%80%EC%8A%B5%EA%B8%B0%20%ED%8A%B9%EA%B0%80%EB%AA%A8%EC%9D%8C%EC%A0%84/%EA%B0%9C%EC%84%B1%EB%A7%8C%EC%A0%90%20%EA%B0%80%EC%8A%B5%EA%B8%B0%20%EC%A0%84%EC%8B%9C&img=http://shopping.phinf.naver.net/main_6648979/6648979153.jpg HTTP/1.1\" 200 87\n"
     ]
    },
    {
     "name": "stdout",
     "output_type": "stream",
     "text": [
      "classify called\n",
      "classify called\n",
      "classify called\n",
      "classify called\n",
      "classify called\n",
      "classify called\n",
      "classify called\n",
      "classify called\n",
      "classify called\n",
      "classify called\n",
      "classify called\n",
      "classify called\n",
      "classify called\n",
      "classify called\n",
      "classify called\n",
      "classify called\n"
     ]
    },
    {
     "name": "stderr",
     "output_type": "stream",
     "text": [
      "10.0.2.2 - - [21/Aug/2016 18:28:00] \"GET /classify?name=[4%%EC%A6%89%EC%8B%9C%ED%95%A0%EC%9D%B8%EC%BF%A0%ED%8F%B0]MBC%EC%83%9D%EB%B0%A9%EC%86%A1%EC%A0%84%EA%B5%AD%EC%8B%9C%EB%8C%80%20%EB%B0%A9%EC%98%81%20%EC%98%A4%EC%A1%B4%EC%A0%9C%EB%A1%9C%20%EB%8B%A4%EC%9A%A9%EB%8F%84%20%ED%9C%B4%EB%8C%80%EC%9A%A9%EA%B3%B5%EA%B8%B0%EC%B2%AD%EC%A0%95%EA%B8%B0%20%ED%99%A9%EC%82%AC%20%EC%83%88%EC%A7%91%EC%A6%9D%ED%9B%84%EA%B5%B0%20%EC%A0%84%EC%9E%90%ED%8C%8C%EC%A0%9C%EA%B1%B0%20%EA%B3%B5%EA%B8%B0%EC%B2%AD%EC%A0%95%EA%B8%B0&img=http://shopping.phinf.naver.net/main_6340364/6340364992.1.jpg HTTP/1.1\" 200 99\n",
      "10.0.2.2 - - [21/Aug/2016 18:28:00] \"GET /classify?name=[6%%EC%A6%89%EC%8B%9C%ED%95%A0%EC%9D%B8%EC%BF%A0%ED%8F%B0][%ED%86%A0%ED%83%88%EB%A7%88%EC%BC%93]USB%20%EC%B2%AD%EC%86%8C%EA%B8%B0%20(%EB%AF%B8%EB%8B%88)&img=http://shopping.phinf.naver.net/main_7660314/7660314562.jpg HTTP/1.1\" 200 98\n",
      "10.0.2.2 - - [21/Aug/2016 18:28:00] \"GET /classify?name=[4%%EC%A6%89%EC%8B%9C%ED%95%A0%EC%9D%B8%EC%BF%A0%ED%8F%B0]%20U9421%20%20Coms%20USB%20%EB%A7%88%EC%82%AC%EC%A7%80%20%EB%B3%BC(Massage%20Ball)&img=http://shopping.phinf.naver.net/main_6756513/6756513265.jpg HTTP/1.1\" 200 98\n",
      "10.0.2.2 - - [21/Aug/2016 18:28:00] \"GET /classify?name=[%EB%8F%85%ED%8A%B9%EB%8B%B7%EC%BB%B4]%20%ED%8A%B8%EB%9E%9C%EB%94%94(TRANDY)%20%ED%82%A4%EB%B3%B4%EB%93%9C%20USB%20%EB%AF%B8%EB%8B%88%EC%B2%AD%EC%86%8C%EA%B8%B0&img=http://shopping.phinf.naver.net/main_6018035/6018035143.jpg HTTP/1.1\" 200 79\n",
      "10.0.2.2 - - [21/Aug/2016 18:28:00] \"GET /classify?name=[%ED%95%B4%EC%99%B8]Gold%2010%20portable%20usb%20vacuum%20cleaner%20keyboard%20brush%20cleaner%20cleaning%20brush%20s06374/%EB%B8%8C%EB%9F%AC%EC%8B%9C%20s06374%20%EC%B2%AD%EC%86%8C%20%EA%B8%88&img=http://shopping.phinf.naver.net/main_7815971/7815971044.jpg HTTP/1.1\" 200 109\n",
      "10.0.2.2 - - [21/Aug/2016 18:28:00] \"GET /classify?name=[%ED%95%B4%EC%99%B8]MINI%20USB%20VACUUM%20KEYBOARD%20CLEANER%20for%20PC%20LAPTOP,%20,Dropshipping%20Wholesale%2010%20*%203.4%20*%204%20CM/PC%EC%9D%98%20%EB%85%B8%ED%8A%B8%EB%B6%81%EC%9D%84&img=http://shopping.phinf.naver.net/main_7748745/7748745448.jpg HTTP/1.1\" 200 109\n",
      "10.0.2.2 - - [21/Aug/2016 18:28:00] \"GET /classify?name=[5%%20%EC%A6%89%EC%8B%9C%ED%95%A0%EC%9D%B8]%EC%A4%84%EB%84%98%EA%B8%B0%20%EC%9D%8C%EC%9D%B4%EC%98%A8%20%EA%B3%B5%EA%B8%B0%EC%B2%AD%EC%A0%95%EA%B8%B0%20%20USB%ED%98%95/%EC%8B%A4%EB%82%B4%EA%B3%B5%EA%B8%B0%EC%A0%95%ED%99%94%EA%B8%B0%EB%8A%A5%20%EB%83%84%EC%83%88%EC%A0%9C%EA%B1%B0%20COMS%EC%9A%A9%EC%82%B0%EC%B4%9D%ED%8C%90%EC%A0%90&img=http://shopping.phinf.naver.net/main_6768338/6768338738.jpg HTTP/1.1\" 200 99\n",
      "10.0.2.2 - - [21/Aug/2016 18:28:00] \"GET /classify?name=[%ED%95%B4%EC%99%B8]small%20%20cleaning%20brush%20mobile%20phone%20cleaning%20brush%20keyboard%20cleaning%20brush/%EC%9E%91%EC%9D%80%20%EC%84%B8%EC%B2%99%20%EB%B8%8C%EB%9F%AC%EC%8B%9C%20%ED%9C%B4%EB%8C%80%ED%8F%B0%20%EC%B2%AD%EC%86%8C%20%EB%B8%8C%EB%9F%AC%EC%8B%9C??&img=http://shopping.phinf.naver.net/main_7747818/7747818195.jpg HTTP/1.1\" 200 81\n",
      "10.0.2.2 - - [21/Aug/2016 18:28:00] \"GET /classify?name=[%ED%95%B4%EC%99%B8]Usb%20vacuum%20cleaner%20mini%20cleaner%20clean%20computer%20vacuum%20cleaner%20keyboard%20clean%20keyboard%20brush%20comp&img=http://shopping.phinf.naver.net/main_7815970/7815970973.jpg HTTP/1.1\" 200 109\n",
      "10.0.2.2 - - [21/Aug/2016 18:28:00] \"GET /classify?name=[DCGlobal]%20USB%20%EC%A7%84%EA%B3%B5%EC%B2%AD%EC%86%8C%EA%B8%B0/%EC%B2%AD%EC%86%8C%EC%9A%A9%ED%92%88/%EA%B2%A9&img=http://shopping.phinf.naver.net/main_7581602/7581602238.jpg HTTP/1.1\" 200 79\n",
      "10.0.2.2 - - [21/Aug/2016 18:28:00] \"GET /classify?name=[%EC%A1%B0%EC%9D%80%ED%86%A0%ED%94%BC%EC%95%84]%20GTS0073%20%EA%B3%A0%EA%B8%89%ED%98%95%20%ED%9A%8C%EC%A0%84%20%ED%83%88%EC%88%98%20%EA%B1%B8%EB%A0%88(30cm%2044cm)%20%EC%B2%AD%EC%86%8C%EA%B8%B0%20%EC%B2%AD%EC%86%8C%20%EB%A8%BC%EC%A7%80%EB%96%A8%EC%9D%B4&img=http://shopping.phinf.naver.net/main_7973354/7973354493.jpg HTTP/1.1\" 200 98\n",
      "10.0.2.2 - - [21/Aug/2016 18:28:00] \"GET /classify?name=[%ED%95%B4%EC%99%B8]Home%20supplies%20usb%20vacuum%20cleaner%20laptop%20keyboard%20vacuum%20cleaner%20mini%20cleaning%20brush%20olbl/%EA%B0%80%EC%A0%95%20%EC%9A%A9%ED%92%88%EC%9D%98&img=http://shopping.phinf.naver.net/main_7747807/7747807150.jpg HTTP/1.1\" 200 109\n",
      "10.0.2.2 - - [21/Aug/2016 18:28:00] \"GET /classify?name=[4%%EC%A6%89%EC%8B%9C%ED%95%A0%EC%9D%B8%EC%BF%A0%ED%8F%B0][%EB%B0%94%EC%9E%89%ED%8F%BC]Patuoxun%20Mini%20USB%20Bluetooth%20V4.0%20Class2%20Du&img=http://shopping.phinf.naver.net/main_7950707/7950707007.jpg HTTP/1.1\" 200 98\n"
     ]
    },
    {
     "name": "stdout",
     "output_type": "stream",
     "text": [
      "classify called\n",
      "classify called\n",
      "classify called\n",
      "classify called\n",
      "classify called\n",
      "classify called\n",
      "classify called\n",
      "classify called\n",
      "classify called\n",
      "classify called\n"
     ]
    },
    {
     "name": "stderr",
     "output_type": "stream",
     "text": [
      "10.0.2.2 - - [21/Aug/2016 18:28:00] \"GET /classify?name=[4%%EC%A6%89%EC%8B%9C%ED%95%A0%EC%9D%B8%EC%BF%A0%ED%8F%B0]T2N2%20USB%20Cooler%20PC%20Desktop%20Flexible%20Fan%20Laptop%20Cooling%20C1&img=http://shopping.phinf.naver.net/main_7968246/7968246924.jpg HTTP/1.1\" 200 89\n",
      "10.0.2.2 - - [21/Aug/2016 18:28:00] \"GET /classify?name=[%ED%95%B4%EC%99%B8]pc%20%20%202.0%20%EB%AC%B4%EB%A3%8C%20%20%ED%95%91%20%EC%97%AC%EC%84%B1%20%EB%82%A8%EC%84%B1%20%EA%B7%B8%EB%A0%88%EC%9D%B4%20%EB%B8%94%EB%9E%99%20%ED%95%91%ED%81%AC%20%EB%B8%94%EB%A3%A8%20%EC%B0%B8%EC%8B%A0%20%ED%95%AD%EB%AA%A9%EC%97%90%20%EB%8C%80%ED%95%9C%20%EC%98%A8%EC%97%B4%20%EC%9E%A5%EC%B9%98%20finger&img=http://shopping.phinf.naver.net/main_7583727/7583727022.jpg HTTP/1.1\" 200 96\n",
      "10.0.2.2 - - [21/Aug/2016 18:28:00] \"GET /classify?name=[%ED%95%B4%EC%99%B8]mini%20bluetooth%20speaker%20wireless%20rugby%20portable%20subwoofer%20loudspeakers%20qfx%20tf/aux/usb/fm%20music%20so&img=http://shopping.phinf.naver.net/main_8065404/8065404239.jpg HTTP/1.1\" 200 107\n",
      "10.0.2.2 - - [21/Aug/2016 18:28:00] \"GET /classify?name=[4%%EC%A6%89%EC%8B%9C%ED%95%A0%EC%9D%B8%EC%BF%A0%ED%8F%B0]%EB%8F%99%EC%96%91%EB%A7%A4%EC%A7%81%20GRA-C2062R%2015%EB%85%84%ED%98%95%20%EC%8B%A0%EB%AA%A8%EB%8D%B8%20(%EC%A0%84%ED%99%94%EA%B5%AC%EC%84%BC%EC%84%9C%EC%A0%81%EC%9A%A9)&img=http://shopping.phinf.naver.net/main_8258456/8258456057.jpg HTTP/1.1\" 200 99\n",
      "10.0.2.2 - - [21/Aug/2016 18:28:00] \"GET /classify?name=[4%%EC%A6%89%EC%8B%9C%ED%95%A0%EC%9D%B8%EC%BF%A0%ED%8F%B0]%ED%82%A4%EC%B9%9C%EB%A7%88%EC%8A%A4%ED%84%B0%20B%EC%84%B8%ED%8A%B8%20PKM-F301NC%20(%ED%9B%84%EB%93%9C+3%EA%B5%AC%EA%B0%80%EC%8A%A4%EB%A0%88%EC%9D%B8%EC%A7%80)&img=http://shopping.phinf.naver.net/main_8265491/8265491346.jpg HTTP/1.1\" 200 134\n",
      "10.0.2.2 - - [21/Aug/2016 18:28:00] \"GET /classify?name=RTR-R1000/%EC%9C%84%EB%93%9C%EC%9C%84%EB%93%9C/%EA%B0%80%EC%8A%A4%EB%A0%8C%EC%A7%80/%EB%A6%B0%EB%82%98%EC%9D%B4[RTR-R1000]&img=http://shopping.phinf.naver.net/main_8276460/8276460783.jpg HTTP/1.1\" 200 99\n",
      "10.0.2.2 - - [21/Aug/2016 18:28:00] \"GET /classify?name=LG%20%EA%B0%80%EC%8A%A4%EB%A0%88%EC%9D%B8%EC%A7%80%20HTA6281CN%20(2%EB%B2%84%EB%84%88)%20/%20%EB%8F%84%EC%8B%9C%EA%B0%80%EC%8A%A4%ED%98%95&img=http://shopping.phinf.naver.net/main_8265657/8265657901.jpg HTTP/1.1\" 200 99\n",
      "10.0.2.2 - - [21/Aug/2016 18:28:00] \"GET /classify?name=LG%EC%A0%84%EC%9E%90%20HTA6261A&img=http://shopping.phinf.naver.net/main_7549926/7549926215.20140311164144.jpg HTTP/1.1\" 200 71\n",
      "10.0.2.2 - - [21/Aug/2016 18:28:00] \"GET /classify?name=[4%%EC%A6%89%EC%8B%9C%ED%95%A0%EC%9D%B8%EC%BF%A0%ED%8F%B0]WST-0971%20%EC%98%A4%EB%B8%90%ED%86%A0%EC%8A%A4%ED%84%B0%EA%B8%B0%209L%20/%EB%AF%B8%EB%8B%88%EC%98%A4%EB%B8%90/%EC%A0%84%EA%B8%B0%EC%98%A4%EB%B8%90/%ED%86%A0%EC%8A%A4%ED%8A%B8%EC%98%A4%EB%B8%90/%ED%86%A0%EC%8A%A4%ED%84%B0%EC%98%A4%EB%B8%90/%ED%86%A0%EC%8A%A4%ED%8A%B8%EA%B8%B0/%ED%86%A0%EC%8A%A4%ED%84%B0%EA%B8%B0/%20%EC%9C%84%EC%A6%88%EC%9B%B0&img=http://shopping.phinf.naver.net/main_8204052/8204052423.jpg HTTP/1.1\" 200 105\n",
      "10.0.2.2 - - [21/Aug/2016 18:28:00] \"GET /classify?name=[4%%EC%A6%89%EC%8B%9C%ED%95%A0%EC%9D%B8%EC%BF%A0%ED%8F%B0]%EB%8F%99%EC%96%91%EB%A7%A4%EC%A7%81%20%EB%8F%99%EC%96%91%EB%A7%A4%EC%A7%81%20GRA-C2052R%2015%EB%85%84%ED%98%95%20%EC%8B%A0%EB%AA%A8%EB%8D%B8%20(%EC%A0%84%ED%99%94%EA%B5%AC%EC%95%88%EC%8B%AC%EC%84%BC%EC%84%9C)&img=http://shopping.phinf.naver.net/main_8258406/8258406011.jpg HTTP/1.1\" 200 99\n"
     ]
    },
    {
     "name": "stdout",
     "output_type": "stream",
     "text": [
      "classify called\n",
      "classify called\n",
      "classify called\n",
      "classify called\n",
      "classify called\n",
      "classify called\n",
      "classify called\n",
      "classify called\n",
      "classify called\n",
      "classify called\n",
      "classify called\n",
      "classify called\n",
      "classify called\n"
     ]
    },
    {
     "name": "stderr",
     "output_type": "stream",
     "text": [
      "10.0.2.2 - - [21/Aug/2016 18:28:00] \"GET /classify?name=[%EB%A6%B0%EB%82%98%EC%9D%B4/RTR-F3100]%20%EC%8A%A4%EB%A7%88%ED%8A%B8%EC%84%BC%EC%84%9C%20%EB%AC%B4%EC%88%98%EA%B7%B8%EB%A6%B4%20%EA%B0%80%EC%8A%A4%EB%A0%88%EC%9D%B8%EC%A7%80/3%EA%B5%AC/%EA%B7%B8%EB%A6%B4&img=http://shopping.phinf.naver.net/main_8280839/8280839693.jpg HTTP/1.1\" 200 99\n",
      "10.0.2.2 - - [21/Aug/2016 18:28:00] \"GET /classify?name=YB_%ED%83%80%EC%9E%84%EB%B0%B8%EB%B8%8C_[Time%20Valve]%20%EB%94%94%EC%A7%80%ED%84%B8%20%EA%B0%80%EC%8A%A4%EC%9E%90%EB%8F%99%EC%B0%A8%EB%8B%A8%EA%B8%B0%20HYBRID&img=http://shopping.phinf.naver.net/main_8271547/8271547563.jpg HTTP/1.1\" 200 72\n",
      "10.0.2.2 - - [21/Aug/2016 18:28:00] \"GET /classify?name=[4%%EC%A6%89%EC%8B%9C%ED%95%A0%EC%9D%B8%EC%BF%A0%ED%8F%B0]%EB%A6%B0%EB%82%98%EC%9D%B4%20RTR-R2100%202%EA%B5%AC+%EA%B7%B8%EB%A6%B4%20%EA%B0%80%EC%8A%A4%EB%A0%88%EC%9D%B8%EC%A7%80%20%EC%9D%B8%ED%88%AC%EB%93%9C%EB%A6%BC&img=http://shopping.phinf.naver.net/main_8257494/8257494089.jpg HTTP/1.1\" 200 99\n",
      "10.0.2.2 - - [21/Aug/2016 18:28:00] \"GET /classify?name=%EB%A6%B0%EB%82%98%EC%9D%B4%20%EC%8E%84%EC%9D%B8%EC%9B%B0%20SWR-201W&img=http://shopping.phinf.naver.net/main_1000170/1000170932.20120211204715.jpg HTTP/1.1\" 200 99\n",
      "10.0.2.2 - - [21/Aug/2016 18:28:00] \"GET /classify?name=LG%EC%A0%84%EC%9E%90%20TG-B740G&img=http://shopping.phinf.naver.net/main_4121266/4121266648.20120211205555.jpg HTTP/1.1\" 200 71\n",
      "10.0.2.2 - - [21/Aug/2016 18:28:00] \"GET /classify?name=[5%%EC%A6%89%EC%8B%9C%ED%95%A0%EC%9D%B8%EC%BF%A0%ED%8F%B0]%EC%8A%B9%EC%9B%90%20%ED%9C%B4%EB%8C%80%EC%9A%A9%20%EA%B0%80%EC%8A%A4%EC%BF%A0%EC%BB%A4%20IS-2000S%20%EC%99%B8%EB%B6%80%EB%B0%94%EB%9E%8C%EB%A7%89%EC%9D%B4(%EB%B6%84%EB%A6%AC%ED%98%95)&img=http://shopping.phinf.naver.net/main_8095324/8095324952.jpg HTTP/1.1\" 200 129\n",
      "10.0.2.2 - - [21/Aug/2016 18:28:00] \"GET /classify?name=LG%EC%A0%84%EC%9E%90%20HB6315A&img=http://shopping.phinf.naver.net/main_5564895/5564895421.20120211210818.jpg HTTP/1.1\" 200 71\n",
      "10.0.2.2 - - [21/Aug/2016 18:28:00] \"GET /classify?name=%EC%BF%A0%EC%8A%A4%ED%95%9C%ED%8A%B8%20KCT-TG75&img=http://shopping.phinf.naver.net/main_5474457/5474457237.20120211193312.jpg HTTP/1.1\" 200 99\n",
      "10.0.2.2 - - [21/Aug/2016 18:28:00] \"GET /classify?name=[%EC%B9%B4%EB%9D%BC%EC%96%80]%20%ED%95%98%EC%B8%A0%203%EA%B5%AC%20%EA%B0%80%EC%8A%A4%EC%BF%A1%ED%83%91&img=http://shopping.phinf.naver.net/main_5874752/5874752956.jpg HTTP/1.1\" 200 111\n",
      "10.0.2.2 - - [21/Aug/2016 18:28:00] \"GET /classify?name=RBR-S3201D%20%EB%A6%B0%EB%82%98%EC%9D%B4%20%EB%B9%8C%ED%8A%B8%EC%9D%B83%EA%B5%AC%20%EA%B0%80%EC%8A%A4%EC%BF%A1%ED%83%91/%EC%8A%A4%EB%A7%88%ED%8A%B8%EC%84%BC%EC%84%9C/%ED%95%98%EC%9D%B4%EC%BB%B7%EC%A0%81%EC%9A%A9/%EA%B0%80%EC%8A%A4%EB%A0%8C%EC%A7%80/%ED%99%94%EC%9E%AC%EC%98%88%EB%B0%A9/%EA%B0%80%EC%8A%A4%EB%A0%88%EC%9D%B8%EC%A7%80/(%EA%B5%AC%20RBR-314SD%EC%8B%A0%ED%98%95/RBR-306D%EC%8B%A0%ED%98%95)/%EB%AC%B4%EB%A3%8C%EB%B0%B0%EC%86%A1&img=http://shopping.phinf.naver.net/main_7427911/7427911815.1.jpg HTTP/1.1\" 200 99\n",
      "10.0.2.2 - - [21/Aug/2016 18:28:00] \"GET /classify?name=[4%%EC%A6%89%EC%8B%9C%ED%95%A0%EC%9D%B8%EC%BF%A0%ED%8F%B0]%EC%9D%B4%EC%83%B5%EC%9D%B4%EC%B5%9C%EC%84%A0%EC%9D%B4%EB%8B%A4%20/%EB%AC%B4%EB%A3%8C%EB%B0%B0%EC%86%A1/%ED%8C%8C%EC%84%B8%EC%BD%94%20%EB%B9%8C%ED%8A%B8%EC%9D%B8%203%EA%B5%AC%EA%B0%80%EC%8A%A4%EC%BF%A1%ED%83%91/PGR-B363RH/%20%E3%85%81%E3%85%81%20%20%EC%9D%B4%20%EC%83%B5%EC%9D%B4%20%EC%B5%9C%EC%84%A0%EC%9E%85%EB%8B%88%EB%8B%A4%20%E3%85%81%E3%85%81%E3%85%81&img=http://shopping.phinf.naver.net/main_7969547/7969547468.jpg HTTP/1.1\" 200 99\n",
      "10.0.2.2 - - [21/Aug/2016 18:28:00] \"GET /classify?name=[%EC%8B%A0%ED%95%9C%EC%B9%B4%EB%93%9C5%%ED%95%A0%EC%9D%B8~10%EC%9D%BC%EA%B9%8C%EC%A7%80][%EB%A1%AF%EB%8D%B0%EB%B0%B1%ED%99%94%EC%A0%90][%EC%B9%B4%ED%83%80]%EC%9B%90%EC%A0%81%EC%99%B8%EC%84%A0%20%20%EC%A0%84%EA%B8%B0%EB%A0%8C%EC%A7%80%203%EA%B5%AC%ED%99%95%EC%9E%A5%ED%98%95%205%EA%B5%AC%EB%A0%8C%EC%A7%80%20%EC%8A%AC%EB%9D%BC%EC%9D%B4%EB%93%9C%EB%B0%A9%EC%8B%9D%20(%EA%B5%AC%EB%A7%A4%EC%8B%9C%20%EC%8A%A4%ED%85%90%ED%94%84%EB%A0%88%EC%9E%84%EC%A6%9D%EC%A0%95)&img=http://shopping.phinf.naver.net/main_7530820/7530820664.jpg HTTP/1.1\" 200 72\n",
      "10.0.2.2 - - [21/Aug/2016 18:28:00] \"GET /classify?name=[4%%EC%A6%89%EC%8B%9C%ED%95%A0%EC%9D%B8%EC%BF%A0%ED%8F%B0]LG%EC%A0%84%EC%9E%90/HBA7431A/LG%20%EA%B0%80%EC%8A%A4%EC%BF%A1%ED%83%91%204%EA%B5%AC/%EC%82%AC%EC%97%85%EC%9E%90%EC%A0%84%EC%9A%A9%EC%B0%A9%ED%95%9C%EA%B0%80%EA%B2%A9&img=http://shopping.phinf.naver.net/main_7811138/7811138018.jpg HTTP/1.1\" 200 99\n",
      "10.0.2.2 - - [21/Aug/2016 18:28:00] \"GET /classify?name=[4%%EC%A6%89%EC%8B%9C%ED%95%A0%EC%9D%B8%EC%BF%A0%ED%8F%B0]%EC%9E%90%EB%8F%99%EC%84%B8%EC%B2%99%EB%B0%B0%EC%88%98%EA%B5%AC+%EB%94%94%EC%8A%A4%ED%8E%9C%EC%84%9C%20%EC%9D%BC%EC%B2%B4%ED%98%95/%EC%A3%BC%EB%B0%A9%EC%94%BD%ED%81%AC%EB%8C%80/%EC%8B%B1%ED%81%AC%EB%B3%BC/%EA%B1%B4%EC%A0%84%EC%A7%80%EB%B0%A9%EC%8B%9D/%EC%95%85%EC%B7%A8%EB%82%98%EB%8A%94%20%EC%A0%90%EB%B3%B4%EB%B0%B0%EC%88%98%EA%B5%AC%EA%B5%90%EC%B2%B4/%EA%B3%A0%EC%A0%95%ED%98%95&img=http://shopping.phinf.naver.net/main_5815105/5815105859.1.jpg HTTP/1.1\" 200 129\n"
     ]
    },
    {
     "name": "stdout",
     "output_type": "stream",
     "text": [
      "classify called\n",
      "classify called\n",
      "classify called\n",
      "classify called\n",
      "classify called\n",
      "classify called\n",
      "classify called\n",
      "classify called\n",
      "classify called\n",
      "classify called\n",
      "classify called\n",
      "classify called\n",
      "classify called\n",
      "classify called\n"
     ]
    },
    {
     "name": "stderr",
     "output_type": "stream",
     "text": [
      "10.0.2.2 - - [21/Aug/2016 18:28:00] \"GET /classify?name=[4%%EC%A6%89%EC%8B%9C%ED%95%A0%EC%9D%B8%EC%BF%A0%ED%8F%B0]%20%EB%A6%B0%EB%82%98%EC%9D%B4%20%20%EB%B9%8C%ED%8A%B8%EC%9D%B8%20%EA%B0%80%EC%8A%A4%EC%98%A4%EB%B8%90%EB%A0%8C%EC%A7%80/%EC%8A%A4%EB%A7%88%ED%8A%B8%EC%84%BC%EC%84%9C/RBO-618SE&img=http://shopping.phinf.naver.net/main_7915636/7915636338.jpg HTTP/1.1\" 200 99\n",
      "10.0.2.2 - - [21/Aug/2016 18:28:01] \"GET /classify?name=[4%%EC%A6%89%EC%8B%9C%ED%95%A0%EC%9D%B8%EC%BF%A0%ED%8F%B0]%EB%A6%B0%EB%82%98%EC%9D%B4%203%EB%B2%84%EB%84%88%20%EC%A0%84%EA%B5%AC%20%EC%8A%A4%EB%A7%88%ED%8A%B8%20%EC%84%BC%EC%84%9C%20%EB%B9%8C%ED%8A%B8%EC%9D%B8%20%EA%B0%80%EC%8A%A4%20%EC%BF%A1%ED%83%91%20RBR-S3201D%20(%EC%A0%84%20RBR-314SD%20%EC%83%81%ED%96%A5%EB%AA%A8%EB%8D%B8)%20-%202014%EB%85%84%20%EC%8B%A0%EC%A0%9C%ED%92%88&img=http://shopping.phinf.naver.net/main_7406812/7406812059.jpg HTTP/1.1\" 200 99\n",
      "10.0.2.2 - - [21/Aug/2016 18:28:01] \"GET /classify?name=[4%%EC%A6%89%EC%8B%9C%ED%95%A0%EC%9D%B8%EC%BF%A0%ED%8F%B0]LG%EC%A0%84%EC%9E%90%202%EA%B5%AC%20%EB%B9%8C%ED%8A%B8%EC%9D%B8%20%EC%BF%A1%ED%83%91%20%EA%B0%80%EC%8A%A4%EB%A0%8C%EC%A7%80%20HBA3232A&img=http://shopping.phinf.naver.net/main_8256152/8256152533.jpg HTTP/1.1\" 200 99\n",
      "10.0.2.2 - - [21/Aug/2016 18:28:01] \"GET /classify?name=[4%%EC%A6%89%EC%8B%9C%ED%95%A0%EC%9D%B8%EC%BF%A0%ED%8F%B0]%ED%95%98%EC%B8%A0%20%ED%95%98%EC%B8%A0/EC-363CTS/3%EA%B5%AC%ED%95%98%EC%9D%B4%EB%9D%BC%EC%9D%B4%ED%8A%B8/%EC%A0%84%EB%A0%A5%EC%A0%9C%EC%96%B4&img=http://shopping.phinf.naver.net/main_8237652/8237652580.jpg HTTP/1.1\" 200 111\n",
      "10.0.2.2 - - [21/Aug/2016 18:28:01] \"GET /classify?name=[4%%EC%A6%89%EC%8B%9C%ED%95%A0%EC%9D%B8%EC%BF%A0%ED%8F%B0]%ED%95%98%EC%B8%A0%20%ED%95%98%EC%B8%A0%20%EB%B9%8C%ED%8A%B8%EC%9D%B8%203%EA%B5%AC%20%EC%A0%84%EA%B8%B0%EC%BF%A1%ED%83%91%20EC-363CTS/%EC%A0%84%EB%A0%A5%EC%A0%9C%EC%96%B4%EA%B8%B0%EB%8A%A5&img=http://shopping.phinf.naver.net/main_8235150/8235150137.jpg HTTP/1.1\" 200 111\n",
      "10.0.2.2 - - [21/Aug/2016 18:28:01] \"GET /classify?name=[4%%EC%A6%89%EC%8B%9C%ED%95%A0%EC%9D%B8%EC%BF%A0%ED%8F%B0]%EB%A6%B0%EB%82%98%EC%9D%B4%20%EB%B9%8C%ED%8A%B8%EC%9D%B8%203%EA%B5%AC%20%EA%B0%80%EC%8A%A4%EC%BF%A1%ED%83%91%20RBR-P3401D/%EB%B8%94%EB%9E%99%EB%B2%94%EB%9E%91&img=http://shopping.phinf.naver.net/main_8223042/8223042066.jpg HTTP/1.1\" 200 99\n",
      "10.0.2.2 - - [21/Aug/2016 18:28:01] \"GET /classify?name=LG%20%EA%B0%80%EC%8A%A4%EC%BF%A1%ED%83%91%20HBA6331C%20%EB%AF%B8%EB%9F%AC%EB%B8%94%EB%9E%99%20%EB%B9%8C%ED%8A%B8%EC%9D%B8%20%EC%82%AC%EC%97%85%EC%9E%90%EC%A0%84%EC%9A%A9&img=http://shopping.phinf.naver.net/main_8223031/8223031753.jpg HTTP/1.1\" 200 99\n",
      "10.0.2.2 - - [21/Aug/2016 18:28:01] \"GET /classify?name=%ED%8C%8C%EC%84%B8%EC%BD%94%20%EB%B9%8C%ED%8A%B8%EC%9D%B8%20%EA%B0%80%EC%8A%A4%EB%A0%8C%EC%A7%803%EA%B5%AC%20PGC-B363RH[%EB%8B%A4%EC%9B%90%EC%8B%9C%EC%8A%A4]%EC%95%88%EC%A0%84%EC%84%BC%EC%84%9CFULL/3%EA%B5%AC%EA%B0%80%EC%8A%A4%EB%A0%8C%EC%A7%80/%EA%B0%80%EC%8A%A4%EC%BF%A1%ED%83%91/%EB%B0%B0%ED%84%B0%EB%A6%AC%ED%98%95/%EA%B5%AC%20PGC-B361RH/%EB%B9%8C%ED%8A%B8%EC%9D%B8%EA%B0%80%EC%8A%A4&img=http://shopping.phinf.naver.net/main_8217454/8217454690.jpg HTTP/1.1\" 200 99\n",
      "10.0.2.2 - - [21/Aug/2016 18:28:01] \"GET /classify?name=[4%%EC%A6%89%EC%8B%9C%ED%95%A0%EC%9D%B8%EC%BF%A0%ED%8F%B0]%EC%97%85%EC%86%8C%EC%9A%A9%EC%83%81%ED%99%94%EC%8B%9D%EC%86%8C%ED%98%95%EA%B0%80%EC%8A%A4%EA%B7%B8%EB%A6%B4%EB%9F%AC/RSB-922N/%EC%83%81%ED%99%94%EC%8B%9D&img=http://shopping.phinf.naver.net/main_7955087/7955087482.jpg HTTP/1.1\" 200 79\n",
      "10.0.2.2 - - [21/Aug/2016 18:28:01] \"GET /classify?name=%EA%B7%B9%EB%8F%99%EC%A3%BC%EA%B3%B5%20KD-TC-N60&img=http://shopping.phinf.naver.net/main_5735648/5735648416.20120211211655.jpg HTTP/1.1\" 200 99\n",
      "10.0.2.2 - - [21/Aug/2016 18:28:01] \"GET /classify?name=(%ED%95%9C%EC%A0%95%ED%8C%90)%20[%EC%A7%84%ED%9D%A5%EC%82%AC-B102734]%EA%B0%80%EC%8A%A4%EB%A0%8C%EC%A7%80%EB%B6%88%EB%AA%A8%EC%95%84/%EB%B6%88%EB%AA%A8%EC%95%84/165x165x40(mm)/(1EA)[%EB%8C%80%ED%95%9C%EB%AF%BC%EA%B5%AD%20%EB%8C%80%ED%91%9C%20%EA%B3%B5%EA%B5%AC%EB%AA%B0%20%ED%88%B4%EC%BC%93]&img=http://shopping.phinf.naver.net/main_8069293/8069293237.jpg HTTP/1.1\" 200 99\n",
      "10.0.2.2 - - [21/Aug/2016 18:28:01] \"GET /classify?name=DAM%20NA-450&img=http://shopping.phinf.naver.net/main_5590906/5590906455.20120211194607.jpg HTTP/1.1\" 200 109\n",
      "10.0.2.2 - - [21/Aug/2016 18:28:01] \"GET /classify?name=DAM%20GA-1503&img=http://shopping.phinf.naver.net/main_5590921/5590921848.20120211200509.jpg HTTP/1.1\" 200 80\n",
      "10.0.2.2 - - [21/Aug/2016 18:28:01] \"GET /classify?name=%EC%9A%B0%EC%84%B1/%EC%97%85%EC%86%8C%EC%9A%A9%20%EA%B0%84%ED%85%8D%EA%B8%B0%EB%A0%8C%EC%A7%80(%EC%96%91%EC%97%B4)&img=http://shopping.phinf.naver.net/main_7715619/7715619934.jpg HTTP/1.1\" 200 105\n",
      "10.0.2.2 - - [21/Aug/2016 18:28:01] \"GET /classify?name=%ED%98%B8%EC%8B%9C%EC%9E%90%ED%82%A4%20HRS-502&img=http://shopping.phinf.naver.net/main_5587338/5587338698.20120211194252.jpg HTTP/1.1\" 200 118\n"
     ]
    }
   ],
   "source": [
    "from bottle import route, run, template,request,get, post\n",
    "\n",
    "\n",
    "import  time\n",
    "from threading import  Condition\n",
    "_CONDITION = Condition()\n",
    "@route('/classify')\n",
    "def classify():\n",
    "    print \"classify called\"\n",
    "    img = request.GET.get('img','')\n",
    "    name = request.GET.get('name', '')\n",
    "    pred = clf.predict(vectorizer.transform([name]))[0]\n",
    "    return {'cate':cate_id_name_dict[pred]}\n",
    "\n",
    "\n",
    "run(host='0.0.0.0', port=8887)\n"
   ]
  },
  {
   "cell_type": "markdown",
   "metadata": {
    "collapsed": true
   },
   "source": [
    " * 추후 여기 docker 에서 뭔가 python package 설치할게 있으면 \n",
    " * /opt/conda/bin/pip2 install bottle 이런식으로 설치 가능"
   ]
  },
  {
   "cell_type": "code",
   "execution_count": null,
   "metadata": {
    "collapsed": true
   },
   "outputs": [],
   "source": []
  },
  {
   "cell_type": "code",
   "execution_count": null,
   "metadata": {
    "collapsed": true
   },
   "outputs": [],
   "source": []
  }
 ],
 "metadata": {
  "kernelspec": {
   "display_name": "Python 2",
   "language": "python",
   "name": "python2"
  },
  "language_info": {
   "codemirror_mode": {
    "name": "ipython",
    "version": 2
   },
   "file_extension": ".py",
   "mimetype": "text/x-python",
   "name": "python",
   "nbconvert_exporter": "python",
   "pygments_lexer": "ipython2",
   "version": "2.7.11"
  },
  "widgets": {
   "state": {},
   "version": "1.1.2"
  }
 },
 "nbformat": 4,
 "nbformat_minor": 0
}
